{
  "cells": [
    {
      "cell_type": "markdown",
      "metadata": {
        "id": "mQSH8X32_8s2"
      },
      "source": [
        "Distance between two keywords"
      ]
    },
    {
      "cell_type": "code",
      "execution_count": null,
      "metadata": {
        "colab": {
          "base_uri": "https://localhost:8080/",
          "height": 34
        },
        "id": "iKwo-kopPVea",
        "outputId": "9b1cd0ad-1403-4ac4-a589-f171691dce37"
      },
      "outputs": [
        {
          "name": "stdout",
          "output_type": "stream",
          "text": [
            "Proximity analysis complete. Results saved in keyword_proximity_results.csv.\n"
          ]
        },
        {
          "data": {
            "application/javascript": [
              "\n",
              "    async function download(id, filename, size) {\n",
              "      if (!google.colab.kernel.accessAllowed) {\n",
              "        return;\n",
              "      }\n",
              "      const div = document.createElement('div');\n",
              "      const label = document.createElement('label');\n",
              "      label.textContent = `Downloading \"${filename}\": `;\n",
              "      div.appendChild(label);\n",
              "      const progress = document.createElement('progress');\n",
              "      progress.max = size;\n",
              "      div.appendChild(progress);\n",
              "      document.body.appendChild(div);\n",
              "\n",
              "      const buffers = [];\n",
              "      let downloaded = 0;\n",
              "\n",
              "      const channel = await google.colab.kernel.comms.open(id);\n",
              "      // Send a message to notify the kernel that we're ready.\n",
              "      channel.send({})\n",
              "\n",
              "      for await (const message of channel.messages) {\n",
              "        // Send a message to notify the kernel that we're ready.\n",
              "        channel.send({})\n",
              "        if (message.buffers) {\n",
              "          for (const buffer of message.buffers) {\n",
              "            buffers.push(buffer);\n",
              "            downloaded += buffer.byteLength;\n",
              "            progress.value = downloaded;\n",
              "          }\n",
              "        }\n",
              "      }\n",
              "      const blob = new Blob(buffers, {type: 'application/binary'});\n",
              "      const a = document.createElement('a');\n",
              "      a.href = window.URL.createObjectURL(blob);\n",
              "      a.download = filename;\n",
              "      div.appendChild(a);\n",
              "      a.click();\n",
              "      div.remove();\n",
              "    }\n",
              "  "
            ],
            "text/plain": [
              "<IPython.core.display.Javascript object>"
            ]
          },
          "metadata": {},
          "output_type": "display_data"
        },
        {
          "data": {
            "application/javascript": [
              "download(\"download_6b2c9727-8f9a-4734-a0ca-7e7db21c1371\", \"keyword_proximity_results.csv\", 71091)"
            ],
            "text/plain": [
              "<IPython.core.display.Javascript object>"
            ]
          },
          "metadata": {},
          "output_type": "display_data"
        }
      ],
      "source": [
        "import re\n",
        "import csv\n",
        "import json\n",
        "from google.colab import files\n",
        "\n",
        "# Define the list of keywords to search for\n",
        "keywords = [\n",
        "     \"休斯顿和统会\", \"佛罗里达和统会\", \"侨联之友\", \"俄勒冈统促会\", \"全球华人反邪教联盟\",\n",
        "    \"全美中国和平统一促进联合会\", \"全美反独促统联盟\", \"关岛和统会\", \"凤凰城和统会\", \"加州中谷和统会\",\n",
        "    \"加州首府和统会\", \"北京同乡会\", \"北加州和统会\", \"北美统促联合总会\", \"华夏政略研究会\",\n",
        "    \"华盛顿中国和平统一促进会\", \"华盛顿华人社区联盟\", \"华盛顿州中国统一促进会\", \"南加台山联谊会\",\n",
        "    \"南加州中国和平统一促进会联盟\", \"南加州促统论坛\", \"南加华人华侨联合总会\", \"圣地亚戈统促会\",\n",
        "    \"大华府象屿联谊会\", \"大波士顿和统会\", \"大洛杉矶中国统一促进会\", \"大纽约学生学者联谊会\",\n",
        "    \"大纽约统促会\", \"大芝加哥中国和平统一促进会\", \"大费城亚裔狮子会\", \"大费城侨学界华人社团联席会议\",\n",
        "    \"大费城华侨公会\", \"大费城统促会\", \"大费城长乐公会\", \"宾州和统会\", \"宾州福建同乡会\",\n",
        "    \"德州和统会\", \"德拉瓦和统会\", \"拉斯维加斯和统会\", \"新泽西和统会\", \"旧金山湾区统促会\",\n",
        "    \"波士顿和统会\", \"波特兰统促会\", \"洛杉矶华埠大联盟\", \"溫州同乡会\", \"纽约至孝督亲公所\",\n",
        "    \"纽约华人社团联席会\", \"纽约和统会\", \"罗省中华会馆\", \"美东华人社团联合总会\",\n",
        "    \"美东南福建同乡会\", \"美中友好促进会\", \"美中友好協会\", \"美中和平友好促进会\",\n",
        "    \"美中经济文化发展促进会\", \"美京统促会\", \"美华友好促统会\", \"美华总商会\", \"美国香港总商会\",\n",
        "    \"美国中华妇女联合会\", \"美国中国总商会\", \"美国亚洲人商会\", \"美国亚裔社团联合总会\",\n",
        "    \"美国侨学界社团联席会\", \"美国华人华侨联合总会\", \"美华侨\", \"美国华人华侨联谊会\",\n",
        "    \"美国华人社团联会总会\", \"美国华人联盟\", \"美国华州中国统一促进会\", \"美国宾州中国和平统一促进会\",\n",
        "    \"美国广西侨胞联合会\", \"美国福州十邑同乡会\", \"美国福建会馆\", \"美国福建侨联总会\",\n",
        "    \"美国福建同乡会\", \"美國福建同鄉會\", \"美国福建妇女友好联盟总会\", \"美国福建猴屿联谊会\",\n",
        "    \"美国连江同乡会\", \"美国长乐社团联盟总会\", \"美国闽台总商会\", \"美國大唐會館\", \"美国大唐会馆\",\n",
        "    \"美國福建會館\", \"美國廣州同學聯合總會\", \"美国广州同学联合总会\", \"美國美中文化交流促進會\",\n",
        "    \"美国美中文化交流促进会\", \"美洲中国统一促进会联合总会\", \"美洲青年和统会\", \"美西和统会\",\n",
        "    \"芝加哥一中会\", \"芝加哥统促会\", \"西雅图统促会\", \"费城东安公所\", \"费城崇正会\",\n",
        "    \"费城福建同乡会\", \"费城福建同乡联合会\", \"费城鹤山公所\", \"达拉斯和统会\"\n",
        "]\n",
        "\n",
        "# Load the entire JSON file content as a string\n",
        "json_file_path = '/content/output.json'\n",
        "with open(json_file_path, 'r', encoding='utf-8') as file:\n",
        "    content = file.read()  # Read the whole file as a single string\n",
        "\n",
        "# Find positions of each keyword in the entire JSON content\n",
        "keyword_positions = {}\n",
        "for keyword in keywords:\n",
        "    matches = [m.start() for m in re.finditer(re.escape(keyword), content)]\n",
        "    if matches:\n",
        "        keyword_positions[keyword] = matches\n",
        "\n",
        "# Function to calculate word distance between two positions in the content\n",
        "def calculate_word_distance(pos1, pos2, text):\n",
        "    between_text = text[min(pos1, pos2):max(pos1, pos2)]\n",
        "    words_between = between_text.split()\n",
        "    return len(words_between)\n",
        "\n",
        "# Calculate distances between all pairs of keywords\n",
        "proximity_data = []\n",
        "for i, keyword1 in enumerate(keywords):\n",
        "    for j, keyword2 in enumerate(keywords):\n",
        "        if i < j and keyword1 in keyword_positions and keyword2 in keyword_positions:\n",
        "            for pos1 in keyword_positions[keyword1]:\n",
        "                for pos2 in keyword_positions[keyword2]:\n",
        "                    distance = calculate_word_distance(pos1, pos2, content)\n",
        "                    proximity_data.append([keyword1, keyword2, distance])\n",
        "\n",
        "# Save results to a CSV file\n",
        "csv_file_path = 'keyword_proximity_results.csv'\n",
        "with open(csv_file_path, mode='w', newline='', encoding='utf-8') as file:\n",
        "    writer = csv.writer(file)\n",
        "    writer.writerow([\"Keyword 1\", \"Keyword 2\", \"Word Distance\"])\n",
        "    for row in proximity_data:\n",
        "        writer.writerow(row)\n",
        "\n",
        "# Download the CSV file\n",
        "print(f\"Proximity analysis complete. Results saved in {csv_file_path}.\")\n",
        "files.download(csv_file_path)\n",
        "\n"
      ]
    },
    {
      "cell_type": "code",
      "execution_count": null,
      "metadata": {
        "colab": {
          "base_uri": "https://localhost:8080/",
          "height": 34
        },
        "id": "mIgph_ZVgZYw",
        "outputId": "a8e66b9c-ae5d-47c8-ccc8-2c7523b0b322"
      },
      "outputs": [
        {
          "name": "stdout",
          "output_type": "stream",
          "text": [
            "Proximity analysis complete. Results saved in keyword_proximity_results SECOND FILE.csv.\n"
          ]
        },
        {
          "data": {
            "application/javascript": [
              "\n",
              "    async function download(id, filename, size) {\n",
              "      if (!google.colab.kernel.accessAllowed) {\n",
              "        return;\n",
              "      }\n",
              "      const div = document.createElement('div');\n",
              "      const label = document.createElement('label');\n",
              "      label.textContent = `Downloading \"${filename}\": `;\n",
              "      div.appendChild(label);\n",
              "      const progress = document.createElement('progress');\n",
              "      progress.max = size;\n",
              "      div.appendChild(progress);\n",
              "      document.body.appendChild(div);\n",
              "\n",
              "      const buffers = [];\n",
              "      let downloaded = 0;\n",
              "\n",
              "      const channel = await google.colab.kernel.comms.open(id);\n",
              "      // Send a message to notify the kernel that we're ready.\n",
              "      channel.send({})\n",
              "\n",
              "      for await (const message of channel.messages) {\n",
              "        // Send a message to notify the kernel that we're ready.\n",
              "        channel.send({})\n",
              "        if (message.buffers) {\n",
              "          for (const buffer of message.buffers) {\n",
              "            buffers.push(buffer);\n",
              "            downloaded += buffer.byteLength;\n",
              "            progress.value = downloaded;\n",
              "          }\n",
              "        }\n",
              "      }\n",
              "      const blob = new Blob(buffers, {type: 'application/binary'});\n",
              "      const a = document.createElement('a');\n",
              "      a.href = window.URL.createObjectURL(blob);\n",
              "      a.download = filename;\n",
              "      div.appendChild(a);\n",
              "      a.click();\n",
              "      div.remove();\n",
              "    }\n",
              "  "
            ],
            "text/plain": [
              "<IPython.core.display.Javascript object>"
            ]
          },
          "metadata": {},
          "output_type": "display_data"
        },
        {
          "data": {
            "application/javascript": [
              "download(\"download_bb21dd60-36fe-4b91-91c0-ce1bebff34ea\", \"keyword_proximity_results SECOND FILE.csv\", 187937)"
            ],
            "text/plain": [
              "<IPython.core.display.Javascript object>"
            ]
          },
          "metadata": {},
          "output_type": "display_data"
        }
      ],
      "source": [
        "import re\n",
        "import csv\n",
        "import json\n",
        "from google.colab import files\n",
        "\n",
        "# Define the list of keywords to search for\n",
        "keywords = [\n",
        "     \"休斯顿和统会\", \"佛罗里达和统会\", \"侨联之友\", \"俄勒冈统促会\", \"全球华人反邪教联盟\",\n",
        "    \"全美中国和平统一促进联合会\", \"全美反独促统联盟\", \"关岛和统会\", \"凤凰城和统会\", \"加州中谷和统会\",\n",
        "    \"加州首府和统会\", \"北京同乡会\", \"北加州和统会\", \"北美统促联合总会\", \"华夏政略研究会\",\n",
        "    \"华盛顿中国和平统一促进会\", \"华盛顿华人社区联盟\", \"华盛顿州中国统一促进会\", \"南加台山联谊会\",\n",
        "    \"南加州中国和平统一促进会联盟\", \"南加州促统论坛\", \"南加华人华侨联合总会\", \"圣地亚戈统促会\",\n",
        "    \"大华府象屿联谊会\", \"大波士顿和统会\", \"大洛杉矶中国统一促进会\", \"大纽约学生学者联谊会\",\n",
        "    \"大纽约统促会\", \"大芝加哥中国和平统一促进会\", \"大费城亚裔狮子会\", \"大费城侨学界华人社团联席会议\",\n",
        "    \"大费城华侨公会\", \"大费城统促会\", \"大费城长乐公会\", \"宾州和统会\", \"宾州福建同乡会\",\n",
        "    \"德州和统会\", \"德拉瓦和统会\", \"拉斯维加斯和统会\", \"新泽西和统会\", \"旧金山湾区统促会\",\n",
        "    \"波士顿和统会\", \"波特兰统促会\", \"洛杉矶华埠大联盟\", \"溫州同乡会\", \"纽约至孝督亲公所\",\n",
        "    \"纽约华人社团联席会\", \"纽约和统会\", \"罗省中华会馆\", \"美东华人社团联合总会\",\n",
        "    \"美东南福建同乡会\", \"美中友好促进会\", \"美中友好協会\", \"美中和平友好促进会\",\n",
        "    \"美中经济文化发展促进会\", \"美京统促会\", \"美华友好促统会\", \"美华总商会\", \"美国香港总商会\",\n",
        "    \"美国中华妇女联合会\", \"美国中国总商会\", \"美国亚洲人商会\", \"美国亚裔社团联合总会\",\n",
        "    \"美国侨学界社团联席会\", \"美国华人华侨联合总会\", \"美华侨\", \"美国华人华侨联谊会\",\n",
        "    \"美国华人社团联会总会\", \"美国华人联盟\", \"美国华州中国统一促进会\", \"美国宾州中国和平统一促进会\",\n",
        "    \"美国广西侨胞联合会\", \"美国福州十邑同乡会\", \"美国福建会馆\", \"美国福建侨联总会\",\n",
        "    \"美国福建同乡会\", \"美國福建同鄉會\", \"美国福建妇女友好联盟总会\", \"美国福建猴屿联谊会\",\n",
        "    \"美国连江同乡会\", \"美国长乐社团联盟总会\", \"美国闽台总商会\", \"美國大唐會館\", \"美国大唐会馆\",\n",
        "    \"美國福建會館\", \"美國廣州同學聯合總會\", \"美国广州同学联合总会\", \"美國美中文化交流促進會\",\n",
        "    \"美国美中文化交流促进会\", \"美洲中国统一促进会联合总会\", \"美洲青年和统会\", \"美西和统会\",\n",
        "    \"芝加哥一中会\", \"芝加哥统促会\", \"西雅图统促会\", \"费城东安公所\", \"费城崇正会\",\n",
        "    \"费城福建同乡会\", \"费城福建同乡联合会\", \"费城鹤山公所\", \"达拉斯和统会\"\n",
        "]\n",
        "\n",
        "# Load the entire JSON file content as a string\n",
        "json_file_path = '/content/output.r2.json'\n",
        "with open(json_file_path, 'r', encoding='utf-8') as file:\n",
        "    content = file.read()  # Read the whole file as a single string\n",
        "\n",
        "# Find positions of each keyword in the entire JSON content\n",
        "keyword_positions = {}\n",
        "for keyword in keywords:\n",
        "    matches = [m.start() for m in re.finditer(re.escape(keyword), content)]\n",
        "    if matches:\n",
        "        keyword_positions[keyword] = matches\n",
        "\n",
        "# Function to calculate word distance between two positions in the content\n",
        "def calculate_word_distance(pos1, pos2, text):\n",
        "    between_text = text[min(pos1, pos2):max(pos1, pos2)]\n",
        "    words_between = between_text.split()\n",
        "    return len(words_between)\n",
        "\n",
        "# Calculate distances between all pairs of keywords\n",
        "proximity_data = []\n",
        "for i, keyword1 in enumerate(keywords):\n",
        "    for j, keyword2 in enumerate(keywords):\n",
        "        if i < j and keyword1 in keyword_positions and keyword2 in keyword_positions:\n",
        "            for pos1 in keyword_positions[keyword1]:\n",
        "                for pos2 in keyword_positions[keyword2]:\n",
        "                    distance = calculate_word_distance(pos1, pos2, content)\n",
        "                    proximity_data.append([keyword1, keyword2, distance])\n",
        "\n",
        "# Save results to a CSV file\n",
        "csv_file_path = 'keyword_proximity_results SECOND FILE.csv'\n",
        "with open(csv_file_path, mode='w', newline='', encoding='utf-8') as file:\n",
        "    writer = csv.writer(file)\n",
        "    writer.writerow([\"Keyword 1\", \"Keyword 2\", \"Word Distance\"])\n",
        "    for row in proximity_data:\n",
        "        writer.writerow(row)\n",
        "\n",
        "# Download the CSV file\n",
        "print(f\"Proximity analysis complete. Results saved in {csv_file_path}.\")\n",
        "files.download(csv_file_path)\n"
      ]
    },
    {
      "cell_type": "markdown",
      "metadata": {
        "id": "1lRFXxPWcLsE"
      },
      "source": [
        "NEW VERSION OF SCRAPING"
      ]
    },
    {
      "cell_type": "code",
      "execution_count": null,
      "metadata": {
        "colab": {
          "base_uri": "https://localhost:8080/"
        },
        "id": "eztImT-hcKiY",
        "outputId": "1ee5d356-ca62-4216-b924-1fc2ae706f11"
      },
      "outputs": [
        {
          "output_type": "stream",
          "name": "stdout",
          "text": [
            "Requirement already satisfied: PyPDF2 in /usr/local/lib/python3.10/dist-packages (3.0.1)\n",
            "Requirement already satisfied: python-docx in /usr/local/lib/python3.10/dist-packages (1.1.2)\n",
            "Requirement already satisfied: lxml>=3.1.0 in /usr/local/lib/python3.10/dist-packages (from python-docx) (4.9.4)\n",
            "Requirement already satisfied: typing-extensions>=4.9.0 in /usr/local/lib/python3.10/dist-packages (from python-docx) (4.12.2)\n"
          ]
        }
      ],
      "source": [
        "!pip install PyPDF2\n",
        "!pip install python-docx"
      ]
    },
    {
      "cell_type": "markdown",
      "metadata": {
        "id": "R_kja3_hlnrd"
      },
      "source": [
        "**This code works**"
      ]
    },
    {
      "cell_type": "markdown",
      "metadata": {
        "id": "VFOFy9bruVuZ"
      },
      "source": [
        "**www.zhongguotongcuhui.org.cn**"
      ]
    },
    {
      "cell_type": "code",
      "execution_count": null,
      "metadata": {
        "colab": {
          "base_uri": "https://localhost:8080/"
        },
        "id": "7JxSNikJhkiX",
        "outputId": "b31a3fba-db6e-45f5-f357-145342fe1250"
      },
      "outputs": [
        {
          "name": "stdout",
          "output_type": "stream",
          "text": [
            "Successfully fetched the main page!\n"
          ]
        },
        {
          "name": "stderr",
          "output_type": "stream",
          "text": [
            "<ipython-input-4-f05dcfceb984>:47: DeprecationWarning: ssl.OP_NO_SSL*/ssl.OP_NO_TLS* options are deprecated\n",
            "  context.options |= ssl.OP_NO_TLSv1 | ssl.OP_NO_TLSv1_1  # Force TLSv1.2 or higher\n"
          ]
        },
        {
          "name": "stdout",
          "output_type": "stream",
          "text": [
            "Downloaded and saved HTML: http://www.zhongguotongcuhui.org.cn/\n",
            "Downloaded and saved HTML: http://www.zhongguotongcuhui.org.cn/bhjs/\n",
            "Downloaded and saved HTML: http://www.zhongguotongcuhui.org.cn/hnyw/\n",
            "Downloaded and saved HTML: http://www.zhongguotongcuhui.org.cn/hnwtchdt/\n",
            "Downloaded and saved HTML: http://www.zhongguotongcuhui.org.cn/tylt/\n",
            "Downloaded and saved HTML: http://www.zhongguotongcuhui.org.cn/tyzsgzh/\n",
            "Downloaded and saved HTML: http://www.zhongguotongcuhui.org.cn/sp/\n",
            "Downloaded and saved HTML: http://www.zhongguotongcuhui.org.cn/szyw/202410/t20241028_12659035.html\n",
            "Downloaded and saved HTML: http://www.zhongguotongcuhui.org.cn/szyw/202410/t20241027_12658996.html\n",
            "Downloaded and saved HTML: http://www.zhongguotongcuhui.org.cn/szyw/202410/t20241025_12658671.html\n",
            "Downloaded and saved HTML: http://www.zhongguotongcuhui.org.cn/hnyw/202410/t20241018_12657221.html\n",
            "Downloaded and saved HTML: http://www.zhongguotongcuhui.org.cn/hnyw/202410/t20241018_12657221.html\n"
          ]
        },
        {
          "name": "stderr",
          "output_type": "stream",
          "text": [
            "/usr/local/lib/python3.10/dist-packages/urllib3/connectionpool.py:1099: InsecureRequestWarning: Unverified HTTPS request is being made to host 'mp.weixin.qq.com'. Adding certificate verification is strongly advised. See: https://urllib3.readthedocs.io/en/latest/advanced-usage.html#tls-warnings\n",
            "  warnings.warn(\n"
          ]
        },
        {
          "name": "stdout",
          "output_type": "stream",
          "text": [
            "Downloaded and saved HTML: https://mp.weixin.qq.com/s/3skWX9lOWGId1bpDkjwUlg\n"
          ]
        },
        {
          "name": "stderr",
          "output_type": "stream",
          "text": [
            "/usr/local/lib/python3.10/dist-packages/urllib3/connectionpool.py:1099: InsecureRequestWarning: Unverified HTTPS request is being made to host 'mp.weixin.qq.com'. Adding certificate verification is strongly advised. See: https://urllib3.readthedocs.io/en/latest/advanced-usage.html#tls-warnings\n",
            "  warnings.warn(\n",
            "/usr/local/lib/python3.10/dist-packages/urllib3/connectionpool.py:1099: InsecureRequestWarning: Unverified HTTPS request is being made to host 'mp.weixin.qq.com'. Adding certificate verification is strongly advised. See: https://urllib3.readthedocs.io/en/latest/advanced-usage.html#tls-warnings\n",
            "  warnings.warn(\n"
          ]
        },
        {
          "name": "stdout",
          "output_type": "stream",
          "text": [
            "Downloaded and saved HTML: https://mp.weixin.qq.com/s/3skWX9lOWGId1bpDkjwUlg\n"
          ]
        },
        {
          "name": "stderr",
          "output_type": "stream",
          "text": [
            "/usr/local/lib/python3.10/dist-packages/urllib3/connectionpool.py:1099: InsecureRequestWarning: Unverified HTTPS request is being made to host 'mp.weixin.qq.com'. Adding certificate verification is strongly advised. See: https://urllib3.readthedocs.io/en/latest/advanced-usage.html#tls-warnings\n",
            "  warnings.warn(\n"
          ]
        },
        {
          "name": "stdout",
          "output_type": "stream",
          "text": [
            "Downloaded and saved HTML: https://mp.weixin.qq.com/s/h2jmEq0JEBNGtcx_AtkTbA\n"
          ]
        },
        {
          "name": "stderr",
          "output_type": "stream",
          "text": [
            "/usr/local/lib/python3.10/dist-packages/urllib3/connectionpool.py:1099: InsecureRequestWarning: Unverified HTTPS request is being made to host 'mp.weixin.qq.com'. Adding certificate verification is strongly advised. See: https://urllib3.readthedocs.io/en/latest/advanced-usage.html#tls-warnings\n",
            "  warnings.warn(\n"
          ]
        },
        {
          "name": "stdout",
          "output_type": "stream",
          "text": [
            "Downloaded and saved HTML: https://mp.weixin.qq.com/s/h2jmEq0JEBNGtcx_AtkTbA\n",
            "Downloaded and saved HTML: http://www.zhongguotongcuhui.org.cn/hnyw/\n",
            "Downloaded and saved HTML: http://www.zhongguotongcuhui.org.cn/hnyw/202410/t20241023_12658144.html\n",
            "Downloaded and saved HTML: http://www.zhongguotongcuhui.org.cn/hnyw/202410/t20241018_12657221.html\n",
            "Downloaded and saved HTML: http://www.zhongguotongcuhui.org.cn/hnyw/202410/t20241012_12655705.html\n",
            "Downloaded and saved HTML: http://www.zhongguotongcuhui.org.cn/hnyw/202409/t20240919_12651256.html\n"
          ]
        },
        {
          "name": "stderr",
          "output_type": "stream",
          "text": [
            "/usr/local/lib/python3.10/dist-packages/urllib3/connectionpool.py:1099: InsecureRequestWarning: Unverified HTTPS request is being made to host 'mp.weixin.qq.com'. Adding certificate verification is strongly advised. See: https://urllib3.readthedocs.io/en/latest/advanced-usage.html#tls-warnings\n",
            "  warnings.warn(\n"
          ]
        },
        {
          "name": "stdout",
          "output_type": "stream",
          "text": [
            "Downloaded and saved HTML: https://mp.weixin.qq.com/s/3skWX9lOWGId1bpDkjwUlg\n",
            "Downloaded and saved HTML: http://www.zhongguotongcuhui.org.cn/hnyw/202409/t20240904_12647552.html\n"
          ]
        },
        {
          "name": "stderr",
          "output_type": "stream",
          "text": [
            "/usr/local/lib/python3.10/dist-packages/urllib3/connectionpool.py:1099: InsecureRequestWarning: Unverified HTTPS request is being made to host 'mp.weixin.qq.com'. Adding certificate verification is strongly advised. See: https://urllib3.readthedocs.io/en/latest/advanced-usage.html#tls-warnings\n",
            "  warnings.warn(\n"
          ]
        },
        {
          "name": "stdout",
          "output_type": "stream",
          "text": [
            "Downloaded and saved HTML: https://mp.weixin.qq.com/s/h2jmEq0JEBNGtcx_AtkTbA\n",
            "Downloaded and saved HTML: http://www.huangpu.org.cn/zt/xzcxsd/\n",
            "Downloaded and saved HTML: http://www.zhongguotongcuhui.org.cn/tyzsgzh/\n",
            "Downloaded and extracted DOCX: http://www.zhongguotongcuhui.org.cn/tyzsgzh/202409/P020240905534324973571.docx\n",
            "Downloaded and extracted DOCX: http://www.zhongguotongcuhui.org.cn/tyzsgzh/202407/P020240701345581350263.docx\n",
            "Downloaded and extracted DOCX: http://www.zhongguotongcuhui.org.cn/tyzsgzh/202404/P020240428326299669794.docx\n",
            "Downloaded and extracted DOCX: http://www.zhongguotongcuhui.org.cn/tyzsgzh/202404/P020240407566930195457.docx\n",
            "Downloaded and extracted DOCX: http://www.zhongguotongcuhui.org.cn/tyzsgzh/202312/P020231228361003676053.docx\n",
            "Downloaded and extracted DOCX: http://www.zhongguotongcuhui.org.cn/tyzsgzh/202311/P020231103575040294741.docx\n",
            "Downloaded and extracted DOCX: http://www.zhongguotongcuhui.org.cn/tyzsgzh/202309/P020230907581102764576.docx\n",
            "Downloaded and extracted DOCX: http://www.zhongguotongcuhui.org.cn/tyzsgzh/202307/P020230704396501947904.docx\n",
            "Downloaded and saved HTML: http://www.zhongguotongcuhui.org.cn/hnwtchdt/\n",
            "Downloaded and saved HTML: http://www.zhongguotongcuhui.org.cn/hnwtchdt/202409/t20240929_12653364.html\n",
            "Downloaded and saved HTML: http://www.zhongguotongcuhui.org.cn/hnwtchdt/202409/t20240929_12653364.html\n",
            "Downloaded and saved HTML: http://www.zhongguotongcuhui.org.cn/hnwtchdt/202409/t20240929_12653364.html\n",
            "Downloaded and saved HTML: http://www.zhongguotongcuhui.org.cn/hnwtchdt/202409/t20240925_12652408.html\n",
            "Downloaded and saved HTML: http://www.zhongguotongcuhui.org.cn/hnwtchdt/202409/t20240925_12652408.html\n",
            "Downloaded and saved HTML: http://www.zhongguotongcuhui.org.cn/hnwtchdt/202409/t20240925_12652408.html\n",
            "Downloaded and saved HTML: http://www.zhongguotongcuhui.org.cn/bhjs/201210/t20121011_3169352.html\n",
            "Downloaded and saved HTML: http://www.zhongguotongcuhui.org.cn/bhjs/201210/t20121011_3169351.html\n",
            "Downloaded and saved HTML: http://www.zhongguotongcuhui.org.cn/bhjs/201210/t20121011_3169350.html\n",
            "Downloaded and saved HTML: http://www.zhongguotongcuhui.org.cn/bhjs/201210/t20121011_3169349.html\n",
            "Downloaded and saved HTML: http://www.zhongguotongcuhui.org.cn/bhjs/\n",
            "Downloaded and saved HTML: http://www.zhongguotongcuhui.org.cn/bhjs/201612/t20161214_11652526.html\n",
            "Downloaded and saved HTML: http://www.zhongguotongcuhui.org.cn/ggl/201809/t20180921_12062976.html\n",
            "Downloaded and saved HTML: http://www.zhongguotongcuhui.org.cn/tylt/\n",
            "Downloaded and extracted PDF: http://www.zhongguotongcuhui.org.cn/tylt/202404/202409/P020240911506551228015.pdf\n",
            "Downloaded and saved HTML: http://www.zhongguotongcuhui.org.cn/tylt/\n",
            "Downloaded and extracted PDF: http://www.zhongguotongcuhui.org.cn/tylt/202404/202409/P020240911506551228015.pdf\n",
            "Downloaded and saved HTML: http://www.zhongguotongcuhui.org.cn/tylt/202404/202409/t20240911_12649240.html\n",
            "Downloaded and saved HTML: http://www.zhongguotongcuhui.org.cn/tylt/202404/202409/t20240911_12649239.html\n",
            "Downloaded and saved HTML: http://www.zhongguotongcuhui.org.cn/tylt/202404/202409/t20240911_12649238.html\n",
            "Downloaded and saved HTML: http://www.zhongguotongcuhui.org.cn/tylt/\n",
            "Downloaded and saved HTML: http://www.zhongguotongcuhui.org.cn/tylt/202403/\n",
            "Downloaded and saved HTML: http://www.zhongguotongcuhui.org.cn/tylt/202402/\n",
            "Downloaded and saved HTML: http://www.zhongguotongcuhui.org.cn/tylt/202401/\n",
            "Downloaded and saved HTML: http://www.zhongguotongcuhui.org.cn/tylt/202306/\n",
            "Downloaded and saved HTML: http://www.zhongguotongcuhui.org.cn/tylt/202305/\n",
            "Downloaded and saved HTML: http://www.zhongguotongcuhui.org.cn/tylt/202304/\n",
            "Downloaded and saved HTML: http://www.zhongguotongcuhui.org.cn/tylt/202303/\n",
            "Downloaded and saved HTML: http://www.zhongguotongcuhui.org.cn/tylt/\n",
            "Downloaded and saved HTML: http://www.zhongguotongcuhui.org.cn/zt/\n",
            "Downloaded and saved HTML: http://www.zhongguotongcuhui.org.cn/zt/hzhy/\n",
            "Downloaded and saved HTML: http://www.zhongguotongcuhui.org.cn/zt/tydh/\n",
            "Downloaded and saved HTML: http://www.huangpu.org.cn/zt/jdbn/\n",
            "Downloaded and saved HTML: http://www.zhongguotongcuhui.org.cn/zt/tch2021/\n",
            "Downloaded and saved HTML: http://www.zhongguotongcuhui.org.cn/sp/\n",
            "Downloaded and saved HTML: http://www.zhongguotongcuhui.org.cn/sp/202410/t20241018_12657223.html\n",
            "Downloaded and saved HTML: http://www.zhongguotongcuhui.org.cn/sp/202410/t20241018_12657223.html\n",
            "Downloaded and saved HTML: http://www.zhongguotongcuhui.org.cn/sp/202410/t20241018_12657220.html\n",
            "Downloaded and saved HTML: http://www.zhongguotongcuhui.org.cn/sp/202410/t20241018_12657220.html\n",
            "Downloaded and saved HTML: http://www.zhongguotongcuhui.org.cn/sp/202409/t20240925_12652413.html\n",
            "Downloaded and saved HTML: http://www.zhongguotongcuhui.org.cn/sp/202409/t20240925_12652413.html\n",
            "Downloaded and saved HTML: http://www.zhongguotongcuhui.org.cn/xgxw/\n",
            "Downloaded and saved HTML: http://www.zhongguotongcuhui.org.cn/xgxw/202410/t20241027_12658972.html\n",
            "Downloaded and saved HTML: http://www.zhongguotongcuhui.org.cn/xgxw/202410/t20241025_12658625.html\n",
            "Downloaded and saved HTML: http://www.zhongguotongcuhui.org.cn/xgxw/202410/t20241025_12658622.html\n",
            "Downloaded and saved HTML: http://www.zhongguotongcuhui.org.cn/xgxw/202410/t20241025_12658619.html\n",
            "Downloaded and saved HTML: http://www.zhongguotongcuhui.org.cn/xgxw/202410/t20241023_12658266.html\n",
            "Downloaded and saved HTML: http://www.zhongguotongcuhui.org.cn/xgxw/202410/t20241023_12658227.html\n",
            "Downloaded and saved HTML: http://www.zhongguotongcuhui.org.cn/xgxw/202410/t20241022_12658062.html\n",
            "Downloaded and saved HTML: http://www.zhongguotongcuhui.org.cn/xgxw/202410/t20241022_12658054.html\n",
            "Downloaded and saved HTML: http://www.zhongguotongcuhui.org.cn/xgxw/202410/t20241022_12657954.html\n",
            "Downloaded and saved HTML: http://www.zhongguotongcuhui.org.cn/xgxw/202410/t20241023_12658266.html\n",
            "Downloaded and saved HTML: http://www.zhongguotongcuhui.org.cn/xgxw/202410/t20241023_12658266.html\n",
            "Downloaded and saved HTML: http://www.zhongguotongcuhui.org.cn/xgxw/202410/t20241023_12658266.html\n",
            "Downloaded and saved HTML: http://www.zhongguotongcuhui.org.cn/xgxw/202410/t20241022_12658054.html\n",
            "Downloaded and saved HTML: http://www.zhongguotongcuhui.org.cn/xgxw/202410/t20241022_12658054.html\n",
            "Downloaded and saved HTML: http://www.zhongguotongcuhui.org.cn/xgxw/202410/t20241022_12658054.html\n",
            "Downloaded and saved HTML: http://eng.taiwan.cn/cross_strait_exchanges/\n",
            "Downloaded and saved HTML: http://www.zhongguotongcuhui.org.cn/en/202404/t20240414_12613183.html\n",
            "Downloaded and saved HTML: http://www.zhongguotongcuhui.org.cn/en/202404/t20240414_12613181.html\n",
            "Downloaded and saved HTML: http://www.zhongguotongcuhui.org.cn/en/202404/t20240414_12613179.html\n",
            "Downloaded and saved HTML: http://www.zhongguotongcuhui.org.cn/en/202404/t20240412_12612965.html\n",
            "Downloaded and saved HTML: http://www.zhongguotongcuhui.org.cn/en/202404/t20240412_12612963.html\n",
            "Downloaded and saved HTML: http://www.zhongguotongcuhui.org.cn/hxsp/\n",
            "Downloaded and saved HTML: http://www.zhongguotongcuhui.org.cn/hxsp/202410/t20241027_12658998.html\n",
            "Downloaded and saved HTML: http://www.zhongguotongcuhui.org.cn/hxsp/202410/t20241024_12658466.html\n",
            "Downloaded and saved HTML: http://www.zhongguotongcuhui.org.cn/hxsp/202410/t20241024_12658433.html\n",
            "Downloaded and saved HTML: http://www.zhongguotongcuhui.org.cn/hxsp/202410/t20241024_12658429.html\n",
            "Downloaded and saved HTML: http://www.zhongguotongcuhui.org.cn/hxsp/202410/t20241015_12656437.html\n",
            "Downloaded and saved HTML: http://www.zhongguotongcuhui.org.cn/hxsp/202410/t20241014_12656160.html\n",
            "Downloaded and saved HTML: http://www.zhongguotongcuhui.org.cn/hxsp/202410/t20241012_12655777.html\n",
            "Downloaded and saved HTML: http://www.zhongguotongcuhui.org.cn/hxsp/202410/t20241012_12655574.html\n",
            "Downloaded and saved HTML: http://www.zhongguotongcuhui.org.cn/hxsp/202410/t20241012_12655573.html\n",
            "Downloaded and saved HTML: http://www.zhongguotongcuhui.org.cn/hxsp/202410/t20241024_12658466.html\n",
            "Downloaded and saved HTML: http://www.zhongguotongcuhui.org.cn/hxsp/202410/t20241024_12658466.html\n",
            "Downloaded and saved HTML: http://www.zhongguotongcuhui.org.cn/lsgw/\n",
            "Downloaded and saved HTML: http://www.zhongguotongcuhui.org.cn/lsgw/202202/t20220208_12406156.html\n",
            "Downloaded and saved HTML: http://www.zhongguotongcuhui.org.cn/lsgw/201712/t20171225_11883116.html\n",
            "Downloaded and saved HTML: http://www.zhongguotongcuhui.org.cn/lsgw/201612/t20161221_11659532.html\n",
            "Downloaded and saved HTML: http://www.zhongguotongcuhui.org.cn/lsgw/201612/t20161221_11659531.html\n",
            "Downloaded and saved HTML: http://www.zhongguotongcuhui.org.cn/lsgw/201612/t20161221_11659508.html\n",
            "Downloaded and saved HTML: http://www.zhongguotongcuhui.org.cn/hdtp/\n",
            "Downloaded and saved HTML: http://www.zhongguotongcuhui.org.cn/hnyw/202410/t20241018_12657221.html\n",
            "Downloaded and saved HTML: http://www.zhongguotongcuhui.org.cn/hnyw/202410/t20241018_12657221.html\n"
          ]
        },
        {
          "name": "stderr",
          "output_type": "stream",
          "text": [
            "/usr/local/lib/python3.10/dist-packages/urllib3/connectionpool.py:1099: InsecureRequestWarning: Unverified HTTPS request is being made to host 'mp.weixin.qq.com'. Adding certificate verification is strongly advised. See: https://urllib3.readthedocs.io/en/latest/advanced-usage.html#tls-warnings\n",
            "  warnings.warn(\n"
          ]
        },
        {
          "name": "stdout",
          "output_type": "stream",
          "text": [
            "Downloaded and saved HTML: https://mp.weixin.qq.com/s/3skWX9lOWGId1bpDkjwUlg\n"
          ]
        },
        {
          "name": "stderr",
          "output_type": "stream",
          "text": [
            "/usr/local/lib/python3.10/dist-packages/urllib3/connectionpool.py:1099: InsecureRequestWarning: Unverified HTTPS request is being made to host 'mp.weixin.qq.com'. Adding certificate verification is strongly advised. See: https://urllib3.readthedocs.io/en/latest/advanced-usage.html#tls-warnings\n",
            "  warnings.warn(\n"
          ]
        },
        {
          "name": "stdout",
          "output_type": "stream",
          "text": [
            "Downloaded and saved HTML: https://mp.weixin.qq.com/s/3skWX9lOWGId1bpDkjwUlg\n"
          ]
        },
        {
          "name": "stderr",
          "output_type": "stream",
          "text": [
            "/usr/local/lib/python3.10/dist-packages/urllib3/connectionpool.py:1099: InsecureRequestWarning: Unverified HTTPS request is being made to host 'mp.weixin.qq.com'. Adding certificate verification is strongly advised. See: https://urllib3.readthedocs.io/en/latest/advanced-usage.html#tls-warnings\n",
            "  warnings.warn(\n"
          ]
        },
        {
          "name": "stdout",
          "output_type": "stream",
          "text": [
            "Downloaded and saved HTML: https://mp.weixin.qq.com/s/h2jmEq0JEBNGtcx_AtkTbA\n"
          ]
        },
        {
          "name": "stderr",
          "output_type": "stream",
          "text": [
            "/usr/local/lib/python3.10/dist-packages/urllib3/connectionpool.py:1099: InsecureRequestWarning: Unverified HTTPS request is being made to host 'mp.weixin.qq.com'. Adding certificate verification is strongly advised. See: https://urllib3.readthedocs.io/en/latest/advanced-usage.html#tls-warnings\n",
            "  warnings.warn(\n"
          ]
        },
        {
          "name": "stdout",
          "output_type": "stream",
          "text": [
            "Downloaded and saved HTML: https://mp.weixin.qq.com/s/h2jmEq0JEBNGtcx_AtkTbA\n",
            "Downloaded and saved HTML: http://www.zhongguotongcuhui.org.cn/hnyw/202408/t20240830_12646102.html\n",
            "Downloaded and saved HTML: http://www.zhongguotongcuhui.org.cn/hnyw/202408/t20240830_12646102.html\n"
          ]
        },
        {
          "name": "stderr",
          "output_type": "stream",
          "text": [
            "/usr/local/lib/python3.10/dist-packages/urllib3/connectionpool.py:1099: InsecureRequestWarning: Unverified HTTPS request is being made to host 'www.chinadaily.com.cn'. Adding certificate verification is strongly advised. See: https://urllib3.readthedocs.io/en/latest/advanced-usage.html#tls-warnings\n",
            "  warnings.warn(\n"
          ]
        },
        {
          "name": "stdout",
          "output_type": "stream",
          "text": [
            "Downloaded and saved HTML: https://www.chinadaily.com.cn/china/crossstraits\n"
          ]
        },
        {
          "name": "stderr",
          "output_type": "stream",
          "text": [
            "/usr/local/lib/python3.10/dist-packages/urllib3/connectionpool.py:1099: InsecureRequestWarning: Unverified HTTPS request is being made to host 'tw.chinadaily.com.cn'. Adding certificate verification is strongly advised. See: https://urllib3.readthedocs.io/en/latest/advanced-usage.html#tls-warnings\n",
            "  warnings.warn(\n"
          ]
        },
        {
          "name": "stdout",
          "output_type": "stream",
          "text": [
            "Downloaded and saved HTML: https://tw.chinadaily.com.cn/\n"
          ]
        },
        {
          "name": "stderr",
          "output_type": "stream",
          "text": [
            "/usr/local/lib/python3.10/dist-packages/urllib3/connectionpool.py:1099: InsecureRequestWarning: Unverified HTTPS request is being made to host 'www.hnswtzb.org'. Adding certificate verification is strongly advised. See: https://urllib3.readthedocs.io/en/latest/advanced-usage.html#tls-warnings\n",
            "  warnings.warn(\n"
          ]
        },
        {
          "name": "stdout",
          "output_type": "stream",
          "text": [
            "Downloaded and saved HTML: https://www.hnswtzb.org/channel/13710.html\n"
          ]
        },
        {
          "name": "stderr",
          "output_type": "stream",
          "text": [
            "/usr/local/lib/python3.10/dist-packages/urllib3/connectionpool.py:1099: InsecureRequestWarning: Unverified HTTPS request is being made to host 'www.gxtzb.cn'. Adding certificate verification is strongly advised. See: https://urllib3.readthedocs.io/en/latest/advanced-usage.html#tls-warnings\n",
            "  warnings.warn(\n"
          ]
        },
        {
          "name": "stdout",
          "output_type": "stream",
          "text": [
            "Failed to download https://www.gxtzb.cn/tztt/gxzghptycjh/hndt_147/\n"
          ]
        },
        {
          "name": "stderr",
          "output_type": "stream",
          "text": [
            "WARNING:urllib3.connectionpool:Retrying (Retry(total=4, connect=None, read=None, redirect=None, status=None)) after connection broken by 'SSLError(SSLError(1, '[SSL: SSLV3_ALERT_HANDSHAKE_FAILURE] sslv3 alert handshake failure (_ssl.c:1007)'))': /404.shtml\n",
            "WARNING:urllib3.connectionpool:Retrying (Retry(total=3, connect=None, read=None, redirect=None, status=None)) after connection broken by 'SSLError(SSLError(1, '[SSL: SSLV3_ALERT_HANDSHAKE_FAILURE] sslv3 alert handshake failure (_ssl.c:1007)'))': /404.shtml\n",
            "WARNING:urllib3.connectionpool:Retrying (Retry(total=2, connect=None, read=None, redirect=None, status=None)) after connection broken by 'SSLError(SSLError(1, '[SSL: SSLV3_ALERT_HANDSHAKE_FAILURE] sslv3 alert handshake failure (_ssl.c:1007)'))': /404.shtml\n",
            "WARNING:urllib3.connectionpool:Retrying (Retry(total=1, connect=None, read=None, redirect=None, status=None)) after connection broken by 'SSLError(SSLError(1, '[SSL: SSLV3_ALERT_HANDSHAKE_FAILURE] sslv3 alert handshake failure (_ssl.c:1007)'))': /404.shtml\n",
            "WARNING:urllib3.connectionpool:Retrying (Retry(total=0, connect=None, read=None, redirect=None, status=None)) after connection broken by 'SSLError(SSLError(1, '[SSL: SSLV3_ALERT_HANDSHAKE_FAILURE] sslv3 alert handshake failure (_ssl.c:1007)'))': /404.shtml\n"
          ]
        },
        {
          "name": "stdout",
          "output_type": "stream",
          "text": [
            "SSL error occurred while downloading http://www.jxtyzx.org/tzst/hpty/: HTTPSConnectionPool(host='www.jxnews.com.cn', port=443): Max retries exceeded with url: /404.shtml (Caused by SSLError(SSLError(1, '[SSL: SSLV3_ALERT_HANDSHAKE_FAILURE] sslv3 alert handshake failure (_ssl.c:1007)')))\n"
          ]
        },
        {
          "name": "stderr",
          "output_type": "stream",
          "text": [
            "/usr/local/lib/python3.10/dist-packages/urllib3/connectionpool.py:1099: InsecureRequestWarning: Unverified HTTPS request is being made to host 'www.gov.cn'. Adding certificate verification is strongly advised. See: https://urllib3.readthedocs.io/en/latest/advanced-usage.html#tls-warnings\n",
            "  warnings.warn(\n"
          ]
        },
        {
          "name": "stdout",
          "output_type": "stream",
          "text": [
            "Downloaded and saved HTML: http://www.gov.cn\n"
          ]
        },
        {
          "name": "stderr",
          "output_type": "stream",
          "text": [
            "/usr/local/lib/python3.10/dist-packages/urllib3/connectionpool.py:1099: InsecureRequestWarning: Unverified HTTPS request is being made to host 'www.zytzb.gov.cn'. Adding certificate verification is strongly advised. See: https://urllib3.readthedocs.io/en/latest/advanced-usage.html#tls-warnings\n",
            "  warnings.warn(\n",
            "/usr/local/lib/python3.10/dist-packages/urllib3/connectionpool.py:1099: InsecureRequestWarning: Unverified HTTPS request is being made to host 'www.zytzb.gov.cn'. Adding certificate verification is strongly advised. See: https://urllib3.readthedocs.io/en/latest/advanced-usage.html#tls-warnings\n",
            "  warnings.warn(\n"
          ]
        },
        {
          "name": "stdout",
          "output_type": "stream",
          "text": [
            "Downloaded and saved HTML: http://www.zytzb.gov.cn/html/index.html\n",
            "Downloaded and saved HTML: http://www.gwytb.gov.cn/\n"
          ]
        },
        {
          "name": "stderr",
          "output_type": "stream",
          "text": [
            "/usr/local/lib/python3.10/dist-packages/urllib3/connectionpool.py:1099: InsecureRequestWarning: Unverified HTTPS request is being made to host 'www.fmprc.gov.cn'. Adding certificate verification is strongly advised. See: https://urllib3.readthedocs.io/en/latest/advanced-usage.html#tls-warnings\n",
            "  warnings.warn(\n"
          ]
        },
        {
          "name": "stdout",
          "output_type": "stream",
          "text": [
            "Downloaded and saved HTML: http://www.fmprc.gov.cn\n",
            "Downloaded and saved HTML: http://www.rmzxb.com.cn/\n",
            "Downloaded and saved HTML: http://www.huangpu.org.cn/\n",
            "Downloaded and saved HTML: http://www.tailian.org.cn\n",
            "Downloaded and saved HTML: http://www.chinaql.org/\n",
            "Failed to download http://www.taimeng.org.cn/\n",
            "Downloaded and saved HTML: http://www.xinhuanet.com/\n",
            "Downloaded and saved HTML: http://www.people.com.cn/\n"
          ]
        },
        {
          "name": "stderr",
          "output_type": "stream",
          "text": [
            "/usr/local/lib/python3.10/dist-packages/urllib3/connectionpool.py:1099: InsecureRequestWarning: Unverified HTTPS request is being made to host 'www.chinanews.com.cn'. Adding certificate verification is strongly advised. See: https://urllib3.readthedocs.io/en/latest/advanced-usage.html#tls-warnings\n",
            "  warnings.warn(\n"
          ]
        },
        {
          "name": "stdout",
          "output_type": "stream",
          "text": [
            "Downloaded and saved HTML: http://www.chinanews.com/\n",
            "Downloaded and saved HTML: http://www.cntv.cn/\n",
            "Downloaded and saved HTML: http://www.cnr.cn/\n"
          ]
        },
        {
          "name": "stderr",
          "output_type": "stream",
          "text": [
            "/usr/local/lib/python3.10/dist-packages/urllib3/connectionpool.py:1099: InsecureRequestWarning: Unverified HTTPS request is being made to host 'www.cri.cn'. Adding certificate verification is strongly advised. See: https://urllib3.readthedocs.io/en/latest/advanced-usage.html#tls-warnings\n",
            "  warnings.warn(\n"
          ]
        },
        {
          "name": "stdout",
          "output_type": "stream",
          "text": [
            "Downloaded and saved HTML: http://www.cri.cn/\n",
            "Downloaded and saved HTML: http://www.taiwan.cn/\n",
            "Downloaded and saved HTML: http://www.tibet.cn/\n"
          ]
        },
        {
          "name": "stderr",
          "output_type": "stream",
          "text": [
            "/usr/local/lib/python3.10/dist-packages/urllib3/connectionpool.py:1099: InsecureRequestWarning: Unverified HTTPS request is being made to host 'www.tibetol.cn'. Adding certificate verification is strongly advised. See: https://urllib3.readthedocs.io/en/latest/advanced-usage.html#tls-warnings\n",
            "  warnings.warn(\n"
          ]
        },
        {
          "name": "stdout",
          "output_type": "stream",
          "text": [
            "Downloaded and saved HTML: http://www.tibet328.cn/\n"
          ]
        },
        {
          "name": "stderr",
          "output_type": "stream",
          "text": [
            "/usr/local/lib/python3.10/dist-packages/urllib3/connectionpool.py:1099: InsecureRequestWarning: Unverified HTTPS request is being made to host 'beian.miit.gov.cn'. Adding certificate verification is strongly advised. See: https://urllib3.readthedocs.io/en/latest/advanced-usage.html#tls-warnings\n",
            "  warnings.warn(\n"
          ]
        },
        {
          "name": "stdout",
          "output_type": "stream",
          "text": [
            "Failed to download https://beian.miit.gov.cn/\n",
            "All HTML, DOCX, and PDF files combined into combined_pages_www.zhongguotongcuhui.org.cn.html\n"
          ]
        }
      ],
      "source": [
        "import requests\n",
        "from bs4 import BeautifulSoup\n",
        "import os\n",
        "import re\n",
        "import csv\n",
        "from docx import Document\n",
        "from PyPDF2 import PdfReader\n",
        "from urllib.parse import urljoin, urlparse\n",
        "from requests.adapters import HTTPAdapter\n",
        "from requests.packages.urllib3.util.retry import Retry\n",
        "import ssl\n",
        "from urllib3.poolmanager import PoolManager\n",
        "\n",
        "# Initial setup for the main website URL\n",
        "url = 'http://www.zhongguotongcuhui.org.cn/'\n",
        "\n",
        "# Step 1: Fetch the main webpage content\n",
        "response = requests.get(url)\n",
        "\n",
        "if response.status_code == 200:\n",
        "    print(\"Successfully fetched the main page!\")\n",
        "    page_content = response.content\n",
        "else:\n",
        "    print(f\"Failed to retrieve the main page. Status code: {response.status_code}\")\n",
        "\n",
        "# Step 2: Parse the main page to find all subpage links\n",
        "soup = BeautifulSoup(page_content, \"html.parser\")\n",
        "links = soup.find_all('a', href=True)\n",
        "\n",
        "# Step 3: Store subpage URLs in a list\n",
        "subpage_urls = []\n",
        "for link in links:\n",
        "    href = link['href']\n",
        "    full_url = urljoin(url, href)\n",
        "    parsed_url = urlparse(full_url)\n",
        "\n",
        "    # Only add URLs with HTTP or HTTPS schemes\n",
        "    if parsed_url.scheme in ['http', 'https']:\n",
        "        subpage_urls.append(full_url)\n",
        "\n",
        "# Step 4: Configure session with retries and SSL/TLS context handling\n",
        "retries = Retry(total=5, backoff_factor=0.3, status_forcelist=[500, 502, 503, 504])\n",
        "\n",
        "class TLSAdapter(HTTPAdapter):\n",
        "    def init_poolmanager(self, *args, **kwargs):\n",
        "        context = ssl.create_default_context(ssl.Purpose.CLIENT_AUTH)\n",
        "        context.options |= ssl.OP_NO_TLSv1 | ssl.OP_NO_TLSv1_1  # Force TLSv1.2 or higher\n",
        "        kwargs['ssl_context'] = context\n",
        "        return super(TLSAdapter, self).init_poolmanager(*args, **kwargs)\n",
        "\n",
        "# Set up session\n",
        "session = requests.Session()\n",
        "session.mount('https://', TLSAdapter())\n",
        "session.mount('https://', HTTPAdapter(max_retries=retries))\n",
        "\n",
        "# Step 5: Download and handle each subpage content\n",
        "downloaded_html_files = []\n",
        "docx_texts = []\n",
        "pdf_texts = []\n",
        "\n",
        "for subpage_url in subpage_urls:\n",
        "    try:\n",
        "        subpage_response = session.get(subpage_url, verify=False)\n",
        "\n",
        "        if subpage_response.status_code == 200:\n",
        "            content_type = subpage_response.headers['Content-Type']\n",
        "\n",
        "            if 'text/html' in content_type:\n",
        "                subpage_name = subpage_url.split(\"/\")[-1] or 'index'\n",
        "                if not subpage_name.endswith('.html'):\n",
        "                    file_name = f\"{subpage_name}.html\"\n",
        "                else:\n",
        "                    file_name = subpage_name\n",
        "\n",
        "                with open(file_name, \"w\", encoding=\"utf-8\") as f:\n",
        "                    f.write(subpage_response.text)\n",
        "                downloaded_html_files.append(file_name)\n",
        "                print(f\"Downloaded and saved HTML: {subpage_url}\")\n",
        "            elif 'application/vnd.openxmlformats-officedocument.wordprocessingml.document' in content_type:\n",
        "                docx_file_name = subpage_url.split(\"/\")[-1]\n",
        "                with open(docx_file_name, \"wb\") as f:\n",
        "                    f.write(subpage_response.content)\n",
        "                doc = Document(docx_file_name)\n",
        "                docx_text = \"\\n\".join([para.text for para in doc.paragraphs])\n",
        "                docx_texts.append(docx_text)\n",
        "                print(f\"Downloaded and extracted DOCX: {subpage_url}\")\n",
        "            elif 'application/pdf' in content_type:\n",
        "                pdf_file_name = subpage_url.split(\"/\")[-1]\n",
        "                with open(pdf_file_name, \"wb\") as f:\n",
        "                    f.write(subpage_response.content)\n",
        "                pdf_reader = PdfReader(pdf_file_name)\n",
        "                pdf_text = \"\"\n",
        "                for page in pdf_reader.pages:\n",
        "                    pdf_text += page.extract_text()\n",
        "                pdf_texts.append(pdf_text)\n",
        "                print(f\"Downloaded and extracted PDF: {subpage_url}\")\n",
        "            else:\n",
        "                print(f\"Skipping non-HTML, non-DOCX, non-PDF content: {subpage_url}\")\n",
        "        else:\n",
        "            print(f\"Failed to download {subpage_url}\")\n",
        "    except requests.exceptions.SSLError as e:\n",
        "        print(f\"SSL error occurred while downloading {subpage_url}: {e}\")\n",
        "    except Exception as e:\n",
        "        print(f\"An error occurred while downloading {subpage_url}: {e}\")\n",
        "\n",
        "# Step 6: Combine all HTML, DOCX, and PDF files into a single file\n",
        "combined_file = \"combined_pages_www.zhongguotongcuhui.org.cn.html\"\n",
        "with open(combined_file, \"w\", encoding=\"utf-8\") as outfile:\n",
        "    # Combine HTML files\n",
        "    for file_name in downloaded_html_files:\n",
        "        if os.path.exists(file_name):\n",
        "            with open(file_name, \"r\", encoding=\"utf-8\") as infile:\n",
        "                outfile.write(infile.read())\n",
        "                outfile.write(\"\\n\\n\")\n",
        "    # Combine DOCX text\n",
        "    for docx_text in docx_texts:\n",
        "        outfile.write(docx_text)\n",
        "        outfile.write(\"\\n\\n\")\n",
        "    # Combine PDF text\n",
        "    for pdf_text in pdf_texts:\n",
        "        outfile.write(pdf_text)\n",
        "        outfile.write(\"\\n\\n\")\n",
        "\n",
        "print(f\"All HTML, DOCX, and PDF files combined into {combined_file}\")\n",
        "\n",
        "# Step 7: Extract text and search for specific Chinese strings\n",
        "chinese_strings = [\n",
        "    \"休斯顿和统会\", \"佛罗里达和统会\", \"侨联之友\", \"俄勒冈统促会\", \"全球华人反邪教联盟\",\n",
        "    \"全美中国和平统一促进联合会\", \"全美反独促统联盟\", \"关岛和统会\", \"凤凰城和统会\", \"加州中谷和统会\",\n",
        "    \"加州首府和统会\", \"北京同乡会\", \"北加州和统会\", \"北美统促联合总会\", \"华夏政略研究会\",\n",
        "    \"华盛顿中国和平统一促进会\", \"华盛顿华人社区联盟\", \"华盛顿州中国统一促进会\", \"南加台山联谊会\",\n",
        "    \"南加州中国和平统一促进会联盟\", \"南加州促统论坛\", \"南加华人华侨联合总会\", \"圣地亚戈统促会\",\n",
        "    \"大华府象屿联谊会\", \"大波士顿和统会\", \"大洛杉矶中国统一促进会\", \"大纽约学生学者联谊会\",\n",
        "    \"大纽约统促会\", \"大芝加哥中国和平统一促进会\", \"大费城亚裔狮子会\", \"大费城侨学界华人社团联席会议\",\n",
        "    \"大费城华侨公会\", \"大费城统促会\", \"大费城长乐公会\", \"宾州和统会\", \"宾州福建同乡会\",\n",
        "    \"德州和统会\", \"德拉瓦和统会\", \"拉斯维加斯和统会\", \"新泽西和统会\", \"旧金山湾区统促会\",\n",
        "    \"波士顿和统会\", \"波特兰统促会\", \"洛杉矶华埠大联盟\", \"溫州同乡会\", \"纽约至孝督亲公所\",\n",
        "    \"纽约华人社团联席会\", \"纽约和统会\", \"罗省中华会馆\", \"美东华人社团联合总会\",\n",
        "    \"美东南福建同乡会\", \"美中友好促进会\", \"美中友好協会\", \"美中和平友好促进会\",\n",
        "    \"美中经济文化发展促进会\", \"美京统促会\", \"美华友好促统会\", \"美华总商会\", \"美国香港总商会\",\n",
        "    \"美国中华妇女联合会\", \"美国中国总商会\", \"美国亚洲人商会\", \"美国亚裔社团联合总会\",\n",
        "    \"美国侨学界社团联席会\", \"美国华人华侨联合总会\", \"美华侨\", \"美国华人华侨联谊会\",\n",
        "    \"美国华人社团联会总会\", \"美国华人联盟\", \"美国华州中国统一促进会\", \"美国宾州中国和平统一促进会\",\n",
        "    \"美国广西侨胞联合会\", \"美国福州十邑同乡会\", \"美国福建会馆\", \"美国福建侨联总会\",\n",
        "    \"美国福建同乡会\", \"美國福建同鄉會\", \"美国福建妇女友好联盟总会\", \"美国福建猴屿联谊会\",\n",
        "    \"美国连江同乡会\", \"美国长乐社团联盟总会\", \"美国闽台总商会\", \"美國大唐會館\", \"美国大唐会馆\",\n",
        "    \"美國福建會館\", \"美國廣州同學聯合總會\", \"美国广州同学联合总会\", \"美國美中文化交流促進會\",\n",
        "    \"美国美中文化交流促进会\", \"美洲中国统一促进会联合总会\", \"美洲青年和统会\", \"美西和统会\",\n",
        "    \"芝加哥一中会\", \"芝加哥统促会\", \"西雅图统促会\", \"费城东安公所\", \"费城崇正会\",\n",
        "    \"费城福建同乡会\", \"费城福建同乡联合会\", \"费城鹤山公所\", \"达拉斯和统会\", \"习近平指出\",\n",
        "    \"中国和平统一促进会\", \"中国和平统一促进联合会\", \"中国统一促进会\", \"中国统一促进会联合总会\",\n",
        "    \"会馆\", \"促统会\", \"促统联盟\", \"促统论坛\", \"华人社团联席会议\", \"友好促统会\",\n",
        "    \"同乡会\", \"和统会\", \"大聯盟\", \"总商会\", \"统促会\", \"统促进会联合会\",\n",
        "    \"联总会\", \"联谊会\", \"联合总会\", \"华人华侨联合总会\", \"华人华侨联会\",\n",
        "    \"休斯顿中国和平统一促进会\", \"全美统促进会联合会\", \"华盛顿和统会\", \"华盛顿统促会\",\n",
        "    \"南加统促联盟\", \"南加促统论坛\", \"纽约中国和平统一促进会\", \"芝加哥和统会\",\n",
        "    \"中国和平统一促进会\", \"促统会\", \"促統會\",\n",
        "    \"中华全国归国华侨联合会\", \"侨联\", \"僑聯\",\n",
        "    \"驻芝加哥总领事馆\", \"驻芝加哥总领馆\",\n",
        "    \"驻纽约总领事馆\", \"驻纽约总领馆\",\n",
        "    \"驻洛杉矶总领事馆\", \"驻洛杉矶总领馆\",\n",
        "    \"中国驻美国大使馆\",\n",
        "    \"中国共产党中央委员会统一战线工作部\", \"中央统战部\", \"统一战线工作部\", \"统战部\", \"统战\",\n",
        "    \"中共中央台湾工作办公室\", \"台湾工作办公室\", \"国务院台湾事务办公室\", \"国台办\", \"台湾事务办公室\",\n",
        "    \"国务院侨务办公室\", \"国侨办\", \"国务院侨办\",\n",
        "    \"福建省侨联\",\n",
        "    \"中国共产党中央委员会对外联络部\", \"中央对外联络部\",\n",
        "    \"国家互联网信息办公室\", \"中央网络安全和信息化委员会办公室\", \"中央网信办\",\n",
        "    \"人民政協\", \"中国人民政治协商会议\", \"政协\",\n",
        "    \"全国人民代表大会\", \"全国人大\",\n",
        "    \"全国人大华侨委员会\",\n",
        "    \"中华人民共和国外交部\", \"中国外交部\", \"外交部\",\n",
        "    \"国务院\",\n",
        "    \"国务院新闻办公室\",\n",
        "    \"工业和信息化部\", \"工信部\",\n",
        "    \"台灣自主同盟\", \"台湾自主同盟\",\n",
        "    \"中国国际贸易促进委员会\", \"贸促会\",\n",
        "    \"致公党\",\n",
        "    \"中国侨商联合会\"\n",
        "\n",
        "]  # Full list of strings, as provided earlier\n",
        "\n",
        "def extract_text_from_html(html_content):\n",
        "    soup = BeautifulSoup(html_content, \"html.parser\")\n",
        "    for script_or_style in soup(['script', 'style']):\n",
        "        script_or_style.decompose()\n",
        "    text = soup.get_text(separator=' ', strip=True)\n",
        "    return re.sub(r'\\s+', ' ', text)\n",
        "\n",
        "with open(combined_file, \"r\", encoding=\"utf-8\") as combined:\n",
        "    content = combined.read()\n",
        "\n",
        "readable_text = extract_text_from_html(content)\n",
        "\n",
        "# Step 8: Keyword search and proximity analysis\n",
        "keyword_positions = {}\n",
        "for keyword in chinese_strings:\n",
        "    matches = [m.start() for m in re.finditer(re.escape(keyword), readable_text)]\n",
        "    if matches:\n",
        "        keyword_positions[keyword] = matches\n",
        "\n",
        "def calculate_word_distance(pos1, pos2, text):\n",
        "    between_text = text[min(pos1, pos2):max(pos1, pos2)]\n",
        "    words_between = between_text.split()\n",
        "    return len(words_between)\n",
        "\n",
        "proximity_data = []\n",
        "for i, keyword1 in enumerate(chinese_strings):\n",
        "    for j, keyword2 in enumerate(chinese_strings):\n",
        "        if i < j and keyword1 in keyword_positions and keyword2 in keyword_positions:\n",
        "            for pos1 in keyword_positions[keyword1]:\n",
        "                for pos2 in keyword_positions[keyword2]:\n",
        "                    distance = calculate_word_distance(pos1, pos2, readable_text)\n",
        "                    # Filter to keep only distances <= 1000\n",
        "                    if distance <= 1000:\n",
        "                        proximity_data.append([keyword1, keyword2, distance])\n",
        "\n",
        "# Save results to CSV\n",
        "csv_file_path = 'keyword_proximity_results_www.zhongguotongcuhui.org.cn.csv'\n",
        "with open(csv_file_path, mode='w', newline='', encoding='utf-8') as file:\n",
        "    writer = csv.writer(file)\n",
        "    writer.writerow([\"Keyword 1\", \"Keyword 2\", \"Word Distance\"])\n",
        "    for row in proximity_data:\n",
        "        writer.writerow(row)\n",
        "\n",
        "print(f\"Proximity analysis complete. Results saved in {csv_file_path}\")\n"
      ]
    },
    {
      "cell_type": "code",
      "execution_count": null,
      "metadata": {
        "id": "wiqh5SxfephN"
      },
      "outputs": [],
      "source": [
        "import pandas as pd\n",
        "df = pd.read_csv(\"keyword_proximity_results_www.zhongguotongcuhui.org.cn.csv\")\n",
        "mdf = df.groupby([\"Keyword 1\", \"Keyword 2\"]).mean()\n",
        "mdf.sort_values(by=\"Word Distance\", ascending=True).tail(100)\n",
        "mdf.sort_values(by=\"Word Distance\", ascending=True).to_csv(\"www.zhongguotongcuhui.org.cn .csv\")"
      ]
    },
    {
      "cell_type": "markdown",
      "metadata": {
        "id": "z5P8CKYVuOMF"
      },
      "source": [
        "**www.chinaqw.com**"
      ]
    },
    {
      "cell_type": "code",
      "execution_count": null,
      "metadata": {
        "colab": {
          "base_uri": "https://localhost:8080/"
        },
        "id": "fOie_uTAlu5e",
        "outputId": "7a760b78-95d2-416b-f80e-635e3ddf31f0"
      },
      "outputs": [
        {
          "name": "stdout",
          "output_type": "stream",
          "text": [
            "Successfully fetched the main page!\n"
          ]
        },
        {
          "name": "stderr",
          "output_type": "stream",
          "text": [
            "<ipython-input-6-92bb37fcdfe1>:47: DeprecationWarning: ssl.OP_NO_SSL*/ssl.OP_NO_TLS* options are deprecated\n",
            "  context.options |= ssl.OP_NO_TLSv1 | ssl.OP_NO_TLSv1_1  # Force TLSv1.2 or higher\n",
            "/usr/local/lib/python3.10/dist-packages/urllib3/connectionpool.py:1099: InsecureRequestWarning: Unverified HTTPS request is being made to host 'www.chinaqw.com'. Adding certificate verification is strongly advised. See: https://urllib3.readthedocs.io/en/latest/advanced-usage.html#tls-warnings\n",
            "  warnings.warn(\n"
          ]
        },
        {
          "name": "stdout",
          "output_type": "stream",
          "text": [
            "Downloaded and saved HTML: https://www.chinaqw.com/\n"
          ]
        },
        {
          "name": "stderr",
          "output_type": "stream",
          "text": [
            "/usr/local/lib/python3.10/dist-packages/urllib3/connectionpool.py:1099: InsecureRequestWarning: Unverified HTTPS request is being made to host 'www.chinaqw.com'. Adding certificate verification is strongly advised. See: https://urllib3.readthedocs.io/en/latest/advanced-usage.html#tls-warnings\n",
            "  warnings.warn(\n"
          ]
        },
        {
          "name": "stdout",
          "output_type": "stream",
          "text": [
            "Downloaded and saved HTML: https://www.chinaqw.com/qiaobao/app.shtml\n"
          ]
        },
        {
          "name": "stderr",
          "output_type": "stream",
          "text": [
            "/usr/local/lib/python3.10/dist-packages/urllib3/connectionpool.py:1099: InsecureRequestWarning: Unverified HTTPS request is being made to host 'www.chinaqw.com'. Adding certificate verification is strongly advised. See: https://urllib3.readthedocs.io/en/latest/advanced-usage.html#tls-warnings\n",
            "  warnings.warn(\n"
          ]
        },
        {
          "name": "stdout",
          "output_type": "stream",
          "text": [
            "Downloaded and saved HTML: https://www.chinaqw.com/scroll-news/news1.shtml\n"
          ]
        },
        {
          "name": "stderr",
          "output_type": "stream",
          "text": [
            "/usr/local/lib/python3.10/dist-packages/urllib3/connectionpool.py:1099: InsecureRequestWarning: Unverified HTTPS request is being made to host 'www.chinaqw.com'. Adding certificate verification is strongly advised. See: https://urllib3.readthedocs.io/en/latest/advanced-usage.html#tls-warnings\n",
            "  warnings.warn(\n"
          ]
        },
        {
          "name": "stdout",
          "output_type": "stream",
          "text": [
            "Downloaded and saved HTML: https://www.chinaqw.com/hr.html\n"
          ]
        },
        {
          "name": "stderr",
          "output_type": "stream",
          "text": [
            "/usr/local/lib/python3.10/dist-packages/urllib3/connectionpool.py:1099: InsecureRequestWarning: Unverified HTTPS request is being made to host 'channel.chinaqw.com'. Adding certificate verification is strongly advised. See: https://urllib3.readthedocs.io/en/latest/advanced-usage.html#tls-warnings\n",
            "  warnings.warn(\n"
          ]
        },
        {
          "name": "stdout",
          "output_type": "stream",
          "text": [
            "Downloaded and saved HTML: https://channel.chinaqw.com/u/qw/hs.shtml\n"
          ]
        },
        {
          "name": "stderr",
          "output_type": "stream",
          "text": [
            "/usr/local/lib/python3.10/dist-packages/urllib3/connectionpool.py:1099: InsecureRequestWarning: Unverified HTTPS request is being made to host 'channel.chinaqw.com'. Adding certificate verification is strongly advised. See: https://urllib3.readthedocs.io/en/latest/advanced-usage.html#tls-warnings\n",
            "  warnings.warn(\n",
            "/usr/local/lib/python3.10/dist-packages/urllib3/connectionpool.py:1099: InsecureRequestWarning: Unverified HTTPS request is being made to host 'channel.chinaqw.com'. Adding certificate verification is strongly advised. See: https://urllib3.readthedocs.io/en/latest/advanced-usage.html#tls-warnings\n",
            "  warnings.warn(\n",
            "/usr/local/lib/python3.10/dist-packages/urllib3/connectionpool.py:1099: InsecureRequestWarning: Unverified HTTPS request is being made to host 'channel.chinaqw.com'. Adding certificate verification is strongly advised. See: https://urllib3.readthedocs.io/en/latest/advanced-usage.html#tls-warnings\n",
            "  warnings.warn(\n"
          ]
        },
        {
          "name": "stdout",
          "output_type": "stream",
          "text": [
            "Downloaded and saved HTML: https://channel.chinaqw.com/u/lx.shtml\n"
          ]
        },
        {
          "name": "stderr",
          "output_type": "stream",
          "text": [
            "/usr/local/lib/python3.10/dist-packages/urllib3/connectionpool.py:1099: InsecureRequestWarning: Unverified HTTPS request is being made to host 'channel.chinaqw.com'. Adding certificate verification is strongly advised. See: https://urllib3.readthedocs.io/en/latest/advanced-usage.html#tls-warnings\n",
            "  warnings.warn(\n"
          ]
        },
        {
          "name": "stdout",
          "output_type": "stream",
          "text": [
            "Downloaded and saved HTML: https://channel.chinaqw.com/u/qw/hm.shtml\n"
          ]
        },
        {
          "name": "stderr",
          "output_type": "stream",
          "text": [
            "/usr/local/lib/python3.10/dist-packages/urllib3/connectionpool.py:1099: InsecureRequestWarning: Unverified HTTPS request is being made to host 'channel.chinaqw.com'. Adding certificate verification is strongly advised. See: https://urllib3.readthedocs.io/en/latest/advanced-usage.html#tls-warnings\n",
            "  warnings.warn(\n"
          ]
        },
        {
          "name": "stdout",
          "output_type": "stream",
          "text": [
            "Downloaded and saved HTML: https://channel.chinaqw.com/u/qw/ym.shtml\n"
          ]
        },
        {
          "name": "stderr",
          "output_type": "stream",
          "text": [
            "/usr/local/lib/python3.10/dist-packages/urllib3/connectionpool.py:1099: InsecureRequestWarning: Unverified HTTPS request is being made to host 'channel.chinaqw.com'. Adding certificate verification is strongly advised. See: https://urllib3.readthedocs.io/en/latest/advanced-usage.html#tls-warnings\n",
            "  warnings.warn(\n"
          ]
        },
        {
          "name": "stdout",
          "output_type": "stream",
          "text": [
            "Downloaded and saved HTML: https://channel.chinaqw.com/u/qw/hzzx.shtml\n"
          ]
        },
        {
          "name": "stderr",
          "output_type": "stream",
          "text": [
            "/usr/local/lib/python3.10/dist-packages/urllib3/connectionpool.py:1099: InsecureRequestWarning: Unverified HTTPS request is being made to host 'www.chinaqw.com'. Adding certificate verification is strongly advised. See: https://urllib3.readthedocs.io/en/latest/advanced-usage.html#tls-warnings\n",
            "  warnings.warn(\n"
          ]
        },
        {
          "name": "stdout",
          "output_type": "stream",
          "text": [
            "Downloaded and saved HTML: https://www.chinaqw.com/qw.html\n"
          ]
        },
        {
          "name": "stderr",
          "output_type": "stream",
          "text": [
            "/usr/local/lib/python3.10/dist-packages/urllib3/connectionpool.py:1099: InsecureRequestWarning: Unverified HTTPS request is being made to host 'channel.chinaqw.com'. Adding certificate verification is strongly advised. See: https://urllib3.readthedocs.io/en/latest/advanced-usage.html#tls-warnings\n",
            "  warnings.warn(\n"
          ]
        },
        {
          "name": "stdout",
          "output_type": "stream",
          "text": [
            "Downloaded and saved HTML: https://channel.chinaqw.com/u/qw/gdqx.shtml\n"
          ]
        },
        {
          "name": "stderr",
          "output_type": "stream",
          "text": [
            "/usr/local/lib/python3.10/dist-packages/urllib3/connectionpool.py:1099: InsecureRequestWarning: Unverified HTTPS request is being made to host 'channel.chinaqw.com'. Adding certificate verification is strongly advised. See: https://urllib3.readthedocs.io/en/latest/advanced-usage.html#tls-warnings\n",
            "  warnings.warn(\n"
          ]
        },
        {
          "name": "stdout",
          "output_type": "stream",
          "text": [
            "Downloaded and saved HTML: https://channel.chinaqw.com/u/qw/qjxy.shtml\n"
          ]
        },
        {
          "name": "stderr",
          "output_type": "stream",
          "text": [
            "/usr/local/lib/python3.10/dist-packages/urllib3/connectionpool.py:1099: InsecureRequestWarning: Unverified HTTPS request is being made to host 'channel.chinaqw.com'. Adding certificate verification is strongly advised. See: https://urllib3.readthedocs.io/en/latest/advanced-usage.html#tls-warnings\n",
            "  warnings.warn(\n"
          ]
        },
        {
          "name": "stdout",
          "output_type": "stream",
          "text": [
            "Downloaded and saved HTML: https://channel.chinaqw.com/u/qw/zcfg.shtml\n"
          ]
        },
        {
          "name": "stderr",
          "output_type": "stream",
          "text": [
            "/usr/local/lib/python3.10/dist-packages/urllib3/connectionpool.py:1099: InsecureRequestWarning: Unverified HTTPS request is being made to host 'channel.chinaqw.com'. Adding certificate verification is strongly advised. See: https://urllib3.readthedocs.io/en/latest/advanced-usage.html#tls-warnings\n",
            "  warnings.warn(\n"
          ]
        },
        {
          "name": "stdout",
          "output_type": "stream",
          "text": [
            "Downloaded and saved HTML: https://channel.chinaqw.com/u/qw/hqls.shtml\n"
          ]
        },
        {
          "name": "stderr",
          "output_type": "stream",
          "text": [
            "/usr/local/lib/python3.10/dist-packages/urllib3/connectionpool.py:1099: InsecureRequestWarning: Unverified HTTPS request is being made to host 'channel.chinaqw.com'. Adding certificate verification is strongly advised. See: https://urllib3.readthedocs.io/en/latest/advanced-usage.html#tls-warnings\n",
            "  warnings.warn(\n"
          ]
        },
        {
          "name": "stdout",
          "output_type": "stream",
          "text": [
            "Downloaded and saved HTML: https://channel.chinaqw.com/cns/c/hdfw-qscd.shtml\n"
          ]
        },
        {
          "name": "stderr",
          "output_type": "stream",
          "text": [
            "/usr/local/lib/python3.10/dist-packages/urllib3/connectionpool.py:1099: InsecureRequestWarning: Unverified HTTPS request is being made to host 'www.chinaqw.com'. Adding certificate verification is strongly advised. See: https://urllib3.readthedocs.io/en/latest/advanced-usage.html#tls-warnings\n",
            "  warnings.warn(\n"
          ]
        },
        {
          "name": "stdout",
          "output_type": "stream",
          "text": [
            "Downloaded and saved HTML: https://www.chinaqw.com/qx.html\n"
          ]
        },
        {
          "name": "stderr",
          "output_type": "stream",
          "text": [
            "/usr/local/lib/python3.10/dist-packages/urllib3/connectionpool.py:1099: InsecureRequestWarning: Unverified HTTPS request is being made to host 'channel.chinaqw.com'. Adding certificate verification is strongly advised. See: https://urllib3.readthedocs.io/en/latest/advanced-usage.html#tls-warnings\n",
            "  warnings.warn(\n"
          ]
        },
        {
          "name": "stdout",
          "output_type": "stream",
          "text": [
            "Downloaded and saved HTML: https://channel.chinaqw.com/u/qw/qxzw.shtml\n"
          ]
        },
        {
          "name": "stderr",
          "output_type": "stream",
          "text": [
            "/usr/local/lib/python3.10/dist-packages/urllib3/connectionpool.py:1099: InsecureRequestWarning: Unverified HTTPS request is being made to host 'channel.chinaqw.com'. Adding certificate verification is strongly advised. See: https://urllib3.readthedocs.io/en/latest/advanced-usage.html#tls-warnings\n",
            "  warnings.warn(\n"
          ]
        },
        {
          "name": "stdout",
          "output_type": "stream",
          "text": [
            "Downloaded and saved HTML: https://channel.chinaqw.com/u/qw/shms.shtml\n"
          ]
        },
        {
          "name": "stderr",
          "output_type": "stream",
          "text": [
            "/usr/local/lib/python3.10/dist-packages/urllib3/connectionpool.py:1099: InsecureRequestWarning: Unverified HTTPS request is being made to host 'channel.chinaqw.com'. Adding certificate verification is strongly advised. See: https://urllib3.readthedocs.io/en/latest/advanced-usage.html#tls-warnings\n",
            "  warnings.warn(\n"
          ]
        },
        {
          "name": "stdout",
          "output_type": "stream",
          "text": [
            "Downloaded and saved HTML: https://channel.chinaqw.com/u/qw/jjkj.shtml\n"
          ]
        },
        {
          "name": "stderr",
          "output_type": "stream",
          "text": [
            "/usr/local/lib/python3.10/dist-packages/urllib3/connectionpool.py:1099: InsecureRequestWarning: Unverified HTTPS request is being made to host 'channel.chinaqw.com'. Adding certificate verification is strongly advised. See: https://urllib3.readthedocs.io/en/latest/advanced-usage.html#tls-warnings\n",
            "  warnings.warn(\n"
          ]
        },
        {
          "name": "stdout",
          "output_type": "stream",
          "text": [
            "Downloaded and saved HTML: https://channel.chinaqw.com/u/qw/whjy.shtml\n"
          ]
        },
        {
          "name": "stderr",
          "output_type": "stream",
          "text": [
            "/usr/local/lib/python3.10/dist-packages/urllib3/connectionpool.py:1099: InsecureRequestWarning: Unverified HTTPS request is being made to host 'channel.chinaqw.com'. Adding certificate verification is strongly advised. See: https://urllib3.readthedocs.io/en/latest/advanced-usage.html#tls-warnings\n",
            "  warnings.warn(\n"
          ]
        },
        {
          "name": "stdout",
          "output_type": "stream",
          "text": [
            "Downloaded and saved HTML: https://channel.chinaqw.com/u/qw/msly.shtml\n",
            "Downloaded and saved HTML: https://www.chinaqw.com/lst.html\n"
          ]
        },
        {
          "name": "stderr",
          "output_type": "stream",
          "text": [
            "/usr/local/lib/python3.10/dist-packages/urllib3/connectionpool.py:1099: InsecureRequestWarning: Unverified HTTPS request is being made to host 'www.chinaqw.com'. Adding certificate verification is strongly advised. See: https://urllib3.readthedocs.io/en/latest/advanced-usage.html#tls-warnings\n",
            "  warnings.warn(\n",
            "/usr/local/lib/python3.10/dist-packages/urllib3/connectionpool.py:1099: InsecureRequestWarning: Unverified HTTPS request is being made to host 'channel.chinaqw.com'. Adding certificate verification is strongly advised. See: https://urllib3.readthedocs.io/en/latest/advanced-usage.html#tls-warnings\n",
            "  warnings.warn(\n"
          ]
        },
        {
          "name": "stdout",
          "output_type": "stream",
          "text": [
            "Downloaded and saved HTML: https://channel.chinaqw.com/u/qw/lszx.shtml\n"
          ]
        },
        {
          "name": "stderr",
          "output_type": "stream",
          "text": [
            "/usr/local/lib/python3.10/dist-packages/urllib3/connectionpool.py:1099: InsecureRequestWarning: Unverified HTTPS request is being made to host 'channel.chinaqw.com'. Adding certificate verification is strongly advised. See: https://urllib3.readthedocs.io/en/latest/advanced-usage.html#tls-warnings\n",
            "  warnings.warn(\n"
          ]
        },
        {
          "name": "stdout",
          "output_type": "stream",
          "text": [
            "Downloaded and saved HTML: https://channel.chinaqw.com/u/qw/cgtx.shtml\n"
          ]
        },
        {
          "name": "stderr",
          "output_type": "stream",
          "text": [
            "/usr/local/lib/python3.10/dist-packages/urllib3/connectionpool.py:1099: InsecureRequestWarning: Unverified HTTPS request is being made to host 'channel.chinaqw.com'. Adding certificate verification is strongly advised. See: https://urllib3.readthedocs.io/en/latest/advanced-usage.html#tls-warnings\n",
            "  warnings.warn(\n"
          ]
        },
        {
          "name": "stdout",
          "output_type": "stream",
          "text": [
            "Downloaded and saved HTML: https://channel.chinaqw.com/u/qw/qzhz.shtml\n"
          ]
        },
        {
          "name": "stderr",
          "output_type": "stream",
          "text": [
            "/usr/local/lib/python3.10/dist-packages/urllib3/connectionpool.py:1099: InsecureRequestWarning: Unverified HTTPS request is being made to host 'www.chinaqw.com'. Adding certificate verification is strongly advised. See: https://urllib3.readthedocs.io/en/latest/advanced-usage.html#tls-warnings\n",
            "  warnings.warn(\n"
          ]
        },
        {
          "name": "stdout",
          "output_type": "stream",
          "text": [
            "Downloaded and saved HTML: https://www.chinaqw.com/whjy.html\n"
          ]
        },
        {
          "name": "stderr",
          "output_type": "stream",
          "text": [
            "/usr/local/lib/python3.10/dist-packages/urllib3/connectionpool.py:1099: InsecureRequestWarning: Unverified HTTPS request is being made to host 'channel.chinaqw.com'. Adding certificate verification is strongly advised. See: https://urllib3.readthedocs.io/en/latest/advanced-usage.html#tls-warnings\n",
            "  warnings.warn(\n"
          ]
        },
        {
          "name": "stdout",
          "output_type": "stream",
          "text": [
            "Downloaded and saved HTML: https://channel.chinaqw.com/u/qw/hj.shtml\n"
          ]
        },
        {
          "name": "stderr",
          "output_type": "stream",
          "text": [
            "/usr/local/lib/python3.10/dist-packages/urllib3/connectionpool.py:1099: InsecureRequestWarning: Unverified HTTPS request is being made to host 'channel.chinaqw.com'. Adding certificate verification is strongly advised. See: https://urllib3.readthedocs.io/en/latest/advanced-usage.html#tls-warnings\n",
            "  warnings.warn(\n"
          ]
        },
        {
          "name": "stdout",
          "output_type": "stream",
          "text": [
            "Downloaded and saved HTML: https://channel.chinaqw.com/u/qw/wh.shtml\n"
          ]
        },
        {
          "name": "stderr",
          "output_type": "stream",
          "text": [
            "/usr/local/lib/python3.10/dist-packages/urllib3/connectionpool.py:1099: InsecureRequestWarning: Unverified HTTPS request is being made to host 'channel.chinaqw.com'. Adding certificate verification is strongly advised. See: https://urllib3.readthedocs.io/en/latest/advanced-usage.html#tls-warnings\n",
            "  warnings.warn(\n"
          ]
        },
        {
          "name": "stdout",
          "output_type": "stream",
          "text": [
            "Downloaded and saved HTML: https://channel.chinaqw.com/u/qw/rwz.shtml\n"
          ]
        },
        {
          "name": "stderr",
          "output_type": "stream",
          "text": [
            "/usr/local/lib/python3.10/dist-packages/urllib3/connectionpool.py:1099: InsecureRequestWarning: Unverified HTTPS request is being made to host 'channel.chinaqw.com'. Adding certificate verification is strongly advised. See: https://urllib3.readthedocs.io/en/latest/advanced-usage.html#tls-warnings\n",
            "  warnings.warn(\n"
          ]
        },
        {
          "name": "stdout",
          "output_type": "stream",
          "text": [
            "Downloaded and saved HTML: https://channel.chinaqw.com/u/qw/zy.shtml\n"
          ]
        },
        {
          "name": "stderr",
          "output_type": "stream",
          "text": [
            "/usr/local/lib/python3.10/dist-packages/urllib3/connectionpool.py:1099: InsecureRequestWarning: Unverified HTTPS request is being made to host 'channel.chinaqw.com'. Adding certificate verification is strongly advised. See: https://urllib3.readthedocs.io/en/latest/advanced-usage.html#tls-warnings\n",
            "  warnings.warn(\n"
          ]
        },
        {
          "name": "stdout",
          "output_type": "stream",
          "text": [
            "Downloaded and saved HTML: https://channel.chinaqw.com/u/qw/ms.shtml\n"
          ]
        },
        {
          "name": "stderr",
          "output_type": "stream",
          "text": [
            "/usr/local/lib/python3.10/dist-packages/urllib3/connectionpool.py:1099: InsecureRequestWarning: Unverified HTTPS request is being made to host 'channel.chinaqw.com'. Adding certificate verification is strongly advised. See: https://urllib3.readthedocs.io/en/latest/advanced-usage.html#tls-warnings\n",
            "  warnings.warn(\n",
            "/usr/local/lib/python3.10/dist-packages/urllib3/connectionpool.py:1099: InsecureRequestWarning: Unverified HTTPS request is being made to host 'channel.chinaqw.com'. Adding certificate verification is strongly advised. See: https://urllib3.readthedocs.io/en/latest/advanced-usage.html#tls-warnings\n",
            "  warnings.warn(\n"
          ]
        },
        {
          "name": "stdout",
          "output_type": "stream",
          "text": [
            "Downloaded and saved HTML: https://channel.chinaqw.com/u/qw/fy.shtml\n"
          ]
        },
        {
          "name": "stderr",
          "output_type": "stream",
          "text": [
            "/usr/local/lib/python3.10/dist-packages/urllib3/connectionpool.py:1099: InsecureRequestWarning: Unverified HTTPS request is being made to host 'www.chinaqw.com'. Adding certificate verification is strongly advised. See: https://urllib3.readthedocs.io/en/latest/advanced-usage.html#tls-warnings\n",
            "  warnings.warn(\n"
          ]
        },
        {
          "name": "stdout",
          "output_type": "stream",
          "text": [
            "Downloaded and saved HTML: https://www.chinaqw.com/jj.html\n"
          ]
        },
        {
          "name": "stderr",
          "output_type": "stream",
          "text": [
            "/usr/local/lib/python3.10/dist-packages/urllib3/connectionpool.py:1099: InsecureRequestWarning: Unverified HTTPS request is being made to host 'channel.chinaqw.com'. Adding certificate verification is strongly advised. See: https://urllib3.readthedocs.io/en/latest/advanced-usage.html#tls-warnings\n",
            "  warnings.warn(\n"
          ]
        },
        {
          "name": "stdout",
          "output_type": "stream",
          "text": [
            "Downloaded and saved HTML: https://channel.chinaqw.com/u/qw/qstz.shtml\n"
          ]
        },
        {
          "name": "stderr",
          "output_type": "stream",
          "text": [
            "/usr/local/lib/python3.10/dist-packages/urllib3/connectionpool.py:1099: InsecureRequestWarning: Unverified HTTPS request is being made to host 'channel.chinaqw.com'. Adding certificate verification is strongly advised. See: https://urllib3.readthedocs.io/en/latest/advanced-usage.html#tls-warnings\n",
            "  warnings.warn(\n"
          ]
        },
        {
          "name": "stdout",
          "output_type": "stream",
          "text": [
            "Downloaded and saved HTML: https://channel.chinaqw.com/u/qw/cxcy.shtml\n"
          ]
        },
        {
          "name": "stderr",
          "output_type": "stream",
          "text": [
            "/usr/local/lib/python3.10/dist-packages/urllib3/connectionpool.py:1099: InsecureRequestWarning: Unverified HTTPS request is being made to host 'channel.chinaqw.com'. Adding certificate verification is strongly advised. See: https://urllib3.readthedocs.io/en/latest/advanced-usage.html#tls-warnings\n",
            "  warnings.warn(\n"
          ]
        },
        {
          "name": "stdout",
          "output_type": "stream",
          "text": [
            "Downloaded and saved HTML: https://channel.chinaqw.com/u/qw/dwhz.shtml\n"
          ]
        },
        {
          "name": "stderr",
          "output_type": "stream",
          "text": [
            "/usr/local/lib/python3.10/dist-packages/urllib3/connectionpool.py:1099: InsecureRequestWarning: Unverified HTTPS request is being made to host 'www.chinaqw.com'. Adding certificate verification is strongly advised. See: https://urllib3.readthedocs.io/en/latest/advanced-usage.html#tls-warnings\n",
            "  warnings.warn(\n"
          ]
        },
        {
          "name": "stdout",
          "output_type": "stream",
          "text": [
            "Downloaded and saved HTML: https://www.chinaqw.com/ly.html\n"
          ]
        },
        {
          "name": "stderr",
          "output_type": "stream",
          "text": [
            "/usr/local/lib/python3.10/dist-packages/urllib3/connectionpool.py:1099: InsecureRequestWarning: Unverified HTTPS request is being made to host 'channel.chinaqw.com'. Adding certificate verification is strongly advised. See: https://urllib3.readthedocs.io/en/latest/advanced-usage.html#tls-warnings\n",
            "  warnings.warn(\n"
          ]
        },
        {
          "name": "stdout",
          "output_type": "stream",
          "text": [
            "Downloaded and saved HTML: https://channel.chinaqw.com/u/qw/lyzx.shtml\n"
          ]
        },
        {
          "name": "stderr",
          "output_type": "stream",
          "text": [
            "/usr/local/lib/python3.10/dist-packages/urllib3/connectionpool.py:1099: InsecureRequestWarning: Unverified HTTPS request is being made to host 'channel.chinaqw.com'. Adding certificate verification is strongly advised. See: https://urllib3.readthedocs.io/en/latest/advanced-usage.html#tls-warnings\n",
            "  warnings.warn(\n"
          ]
        },
        {
          "name": "stdout",
          "output_type": "stream",
          "text": [
            "Downloaded and saved HTML: https://channel.chinaqw.com/u/qw/lyts.shtml\n"
          ]
        },
        {
          "name": "stderr",
          "output_type": "stream",
          "text": [
            "/usr/local/lib/python3.10/dist-packages/urllib3/connectionpool.py:1099: InsecureRequestWarning: Unverified HTTPS request is being made to host 'channel.chinaqw.com'. Adding certificate verification is strongly advised. See: https://urllib3.readthedocs.io/en/latest/advanced-usage.html#tls-warnings\n",
            "  warnings.warn(\n"
          ]
        },
        {
          "name": "stdout",
          "output_type": "stream",
          "text": [
            "Downloaded and saved HTML: https://channel.chinaqw.com/u/qw/sjqg.shtml\n"
          ]
        },
        {
          "name": "stderr",
          "output_type": "stream",
          "text": [
            "/usr/local/lib/python3.10/dist-packages/urllib3/connectionpool.py:1099: InsecureRequestWarning: Unverified HTTPS request is being made to host 'www.chinaqw.com'. Adding certificate verification is strongly advised. See: https://urllib3.readthedocs.io/en/latest/advanced-usage.html#tls-warnings\n",
            "  warnings.warn(\n"
          ]
        },
        {
          "name": "stdout",
          "output_type": "stream",
          "text": [
            "Downloaded and saved HTML: https://www.chinaqw.com/ycpp.html\n"
          ]
        },
        {
          "name": "stderr",
          "output_type": "stream",
          "text": [
            "/usr/local/lib/python3.10/dist-packages/urllib3/connectionpool.py:1099: InsecureRequestWarning: Unverified HTTPS request is being made to host 'www.chinaqw.com'. Adding certificate verification is strongly advised. See: https://urllib3.readthedocs.io/en/latest/advanced-usage.html#tls-warnings\n",
            "  warnings.warn(\n"
          ]
        },
        {
          "name": "stdout",
          "output_type": "stream",
          "text": [
            "Downloaded and saved HTML: https://www.chinaqw.com/video.html\n"
          ]
        },
        {
          "name": "stderr",
          "output_type": "stream",
          "text": [
            "/usr/local/lib/python3.10/dist-packages/urllib3/connectionpool.py:1099: InsecureRequestWarning: Unverified HTTPS request is being made to host 'www.chinaqw.com'. Adding certificate verification is strongly advised. See: https://urllib3.readthedocs.io/en/latest/advanced-usage.html#tls-warnings\n",
            "  warnings.warn(\n"
          ]
        },
        {
          "name": "stdout",
          "output_type": "stream",
          "text": [
            "Downloaded and saved HTML: https://www.chinaqw.com/zt.html\n"
          ]
        },
        {
          "name": "stderr",
          "output_type": "stream",
          "text": [
            "/usr/local/lib/python3.10/dist-packages/urllib3/connectionpool.py:1099: InsecureRequestWarning: Unverified HTTPS request is being made to host 'www.chinaqw.com'. Adding certificate verification is strongly advised. See: https://urllib3.readthedocs.io/en/latest/advanced-usage.html#tls-warnings\n",
            "  warnings.warn(\n"
          ]
        },
        {
          "name": "stdout",
          "output_type": "stream",
          "text": [
            "Downloaded and saved HTML: https://www.chinaqw.com/shanghai.html\n"
          ]
        },
        {
          "name": "stderr",
          "output_type": "stream",
          "text": [
            "/usr/local/lib/python3.10/dist-packages/urllib3/connectionpool.py:1099: InsecureRequestWarning: Unverified HTTPS request is being made to host 'www.chinaqw.com'. Adding certificate verification is strongly advised. See: https://urllib3.readthedocs.io/en/latest/advanced-usage.html#tls-warnings\n",
            "  warnings.warn(\n"
          ]
        },
        {
          "name": "stdout",
          "output_type": "stream",
          "text": [
            "Downloaded and saved HTML: https://www.chinaqw.com/ads.html\n"
          ]
        },
        {
          "name": "stderr",
          "output_type": "stream",
          "text": [
            "/usr/local/lib/python3.10/dist-packages/urllib3/connectionpool.py:1099: InsecureRequestWarning: Unverified HTTPS request is being made to host 'www.chinaqw.com'. Adding certificate verification is strongly advised. See: https://urllib3.readthedocs.io/en/latest/advanced-usage.html#tls-warnings\n",
            "  warnings.warn(\n"
          ]
        },
        {
          "name": "stdout",
          "output_type": "stream",
          "text": [
            "Downloaded and saved HTML: https://www.chinaqw.com\n",
            "Downloaded and saved HTML: https://www.chinaqw.com\n"
          ]
        },
        {
          "name": "stderr",
          "output_type": "stream",
          "text": [
            "/usr/local/lib/python3.10/dist-packages/urllib3/connectionpool.py:1099: InsecureRequestWarning: Unverified HTTPS request is being made to host 'www.chinaqw.com'. Adding certificate verification is strongly advised. See: https://urllib3.readthedocs.io/en/latest/advanced-usage.html#tls-warnings\n",
            "  warnings.warn(\n",
            "/usr/local/lib/python3.10/dist-packages/urllib3/connectionpool.py:1099: InsecureRequestWarning: Unverified HTTPS request is being made to host 'www.chinaqw.com'. Adding certificate verification is strongly advised. See: https://urllib3.readthedocs.io/en/latest/advanced-usage.html#tls-warnings\n",
            "  warnings.warn(\n"
          ]
        },
        {
          "name": "stdout",
          "output_type": "stream",
          "text": [
            "Downloaded and saved HTML: https://www.chinaqw.com/zhwh/hd2011/2024/10-26/65757.shtml\n"
          ]
        },
        {
          "name": "stderr",
          "output_type": "stream",
          "text": [
            "/usr/local/lib/python3.10/dist-packages/urllib3/connectionpool.py:1099: InsecureRequestWarning: Unverified HTTPS request is being made to host 'www.chinaqw.com'. Adding certificate verification is strongly advised. See: https://urllib3.readthedocs.io/en/latest/advanced-usage.html#tls-warnings\n",
            "  warnings.warn(\n"
          ]
        },
        {
          "name": "stdout",
          "output_type": "stream",
          "text": [
            "Downloaded and saved HTML: https://www.chinaqw.com/yw/hd2011/2024/10-26/65760.shtml\n"
          ]
        },
        {
          "name": "stderr",
          "output_type": "stream",
          "text": [
            "/usr/local/lib/python3.10/dist-packages/urllib3/connectionpool.py:1099: InsecureRequestWarning: Unverified HTTPS request is being made to host 'www.chinaqw.com'. Adding certificate verification is strongly advised. See: https://urllib3.readthedocs.io/en/latest/advanced-usage.html#tls-warnings\n",
            "  warnings.warn(\n"
          ]
        },
        {
          "name": "stdout",
          "output_type": "stream",
          "text": [
            "Downloaded and saved HTML: https://www.chinaqw.com/yw/hd2011/2024/10-26/65763.shtml\n"
          ]
        },
        {
          "name": "stderr",
          "output_type": "stream",
          "text": [
            "/usr/local/lib/python3.10/dist-packages/urllib3/connectionpool.py:1099: InsecureRequestWarning: Unverified HTTPS request is being made to host 'www.chinaqw.com'. Adding certificate verification is strongly advised. See: https://urllib3.readthedocs.io/en/latest/advanced-usage.html#tls-warnings\n",
            "  warnings.warn(\n"
          ]
        },
        {
          "name": "stdout",
          "output_type": "stream",
          "text": [
            "Downloaded and saved HTML: https://www.chinaqw.com/hwjy/2024/10-26/385650.shtml\n"
          ]
        },
        {
          "name": "stderr",
          "output_type": "stream",
          "text": [
            "/usr/local/lib/python3.10/dist-packages/urllib3/connectionpool.py:1099: InsecureRequestWarning: Unverified HTTPS request is being made to host 'www.chinaqw.com'. Adding certificate verification is strongly advised. See: https://urllib3.readthedocs.io/en/latest/advanced-usage.html#tls-warnings\n",
            "  warnings.warn(\n"
          ]
        },
        {
          "name": "stdout",
          "output_type": "stream",
          "text": [
            "Downloaded and saved HTML: https://www.chinaqw.com/zhwh/hd2011/2024/10-26/65757.shtml\n",
            "Downloaded and saved HTML: https://www.chinaqw.com/yw/hd2011/2024/10-26/65760.shtml\n"
          ]
        },
        {
          "name": "stderr",
          "output_type": "stream",
          "text": [
            "/usr/local/lib/python3.10/dist-packages/urllib3/connectionpool.py:1099: InsecureRequestWarning: Unverified HTTPS request is being made to host 'www.chinaqw.com'. Adding certificate verification is strongly advised. See: https://urllib3.readthedocs.io/en/latest/advanced-usage.html#tls-warnings\n",
            "  warnings.warn(\n",
            "/usr/local/lib/python3.10/dist-packages/urllib3/connectionpool.py:1099: InsecureRequestWarning: Unverified HTTPS request is being made to host 'www.chinaqw.com'. Adding certificate verification is strongly advised. See: https://urllib3.readthedocs.io/en/latest/advanced-usage.html#tls-warnings\n",
            "  warnings.warn(\n"
          ]
        },
        {
          "name": "stdout",
          "output_type": "stream",
          "text": [
            "Downloaded and saved HTML: https://www.chinaqw.com/yw/hd2011/2024/10-26/65763.shtml\n",
            "Downloaded and saved HTML: https://www.chinaqw.com/hwjy/2024/10-26/385650.shtml\n"
          ]
        },
        {
          "name": "stderr",
          "output_type": "stream",
          "text": [
            "/usr/local/lib/python3.10/dist-packages/urllib3/connectionpool.py:1099: InsecureRequestWarning: Unverified HTTPS request is being made to host 'www.chinaqw.com'. Adding certificate verification is strongly advised. See: https://urllib3.readthedocs.io/en/latest/advanced-usage.html#tls-warnings\n",
            "  warnings.warn(\n",
            "/usr/local/lib/python3.10/dist-packages/urllib3/connectionpool.py:1099: InsecureRequestWarning: Unverified HTTPS request is being made to host 'www.chinaqw.com'. Adding certificate verification is strongly advised. See: https://urllib3.readthedocs.io/en/latest/advanced-usage.html#tls-warnings\n",
            "  warnings.warn(\n"
          ]
        },
        {
          "name": "stdout",
          "output_type": "stream",
          "text": [
            "Downloaded and saved HTML: https://www.chinaqw.com/hqhr/2024/10-28/385687.shtml\n"
          ]
        },
        {
          "name": "stderr",
          "output_type": "stream",
          "text": [
            "/usr/local/lib/python3.10/dist-packages/urllib3/connectionpool.py:1099: InsecureRequestWarning: Unverified HTTPS request is being made to host 'www.chinaqw.com'. Adding certificate verification is strongly advised. See: https://urllib3.readthedocs.io/en/latest/advanced-usage.html#tls-warnings\n",
            "  warnings.warn(\n"
          ]
        },
        {
          "name": "stdout",
          "output_type": "stream",
          "text": [
            "Downloaded and saved HTML: https://www.chinaqw.com/kong/2024/10-28/385689.shtml\n"
          ]
        },
        {
          "name": "stderr",
          "output_type": "stream",
          "text": [
            "/usr/local/lib/python3.10/dist-packages/urllib3/connectionpool.py:1099: InsecureRequestWarning: Unverified HTTPS request is being made to host 'www.chinaqw.com'. Adding certificate verification is strongly advised. See: https://urllib3.readthedocs.io/en/latest/advanced-usage.html#tls-warnings\n",
            "  warnings.warn(\n"
          ]
        },
        {
          "name": "stdout",
          "output_type": "stream",
          "text": [
            "Downloaded and saved HTML: https://www.chinaqw.com/hwjy/2024/10-28/385688.shtml\n"
          ]
        },
        {
          "name": "stderr",
          "output_type": "stream",
          "text": [
            "/usr/local/lib/python3.10/dist-packages/urllib3/connectionpool.py:1099: InsecureRequestWarning: Unverified HTTPS request is being made to host 'www.chinaqw.com'. Adding certificate verification is strongly advised. See: https://urllib3.readthedocs.io/en/latest/advanced-usage.html#tls-warnings\n",
            "  warnings.warn(\n"
          ]
        },
        {
          "name": "stdout",
          "output_type": "stream",
          "text": [
            "Downloaded and saved HTML: https://www.chinaqw.com/qwxs/2024/10-28/385679.shtml\n"
          ]
        },
        {
          "name": "stderr",
          "output_type": "stream",
          "text": [
            "/usr/local/lib/python3.10/dist-packages/urllib3/connectionpool.py:1099: InsecureRequestWarning: Unverified HTTPS request is being made to host 'www.chinaqw.com'. Adding certificate verification is strongly advised. See: https://urllib3.readthedocs.io/en/latest/advanced-usage.html#tls-warnings\n",
            "  warnings.warn(\n"
          ]
        },
        {
          "name": "stdout",
          "output_type": "stream",
          "text": [
            "Downloaded and saved HTML: https://www.chinaqw.com/ydylpc/2024/10-28/385666.shtml\n"
          ]
        },
        {
          "name": "stderr",
          "output_type": "stream",
          "text": [
            "/usr/local/lib/python3.10/dist-packages/urllib3/connectionpool.py:1099: InsecureRequestWarning: Unverified HTTPS request is being made to host 'www.chinaqw.com'. Adding certificate verification is strongly advised. See: https://urllib3.readthedocs.io/en/latest/advanced-usage.html#tls-warnings\n",
            "  warnings.warn(\n"
          ]
        },
        {
          "name": "stdout",
          "output_type": "stream",
          "text": [
            "Downloaded and saved HTML: https://www.chinaqw.com/hqhr/2024/10-26/385643.shtml\n"
          ]
        },
        {
          "name": "stderr",
          "output_type": "stream",
          "text": [
            "/usr/local/lib/python3.10/dist-packages/urllib3/connectionpool.py:1099: InsecureRequestWarning: Unverified HTTPS request is being made to host 'www.chinaqw.com'. Adding certificate verification is strongly advised. See: https://urllib3.readthedocs.io/en/latest/advanced-usage.html#tls-warnings\n",
            "  warnings.warn(\n"
          ]
        },
        {
          "name": "stdout",
          "output_type": "stream",
          "text": [
            "Downloaded and saved HTML: https://www.chinaqw.com/hqly/2024/10-28/385692.shtml\n"
          ]
        },
        {
          "name": "stderr",
          "output_type": "stream",
          "text": [
            "/usr/local/lib/python3.10/dist-packages/urllib3/connectionpool.py:1099: InsecureRequestWarning: Unverified HTTPS request is being made to host 'www.chinaqw.com'. Adding certificate verification is strongly advised. See: https://urllib3.readthedocs.io/en/latest/advanced-usage.html#tls-warnings\n",
            "  warnings.warn(\n"
          ]
        },
        {
          "name": "stdout",
          "output_type": "stream",
          "text": [
            "Downloaded and saved HTML: https://www.chinaqw.com/hqly/2024/10-28/385685.shtml\n"
          ]
        },
        {
          "name": "stderr",
          "output_type": "stream",
          "text": [
            "/usr/local/lib/python3.10/dist-packages/urllib3/connectionpool.py:1099: InsecureRequestWarning: Unverified HTTPS request is being made to host 'www.chinaqw.com'. Adding certificate verification is strongly advised. See: https://urllib3.readthedocs.io/en/latest/advanced-usage.html#tls-warnings\n",
            "  warnings.warn(\n"
          ]
        },
        {
          "name": "stdout",
          "output_type": "stream",
          "text": [
            "Downloaded and saved HTML: https://www.chinaqw.com/sp/2024/10-28/385676.shtml\n"
          ]
        },
        {
          "name": "stderr",
          "output_type": "stream",
          "text": [
            "/usr/local/lib/python3.10/dist-packages/urllib3/connectionpool.py:1099: InsecureRequestWarning: Unverified HTTPS request is being made to host 'www.chinaqw.com'. Adding certificate verification is strongly advised. See: https://urllib3.readthedocs.io/en/latest/advanced-usage.html#tls-warnings\n",
            "  warnings.warn(\n"
          ]
        },
        {
          "name": "stdout",
          "output_type": "stream",
          "text": [
            "Downloaded and saved HTML: https://www.chinaqw.com/jjkj/2024/10-28/385669.shtml\n"
          ]
        },
        {
          "name": "stderr",
          "output_type": "stream",
          "text": [
            "/usr/local/lib/python3.10/dist-packages/urllib3/connectionpool.py:1099: InsecureRequestWarning: Unverified HTTPS request is being made to host 'www.chinaqw.com'. Adding certificate verification is strongly advised. See: https://urllib3.readthedocs.io/en/latest/advanced-usage.html#tls-warnings\n",
            "  warnings.warn(\n"
          ]
        },
        {
          "name": "stdout",
          "output_type": "stream",
          "text": [
            "Downloaded and saved HTML: https://www.chinaqw.com/hwjy/2024/10-26/385656.shtml\n"
          ]
        },
        {
          "name": "stderr",
          "output_type": "stream",
          "text": [
            "/usr/local/lib/python3.10/dist-packages/urllib3/connectionpool.py:1099: InsecureRequestWarning: Unverified HTTPS request is being made to host 'www.chinaqw.com'. Adding certificate verification is strongly advised. See: https://urllib3.readthedocs.io/en/latest/advanced-usage.html#tls-warnings\n",
            "  warnings.warn(\n"
          ]
        },
        {
          "name": "stdout",
          "output_type": "stream",
          "text": [
            "Downloaded and saved HTML: https://www.chinaqw.com/qw.html\n"
          ]
        },
        {
          "name": "stderr",
          "output_type": "stream",
          "text": [
            "/usr/local/lib/python3.10/dist-packages/urllib3/connectionpool.py:1099: InsecureRequestWarning: Unverified HTTPS request is being made to host 'www.chinaqw.com'. Adding certificate verification is strongly advised. See: https://urllib3.readthedocs.io/en/latest/advanced-usage.html#tls-warnings\n",
            "  warnings.warn(\n"
          ]
        },
        {
          "name": "stdout",
          "output_type": "stream",
          "text": [
            "Downloaded and saved HTML: https://www.chinaqw.com/qwxs/2024/10-28/385671.shtml\n",
            "Downloaded and saved HTML: https://www.chinaqw.com/qwxs/2024/10-28/385671.shtml\n"
          ]
        },
        {
          "name": "stderr",
          "output_type": "stream",
          "text": [
            "/usr/local/lib/python3.10/dist-packages/urllib3/connectionpool.py:1099: InsecureRequestWarning: Unverified HTTPS request is being made to host 'www.chinaqw.com'. Adding certificate verification is strongly advised. See: https://urllib3.readthedocs.io/en/latest/advanced-usage.html#tls-warnings\n",
            "  warnings.warn(\n",
            "/usr/local/lib/python3.10/dist-packages/urllib3/connectionpool.py:1099: InsecureRequestWarning: Unverified HTTPS request is being made to host 'www.chinaqw.com'. Adding certificate verification is strongly advised. See: https://urllib3.readthedocs.io/en/latest/advanced-usage.html#tls-warnings\n",
            "  warnings.warn(\n"
          ]
        },
        {
          "name": "stdout",
          "output_type": "stream",
          "text": [
            "Downloaded and saved HTML: https://www.chinaqw.com/qwxs/2024/10-28/385690.shtml\n",
            "Downloaded and saved HTML: https://www.chinaqw.com/qwxs/2024/10-28/385679.shtml\n"
          ]
        },
        {
          "name": "stderr",
          "output_type": "stream",
          "text": [
            "/usr/local/lib/python3.10/dist-packages/urllib3/connectionpool.py:1099: InsecureRequestWarning: Unverified HTTPS request is being made to host 'www.chinaqw.com'. Adding certificate verification is strongly advised. See: https://urllib3.readthedocs.io/en/latest/advanced-usage.html#tls-warnings\n",
            "  warnings.warn(\n",
            "/usr/local/lib/python3.10/dist-packages/urllib3/connectionpool.py:1099: InsecureRequestWarning: Unverified HTTPS request is being made to host 'www.chinaqw.com'. Adding certificate verification is strongly advised. See: https://urllib3.readthedocs.io/en/latest/advanced-usage.html#tls-warnings\n",
            "  warnings.warn(\n"
          ]
        },
        {
          "name": "stdout",
          "output_type": "stream",
          "text": [
            "Downloaded and saved HTML: https://www.chinaqw.com/qwxs/2024/10-28/385673.shtml\n"
          ]
        },
        {
          "name": "stderr",
          "output_type": "stream",
          "text": [
            "/usr/local/lib/python3.10/dist-packages/urllib3/connectionpool.py:1099: InsecureRequestWarning: Unverified HTTPS request is being made to host 'www.chinaqw.com'. Adding certificate verification is strongly advised. See: https://urllib3.readthedocs.io/en/latest/advanced-usage.html#tls-warnings\n",
            "  warnings.warn(\n"
          ]
        },
        {
          "name": "stdout",
          "output_type": "stream",
          "text": [
            "Downloaded and saved HTML: https://www.chinaqw.com/qwxs/2024/10-28/385661.shtml\n"
          ]
        },
        {
          "name": "stderr",
          "output_type": "stream",
          "text": [
            "/usr/local/lib/python3.10/dist-packages/urllib3/connectionpool.py:1099: InsecureRequestWarning: Unverified HTTPS request is being made to host 'www.chinaqw.com'. Adding certificate verification is strongly advised. See: https://urllib3.readthedocs.io/en/latest/advanced-usage.html#tls-warnings\n",
            "  warnings.warn(\n"
          ]
        },
        {
          "name": "stdout",
          "output_type": "stream",
          "text": [
            "Downloaded and saved HTML: https://www.chinaqw.com/hr.html\n",
            "Downloaded and saved HTML: https://www.chinaqw.com/hqhr/2024/10-28/385687.shtml\n",
            "Downloaded and saved HTML: https://www.chinaqw.com/hqhr/2024/10-28/385687.shtml\n"
          ]
        },
        {
          "name": "stderr",
          "output_type": "stream",
          "text": [
            "/usr/local/lib/python3.10/dist-packages/urllib3/connectionpool.py:1099: InsecureRequestWarning: Unverified HTTPS request is being made to host 'www.chinaqw.com'. Adding certificate verification is strongly advised. See: https://urllib3.readthedocs.io/en/latest/advanced-usage.html#tls-warnings\n",
            "  warnings.warn(\n",
            "/usr/local/lib/python3.10/dist-packages/urllib3/connectionpool.py:1099: InsecureRequestWarning: Unverified HTTPS request is being made to host 'www.chinaqw.com'. Adding certificate verification is strongly advised. See: https://urllib3.readthedocs.io/en/latest/advanced-usage.html#tls-warnings\n",
            "  warnings.warn(\n",
            "/usr/local/lib/python3.10/dist-packages/urllib3/connectionpool.py:1099: InsecureRequestWarning: Unverified HTTPS request is being made to host 'www.chinaqw.com'. Adding certificate verification is strongly advised. See: https://urllib3.readthedocs.io/en/latest/advanced-usage.html#tls-warnings\n",
            "  warnings.warn(\n"
          ]
        },
        {
          "name": "stdout",
          "output_type": "stream",
          "text": [
            "Downloaded and saved HTML: https://www.chinaqw.com/hqhr/2024/10-28/385684.shtml\n"
          ]
        },
        {
          "name": "stderr",
          "output_type": "stream",
          "text": [
            "/usr/local/lib/python3.10/dist-packages/urllib3/connectionpool.py:1099: InsecureRequestWarning: Unverified HTTPS request is being made to host 'www.chinaqw.com'. Adding certificate verification is strongly advised. See: https://urllib3.readthedocs.io/en/latest/advanced-usage.html#tls-warnings\n",
            "  warnings.warn(\n"
          ]
        },
        {
          "name": "stdout",
          "output_type": "stream",
          "text": [
            "Downloaded and saved HTML: https://www.chinaqw.com/hqhr/2024/10-28/385663.shtml\n"
          ]
        },
        {
          "name": "stderr",
          "output_type": "stream",
          "text": [
            "/usr/local/lib/python3.10/dist-packages/urllib3/connectionpool.py:1099: InsecureRequestWarning: Unverified HTTPS request is being made to host 'www.chinaqw.com'. Adding certificate verification is strongly advised. See: https://urllib3.readthedocs.io/en/latest/advanced-usage.html#tls-warnings\n",
            "  warnings.warn(\n"
          ]
        },
        {
          "name": "stdout",
          "output_type": "stream",
          "text": [
            "Downloaded and saved HTML: https://www.chinaqw.com/hqhr/2024/10-28/385664.shtml\n"
          ]
        },
        {
          "name": "stderr",
          "output_type": "stream",
          "text": [
            "/usr/local/lib/python3.10/dist-packages/urllib3/connectionpool.py:1099: InsecureRequestWarning: Unverified HTTPS request is being made to host 'www.chinaqw.com'. Adding certificate verification is strongly advised. See: https://urllib3.readthedocs.io/en/latest/advanced-usage.html#tls-warnings\n",
            "  warnings.warn(\n"
          ]
        },
        {
          "name": "stdout",
          "output_type": "stream",
          "text": [
            "Downloaded and saved HTML: https://www.chinaqw.com/hqhr/2024/10-28/385667.shtml\n"
          ]
        },
        {
          "name": "stderr",
          "output_type": "stream",
          "text": [
            "/usr/local/lib/python3.10/dist-packages/urllib3/connectionpool.py:1099: InsecureRequestWarning: Unverified HTTPS request is being made to host 'www.chinaqw.com'. Adding certificate verification is strongly advised. See: https://urllib3.readthedocs.io/en/latest/advanced-usage.html#tls-warnings\n",
            "  warnings.warn(\n"
          ]
        },
        {
          "name": "stdout",
          "output_type": "stream",
          "text": [
            "Downloaded and saved HTML: https://www.chinaqw.com/lst.html\n"
          ]
        },
        {
          "name": "stderr",
          "output_type": "stream",
          "text": [
            "/usr/local/lib/python3.10/dist-packages/urllib3/connectionpool.py:1099: InsecureRequestWarning: Unverified HTTPS request is being made to host 'www.chinaqw.com'. Adding certificate verification is strongly advised. See: https://urllib3.readthedocs.io/en/latest/advanced-usage.html#tls-warnings\n",
            "  warnings.warn(\n"
          ]
        },
        {
          "name": "stdout",
          "output_type": "stream",
          "text": [
            "Downloaded and saved HTML: https://www.chinaqw.com/hdfw/2024/10-26/385642.shtml\n",
            "Downloaded and saved HTML: https://www.chinaqw.com/hdfw/2024/10-26/385642.shtml\n"
          ]
        },
        {
          "name": "stderr",
          "output_type": "stream",
          "text": [
            "/usr/local/lib/python3.10/dist-packages/urllib3/connectionpool.py:1099: InsecureRequestWarning: Unverified HTTPS request is being made to host 'www.chinaqw.com'. Adding certificate verification is strongly advised. See: https://urllib3.readthedocs.io/en/latest/advanced-usage.html#tls-warnings\n",
            "  warnings.warn(\n",
            "/usr/local/lib/python3.10/dist-packages/urllib3/connectionpool.py:1099: InsecureRequestWarning: Unverified HTTPS request is being made to host 'www.chinaqw.com'. Adding certificate verification is strongly advised. See: https://urllib3.readthedocs.io/en/latest/advanced-usage.html#tls-warnings\n",
            "  warnings.warn(\n"
          ]
        },
        {
          "name": "stdout",
          "output_type": "stream",
          "text": [
            "Downloaded and saved HTML: https://www.chinaqw.com/hdfw/2024/10-26/385651.shtml\n"
          ]
        },
        {
          "name": "stderr",
          "output_type": "stream",
          "text": [
            "/usr/local/lib/python3.10/dist-packages/urllib3/connectionpool.py:1099: InsecureRequestWarning: Unverified HTTPS request is being made to host 'www.chinaqw.com'. Adding certificate verification is strongly advised. See: https://urllib3.readthedocs.io/en/latest/advanced-usage.html#tls-warnings\n",
            "  warnings.warn(\n"
          ]
        },
        {
          "name": "stdout",
          "output_type": "stream",
          "text": [
            "Downloaded and saved HTML: https://www.chinaqw.com/hdfw/2024/10-26/385649.shtml\n"
          ]
        },
        {
          "name": "stderr",
          "output_type": "stream",
          "text": [
            "/usr/local/lib/python3.10/dist-packages/urllib3/connectionpool.py:1099: InsecureRequestWarning: Unverified HTTPS request is being made to host 'www.chinaqw.com'. Adding certificate verification is strongly advised. See: https://urllib3.readthedocs.io/en/latest/advanced-usage.html#tls-warnings\n",
            "  warnings.warn(\n"
          ]
        },
        {
          "name": "stdout",
          "output_type": "stream",
          "text": [
            "Downloaded and saved HTML: https://www.chinaqw.com/hdfw/2024/10-26/385648.shtml\n"
          ]
        },
        {
          "name": "stderr",
          "output_type": "stream",
          "text": [
            "/usr/local/lib/python3.10/dist-packages/urllib3/connectionpool.py:1099: InsecureRequestWarning: Unverified HTTPS request is being made to host 'www.chinaqw.com'. Adding certificate verification is strongly advised. See: https://urllib3.readthedocs.io/en/latest/advanced-usage.html#tls-warnings\n",
            "  warnings.warn(\n"
          ]
        },
        {
          "name": "stdout",
          "output_type": "stream",
          "text": [
            "Downloaded and saved HTML: https://www.chinaqw.com/hdfw/2024/10-26/385645.shtml\n"
          ]
        },
        {
          "name": "stderr",
          "output_type": "stream",
          "text": [
            "/usr/local/lib/python3.10/dist-packages/urllib3/connectionpool.py:1099: InsecureRequestWarning: Unverified HTTPS request is being made to host 'www.chinaqw.com'. Adding certificate verification is strongly advised. See: https://urllib3.readthedocs.io/en/latest/advanced-usage.html#tls-warnings\n",
            "  warnings.warn(\n"
          ]
        },
        {
          "name": "stdout",
          "output_type": "stream",
          "text": [
            "Downloaded and saved HTML: https://www.chinaqw.com/qx.html\n"
          ]
        },
        {
          "name": "stderr",
          "output_type": "stream",
          "text": [
            "/usr/local/lib/python3.10/dist-packages/urllib3/connectionpool.py:1099: InsecureRequestWarning: Unverified HTTPS request is being made to host 'www.chinaqw.com'. Adding certificate verification is strongly advised. See: https://urllib3.readthedocs.io/en/latest/advanced-usage.html#tls-warnings\n",
            "  warnings.warn(\n"
          ]
        },
        {
          "name": "stdout",
          "output_type": "stream",
          "text": [
            "Downloaded and saved HTML: https://www.chinaqw.com/qx/2024/10-26/385637.shtml\n"
          ]
        },
        {
          "name": "stderr",
          "output_type": "stream",
          "text": [
            "/usr/local/lib/python3.10/dist-packages/urllib3/connectionpool.py:1099: InsecureRequestWarning: Unverified HTTPS request is being made to host 'www.chinaqw.com'. Adding certificate verification is strongly advised. See: https://urllib3.readthedocs.io/en/latest/advanced-usage.html#tls-warnings\n",
            "  warnings.warn(\n"
          ]
        },
        {
          "name": "stdout",
          "output_type": "stream",
          "text": [
            "Downloaded and saved HTML: https://www.chinaqw.com/qx/2024/10-26/385637.shtml\n"
          ]
        },
        {
          "name": "stderr",
          "output_type": "stream",
          "text": [
            "/usr/local/lib/python3.10/dist-packages/urllib3/connectionpool.py:1099: InsecureRequestWarning: Unverified HTTPS request is being made to host 'www.chinaqw.com'. Adding certificate verification is strongly advised. See: https://urllib3.readthedocs.io/en/latest/advanced-usage.html#tls-warnings\n",
            "  warnings.warn(\n"
          ]
        },
        {
          "name": "stdout",
          "output_type": "stream",
          "text": [
            "Downloaded and saved HTML: https://www.chinaqw.com/qx/2024/10-28/385695.shtml\n"
          ]
        },
        {
          "name": "stderr",
          "output_type": "stream",
          "text": [
            "/usr/local/lib/python3.10/dist-packages/urllib3/connectionpool.py:1099: InsecureRequestWarning: Unverified HTTPS request is being made to host 'www.chinaqw.com'. Adding certificate verification is strongly advised. See: https://urllib3.readthedocs.io/en/latest/advanced-usage.html#tls-warnings\n",
            "  warnings.warn(\n"
          ]
        },
        {
          "name": "stdout",
          "output_type": "stream",
          "text": [
            "Downloaded and saved HTML: https://www.chinaqw.com/qx/2024/10-26/385657.shtml\n"
          ]
        },
        {
          "name": "stderr",
          "output_type": "stream",
          "text": [
            "/usr/local/lib/python3.10/dist-packages/urllib3/connectionpool.py:1099: InsecureRequestWarning: Unverified HTTPS request is being made to host 'www.chinaqw.com'. Adding certificate verification is strongly advised. See: https://urllib3.readthedocs.io/en/latest/advanced-usage.html#tls-warnings\n",
            "  warnings.warn(\n"
          ]
        },
        {
          "name": "stdout",
          "output_type": "stream",
          "text": [
            "Downloaded and saved HTML: https://www.chinaqw.com/yw/hd2011/2024/10-26/65760.shtml\n"
          ]
        },
        {
          "name": "stderr",
          "output_type": "stream",
          "text": [
            "/usr/local/lib/python3.10/dist-packages/urllib3/connectionpool.py:1099: InsecureRequestWarning: Unverified HTTPS request is being made to host 'www.chinaqw.com'. Adding certificate verification is strongly advised. See: https://urllib3.readthedocs.io/en/latest/advanced-usage.html#tls-warnings\n",
            "  warnings.warn(\n"
          ]
        },
        {
          "name": "stdout",
          "output_type": "stream",
          "text": [
            "Downloaded and saved HTML: https://www.chinaqw.com/qx/hd2011/2024/10-25/65749.shtml\n"
          ]
        },
        {
          "name": "stderr",
          "output_type": "stream",
          "text": [
            "/usr/local/lib/python3.10/dist-packages/urllib3/connectionpool.py:1099: InsecureRequestWarning: Unverified HTTPS request is being made to host 'www.chinaqw.com'. Adding certificate verification is strongly advised. See: https://urllib3.readthedocs.io/en/latest/advanced-usage.html#tls-warnings\n",
            "  warnings.warn(\n"
          ]
        },
        {
          "name": "stdout",
          "output_type": "stream",
          "text": [
            "Downloaded and saved HTML: https://www.chinaqw.com/ycpp.html\n"
          ]
        },
        {
          "name": "stderr",
          "output_type": "stream",
          "text": [
            "/usr/local/lib/python3.10/dist-packages/urllib3/connectionpool.py:1099: InsecureRequestWarning: Unverified HTTPS request is being made to host 'www.chinaqw.com'. Adding certificate verification is strongly advised. See: https://urllib3.readthedocs.io/en/latest/advanced-usage.html#tls-warnings\n",
            "  warnings.warn(\n"
          ]
        },
        {
          "name": "stdout",
          "output_type": "stream",
          "text": [
            "Downloaded and saved HTML: https://www.chinaqw.com/hwjy/2024/10-25/385620.shtml\n"
          ]
        },
        {
          "name": "stderr",
          "output_type": "stream",
          "text": [
            "/usr/local/lib/python3.10/dist-packages/urllib3/connectionpool.py:1099: InsecureRequestWarning: Unverified HTTPS request is being made to host 'www.chinaqw.com'. Adding certificate verification is strongly advised. See: https://urllib3.readthedocs.io/en/latest/advanced-usage.html#tls-warnings\n",
            "  warnings.warn(\n"
          ]
        },
        {
          "name": "stdout",
          "output_type": "stream",
          "text": [
            "Downloaded and saved HTML: https://www.chinaqw.com/hqhr/2024/10-24/385534.shtml\n"
          ]
        },
        {
          "name": "stderr",
          "output_type": "stream",
          "text": [
            "/usr/local/lib/python3.10/dist-packages/urllib3/connectionpool.py:1099: InsecureRequestWarning: Unverified HTTPS request is being made to host 'www.chinaqw.com'. Adding certificate verification is strongly advised. See: https://urllib3.readthedocs.io/en/latest/advanced-usage.html#tls-warnings\n",
            "  warnings.warn(\n"
          ]
        },
        {
          "name": "stdout",
          "output_type": "stream",
          "text": [
            "Downloaded and saved HTML: https://www.chinaqw.com/hwjy/2024/10-23/385503.shtml\n",
            "Downloaded and saved HTML: https://www.chinaqw.com/hwjy/2024/10-25/385620.shtml\n"
          ]
        },
        {
          "name": "stderr",
          "output_type": "stream",
          "text": [
            "/usr/local/lib/python3.10/dist-packages/urllib3/connectionpool.py:1099: InsecureRequestWarning: Unverified HTTPS request is being made to host 'www.chinaqw.com'. Adding certificate verification is strongly advised. See: https://urllib3.readthedocs.io/en/latest/advanced-usage.html#tls-warnings\n",
            "  warnings.warn(\n",
            "/usr/local/lib/python3.10/dist-packages/urllib3/connectionpool.py:1099: InsecureRequestWarning: Unverified HTTPS request is being made to host 'www.chinaqw.com'. Adding certificate verification is strongly advised. See: https://urllib3.readthedocs.io/en/latest/advanced-usage.html#tls-warnings\n",
            "  warnings.warn(\n"
          ]
        },
        {
          "name": "stdout",
          "output_type": "stream",
          "text": [
            "Downloaded and saved HTML: https://www.chinaqw.com/ycjx/2024/10-22/385425.shtml\n"
          ]
        },
        {
          "name": "stderr",
          "output_type": "stream",
          "text": [
            "/usr/local/lib/python3.10/dist-packages/urllib3/connectionpool.py:1099: InsecureRequestWarning: Unverified HTTPS request is being made to host 'www.chinaqw.com'. Adding certificate verification is strongly advised. See: https://urllib3.readthedocs.io/en/latest/advanced-usage.html#tls-warnings\n",
            "  warnings.warn(\n"
          ]
        },
        {
          "name": "stdout",
          "output_type": "stream",
          "text": [
            "Downloaded and saved HTML: https://www.chinaqw.com/qwxs/2024/10-21/385398.shtml\n"
          ]
        },
        {
          "name": "stderr",
          "output_type": "stream",
          "text": [
            "/usr/local/lib/python3.10/dist-packages/urllib3/connectionpool.py:1099: InsecureRequestWarning: Unverified HTTPS request is being made to host 'www.chinaqw.com'. Adding certificate verification is strongly advised. See: https://urllib3.readthedocs.io/en/latest/advanced-usage.html#tls-warnings\n",
            "  warnings.warn(\n"
          ]
        },
        {
          "name": "stdout",
          "output_type": "stream",
          "text": [
            "Downloaded and saved HTML: https://www.chinaqw.com/hwjy/2024/10-19/385328.shtml\n"
          ]
        },
        {
          "name": "stderr",
          "output_type": "stream",
          "text": [
            "/usr/local/lib/python3.10/dist-packages/urllib3/connectionpool.py:1099: InsecureRequestWarning: Unverified HTTPS request is being made to host 'www.chinaqw.com'. Adding certificate verification is strongly advised. See: https://urllib3.readthedocs.io/en/latest/advanced-usage.html#tls-warnings\n",
            "  warnings.warn(\n"
          ]
        },
        {
          "name": "stdout",
          "output_type": "stream",
          "text": [
            "Downloaded and saved HTML: https://www.chinaqw.com/qwxs/2024/10-16/385217.shtml\n"
          ]
        },
        {
          "name": "stderr",
          "output_type": "stream",
          "text": [
            "/usr/local/lib/python3.10/dist-packages/urllib3/connectionpool.py:1099: InsecureRequestWarning: Unverified HTTPS request is being made to host 'www.chinaqw.com'. Adding certificate verification is strongly advised. See: https://urllib3.readthedocs.io/en/latest/advanced-usage.html#tls-warnings\n",
            "  warnings.warn(\n"
          ]
        },
        {
          "name": "stdout",
          "output_type": "stream",
          "text": [
            "Downloaded and saved HTML: https://www.chinaqw.com/qwxs/2024/10-16/385215.shtml\n"
          ]
        },
        {
          "name": "stderr",
          "output_type": "stream",
          "text": [
            "/usr/local/lib/python3.10/dist-packages/urllib3/connectionpool.py:1099: InsecureRequestWarning: Unverified HTTPS request is being made to host 'www.chinaqw.com'. Adding certificate verification is strongly advised. See: https://urllib3.readthedocs.io/en/latest/advanced-usage.html#tls-warnings\n",
            "  warnings.warn(\n"
          ]
        },
        {
          "name": "stdout",
          "output_type": "stream",
          "text": [
            "Downloaded and saved HTML: https://www.chinaqw.com/yw/2024/10-16/385169.shtml\n"
          ]
        },
        {
          "name": "stderr",
          "output_type": "stream",
          "text": [
            "/usr/local/lib/python3.10/dist-packages/urllib3/connectionpool.py:1099: InsecureRequestWarning: Unverified HTTPS request is being made to host 'www.chinaqw.com'. Adding certificate verification is strongly advised. See: https://urllib3.readthedocs.io/en/latest/advanced-usage.html#tls-warnings\n",
            "  warnings.warn(\n"
          ]
        },
        {
          "name": "stdout",
          "output_type": "stream",
          "text": [
            "Downloaded and saved HTML: https://www.chinaqw.com/hdfw/2024/10-16/385167.shtml\n"
          ]
        },
        {
          "name": "stderr",
          "output_type": "stream",
          "text": [
            "/usr/local/lib/python3.10/dist-packages/urllib3/connectionpool.py:1099: InsecureRequestWarning: Unverified HTTPS request is being made to host 'www.chinaqw.com'. Adding certificate verification is strongly advised. See: https://urllib3.readthedocs.io/en/latest/advanced-usage.html#tls-warnings\n",
            "  warnings.warn(\n"
          ]
        },
        {
          "name": "stdout",
          "output_type": "stream",
          "text": [
            "Downloaded and saved HTML: https://www.chinaqw.com/qwxs/2024/10-15/385135.shtml\n"
          ]
        },
        {
          "name": "stderr",
          "output_type": "stream",
          "text": [
            "/usr/local/lib/python3.10/dist-packages/urllib3/connectionpool.py:1099: InsecureRequestWarning: Unverified HTTPS request is being made to host 'www.chinaqw.com'. Adding certificate verification is strongly advised. See: https://urllib3.readthedocs.io/en/latest/advanced-usage.html#tls-warnings\n",
            "  warnings.warn(\n"
          ]
        },
        {
          "name": "stdout",
          "output_type": "stream",
          "text": [
            "Downloaded and saved HTML: https://www.chinaqw.com/qx/2024/10-15/385128.shtml\n"
          ]
        },
        {
          "name": "stderr",
          "output_type": "stream",
          "text": [
            "/usr/local/lib/python3.10/dist-packages/urllib3/connectionpool.py:1099: InsecureRequestWarning: Unverified HTTPS request is being made to host 'www.chinaqw.com'. Adding certificate verification is strongly advised. See: https://urllib3.readthedocs.io/en/latest/advanced-usage.html#tls-warnings\n",
            "  warnings.warn(\n"
          ]
        },
        {
          "name": "stdout",
          "output_type": "stream",
          "text": [
            "Downloaded and saved HTML: https://www.chinaqw.com/ydyl/index.shtml\n"
          ]
        },
        {
          "name": "stderr",
          "output_type": "stream",
          "text": [
            "/usr/local/lib/python3.10/dist-packages/urllib3/connectionpool.py:1099: InsecureRequestWarning: Unverified HTTPS request is being made to host 'www.hwjyw.com'. Adding certificate verification is strongly advised. See: https://urllib3.readthedocs.io/en/latest/advanced-usage.html#tls-warnings\n",
            "  warnings.warn(\n"
          ]
        },
        {
          "name": "stdout",
          "output_type": "stream",
          "text": [
            "Downloaded and saved HTML: https://www.hwjyw.com/\n"
          ]
        },
        {
          "name": "stderr",
          "output_type": "stream",
          "text": [
            "/usr/local/lib/python3.10/dist-packages/urllib3/connectionpool.py:1099: InsecureRequestWarning: Unverified HTTPS request is being made to host 'www.chinaqw.com'. Adding certificate verification is strongly advised. See: https://urllib3.readthedocs.io/en/latest/advanced-usage.html#tls-warnings\n",
            "  warnings.warn(\n"
          ]
        },
        {
          "name": "stdout",
          "output_type": "stream",
          "text": [
            "Downloaded and saved HTML: https://www.chinaqw.com/video.html\n"
          ]
        },
        {
          "name": "stderr",
          "output_type": "stream",
          "text": [
            "/usr/local/lib/python3.10/dist-packages/urllib3/connectionpool.py:1099: InsecureRequestWarning: Unverified HTTPS request is being made to host 'www.chinaqw.com'. Adding certificate verification is strongly advised. See: https://urllib3.readthedocs.io/en/latest/advanced-usage.html#tls-warnings\n",
            "  warnings.warn(\n"
          ]
        },
        {
          "name": "stdout",
          "output_type": "stream",
          "text": [
            "Downloaded and saved HTML: https://www.chinaqw.com/sp/2024/10-28/385683.shtml\n"
          ]
        },
        {
          "name": "stderr",
          "output_type": "stream",
          "text": [
            "/usr/local/lib/python3.10/dist-packages/urllib3/connectionpool.py:1099: InsecureRequestWarning: Unverified HTTPS request is being made to host 'www.chinaqw.com'. Adding certificate verification is strongly advised. See: https://urllib3.readthedocs.io/en/latest/advanced-usage.html#tls-warnings\n",
            "  warnings.warn(\n"
          ]
        },
        {
          "name": "stdout",
          "output_type": "stream",
          "text": [
            "Downloaded and saved HTML: https://www.chinaqw.com/sp/2024/10-28/385676.shtml\n"
          ]
        },
        {
          "name": "stderr",
          "output_type": "stream",
          "text": [
            "/usr/local/lib/python3.10/dist-packages/urllib3/connectionpool.py:1099: InsecureRequestWarning: Unverified HTTPS request is being made to host 'www.chinaqw.com'. Adding certificate verification is strongly advised. See: https://urllib3.readthedocs.io/en/latest/advanced-usage.html#tls-warnings\n",
            "  warnings.warn(\n"
          ]
        },
        {
          "name": "stdout",
          "output_type": "stream",
          "text": [
            "Downloaded and saved HTML: https://www.chinaqw.com/sp/2024/10-28/385674.shtml\n"
          ]
        },
        {
          "name": "stderr",
          "output_type": "stream",
          "text": [
            "/usr/local/lib/python3.10/dist-packages/urllib3/connectionpool.py:1099: InsecureRequestWarning: Unverified HTTPS request is being made to host 'www.chinaqw.com'. Adding certificate verification is strongly advised. See: https://urllib3.readthedocs.io/en/latest/advanced-usage.html#tls-warnings\n",
            "  warnings.warn(\n"
          ]
        },
        {
          "name": "stdout",
          "output_type": "stream",
          "text": [
            "Downloaded and saved HTML: https://www.chinaqw.com/whjy.html\n"
          ]
        },
        {
          "name": "stderr",
          "output_type": "stream",
          "text": [
            "/usr/local/lib/python3.10/dist-packages/urllib3/connectionpool.py:1099: InsecureRequestWarning: Unverified HTTPS request is being made to host 'www.chinaqw.com'. Adding certificate verification is strongly advised. See: https://urllib3.readthedocs.io/en/latest/advanced-usage.html#tls-warnings\n",
            "  warnings.warn(\n"
          ]
        },
        {
          "name": "stdout",
          "output_type": "stream",
          "text": [
            "Downloaded and saved HTML: https://www.chinaqw.com/hwjy/2024/10-28/385665.shtml\n",
            "Downloaded and saved HTML: https://www.chinaqw.com/hwjy/2024/10-28/385665.shtml\n"
          ]
        },
        {
          "name": "stderr",
          "output_type": "stream",
          "text": [
            "/usr/local/lib/python3.10/dist-packages/urllib3/connectionpool.py:1099: InsecureRequestWarning: Unverified HTTPS request is being made to host 'www.chinaqw.com'. Adding certificate verification is strongly advised. See: https://urllib3.readthedocs.io/en/latest/advanced-usage.html#tls-warnings\n",
            "  warnings.warn(\n",
            "/usr/local/lib/python3.10/dist-packages/urllib3/connectionpool.py:1099: InsecureRequestWarning: Unverified HTTPS request is being made to host 'www.chinaqw.com'. Adding certificate verification is strongly advised. See: https://urllib3.readthedocs.io/en/latest/advanced-usage.html#tls-warnings\n",
            "  warnings.warn(\n"
          ]
        },
        {
          "name": "stdout",
          "output_type": "stream",
          "text": [
            "Downloaded and saved HTML: https://www.chinaqw.com/hwjy/2024/10-28/385682.shtml\n"
          ]
        },
        {
          "name": "stderr",
          "output_type": "stream",
          "text": [
            "/usr/local/lib/python3.10/dist-packages/urllib3/connectionpool.py:1099: InsecureRequestWarning: Unverified HTTPS request is being made to host 'www.chinaqw.com'. Adding certificate verification is strongly advised. See: https://urllib3.readthedocs.io/en/latest/advanced-usage.html#tls-warnings\n",
            "  warnings.warn(\n"
          ]
        },
        {
          "name": "stdout",
          "output_type": "stream",
          "text": [
            "Downloaded and saved HTML: https://www.chinaqw.com/hwjy/2024/10-28/385681.shtml\n"
          ]
        },
        {
          "name": "stderr",
          "output_type": "stream",
          "text": [
            "/usr/local/lib/python3.10/dist-packages/urllib3/connectionpool.py:1099: InsecureRequestWarning: Unverified HTTPS request is being made to host 'www.chinaqw.com'. Adding certificate verification is strongly advised. See: https://urllib3.readthedocs.io/en/latest/advanced-usage.html#tls-warnings\n",
            "  warnings.warn(\n"
          ]
        },
        {
          "name": "stdout",
          "output_type": "stream",
          "text": [
            "Downloaded and saved HTML: https://www.chinaqw.com/hwjy/2024/10-28/385686.shtml\n",
            "Downloaded and saved HTML: https://www.chinaqw.com/hwjy/2024/10-28/385686.shtml\n"
          ]
        },
        {
          "name": "stderr",
          "output_type": "stream",
          "text": [
            "/usr/local/lib/python3.10/dist-packages/urllib3/connectionpool.py:1099: InsecureRequestWarning: Unverified HTTPS request is being made to host 'www.chinaqw.com'. Adding certificate verification is strongly advised. See: https://urllib3.readthedocs.io/en/latest/advanced-usage.html#tls-warnings\n",
            "  warnings.warn(\n",
            "/usr/local/lib/python3.10/dist-packages/urllib3/connectionpool.py:1099: InsecureRequestWarning: Unverified HTTPS request is being made to host 'www.chinaqw.com'. Adding certificate verification is strongly advised. See: https://urllib3.readthedocs.io/en/latest/advanced-usage.html#tls-warnings\n",
            "  warnings.warn(\n"
          ]
        },
        {
          "name": "stdout",
          "output_type": "stream",
          "text": [
            "Downloaded and saved HTML: https://www.chinaqw.com/hwjy/2024/10-28/385691.shtml\n"
          ]
        },
        {
          "name": "stderr",
          "output_type": "stream",
          "text": [
            "/usr/local/lib/python3.10/dist-packages/urllib3/connectionpool.py:1099: InsecureRequestWarning: Unverified HTTPS request is being made to host 'www.chinaqw.com'. Adding certificate verification is strongly advised. See: https://urllib3.readthedocs.io/en/latest/advanced-usage.html#tls-warnings\n",
            "  warnings.warn(\n"
          ]
        },
        {
          "name": "stdout",
          "output_type": "stream",
          "text": [
            "Downloaded and saved HTML: https://www.chinaqw.com/hwjy/2024/10-28/385688.shtml\n"
          ]
        },
        {
          "name": "stderr",
          "output_type": "stream",
          "text": [
            "/usr/local/lib/python3.10/dist-packages/urllib3/connectionpool.py:1099: InsecureRequestWarning: Unverified HTTPS request is being made to host 'www.chinaqw.com'. Adding certificate verification is strongly advised. See: https://urllib3.readthedocs.io/en/latest/advanced-usage.html#tls-warnings\n",
            "  warnings.warn(\n"
          ]
        },
        {
          "name": "stdout",
          "output_type": "stream",
          "text": [
            "Downloaded and saved HTML: https://www.chinaqw.com/jj.html\n"
          ]
        },
        {
          "name": "stderr",
          "output_type": "stream",
          "text": [
            "/usr/local/lib/python3.10/dist-packages/urllib3/connectionpool.py:1099: InsecureRequestWarning: Unverified HTTPS request is being made to host 'www.chinaqw.com'. Adding certificate verification is strongly advised. See: https://urllib3.readthedocs.io/en/latest/advanced-usage.html#tls-warnings\n",
            "  warnings.warn(\n"
          ]
        },
        {
          "name": "stdout",
          "output_type": "stream",
          "text": [
            "Downloaded and saved HTML: https://www.chinaqw.com/jjkj/2024/10-28/385693.shtml\n",
            "Downloaded and saved HTML: https://www.chinaqw.com/jjkj/2024/10-28/385693.shtml\n"
          ]
        },
        {
          "name": "stderr",
          "output_type": "stream",
          "text": [
            "/usr/local/lib/python3.10/dist-packages/urllib3/connectionpool.py:1099: InsecureRequestWarning: Unverified HTTPS request is being made to host 'www.chinaqw.com'. Adding certificate verification is strongly advised. See: https://urllib3.readthedocs.io/en/latest/advanced-usage.html#tls-warnings\n",
            "  warnings.warn(\n",
            "/usr/local/lib/python3.10/dist-packages/urllib3/connectionpool.py:1099: InsecureRequestWarning: Unverified HTTPS request is being made to host 'www.chinaqw.com'. Adding certificate verification is strongly advised. See: https://urllib3.readthedocs.io/en/latest/advanced-usage.html#tls-warnings\n",
            "  warnings.warn(\n"
          ]
        },
        {
          "name": "stdout",
          "output_type": "stream",
          "text": [
            "Downloaded and saved HTML: https://www.chinaqw.com/jjkj/2024/10-28/385696.shtml\n"
          ]
        },
        {
          "name": "stderr",
          "output_type": "stream",
          "text": [
            "/usr/local/lib/python3.10/dist-packages/urllib3/connectionpool.py:1099: InsecureRequestWarning: Unverified HTTPS request is being made to host 'www.chinaqw.com'. Adding certificate verification is strongly advised. See: https://urllib3.readthedocs.io/en/latest/advanced-usage.html#tls-warnings\n",
            "  warnings.warn(\n"
          ]
        },
        {
          "name": "stdout",
          "output_type": "stream",
          "text": [
            "Downloaded and saved HTML: https://www.chinaqw.com/jjkj/2024/10-28/385678.shtml\n"
          ]
        },
        {
          "name": "stderr",
          "output_type": "stream",
          "text": [
            "/usr/local/lib/python3.10/dist-packages/urllib3/connectionpool.py:1099: InsecureRequestWarning: Unverified HTTPS request is being made to host 'www.chinaqw.com'. Adding certificate verification is strongly advised. See: https://urllib3.readthedocs.io/en/latest/advanced-usage.html#tls-warnings\n",
            "  warnings.warn(\n"
          ]
        },
        {
          "name": "stdout",
          "output_type": "stream",
          "text": [
            "Downloaded and saved HTML: https://www.chinaqw.com/jjkj/2024/10-28/385669.shtml\n"
          ]
        },
        {
          "name": "stderr",
          "output_type": "stream",
          "text": [
            "/usr/local/lib/python3.10/dist-packages/urllib3/connectionpool.py:1099: InsecureRequestWarning: Unverified HTTPS request is being made to host 'www.chinaqw.com'. Adding certificate verification is strongly advised. See: https://urllib3.readthedocs.io/en/latest/advanced-usage.html#tls-warnings\n",
            "  warnings.warn(\n"
          ]
        },
        {
          "name": "stdout",
          "output_type": "stream",
          "text": [
            "Downloaded and saved HTML: https://www.chinaqw.com/jjkj/2024/10-25/385626.shtml\n"
          ]
        },
        {
          "name": "stderr",
          "output_type": "stream",
          "text": [
            "/usr/local/lib/python3.10/dist-packages/urllib3/connectionpool.py:1099: InsecureRequestWarning: Unverified HTTPS request is being made to host 'www.chinaqw.com'. Adding certificate verification is strongly advised. See: https://urllib3.readthedocs.io/en/latest/advanced-usage.html#tls-warnings\n",
            "  warnings.warn(\n"
          ]
        },
        {
          "name": "stdout",
          "output_type": "stream",
          "text": [
            "Downloaded and saved HTML: https://www.chinaqw.com/ly.html\n"
          ]
        },
        {
          "name": "stderr",
          "output_type": "stream",
          "text": [
            "/usr/local/lib/python3.10/dist-packages/urllib3/connectionpool.py:1099: InsecureRequestWarning: Unverified HTTPS request is being made to host 'www.chinaqw.com'. Adding certificate verification is strongly advised. See: https://urllib3.readthedocs.io/en/latest/advanced-usage.html#tls-warnings\n",
            "  warnings.warn(\n"
          ]
        },
        {
          "name": "stdout",
          "output_type": "stream",
          "text": [
            "Downloaded and saved HTML: https://www.chinaqw.com/hqly/2024/10-28/385675.shtml\n",
            "Downloaded and saved HTML: https://www.chinaqw.com/hqly/2024/10-28/385675.shtml\n",
            "Downloaded and saved HTML: https://www.chinaqw.com/hqly/2024/10-28/385692.shtml\n"
          ]
        },
        {
          "name": "stderr",
          "output_type": "stream",
          "text": [
            "/usr/local/lib/python3.10/dist-packages/urllib3/connectionpool.py:1099: InsecureRequestWarning: Unverified HTTPS request is being made to host 'www.chinaqw.com'. Adding certificate verification is strongly advised. See: https://urllib3.readthedocs.io/en/latest/advanced-usage.html#tls-warnings\n",
            "  warnings.warn(\n",
            "/usr/local/lib/python3.10/dist-packages/urllib3/connectionpool.py:1099: InsecureRequestWarning: Unverified HTTPS request is being made to host 'www.chinaqw.com'. Adding certificate verification is strongly advised. See: https://urllib3.readthedocs.io/en/latest/advanced-usage.html#tls-warnings\n",
            "  warnings.warn(\n",
            "/usr/local/lib/python3.10/dist-packages/urllib3/connectionpool.py:1099: InsecureRequestWarning: Unverified HTTPS request is being made to host 'www.chinaqw.com'. Adding certificate verification is strongly advised. See: https://urllib3.readthedocs.io/en/latest/advanced-usage.html#tls-warnings\n",
            "  warnings.warn(\n"
          ]
        },
        {
          "name": "stdout",
          "output_type": "stream",
          "text": [
            "Downloaded and saved HTML: https://www.chinaqw.com/hqly/2024/10-28/385685.shtml\n"
          ]
        },
        {
          "name": "stderr",
          "output_type": "stream",
          "text": [
            "/usr/local/lib/python3.10/dist-packages/urllib3/connectionpool.py:1099: InsecureRequestWarning: Unverified HTTPS request is being made to host 'www.chinaqw.com'. Adding certificate verification is strongly advised. See: https://urllib3.readthedocs.io/en/latest/advanced-usage.html#tls-warnings\n",
            "  warnings.warn(\n"
          ]
        },
        {
          "name": "stdout",
          "output_type": "stream",
          "text": [
            "Downloaded and saved HTML: https://www.chinaqw.com/hqly/2024/10-26/385627.shtml\n"
          ]
        },
        {
          "name": "stderr",
          "output_type": "stream",
          "text": [
            "/usr/local/lib/python3.10/dist-packages/urllib3/connectionpool.py:1099: InsecureRequestWarning: Unverified HTTPS request is being made to host 'www.chinaqw.com'. Adding certificate verification is strongly advised. See: https://urllib3.readthedocs.io/en/latest/advanced-usage.html#tls-warnings\n",
            "  warnings.warn(\n"
          ]
        },
        {
          "name": "stdout",
          "output_type": "stream",
          "text": [
            "Downloaded and saved HTML: https://www.chinaqw.com/hqly/2024/10-25/385606.shtml\n"
          ]
        },
        {
          "name": "stderr",
          "output_type": "stream",
          "text": [
            "/usr/local/lib/python3.10/dist-packages/urllib3/connectionpool.py:1099: InsecureRequestWarning: Unverified HTTPS request is being made to host 'actshow.chinanews.com'. Adding certificate verification is strongly advised. See: https://urllib3.readthedocs.io/en/latest/advanced-usage.html#tls-warnings\n",
            "  warnings.warn(\n"
          ]
        },
        {
          "name": "stdout",
          "output_type": "stream",
          "text": [
            "Downloaded and saved HTML: https://actshow.chinanews.com/act/chinaqwcontact\n"
          ]
        },
        {
          "name": "stderr",
          "output_type": "stream",
          "text": [
            "/usr/local/lib/python3.10/dist-packages/urllib3/connectionpool.py:1099: InsecureRequestWarning: Unverified HTTPS request is being made to host 'channel.chinaqw.com'. Adding certificate verification is strongly advised. See: https://urllib3.readthedocs.io/en/latest/advanced-usage.html#tls-warnings\n",
            "  warnings.warn(\n"
          ]
        },
        {
          "name": "stdout",
          "output_type": "stream",
          "text": [
            "Downloaded and saved HTML: https://channel.chinaqw.com/cns/c/hdfw-qscd.shtml\n"
          ]
        },
        {
          "name": "stderr",
          "output_type": "stream",
          "text": [
            "/usr/local/lib/python3.10/dist-packages/urllib3/connectionpool.py:1099: InsecureRequestWarning: Unverified HTTPS request is being made to host 'www.chinaqw.com'. Adding certificate verification is strongly advised. See: https://urllib3.readthedocs.io/en/latest/advanced-usage.html#tls-warnings\n",
            "  warnings.warn(\n"
          ]
        },
        {
          "name": "stdout",
          "output_type": "stream",
          "text": [
            "Downloaded and saved HTML: https://www.chinaqw.com/qiaobao/app.shtml\n"
          ]
        },
        {
          "name": "stderr",
          "output_type": "stream",
          "text": [
            "/usr/local/lib/python3.10/dist-packages/urllib3/connectionpool.py:1099: InsecureRequestWarning: Unverified HTTPS request is being made to host 'qwgzyj.gqb.gov.cn'. Adding certificate verification is strongly advised. See: https://urllib3.readthedocs.io/en/latest/advanced-usage.html#tls-warnings\n",
            "  warnings.warn(\n"
          ]
        },
        {
          "name": "stdout",
          "output_type": "stream",
          "text": [
            "Failed to download https://qwgzyj.gqb.gov.cn/syinc.shtml\n"
          ]
        },
        {
          "name": "stderr",
          "output_type": "stream",
          "text": [
            "/usr/local/lib/python3.10/dist-packages/urllib3/connectionpool.py:1099: InsecureRequestWarning: Unverified HTTPS request is being made to host 'www.gqb.gov.cn'. Adding certificate verification is strongly advised. See: https://urllib3.readthedocs.io/en/latest/advanced-usage.html#tls-warnings\n",
            "  warnings.warn(\n"
          ]
        },
        {
          "name": "stdout",
          "output_type": "stream",
          "text": [
            "Downloaded and saved HTML: https://www.gqb.gov.cn/\n"
          ]
        },
        {
          "name": "stderr",
          "output_type": "stream",
          "text": [
            "/usr/local/lib/python3.10/dist-packages/urllib3/connectionpool.py:1099: InsecureRequestWarning: Unverified HTTPS request is being made to host 'www.chinaqw.com'. Adding certificate verification is strongly advised. See: https://urllib3.readthedocs.io/en/latest/advanced-usage.html#tls-warnings\n",
            "  warnings.warn(\n"
          ]
        },
        {
          "name": "stdout",
          "output_type": "stream",
          "text": [
            "Downloaded and saved HTML: https://www.chinaqw.com/zt.html\n"
          ]
        },
        {
          "name": "stderr",
          "output_type": "stream",
          "text": [
            "/usr/local/lib/python3.10/dist-packages/urllib3/connectionpool.py:1099: InsecureRequestWarning: Unverified HTTPS request is being made to host 'www.chinaqw.com'. Adding certificate verification is strongly advised. See: https://urllib3.readthedocs.io/en/latest/advanced-usage.html#tls-warnings\n",
            "  warnings.warn(\n"
          ]
        },
        {
          "name": "stdout",
          "output_type": "stream",
          "text": [
            "Downloaded and saved HTML: https://www.chinaqw.com/z/2024/wwzjgszf/index.html\n"
          ]
        },
        {
          "name": "stderr",
          "output_type": "stream",
          "text": [
            "/usr/local/lib/python3.10/dist-packages/urllib3/connectionpool.py:1099: InsecureRequestWarning: Unverified HTTPS request is being made to host 'www.chinaqw.com'. Adding certificate verification is strongly advised. See: https://urllib3.readthedocs.io/en/latest/advanced-usage.html#tls-warnings\n",
            "  warnings.warn(\n"
          ]
        },
        {
          "name": "stdout",
          "output_type": "stream",
          "text": [
            "Downloaded and saved HTML: https://www.chinaqw.com/z/2024/2024lianghui/index.html\n"
          ]
        },
        {
          "name": "stderr",
          "output_type": "stream",
          "text": [
            "/usr/local/lib/python3.10/dist-packages/urllib3/connectionpool.py:1099: InsecureRequestWarning: Unverified HTTPS request is being made to host 'www.chinaqw.com'. Adding certificate verification is strongly advised. See: https://urllib3.readthedocs.io/en/latest/advanced-usage.html#tls-warnings\n",
            "  warnings.warn(\n"
          ]
        },
        {
          "name": "stdout",
          "output_type": "stream",
          "text": [
            "Downloaded and saved HTML: https://www.chinaqw.com/z/2024/2024sdxw/index.html\n"
          ]
        },
        {
          "name": "stderr",
          "output_type": "stream",
          "text": [
            "/usr/local/lib/python3.10/dist-packages/urllib3/connectionpool.py:1099: InsecureRequestWarning: Unverified HTTPS request is being made to host 'www.chinaqw.com'. Adding certificate verification is strongly advised. See: https://urllib3.readthedocs.io/en/latest/advanced-usage.html#tls-warnings\n",
            "  warnings.warn(\n"
          ]
        },
        {
          "name": "stdout",
          "output_type": "stream",
          "text": [
            "Downloaded and saved HTML: https://www.chinaqw.com/z/2024/jxzgn/index.html\n"
          ]
        },
        {
          "name": "stderr",
          "output_type": "stream",
          "text": [
            "/usr/local/lib/python3.10/dist-packages/urllib3/connectionpool.py:1099: InsecureRequestWarning: Unverified HTTPS request is being made to host 'www.chinaqw.com'. Adding certificate verification is strongly advised. See: https://urllib3.readthedocs.io/en/latest/advanced-usage.html#tls-warnings\n",
            "  warnings.warn(\n"
          ]
        },
        {
          "name": "stdout",
          "output_type": "stream",
          "text": [
            "Downloaded and saved HTML: https://www.chinaqw.com/z/2024/2024qbhxc/index.html\n"
          ]
        },
        {
          "name": "stderr",
          "output_type": "stream",
          "text": [
            "/usr/local/lib/python3.10/dist-packages/urllib3/connectionpool.py:1099: InsecureRequestWarning: Unverified HTTPS request is being made to host 'www.chinaqw.com'. Adding certificate verification is strongly advised. See: https://urllib3.readthedocs.io/en/latest/advanced-usage.html#tls-warnings\n",
            "  warnings.warn(\n"
          ]
        },
        {
          "name": "stdout",
          "output_type": "stream",
          "text": [
            "Downloaded and saved HTML: https://www.chinaqw.com/z/2024/ILZQZ/index.html\n"
          ]
        },
        {
          "name": "stderr",
          "output_type": "stream",
          "text": [
            "/usr/local/lib/python3.10/dist-packages/urllib3/connectionpool.py:1099: InsecureRequestWarning: Unverified HTTPS request is being made to host 'www.chinaqw.com'. Adding certificate verification is strongly advised. See: https://urllib3.readthedocs.io/en/latest/advanced-usage.html#tls-warnings\n",
            "  warnings.warn(\n"
          ]
        },
        {
          "name": "stdout",
          "output_type": "stream",
          "text": [
            "Downloaded and saved HTML: https://www.chinaqw.com/z/2023/2023qzyn/index.html\n"
          ]
        },
        {
          "name": "stderr",
          "output_type": "stream",
          "text": [
            "/usr/local/lib/python3.10/dist-packages/urllib3/connectionpool.py:1099: InsecureRequestWarning: Unverified HTTPS request is being made to host 'www.chinaqw.com'. Adding certificate verification is strongly advised. See: https://urllib3.readthedocs.io/en/latest/advanced-usage.html#tls-warnings\n",
            "  warnings.warn(\n"
          ]
        },
        {
          "name": "stdout",
          "output_type": "stream",
          "text": [
            "Downloaded and saved HTML: https://www.chinaqw.com/z/2023/2023hjdh/index.html\n"
          ]
        },
        {
          "name": "stderr",
          "output_type": "stream",
          "text": [
            "/usr/local/lib/python3.10/dist-packages/urllib3/connectionpool.py:1099: InsecureRequestWarning: Unverified HTTPS request is being made to host 'www.chinaqw.com'. Adding certificate verification is strongly advised. See: https://urllib3.readthedocs.io/en/latest/advanced-usage.html#tls-warnings\n",
            "  warnings.warn(\n"
          ]
        },
        {
          "name": "stdout",
          "output_type": "stream",
          "text": [
            "Downloaded and saved HTML: https://www.chinaqw.com/z/2023/sjhqhrgsdh/index.html\n"
          ]
        },
        {
          "name": "stderr",
          "output_type": "stream",
          "text": [
            "/usr/local/lib/python3.10/dist-packages/urllib3/connectionpool.py:1099: InsecureRequestWarning: Unverified HTTPS request is being made to host 'www.chinaqw.com'. Adding certificate verification is strongly advised. See: https://urllib3.readthedocs.io/en/latest/advanced-usage.html#tls-warnings\n",
            "  warnings.warn(\n"
          ]
        },
        {
          "name": "stdout",
          "output_type": "stream",
          "text": [
            "Downloaded and saved HTML: https://www.chinaqw.com/tp.html\n"
          ]
        },
        {
          "name": "stderr",
          "output_type": "stream",
          "text": [
            "/usr/local/lib/python3.10/dist-packages/urllib3/connectionpool.py:1099: InsecureRequestWarning: Unverified HTTPS request is being made to host 'www.chinaqw.com'. Adding certificate verification is strongly advised. See: https://urllib3.readthedocs.io/en/latest/advanced-usage.html#tls-warnings\n",
            "  warnings.warn(\n"
          ]
        },
        {
          "name": "stdout",
          "output_type": "stream",
          "text": [
            "Downloaded and saved HTML: https://www.chinaqw.com/yw/hd2011/2024/10-26/65760.shtml\n"
          ]
        },
        {
          "name": "stderr",
          "output_type": "stream",
          "text": [
            "/usr/local/lib/python3.10/dist-packages/urllib3/connectionpool.py:1099: InsecureRequestWarning: Unverified HTTPS request is being made to host 'www.chinaqw.com'. Adding certificate verification is strongly advised. See: https://urllib3.readthedocs.io/en/latest/advanced-usage.html#tls-warnings\n",
            "  warnings.warn(\n"
          ]
        },
        {
          "name": "stdout",
          "output_type": "stream",
          "text": [
            "Downloaded and saved HTML: https://www.chinaqw.com/yw/hd2011/2024/10-26/65763.shtml\n"
          ]
        },
        {
          "name": "stderr",
          "output_type": "stream",
          "text": [
            "/usr/local/lib/python3.10/dist-packages/urllib3/connectionpool.py:1099: InsecureRequestWarning: Unverified HTTPS request is being made to host 'www.chinaqw.com'. Adding certificate verification is strongly advised. See: https://urllib3.readthedocs.io/en/latest/advanced-usage.html#tls-warnings\n",
            "  warnings.warn(\n"
          ]
        },
        {
          "name": "stdout",
          "output_type": "stream",
          "text": [
            "Downloaded and saved HTML: https://www.chinaqw.com/qx/hd2011/2024/10-25/65749.shtml\n"
          ]
        },
        {
          "name": "stderr",
          "output_type": "stream",
          "text": [
            "/usr/local/lib/python3.10/dist-packages/urllib3/connectionpool.py:1099: InsecureRequestWarning: Unverified HTTPS request is being made to host 'www.chinaqw.com'. Adding certificate verification is strongly advised. See: https://urllib3.readthedocs.io/en/latest/advanced-usage.html#tls-warnings\n",
            "  warnings.warn(\n"
          ]
        },
        {
          "name": "stdout",
          "output_type": "stream",
          "text": [
            "Downloaded and saved HTML: https://www.chinaqw.com/zhwh/hd2011/2024/10-24/65740.shtml\n"
          ]
        },
        {
          "name": "stderr",
          "output_type": "stream",
          "text": [
            "/usr/local/lib/python3.10/dist-packages/urllib3/connectionpool.py:1099: InsecureRequestWarning: Unverified HTTPS request is being made to host 'www.chinaqw.com'. Adding certificate verification is strongly advised. See: https://urllib3.readthedocs.io/en/latest/advanced-usage.html#tls-warnings\n",
            "  warnings.warn(\n"
          ]
        },
        {
          "name": "stdout",
          "output_type": "stream",
          "text": [
            "Downloaded and saved HTML: https://www.chinaqw.com/yw/hd2011/2024/10-22/65724.shtml\n"
          ]
        },
        {
          "name": "stderr",
          "output_type": "stream",
          "text": [
            "/usr/local/lib/python3.10/dist-packages/urllib3/connectionpool.py:1099: InsecureRequestWarning: Unverified HTTPS request is being made to host 'www.chinaqw.com'. Adding certificate verification is strongly advised. See: https://urllib3.readthedocs.io/en/latest/advanced-usage.html#tls-warnings\n",
            "  warnings.warn(\n"
          ]
        },
        {
          "name": "stdout",
          "output_type": "stream",
          "text": [
            "Downloaded and saved HTML: https://www.chinaqw.com/zhwh/hd2011/2024/10-26/65757.shtml\n"
          ]
        },
        {
          "name": "stderr",
          "output_type": "stream",
          "text": [
            "/usr/local/lib/python3.10/dist-packages/urllib3/connectionpool.py:1099: InsecureRequestWarning: Unverified HTTPS request is being made to host 'www.chinaqw.com'. Adding certificate verification is strongly advised. See: https://urllib3.readthedocs.io/en/latest/advanced-usage.html#tls-warnings\n",
            "  warnings.warn(\n"
          ]
        },
        {
          "name": "stdout",
          "output_type": "stream",
          "text": [
            "Downloaded and saved HTML: https://www.chinaqw.com/z/2023/qiaoshangdao/index.html\n"
          ]
        },
        {
          "name": "stderr",
          "output_type": "stream",
          "text": [
            "/usr/local/lib/python3.10/dist-packages/urllib3/connectionpool.py:1099: InsecureRequestWarning: Unverified HTTPS request is being made to host 'www.chinaqw.com'. Adding certificate verification is strongly advised. See: https://urllib3.readthedocs.io/en/latest/advanced-usage.html#tls-warnings\n",
            "  warnings.warn(\n"
          ]
        },
        {
          "name": "stdout",
          "output_type": "stream",
          "text": [
            "Downloaded and saved HTML: https://www.chinaqw.com/z/2023/huayiqingnianshuo/index.html\n"
          ]
        },
        {
          "name": "stderr",
          "output_type": "stream",
          "text": [
            "/usr/local/lib/python3.10/dist-packages/urllib3/connectionpool.py:1099: InsecureRequestWarning: Unverified HTTPS request is being made to host 'www.chinaqw.com'. Adding certificate verification is strongly advised. See: https://urllib3.readthedocs.io/en/latest/advanced-usage.html#tls-warnings\n",
            "  warnings.warn(\n"
          ]
        },
        {
          "name": "stdout",
          "output_type": "stream",
          "text": [
            "Downloaded and saved HTML: https://www.chinaqw.com/z/2023/xinchun/index.html\n"
          ]
        },
        {
          "name": "stderr",
          "output_type": "stream",
          "text": [
            "/usr/local/lib/python3.10/dist-packages/urllib3/connectionpool.py:1099: InsecureRequestWarning: Unverified HTTPS request is being made to host 'www.chinaqw.com'. Adding certificate verification is strongly advised. See: https://urllib3.readthedocs.io/en/latest/advanced-usage.html#tls-warnings\n",
            "  warnings.warn(\n"
          ]
        },
        {
          "name": "stdout",
          "output_type": "stream",
          "text": [
            "Downloaded and saved HTML: https://www.chinaqw.com/z/2023/2023ylh/index.html\n"
          ]
        },
        {
          "name": "stderr",
          "output_type": "stream",
          "text": [
            "/usr/local/lib/python3.10/dist-packages/urllib3/connectionpool.py:1099: InsecureRequestWarning: Unverified HTTPS request is being made to host 'www.chinanews.com.cn'. Adding certificate verification is strongly advised. See: https://urllib3.readthedocs.io/en/latest/advanced-usage.html#tls-warnings\n",
            "  warnings.warn(\n"
          ]
        },
        {
          "name": "stdout",
          "output_type": "stream",
          "text": [
            "Downloaded and saved HTML: https://www.chinanews.com.cn/zgqj/z/cixinanchushiwuxiang/index.shtml\n"
          ]
        },
        {
          "name": "stderr",
          "output_type": "stream",
          "text": [
            "/usr/local/lib/python3.10/dist-packages/urllib3/connectionpool.py:1099: InsecureRequestWarning: Unverified HTTPS request is being made to host 'www.chinaqw.com'. Adding certificate verification is strongly advised. See: https://urllib3.readthedocs.io/en/latest/advanced-usage.html#tls-warnings\n",
            "  warnings.warn(\n"
          ]
        },
        {
          "name": "stdout",
          "output_type": "stream",
          "text": [
            "Downloaded and saved HTML: https://www.chinaqw.com/qmy/index.shtml\n"
          ]
        },
        {
          "name": "stderr",
          "output_type": "stream",
          "text": [
            "/usr/local/lib/python3.10/dist-packages/urllib3/connectionpool.py:1099: InsecureRequestWarning: Unverified HTTPS request is being made to host 'www.mfa.gov.cn'. Adding certificate verification is strongly advised. See: https://urllib3.readthedocs.io/en/latest/advanced-usage.html#tls-warnings\n",
            "  warnings.warn(\n",
            "/usr/local/lib/python3.10/dist-packages/urllib3/connectionpool.py:1099: InsecureRequestWarning: Unverified HTTPS request is being made to host 'www.mfa.gov.cn'. Adding certificate verification is strongly advised. See: https://urllib3.readthedocs.io/en/latest/advanced-usage.html#tls-warnings\n",
            "  warnings.warn(\n"
          ]
        },
        {
          "name": "stdout",
          "output_type": "stream",
          "text": [
            "Downloaded and saved HTML: https://www.mfa.gov.cn/web/zwjg_674741/zwsg_674743/yz_674745/ \n"
          ]
        },
        {
          "name": "stderr",
          "output_type": "stream",
          "text": [
            "/usr/local/lib/python3.10/dist-packages/urllib3/connectionpool.py:1099: InsecureRequestWarning: Unverified HTTPS request is being made to host 'www.12377.cn'. Adding certificate verification is strongly advised. See: https://urllib3.readthedocs.io/en/latest/advanced-usage.html#tls-warnings\n",
            "  warnings.warn(\n"
          ]
        },
        {
          "name": "stdout",
          "output_type": "stream",
          "text": [
            "Failed to download https://www.12377.cn/\n"
          ]
        },
        {
          "name": "stderr",
          "output_type": "stream",
          "text": [
            "/usr/local/lib/python3.10/dist-packages/urllib3/connectionpool.py:1099: InsecureRequestWarning: Unverified HTTPS request is being made to host 'www.zytzb.gov.cn'. Adding certificate verification is strongly advised. See: https://urllib3.readthedocs.io/en/latest/advanced-usage.html#tls-warnings\n",
            "  warnings.warn(\n"
          ]
        },
        {
          "name": "stdout",
          "output_type": "stream",
          "text": [
            "Downloaded and saved HTML: https://www.zytzb.gov.cn/\n"
          ]
        },
        {
          "name": "stderr",
          "output_type": "stream",
          "text": [
            "/usr/local/lib/python3.10/dist-packages/urllib3/connectionpool.py:1099: InsecureRequestWarning: Unverified HTTPS request is being made to host 'www.gqb.gov.cn'. Adding certificate verification is strongly advised. See: https://urllib3.readthedocs.io/en/latest/advanced-usage.html#tls-warnings\n",
            "  warnings.warn(\n"
          ]
        },
        {
          "name": "stdout",
          "output_type": "stream",
          "text": [
            "Downloaded and saved HTML: https://www.gqb.gov.cn/\n"
          ]
        },
        {
          "name": "stderr",
          "output_type": "stream",
          "text": [
            "/usr/local/lib/python3.10/dist-packages/urllib3/connectionpool.py:1099: InsecureRequestWarning: Unverified HTTPS request is being made to host 'www.fmprc.gov.cn'. Adding certificate verification is strongly advised. See: https://urllib3.readthedocs.io/en/latest/advanced-usage.html#tls-warnings\n",
            "  warnings.warn(\n"
          ]
        },
        {
          "name": "stdout",
          "output_type": "stream",
          "text": [
            "Downloaded and saved HTML: https://www.fmprc.gov.cn/\n",
            "Downloaded and saved HTML: http://www.gwytb.gov.cn/\n",
            "Downloaded and saved HTML: http://cs.mfa.gov.cn/\n"
          ]
        },
        {
          "name": "stderr",
          "output_type": "stream",
          "text": [
            "/usr/local/lib/python3.10/dist-packages/urllib3/connectionpool.py:1099: InsecureRequestWarning: Unverified HTTPS request is being made to host 'www.gov.cn'. Adding certificate verification is strongly advised. See: https://urllib3.readthedocs.io/en/latest/advanced-usage.html#tls-warnings\n",
            "  warnings.warn(\n"
          ]
        },
        {
          "name": "stdout",
          "output_type": "stream",
          "text": [
            "Downloaded and saved HTML: https://www.gov.cn/\n"
          ]
        },
        {
          "name": "stderr",
          "output_type": "stream",
          "text": [
            "WARNING:urllib3.connectionpool:Retrying (Retry(total=4, connect=None, read=None, redirect=None, status=None)) after connection broken by 'SSLError(SSLError(1, '[SSL: UNSAFE_LEGACY_RENEGOTIATION_DISABLED] unsafe legacy renegotiation disabled (_ssl.c:1007)'))': /\n",
            "WARNING:urllib3.connectionpool:Retrying (Retry(total=3, connect=None, read=None, redirect=None, status=None)) after connection broken by 'SSLError(SSLError(1, '[SSL: UNSAFE_LEGACY_RENEGOTIATION_DISABLED] unsafe legacy renegotiation disabled (_ssl.c:1007)'))': /\n",
            "WARNING:urllib3.connectionpool:Retrying (Retry(total=2, connect=None, read=None, redirect=None, status=None)) after connection broken by 'SSLError(SSLError(1, '[SSL: UNSAFE_LEGACY_RENEGOTIATION_DISABLED] unsafe legacy renegotiation disabled (_ssl.c:1007)'))': /\n",
            "WARNING:urllib3.connectionpool:Retrying (Retry(total=1, connect=None, read=None, redirect=None, status=None)) after connection broken by 'SSLError(SSLError(1, '[SSL: UNSAFE_LEGACY_RENEGOTIATION_DISABLED] unsafe legacy renegotiation disabled (_ssl.c:1007)'))': /\n",
            "WARNING:urllib3.connectionpool:Retrying (Retry(total=0, connect=None, read=None, redirect=None, status=None)) after connection broken by 'SSLError(SSLError(1, '[SSL: UNSAFE_LEGACY_RENEGOTIATION_DISABLED] unsafe legacy renegotiation disabled (_ssl.c:1007)'))': /\n"
          ]
        },
        {
          "name": "stdout",
          "output_type": "stream",
          "text": [
            "SSL error occurred while downloading https://www.cscse.edu.cn/: HTTPSConnectionPool(host='www.cscse.edu.cn', port=443): Max retries exceeded with url: / (Caused by SSLError(SSLError(1, '[SSL: UNSAFE_LEGACY_RENEGOTIATION_DISABLED] unsafe legacy renegotiation disabled (_ssl.c:1007)')))\n",
            "Downloaded and saved HTML: https://www.chinanews.com.cn/\n"
          ]
        },
        {
          "name": "stderr",
          "output_type": "stream",
          "text": [
            "/usr/local/lib/python3.10/dist-packages/urllib3/connectionpool.py:1099: InsecureRequestWarning: Unverified HTTPS request is being made to host 'www.chinanews.com.cn'. Adding certificate verification is strongly advised. See: https://urllib3.readthedocs.io/en/latest/advanced-usage.html#tls-warnings\n",
            "  warnings.warn(\n",
            "/usr/local/lib/python3.10/dist-packages/urllib3/connectionpool.py:1099: InsecureRequestWarning: Unverified HTTPS request is being made to host 'www.hwjyw.com'. Adding certificate verification is strongly advised. See: https://urllib3.readthedocs.io/en/latest/advanced-usage.html#tls-warnings\n",
            "  warnings.warn(\n"
          ]
        },
        {
          "name": "stdout",
          "output_type": "stream",
          "text": [
            "Downloaded and saved HTML: https://www.hwjyw.com/\n"
          ]
        },
        {
          "name": "stderr",
          "output_type": "stream",
          "text": [
            "/usr/local/lib/python3.10/dist-packages/urllib3/connectionpool.py:1099: InsecureRequestWarning: Unverified HTTPS request is being made to host 'www.clef.org.cn'. Adding certificate verification is strongly advised. See: https://urllib3.readthedocs.io/en/latest/advanced-usage.html#tls-warnings\n",
            "  warnings.warn(\n"
          ]
        },
        {
          "name": "stdout",
          "output_type": "stream",
          "text": [
            "Downloaded and saved HTML: https://www.clef.org.cn/\n",
            "Downloaded and saved HTML: http://www.people.com.cn/\n",
            "Downloaded and saved HTML: http://www.xinhuanet.com/\n",
            "Downloaded and saved HTML: http://www.china.com.cn/\n"
          ]
        },
        {
          "name": "stderr",
          "output_type": "stream",
          "text": [
            "/usr/local/lib/python3.10/dist-packages/urllib3/connectionpool.py:1099: InsecureRequestWarning: Unverified HTTPS request is being made to host 'www.cri.cn'. Adding certificate verification is strongly advised. See: https://urllib3.readthedocs.io/en/latest/advanced-usage.html#tls-warnings\n",
            "  warnings.warn(\n"
          ]
        },
        {
          "name": "stdout",
          "output_type": "stream",
          "text": [
            "Downloaded and saved HTML: https://www.cri.cn/\n"
          ]
        },
        {
          "name": "stderr",
          "output_type": "stream",
          "text": [
            "/usr/local/lib/python3.10/dist-packages/urllib3/connectionpool.py:1099: InsecureRequestWarning: Unverified HTTPS request is being made to host 'www.cctv.com'. Adding certificate verification is strongly advised. See: https://urllib3.readthedocs.io/en/latest/advanced-usage.html#tls-warnings\n",
            "  warnings.warn(\n"
          ]
        },
        {
          "name": "stdout",
          "output_type": "stream",
          "text": [
            "Downloaded and saved HTML: https://www.cctv.com/\n",
            "Downloaded and saved HTML: http://cn.chinadaily.com.cn/\n"
          ]
        },
        {
          "name": "stderr",
          "output_type": "stream",
          "text": [
            "/usr/local/lib/python3.10/dist-packages/urllib3/connectionpool.py:1099: InsecureRequestWarning: Unverified HTTPS request is being made to host 'www.youth.cn'. Adding certificate verification is strongly advised. See: https://urllib3.readthedocs.io/en/latest/advanced-usage.html#tls-warnings\n",
            "  warnings.warn(\n"
          ]
        },
        {
          "name": "stdout",
          "output_type": "stream",
          "text": [
            "Downloaded and saved HTML: https://www.youth.cn/\n",
            "Downloaded and saved HTML: http://www.ce.cn/\n"
          ]
        },
        {
          "name": "stderr",
          "output_type": "stream",
          "text": [
            "/usr/local/lib/python3.10/dist-packages/urllib3/connectionpool.py:1099: InsecureRequestWarning: Unverified HTTPS request is being made to host 'www.chinaqw.com'. Adding certificate verification is strongly advised. See: https://urllib3.readthedocs.io/en/latest/advanced-usage.html#tls-warnings\n",
            "  warnings.warn(\n"
          ]
        },
        {
          "name": "stdout",
          "output_type": "stream",
          "text": [
            "Downloaded and saved HTML: https://www.chinaqw.com/kong/2014/06-06/5680.shtml\n"
          ]
        },
        {
          "name": "stderr",
          "output_type": "stream",
          "text": [
            "/usr/local/lib/python3.10/dist-packages/urllib3/connectionpool.py:1099: InsecureRequestWarning: Unverified HTTPS request is being made to host 'www.chinaqw.com'. Adding certificate verification is strongly advised. See: https://urllib3.readthedocs.io/en/latest/advanced-usage.html#tls-warnings\n",
            "  warnings.warn(\n"
          ]
        },
        {
          "name": "stdout",
          "output_type": "stream",
          "text": [
            "Downloaded and saved HTML: https://www.chinaqw.com/kong/2014/06-10/6015.shtml\n"
          ]
        },
        {
          "name": "stderr",
          "output_type": "stream",
          "text": [
            "/usr/local/lib/python3.10/dist-packages/urllib3/connectionpool.py:1099: InsecureRequestWarning: Unverified HTTPS request is being made to host 'www.chinaqw.com'. Adding certificate verification is strongly advised. See: https://urllib3.readthedocs.io/en/latest/advanced-usage.html#tls-warnings\n",
            "  warnings.warn(\n"
          ]
        },
        {
          "name": "stdout",
          "output_type": "stream",
          "text": [
            "Downloaded and saved HTML: https://www.chinaqw.com/ads.html\n"
          ]
        },
        {
          "name": "stderr",
          "output_type": "stream",
          "text": [
            "/usr/local/lib/python3.10/dist-packages/urllib3/connectionpool.py:1099: InsecureRequestWarning: Unverified HTTPS request is being made to host 'www.chinaqw.com'. Adding certificate verification is strongly advised. See: https://urllib3.readthedocs.io/en/latest/advanced-usage.html#tls-warnings\n",
            "  warnings.warn(\n"
          ]
        },
        {
          "name": "stdout",
          "output_type": "stream",
          "text": [
            "Downloaded and saved HTML: https://www.chinaqw.com/kong/2016/06-12/91569.shtml\n"
          ]
        },
        {
          "name": "stderr",
          "output_type": "stream",
          "text": [
            "/usr/local/lib/python3.10/dist-packages/urllib3/connectionpool.py:1099: InsecureRequestWarning: Unverified HTTPS request is being made to host 'www.chinaqw.com'. Adding certificate verification is strongly advised. See: https://urllib3.readthedocs.io/en/latest/advanced-usage.html#tls-warnings\n",
            "  warnings.warn(\n"
          ]
        },
        {
          "name": "stdout",
          "output_type": "stream",
          "text": [
            "Downloaded and saved HTML: https://www.chinaqw.com/gg/2017/03-17/131826.shtml\n"
          ]
        },
        {
          "name": "stderr",
          "output_type": "stream",
          "text": [
            "/usr/local/lib/python3.10/dist-packages/urllib3/connectionpool.py:1099: InsecureRequestWarning: Unverified HTTPS request is being made to host 'beian.miit.gov.cn'. Adding certificate verification is strongly advised. See: https://urllib3.readthedocs.io/en/latest/advanced-usage.html#tls-warnings\n",
            "  warnings.warn(\n"
          ]
        },
        {
          "name": "stdout",
          "output_type": "stream",
          "text": [
            "Failed to download https://beian.miit.gov.cn/\n",
            "All HTML, DOCX, and PDF files combined into combined_pages_www.chinaqw.com.html\n",
            "Proximity analysis complete. Results saved in keyword_proximity_results_www.chinaqw.com.csv\n"
          ]
        }
      ],
      "source": [
        "import requests\n",
        "from bs4 import BeautifulSoup\n",
        "import os\n",
        "import re\n",
        "import csv\n",
        "from docx import Document\n",
        "from PyPDF2 import PdfReader\n",
        "from urllib.parse import urljoin, urlparse\n",
        "from requests.adapters import HTTPAdapter\n",
        "from requests.packages.urllib3.util.retry import Retry\n",
        "import ssl\n",
        "from urllib3.poolmanager import PoolManager\n",
        "\n",
        "# Initial setup for the main website URL\n",
        "url = 'https://www.chinaqw.com/'\n",
        "\n",
        "# Step 1: Fetch the main webpage content\n",
        "response = requests.get(url)\n",
        "\n",
        "if response.status_code == 200:\n",
        "    print(\"Successfully fetched the main page!\")\n",
        "    page_content = response.content\n",
        "else:\n",
        "    print(f\"Failed to retrieve the main page. Status code: {response.status_code}\")\n",
        "\n",
        "# Step 2: Parse the main page to find all subpage links\n",
        "soup = BeautifulSoup(page_content, \"html.parser\")\n",
        "links = soup.find_all('a', href=True)\n",
        "\n",
        "# Step 3: Store subpage URLs in a list\n",
        "subpage_urls = []\n",
        "for link in links:\n",
        "    href = link['href']\n",
        "    full_url = urljoin(url, href)\n",
        "    parsed_url = urlparse(full_url)\n",
        "\n",
        "    # Only add URLs with HTTP or HTTPS schemes\n",
        "    if parsed_url.scheme in ['http', 'https']:\n",
        "        subpage_urls.append(full_url)\n",
        "\n",
        "# Step 4: Configure session with retries and SSL/TLS context handling\n",
        "retries = Retry(total=5, backoff_factor=0.3, status_forcelist=[500, 502, 503, 504])\n",
        "\n",
        "class TLSAdapter(HTTPAdapter):\n",
        "    def init_poolmanager(self, *args, **kwargs):\n",
        "        context = ssl.create_default_context(ssl.Purpose.CLIENT_AUTH)\n",
        "        context.options |= ssl.OP_NO_TLSv1 | ssl.OP_NO_TLSv1_1  # Force TLSv1.2 or higher\n",
        "        kwargs['ssl_context'] = context\n",
        "        return super(TLSAdapter, self).init_poolmanager(*args, **kwargs)\n",
        "\n",
        "# Set up session\n",
        "session = requests.Session()\n",
        "session.mount('https://', TLSAdapter())\n",
        "session.mount('https://', HTTPAdapter(max_retries=retries))\n",
        "\n",
        "# Step 5: Download and handle each subpage content\n",
        "downloaded_html_files = []\n",
        "docx_texts = []\n",
        "pdf_texts = []\n",
        "\n",
        "for subpage_url in subpage_urls:\n",
        "    try:\n",
        "        subpage_response = session.get(subpage_url, verify=False)\n",
        "\n",
        "        if subpage_response.status_code == 200:\n",
        "            content_type = subpage_response.headers['Content-Type']\n",
        "\n",
        "            if 'text/html' in content_type:\n",
        "                subpage_name = subpage_url.split(\"/\")[-1] or 'index'\n",
        "                if not subpage_name.endswith('.html'):\n",
        "                    file_name = f\"{subpage_name}.html\"\n",
        "                else:\n",
        "                    file_name = subpage_name\n",
        "\n",
        "                with open(file_name, \"w\", encoding=\"utf-8\") as f:\n",
        "                    f.write(subpage_response.text)\n",
        "                downloaded_html_files.append(file_name)\n",
        "                print(f\"Downloaded and saved HTML: {subpage_url}\")\n",
        "            elif 'application/vnd.openxmlformats-officedocument.wordprocessingml.document' in content_type:\n",
        "                docx_file_name = subpage_url.split(\"/\")[-1]\n",
        "                with open(docx_file_name, \"wb\") as f:\n",
        "                    f.write(subpage_response.content)\n",
        "                doc = Document(docx_file_name)\n",
        "                docx_text = \"\\n\".join([para.text for para in doc.paragraphs])\n",
        "                docx_texts.append(docx_text)\n",
        "                print(f\"Downloaded and extracted DOCX: {subpage_url}\")\n",
        "            elif 'application/pdf' in content_type:\n",
        "                pdf_file_name = subpage_url.split(\"/\")[-1]\n",
        "                with open(pdf_file_name, \"wb\") as f:\n",
        "                    f.write(subpage_response.content)\n",
        "                pdf_reader = PdfReader(pdf_file_name)\n",
        "                pdf_text = \"\"\n",
        "                for page in pdf_reader.pages:\n",
        "                    pdf_text += page.extract_text()\n",
        "                pdf_texts.append(pdf_text)\n",
        "                print(f\"Downloaded and extracted PDF: {subpage_url}\")\n",
        "            else:\n",
        "                print(f\"Skipping non-HTML, non-DOCX, non-PDF content: {subpage_url}\")\n",
        "        else:\n",
        "            print(f\"Failed to download {subpage_url}\")\n",
        "    except requests.exceptions.SSLError as e:\n",
        "        print(f\"SSL error occurred while downloading {subpage_url}: {e}\")\n",
        "    except Exception as e:\n",
        "        print(f\"An error occurred while downloading {subpage_url}: {e}\")\n",
        "\n",
        "# Step 6: Combine all HTML, DOCX, and PDF files into a single file\n",
        "combined_file = \"combined_pages_www.chinaqw.com.html\"\n",
        "with open(combined_file, \"w\", encoding=\"utf-8\") as outfile:\n",
        "    # Combine HTML files\n",
        "    for file_name in downloaded_html_files:\n",
        "        if os.path.exists(file_name):\n",
        "            with open(file_name, \"r\", encoding=\"utf-8\") as infile:\n",
        "                outfile.write(infile.read())\n",
        "                outfile.write(\"\\n\\n\")\n",
        "    # Combine DOCX text\n",
        "    for docx_text in docx_texts:\n",
        "        outfile.write(docx_text)\n",
        "        outfile.write(\"\\n\\n\")\n",
        "    # Combine PDF text\n",
        "    for pdf_text in pdf_texts:\n",
        "        outfile.write(pdf_text)\n",
        "        outfile.write(\"\\n\\n\")\n",
        "\n",
        "print(f\"All HTML, DOCX, and PDF files combined into {combined_file}\")\n",
        "\n",
        "# Step 7: Extract text and search for specific Chinese strings\n",
        "chinese_strings = [\n",
        "    \"休斯顿和统会\", \"佛罗里达和统会\", \"侨联之友\", \"俄勒冈统促会\", \"全球华人反邪教联盟\",\n",
        "    \"全美中国和平统一促进联合会\", \"全美反独促统联盟\", \"关岛和统会\", \"凤凰城和统会\", \"加州中谷和统会\",\n",
        "    \"加州首府和统会\", \"北京同乡会\", \"北加州和统会\", \"北美统促联合总会\", \"华夏政略研究会\",\n",
        "    \"华盛顿中国和平统一促进会\", \"华盛顿华人社区联盟\", \"华盛顿州中国统一促进会\", \"南加台山联谊会\",\n",
        "    \"南加州中国和平统一促进会联盟\", \"南加州促统论坛\", \"南加华人华侨联合总会\", \"圣地亚戈统促会\",\n",
        "    \"大华府象屿联谊会\", \"大波士顿和统会\", \"大洛杉矶中国统一促进会\", \"大纽约学生学者联谊会\",\n",
        "    \"大纽约统促会\", \"大芝加哥中国和平统一促进会\", \"大费城亚裔狮子会\", \"大费城侨学界华人社团联席会议\",\n",
        "    \"大费城华侨公会\", \"大费城统促会\", \"大费城长乐公会\", \"宾州和统会\", \"宾州福建同乡会\",\n",
        "    \"德州和统会\", \"德拉瓦和统会\", \"拉斯维加斯和统会\", \"新泽西和统会\", \"旧金山湾区统促会\",\n",
        "    \"波士顿和统会\", \"波特兰统促会\", \"洛杉矶华埠大联盟\", \"溫州同乡会\", \"纽约至孝督亲公所\",\n",
        "    \"纽约华人社团联席会\", \"纽约和统会\", \"罗省中华会馆\", \"美东华人社团联合总会\",\n",
        "    \"美东南福建同乡会\", \"美中友好促进会\", \"美中友好協会\", \"美中和平友好促进会\",\n",
        "    \"美中经济文化发展促进会\", \"美京统促会\", \"美华友好促统会\", \"美华总商会\", \"美国香港总商会\",\n",
        "    \"美国中华妇女联合会\", \"美国中国总商会\", \"美国亚洲人商会\", \"美国亚裔社团联合总会\",\n",
        "    \"美国侨学界社团联席会\", \"美国华人华侨联合总会\", \"美华侨\", \"美国华人华侨联谊会\",\n",
        "    \"美国华人社团联会总会\", \"美国华人联盟\", \"美国华州中国统一促进会\", \"美国宾州中国和平统一促进会\",\n",
        "    \"美国广西侨胞联合会\", \"美国福州十邑同乡会\", \"美国福建会馆\", \"美国福建侨联总会\",\n",
        "    \"美国福建同乡会\", \"美國福建同鄉會\", \"美国福建妇女友好联盟总会\", \"美国福建猴屿联谊会\",\n",
        "    \"美国连江同乡会\", \"美国长乐社团联盟总会\", \"美国闽台总商会\", \"美國大唐會館\", \"美国大唐会馆\",\n",
        "    \"美國福建會館\", \"美國廣州同學聯合總會\", \"美国广州同学联合总会\", \"美國美中文化交流促進會\",\n",
        "    \"美国美中文化交流促进会\", \"美洲中国统一促进会联合总会\", \"美洲青年和统会\", \"美西和统会\",\n",
        "    \"芝加哥一中会\", \"芝加哥统促会\", \"西雅图统促会\", \"费城东安公所\", \"费城崇正会\",\n",
        "    \"费城福建同乡会\", \"费城福建同乡联合会\", \"费城鹤山公所\", \"达拉斯和统会\", \"习近平指出\",\n",
        "    \"中国和平统一促进会\", \"中国和平统一促进联合会\", \"中国统一促进会\", \"中国统一促进会联合总会\",\n",
        "    \"会馆\", \"促统会\", \"促统联盟\", \"促统论坛\", \"华人社团联席会议\", \"友好促统会\",\n",
        "    \"同乡会\", \"和统会\", \"大聯盟\", \"总商会\", \"统促会\", \"统促进会联合会\",\n",
        "    \"联总会\", \"联谊会\", \"联合总会\", \"华人华侨联合总会\", \"华人华侨联会\",\n",
        "    \"休斯顿中国和平统一促进会\", \"全美统促进会联合会\", \"华盛顿和统会\", \"华盛顿统促会\",\n",
        "    \"南加统促联盟\", \"南加促统论坛\", \"纽约中国和平统一促进会\", \"芝加哥和统会\",\n",
        "    \"中国和平统一促进会\", \"促统会\", \"促統會\",\n",
        "    \"中华全国归国华侨联合会\", \"侨联\", \"僑聯\",\n",
        "    \"驻芝加哥总领事馆\", \"驻芝加哥总领馆\",\n",
        "    \"驻纽约总领事馆\", \"驻纽约总领馆\",\n",
        "    \"驻洛杉矶总领事馆\", \"驻洛杉矶总领馆\",\n",
        "    \"中国驻美国大使馆\",\n",
        "    \"中国共产党中央委员会统一战线工作部\", \"中央统战部\", \"统一战线工作部\", \"统战部\", \"统战\",\n",
        "    \"中共中央台湾工作办公室\", \"台湾工作办公室\", \"国务院台湾事务办公室\", \"国台办\", \"台湾事务办公室\",\n",
        "    \"国务院侨务办公室\", \"国侨办\", \"国务院侨办\",\n",
        "    \"福建省侨联\",\n",
        "    \"中国共产党中央委员会对外联络部\", \"中央对外联络部\",\n",
        "    \"国家互联网信息办公室\", \"中央网络安全和信息化委员会办公室\", \"中央网信办\",\n",
        "    \"人民政協\", \"中国人民政治协商会议\", \"政协\",\n",
        "    \"全国人民代表大会\", \"全国人大\",\n",
        "    \"全国人大华侨委员会\",\n",
        "    \"中华人民共和国外交部\", \"中国外交部\", \"外交部\",\n",
        "    \"国务院\",\n",
        "    \"国务院新闻办公室\",\n",
        "    \"工业和信息化部\", \"工信部\",\n",
        "    \"台灣自主同盟\", \"台湾自主同盟\",\n",
        "    \"中国国际贸易促进委员会\", \"贸促会\",\n",
        "    \"致公党\",\n",
        "    \"中国侨商联合会\"\n",
        "]  # Full list of strings, as provided earlier\n",
        "\n",
        "def extract_text_from_html(html_content):\n",
        "    soup = BeautifulSoup(html_content, \"html.parser\")\n",
        "    for script_or_style in soup(['script', 'style']):\n",
        "        script_or_style.decompose()\n",
        "    text = soup.get_text(separator=' ', strip=True)\n",
        "    return re.sub(r'\\s+', ' ', text)\n",
        "\n",
        "with open(combined_file, \"r\", encoding=\"utf-8\") as combined:\n",
        "    content = combined.read()\n",
        "\n",
        "readable_text = extract_text_from_html(content)\n",
        "\n",
        "# Step 8: Keyword search and proximity analysis\n",
        "keyword_positions = {}\n",
        "for keyword in chinese_strings:\n",
        "    matches = [m.start() for m in re.finditer(re.escape(keyword), readable_text)]\n",
        "    if matches:\n",
        "        keyword_positions[keyword] = matches\n",
        "\n",
        "def calculate_word_distance(pos1, pos2, text):\n",
        "    between_text = text[min(pos1, pos2):max(pos1, pos2)]\n",
        "    words_between = between_text.split()\n",
        "    return len(words_between)\n",
        "\n",
        "proximity_data = []\n",
        "for i, keyword1 in enumerate(chinese_strings):\n",
        "    for j, keyword2 in enumerate(chinese_strings):\n",
        "        if i < j and keyword1 in keyword_positions and keyword2 in keyword_positions:\n",
        "            for pos1 in keyword_positions[keyword1]:\n",
        "                for pos2 in keyword_positions[keyword2]:\n",
        "                    distance = calculate_word_distance(pos1, pos2, readable_text)\n",
        "                    # Filter to keep only distances <= 1000\n",
        "                    if distance <= 1000:\n",
        "                        proximity_data.append([keyword1, keyword2, distance])\n",
        "\n",
        "# Save results to CSV\n",
        "csv_file_path = 'keyword_proximity_results_www.chinaqw.com.csv'\n",
        "with open(csv_file_path, mode='w', newline='', encoding='utf-8') as file:\n",
        "    writer = csv.writer(file)\n",
        "    writer.writerow([\"Keyword 1\", \"Keyword 2\", \"Word Distance\"])\n",
        "    for row in proximity_data:\n",
        "        writer.writerow(row)\n",
        "\n",
        "print(f\"Proximity analysis complete. Results saved in {csv_file_path}\")\n"
      ]
    },
    {
      "cell_type": "code",
      "execution_count": null,
      "metadata": {
        "id": "9Es7Re8orpbV"
      },
      "outputs": [],
      "source": [
        "import pandas as pd\n",
        "df = pd.read_csv(\"keyword_proximity_results_www.chinaqw.com.csv\")\n",
        "mdf = df.groupby([\"Keyword 1\", \"Keyword 2\"]).mean()\n",
        "mdf.sort_values(by=\"Word Distance\", ascending=True).tail(100)\n",
        "mdf.sort_values(by=\"Word Distance\", ascending=True).to_csv(\"www.chinaqw.com .csv\")"
      ]
    },
    {
      "cell_type": "code",
      "execution_count": null,
      "metadata": {
        "colab": {
          "base_uri": "https://localhost:8080/"
        },
        "id": "N6Zof-BP67rW",
        "outputId": "898692bc-d8b7-4ba3-d7bc-ce20550f01b8"
      },
      "outputs": [
        {
          "name": "stdout",
          "output_type": "stream",
          "text": [
            "Successfully fetched the main page!\n"
          ]
        },
        {
          "name": "stderr",
          "output_type": "stream",
          "text": [
            "<ipython-input-33-e72440a65df7>:49: DeprecationWarning: ssl.OP_NO_SSL*/ssl.OP_NO_TLS* options are deprecated\n",
            "  context.options |= ssl.OP_NO_TLSv1 | ssl.OP_NO_TLSv1_1  # Force TLSv1.2 or higher\n"
          ]
        },
        {
          "name": "stdout",
          "output_type": "stream",
          "text": [
            "Downloaded and saved HTML: http://eng.taiwan.cn/\n",
            "Downloaded and saved HTML: http://big5.taiwan.cn/\n",
            "Downloaded and saved HTML: http://www.taiwan.cn/\n",
            "Downloaded and saved HTML: http://big5.taiwan.cn/\n",
            "Downloaded and saved HTML: http://www.taiwan.cn/local/beijing/\n",
            "Downloaded and saved HTML: http://www.taiwan.cn/local/tianjin/\n",
            "Downloaded and saved HTML: http://www.taiwan.cn/local/hebei/\n",
            "Downloaded and saved HTML: http://www.taiwan.cn/local/shanxi2/\n",
            "Downloaded and saved HTML: http://www.taiwan.cn/local/neimenggu/\n",
            "Downloaded and saved HTML: http://www.taiwan.cn/local/liaoning/\n",
            "Downloaded and saved HTML: http://www.taiwan.cn/local/jilin/\n",
            "Downloaded and saved HTML: http://www.taiwan.cn/local/heilongjiang/\n",
            "Downloaded and saved HTML: http://www.taiwan.cn/local/shanghai/\n",
            "Downloaded and saved HTML: http://www.jsstb.gov.cn/\n",
            "Downloaded and saved HTML: http://www.taiwan.cn/local/zhejiang/\n",
            "Downloaded and saved HTML: http://www.taiwan.cn/local/anhui/\n",
            "Downloaded and saved HTML: http://www.fjtb.gov.cn/\n",
            "Downloaded and saved HTML: http://www.taiwan.cn/local/jiangxi/\n",
            "Downloaded and saved HTML: http://www.taiwan.cn/local/shandong/\n",
            "Downloaded and saved HTML: http://www.taiwan.cn/local/henan/\n",
            "Downloaded and saved HTML: http://www.taiwan.cn/local/hubei/\n",
            "Downloaded and saved HTML: http://www.taiwan.cn/local/hunan/\n",
            "Downloaded and saved HTML: http://www.taiwan.cn/local/guangdong/\n",
            "Downloaded and saved HTML: http://www.taiwan.cn/local/guangxi/\n",
            "Downloaded and saved HTML: http://www.taiwan.cn/local/hainan/\n",
            "Downloaded and saved HTML: http://www.taiwan.cn/local/chongqing/\n",
            "Downloaded and saved HTML: http://www.taiwan.cn/local/sichuan/\n",
            "Downloaded and saved HTML: http://www.taiwan.cn/local/guizhou/\n",
            "Downloaded and saved HTML: http://yntb.taiwan.cn/\n",
            "Downloaded and saved HTML: http://www.taiwan.cn/local/xizang/\n",
            "Downloaded and saved HTML: http://www.taiwan.cn/local/shanxi/\n",
            "Downloaded and saved HTML: http://www.gstb.gov.cn/\n",
            "Downloaded and saved HTML: http://www.taiwan.cn/local/qinghai/\n",
            "Downloaded and saved HTML: http://www.taiwan.cn/local/ningxia/\n",
            "Downloaded and saved HTML: http://www.taiwan.cn/local/xinjiang/\n",
            "Downloaded and saved HTML: http://www.taiwan.cn/local/guangdong_33203/\n",
            "Downloaded and saved HTML: http://www.qd.taiwan.cn\n",
            "Downloaded and saved HTML: http://cse.special.taiwan.cn/2018/liangan/\n",
            "Downloaded and saved HTML: http://www.taiwan.cn/\n",
            "Downloaded and saved HTML: http://www.taiwan.cn/\n",
            "Downloaded and saved HTML: http://www.taiwan.cn/\n",
            "Downloaded and saved HTML: http://www.taiwan.cn/\n",
            "Downloaded and saved HTML: http://www.taiwan.cn/\n",
            "Downloaded and saved HTML: http://www.taiwan.cn/xwzx/\n",
            "Downloaded and saved HTML: http://www.taiwan.cn/plzhx/\n",
            "Downloaded and saved HTML: http://www.taiwan.cn/lilunpindao/\n",
            "Downloaded and saved HTML: http://www.taiwan.cn/taiwan/\n",
            "Downloaded and saved HTML: http://www.taiwan.cn/xwzx/la/\n",
            "Downloaded and saved HTML: http://depts.taiwan.cn/\n",
            "Downloaded and saved HTML: http://www.taiwan.cn/31t/\n",
            "Downloaded and saved HTML: http://econ.taiwan.cn/\n",
            "Downloaded and saved HTML: http://culture.taiwan.cn/\n",
            "Downloaded and saved HTML: http://www.taiwan.cn/zhinan/\n",
            "Downloaded and saved HTML: http://lib.taiwan.cn/\n",
            "Downloaded and saved HTML: http://www.acsme.org.cn/\n",
            "Downloaded and saved HTML: http://special.taiwan.cn/2022zt/\n",
            "Downloaded and saved HTML: http://www.taiwan.cn/xwzx/PoliticsNews/202410/t20241027_12658992.htm\n",
            "Downloaded and saved HTML: http://www.taiwan.cn/xwzx/la/202410/t20241024_12658555.htm\n",
            "Downloaded and saved HTML: http://www.taiwan.cn/xwzx/la/202410/t20241024_12658555.htm\n",
            "Downloaded and saved HTML: http://www.taiwan.cn/xwzx/la/202410/t20241024_12658555.htm\n",
            "Downloaded and saved HTML: http://www.taiwan.cn/xwzx/la/202410/t20241027_12659008.htm\n",
            "Downloaded and saved HTML: http://www.taiwan.cn/xwzx/la/202410/t20241027_12659008.htm\n",
            "Downloaded and saved HTML: http://www.taiwan.cn/xwzx/la/202410/t20241027_12658914.htm\n",
            "Downloaded and saved HTML: http://www.taiwan.cn/xwzx/la/202410/t20241027_12658914.htm\n",
            "Downloaded and saved HTML: http://www.taiwan.cn/xwzx/bwkx/\n",
            "Downloaded and saved HTML: http://www.taiwan.cn/xwzx/la/202410/t20241027_12659008.htm\n",
            "Downloaded and saved HTML: http://www.taiwan.cn/xwzx/la/202410/t20241027_12659005.htm\n",
            "Downloaded and saved HTML: http://www.taiwan.cn/xwzx/xwfbh/gtbxwfbh/tuwen/202410/t20241027_12658981.htm\n",
            "Downloaded and saved HTML: http://www.taiwan.cn/xwzx/la/202410/t20241027_12658914.htm\n",
            "Downloaded and saved HTML: http://www.taiwan.cn/xwzx/la/202410/t20241026_12658867.htm\n",
            "Downloaded and saved HTML: http://www.taiwan.cn/xwzx/la/202410/t20241026_12658861.htm\n",
            "Downloaded and saved HTML: http://www.taiwan.cn/xwzx/xwfbh/gtbxwfbh/tuwen/202410/t20241026_12658783.htm\n",
            "Downloaded and saved HTML: http://depts.taiwan.cn/news/202410/t20241025_12658733.htm\n",
            "Downloaded and saved HTML: http://depts.taiwan.cn/news/202410/t20241025_12658730.htm\n",
            "Downloaded and saved HTML: http://www.taiwan.cn/local/dfkx/202410/t20241025_12658723.htm\n",
            "Downloaded and saved HTML: http://www.taiwan.cn/local/dfkx/202410/t20241025_12658722.htm\n",
            "Downloaded and saved HTML: http://www.taiwan.cn/local/dfkx/202410/t20241025_12658720.htm\n",
            "Downloaded and saved HTML: http://www.taiwan.cn/local/dfkx/202410/t20241025_12658719.htm\n",
            "Downloaded and saved HTML: http://www.taiwan.cn/local/dfkx/202410/t20241025_12658716.htm\n",
            "Downloaded and saved HTML: http://www.taiwan.cn/xwzx/xwfbh/gtbxwfbh/tuwen/202410/t20241025_12658715.htm\n",
            "Downloaded and saved HTML: http://www.taiwan.cn/local/dfkx/202410/t20241025_12658713.htm\n",
            "Downloaded and saved HTML: http://www.taiwan.cn/local/dfkx/202410/t20241025_12658705.htm\n",
            "Downloaded and saved HTML: http://www.taiwan.cn/local/dfkx/202410/t20241025_12658703.htm\n",
            "Downloaded and saved HTML: http://www.taiwan.cn/local/dfkx/202410/t20241025_12658702.htm\n",
            "Downloaded and saved HTML: http://www.taiwan.cn/taiwan/jsxw/202410/t20241025_12658700.htm\n",
            "Downloaded and saved HTML: http://www.taiwan.cn/local/dfkx/202410/t20241025_12658701.htm\n",
            "Downloaded and saved HTML: http://www.taiwan.cn/local/dfkx/202410/t20241025_12658699.htm\n",
            "Downloaded and saved HTML: http://www.taiwan.cn/local/dfkx/202410/t20241025_12658698.htm\n",
            "Downloaded and saved HTML: http://www.taiwan.cn/local/dfkx/202410/t20241025_12658697.htm\n",
            "Downloaded and saved HTML: http://www.taiwan.cn/taiwan/jsxw/202410/t20241025_12658677.htm\n",
            "Downloaded and saved HTML: http://www.taiwan.cn/local/dfkx/202410/t20241025_12658672.htm\n",
            "Downloaded and saved HTML: http://www.taiwan.cn/local/dfkx/202410/t20241025_12658637.htm\n",
            "Downloaded and saved HTML: http://www.taiwan.cn/local/dfkx/202410/t20241025_12658629.htm\n",
            "Downloaded and saved HTML: http://www.taiwan.cn/taiwan/jsxw/202410/t20241025_12658626.htm\n",
            "Downloaded and saved HTML: http://www.taiwan.cn/taiwan/jsxw/202410/t20241025_12658590.htm\n",
            "Downloaded and saved HTML: http://www.taiwan.cn/taiwan/jsxw/202410/t20241025_12658589.htm\n",
            "Downloaded and saved HTML: http://www.taiwan.cn/xwzx/la/202410/t20241025_12658579.htm\n",
            "Downloaded and saved HTML: http://www.taiwan.cn/xwzx/la/202410/t20241024_12658555.htm\n",
            "Downloaded and saved HTML: http://www.taiwan.cn/xwzx/la/202410/t20241024_12658531.htm\n",
            "Downloaded and saved HTML: http://www.taiwan.cn/xwzx/PoliticsNews/202410/t20241024_12658514.htm\n",
            "Downloaded and saved HTML: http://www.taiwan.cn/local/dfkx/202410/t20241024_12658500.htm\n",
            "Downloaded and saved HTML: http://www.taiwan.cn/local/dfkx/202410/t20241024_12658499.htm\n",
            "Downloaded and saved HTML: http://www.taiwan.cn/plzhx/plyzl/202410/t20241024_12658464.htm\n",
            "Downloaded and saved HTML: http://www.taiwan.cn/local/dfkx/202410/t20241024_12658439.htm\n",
            "Downloaded and saved HTML: http://www.taiwan.cn/taiwan/jsxw/202410/t20241024_12658431.htm\n",
            "Downloaded and saved HTML: http://www.taiwan.cn/xwzx/la/202410/t20241024_12658424.htm\n",
            "Downloaded and saved HTML: http://www.taiwan.cn/taiwan/jsxw/202410/t20241024_12658412.htm\n",
            "Downloaded and saved HTML: http://www.taiwan.cn/local/dfkx/202410/t20241024_12658394.htm\n",
            "Downloaded and saved HTML: http://www.taiwan.cn/local/dfkx/202410/t20241024_12658391.htm\n",
            "Downloaded and saved HTML: http://www.taiwan.cn/local/dfkx/202410/t20241024_12658380.htm\n",
            "Downloaded and saved HTML: http://www.taiwan.cn/taiwan/jsxw/202410/t20241024_12658365.htm\n",
            "Downloaded and saved HTML: http://www.taiwan.cn/local/dfkx/202410/t20241024_12658353.htm\n",
            "Downloaded and saved HTML: http://www.taiwan.cn/local/dfkx/202410/t20241024_12658344.htm\n",
            "Downloaded and saved HTML: http://www.taiwan.cn/taiwan/jsxw/202410/t20241024_12658339.htm\n",
            "Downloaded and saved HTML: http://www.taiwan.cn/xwzx/la/202410/t20241024_12658293.htm\n",
            "Downloaded and saved HTML: http://www.taiwan.cn/xwzx/PoliticsNews/202410/t20241028_12659024.htm\n",
            "Downloaded and saved HTML: http://www.taiwan.cn/xwzx/PoliticsNews/202410/t20241027_12658994.htm\n",
            "Downloaded and saved HTML: http://www.taiwan.cn/xwzx/PoliticsNews/202410/t20241027_12658993.htm\n",
            "Downloaded and saved HTML: http://www.taiwan.cn/xwzx/PoliticsNews/202410/t20241027_12658938.htm\n",
            "Downloaded and saved HTML: http://www.taiwan.cn/xwzx/la/202410/t20241024_12658555.htm\n",
            "Downloaded and saved HTML: http://www.taiwan.cn/xwzx/la/202410/t20241024_12658555.htm\n",
            "Downloaded and saved HTML: http://www.taiwan.cn/xwzx/la/202410/t20241023_12658264.htm\n",
            "Downloaded and saved HTML: http://www.taiwan.cn/xwzx/la/202410/t20241023_12658264.htm\n",
            "Downloaded and saved HTML: http://www.taiwan.cn/xwzx/la/202410/t20241022_12658052.htm\n",
            "Downloaded and saved HTML: http://www.taiwan.cn/xwzx/la/202410/t20241022_12658052.htm\n",
            "Downloaded and saved HTML: http://www.taiwan.cn/xwzx/la/202409/t20240925_12652463.htm\n",
            "Downloaded and saved HTML: http://www.taiwan.cn/xwzx/la/202409/t20240925_12652463.htm\n",
            "Downloaded and saved HTML: http://www.taiwan.cn/xwzx/la/202409/t20240925_12652434.htm\n",
            "Downloaded and saved HTML: http://www.taiwan.cn/xwzx/la/202409/t20240925_12652434.htm\n",
            "Downloaded and saved HTML: http://www.taiwan.cn/xwzx/la/202409/t20240912_12649628.htm\n",
            "Downloaded and saved HTML: http://www.taiwan.cn/xwzx/la/202409/t20240912_12649628.htm\n",
            "Downloaded and saved HTML: http://www.taiwan.cn/xwzx/la/202408/t20240830_12646250.htm\n",
            "Downloaded and saved HTML: http://www.taiwan.cn/xwzx/la/202408/t20240830_12646250.htm\n",
            "Downloaded and saved HTML: http://www.taiwan.cn/xwzx/la/202408/t20240828_12645782.htm\n",
            "Downloaded and saved HTML: http://www.taiwan.cn/xwzx/la/202408/t20240828_12645782.htm\n",
            "Downloaded and saved HTML: http://www.taiwan.cn/xwzx/la/202408/t20240822_12644408.htm\n",
            "Downloaded and saved HTML: http://www.taiwan.cn/xwzx/la/202408/t20240822_12644408.htm\n",
            "Downloaded and saved HTML: http://www.taiwan.cn/xwzx/la/202408/t20240806_12640598.htm\n",
            "Downloaded and saved HTML: http://www.taiwan.cn/xwzx/la/202408/t20240806_12640598.htm\n",
            "Downloaded and saved HTML: http://www.taiwan.cn/xwzx/la/202407/t20240731_12639191.htm\n",
            "Downloaded and saved HTML: http://www.taiwan.cn/xwzx/la/202407/t20240731_12639191.htm\n",
            "Downloaded and saved HTML: http://www.taiwan.cn/xwzx/la/202407/t20240723_12637470.htm\n",
            "Downloaded and saved HTML: http://www.taiwan.cn/xwzx/la/202407/t20240723_12637470.htm\n",
            "Downloaded and saved HTML: http://www.taiwan.cn/xwzx/la/202407/t20240722_12637230.htm\n",
            "Downloaded and saved HTML: http://www.taiwan.cn/xwzx/la/202407/t20240722_12637230.htm\n",
            "Downloaded and saved HTML: http://www.taiwan.cn/xwzx/la/202407/t20240709_12633957.htm\n",
            "Downloaded and saved HTML: http://www.taiwan.cn/xwzx/la/202407/t20240709_12633957.htm\n",
            "Downloaded and saved HTML: http://www.taiwan.cn/xwzx/la/202407/t20240708_12633898.htm\n",
            "Downloaded and saved HTML: http://www.taiwan.cn/xwzx/la/202407/t20240708_12633898.htm\n",
            "Downloaded and saved HTML: http://www.taiwan.cn/xwzx/la/202407/t20240703_12632645.htm\n",
            "Downloaded and saved HTML: http://www.taiwan.cn/xwzx/la/202407/t20240703_12632645.htm\n",
            "Downloaded and saved HTML: http://www.taiwan.cn/xwzx/la/202406/t20240613_12627560.htm\n",
            "Downloaded and saved HTML: http://www.taiwan.cn/xwzx/la/202406/t20240613_12627560.htm\n",
            "Downloaded and saved HTML: http://www.taiwan.cn/xwzx/la/202406/t20240611_12626900.htm\n",
            "Downloaded and saved HTML: http://www.taiwan.cn/xwzx/la/202406/t20240611_12626900.htm\n",
            "Downloaded and saved HTML: http://www.taiwan.cn/xwzx/la/202405/t20240529_12623867.htm\n",
            "Downloaded and saved HTML: http://www.taiwan.cn/xwzx/la/202405/t20240529_12623867.htm\n",
            "Downloaded and saved HTML: http://www.taiwan.cn/xwzx/la/202410/t20241024_12658555.htm\n",
            "Downloaded and saved HTML: http://www.taiwan.cn/xwzx/la/202410/t20241023_12658264.htm\n",
            "Downloaded and saved HTML: http://www.taiwan.cn/xwzx/la/202410/t20241022_12658052.htm\n",
            "Downloaded and saved HTML: http://www.taiwan.cn/xwzx/la/202409/t20240925_12652463.htm\n",
            "Downloaded and saved HTML: http://www.taiwan.cn/xwzx/la/202409/t20240925_12652434.htm\n",
            "Downloaded and saved HTML: http://www.taiwan.cn/xwzx/la/202409/t20240912_12649628.htm\n",
            "Downloaded and saved HTML: http://www.taiwan.cn/xwzx/la/202408/t20240830_12646250.htm\n",
            "Downloaded and saved HTML: http://www.taiwan.cn/xwzx/la/202408/t20240828_12645782.htm\n",
            "Downloaded and saved HTML: http://www.taiwan.cn/xwzx/la/202408/t20240822_12644408.htm\n",
            "Downloaded and saved HTML: http://www.taiwan.cn/2021/sywhq_62090/LAGT/\n",
            "Downloaded and saved HTML: http://www.taiwan.cn/plzhx/\n",
            "Downloaded and saved HTML: http://www.taiwan.cn/plzhx/plyzl/202410/t20241024_12658464.htm\n",
            "Downloaded and saved HTML: http://www.taiwan.cn/plzhx/ZBPL/202410/t20241023_12658185.htm\n",
            "Downloaded and saved HTML: http://www.taiwan.cn/plzhx/ZBPL/202410/t20241015_12656523.htm\n",
            "Downloaded and saved HTML: http://www.taiwan.cn/plzhx/plyzl/202410/t20241015_12656435.htm\n",
            "Downloaded and saved HTML: http://www.taiwan.cn/xwzx/la/202409/t20240925_12652532.htm\n",
            "Downloaded and saved HTML: http://www.taiwan.cn/xwzx/la/202409/t20240925_12652417.htm\n",
            "Downloaded and saved HTML: http://www.taiwan.cn/xwzx/la/202409/t20240914_12650326.htm\n",
            "Downloaded and saved HTML: http://www.taiwan.cn/xwzx/la/202408/t20240808_12641210.htm\n",
            "Downloaded and saved HTML: http://www.taiwan.cn/xwzx/la/202408/t20240806_12640746.htm\n",
            "Downloaded and saved HTML: http://www.taiwan.cn/xwzx/la/202407/t20240717_12635865.htm\n",
            "Downloaded and saved HTML: http://cse.special.taiwan.cn/2024/xmczx/\n",
            "Downloaded and saved HTML: http://cse.special.taiwan.cn/2024/ljxz/\n",
            "Downloaded and saved HTML: http://cse.special.taiwan.cn/2024/shopping/\n",
            "Downloaded and saved HTML: http://cse.special.taiwan.cn/2024/GL/\n",
            "Downloaded and saved HTML: http://cse.special.taiwan.cn/2024/tstqzjl/\n",
            "Downloaded and saved HTML: http://special.taiwan.cn/2024/\n",
            "Downloaded and saved HTML: http://www.taiwan.cn/xwzx/zxzt/2024/cy/\n",
            "Downloaded and saved HTML: http://www.taiwan.cn/xwzx/zxzt/2024/rd/\n",
            "Downloaded and saved HTML: http://www.taiwan.cn/xwzx/zxzt/2024/xzc/\n",
            "Downloaded and saved HTML: http://www.taiwan.cn/xwzx/zxzt/2024/cjtdwgfz_66231/\n",
            "Downloaded and saved HTML: http://www.taiwan.cn/xwzx/zxzt/2024/zq/\n",
            "Downloaded and saved HTML: http://www.taiwan.cn/xwzx/zxzt/2024/szqh/\n",
            "Downloaded and saved HTML: http://www.taiwan.cn/xwzx/zxzt/2024/xqzj/\n",
            "Downloaded and saved HTML: http://www.taiwan.cn/xwzx/zxzt/2024/wlwmdh/\n",
            "Downloaded and saved HTML: http://www.taiwan.cn/xwzx/zxzt/2024/qx/\n",
            "Downloaded and saved HTML: http://www.taiwan.cn/xwzx/zxzt/2024/qmfz/\n",
            "Downloaded and saved HTML: http://cse.special.taiwan.cn/2024/xmczx/\n",
            "Downloaded and saved HTML: http://cse.special.taiwan.cn/2024/ljxz/\n",
            "Downloaded and saved HTML: http://cse.special.taiwan.cn/2024/shopping/\n",
            "Downloaded and saved HTML: http://cse.special.taiwan.cn/2024/GL/\n",
            "Downloaded and saved HTML: http://cse.special.taiwan.cn/2024/tstqzjl/\n",
            "Downloaded and saved HTML: http://cse.special.taiwan.cn/2024/2023YTH/\n",
            "Downloaded and saved HTML: http://www.taiwan.cn/xwzx/zxzt/2023/twtxl2023/\n",
            "Downloaded and saved HTML: http://cse.special.taiwan.cn/2024/mzy/\n",
            "Downloaded and saved HTML: http://cse.special.taiwan.cn/2024/qflt7/\n",
            "Downloaded and saved HTML: http://cse.special.taiwan.cn/2024/rrgl/\n",
            "Downloaded and saved HTML: http://www.taiwan.cn/xwzx/\n",
            "Downloaded and saved HTML: http://www.taiwan.cn/xwzx/PoliticsNews/202410/t20241027_12658976.htm\n",
            "Downloaded and saved HTML: http://www.taiwan.cn/xwzx/PoliticsNews/202410/t20241027_12658976.htm\n",
            "Downloaded and saved HTML: http://www.taiwan.cn/xwzx/PoliticsNews/202410/t20241027_12658900.htm\n",
            "Downloaded and saved HTML: http://www.taiwan.cn/xwzx/PoliticsNews/202410/t20241027_12658939.htm\n",
            "Downloaded and saved HTML: http://www.taiwan.cn/xwzx/PoliticsNews/202410/t20241027_12658912.htm\n",
            "Downloaded and saved HTML: http://www.taiwan.cn/xwzx/PoliticsNews/202410/t20241027_12658941.htm\n",
            "Downloaded and saved HTML: http://www.taiwan.cn/xwzx/PoliticsNews/202410/t20241027_12659001.htm\n",
            "Downloaded and saved HTML: http://www.taiwan.cn/xwzx/la/\n",
            "Downloaded and saved HTML: http://www.taiwan.cn/xwzx/la/202410/t20241026_12658867.htm\n",
            "Downloaded and saved HTML: http://www.taiwan.cn/xwzx/la/202410/t20241026_12658867.htm\n",
            "Downloaded and saved HTML: http://www.taiwan.cn/xwzx/la/202410/t20241024_12658424.htm\n",
            "Downloaded and saved HTML: http://www.taiwan.cn/xwzx/la/202410/t20241024_12658424.htm\n",
            "Downloaded and saved HTML: http://www.taiwan.cn/xwzx/la/202410/t20241027_12658954.htm\n",
            "Downloaded and saved HTML: http://www.taiwan.cn/xwzx/la/202410/t20241027_12658957.htm\n",
            "Downloaded and saved HTML: http://www.taiwan.cn/xwzx/la/202410/t20241027_12658970.htm\n",
            "Downloaded and saved HTML: http://www.taiwan.cn/xwzx/la/202410/t20241027_12658973.htm\n",
            "Downloaded and saved HTML: http://v.taiwan.cn/gtbfbh/\n",
            "Downloaded and saved HTML: http://www.taiwan.cn/xwzx/xwfbh/gtbxwfbh/fbhwb/\n",
            "Downloaded and saved HTML: http://www.taiwan.cn/xwzx/xwfbh/gtbxwfbh/tuwen/\n",
            "Downloaded and saved HTML: http://www.taiwan.cn/xwzx/xwfbh/gtbxwfbh/tuwen/202410/t20241026_12658783.htm\n",
            "Downloaded and saved HTML: http://www.taiwan.cn/xwzx/xwfbh/gtbxwfbh/tuwen/202410/t20241016_12656707.htm\n",
            "Downloaded and saved HTML: http://www.taiwan.cn/xwzx/xwfbh/gtbxwfbh/tuwen/202410/t20241016_12656669.htm\n",
            "Downloaded and saved HTML: http://www.taiwan.cn/xwzx/xwfbh/gtbxwfbh/tuwen/202410/t20241016_12656656.htm\n",
            "Downloaded and saved HTML: http://www.taiwan.cn/xwzx/xwfbh/gtbxwfbh/tuwen/202410/t20241016_12656657.htm\n",
            "Downloaded and saved HTML: http://www.taiwan.cn/xwzx/la/202312/t20231230_12590799.htm\n",
            "Downloaded and saved HTML: http://www.taiwan.cn/xwzx/la/202312/t20231230_12590799.htm\n",
            "Downloaded and saved HTML: http://www.taiwan.cn/xwzx/xwfbh/gtbxwfbh/fbhwb/202205/t20220511_12435050.htm\n",
            "Downloaded and saved HTML: http://www.taiwan.cn/xwzx/xwfbh/gtbxwfbh/fbhwb/202205/t20220511_12435050.htm\n",
            "Downloaded and saved HTML: http://www.taiwan.cn/taiwan/\n",
            "Downloaded and saved HTML: http://www.taiwan.cn/xwzx/la/202410/t20241025_12658623.htm\n",
            "Downloaded and saved HTML: http://www.taiwan.cn/xwzx/la/202410/t20241025_12658623.htm\n",
            "Downloaded and saved HTML: http://www.taiwan.cn/taiwan/jsxw/202410/t20241025_12658677.htm\n",
            "Downloaded and saved HTML: http://www.taiwan.cn/taiwan/jsxw/202410/t20241025_12658700.htm\n",
            "Downloaded and saved HTML: http://www.taiwan.cn/taiwan/jsxw/202410/t20241025_12658626.htm\n",
            "Downloaded and saved HTML: http://www.taiwan.cn/taiwan/jsxw/202410/t20241024_12658412.htm\n",
            "Downloaded and saved HTML: http://www.taiwan.cn/taiwan/jsxw/202410/t20241024_12658365.htm\n",
            "Downloaded and saved HTML: http://www.taiwan.cn/31t/\n",
            "Downloaded and saved HTML: http://www.taiwan.cn/xwzx/la/202410/t20241024_12658302.htm\n",
            "Downloaded and saved HTML: http://www.taiwan.cn/xwzx/la/202410/t20241024_12658302.htm\n",
            "Downloaded and saved HTML: http://www.taiwan.cn/xwzx/la/202410/t20241022_12657865.htm\n",
            "Downloaded and saved HTML: http://www.taiwan.cn/xwzx/la/202410/t20241022_12657865.htm\n",
            "Downloaded and saved HTML: http://www.taiwan.cn/xwzx/la/202410/t20241024_12658476.htm\n",
            "Downloaded and saved HTML: http://www.taiwan.cn/xwzx/la/202410/t20241022_12657865.htm\n",
            "Downloaded and saved HTML: http://www.taiwan.cn/xwzx/la/202410/t20241019_12657431.htm\n",
            "Downloaded and saved HTML: http://www.taiwan.cn/xwzx/la/202410/t20241016_12656751.htm\n",
            "Downloaded and saved HTML: http://depts.taiwan.cn/\n",
            "Downloaded and saved HTML: http://depts.taiwan.cn/news/202410/t20241025_12658733.htm\n",
            "Downloaded and saved HTML: http://depts.taiwan.cn/news/202410/t20241025_12658730.htm\n",
            "Downloaded and saved HTML: http://www.taiwan.cn/xwzx/la/202410/t20241022_12657871.htm\n",
            "Downloaded and saved HTML: http://www.taiwan.cn/xwzx/la/202410/t20241021_12657626.htm\n",
            "Downloaded and saved HTML: http://www.taiwan.cn/xwzx/la/202410/t20241021_12657603.htm\n",
            "Downloaded and saved HTML: http://www.taiwan.cn/xwzx/la/202410/t20241021_12657603.htm\n",
            "Downloaded and saved HTML: http://econ.taiwan.cn/\n",
            "Downloaded and saved HTML: http://www.taiwan.cn/local/dfkx/202410/t20241025_12658698.htm\n",
            "Downloaded and saved HTML: http://www.taiwan.cn/local/dfkx/202410/t20241025_12658698.htm\n",
            "Downloaded and saved HTML: http://www.taiwan.cn/local/dfkx/202410/t20241025_12658713.htm\n",
            "Downloaded and saved HTML: http://www.taiwan.cn/local/dfkx/202410/t20241025_12658629.htm\n",
            "Downloaded and saved HTML: http://www.taiwan.cn/local/dfkx/202410/t20241025_12658637.htm\n",
            "Downloaded and saved HTML: http://www.taiwan.cn/xwzx/la/202410/t20241025_12658710.htm\n",
            "Downloaded and saved HTML: http://econ.taiwan.cn/econ/202410/t20241025_12658704.htm\n",
            "Downloaded and saved HTML: http://culture.taiwan.cn/\n",
            "Downloaded and saved HTML: http://culture.taiwan.cn/cul/202410/t20241025_12658627.htm\n",
            "Downloaded and saved HTML: http://culture.taiwan.cn/cul/202410/t20241025_12658627.htm\n",
            "Downloaded and saved HTML: http://culture.taiwan.cn/cul/202410/t20241025_12658584.htm\n",
            "Downloaded and saved HTML: http://culture.taiwan.cn/cul/202410/t20241025_12658584.htm\n",
            "Downloaded and saved HTML: http://culture.taiwan.cn/cul/202410/t20241023_12658089.htm\n",
            "Downloaded and saved HTML: http://www.taiwan.cn/xwzx/PoliticsNews/202410/t20241026_12658840.htm\n",
            "Downloaded and saved HTML: http://culture.taiwan.cn/cul/202410/t20241025_12658628.htm\n",
            "Downloaded and saved HTML: http://culture.taiwan.cn/cul/202410/t20241025_12658627.htm\n",
            "Downloaded and saved HTML: http://www.taiwan.cn/zhinan/\n",
            "Downloaded and saved HTML: http://www.taiwan.cn/zhinan/qx/gx/zn/202402/t20240226_12601936.htm\n",
            "Downloaded and saved HTML: http://www.taiwan.cn/zhinan/qx/gx/zn/202402/t20240226_12601936.htm\n",
            "Downloaded and saved HTML: http://lib.taiwan.cn/\n",
            "Downloaded and saved HTML: http://lib.taiwan.cn/zhengce/202311/t20231106_12579484.htm\n",
            "Downloaded and saved HTML: http://lib.taiwan.cn/zhengce/202311/t20231106_12579484.htm\n",
            "Downloaded and saved HTML: http://www.taiwan.cn/zhinan/wl/\n",
            "Downloaded and saved HTML: http://www.taiwan.cn/zhinan/qz/\n",
            "Downloaded and saved HTML: http://www.taiwan.cn/zhinan/qx/\n",
            "Downloaded and saved HTML: http://www.taiwan.cn/zhinan/sh/\n",
            "Downloaded and saved HTML: http://www.taiwan.cn/zhinan/cy/\n",
            "Downloaded and saved HTML: http://www.taiwan.cn/zhinan/jy/\n",
            "Downloaded and saved HTML: http://lib.taiwan.cn/wx2023/\n",
            "Downloaded and saved HTML: http://lib.taiwan.cn/zhengce/\n",
            "Downloaded and saved HTML: http://lib.taiwan.cn/agreeon/\n",
            "Downloaded and saved HTML: http://lib.taiwan.cn/shetai/\n",
            "Downloaded and saved HTML: http://lib.taiwan.cn/data/\n",
            "Downloaded and saved HTML: http://lib.taiwan.cn/llgxevent/\n",
            "Downloaded and saved HTML: http://www.taiwan.cn/lagx/\n",
            "Downloaded and saved HTML: http://v.taiwan.cn/\n",
            "Downloaded and saved HTML: http://v.taiwan.cn/gtbfbh/\n",
            "Downloaded and saved HTML: http://v.taiwan.cn/latt/\n",
            "Downloaded and saved HTML: http://v.taiwan.cn/lakp/\n",
            "Downloaded and saved HTML: http://v.taiwan.cn/laqns/\n"
          ]
        },
        {
          "name": "stderr",
          "output_type": "stream",
          "text": [
            "/usr/local/lib/python3.10/dist-packages/urllib3/connectionpool.py:1099: InsecureRequestWarning: Unverified HTTPS request is being made to host 'v.douyin.com'. Adding certificate verification is strongly advised. See: https://urllib3.readthedocs.io/en/latest/advanced-usage.html#tls-warnings\n",
            "  warnings.warn(\n",
            "/usr/local/lib/python3.10/dist-packages/urllib3/connectionpool.py:1099: InsecureRequestWarning: Unverified HTTPS request is being made to host 'www.iesdouyin.com'. Adding certificate verification is strongly advised. See: https://urllib3.readthedocs.io/en/latest/advanced-usage.html#tls-warnings\n",
            "  warnings.warn(\n",
            "/usr/local/lib/python3.10/dist-packages/urllib3/connectionpool.py:1099: InsecureRequestWarning: Unverified HTTPS request is being made to host 'www.douyin.com'. Adding certificate verification is strongly advised. See: https://urllib3.readthedocs.io/en/latest/advanced-usage.html#tls-warnings\n",
            "  warnings.warn(\n"
          ]
        },
        {
          "name": "stdout",
          "output_type": "stream",
          "text": [
            "Failed to download https://v.douyin.com/iLUWqWML/ 2@7.com :4pm\n"
          ]
        },
        {
          "name": "stderr",
          "output_type": "stream",
          "text": [
            "/usr/local/lib/python3.10/dist-packages/urllib3/connectionpool.py:1099: InsecureRequestWarning: Unverified HTTPS request is being made to host 'v.douyin.com'. Adding certificate verification is strongly advised. See: https://urllib3.readthedocs.io/en/latest/advanced-usage.html#tls-warnings\n",
            "  warnings.warn(\n",
            "/usr/local/lib/python3.10/dist-packages/urllib3/connectionpool.py:1099: InsecureRequestWarning: Unverified HTTPS request is being made to host 'www.iesdouyin.com'. Adding certificate verification is strongly advised. See: https://urllib3.readthedocs.io/en/latest/advanced-usage.html#tls-warnings\n",
            "  warnings.warn(\n"
          ]
        },
        {
          "name": "stdout",
          "output_type": "stream",
          "text": [
            "Downloaded and saved HTML: https://v.douyin.com/iYBuR5YN/\n"
          ]
        },
        {
          "name": "stderr",
          "output_type": "stream",
          "text": [
            "/usr/local/lib/python3.10/dist-packages/urllib3/connectionpool.py:1099: InsecureRequestWarning: Unverified HTTPS request is being made to host 'v.douyin.com'. Adding certificate verification is strongly advised. See: https://urllib3.readthedocs.io/en/latest/advanced-usage.html#tls-warnings\n",
            "  warnings.warn(\n",
            "/usr/local/lib/python3.10/dist-packages/urllib3/connectionpool.py:1099: InsecureRequestWarning: Unverified HTTPS request is being made to host 'www.iesdouyin.com'. Adding certificate verification is strongly advised. See: https://urllib3.readthedocs.io/en/latest/advanced-usage.html#tls-warnings\n",
            "  warnings.warn(\n"
          ]
        },
        {
          "name": "stdout",
          "output_type": "stream",
          "text": [
            "Downloaded and saved HTML: https://v.douyin.com/iYBQAcfF/\n",
            "Downloaded and saved HTML: http://v.taiwan.cn/gtbfbh/\n",
            "Downloaded and saved HTML: http://v.taiwan.cn/gtbfbh/202410/t20241016_12656715.htm\n",
            "Downloaded and saved HTML: http://v.taiwan.cn/gtbfbh/202410/t20241016_12656715.htm\n",
            "Downloaded and saved HTML: http://v.taiwan.cn/gtbfbh/202410/t20241016_12656821.htm\n",
            "Downloaded and saved HTML: http://v.taiwan.cn/gtbfbh/202410/t20241016_12656808.htm\n",
            "Downloaded and saved HTML: http://v.taiwan.cn/gtbfbh/202410/t20241016_12656807.htm\n",
            "Downloaded and saved HTML: http://v.taiwan.cn/gtbfbh/202410/t20241016_12656779.htm\n",
            "Downloaded and saved HTML: http://v.taiwan.cn/gtbfbh/202410/t20241016_12656768.htm\n",
            "Downloaded and saved HTML: http://v.taiwan.cn/lakp/\n",
            "Downloaded and saved HTML: http://v.taiwan.cn/lakp/202410/t20241024_12658521.htm\n",
            "Downloaded and saved HTML: http://v.taiwan.cn/lakp/202410/t20241024_12658521.htm\n",
            "Downloaded and saved HTML: http://v.taiwan.cn/lakp/202410/t20241023_12658228.htm\n",
            "Downloaded and saved HTML: http://v.taiwan.cn/lakp/202410/t20241023_12658228.htm\n",
            "Downloaded and saved HTML: http://v.taiwan.cn/lakp/202410/t20241015_12656552.htm\n",
            "Downloaded and saved HTML: http://v.taiwan.cn/lakp/202410/t20241015_12656552.htm\n",
            "Downloaded and saved HTML: http://v.taiwan.cn/latt/\n",
            "Downloaded and saved HTML: http://v.taiwan.cn/latt/202410/t20241026_12658775.htm\n",
            "Downloaded and saved HTML: http://v.taiwan.cn/latt/202410/t20241026_12658775.htm\n",
            "Downloaded and saved HTML: http://v.taiwan.cn/latt/202410/t20241024_12658529.htm\n",
            "Downloaded and saved HTML: http://v.taiwan.cn/latt/202410/t20241023_12658229.htm\n",
            "Downloaded and saved HTML: http://v.taiwan.cn/latt/202410/t20241022_12658026.htm\n",
            "Downloaded and saved HTML: http://v.taiwan.cn/latt/202410/t20241021_12657814.htm\n",
            "Downloaded and saved HTML: http://v.taiwan.cn/latt/202410/t20241018_12657343.htm\n",
            "Downloaded and saved HTML: http://v.taiwan.cn/laqns/\n",
            "Downloaded and saved HTML: http://v.taiwan.cn/laqns/202410/t20241022_12657932.htm\n",
            "Downloaded and saved HTML: http://v.taiwan.cn/laqns/202410/t20241022_12657932.htm\n",
            "Downloaded and saved HTML: http://v.taiwan.cn/laqns/202410/t20241021_12657813.htm\n",
            "Downloaded and saved HTML: http://v.taiwan.cn/laqns/202410/t20241021_12657813.htm\n",
            "Downloaded and saved HTML: http://v.taiwan.cn/laqns/202410/t20241021_12657801.htm\n",
            "Downloaded and saved HTML: http://v.taiwan.cn/laqns/202410/t20241021_12657801.htm\n",
            "Downloaded and saved HTML: http://www.tailian.org.cn/\n",
            "Downloaded and saved HTML: http://www.acsme.org.cn/\n",
            "Downloaded and saved HTML: http://www.qgtql.com/\n",
            "Downloaded and saved HTML: http://www.zhongguotongcuhui.org.cn/\n",
            "Downloaded and saved HTML: http://www.huangpu.org.cn/\n",
            "Downloaded and saved HTML: http://www.taiwan.cn/hxlt/\n",
            "Downloaded and saved HTML: http://www.twtxh.org.cn/\n",
            "Downloaded and saved HTML: http://fjtl.taiwan.cn/\n"
          ]
        },
        {
          "name": "stderr",
          "output_type": "stream",
          "text": [
            "/usr/local/lib/python3.10/dist-packages/urllib3/connectionpool.py:1099: InsecureRequestWarning: Unverified HTTPS request is being made to host 'www.gov.cn'. Adding certificate verification is strongly advised. See: https://urllib3.readthedocs.io/en/latest/advanced-usage.html#tls-warnings\n",
            "  warnings.warn(\n"
          ]
        },
        {
          "name": "stdout",
          "output_type": "stream",
          "text": [
            "Downloaded and saved HTML: http://www.gov.cn\n",
            "Downloaded and saved HTML: http://www.gwytb.gov.cn\n",
            "Failed to download http://www.cac.gov.cn/\n"
          ]
        },
        {
          "name": "stderr",
          "output_type": "stream",
          "text": [
            "/usr/local/lib/python3.10/dist-packages/urllib3/connectionpool.py:1099: InsecureRequestWarning: Unverified HTTPS request is being made to host 'www.mfa.gov.cn'. Adding certificate verification is strongly advised. See: https://urllib3.readthedocs.io/en/latest/advanced-usage.html#tls-warnings\n",
            "  warnings.warn(\n"
          ]
        },
        {
          "name": "stdout",
          "output_type": "stream",
          "text": [
            "Downloaded and saved HTML: http://www.mfa.gov.cn\n",
            "Failed to download http://www.ccdi.gov.cn/\n",
            "Downloaded and saved HTML: http://www.arats.com.cn/\n",
            "Downloaded and saved HTML: http://www.siec.taiwan.cn/\n",
            "Downloaded and saved HTML: http://www.people.com.cn/\n",
            "Downloaded and saved HTML: http://www.xinhuanet.com/\n",
            "Downloaded and saved HTML: http://www.china.com.cn/\n"
          ]
        },
        {
          "name": "stderr",
          "output_type": "stream",
          "text": [
            "/usr/local/lib/python3.10/dist-packages/urllib3/connectionpool.py:1099: InsecureRequestWarning: Unverified HTTPS request is being made to host 'www.cctv.com'. Adding certificate verification is strongly advised. See: https://urllib3.readthedocs.io/en/latest/advanced-usage.html#tls-warnings\n",
            "  warnings.warn(\n"
          ]
        },
        {
          "name": "stdout",
          "output_type": "stream",
          "text": [
            "Downloaded and saved HTML: https://www.cctv.com/\n",
            "Downloaded and saved HTML: http://www.chinadaily.com.cn/\n"
          ]
        },
        {
          "name": "stderr",
          "output_type": "stream",
          "text": [
            "/usr/local/lib/python3.10/dist-packages/urllib3/connectionpool.py:1099: InsecureRequestWarning: Unverified HTTPS request is being made to host 'www.cri.cn'. Adding certificate verification is strongly advised. See: https://urllib3.readthedocs.io/en/latest/advanced-usage.html#tls-warnings\n",
            "  warnings.warn(\n"
          ]
        },
        {
          "name": "stdout",
          "output_type": "stream",
          "text": [
            "Downloaded and saved HTML: http://gb.cri.cn/\n"
          ]
        },
        {
          "name": "stderr",
          "output_type": "stream",
          "text": [
            "/usr/local/lib/python3.10/dist-packages/urllib3/connectionpool.py:1099: InsecureRequestWarning: Unverified HTTPS request is being made to host 'www.youth.cn'. Adding certificate verification is strongly advised. See: https://urllib3.readthedocs.io/en/latest/advanced-usage.html#tls-warnings\n",
            "  warnings.warn(\n"
          ]
        },
        {
          "name": "stdout",
          "output_type": "stream",
          "text": [
            "Downloaded and saved HTML: http://www.youth.cn/\n",
            "Downloaded and saved HTML: http://www.ce.cn/\n",
            "Downloaded and saved HTML: http://www.tibet.cn/\n",
            "Downloaded and saved HTML: http://www.cnr.cn/\n"
          ]
        },
        {
          "name": "stderr",
          "output_type": "stream",
          "text": [
            "/usr/local/lib/python3.10/dist-packages/urllib3/connectionpool.py:1099: InsecureRequestWarning: Unverified HTTPS request is being made to host 'www.gmw.cn'. Adding certificate verification is strongly advised. See: https://urllib3.readthedocs.io/en/latest/advanced-usage.html#tls-warnings\n",
            "  warnings.warn(\n"
          ]
        },
        {
          "name": "stdout",
          "output_type": "stream",
          "text": [
            "Downloaded and saved HTML: http://www.gmw.cn/\n",
            "Downloaded and saved HTML: http://www.81.cn/\n"
          ]
        },
        {
          "name": "stderr",
          "output_type": "stream",
          "text": [
            "/usr/local/lib/python3.10/dist-packages/urllib3/connectionpool.py:1099: InsecureRequestWarning: Unverified HTTPS request is being made to host 'www.chinanews.com.cn'. Adding certificate verification is strongly advised. See: https://urllib3.readthedocs.io/en/latest/advanced-usage.html#tls-warnings\n",
            "  warnings.warn(\n"
          ]
        },
        {
          "name": "stdout",
          "output_type": "stream",
          "text": [
            "Downloaded and saved HTML: http://www.chinanews.com/\n",
            "Downloaded and saved HTML: http://www.k618.cn/\n",
            "Downloaded and saved HTML: http://www.legaldaily.com.cn/\n",
            "Downloaded and saved HTML: http://www.rmzxb.com.cn/index.shtml\n"
          ]
        },
        {
          "name": "stderr",
          "output_type": "stream",
          "text": [
            "/usr/local/lib/python3.10/dist-packages/urllib3/connectionpool.py:1099: InsecureRequestWarning: Unverified HTTPS request is being made to host 'www.workercn.cn'. Adding certificate verification is strongly advised. See: https://urllib3.readthedocs.io/en/latest/advanced-usage.html#tls-warnings\n",
            "  warnings.warn(\n"
          ]
        },
        {
          "name": "stdout",
          "output_type": "stream",
          "text": [
            "Downloaded and saved HTML: http://www.workercn.cn/\n",
            "Downloaded and saved HTML: http://www.cankaoxiaoxi.com/\n",
            "Downloaded and saved HTML: http://its.taiwan.cssn.cn/\n",
            "Downloaded and saved HTML: http://tyh.taiwan.cn/\n",
            "Downloaded and saved HTML: http://www.qgtql.com/\n",
            "Downloaded and saved HTML: http://www.tailian.org.cn/\n",
            "Downloaded and saved HTML: http://www.eastday.com/\n"
          ]
        },
        {
          "name": "stderr",
          "output_type": "stream",
          "text": [
            "/usr/local/lib/python3.10/dist-packages/urllib3/connectionpool.py:1099: InsecureRequestWarning: Unverified HTTPS request is being made to host 'www.qianlong.com'. Adding certificate verification is strongly advised. See: https://urllib3.readthedocs.io/en/latest/advanced-usage.html#tls-warnings\n",
            "  warnings.warn(\n"
          ]
        },
        {
          "name": "stdout",
          "output_type": "stream",
          "text": [
            "Downloaded and saved HTML: http://www.qianlong.com/\n",
            "Downloaded and saved HTML: http://www.fjsen.com/\n"
          ]
        },
        {
          "name": "stderr",
          "output_type": "stream",
          "text": [
            "/usr/local/lib/python3.10/dist-packages/urllib3/connectionpool.py:1099: InsecureRequestWarning: Unverified HTTPS request is being made to host 'www.itaiwannews.cn'. Adding certificate verification is strongly advised. See: https://urllib3.readthedocs.io/en/latest/advanced-usage.html#tls-warnings\n",
            "  warnings.warn(\n"
          ]
        },
        {
          "name": "stdout",
          "output_type": "stream",
          "text": [
            "Downloaded and saved HTML: http://www.itaiwannews.cn/\n",
            "Skipping non-HTML, non-DOCX, non-PDF content: http://www.taiwan.cn/ZS/202404/P020240423382907137415.jpg\n",
            "Skipping non-HTML, non-DOCX, non-PDF content: http://www.taiwan.cn/ZS/202404/P020240701486714333417.jpg\n"
          ]
        },
        {
          "name": "stderr",
          "output_type": "stream",
          "text": [
            "/usr/local/lib/python3.10/dist-packages/urllib3/connectionpool.py:1099: InsecureRequestWarning: Unverified HTTPS request is being made to host 'beian.miit.gov.cn'. Adding certificate verification is strongly advised. See: https://urllib3.readthedocs.io/en/latest/advanced-usage.html#tls-warnings\n",
            "  warnings.warn(\n"
          ]
        },
        {
          "name": "stdout",
          "output_type": "stream",
          "text": [
            "Failed to download https://beian.miit.gov.cn/\n",
            "Skipping non-HTML, non-DOCX, non-PDF content: http://www.taiwan.cn/ZS/202404/P020240423384439008729.jpg\n",
            "Skipping non-HTML, non-DOCX, non-PDF content: http://www.taiwan.cn/ZS/202404/P020240423383990831616.jpg\n",
            "Downloaded and saved HTML: http://www.taiwan.cn/gywm/200905/t20090505_886770.htm\n",
            "Downloaded and saved HTML: http://www.taiwan.cn/zzsq/200708/t20070803_438962.htm\n",
            "Downloaded and saved HTML: http://www.taiwan.cn/2021/sywhq_62090/2021gonggao/\n",
            "Downloaded and saved HTML: http://www.taiwan.cn/lx/200709/t20070905_449642.htm\n",
            "Downloaded and saved HTML: http://www.taiwan.cn/zzsq/201811/t20181121_12114577.htm\n",
            "Downloaded and saved HTML: http://www.taiwan.cn/lx/201801/t20180119_11909120.htm\n"
          ]
        },
        {
          "name": "stderr",
          "output_type": "stream",
          "text": [
            "/usr/local/lib/python3.10/dist-packages/urllib3/connectionpool.py:1099: InsecureRequestWarning: Unverified HTTPS request is being made to host 'www.piyao.org.cn'. Adding certificate verification is strongly advised. See: https://urllib3.readthedocs.io/en/latest/advanced-usage.html#tls-warnings\n",
            "  warnings.warn(\n"
          ]
        },
        {
          "name": "stdout",
          "output_type": "stream",
          "text": [
            "Downloaded and saved HTML: https://www.piyao.org.cn/\n",
            "Failed to download http://www.12377.cn/\n",
            "All HTML, DOCX, and PDF files combined into combined_pages_www.taiwan.cn.html\n",
            "Proximity analysis complete. Results saved in keyword_proximity_results_www.taiwan.cn.csv\n"
          ]
        }
      ],
      "source": [
        "import requests\n",
        "from bs4 import BeautifulSoup\n",
        "import os\n",
        "import re\n",
        "import csv\n",
        "from docx import Document\n",
        "from PyPDF2 import PdfReader\n",
        "from urllib.parse import urljoin, urlparse\n",
        "from requests.adapters import HTTPAdapter\n",
        "from requests.packages.urllib3.util.retry import Retry\n",
        "import ssl\n",
        "from urllib3.poolmanager import PoolManager\n",
        "\n",
        "# Initial setup for the main website URL\n",
        "url = 'http://www.taiwan.cn/'\n",
        "\n",
        "# Step 1: Fetch the main webpage content with proper encoding handling\n",
        "response = requests.get(url)\n",
        "\n",
        "if response.status_code == 200:\n",
        "    # Set encoding based on the response's apparent encoding\n",
        "    response.encoding = response.apparent_encoding\n",
        "    print(\"Successfully fetched the main page!\")\n",
        "    page_content = response.text  # Use .text to handle decoded content\n",
        "else:\n",
        "    print(f\"Failed to retrieve the main page. Status code: {response.status_code}\")\n",
        "\n",
        "# Step 2: Parse the main page to find all subpage links\n",
        "soup = BeautifulSoup(page_content, \"html.parser\")\n",
        "links = soup.find_all('a', href=True)\n",
        "\n",
        "# Step 3: Store subpage URLs in a list\n",
        "subpage_urls = []\n",
        "for link in links:\n",
        "    href = link['href']\n",
        "    full_url = urljoin(url, href)\n",
        "    parsed_url = urlparse(full_url)\n",
        "\n",
        "    # Only add URLs with HTTP or HTTPS schemes\n",
        "    if parsed_url.scheme in ['http', 'https']:\n",
        "        subpage_urls.append(full_url)\n",
        "\n",
        "# Step 4: Configure session with retries and SSL/TLS context handling\n",
        "retries = Retry(total=5, backoff_factor=0.3, status_forcelist=[500, 502, 503, 504])\n",
        "\n",
        "class TLSAdapter(HTTPAdapter):\n",
        "    def init_poolmanager(self, *args, **kwargs):\n",
        "        context = ssl.create_default_context(ssl.Purpose.CLIENT_AUTH)\n",
        "        context.options |= ssl.OP_NO_TLSv1 | ssl.OP_NO_TLSv1_1  # Force TLSv1.2 or higher\n",
        "        kwargs['ssl_context'] = context\n",
        "        return super(TLSAdapter, self).init_poolmanager(*args, **kwargs)\n",
        "\n",
        "# Set up session\n",
        "session = requests.Session()\n",
        "session.mount('https://', TLSAdapter())\n",
        "session.mount('https://', HTTPAdapter(max_retries=retries))\n",
        "\n",
        "# Step 5: Download and handle each subpage content\n",
        "downloaded_html_files = []\n",
        "docx_texts = []\n",
        "pdf_texts = []\n",
        "\n",
        "for subpage_url in subpage_urls:\n",
        "    try:\n",
        "        subpage_response = session.get(subpage_url, verify=False)\n",
        "\n",
        "        if subpage_response.status_code == 200:\n",
        "            # Handle encoding for each subpage\n",
        "            subpage_response.encoding = subpage_response.apparent_encoding\n",
        "            content_type = subpage_response.headers['Content-Type']\n",
        "\n",
        "            if 'text/html' in content_type:\n",
        "                subpage_name = subpage_url.split(\"/\")[-1] or 'index'\n",
        "                if not subpage_name.endswith('.html'):\n",
        "                    file_name = f\"{subpage_name}.html\"\n",
        "                else:\n",
        "                    file_name = subpage_name\n",
        "\n",
        "                with open(file_name, \"w\", encoding=\"utf-8\") as f:\n",
        "                    f.write(subpage_response.text)\n",
        "                downloaded_html_files.append(file_name)\n",
        "                print(f\"Downloaded and saved HTML: {subpage_url}\")\n",
        "            elif 'application/vnd.openxmlformats-officedocument.wordprocessingml.document' in content_type:\n",
        "                docx_file_name = subpage_url.split(\"/\")[-1]\n",
        "                with open(docx_file_name, \"wb\") as f:\n",
        "                    f.write(subpage_response.content)\n",
        "                doc = Document(docx_file_name)\n",
        "                docx_text = \"\\n\".join([para.text for para in doc.paragraphs])\n",
        "                docx_texts.append(docx_text)\n",
        "                print(f\"Downloaded and extracted DOCX: {subpage_url}\")\n",
        "            elif 'application/pdf' in content_type:\n",
        "                pdf_file_name = subpage_url.split(\"/\")[-1]\n",
        "                with open(pdf_file_name, \"wb\") as f:\n",
        "                    f.write(subpage_response.content)\n",
        "                pdf_reader = PdfReader(pdf_file_name)\n",
        "                pdf_text = \"\"\n",
        "                for page in pdf_reader.pages:\n",
        "                    pdf_text += page.extract_text()\n",
        "                pdf_texts.append(pdf_text)\n",
        "                print(f\"Downloaded and extracted PDF: {subpage_url}\")\n",
        "            else:\n",
        "                print(f\"Skipping non-HTML, non-DOCX, non-PDF content: {subpage_url}\")\n",
        "        else:\n",
        "            print(f\"Failed to download {subpage_url}\")\n",
        "    except requests.exceptions.SSLError as e:\n",
        "        print(f\"SSL error occurred while downloading {subpage_url}: {e}\")\n",
        "    except Exception as e:\n",
        "        print(f\"An error occurred while downloading {subpage_url}: {e}\")\n",
        "\n",
        "# Step 6: Combine all HTML, DOCX, and PDF files into a single file\n",
        "combined_file = \"combined_pages_www.taiwan.cn.html\"\n",
        "with open(combined_file, \"w\", encoding=\"utf-8\") as outfile:\n",
        "    # Combine HTML files\n",
        "    for file_name in downloaded_html_files:\n",
        "        if os.path.exists(file_name):\n",
        "            with open(file_name, \"r\", encoding=\"utf-8\") as infile:\n",
        "                outfile.write(infile.read())\n",
        "                outfile.write(\"\\n\\n\")\n",
        "    # Combine DOCX text\n",
        "    for docx_text in docx_texts:\n",
        "        outfile.write(docx_text)\n",
        "        outfile.write(\"\\n\\n\")\n",
        "    # Combine PDF text\n",
        "    for pdf_text in pdf_texts:\n",
        "        outfile.write(pdf_text)\n",
        "        outfile.write(\"\\n\\n\")\n",
        "\n",
        "print(f\"All HTML, DOCX, and PDF files combined into {combined_file}\")\n",
        "\n",
        "# Step 7: Extract text and search for specific Chinese strings\n",
        "chinese_strings = [ \"休斯顿和统会\", \"佛罗里达和统会\", \"侨联之友\", \"俄勒冈统促会\", \"全球华人反邪教联盟\",\n",
        "    \"全美中国和平统一促进联合会\", \"全美反独促统联盟\", \"关岛和统会\", \"凤凰城和统会\", \"加州中谷和统会\",\n",
        "    \"加州首府和统会\", \"北京同乡会\", \"北加州和统会\", \"北美统促联合总会\", \"华夏政略研究会\",\n",
        "    \"华盛顿中国和平统一促进会\", \"华盛顿华人社区联盟\", \"华盛顿州中国统一促进会\", \"南加台山联谊会\",\n",
        "    \"南加州中国和平统一促进会联盟\", \"南加州促统论坛\", \"南加华人华侨联合总会\", \"圣地亚戈统促会\",\n",
        "    \"大华府象屿联谊会\", \"大波士顿和统会\", \"大洛杉矶中国统一促进会\", \"大纽约学生学者联谊会\",\n",
        "    \"大纽约统促会\", \"大芝加哥中国和平统一促进会\", \"大费城亚裔狮子会\", \"大费城侨学界华人社团联席会议\",\n",
        "    \"大费城华侨公会\", \"大费城统促会\", \"大费城长乐公会\", \"宾州和统会\", \"宾州福建同乡会\",\n",
        "    \"德州和统会\", \"德拉瓦和统会\", \"拉斯维加斯和统会\", \"新泽西和统会\", \"旧金山湾区统促会\",\n",
        "    \"波士顿和统会\", \"波特兰统促会\", \"洛杉矶华埠大联盟\", \"溫州同乡会\", \"纽约至孝督亲公所\",\n",
        "    \"纽约华人社团联席会\", \"纽约和统会\", \"罗省中华会馆\", \"美东华人社团联合总会\",\n",
        "    \"美东南福建同乡会\", \"美中友好促进会\", \"美中友好協会\", \"美中和平友好促进会\",\n",
        "    \"美中经济文化发展促进会\", \"美京统促会\", \"美华友好促统会\", \"美华总商会\", \"美国香港总商会\",\n",
        "    \"美国中华妇女联合会\", \"美国中国总商会\", \"美国亚洲人商会\", \"美国亚裔社团联合总会\",\n",
        "    \"美国侨学界社团联席会\", \"美国华人华侨联合总会\", \"美华侨\", \"美国华人华侨联谊会\",\n",
        "    \"美国华人社团联会总会\", \"美国华人联盟\", \"美国华州中国统一促进会\", \"美国宾州中国和平统一促进会\",\n",
        "    \"美国广西侨胞联合会\", \"美国福州十邑同乡会\", \"美国福建会馆\", \"美国福建侨联总会\",\n",
        "    \"美国福建同乡会\", \"美國福建同鄉會\", \"美国福建妇女友好联盟总会\", \"美国福建猴屿联谊会\",\n",
        "    \"美国连江同乡会\", \"美国长乐社团联盟总会\", \"美国闽台总商会\", \"美國大唐會館\", \"美国大唐会馆\",\n",
        "    \"美國福建會館\", \"美國廣州同學聯合總會\", \"美国广州同学联合总会\", \"美國美中文化交流促進會\",\n",
        "    \"美国美中文化交流促进会\", \"美洲中国统一促进会联合总会\", \"美洲青年和统会\", \"美西和统会\",\n",
        "    \"芝加哥一中会\", \"芝加哥统促会\", \"西雅图统促会\", \"费城东安公所\", \"费城崇正会\",\n",
        "    \"费城福建同乡会\", \"费城福建同乡联合会\", \"费城鹤山公所\", \"达拉斯和统会\", \"习近平指出\",\n",
        "    \"中国和平统一促进会\", \"中国和平统一促进联合会\", \"中国统一促进会\", \"中国统一促进会联合总会\",\n",
        "    \"会馆\", \"促统会\", \"促统联盟\", \"促统论坛\", \"华人社团联席会议\", \"友好促统会\",\n",
        "    \"同乡会\", \"和统会\", \"大聯盟\", \"总商会\", \"统促会\", \"统促进会联合会\",\n",
        "    \"联总会\", \"联谊会\", \"联合总会\", \"华人华侨联合总会\", \"华人华侨联会\",\n",
        "    \"休斯顿中国和平统一促进会\", \"全美统促进会联合会\", \"华盛顿和统会\", \"华盛顿统促会\",\n",
        "    \"南加统促联盟\", \"南加促统论坛\", \"纽约中国和平统一促进会\", \"芝加哥和统会\",\n",
        "    \"中国和平统一促进会\", \"促统会\", \"促統會\",\n",
        "    \"中华全国归国华侨联合会\", \"侨联\", \"僑聯\",\n",
        "    \"驻芝加哥总领事馆\", \"驻芝加哥总领馆\",\n",
        "    \"驻纽约总领事馆\", \"驻纽约总领馆\",\n",
        "    \"驻洛杉矶总领事馆\", \"驻洛杉矶总领馆\",\n",
        "    \"中国驻美国大使馆\",\n",
        "    \"中国共产党中央委员会统一战线工作部\", \"中央统战部\", \"统一战线工作部\", \"统战部\", \"统战\",\n",
        "    \"中共中央台湾工作办公室\", \"台湾工作办公室\", \"国务院台湾事务办公室\", \"国台办\", \"台湾事务办公室\",\n",
        "    \"国务院侨务办公室\", \"国侨办\", \"国务院侨办\",\n",
        "    \"福建省侨联\",\n",
        "    \"中国共产党中央委员会对外联络部\", \"中央对外联络部\",\n",
        "    \"国家互联网信息办公室\", \"中央网络安全和信息化委员会办公室\", \"中央网信办\",\n",
        "    \"人民政協\", \"中国人民政治协商会议\", \"政协\",\n",
        "    \"全国人民代表大会\", \"全国人大\",\n",
        "    \"全国人大华侨委员会\",\n",
        "    \"中华人民共和国外交部\", \"中国外交部\", \"外交部\",\n",
        "    \"国务院\",\n",
        "    \"国务院新闻办公室\",\n",
        "    \"工业和信息化部\", \"工信部\",\n",
        "    \"台灣自主同盟\", \"台湾自主同盟\",\n",
        "    \"中国国际贸易促进委员会\", \"贸促会\",\n",
        "    \"致公党\",\n",
        "    \"中国侨商联合会\"]  # Include the full list of strings as before\n",
        "\n",
        "def extract_text_from_html(html_content):\n",
        "    soup = BeautifulSoup(html_content, \"html.parser\")\n",
        "    for script_or_style in soup(['script', 'style']):\n",
        "        script_or_style.decompose()\n",
        "    text = soup.get_text(separator=' ', strip=True)\n",
        "    return re.sub(r'\\s+', ' ', text)\n",
        "\n",
        "with open(combined_file, \"r\", encoding=\"utf-8\") as combined:\n",
        "    content = combined.read()\n",
        "\n",
        "readable_text = extract_text_from_html(content)\n",
        "\n",
        "# Step 8: Keyword search and proximity analysis\n",
        "keyword_positions = {}\n",
        "for keyword in chinese_strings:\n",
        "    matches = [m.start() for m in re.finditer(re.escape(keyword), readable_text)]\n",
        "    if matches:\n",
        "        keyword_positions[keyword] = matches\n",
        "\n",
        "def calculate_word_distance(pos1, pos2, text):\n",
        "    between_text = text[min(pos1, pos2):max(pos1, pos2)]\n",
        "    words_between = between_text.split()\n",
        "    return len(words_between)\n",
        "\n",
        "# Count occurrences of each keyword pair\n",
        "proximity_data = []\n",
        "keyword_pair_count = {}\n",
        "\n",
        "for i, keyword1 in enumerate(chinese_strings):\n",
        "    for j, keyword2 in enumerate(chinese_strings):\n",
        "        if i < j and keyword1 in keyword_positions and keyword2 in keyword_positions:\n",
        "            for pos1 in keyword_positions[keyword1]:\n",
        "                for pos2 in keyword_positions[keyword2]:\n",
        "                    distance = calculate_word_distance(pos1, pos2, readable_text)\n",
        "                    if distance <= 1000:\n",
        "                        proximity_data.append([keyword1, keyword2, distance])\n",
        "                        pair_key = (keyword1, keyword2)\n",
        "                        if pair_key in keyword_pair_count:\n",
        "                            keyword_pair_count[pair_key] += 1\n",
        "                        else:\n",
        "                            keyword_pair_count[pair_key] = 1\n",
        "\n",
        "# Save results to CSV\n",
        "csv_file_path = 'keyword_proximity_results_www.taiwan.cn.csv'\n",
        "with open(csv_file_path, mode='w', newline='', encoding='utf-8') as file:\n",
        "    writer = csv.writer(file)\n",
        "    writer.writerow([\"Keyword 1\", \"Keyword 2\", \"Word Distance\", \"Occurrences\"])\n",
        "    for row in proximity_data:\n",
        "        keyword1, keyword2, distance = row\n",
        "        occurrences = keyword_pair_count.get((keyword1, keyword2), 0)\n",
        "        writer.writerow([keyword1, keyword2, distance, occurrences])\n",
        "\n",
        "print(f\"Proximity analysis complete. Results saved in {csv_file_path}\")"
      ]
    },
    {
      "cell_type": "code",
      "execution_count": null,
      "metadata": {
        "id": "vMKEfEDa6z0y"
      },
      "outputs": [],
      "source": [
        "import pandas as pd\n",
        "df = pd.read_csv(\"keyword_proximity_results_www.taiwan.cn.csv\")\n",
        "mdf = df.groupby([\"Keyword 1\", \"Keyword 2\"]).mean()\n",
        "mdf.sort_values(by=\"Word Distance\", ascending=True).tail(100)\n",
        "mdf.sort_values(by=\"Word Distance\", ascending=True).to_csv(\"www.taiwan.cn.csv\")"
      ]
    },
    {
      "cell_type": "markdown",
      "metadata": {
        "id": "yr9M4j5n7b9l"
      },
      "source": [
        "**https://vos.com.cn/**"
      ]
    },
    {
      "cell_type": "code",
      "execution_count": null,
      "metadata": {
        "colab": {
          "base_uri": "https://localhost:8080/"
        },
        "id": "h6pTJuLj7ZJE",
        "outputId": "fe91caac-cc8c-4a88-ee5b-cf34c9ecc4b6"
      },
      "outputs": [
        {
          "name": "stdout",
          "output_type": "stream",
          "text": [
            "Successfully fetched the main page!\n"
          ]
        },
        {
          "name": "stderr",
          "output_type": "stream",
          "text": [
            "<ipython-input-31-8a107f8968dd>:49: DeprecationWarning: ssl.OP_NO_SSL*/ssl.OP_NO_TLS* options are deprecated\n",
            "  context.options |= ssl.OP_NO_TLSv1 | ssl.OP_NO_TLSv1_1  # Force TLSv1.2 or higher\n",
            "/usr/local/lib/python3.10/dist-packages/urllib3/connectionpool.py:1099: InsecureRequestWarning: Unverified HTTPS request is being made to host 'vos.com.cn'. Adding certificate verification is strongly advised. See: https://urllib3.readthedocs.io/en/latest/advanced-usage.html#tls-warnings\n",
            "  warnings.warn(\n"
          ]
        },
        {
          "name": "stdout",
          "output_type": "stream",
          "text": [
            "Downloaded and saved HTML: https://vos.com.cn/haixiagaikuang.shtml\n"
          ]
        },
        {
          "name": "stderr",
          "output_type": "stream",
          "text": [
            "/usr/local/lib/python3.10/dist-packages/urllib3/connectionpool.py:1099: InsecureRequestWarning: Unverified HTTPS request is being made to host 'vos.com.cn'. Adding certificate verification is strongly advised. See: https://urllib3.readthedocs.io/en/latest/advanced-usage.html#tls-warnings\n",
            "  warnings.warn(\n"
          ]
        },
        {
          "name": "stdout",
          "output_type": "stream",
          "text": [
            "Downloaded and saved HTML: https://vos.com.cn/haixiagaikuang.shtml?num=1\n"
          ]
        },
        {
          "name": "stderr",
          "output_type": "stream",
          "text": [
            "/usr/local/lib/python3.10/dist-packages/urllib3/connectionpool.py:1099: InsecureRequestWarning: Unverified HTTPS request is being made to host 'vos.com.cn'. Adding certificate verification is strongly advised. See: https://urllib3.readthedocs.io/en/latest/advanced-usage.html#tls-warnings\n",
            "  warnings.warn(\n"
          ]
        },
        {
          "name": "stdout",
          "output_type": "stream",
          "text": [
            "Downloaded and saved HTML: https://vos.com.cn/haixiagaikuang.shtml?num=2\n"
          ]
        },
        {
          "name": "stderr",
          "output_type": "stream",
          "text": [
            "/usr/local/lib/python3.10/dist-packages/urllib3/connectionpool.py:1099: InsecureRequestWarning: Unverified HTTPS request is being made to host 'vos.com.cn'. Adding certificate verification is strongly advised. See: https://urllib3.readthedocs.io/en/latest/advanced-usage.html#tls-warnings\n",
            "  warnings.warn(\n"
          ]
        },
        {
          "name": "stdout",
          "output_type": "stream",
          "text": [
            "Downloaded and saved HTML: https://vos.com.cn/\n"
          ]
        },
        {
          "name": "stderr",
          "output_type": "stream",
          "text": [
            "/usr/local/lib/python3.10/dist-packages/urllib3/connectionpool.py:1099: InsecureRequestWarning: Unverified HTTPS request is being made to host 'vos.com.cn'. Adding certificate verification is strongly advised. See: https://urllib3.readthedocs.io/en/latest/advanced-usage.html#tls-warnings\n",
            "  warnings.warn(\n"
          ]
        },
        {
          "name": "stdout",
          "output_type": "stream",
          "text": [
            "Downloaded and saved HTML: https://vos.com.cn/\n"
          ]
        },
        {
          "name": "stderr",
          "output_type": "stream",
          "text": [
            "/usr/local/lib/python3.10/dist-packages/urllib3/connectionpool.py:1099: InsecureRequestWarning: Unverified HTTPS request is being made to host 'vos.com.cn'. Adding certificate verification is strongly advised. See: https://urllib3.readthedocs.io/en/latest/advanced-usage.html#tls-warnings\n",
            "  warnings.warn(\n"
          ]
        },
        {
          "name": "stdout",
          "output_type": "stream",
          "text": [
            "Downloaded and saved HTML: https://vos.com.cn/\n"
          ]
        },
        {
          "name": "stderr",
          "output_type": "stream",
          "text": [
            "/usr/local/lib/python3.10/dist-packages/urllib3/connectionpool.py:1099: InsecureRequestWarning: Unverified HTTPS request is being made to host 'vos.com.cn'. Adding certificate verification is strongly advised. See: https://urllib3.readthedocs.io/en/latest/advanced-usage.html#tls-warnings\n",
            "  warnings.warn(\n"
          ]
        },
        {
          "name": "stdout",
          "output_type": "stream",
          "text": [
            "Downloaded and saved HTML: https://vos.com.cn/\n"
          ]
        },
        {
          "name": "stderr",
          "output_type": "stream",
          "text": [
            "/usr/local/lib/python3.10/dist-packages/urllib3/connectionpool.py:1099: InsecureRequestWarning: Unverified HTTPS request is being made to host 'vos.com.cn'. Adding certificate verification is strongly advised. See: https://urllib3.readthedocs.io/en/latest/advanced-usage.html#tls-warnings\n",
            "  warnings.warn(\n"
          ]
        },
        {
          "name": "stdout",
          "output_type": "stream",
          "text": [
            "Downloaded and saved HTML: https://vos.com.cn/\n"
          ]
        },
        {
          "name": "stderr",
          "output_type": "stream",
          "text": [
            "/usr/local/lib/python3.10/dist-packages/urllib3/connectionpool.py:1099: InsecureRequestWarning: Unverified HTTPS request is being made to host 'vos.com.cn'. Adding certificate verification is strongly advised. See: https://urllib3.readthedocs.io/en/latest/advanced-usage.html#tls-warnings\n",
            "  warnings.warn(\n"
          ]
        },
        {
          "name": "stdout",
          "output_type": "stream",
          "text": [
            "Downloaded and saved HTML: https://vos.com.cn/\n"
          ]
        },
        {
          "name": "stderr",
          "output_type": "stream",
          "text": [
            "/usr/local/lib/python3.10/dist-packages/urllib3/connectionpool.py:1099: InsecureRequestWarning: Unverified HTTPS request is being made to host 'www.vos.com.cn'. Adding certificate verification is strongly advised. See: https://urllib3.readthedocs.io/en/latest/advanced-usage.html#tls-warnings\n",
            "  warnings.warn(\n"
          ]
        },
        {
          "name": "stdout",
          "output_type": "stream",
          "text": [
            "Downloaded and saved HTML: http://www.vos.com.cn/gerenzhongxin.shtml\n"
          ]
        },
        {
          "name": "stderr",
          "output_type": "stream",
          "text": [
            "/usr/local/lib/python3.10/dist-packages/urllib3/connectionpool.py:1099: InsecureRequestWarning: Unverified HTTPS request is being made to host 'vos.com.cn'. Adding certificate verification is strongly advised. See: https://urllib3.readthedocs.io/en/latest/advanced-usage.html#tls-warnings\n",
            "  warnings.warn(\n"
          ]
        },
        {
          "name": "stdout",
          "output_type": "stream",
          "text": [
            "Downloaded and saved HTML: https://vos.com.cn/\n"
          ]
        },
        {
          "name": "stderr",
          "output_type": "stream",
          "text": [
            "/usr/local/lib/python3.10/dist-packages/urllib3/connectionpool.py:1099: InsecureRequestWarning: Unverified HTTPS request is being made to host 'vos.com.cn'. Adding certificate verification is strongly advised. See: https://urllib3.readthedocs.io/en/latest/advanced-usage.html#tls-warnings\n",
            "  warnings.warn(\n"
          ]
        },
        {
          "name": "stdout",
          "output_type": "stream",
          "text": [
            "Downloaded and saved HTML: https://vos.com.cn/index.shtml\n"
          ]
        },
        {
          "name": "stderr",
          "output_type": "stream",
          "text": [
            "/usr/local/lib/python3.10/dist-packages/urllib3/connectionpool.py:1099: InsecureRequestWarning: Unverified HTTPS request is being made to host 'vos.com.cn'. Adding certificate verification is strongly advised. See: https://urllib3.readthedocs.io/en/latest/advanced-usage.html#tls-warnings\n",
            "  warnings.warn(\n"
          ]
        },
        {
          "name": "stdout",
          "output_type": "stream",
          "text": [
            "Downloaded and saved HTML: https://vos.com.cn/zixun.shtml\n"
          ]
        },
        {
          "name": "stderr",
          "output_type": "stream",
          "text": [
            "/usr/local/lib/python3.10/dist-packages/urllib3/connectionpool.py:1099: InsecureRequestWarning: Unverified HTTPS request is being made to host 'vos.com.cn'. Adding certificate verification is strongly advised. See: https://urllib3.readthedocs.io/en/latest/advanced-usage.html#tls-warnings\n",
            "  warnings.warn(\n"
          ]
        },
        {
          "name": "stdout",
          "output_type": "stream",
          "text": [
            "Downloaded and saved HTML: https://vos.com.cn/taihai.shtml\n"
          ]
        },
        {
          "name": "stderr",
          "output_type": "stream",
          "text": [
            "/usr/local/lib/python3.10/dist-packages/urllib3/connectionpool.py:1099: InsecureRequestWarning: Unverified HTTPS request is being made to host 'vos.com.cn'. Adding certificate verification is strongly advised. See: https://urllib3.readthedocs.io/en/latest/advanced-usage.html#tls-warnings\n",
            "  warnings.warn(\n"
          ]
        },
        {
          "name": "stdout",
          "output_type": "stream",
          "text": [
            "Downloaded and saved HTML: https://vos.com.cn/kuaiping.shtml\n"
          ]
        },
        {
          "name": "stderr",
          "output_type": "stream",
          "text": [
            "/usr/local/lib/python3.10/dist-packages/urllib3/connectionpool.py:1099: InsecureRequestWarning: Unverified HTTPS request is being made to host 'vos.com.cn'. Adding certificate verification is strongly advised. See: https://urllib3.readthedocs.io/en/latest/advanced-usage.html#tls-warnings\n",
            "  warnings.warn(\n"
          ]
        },
        {
          "name": "stdout",
          "output_type": "stream",
          "text": [
            "Downloaded and saved HTML: https://vos.com.cn/junqing.shtml\n"
          ]
        },
        {
          "name": "stderr",
          "output_type": "stream",
          "text": [
            "/usr/local/lib/python3.10/dist-packages/urllib3/connectionpool.py:1099: InsecureRequestWarning: Unverified HTTPS request is being made to host 'vos.com.cn'. Adding certificate verification is strongly advised. See: https://urllib3.readthedocs.io/en/latest/advanced-usage.html#tls-warnings\n",
            "  warnings.warn(\n"
          ]
        },
        {
          "name": "stdout",
          "output_type": "stream",
          "text": [
            "Downloaded and saved HTML: https://vos.com.cn/shiting.shtml\n"
          ]
        },
        {
          "name": "stderr",
          "output_type": "stream",
          "text": [
            "/usr/local/lib/python3.10/dist-packages/urllib3/connectionpool.py:1099: InsecureRequestWarning: Unverified HTTPS request is being made to host 'vos.com.cn'. Adding certificate verification is strongly advised. See: https://urllib3.readthedocs.io/en/latest/advanced-usage.html#tls-warnings\n",
            "  warnings.warn(\n"
          ]
        },
        {
          "name": "stdout",
          "output_type": "stream",
          "text": [
            "Downloaded and saved HTML: https://vos.com.cn/shipin.shtml\n"
          ]
        },
        {
          "name": "stderr",
          "output_type": "stream",
          "text": [
            "/usr/local/lib/python3.10/dist-packages/urllib3/connectionpool.py:1099: InsecureRequestWarning: Unverified HTTPS request is being made to host 'vos.com.cn'. Adding certificate verification is strongly advised. See: https://urllib3.readthedocs.io/en/latest/advanced-usage.html#tls-warnings\n",
            "  warnings.warn(\n"
          ]
        },
        {
          "name": "stdout",
          "output_type": "stream",
          "text": [
            "Downloaded and saved HTML: https://vos.com.cn/zhuantibaodao.shtml\n"
          ]
        },
        {
          "name": "stderr",
          "output_type": "stream",
          "text": [
            "/usr/local/lib/python3.10/dist-packages/urllib3/connectionpool.py:1099: InsecureRequestWarning: Unverified HTTPS request is being made to host 'vos.com.cn'. Adding certificate verification is strongly advised. See: https://urllib3.readthedocs.io/en/latest/advanced-usage.html#tls-warnings\n",
            "  warnings.warn(\n"
          ]
        },
        {
          "name": "stdout",
          "output_type": "stream",
          "text": [
            "Downloaded and saved HTML: https://vos.com.cn/seach.shtml\n"
          ]
        },
        {
          "name": "stderr",
          "output_type": "stream",
          "text": [
            "/usr/local/lib/python3.10/dist-packages/urllib3/connectionpool.py:1099: InsecureRequestWarning: Unverified HTTPS request is being made to host 'vos.com.cn'. Adding certificate verification is strongly advised. See: https://urllib3.readthedocs.io/en/latest/advanced-usage.html#tls-warnings\n",
            "  warnings.warn(\n"
          ]
        },
        {
          "name": "stdout",
          "output_type": "stream",
          "text": [
            "Downloaded and saved HTML: https://vos.com.cn/bentai/2024-10/25/cms217570article.shtml\n"
          ]
        },
        {
          "name": "stderr",
          "output_type": "stream",
          "text": [
            "/usr/local/lib/python3.10/dist-packages/urllib3/connectionpool.py:1099: InsecureRequestWarning: Unverified HTTPS request is being made to host 'vos.com.cn'. Adding certificate verification is strongly advised. See: https://urllib3.readthedocs.io/en/latest/advanced-usage.html#tls-warnings\n",
            "  warnings.warn(\n"
          ]
        },
        {
          "name": "stdout",
          "output_type": "stream",
          "text": [
            "Downloaded and saved HTML: https://vos.com.cn/taihai/2024-10/18/cms217561article.shtml\n"
          ]
        },
        {
          "name": "stderr",
          "output_type": "stream",
          "text": [
            "/usr/local/lib/python3.10/dist-packages/urllib3/connectionpool.py:1099: InsecureRequestWarning: Unverified HTTPS request is being made to host 'vos.com.cn'. Adding certificate verification is strongly advised. See: https://urllib3.readthedocs.io/en/latest/advanced-usage.html#tls-warnings\n",
            "  warnings.warn(\n"
          ]
        },
        {
          "name": "stdout",
          "output_type": "stream",
          "text": [
            "Downloaded and saved HTML: https://vos.com.cn/shipin/2024-10/15/cms217512article.shtml\n"
          ]
        },
        {
          "name": "stderr",
          "output_type": "stream",
          "text": [
            "/usr/local/lib/python3.10/dist-packages/urllib3/connectionpool.py:1099: InsecureRequestWarning: Unverified HTTPS request is being made to host 'vos.com.cn'. Adding certificate verification is strongly advised. See: https://urllib3.readthedocs.io/en/latest/advanced-usage.html#tls-warnings\n",
            "  warnings.warn(\n"
          ]
        },
        {
          "name": "stdout",
          "output_type": "stream",
          "text": [
            "Downloaded and saved HTML: https://vos.com.cn/2024-10/14/cms217492article.shtml\n"
          ]
        },
        {
          "name": "stderr",
          "output_type": "stream",
          "text": [
            "/usr/local/lib/python3.10/dist-packages/urllib3/connectionpool.py:1099: InsecureRequestWarning: Unverified HTTPS request is being made to host 'vos.com.cn'. Adding certificate verification is strongly advised. See: https://urllib3.readthedocs.io/en/latest/advanced-usage.html#tls-warnings\n",
            "  warnings.warn(\n"
          ]
        },
        {
          "name": "stdout",
          "output_type": "stream",
          "text": [
            "Downloaded and saved HTML: https://vos.com.cn/2024-10/14/cms217466article.shtml\n"
          ]
        },
        {
          "name": "stderr",
          "output_type": "stream",
          "text": [
            "/usr/local/lib/python3.10/dist-packages/urllib3/connectionpool.py:1099: InsecureRequestWarning: Unverified HTTPS request is being made to host 'vos.com.cn'. Adding certificate verification is strongly advised. See: https://urllib3.readthedocs.io/en/latest/advanced-usage.html#tls-warnings\n",
            "  warnings.warn(\n"
          ]
        },
        {
          "name": "stdout",
          "output_type": "stream",
          "text": [
            "Downloaded and saved HTML: https://vos.com.cn/2024-10/14/cms217463article.shtml\n"
          ]
        },
        {
          "name": "stderr",
          "output_type": "stream",
          "text": [
            "/usr/local/lib/python3.10/dist-packages/urllib3/connectionpool.py:1099: InsecureRequestWarning: Unverified HTTPS request is being made to host 'vos.com.cn'. Adding certificate verification is strongly advised. See: https://urllib3.readthedocs.io/en/latest/advanced-usage.html#tls-warnings\n",
            "  warnings.warn(\n"
          ]
        },
        {
          "name": "stdout",
          "output_type": "stream",
          "text": [
            "Downloaded and saved HTML: https://vos.com.cn/bentai/2024-10/25/cms217570article.shtml\n"
          ]
        },
        {
          "name": "stderr",
          "output_type": "stream",
          "text": [
            "/usr/local/lib/python3.10/dist-packages/urllib3/connectionpool.py:1099: InsecureRequestWarning: Unverified HTTPS request is being made to host 'vos.com.cn'. Adding certificate verification is strongly advised. See: https://urllib3.readthedocs.io/en/latest/advanced-usage.html#tls-warnings\n",
            "  warnings.warn(\n"
          ]
        },
        {
          "name": "stdout",
          "output_type": "stream",
          "text": [
            "Downloaded and saved HTML: https://vos.com.cn/taihai/2024-10/18/cms217561article.shtml\n"
          ]
        },
        {
          "name": "stderr",
          "output_type": "stream",
          "text": [
            "/usr/local/lib/python3.10/dist-packages/urllib3/connectionpool.py:1099: InsecureRequestWarning: Unverified HTTPS request is being made to host 'vos.com.cn'. Adding certificate verification is strongly advised. See: https://urllib3.readthedocs.io/en/latest/advanced-usage.html#tls-warnings\n",
            "  warnings.warn(\n"
          ]
        },
        {
          "name": "stdout",
          "output_type": "stream",
          "text": [
            "Downloaded and saved HTML: https://vos.com.cn/shipin/2024-10/15/cms217512article.shtml\n"
          ]
        },
        {
          "name": "stderr",
          "output_type": "stream",
          "text": [
            "/usr/local/lib/python3.10/dist-packages/urllib3/connectionpool.py:1099: InsecureRequestWarning: Unverified HTTPS request is being made to host 'vos.com.cn'. Adding certificate verification is strongly advised. See: https://urllib3.readthedocs.io/en/latest/advanced-usage.html#tls-warnings\n",
            "  warnings.warn(\n"
          ]
        },
        {
          "name": "stdout",
          "output_type": "stream",
          "text": [
            "Downloaded and saved HTML: https://vos.com.cn/2024-10/14/cms217492article.shtml\n"
          ]
        },
        {
          "name": "stderr",
          "output_type": "stream",
          "text": [
            "/usr/local/lib/python3.10/dist-packages/urllib3/connectionpool.py:1099: InsecureRequestWarning: Unverified HTTPS request is being made to host 'vos.com.cn'. Adding certificate verification is strongly advised. See: https://urllib3.readthedocs.io/en/latest/advanced-usage.html#tls-warnings\n",
            "  warnings.warn(\n"
          ]
        },
        {
          "name": "stdout",
          "output_type": "stream",
          "text": [
            "Downloaded and saved HTML: https://vos.com.cn/2024-10/14/cms217466article.shtml\n"
          ]
        },
        {
          "name": "stderr",
          "output_type": "stream",
          "text": [
            "/usr/local/lib/python3.10/dist-packages/urllib3/connectionpool.py:1099: InsecureRequestWarning: Unverified HTTPS request is being made to host 'vos.com.cn'. Adding certificate verification is strongly advised. See: https://urllib3.readthedocs.io/en/latest/advanced-usage.html#tls-warnings\n",
            "  warnings.warn(\n"
          ]
        },
        {
          "name": "stdout",
          "output_type": "stream",
          "text": [
            "Downloaded and saved HTML: https://vos.com.cn/2024-10/14/cms217463article.shtml\n"
          ]
        },
        {
          "name": "stderr",
          "output_type": "stream",
          "text": [
            "/usr/local/lib/python3.10/dist-packages/urllib3/connectionpool.py:1099: InsecureRequestWarning: Unverified HTTPS request is being made to host 'vos.com.cn'. Adding certificate verification is strongly advised. See: https://urllib3.readthedocs.io/en/latest/advanced-usage.html#tls-warnings\n",
            "  warnings.warn(\n"
          ]
        },
        {
          "name": "stdout",
          "output_type": "stream",
          "text": [
            "Downloaded and saved HTML: https://vos.com.cn/taihai/2024-10/25/cms217574article.shtml\n"
          ]
        },
        {
          "name": "stderr",
          "output_type": "stream",
          "text": [
            "/usr/local/lib/python3.10/dist-packages/urllib3/connectionpool.py:1099: InsecureRequestWarning: Unverified HTTPS request is being made to host 'vos.com.cn'. Adding certificate verification is strongly advised. See: https://urllib3.readthedocs.io/en/latest/advanced-usage.html#tls-warnings\n",
            "  warnings.warn(\n"
          ]
        },
        {
          "name": "stdout",
          "output_type": "stream",
          "text": [
            "Downloaded and saved HTML: https://vos.com.cn/kuaiping/2024-10/25/cms217572article.shtml\n"
          ]
        },
        {
          "name": "stderr",
          "output_type": "stream",
          "text": [
            "/usr/local/lib/python3.10/dist-packages/urllib3/connectionpool.py:1099: InsecureRequestWarning: Unverified HTTPS request is being made to host 'vos.com.cn'. Adding certificate verification is strongly advised. See: https://urllib3.readthedocs.io/en/latest/advanced-usage.html#tls-warnings\n",
            "  warnings.warn(\n"
          ]
        },
        {
          "name": "stdout",
          "output_type": "stream",
          "text": [
            "Downloaded and saved HTML: https://vos.com.cn/kuaiping/2024-10/25/cms217571article.shtml\n"
          ]
        },
        {
          "name": "stderr",
          "output_type": "stream",
          "text": [
            "/usr/local/lib/python3.10/dist-packages/urllib3/connectionpool.py:1099: InsecureRequestWarning: Unverified HTTPS request is being made to host 'vos.com.cn'. Adding certificate verification is strongly advised. See: https://urllib3.readthedocs.io/en/latest/advanced-usage.html#tls-warnings\n",
            "  warnings.warn(\n"
          ]
        },
        {
          "name": "stdout",
          "output_type": "stream",
          "text": [
            "Downloaded and saved HTML: https://vos.com.cn/taihai/2024-10/17/cms217536article.shtml\n"
          ]
        },
        {
          "name": "stderr",
          "output_type": "stream",
          "text": [
            "/usr/local/lib/python3.10/dist-packages/urllib3/connectionpool.py:1099: InsecureRequestWarning: Unverified HTTPS request is being made to host 'vos.com.cn'. Adding certificate verification is strongly advised. See: https://urllib3.readthedocs.io/en/latest/advanced-usage.html#tls-warnings\n",
            "  warnings.warn(\n"
          ]
        },
        {
          "name": "stdout",
          "output_type": "stream",
          "text": [
            "Downloaded and saved HTML: https://vos.com.cn/kuaiping/2024-10/18/cms217546article.shtml\n"
          ]
        },
        {
          "name": "stderr",
          "output_type": "stream",
          "text": [
            "/usr/local/lib/python3.10/dist-packages/urllib3/connectionpool.py:1099: InsecureRequestWarning: Unverified HTTPS request is being made to host 'vos.com.cn'. Adding certificate verification is strongly advised. See: https://urllib3.readthedocs.io/en/latest/advanced-usage.html#tls-warnings\n",
            "  warnings.warn(\n"
          ]
        },
        {
          "name": "stdout",
          "output_type": "stream",
          "text": [
            "Downloaded and saved HTML: https://vos.com.cn/kuaiping/2024-10/17/cms217537article.shtml\n"
          ]
        },
        {
          "name": "stderr",
          "output_type": "stream",
          "text": [
            "/usr/local/lib/python3.10/dist-packages/urllib3/connectionpool.py:1099: InsecureRequestWarning: Unverified HTTPS request is being made to host 'vos.com.cn'. Adding certificate verification is strongly advised. See: https://urllib3.readthedocs.io/en/latest/advanced-usage.html#tls-warnings\n",
            "  warnings.warn(\n"
          ]
        },
        {
          "name": "stdout",
          "output_type": "stream",
          "text": [
            "Downloaded and saved HTML: https://vos.com.cn/taihai/2024-10/17/cms217535article.shtml\n"
          ]
        },
        {
          "name": "stderr",
          "output_type": "stream",
          "text": [
            "/usr/local/lib/python3.10/dist-packages/urllib3/connectionpool.py:1099: InsecureRequestWarning: Unverified HTTPS request is being made to host 'vos.com.cn'. Adding certificate verification is strongly advised. See: https://urllib3.readthedocs.io/en/latest/advanced-usage.html#tls-warnings\n",
            "  warnings.warn(\n"
          ]
        },
        {
          "name": "stdout",
          "output_type": "stream",
          "text": [
            "Downloaded and saved HTML: https://vos.com.cn/kuaiping/2024-10/16/cms217526article.shtml\n"
          ]
        },
        {
          "name": "stderr",
          "output_type": "stream",
          "text": [
            "/usr/local/lib/python3.10/dist-packages/urllib3/connectionpool.py:1099: InsecureRequestWarning: Unverified HTTPS request is being made to host 'vos.com.cn'. Adding certificate verification is strongly advised. See: https://urllib3.readthedocs.io/en/latest/advanced-usage.html#tls-warnings\n",
            "  warnings.warn(\n"
          ]
        },
        {
          "name": "stdout",
          "output_type": "stream",
          "text": [
            "Downloaded and saved HTML: https://vos.com.cn/kuaiping/2024-10/14/cms217473article.shtml\n"
          ]
        },
        {
          "name": "stderr",
          "output_type": "stream",
          "text": [
            "/usr/local/lib/python3.10/dist-packages/urllib3/connectionpool.py:1099: InsecureRequestWarning: Unverified HTTPS request is being made to host 'vos.com.cn'. Adding certificate verification is strongly advised. See: https://urllib3.readthedocs.io/en/latest/advanced-usage.html#tls-warnings\n",
            "  warnings.warn(\n"
          ]
        },
        {
          "name": "stdout",
          "output_type": "stream",
          "text": [
            "Downloaded and saved HTML: https://vos.com.cn/zhuantibaodao.shtml\n"
          ]
        },
        {
          "name": "stderr",
          "output_type": "stream",
          "text": [
            "/usr/local/lib/python3.10/dist-packages/urllib3/connectionpool.py:1099: InsecureRequestWarning: Unverified HTTPS request is being made to host 'vos.com.cn'. Adding certificate verification is strongly advised. See: https://urllib3.readthedocs.io/en/latest/advanced-usage.html#tls-warnings\n",
            "  warnings.warn(\n"
          ]
        },
        {
          "name": "stdout",
          "output_type": "stream",
          "text": [
            "Downloaded and saved HTML: https://vos.com.cn/chahetianxia.shtml\n"
          ]
        },
        {
          "name": "stderr",
          "output_type": "stream",
          "text": [
            "/usr/local/lib/python3.10/dist-packages/urllib3/connectionpool.py:1099: InsecureRequestWarning: Unverified HTTPS request is being made to host 'vos.com.cn'. Adding certificate verification is strongly advised. See: https://urllib3.readthedocs.io/en/latest/advanced-usage.html#tls-warnings\n",
            "  warnings.warn(\n"
          ]
        },
        {
          "name": "stdout",
          "output_type": "stream",
          "text": [
            "Downloaded and saved HTML: https://vos.com.cn/yinpinjingxuanzhuanqu.shtml\n"
          ]
        },
        {
          "name": "stderr",
          "output_type": "stream",
          "text": [
            "/usr/local/lib/python3.10/dist-packages/urllib3/connectionpool.py:1099: InsecureRequestWarning: Unverified HTTPS request is being made to host 'vos.com.cn'. Adding certificate verification is strongly advised. See: https://urllib3.readthedocs.io/en/latest/advanced-usage.html#tls-warnings\n",
            "  warnings.warn(\n"
          ]
        },
        {
          "name": "stdout",
          "output_type": "stream",
          "text": [
            "Downloaded and saved HTML: https://vos.com.cn/quanguolianghuibaodao.shtml\n"
          ]
        },
        {
          "name": "stderr",
          "output_type": "stream",
          "text": [
            "/usr/local/lib/python3.10/dist-packages/urllib3/connectionpool.py:1099: InsecureRequestWarning: Unverified HTTPS request is being made to host 'vos.com.cn'. Adding certificate verification is strongly advised. See: https://urllib3.readthedocs.io/en/latest/advanced-usage.html#tls-warnings\n",
            "  warnings.warn(\n"
          ]
        },
        {
          "name": "stdout",
          "output_type": "stream",
          "text": [
            "Downloaded and saved HTML: https://vos.com.cn/taihaizhengzaishuo.shtml\n"
          ]
        },
        {
          "name": "stderr",
          "output_type": "stream",
          "text": [
            "/usr/local/lib/python3.10/dist-packages/urllib3/connectionpool.py:1099: InsecureRequestWarning: Unverified HTTPS request is being made to host 'vos.com.cn'. Adding certificate verification is strongly advised. See: https://urllib3.readthedocs.io/en/latest/advanced-usage.html#tls-warnings\n",
            "  warnings.warn(\n"
          ]
        },
        {
          "name": "stdout",
          "output_type": "stream",
          "text": [
            "Downloaded and saved HTML: https://vos.com.cn/zhongguogongchandangyutaiwan.shtml\n"
          ]
        },
        {
          "name": "stderr",
          "output_type": "stream",
          "text": [
            "/usr/local/lib/python3.10/dist-packages/urllib3/connectionpool.py:1099: InsecureRequestWarning: Unverified HTTPS request is being made to host 'vos.com.cn'. Adding certificate verification is strongly advised. See: https://urllib3.readthedocs.io/en/latest/advanced-usage.html#tls-warnings\n",
            "  warnings.warn(\n"
          ]
        },
        {
          "name": "stdout",
          "output_type": "stream",
          "text": [
            "Downloaded and saved HTML: https://vos.com.cn/beijingfabu.shtml\n"
          ]
        },
        {
          "name": "stderr",
          "output_type": "stream",
          "text": [
            "/usr/local/lib/python3.10/dist-packages/urllib3/connectionpool.py:1099: InsecureRequestWarning: Unverified HTTPS request is being made to host 'www.gov.cn'. Adding certificate verification is strongly advised. See: https://urllib3.readthedocs.io/en/latest/advanced-usage.html#tls-warnings\n",
            "  warnings.warn(\n"
          ]
        },
        {
          "name": "stdout",
          "output_type": "stream",
          "text": [
            "Downloaded and saved HTML: http://www.gov.cn/\n",
            "Downloaded and saved HTML: http://www.gwytb.gov.cn/\n",
            "Downloaded and saved HTML: http://www.arats.com.cn/\n",
            "Failed to download http://www.scio.gov.cn/index.htm\n"
          ]
        },
        {
          "name": "stderr",
          "output_type": "stream",
          "text": [
            "/usr/local/lib/python3.10/dist-packages/urllib3/connectionpool.py:1099: InsecureRequestWarning: Unverified HTTPS request is being made to host 'www.fmprc.gov.cn'. Adding certificate verification is strongly advised. See: https://urllib3.readthedocs.io/en/latest/advanced-usage.html#tls-warnings\n",
            "  warnings.warn(\n"
          ]
        },
        {
          "name": "stdout",
          "output_type": "stream",
          "text": [
            "Downloaded and saved HTML: https://www.fmprc.gov.cn/web/\n",
            "Downloaded and saved HTML: http://www.mod.gov.cn/\n",
            "Downloaded and saved HTML: http://www.81.cn/\n",
            "Downloaded and saved HTML: http://www.people.com.cn/\n",
            "Downloaded and saved HTML: http://www.xinhuanet.com/\n"
          ]
        },
        {
          "name": "stderr",
          "output_type": "stream",
          "text": [
            "/usr/local/lib/python3.10/dist-packages/urllib3/connectionpool.py:1099: InsecureRequestWarning: Unverified HTTPS request is being made to host 'www.cctv.com'. Adding certificate verification is strongly advised. See: https://urllib3.readthedocs.io/en/latest/advanced-usage.html#tls-warnings\n",
            "  warnings.warn(\n"
          ]
        },
        {
          "name": "stdout",
          "output_type": "stream",
          "text": [
            "Downloaded and saved HTML: https://www.cctv.com/\n"
          ]
        },
        {
          "name": "stderr",
          "output_type": "stream",
          "text": [
            "/usr/local/lib/python3.10/dist-packages/urllib3/connectionpool.py:1099: InsecureRequestWarning: Unverified HTTPS request is being made to host 'www.chinanews.com'. Adding certificate verification is strongly advised. See: https://urllib3.readthedocs.io/en/latest/advanced-usage.html#tls-warnings\n",
            "  warnings.warn(\n"
          ]
        },
        {
          "name": "stdout",
          "output_type": "stream",
          "text": [
            "Downloaded and saved HTML: https://www.chinanews.com/\n"
          ]
        },
        {
          "name": "stderr",
          "output_type": "stream",
          "text": [
            "/usr/local/lib/python3.10/dist-packages/urllib3/connectionpool.py:1099: InsecureRequestWarning: Unverified HTTPS request is being made to host 'www.ifeng.com'. Adding certificate verification is strongly advised. See: https://urllib3.readthedocs.io/en/latest/advanced-usage.html#tls-warnings\n",
            "  warnings.warn(\n"
          ]
        },
        {
          "name": "stdout",
          "output_type": "stream",
          "text": [
            "Downloaded and saved HTML: https://www.ifeng.com/\n",
            "An error occurred while downloading http://www.nihaotw.com/: HTTPConnectionPool(host='www.nihaotw.com', port=80): Max retries exceeded with url: / (Caused by NameResolutionError(\"<urllib3.connection.HTTPConnection object at 0x795793ca69e0>: Failed to resolve 'www.nihaotw.com' ([Errno -2] Name or service not known)\"))\n",
            "Downloaded and saved HTML: http://www.taiwan.cn/\n",
            "Downloaded and saved HTML: http://www.itaiwannews.cn/\n",
            "Downloaded and saved HTML: http://www.qgtql.com/\n",
            "Downloaded and saved HTML: http://tyh.taiwan.cn/\n",
            "Downloaded and saved HTML: http://www.cankaoxiaoxi.com/\n",
            "Downloaded and saved HTML: http://www.chbcnet.com/\n"
          ]
        },
        {
          "name": "stderr",
          "output_type": "stream",
          "text": [
            "/usr/local/lib/python3.10/dist-packages/urllib3/connectionpool.py:1099: InsecureRequestWarning: Unverified HTTPS request is being made to host 'hk.crntt.com'. Adding certificate verification is strongly advised. See: https://urllib3.readthedocs.io/en/latest/advanced-usage.html#tls-warnings\n",
            "  warnings.warn(\n"
          ]
        },
        {
          "name": "stdout",
          "output_type": "stream",
          "text": [
            "Downloaded and saved HTML: http://www.crntt.com/\n"
          ]
        },
        {
          "name": "stderr",
          "output_type": "stream",
          "text": [
            "/usr/local/lib/python3.10/dist-packages/urllib3/connectionpool.py:1099: InsecureRequestWarning: Unverified HTTPS request is being made to host 'www.12377.cn'. Adding certificate verification is strongly advised. See: https://urllib3.readthedocs.io/en/latest/advanced-usage.html#tls-warnings\n",
            "  warnings.warn(\n"
          ]
        },
        {
          "name": "stdout",
          "output_type": "stream",
          "text": [
            "Failed to download https://www.12377.cn/\n",
            "Failed to download http://beian.miit.gov.cn/\n"
          ]
        },
        {
          "name": "stderr",
          "output_type": "stream",
          "text": [
            "/usr/local/lib/python3.10/dist-packages/urllib3/connectionpool.py:1099: InsecureRequestWarning: Unverified HTTPS request is being made to host 'www.12321.cn'. Adding certificate verification is strongly advised. See: https://urllib3.readthedocs.io/en/latest/advanced-usage.html#tls-warnings\n",
            "  warnings.warn(\n"
          ]
        },
        {
          "name": "stdout",
          "output_type": "stream",
          "text": [
            "Downloaded and saved HTML: https://www.12321.cn/\n",
            "Failed to download http://yunzhanlan2023.e.cn.vc\n",
            "All HTML, DOCX, and PDF files combined into combined_pages_vos.com.cn.html\n",
            "Proximity analysis complete. Results saved in keyword_proximity_results_vos.com.cn.csv\n"
          ]
        }
      ],
      "source": [
        "import requests\n",
        "from bs4 import BeautifulSoup\n",
        "import os\n",
        "import re\n",
        "import csv\n",
        "from docx import Document\n",
        "from PyPDF2 import PdfReader\n",
        "from urllib.parse import urljoin, urlparse\n",
        "from requests.adapters import HTTPAdapter\n",
        "from requests.packages.urllib3.util.retry import Retry\n",
        "import ssl\n",
        "from urllib3.poolmanager import PoolManager\n",
        "\n",
        "# Initial setup for the main website URL\n",
        "url = 'https://vos.com.cn/'\n",
        "\n",
        "# Step 1: Fetch the main webpage content with proper encoding handling\n",
        "response = requests.get(url)\n",
        "\n",
        "if response.status_code == 200:\n",
        "    # Set encoding based on the response's apparent encoding\n",
        "    response.encoding = response.apparent_encoding\n",
        "    print(\"Successfully fetched the main page!\")\n",
        "    page_content = response.text  # Use .text to handle decoded content\n",
        "else:\n",
        "    print(f\"Failed to retrieve the main page. Status code: {response.status_code}\")\n",
        "\n",
        "# Step 2: Parse the main page to find all subpage links\n",
        "soup = BeautifulSoup(page_content, \"html.parser\")\n",
        "links = soup.find_all('a', href=True)\n",
        "\n",
        "# Step 3: Store subpage URLs in a list\n",
        "subpage_urls = []\n",
        "for link in links:\n",
        "    href = link['href']\n",
        "    full_url = urljoin(url, href)\n",
        "    parsed_url = urlparse(full_url)\n",
        "\n",
        "    # Only add URLs with HTTP or HTTPS schemes\n",
        "    if parsed_url.scheme in ['http', 'https']:\n",
        "        subpage_urls.append(full_url)\n",
        "\n",
        "# Step 4: Configure session with retries and SSL/TLS context handling\n",
        "retries = Retry(total=5, backoff_factor=0.3, status_forcelist=[500, 502, 503, 504])\n",
        "\n",
        "class TLSAdapter(HTTPAdapter):\n",
        "    def init_poolmanager(self, *args, **kwargs):\n",
        "        context = ssl.create_default_context(ssl.Purpose.CLIENT_AUTH)\n",
        "        context.options |= ssl.OP_NO_TLSv1 | ssl.OP_NO_TLSv1_1  # Force TLSv1.2 or higher\n",
        "        kwargs['ssl_context'] = context\n",
        "        return super(TLSAdapter, self).init_poolmanager(*args, **kwargs)\n",
        "\n",
        "# Set up session\n",
        "session = requests.Session()\n",
        "session.mount('https://', TLSAdapter())\n",
        "session.mount('https://', HTTPAdapter(max_retries=retries))\n",
        "\n",
        "# Step 5: Download and handle each subpage content\n",
        "downloaded_html_files = []\n",
        "docx_texts = []\n",
        "pdf_texts = []\n",
        "\n",
        "for subpage_url in subpage_urls:\n",
        "    try:\n",
        "        subpage_response = session.get(subpage_url, verify=False)\n",
        "\n",
        "        if subpage_response.status_code == 200:\n",
        "            # Handle encoding for each subpage\n",
        "            subpage_response.encoding = subpage_response.apparent_encoding\n",
        "            content_type = subpage_response.headers['Content-Type']\n",
        "\n",
        "            if 'text/html' in content_type:\n",
        "                subpage_name = subpage_url.split(\"/\")[-1] or 'index'\n",
        "                if not subpage_name.endswith('.html'):\n",
        "                    file_name = f\"{subpage_name}.html\"\n",
        "                else:\n",
        "                    file_name = subpage_name\n",
        "\n",
        "                with open(file_name, \"w\", encoding=\"utf-8\") as f:\n",
        "                    f.write(subpage_response.text)\n",
        "                downloaded_html_files.append(file_name)\n",
        "                print(f\"Downloaded and saved HTML: {subpage_url}\")\n",
        "            elif 'application/vnd.openxmlformats-officedocument.wordprocessingml.document' in content_type:\n",
        "                docx_file_name = subpage_url.split(\"/\")[-1]\n",
        "                with open(docx_file_name, \"wb\") as f:\n",
        "                    f.write(subpage_response.content)\n",
        "                doc = Document(docx_file_name)\n",
        "                docx_text = \"\\n\".join([para.text for para in doc.paragraphs])\n",
        "                docx_texts.append(docx_text)\n",
        "                print(f\"Downloaded and extracted DOCX: {subpage_url}\")\n",
        "            elif 'application/pdf' in content_type:\n",
        "                pdf_file_name = subpage_url.split(\"/\")[-1]\n",
        "                with open(pdf_file_name, \"wb\") as f:\n",
        "                    f.write(subpage_response.content)\n",
        "                pdf_reader = PdfReader(pdf_file_name)\n",
        "                pdf_text = \"\"\n",
        "                for page in pdf_reader.pages:\n",
        "                    pdf_text += page.extract_text()\n",
        "                pdf_texts.append(pdf_text)\n",
        "                print(f\"Downloaded and extracted PDF: {subpage_url}\")\n",
        "            else:\n",
        "                print(f\"Skipping non-HTML, non-DOCX, non-PDF content: {subpage_url}\")\n",
        "        else:\n",
        "            print(f\"Failed to download {subpage_url}\")\n",
        "    except requests.exceptions.SSLError as e:\n",
        "        print(f\"SSL error occurred while downloading {subpage_url}: {e}\")\n",
        "    except Exception as e:\n",
        "        print(f\"An error occurred while downloading {subpage_url}: {e}\")\n",
        "\n",
        "# Step 6: Combine all HTML, DOCX, and PDF files into a single file\n",
        "combined_file = \"combined_pages_vos.com.cn.html\"\n",
        "with open(combined_file, \"w\", encoding=\"utf-8\") as outfile:\n",
        "    # Combine HTML files\n",
        "    for file_name in downloaded_html_files:\n",
        "        if os.path.exists(file_name):\n",
        "            with open(file_name, \"r\", encoding=\"utf-8\") as infile:\n",
        "                outfile.write(infile.read())\n",
        "                outfile.write(\"\\n\\n\")\n",
        "    # Combine DOCX text\n",
        "    for docx_text in docx_texts:\n",
        "        outfile.write(docx_text)\n",
        "        outfile.write(\"\\n\\n\")\n",
        "    # Combine PDF text\n",
        "    for pdf_text in pdf_texts:\n",
        "        outfile.write(pdf_text)\n",
        "        outfile.write(\"\\n\\n\")\n",
        "\n",
        "print(f\"All HTML, DOCX, and PDF files combined into {combined_file}\")\n",
        "\n",
        "# Step 7: Extract text and search for specific Chinese strings\n",
        "chinese_strings = [ \"休斯顿和统会\", \"佛罗里达和统会\", \"侨联之友\", \"俄勒冈统促会\", \"全球华人反邪教联盟\",\n",
        "    \"全美中国和平统一促进联合会\", \"全美反独促统联盟\", \"关岛和统会\", \"凤凰城和统会\", \"加州中谷和统会\",\n",
        "    \"加州首府和统会\", \"北京同乡会\", \"北加州和统会\", \"北美统促联合总会\", \"华夏政略研究会\",\n",
        "    \"华盛顿中国和平统一促进会\", \"华盛顿华人社区联盟\", \"华盛顿州中国统一促进会\", \"南加台山联谊会\",\n",
        "    \"南加州中国和平统一促进会联盟\", \"南加州促统论坛\", \"南加华人华侨联合总会\", \"圣地亚戈统促会\",\n",
        "    \"大华府象屿联谊会\", \"大波士顿和统会\", \"大洛杉矶中国统一促进会\", \"大纽约学生学者联谊会\",\n",
        "    \"大纽约统促会\", \"大芝加哥中国和平统一促进会\", \"大费城亚裔狮子会\", \"大费城侨学界华人社团联席会议\",\n",
        "    \"大费城华侨公会\", \"大费城统促会\", \"大费城长乐公会\", \"宾州和统会\", \"宾州福建同乡会\",\n",
        "    \"德州和统会\", \"德拉瓦和统会\", \"拉斯维加斯和统会\", \"新泽西和统会\", \"旧金山湾区统促会\",\n",
        "    \"波士顿和统会\", \"波特兰统促会\", \"洛杉矶华埠大联盟\", \"溫州同乡会\", \"纽约至孝督亲公所\",\n",
        "    \"纽约华人社团联席会\", \"纽约和统会\", \"罗省中华会馆\", \"美东华人社团联合总会\",\n",
        "    \"美东南福建同乡会\", \"美中友好促进会\", \"美中友好協会\", \"美中和平友好促进会\",\n",
        "    \"美中经济文化发展促进会\", \"美京统促会\", \"美华友好促统会\", \"美华总商会\", \"美国香港总商会\",\n",
        "    \"美国中华妇女联合会\", \"美国中国总商会\", \"美国亚洲人商会\", \"美国亚裔社团联合总会\",\n",
        "    \"美国侨学界社团联席会\", \"美国华人华侨联合总会\", \"美华侨\", \"美国华人华侨联谊会\",\n",
        "    \"美国华人社团联会总会\", \"美国华人联盟\", \"美国华州中国统一促进会\", \"美国宾州中国和平统一促进会\",\n",
        "    \"美国广西侨胞联合会\", \"美国福州十邑同乡会\", \"美国福建会馆\", \"美国福建侨联总会\",\n",
        "    \"美国福建同乡会\", \"美國福建同鄉會\", \"美国福建妇女友好联盟总会\", \"美国福建猴屿联谊会\",\n",
        "    \"美国连江同乡会\", \"美国长乐社团联盟总会\", \"美国闽台总商会\", \"美國大唐會館\", \"美国大唐会馆\",\n",
        "    \"美國福建會館\", \"美國廣州同學聯合總會\", \"美国广州同学联合总会\", \"美國美中文化交流促進會\",\n",
        "    \"美国美中文化交流促进会\", \"美洲中国统一促进会联合总会\", \"美洲青年和统会\", \"美西和统会\",\n",
        "    \"芝加哥一中会\", \"芝加哥统促会\", \"西雅图统促会\", \"费城东安公所\", \"费城崇正会\",\n",
        "    \"费城福建同乡会\", \"费城福建同乡联合会\", \"费城鹤山公所\", \"达拉斯和统会\", \"习近平指出\",\n",
        "    \"中国和平统一促进会\", \"中国和平统一促进联合会\", \"中国统一促进会\", \"中国统一促进会联合总会\",\n",
        "    \"会馆\", \"促统会\", \"促统联盟\", \"促统论坛\", \"华人社团联席会议\", \"友好促统会\",\n",
        "    \"同乡会\", \"和统会\", \"大聯盟\", \"总商会\", \"统促会\", \"统促进会联合会\",\n",
        "    \"联总会\", \"联谊会\", \"联合总会\", \"华人华侨联合总会\", \"华人华侨联会\",\n",
        "    \"休斯顿中国和平统一促进会\", \"全美统促进会联合会\", \"华盛顿和统会\", \"华盛顿统促会\",\n",
        "    \"南加统促联盟\", \"南加促统论坛\", \"纽约中国和平统一促进会\", \"芝加哥和统会\",\n",
        "    \"中国和平统一促进会\", \"促统会\", \"促統會\",\n",
        "    \"中华全国归国华侨联合会\", \"侨联\", \"僑聯\",\n",
        "    \"驻芝加哥总领事馆\", \"驻芝加哥总领馆\",\n",
        "    \"驻纽约总领事馆\", \"驻纽约总领馆\",\n",
        "    \"驻洛杉矶总领事馆\", \"驻洛杉矶总领馆\",\n",
        "    \"中国驻美国大使馆\",\n",
        "    \"中国共产党中央委员会统一战线工作部\", \"中央统战部\", \"统一战线工作部\", \"统战部\", \"统战\",\n",
        "    \"中共中央台湾工作办公室\", \"台湾工作办公室\", \"国务院台湾事务办公室\", \"国台办\", \"台湾事务办公室\",\n",
        "    \"国务院侨务办公室\", \"国侨办\", \"国务院侨办\",\n",
        "    \"福建省侨联\",\n",
        "    \"中国共产党中央委员会对外联络部\", \"中央对外联络部\",\n",
        "    \"国家互联网信息办公室\", \"中央网络安全和信息化委员会办公室\", \"中央网信办\",\n",
        "    \"人民政協\", \"中国人民政治协商会议\", \"政协\",\n",
        "    \"全国人民代表大会\", \"全国人大\",\n",
        "    \"全国人大华侨委员会\",\n",
        "    \"中华人民共和国外交部\", \"中国外交部\", \"外交部\",\n",
        "    \"国务院\",\n",
        "    \"国务院新闻办公室\",\n",
        "    \"工业和信息化部\", \"工信部\",\n",
        "    \"台灣自主同盟\", \"台湾自主同盟\",\n",
        "    \"中国国际贸易促进委员会\", \"贸促会\",\n",
        "    \"致公党\",\n",
        "    \"中国侨商联合会\"]  # Include the full list of strings as before\n",
        "\n",
        "def extract_text_from_html(html_content):\n",
        "    soup = BeautifulSoup(html_content, \"html.parser\")\n",
        "    for script_or_style in soup(['script', 'style']):\n",
        "        script_or_style.decompose()\n",
        "    text = soup.get_text(separator=' ', strip=True)\n",
        "    return re.sub(r'\\s+', ' ', text)\n",
        "\n",
        "with open(combined_file, \"r\", encoding=\"utf-8\") as combined:\n",
        "    content = combined.read()\n",
        "\n",
        "readable_text = extract_text_from_html(content)\n",
        "\n",
        "# Step 8: Keyword search and proximity analysis\n",
        "keyword_positions = {}\n",
        "for keyword in chinese_strings:\n",
        "    matches = [m.start() for m in re.finditer(re.escape(keyword), readable_text)]\n",
        "    if matches:\n",
        "        keyword_positions[keyword] = matches\n",
        "\n",
        "def calculate_word_distance(pos1, pos2, text):\n",
        "    between_text = text[min(pos1, pos2):max(pos1, pos2)]\n",
        "    words_between = between_text.split()\n",
        "    return len(words_between)\n",
        "\n",
        "# Count occurrences of each keyword pair\n",
        "proximity_data = []\n",
        "keyword_pair_count = {}\n",
        "\n",
        "for i, keyword1 in enumerate(chinese_strings):\n",
        "    for j, keyword2 in enumerate(chinese_strings):\n",
        "        if i < j and keyword1 in keyword_positions and keyword2 in keyword_positions:\n",
        "            for pos1 in keyword_positions[keyword1]:\n",
        "                for pos2 in keyword_positions[keyword2]:\n",
        "                    distance = calculate_word_distance(pos1, pos2, readable_text)\n",
        "                    if distance <= 1000:\n",
        "                        proximity_data.append([keyword1, keyword2, distance])\n",
        "                        pair_key = (keyword1, keyword2)\n",
        "                        if pair_key in keyword_pair_count:\n",
        "                            keyword_pair_count[pair_key] += 1\n",
        "                        else:\n",
        "                            keyword_pair_count[pair_key] = 1\n",
        "\n",
        "# Save results to CSV\n",
        "csv_file_path = 'keyword_proximity_results_vos.com.cn.csv'\n",
        "with open(csv_file_path, mode='w', newline='', encoding='utf-8') as file:\n",
        "    writer = csv.writer(file)\n",
        "    writer.writerow([\"Keyword 1\", \"Keyword 2\", \"Word Distance\", \"Occurrences\"])\n",
        "    for row in proximity_data:\n",
        "        keyword1, keyword2, distance = row\n",
        "        occurrences = keyword_pair_count.get((keyword1, keyword2), 0)\n",
        "        writer.writerow([keyword1, keyword2, distance, occurrences])\n",
        "\n",
        "print(f\"Proximity analysis complete. Results saved in {csv_file_path}\")\n"
      ]
    },
    {
      "cell_type": "code",
      "execution_count": null,
      "metadata": {
        "id": "YUkADLzT7Vbt"
      },
      "outputs": [],
      "source": [
        "import pandas as pd\n",
        "df = pd.read_csv(\"keyword_proximity_results_vos.com.cn.csv\")\n",
        "mdf = df.groupby([\"Keyword 1\", \"Keyword 2\"]).mean()\n",
        "mdf.sort_values(by=\"Word Distance\", ascending=True).tail(100)\n",
        "mdf.sort_values(by=\"Word Distance\", ascending=True).to_csv(\"vos.com.cn.csv\")"
      ]
    },
    {
      "cell_type": "markdown",
      "metadata": {
        "id": "Ych_i0Qu_PWE"
      },
      "source": [
        "another try (worked)"
      ]
    },
    {
      "cell_type": "code",
      "execution_count": null,
      "metadata": {
        "colab": {
          "base_uri": "https://localhost:8080/"
        },
        "id": "jrjvjyuP_U9Z",
        "outputId": "d26d5493-1091-4cfc-d2e4-f30e1449765d"
      },
      "outputs": [
        {
          "output_type": "stream",
          "name": "stdout",
          "text": [
            "Requirement already satisfied: chardet in /usr/local/lib/python3.10/dist-packages (5.2.0)\n",
            "Requirement already satisfied: ftfy in /usr/local/lib/python3.10/dist-packages (6.3.1)\n",
            "Requirement already satisfied: wcwidth in /usr/local/lib/python3.10/dist-packages (from ftfy) (0.2.13)\n"
          ]
        }
      ],
      "source": [
        "pip install chardet ftfy\n"
      ]
    },
    {
      "cell_type": "markdown",
      "source": [
        "http://sanfrancisco.china-consulate.gov.cn"
      ],
      "metadata": {
        "id": "kShGqzCA6uVl"
      }
    },
    {
      "cell_type": "code",
      "execution_count": null,
      "metadata": {
        "colab": {
          "base_uri": "https://localhost:8080/"
        },
        "id": "ap_mgAvh_RDK",
        "outputId": "6ee00b3a-61eb-4525-9cb4-4ef7c7e50ead"
      },
      "outputs": [
        {
          "name": "stdout",
          "output_type": "stream",
          "text": [
            "Successfully fetched the main page!\n"
          ]
        },
        {
          "name": "stderr",
          "output_type": "stream",
          "text": [
            "<ipython-input-10-5fcd0eaa6de2>:51: DeprecationWarning: ssl.OP_NO_SSL*/ssl.OP_NO_TLS* options are deprecated\n",
            "  context.options |= ssl.OP_NO_TLSv1 | ssl.OP_NO_TLSv1_1  # Force TLSv1.2 or higher\n"
          ]
        },
        {
          "name": "stdout",
          "output_type": "stream",
          "text": [
            "Downloaded and saved HTML: http://sanfrancisco.china-consulate.gov.cn/\n",
            "Downloaded and saved HTML: http://sanfrancisco.china-consulate.gov.cn/lgjs/\n",
            "Downloaded and saved HTML: http://sanfrancisco.china-consulate.gov.cn/lgjs/gzszls/\n",
            "Downloaded and saved HTML: http://sanfrancisco.china-consulate.gov.cn/lgjs/LQJS/\n",
            "Downloaded and saved HTML: http://sanfrancisco.china-consulate.gov.cn/lgjs/JGSZ/\n",
            "Downloaded and saved HTML: http://sanfrancisco.china-consulate.gov.cn/lsfw/\n",
            "Downloaded and saved HTML: http://sanfrancisco.china-consulate.gov.cn/lsfw/lszytz/\n",
            "Downloaded and saved HTML: http://sanfrancisco.china-consulate.gov.cn/lsfw/qianzhen/\n",
            "Downloaded and saved HTML: http://sanfrancisco.china-consulate.gov.cn/lsfw/LSBH1/\n",
            "Downloaded and saved HTML: http://sanfrancisco.china-consulate.gov.cn/lsfw/qw/\n",
            "Downloaded and saved HTML: http://sanfrancisco.china-consulate.gov.cn/lsfw/lxwm/\n",
            "Downloaded and saved HTML: http://sanfrancisco.china-consulate.gov.cn/lsfw/LQHF/\n",
            "Downloaded and saved HTML: http://sanfrancisco.china-consulate.gov.cn/lsfw/FMXZ/\n",
            "Downloaded and saved HTML: http://sanfrancisco.china-consulate.gov.cn/xw/\n",
            "Downloaded and saved HTML: http://sanfrancisco.china-consulate.gov.cn/xw/xxfb/\n",
            "Downloaded and saved HTML: http://sanfrancisco.china-consulate.gov.cn/xw/fyrth/\n",
            "Downloaded and saved HTML: http://sanfrancisco.china-consulate.gov.cn/xw/wgfyrsm/\n",
            "Downloaded and saved HTML: http://sanfrancisco.china-consulate.gov.cn/xw/jzfw/\n",
            "Downloaded and saved HTML: http://sanfrancisco.china-consulate.gov.cn/wenhua/\n",
            "Downloaded and saved HTML: http://sanfrancisco.china-consulate.gov.cn/wenhua/whtyht/\n",
            "Downloaded and saved HTML: http://sanfrancisco.china-consulate.gov.cn/kj/\n",
            "Downloaded and saved HTML: http://sanfrancisco.china-consulate.gov.cn/kj/jlhaz/\n",
            "Downloaded and saved HTML: http://sanfrancisco.china-consulate.gov.cn/kj/kjxx/\n",
            "Downloaded and saved HTML: http://sanfrancisco.china-consulate.gov.cn/kj/kjjh/\n",
            "Downloaded and saved HTML: http://sanfrancisco.china-consulate.gov.cn/kj/wjfg/\n",
            "Downloaded and saved HTML: http://sanfrancisco.china-consulate.gov.cn/kj/zyxx/\n",
            "An error occurred while downloading http://sanfrancisco.mofcom.gov.cn/: ('Connection aborted.', ConnectionResetError(104, 'Connection reset by peer'))\n"
          ]
        },
        {
          "name": "stderr",
          "output_type": "stream",
          "text": [
            "WARNING:urllib3.connectionpool:Retrying (Retry(total=4, connect=None, read=None, redirect=None, status=None)) after connection broken by 'SSLError(SSLError(1, '[SSL: UNSAFE_LEGACY_RENEGOTIATION_DISABLED] unsafe legacy renegotiation disabled (_ssl.c:1007)'))': /\n",
            "WARNING:urllib3.connectionpool:Retrying (Retry(total=3, connect=None, read=None, redirect=None, status=None)) after connection broken by 'SSLError(SSLError(1, '[SSL: UNSAFE_LEGACY_RENEGOTIATION_DISABLED] unsafe legacy renegotiation disabled (_ssl.c:1007)'))': /\n",
            "WARNING:urllib3.connectionpool:Retrying (Retry(total=2, connect=None, read=None, redirect=None, status=None)) after connection broken by 'SSLError(SSLError(1, '[SSL: UNSAFE_LEGACY_RENEGOTIATION_DISABLED] unsafe legacy renegotiation disabled (_ssl.c:1007)'))': /\n",
            "WARNING:urllib3.connectionpool:Retrying (Retry(total=1, connect=None, read=None, redirect=None, status=None)) after connection broken by 'SSLError(SSLError(1, '[SSL: UNSAFE_LEGACY_RENEGOTIATION_DISABLED] unsafe legacy renegotiation disabled (_ssl.c:1007)'))': /\n",
            "WARNING:urllib3.connectionpool:Retrying (Retry(total=0, connect=None, read=None, redirect=None, status=None)) after connection broken by 'SSLError(SSLError(1, '[SSL: UNSAFE_LEGACY_RENEGOTIATION_DISABLED] unsafe legacy renegotiation disabled (_ssl.c:1007)'))': /\n"
          ]
        },
        {
          "name": "stdout",
          "output_type": "stream",
          "text": [
            "SSL error occurred while downloading http://sanfrancisco.lxgz.org.cn: HTTPSConnectionPool(host='sanfrancisco.lxgz.org.cn', port=443): Max retries exceeded with url: / (Caused by SSLError(SSLError(1, '[SSL: UNSAFE_LEGACY_RENEGOTIATION_DISABLED] unsafe legacy renegotiation disabled (_ssl.c:1007)')))\n",
            "Downloaded and saved HTML: http://sanfrancisco.china-consulate.gov.cn/lsbgxz/\n",
            "Downloaded and saved HTML: http://sanfrancisco.china-consulate.gov.cn/zhuanti/\n"
          ]
        },
        {
          "name": "stderr",
          "output_type": "stream",
          "text": [
            "/usr/local/lib/python3.10/dist-packages/urllib3/connectionpool.py:1099: InsecureRequestWarning: Unverified HTTPS request is being made to host 'www.gov.cn'. Adding certificate verification is strongly advised. See: https://urllib3.readthedocs.io/en/latest/advanced-usage.html#tls-warnings\n",
            "  warnings.warn(\n"
          ]
        },
        {
          "name": "stdout",
          "output_type": "stream",
          "text": [
            "Downloaded and saved HTML: http://www.gov.cn/zhuanti/zggcddescqgdbdh/index.htm\n",
            "Failed to download http://www.scio.gov.cn/xigovernance/\n",
            "Downloaded and saved HTML: http://sanfrancisco.china-consulate.gov.cn/zhuanti/zgdyd/\n"
          ]
        },
        {
          "name": "stderr",
          "output_type": "stream",
          "text": [
            "/usr/local/lib/python3.10/dist-packages/urllib3/connectionpool.py:1099: InsecureRequestWarning: Unverified HTTPS request is being made to host 'www.yidaiyilu.gov.cn'. Adding certificate verification is strongly advised. See: https://urllib3.readthedocs.io/en/latest/advanced-usage.html#tls-warnings\n",
            "  warnings.warn(\n"
          ]
        },
        {
          "name": "stdout",
          "output_type": "stream",
          "text": [
            "Downloaded and saved HTML: https://www.yidaiyilu.gov.cn/\n",
            "An error occurred while downloading http://www.shanghaiexpo.org.cn/: ('Connection aborted.', RemoteDisconnected('Remote end closed connection without response'))\n"
          ]
        },
        {
          "name": "stderr",
          "output_type": "stream",
          "text": [
            "/usr/local/lib/python3.10/dist-packages/urllib3/connectionpool.py:1099: InsecureRequestWarning: Unverified HTTPS request is being made to host 'www.mfa.gov.cn'. Adding certificate verification is strongly advised. See: https://urllib3.readthedocs.io/en/latest/advanced-usage.html#tls-warnings\n",
            "  warnings.warn(\n"
          ]
        },
        {
          "name": "stdout",
          "output_type": "stream",
          "text": [
            "Downloaded and saved HTML: http://www.mfa.gov.cn/nanhai/chn/\n",
            "Downloaded and saved HTML: http://sanfrancisco.china-consulate.gov.cn/zhuanti/zgxz/\n",
            "Downloaded and saved HTML: http://sanfrancisco.china-consulate.gov.cn/zhuanti/twwt/\n",
            "Downloaded and saved HTML: http://sanfrancisco.china-consulate.gov.cn/zhuanti/zgxj/\n",
            "Downloaded and saved HTML: http://sanfrancisco.china-consulate.gov.cn/tpxw/\n",
            "Downloaded and saved HTML: http://sanfrancisco.china-consulate.gov.cn/tpxw/\n",
            "Downloaded and saved HTML: http://sanfrancisco.china-consulate.gov.cn/tpxw/202410/t20241002_11502219.htm\n",
            "Downloaded and saved HTML: http://sanfrancisco.china-consulate.gov.cn/tpxw/202409/t20240928_11499598.htm\n",
            "Downloaded and saved HTML: http://sanfrancisco.china-consulate.gov.cn/tpxw/202409/t20240921_11494203.htm\n",
            "Downloaded and saved HTML: http://sanfrancisco.china-consulate.gov.cn/tpxw/202409/t20240904_11484742.htm\n",
            "Downloaded and saved HTML: http://sanfrancisco.china-consulate.gov.cn/tpxw/202410/t20241002_11502219.htm\n",
            "Downloaded and saved HTML: http://sanfrancisco.china-consulate.gov.cn/tpxw/202409/t20240928_11499598.htm\n",
            "Downloaded and saved HTML: http://sanfrancisco.china-consulate.gov.cn/tpxw/202409/t20240921_11494203.htm\n",
            "Downloaded and saved HTML: http://sanfrancisco.china-consulate.gov.cn/tpxw/202409/t20240904_11484742.htm\n",
            "Downloaded and saved HTML: http://sanfrancisco.china-consulate.gov.cn/zlghd/\n",
            "Downloaded and saved HTML: http://sanfrancisco.china-consulate.gov.cn/zlghd/\n",
            "Downloaded and saved HTML: http://sanfrancisco.china-consulate.gov.cn/zlghd/202410/t20241002_11502299.htm\n",
            "Downloaded and saved HTML: http://sanfrancisco.china-consulate.gov.cn/zlghd/202410/t20241002_11502219.htm\n",
            "Downloaded and saved HTML: http://sanfrancisco.china-consulate.gov.cn/zlghd/202409/t20240928_11499598.htm\n",
            "Downloaded and saved HTML: http://sanfrancisco.china-consulate.gov.cn/zlghd/202409/t20240926_11497224.htm\n",
            "Downloaded and saved HTML: http://sanfrancisco.china-consulate.gov.cn/zlghd/202409/t20240921_11494204.htm\n",
            "Downloaded and saved HTML: http://sanfrancisco.china-consulate.gov.cn/lqyw/\n",
            "Downloaded and saved HTML: http://sanfrancisco.china-consulate.gov.cn/lqyw/\n",
            "Downloaded and saved HTML: http://sanfrancisco.china-consulate.gov.cn/lqyw/202409/t20240918_11492109.htm\n",
            "Downloaded and saved HTML: http://sanfrancisco.china-consulate.gov.cn/lqyw/202408/t20240829_11480853.htm\n",
            "Downloaded and saved HTML: http://sanfrancisco.china-consulate.gov.cn/lqyw/202407/t20240703_11446162.htm\n",
            "Downloaded and saved HTML: http://sanfrancisco.china-consulate.gov.cn/lqyw/202401/t20240116_11224630.htm\n",
            "Downloaded and saved HTML: http://sanfrancisco.china-consulate.gov.cn/xw/fyrth/\n",
            "Downloaded and saved HTML: http://sanfrancisco.china-consulate.gov.cn/xw/fyrth/\n",
            "Downloaded and saved HTML: http://sanfrancisco.china-consulate.gov.cn/xw/fyrth/202410/t20241026_11516657.htm\n",
            "Downloaded and saved HTML: http://sanfrancisco.china-consulate.gov.cn/xw/fyrth/202410/t20241025_11516231.htm\n",
            "Downloaded and saved HTML: http://sanfrancisco.china-consulate.gov.cn/xw/fyrth/202410/t20241024_11515518.htm\n",
            "Downloaded and saved HTML: http://sanfrancisco.china-consulate.gov.cn/xw/fyrth/202410/t20241023_11513376.htm\n",
            "Downloaded and saved HTML: http://sanfrancisco.china-consulate.gov.cn/zgxw/\n",
            "Downloaded and saved HTML: http://sanfrancisco.china-consulate.gov.cn/zgxw/\n",
            "Downloaded and saved HTML: http://sanfrancisco.china-consulate.gov.cn/zgxw/202410/t20241027_11516718.htm\n",
            "Downloaded and saved HTML: http://sanfrancisco.china-consulate.gov.cn/zgxw/202410/t20241026_11516622.htm\n",
            "Downloaded and saved HTML: http://sanfrancisco.china-consulate.gov.cn/zgxw/202410/t20241025_11516365.htm\n",
            "Downloaded and saved HTML: http://sanfrancisco.china-consulate.gov.cn/zgxw/202410/t20241025_11515866.htm\n",
            "Downloaded and saved HTML: http://sanfrancisco.china-consulate.gov.cn/zlghd/202410/t20241002_11502299.htm\n",
            "Downloaded and saved HTML: http://sanfrancisco.china-consulate.gov.cn/zlghd/202410/t20241002_11502219.htm\n",
            "Downloaded and saved HTML: http://sanfrancisco.china-consulate.gov.cn/zlghd/202409/t20240928_11499598.htm\n",
            "Downloaded and saved HTML: http://sanfrancisco.china-consulate.gov.cn/zlghd/202409/t20240921_11494203.htm\n",
            "Downloaded and saved HTML: http://sanfrancisco.china-consulate.gov.cn/zlghd/202409/t20240904_11484742.htm\n",
            "Downloaded and saved HTML: http://sanfrancisco.china-consulate.gov.cn/zlghd/202408/t20240802_11465149.htm\n",
            "Downloaded and saved HTML: http://sanfrancisco.china-consulate.gov.cn/tpxw/202407/t20240730_11462719.htm\n",
            "Downloaded and saved HTML: http://sanfrancisco.china-consulate.gov.cn/zlghd/202407/t20240725_11459950.htm\n",
            "Downloaded and saved HTML: http://sanfrancisco.china-consulate.gov.cn/zytz/\n",
            "Downloaded and saved HTML: http://sanfrancisco.china-consulate.gov.cn/lsfw/LSBH1/lsbf/202409/t20240921_11494099.htm\n",
            "Downloaded and saved HTML: http://sanfrancisco.china-consulate.gov.cn/lsfw/LSBH1/lsbf/202409/t20240921_11494099.htm\n",
            "Downloaded and saved HTML: http://sanfrancisco.china-consulate.gov.cn/xgljnew/\n",
            "Downloaded and saved HTML: http://sanfrancisco.china-consulate.gov.cn/xgljnew/\n"
          ]
        },
        {
          "name": "stderr",
          "output_type": "stream",
          "text": [
            "/usr/local/lib/python3.10/dist-packages/urllib3/connectionpool.py:1099: InsecureRequestWarning: Unverified HTTPS request is being made to host 'www.gov.cn'. Adding certificate verification is strongly advised. See: https://urllib3.readthedocs.io/en/latest/advanced-usage.html#tls-warnings\n",
            "  warnings.warn(\n"
          ]
        },
        {
          "name": "stdout",
          "output_type": "stream",
          "text": [
            "Downloaded and saved HTML: http://www.gov.cn\n"
          ]
        },
        {
          "name": "stderr",
          "output_type": "stream",
          "text": [
            "/usr/local/lib/python3.10/dist-packages/urllib3/connectionpool.py:1099: InsecureRequestWarning: Unverified HTTPS request is being made to host 'www.fmprc.gov.cn'. Adding certificate verification is strongly advised. See: https://urllib3.readthedocs.io/en/latest/advanced-usage.html#tls-warnings\n",
            "  warnings.warn(\n"
          ]
        },
        {
          "name": "stdout",
          "output_type": "stream",
          "text": [
            "Downloaded and saved HTML: http://www.fmprc.gov.cn\n",
            "An error occurred while downloading http://www.moe.edu.cn/: HTTPConnectionPool(host='www.moe.edu.cn', port=80): Max retries exceeded with url: / (Caused by ConnectTimeoutError(<urllib3.connection.HTTPConnection object at 0x799a0a19c640>, 'Connection to www.moe.edu.cn timed out. (connect timeout=None)'))\n"
          ]
        },
        {
          "name": "stderr",
          "output_type": "stream",
          "text": [
            "/usr/local/lib/python3.10/dist-packages/urllib3/connectionpool.py:1099: InsecureRequestWarning: Unverified HTTPS request is being made to host 'www.most.gov.cn'. Adding certificate verification is strongly advised. See: https://urllib3.readthedocs.io/en/latest/advanced-usage.html#tls-warnings\n",
            "  warnings.warn(\n"
          ]
        },
        {
          "name": "stdout",
          "output_type": "stream",
          "text": [
            "Downloaded and saved HTML: http://www.most.gov.cn/\n",
            "Downloaded and saved HTML: http://www.mofcom.gov.cn/\n"
          ]
        },
        {
          "name": "stderr",
          "output_type": "stream",
          "text": [
            "/usr/local/lib/python3.10/dist-packages/urllib3/connectionpool.py:1099: InsecureRequestWarning: Unverified HTTPS request is being made to host 'www.mct.gov.cn'. Adding certificate verification is strongly advised. See: https://urllib3.readthedocs.io/en/latest/advanced-usage.html#tls-warnings\n",
            "  warnings.warn(\n"
          ]
        },
        {
          "name": "stdout",
          "output_type": "stream",
          "text": [
            "Failed to download https://www.mct.gov.cn/\n"
          ]
        },
        {
          "name": "stderr",
          "output_type": "stream",
          "text": [
            "/usr/local/lib/python3.10/dist-packages/urllib3/connectionpool.py:1099: InsecureRequestWarning: Unverified HTTPS request is being made to host 'www.gqb.gov.cn'. Adding certificate verification is strongly advised. See: https://urllib3.readthedocs.io/en/latest/advanced-usage.html#tls-warnings\n",
            "  warnings.warn(\n"
          ]
        },
        {
          "name": "stdout",
          "output_type": "stream",
          "text": [
            "Downloaded and saved HTML: http://www.gqb.gov.cn/\n",
            "Downloaded and saved HTML: http://www.gwytb.gov.cn/\n",
            "Failed to download http://www.scio.gov.cn/\n"
          ]
        },
        {
          "name": "stderr",
          "output_type": "stream",
          "text": [
            "/usr/local/lib/python3.10/dist-packages/urllib3/connectionpool.py:1099: InsecureRequestWarning: Unverified HTTPS request is being made to host 'www.fmprc.gov.cn'. Adding certificate verification is strongly advised. See: https://urllib3.readthedocs.io/en/latest/advanced-usage.html#tls-warnings\n",
            "  warnings.warn(\n",
            "/usr/local/lib/python3.10/dist-packages/urllib3/connectionpool.py:1099: InsecureRequestWarning: Unverified HTTPS request is being made to host 'www.mfa.gov.cn'. Adding certificate verification is strongly advised. See: https://urllib3.readthedocs.io/en/latest/advanced-usage.html#tls-warnings\n",
            "  warnings.warn(\n"
          ]
        },
        {
          "name": "stdout",
          "output_type": "stream",
          "text": [
            "Downloaded and saved HTML: http://www.fmprc.gov.cn/chn/pds/xgljwz/t558034.htm\n",
            "Downloaded and saved HTML: http://sanfrancisco.china-consulate.gov.cn/qtzylj/\n",
            "Downloaded and saved HTML: http://sanfrancisco.china-consulate.gov.cn/qtzylj/\n",
            "Downloaded and saved HTML: http://www.chinadiplomacy.org.cn/\n",
            "An error occurred while downloading http://www.gwytb.gov.cn/zccs/zccs_61195/cjtdwgfz: 'gb2312' codec can't decode byte 0x88 in position 1868: illegal multibyte sequence\n",
            "Downloaded and saved HTML: http://cs.mfa.gov.cn/\n",
            "An error occurred while downloading http://www.showchina.org/: HTTPConnectionPool(host='www.showchina.org', port=80): Max retries exceeded with url: / (Caused by ConnectTimeoutError(<urllib3.connection.HTTPConnection object at 0x799a0a641210>, 'Connection to www.showchina.org timed out. (connect timeout=None)'))\n",
            "Downloaded and saved HTML: http://www.china.com.cn/\n",
            "Downloaded and saved HTML: http://www.cnr.cn/\n",
            "Downloaded and saved HTML: http://www.tibet.cn/\n",
            "Failed to download http://www.ts.cn/\n",
            "An error occurred while downloading http://www.cnta.com/: HTTPConnectionPool(host='www.cnta.com', port=80): Max retries exceeded with url: / (Caused by NameResolutionError(\"<urllib3.connection.HTTPConnection object at 0x799a0a0410f0>: Failed to resolve 'www.cnta.com' ([Errno -5] No address associated with hostname)\"))\n",
            "Downloaded and saved HTML: http://cs.mfa.gov.cn/zggmzhw/lsbh/zwbh_660520/t841041.shtml\n",
            "All HTML, DOCX, and PDF files combined into combined_pages_sanfrancisco.china-consulate.gov.cn.html\n",
            "Proximity analysis complete. Results saved in keyword_proximity_results_sanfrancisco.china-consulate.gov.cn.csv\n"
          ]
        }
      ],
      "source": [
        "import requests\n",
        "from bs4 import BeautifulSoup\n",
        "import os\n",
        "import re\n",
        "import csv\n",
        "from docx import Document\n",
        "from PyPDF2 import PdfReader\n",
        "from urllib.parse import urljoin, urlparse\n",
        "from requests.adapters import HTTPAdapter\n",
        "from requests.packages.urllib3.util.retry import Retry\n",
        "import ssl\n",
        "from urllib3.poolmanager import PoolManager\n",
        "import chardet\n",
        "from ftfy import fix_text\n",
        "\n",
        "# Initial setup for the main website URL\n",
        "url = 'http://sanfrancisco.china-consulate.gov.cn'\n",
        "\n",
        "# Step 1: Fetch the main webpage content\n",
        "response = requests.get(url)\n",
        "\n",
        "if response.status_code == 200:\n",
        "    print(\"Successfully fetched the main page!\")\n",
        "    # Detect encoding using chardet\n",
        "    detected_encoding = chardet.detect(response.content)['encoding']\n",
        "    page_content = response.content.decode(detected_encoding)\n",
        "else:\n",
        "    print(f\"Failed to retrieve the main page. Status code: {response.status_code}\")\n",
        "\n",
        "# Step 2: Parse the main page to find all subpage links\n",
        "soup = BeautifulSoup(page_content, \"html.parser\")\n",
        "links = soup.find_all('a', href=True)\n",
        "\n",
        "# Step 3: Store subpage URLs in a list\n",
        "subpage_urls = []\n",
        "for link in links:\n",
        "    href = link['href']\n",
        "    full_url = urljoin(url, href)\n",
        "    parsed_url = urlparse(full_url)\n",
        "\n",
        "    # Only add URLs with HTTP or HTTPS schemes\n",
        "    if parsed_url.scheme in ['http', 'https']:\n",
        "        subpage_urls.append(full_url)\n",
        "\n",
        "# Step 4: Configure session with retries and SSL/TLS context handling\n",
        "retries = Retry(total=5, backoff_factor=0.3, status_forcelist=[500, 502, 503, 504])\n",
        "\n",
        "class TLSAdapter(HTTPAdapter):\n",
        "    def init_poolmanager(self, *args, **kwargs):\n",
        "        context = ssl.create_default_context(ssl.Purpose.CLIENT_AUTH)\n",
        "        context.options |= ssl.OP_NO_TLSv1 | ssl.OP_NO_TLSv1_1  # Force TLSv1.2 or higher\n",
        "        kwargs['ssl_context'] = context\n",
        "        return super(TLSAdapter, self).init_poolmanager(*args, **kwargs)\n",
        "\n",
        "# Set up session\n",
        "session = requests.Session()\n",
        "session.mount('https://', TLSAdapter())\n",
        "session.mount('https://', HTTPAdapter(max_retries=retries))\n",
        "\n",
        "# Step 5: Download and handle each subpage content\n",
        "downloaded_html_files = []\n",
        "docx_texts = []\n",
        "pdf_texts = []\n",
        "\n",
        "for subpage_url in subpage_urls:\n",
        "    try:\n",
        "        subpage_response = session.get(subpage_url, verify=False)\n",
        "\n",
        "        if subpage_response.status_code == 200:\n",
        "            content_type = subpage_response.headers['Content-Type']\n",
        "\n",
        "            if 'text/html' in content_type:\n",
        "                subpage_name = subpage_url.split(\"/\")[-1] or 'index'\n",
        "                if not subpage_name.endswith('.html'):\n",
        "                    file_name = f\"{subpage_name}.html\"\n",
        "                else:\n",
        "                    file_name = subpage_name\n",
        "\n",
        "                # Detect encoding of subpage content\n",
        "                detected_encoding = chardet.detect(subpage_response.content)['encoding']\n",
        "                subpage_content = subpage_response.content.decode(detected_encoding)\n",
        "                fixed_subpage_content = fix_text(subpage_content)\n",
        "\n",
        "                with open(file_name, \"w\", encoding=\"utf-8\") as f:\n",
        "                    f.write(fixed_subpage_content)\n",
        "                downloaded_html_files.append(file_name)\n",
        "                print(f\"Downloaded and saved HTML: {subpage_url}\")\n",
        "            elif 'application/vnd.openxmlformats-officedocument.wordprocessingml.document' in content_type:\n",
        "                docx_file_name = subpage_url.split(\"/\")[-1]\n",
        "                with open(docx_file_name, \"wb\") as f:\n",
        "                    f.write(subpage_response.content)\n",
        "                doc = Document(docx_file_name)\n",
        "                docx_text = \"\\n\".join([para.text for para in doc.paragraphs])\n",
        "                docx_texts.append(docx_text)\n",
        "                print(f\"Downloaded and extracted DOCX: {subpage_url}\")\n",
        "            elif 'application/pdf' in content_type:\n",
        "                pdf_file_name = subpage_url.split(\"/\")[-1]\n",
        "                with open(pdf_file_name, \"wb\") as f:\n",
        "                    f.write(subpage_response.content)\n",
        "                pdf_reader = PdfReader(pdf_file_name)\n",
        "                pdf_text = \"\"\n",
        "                for page in pdf_reader.pages:\n",
        "                    pdf_text += page.extract_text()\n",
        "                pdf_texts.append(pdf_text)\n",
        "                print(f\"Downloaded and extracted PDF: {subpage_url}\")\n",
        "            else:\n",
        "                print(f\"Skipping non-HTML, non-DOCX, non-PDF content: {subpage_url}\")\n",
        "        else:\n",
        "            print(f\"Failed to download {subpage_url}\")\n",
        "    except requests.exceptions.SSLError as e:\n",
        "        print(f\"SSL error occurred while downloading {subpage_url}: {e}\")\n",
        "    except Exception as e:\n",
        "        print(f\"An error occurred while downloading {subpage_url}: {e}\")\n",
        "\n",
        "# Step 6: Combine all HTML, DOCX, and PDF files into a single file\n",
        "combined_file = \"combined_pages_sanfrancisco.china-consulate.gov.cn.html\"\n",
        "with open(combined_file, \"w\", encoding=\"utf-8\") as outfile:\n",
        "    # Combine HTML files\n",
        "    for file_name in downloaded_html_files:\n",
        "        if os.path.exists(file_name):\n",
        "            with open(file_name, \"r\", encoding=\"utf-8\") as infile:\n",
        "                outfile.write(infile.read())\n",
        "                outfile.write(\"\\n\\n\")\n",
        "    # Combine DOCX text\n",
        "    for docx_text in docx_texts:\n",
        "        outfile.write(docx_text)\n",
        "        outfile.write(\"\\n\\n\")\n",
        "    # Combine PDF text\n",
        "    for pdf_text in pdf_texts:\n",
        "        outfile.write(pdf_text)\n",
        "        outfile.write(\"\\n\\n\")\n",
        "\n",
        "print(f\"All HTML, DOCX, and PDF files combined into {combined_file}\")\n",
        "\n",
        "# Step 7: Extract text and search for specific Chinese strings\n",
        "chinese_strings = [ \"休斯顿和统会\", \"佛罗里达和统会\", \"侨联之友\", \"俄勒冈统促会\", \"全球华人反邪教联盟\",\n",
        "    \"全美中国和平统一促进联合会\", \"全美反独促统联盟\", \"关岛和统会\", \"凤凰城和统会\", \"加州中谷和统会\",\n",
        "    \"加州首府和统会\", \"北京同乡会\", \"北加州和统会\", \"北美统促联合总会\", \"华夏政略研究会\",\n",
        "    \"华盛顿中国和平统一促进会\", \"华盛顿华人社区联盟\", \"华盛顿州中国统一促进会\", \"南加台山联谊会\",\n",
        "    \"南加州中国和平统一促进会联盟\", \"南加州促统论坛\", \"南加华人华侨联合总会\", \"圣地亚戈统促会\",\n",
        "    \"大华府象屿联谊会\", \"大波士顿和统会\", \"大洛杉矶中国统一促进会\", \"大纽约学生学者联谊会\",\n",
        "    \"大纽约统促会\", \"大芝加哥中国和平统一促进会\", \"大费城亚裔狮子会\", \"大费城侨学界华人社团联席会议\",\n",
        "    \"大费城华侨公会\", \"大费城统促会\", \"大费城长乐公会\", \"宾州和统会\", \"宾州福建同乡会\",\n",
        "    \"德州和统会\", \"德拉瓦和统会\", \"拉斯维加斯和统会\", \"新泽西和统会\", \"旧金山湾区统促会\",\n",
        "    \"波士顿和统会\", \"波特兰统促会\", \"洛杉矶华埠大联盟\", \"溫州同乡会\", \"纽约至孝督亲公所\",\n",
        "    \"纽约华人社团联席会\", \"纽约和统会\", \"罗省中华会馆\", \"美东华人社团联合总会\",\n",
        "    \"美东南福建同乡会\", \"美中友好促进会\", \"美中友好協会\", \"美中和平友好促进会\",\n",
        "    \"美中经济文化发展促进会\", \"美京统促会\", \"美华友好促统会\", \"美华总商会\", \"美国香港总商会\",\n",
        "    \"美国中华妇女联合会\", \"美国中国总商会\", \"美国亚洲人商会\", \"美国亚裔社团联合总会\",\n",
        "    \"美国侨学界社团联席会\", \"美国华人华侨联合总会\", \"美华侨\", \"美国华人华侨联谊会\",\n",
        "    \"美国华人社团联会总会\", \"美国华人联盟\", \"美国华州中国统一促进会\", \"美国宾州中国和平统一促进会\",\n",
        "    \"美国广西侨胞联合会\", \"美国福州十邑同乡会\", \"美国福建会馆\", \"美国福建侨联总会\",\n",
        "    \"美国福建同乡会\", \"美國福建同鄉會\", \"美国福建妇女友好联盟总会\", \"美国福建猴屿联谊会\",\n",
        "    \"美国连江同乡会\", \"美国长乐社团联盟总会\", \"美国闽台总商会\", \"美國大唐會館\", \"美国大唐会馆\",\n",
        "    \"美國福建會館\", \"美國廣州同學聯合總會\", \"美国广州同学联合总会\", \"美國美中文化交流促進會\",\n",
        "    \"美国美中文化交流促进会\", \"美洲中国统一促进会联合总会\", \"美洲青年和统会\", \"美西和统会\",\n",
        "    \"芝加哥一中会\", \"芝加哥统促会\", \"西雅图统促会\", \"费城东安公所\", \"费城崇正会\",\n",
        "    \"费城福建同乡会\", \"费城福建同乡联合会\", \"费城鹤山公所\", \"达拉斯和统会\", \"习近平指出\",\n",
        "    \"中国和平统一促进会\", \"中国和平统一促进联合会\", \"中国统一促进会\", \"中国统一促进会联合总会\",\n",
        "    \"会馆\", \"促统会\", \"促统联盟\", \"促统论坛\", \"华人社团联席会议\", \"友好促统会\",\n",
        "    \"同乡会\", \"和统会\", \"大聯盟\", \"总商会\", \"统促会\", \"统促进会联合会\",\n",
        "    \"联总会\", \"联谊会\", \"联合总会\", \"华人华侨联合总会\", \"华人华侨联会\",\n",
        "    \"休斯顿中国和平统一促进会\", \"全美统促进会联合会\", \"华盛顿和统会\", \"华盛顿统促会\",\n",
        "    \"南加统促联盟\", \"南加促统论坛\", \"纽约中国和平统一促进会\", \"芝加哥和统会\",\n",
        "    \"中国和平统一促进会\", \"促统会\", \"促統會\",\n",
        "    \"中华全国归国华侨联合会\", \"侨联\", \"僑聯\",\n",
        "    \"驻芝加哥总领事馆\", \"驻芝加哥总领馆\",\n",
        "    \"驻纽约总领事馆\", \"驻纽约总领馆\",\n",
        "    \"驻洛杉矶总领事馆\", \"驻洛杉矶总领馆\",\n",
        "    \"中国驻美国大使馆\",\n",
        "    \"中国共产党中央委员会统一战线工作部\", \"中央统战部\", \"统一战线工作部\", \"统战部\", \"统战\",\n",
        "    \"中共中央台湾工作办公室\", \"台湾工作办公室\", \"国务院台湾事务办公室\", \"国台办\", \"台湾事务办公室\",\n",
        "    \"国务院侨务办公室\", \"国侨办\", \"国务院侨办\",\n",
        "    \"福建省侨联\",\n",
        "    \"中国共产党中央委员会对外联络部\", \"中央对外联络部\",\n",
        "    \"国家互联网信息办公室\", \"中央网络安全和信息化委员会办公室\", \"中央网信办\",\n",
        "    \"人民政協\", \"中国人民政治协商会议\", \"政协\",\n",
        "    \"全国人民代表大会\", \"全国人大\",\n",
        "    \"全国人大华侨委员会\",\n",
        "    \"中华人民共和国外交部\", \"中国外交部\", \"外交部\",\n",
        "    \"国务院\",\n",
        "    \"国务院新闻办公室\",\n",
        "    \"工业和信息化部\", \"工信部\",\n",
        "    \"台灣自主同盟\", \"台湾自主同盟\",\n",
        "    \"中国国际贸易促进委员会\", \"贸促会\",\n",
        "    \"致公党\",\n",
        "    \"中国侨商联合会\"]\n",
        "def extract_text_from_html(html_content):\n",
        "    soup = BeautifulSoup(html_content, \"html.parser\")\n",
        "    for script_or_style in soup(['script', 'style']):\n",
        "        script_or_style.decompose()\n",
        "    text = soup.get_text(separator=' ', strip=True)\n",
        "    return re.sub(r'\\s+', ' ', text)\n",
        "\n",
        "with open(combined_file, \"r\", encoding=\"utf-8\") as combined:\n",
        "    content = combined.read()\n",
        "\n",
        "readable_text = extract_text_from_html(content)\n",
        "\n",
        "# Step 8: Keyword search and proximity analysis\n",
        "keyword_positions = {}\n",
        "for keyword in chinese_strings:\n",
        "    matches = [m.start() for m in re.finditer(re.escape(keyword), readable_text)]\n",
        "    if matches:\n",
        "        keyword_positions[keyword] = matches\n",
        "\n",
        "def calculate_word_distance(pos1, pos2, text):\n",
        "    between_text = text[min(pos1, pos2):max(pos1, pos2)]\n",
        "    words_between = between_text.split()\n",
        "    return len(words_between)\n",
        "\n",
        "# Count occurrences of each keyword pair\n",
        "proximity_data = []\n",
        "keyword_pair_count = {}\n",
        "\n",
        "for i, keyword1 in enumerate(chinese_strings):\n",
        "    for j, keyword2 in enumerate(chinese_strings):\n",
        "        if i < j and keyword1 in keyword_positions and keyword2 in keyword_positions:\n",
        "            for pos1 in keyword_positions[keyword1]:\n",
        "                for pos2 in keyword_positions[keyword2]:\n",
        "                    distance = calculate_word_distance(pos1, pos2, readable_text)\n",
        "                    if distance <= 1000:\n",
        "                        proximity_data.append([keyword1, keyword2, distance])\n",
        "                        pair_key = (keyword1, keyword2)\n",
        "                        if pair_key in keyword_pair_count:\n",
        "                            keyword_pair_count[pair_key] += 1\n",
        "                        else:\n",
        "                            keyword_pair_count[pair_key] = 1\n",
        "\n",
        "# Save results to CSV\n",
        "csv_file_path = 'keyword_proximity_results_sanfrancisco.china-consulate.gov.cn.csv'\n",
        "with open(csv_file_path, mode='w', newline='', encoding='utf-8') as file:\n",
        "    writer = csv.writer(file)\n",
        "    writer.writerow([\"Keyword 1\", \"Keyword 2\", \"Word Distance\", \"Occurrences\"])\n",
        "    for row in proximity_data:\n",
        "        keyword1, keyword2, distance = row\n",
        "        occurrences = keyword_pair_count.get((keyword1, keyword2), 0)\n",
        "        writer.writerow([keyword1, keyword2, distance, occurrences])\n",
        "\n",
        "print(f\"Proximity analysis complete. Results saved in {csv_file_path}\")\n"
      ]
    },
    {
      "cell_type": "code",
      "execution_count": null,
      "metadata": {
        "id": "j9akaMSrBcNI"
      },
      "outputs": [],
      "source": [
        "import pandas as pd\n",
        "df = pd.read_csv(\"keyword_proximity_results_sanfrancisco.china-consulate.gov.cn.csv\")\n",
        "mdf = df.groupby([\"Keyword 1\", \"Keyword 2\"]).mean()\n",
        "mdf.sort_values(by=\"Word Distance\", ascending=True).tail(100)\n",
        "mdf.sort_values(by=\"Word Distance\", ascending=True).to_csv(\"sanfrancisco.china-consulate.gov.cn.csv\")"
      ]
    },
    {
      "cell_type": "markdown",
      "source": [
        "http://losangeles.china-consulate.gov.cn/"
      ],
      "metadata": {
        "id": "5sVM68zV6p_z"
      }
    },
    {
      "cell_type": "code",
      "execution_count": null,
      "metadata": {
        "colab": {
          "base_uri": "https://localhost:8080/"
        },
        "id": "dFc2cb7xB5N7",
        "outputId": "f745bb92-bde5-425b-ce13-799b0989547a"
      },
      "outputs": [
        {
          "output_type": "stream",
          "name": "stdout",
          "text": [
            "Successfully fetched the main page!\n"
          ]
        },
        {
          "output_type": "stream",
          "name": "stderr",
          "text": [
            "<ipython-input-5-b562c0abaa15>:51: DeprecationWarning: ssl.OP_NO_SSL*/ssl.OP_NO_TLS* options are deprecated\n",
            "  context.options |= ssl.OP_NO_TLSv1 | ssl.OP_NO_TLSv1_1  # Force TLSv1.2 or higher\n"
          ]
        },
        {
          "output_type": "stream",
          "name": "stdout",
          "text": [
            "Downloaded and saved HTML: http://losangeles.china-consulate.gov.cn/chn\n",
            "Downloaded and saved HTML: http://losangeles.china-consulate.gov.cn/eng\n",
            "Downloaded and saved HTML: http://losangeles.china-consulate.gov.cn/\n",
            "Downloaded and saved HTML: http://losangeles.china-consulate.gov.cn/zlsxx/\n",
            "Downloaded and saved HTML: http://losangeles.china-consulate.gov.cn/zlsxx/hyc/\n",
            "Downloaded and saved HTML: http://losangeles.china-consulate.gov.cn/zlsxx/jl/\n",
            "Downloaded and saved HTML: http://losangeles.china-consulate.gov.cn/zlsxx/jhjwz/\n",
            "Downloaded and saved HTML: http://losangeles.china-consulate.gov.cn/zlsxx/lrzls/\n",
            "Downloaded and saved HTML: http://losangeles.china-consulate.gov.cn/lbqw/\n",
            "An error occurred while downloading http://losangeles.mofcom.gov.cn/: ('Connection aborted.', ConnectionResetError(104, 'Connection reset by peer'))\n",
            "Downloaded and saved HTML: http://losangeles.china-consulate.gov.cn/kjsw/\n",
            "Downloaded and saved HTML: http://losangeles.china-consulate.gov.cn/kjsw/zyzn/\n",
            "Downloaded and saved HTML: http://losangeles.china-consulate.gov.cn/kjsw/jldt/\n",
            "Downloaded and saved HTML: http://losangeles.china-consulate.gov.cn/kjsw/kjhz/\n",
            "Downloaded and saved HTML: http://losangeles.china-consulate.gov.cn/kjsw/zcfg/\n",
            "Downloaded and saved HTML: http://losangeles.china-consulate.gov.cn/kjsw/fcjl/\n",
            "Downloaded and saved HTML: http://losangeles.china-consulate.gov.cn/kjsw/kjjg/\n",
            "Downloaded and saved HTML: http://losangeles.china-consulate.gov.cn/kjsw/dfhz/\n",
            "Downloaded and saved HTML: http://losangeles.china-consulate.gov.cn/kjsw/kjlj/\n"
          ]
        },
        {
          "output_type": "stream",
          "name": "stderr",
          "text": [
            "WARNING:urllib3.connectionpool:Retrying (Retry(total=4, connect=None, read=None, redirect=None, status=None)) after connection broken by 'SSLError(SSLError(1, '[SSL: UNSAFE_LEGACY_RENEGOTIATION_DISABLED] unsafe legacy renegotiation disabled (_ssl.c:1007)'))': /\n",
            "WARNING:urllib3.connectionpool:Retrying (Retry(total=3, connect=None, read=None, redirect=None, status=None)) after connection broken by 'SSLError(SSLError(1, '[SSL: UNSAFE_LEGACY_RENEGOTIATION_DISABLED] unsafe legacy renegotiation disabled (_ssl.c:1007)'))': /\n",
            "WARNING:urllib3.connectionpool:Retrying (Retry(total=2, connect=None, read=None, redirect=None, status=None)) after connection broken by 'SSLError(SSLError(1, '[SSL: UNSAFE_LEGACY_RENEGOTIATION_DISABLED] unsafe legacy renegotiation disabled (_ssl.c:1007)'))': /\n",
            "WARNING:urllib3.connectionpool:Retrying (Retry(total=1, connect=None, read=None, redirect=None, status=None)) after connection broken by 'SSLError(SSLError(1, '[SSL: UNSAFE_LEGACY_RENEGOTIATION_DISABLED] unsafe legacy renegotiation disabled (_ssl.c:1007)'))': /\n",
            "WARNING:urllib3.connectionpool:Retrying (Retry(total=0, connect=None, read=None, redirect=None, status=None)) after connection broken by 'SSLError(SSLError(1, '[SSL: UNSAFE_LEGACY_RENEGOTIATION_DISABLED] unsafe legacy renegotiation disabled (_ssl.c:1007)'))': /\n"
          ]
        },
        {
          "output_type": "stream",
          "name": "stdout",
          "text": [
            "SSL error occurred while downloading http://losangeles.lxgz.org.cn/: HTTPSConnectionPool(host='losangeles.lxgz.org.cn', port=443): Max retries exceeded with url: / (Caused by SSLError(SSLError(1, '[SSL: UNSAFE_LEGACY_RENEGOTIATION_DISABLED] unsafe legacy renegotiation disabled (_ssl.c:1007)')))\n",
            "Downloaded and saved HTML: http://losangeles.china-consulate.gov.cn/whsw/\n",
            "Downloaded and saved HTML: http://losangeles.china-consulate.gov.cn/whsw/zyzn/\n",
            "Downloaded and saved HTML: http://losangeles.china-consulate.gov.cn/whsw/jldt/\n",
            "Downloaded and saved HTML: http://losangeles.china-consulate.gov.cn/whsw/whlj/\n",
            "Downloaded and saved HTML: http://losangeles.china-consulate.gov.cn/mtfw/\n",
            "Downloaded and saved HTML: http://losangeles.china-consulate.gov.cn/mtfw/zyzn/\n",
            "Downloaded and saved HTML: http://losangeles.china-consulate.gov.cn/mtfw/fyrth/\n",
            "Downloaded and saved HTML: http://losangeles.china-consulate.gov.cn/mtfw/mttw/\n",
            "Downloaded and saved HTML: http://losangeles.china-consulate.gov.cn/mtfw/fhcf/\n",
            "Downloaded and saved HTML: http://losangeles.china-consulate.gov.cn/mtfw/zcfg/\n",
            "Downloaded and saved HTML: http://losangeles.china-consulate.gov.cn/mtfw/xwzhy/\n",
            "Downloaded and saved HTML: http://losangeles.china-consulate.gov.cn/gywm/\n",
            "Downloaded and saved HTML: http://losangeles.china-consulate.gov.cn/gywm/bglq/\n",
            "Downloaded and saved HTML: http://losangeles.china-consulate.gov.cn/gywm/fjap/\n",
            "Downloaded and saved HTML: http://losangeles.china-consulate.gov.cn/gywm/lxwm/\n",
            "Downloaded and saved HTML: http://losangeles.china-consulate.gov.cn/gdxw/202311/t20231104_11174000.htm\n",
            "Downloaded and saved HTML: http://losangeles.china-consulate.gov.cn/gdxw/202310/t20231025_11167609.htm\n",
            "Downloaded and saved HTML: http://losangeles.china-consulate.gov.cn/gdxw/202310/t20231024_11166575.htm\n",
            "Downloaded and saved HTML: http://losangeles.china-consulate.gov.cn/gdxw/202408/t20240814_11472134.htm\n",
            "Downloaded and saved HTML: http://losangeles.china-consulate.gov.cn/gdxw/202404/t20240423_11286494.htm\n",
            "Downloaded and saved HTML: http://losangeles.china-consulate.gov.cn/zlgxw/202409/t20240921_11494189.htm\n",
            "Downloaded and saved HTML: http://losangeles.china-consulate.gov.cn/zlgxw/202410/t20241019_11510348.htm\n",
            "Downloaded and saved HTML: http://losangeles.china-consulate.gov.cn/zlgxw/202408/t20240813_11471401.htm\n",
            "Downloaded and saved HTML: http://losangeles.china-consulate.gov.cn/zlgxw/202408/t20240810_11469113.htm\n",
            "Downloaded and saved HTML: http://losangeles.china-consulate.gov.cn/zlgxw/202408/t20240810_11469112.htm\n",
            "Downloaded and saved HTML: http://losangeles.china-consulate.gov.cn/\n",
            "Downloaded and saved HTML: http://losangeles.china-consulate.gov.cn/zlgxw/\n",
            "Downloaded and saved HTML: http://losangeles.china-consulate.gov.cn/zlgxw/202409/t20240921_11494189.htm\n",
            "Downloaded and saved HTML: http://losangeles.china-consulate.gov.cn/zlgxw/202409/t20240921_11494189.htm\n",
            "Downloaded and saved HTML: http://losangeles.china-consulate.gov.cn/zlgxw/202410/t20241019_11510348.htm\n",
            "Downloaded and saved HTML: http://losangeles.china-consulate.gov.cn/zlgxw/202409/t20240919_11492735.htm\n",
            "Downloaded and saved HTML: http://losangeles.china-consulate.gov.cn/zlgxw/202408/t20240813_11471401.htm\n",
            "Downloaded and saved HTML: http://losangeles.china-consulate.gov.cn/zlgxw/202408/t20240810_11469113.htm\n",
            "Downloaded and saved HTML: http://losangeles.china-consulate.gov.cn/zlgxw/202408/t20240810_11469112.htm\n",
            "Downloaded and saved HTML: http://losangeles.china-consulate.gov.cn/tzgg/\n",
            "Downloaded and saved HTML: http://losangeles.china-consulate.gov.cn/tzgg/202410/t20241012_11505931.htm\n",
            "Downloaded and saved HTML: http://losangeles.china-consulate.gov.cn/tzgg/202410/t20241012_11505930.htm\n",
            "Downloaded and saved HTML: http://losangeles.china-consulate.gov.cn/tzgg/202409/t20240918_11492142.htm\n",
            "Downloaded and saved HTML: http://losangeles.china-consulate.gov.cn/tzgg/202409/t20240918_11492138.htm\n",
            "Downloaded and saved HTML: http://losangeles.china-consulate.gov.cn/tzgg/202409/t20240917_11491751.htm\n",
            "Downloaded and saved HTML: http://losangeles.china-consulate.gov.cn/lbyj/\n",
            "Downloaded and saved HTML: http://losangeles.china-consulate.gov.cn/lbyj/202410/t20241009_11504102.htm\n",
            "Downloaded and saved HTML: http://losangeles.china-consulate.gov.cn/lbyj/202410/t20241026_11516537.htm\n",
            "Downloaded and saved HTML: http://losangeles.china-consulate.gov.cn/lbyj/202408/t20240823_11478425.htm\n",
            "Downloaded and saved HTML: http://losangeles.china-consulate.gov.cn/lbyj/202410/t20241015_11507475.htm\n",
            "Downloaded and saved HTML: http://losangeles.china-consulate.gov.cn/lbyj/202409/t20240926_11497441.htm\n",
            "Downloaded and saved HTML: http://losangeles.china-consulate.gov.cn/zgxw/\n",
            "Downloaded and saved HTML: http://losangeles.china-consulate.gov.cn/zgxw/202410/t20241027_11516718.htm\n",
            "Downloaded and saved HTML: http://losangeles.china-consulate.gov.cn/zgxw/202410/t20241026_11516622.htm\n",
            "Downloaded and saved HTML: http://losangeles.china-consulate.gov.cn/zgxw/202410/t20241025_11516365.htm\n",
            "Downloaded and saved HTML: http://losangeles.china-consulate.gov.cn/zgxw/202410/t20241025_11515866.htm\n",
            "Downloaded and saved HTML: http://losangeles.china-consulate.gov.cn/zgxw/202410/t20241024_11515637.htm\n",
            "Downloaded and saved HTML: http://losangeles.china-consulate.gov.cn/zgxw/202410/t20241024_11515631.htm\n",
            "Downloaded and saved HTML: http://losangeles.china-consulate.gov.cn/zgxw/202410/t20241024_11515585.htm\n",
            "Downloaded and saved HTML: http://losangeles.china-consulate.gov.cn/zgxw/202410/t20241024_11515473.htm\n",
            "Downloaded and saved HTML: http://losangeles.china-consulate.gov.cn/zgxw/202410/t20241024_11515101.htm\n",
            "Downloaded and saved HTML: http://losangeles.china-consulate.gov.cn/lqgk/jlfnyz/\n",
            "Downloaded and saved HTML: http://losangeles.china-consulate.gov.cn/lqgk/ylsnz/\n",
            "Downloaded and saved HTML: http://losangeles.china-consulate.gov.cn/lqgk/xmxgz/\n",
            "Downloaded and saved HTML: http://losangeles.china-consulate.gov.cn/lqgk/xwyz/\n",
            "Downloaded and saved HTML: http://losangeles.china-consulate.gov.cn/lqgk/gd/\n",
            "Downloaded and saved HTML: http://losangeles.china-consulate.gov.cn/lqgk/bmlynqdlb/\n",
            "Downloaded and saved HTML: http://losangeles.china-consulate.gov.cn/lqgk/mssmy/\n",
            "Downloaded and saved HTML: http://losangeles.china-consulate.gov.cn/zlsxx/hyc/202302/t20230203_11018971.htm\n"
          ]
        },
        {
          "output_type": "stream",
          "name": "stderr",
          "text": [
            "/usr/local/lib/python3.10/dist-packages/urllib3/connectionpool.py:1099: InsecureRequestWarning: Unverified HTTPS request is being made to host 'www.gov.cn'. Adding certificate verification is strongly advised. See: https://urllib3.readthedocs.io/en/latest/advanced-usage.html#tls-warnings\n",
            "  warnings.warn(\n"
          ]
        },
        {
          "output_type": "stream",
          "name": "stdout",
          "text": [
            "Downloaded and saved HTML: http://www.gov.cn/zhuanti/zggcddescqgdbdh/index.htm\n",
            "Downloaded and saved HTML: http://www.gov.cn/zhuanti/zggcddescqgdbdh/index.htm\n"
          ]
        },
        {
          "output_type": "stream",
          "name": "stderr",
          "text": [
            "/usr/local/lib/python3.10/dist-packages/urllib3/connectionpool.py:1099: InsecureRequestWarning: Unverified HTTPS request is being made to host 'www.gov.cn'. Adding certificate verification is strongly advised. See: https://urllib3.readthedocs.io/en/latest/advanced-usage.html#tls-warnings\n",
            "  warnings.warn(\n",
            "/usr/local/lib/python3.10/dist-packages/urllib3/connectionpool.py:1099: InsecureRequestWarning: Unverified HTTPS request is being made to host 'www.mfa.gov.cn'. Adding certificate verification is strongly advised. See: https://urllib3.readthedocs.io/en/latest/advanced-usage.html#tls-warnings\n",
            "  warnings.warn(\n"
          ]
        },
        {
          "output_type": "stream",
          "name": "stdout",
          "text": [
            "Downloaded and saved HTML: https://www.mfa.gov.cn/web/ziliao_674904/zt_674979/dnzt_674981/qtzt/ddzggcd/\n"
          ]
        },
        {
          "output_type": "stream",
          "name": "stderr",
          "text": [
            "/usr/local/lib/python3.10/dist-packages/urllib3/connectionpool.py:1099: InsecureRequestWarning: Unverified HTTPS request is being made to host 'www.mfa.gov.cn'. Adding certificate verification is strongly advised. See: https://urllib3.readthedocs.io/en/latest/advanced-usage.html#tls-warnings\n",
            "  warnings.warn(\n"
          ]
        },
        {
          "output_type": "stream",
          "name": "stdout",
          "text": [
            "Downloaded and saved HTML: https://www.mfa.gov.cn/web/ziliao_674904/zt_674979/dnzt_674981/qtzt/ddzggcd/\n"
          ]
        },
        {
          "output_type": "stream",
          "name": "stderr",
          "text": [
            "/usr/local/lib/python3.10/dist-packages/urllib3/connectionpool.py:1099: InsecureRequestWarning: Unverified HTTPS request is being made to host 'www.ciie.org'. Adding certificate verification is strongly advised. See: https://urllib3.readthedocs.io/en/latest/advanced-usage.html#tls-warnings\n",
            "  warnings.warn(\n",
            "WARNING:urllib3.connectionpool:Retrying (Retry(total=4, connect=None, read=None, redirect=None, status=None)) after connection broken by 'RemoteDisconnected('Remote end closed connection without response')': /\n",
            "WARNING:urllib3.connectionpool:Retrying (Retry(total=3, connect=None, read=None, redirect=None, status=None)) after connection broken by 'ConnectTimeoutError(<urllib3.connection.HTTPSConnection object at 0x7b3f5503d600>, 'Connection to www.ciie.org timed out. (connect timeout=None)')': /\n",
            "WARNING:urllib3.connectionpool:Retrying (Retry(total=2, connect=None, read=None, redirect=None, status=None)) after connection broken by 'ConnectTimeoutError(<urllib3.connection.HTTPSConnection object at 0x7b3f5503d840>, 'Connection to www.ciie.org timed out. (connect timeout=None)')': /\n",
            "WARNING:urllib3.connectionpool:Retrying (Retry(total=1, connect=None, read=None, redirect=None, status=None)) after connection broken by 'ConnectTimeoutError(<urllib3.connection.HTTPSConnection object at 0x7b3f5503ebf0>, 'Connection to www.ciie.org timed out. (connect timeout=None)')': /\n",
            "/usr/local/lib/python3.10/dist-packages/urllib3/connectionpool.py:1099: InsecureRequestWarning: Unverified HTTPS request is being made to host 'www.ciie.org'. Adding certificate verification is strongly advised. See: https://urllib3.readthedocs.io/en/latest/advanced-usage.html#tls-warnings\n",
            "  warnings.warn(\n",
            "WARNING:urllib3.connectionpool:Retrying (Retry(total=0, connect=None, read=None, redirect=None, status=None)) after connection broken by 'RemoteDisconnected('Remote end closed connection without response')': /\n"
          ]
        },
        {
          "output_type": "stream",
          "name": "stdout",
          "text": [
            "An error occurred while downloading https://www.ciie.org/: HTTPSConnectionPool(host='www.ciie.org', port=443): Max retries exceeded with url: / (Caused by ConnectTimeoutError(<urllib3.connection.HTTPSConnection object at 0x7b3f5503d180>, 'Connection to www.ciie.org timed out. (connect timeout=None)'))\n"
          ]
        },
        {
          "output_type": "stream",
          "name": "stderr",
          "text": [
            "WARNING:urllib3.connectionpool:Retrying (Retry(total=4, connect=None, read=None, redirect=None, status=None)) after connection broken by 'ConnectTimeoutError(<urllib3.connection.HTTPSConnection object at 0x7b3f5503ed70>, 'Connection to www.ciie.org timed out. (connect timeout=None)')': /\n",
            "WARNING:urllib3.connectionpool:Retrying (Retry(total=3, connect=None, read=None, redirect=None, status=None)) after connection broken by 'ConnectTimeoutError(<urllib3.connection.HTTPSConnection object at 0x7b3f5503ca60>, 'Connection to www.ciie.org timed out. (connect timeout=None)')': /\n",
            "/usr/local/lib/python3.10/dist-packages/urllib3/connectionpool.py:1099: InsecureRequestWarning: Unverified HTTPS request is being made to host 'www.ciie.org'. Adding certificate verification is strongly advised. See: https://urllib3.readthedocs.io/en/latest/advanced-usage.html#tls-warnings\n",
            "  warnings.warn(\n",
            "WARNING:urllib3.connectionpool:Retrying (Retry(total=2, connect=None, read=None, redirect=None, status=None)) after connection broken by 'RemoteDisconnected('Remote end closed connection without response')': /\n",
            "WARNING:urllib3.connectionpool:Retrying (Retry(total=1, connect=None, read=None, redirect=None, status=None)) after connection broken by 'ConnectTimeoutError(<urllib3.connection.HTTPSConnection object at 0x7b3f5503efb0>, 'Connection to www.ciie.org timed out. (connect timeout=None)')': /\n",
            "WARNING:urllib3.connectionpool:Retrying (Retry(total=0, connect=None, read=None, redirect=None, status=None)) after connection broken by 'ConnectTimeoutError(<urllib3.connection.HTTPSConnection object at 0x7b3f5503d810>, 'Connection to www.ciie.org timed out. (connect timeout=None)')': /\n"
          ]
        },
        {
          "output_type": "stream",
          "name": "stdout",
          "text": [
            "An error occurred while downloading https://www.ciie.org/: HTTPSConnectionPool(host='www.ciie.org', port=443): Max retries exceeded with url: / (Caused by ConnectTimeoutError(<urllib3.connection.HTTPSConnection object at 0x7b3f5503de70>, 'Connection to www.ciie.org timed out. (connect timeout=None)'))\n"
          ]
        },
        {
          "output_type": "stream",
          "name": "stderr",
          "text": [
            "/usr/local/lib/python3.10/dist-packages/urllib3/connectionpool.py:1099: InsecureRequestWarning: Unverified HTTPS request is being made to host 'www.guancha.cn'. Adding certificate verification is strongly advised. See: https://urllib3.readthedocs.io/en/latest/advanced-usage.html#tls-warnings\n",
            "  warnings.warn(\n"
          ]
        },
        {
          "output_type": "stream",
          "name": "stdout",
          "text": [
            "Downloaded and saved HTML: https://www.guancha.cn/CPCinternational?s=zwyxgtjzt#\n"
          ]
        },
        {
          "output_type": "stream",
          "name": "stderr",
          "text": [
            "/usr/local/lib/python3.10/dist-packages/urllib3/connectionpool.py:1099: InsecureRequestWarning: Unverified HTTPS request is being made to host 'www.guancha.cn'. Adding certificate verification is strongly advised. See: https://urllib3.readthedocs.io/en/latest/advanced-usage.html#tls-warnings\n",
            "  warnings.warn(\n"
          ]
        },
        {
          "output_type": "stream",
          "name": "stdout",
          "text": [
            "Downloaded and saved HTML: https://www.guancha.cn/CPCinternational?s=zwyxgtjzt#\n",
            "Downloaded and saved HTML: http://losangeles.china-consulate.gov.cn/zt/\n",
            "Downloaded and saved HTML: http://losangeles.china-consulate.gov.cn/confenrence/202410/t20241028_11517176.htm\n",
            "Downloaded and saved HTML: http://losangeles.china-consulate.gov.cn/confenrence/202410/t20241026_11516657.htm\n",
            "Downloaded and saved HTML: http://losangeles.china-consulate.gov.cn/confenrence/202410/t20241025_11516231.htm\n",
            "Downloaded and saved HTML: http://losangeles.china-consulate.gov.cn/confenrence/202410/t20241024_11515518.htm\n",
            "Downloaded and saved HTML: http://losangeles.china-consulate.gov.cn/confenrence/\n",
            "Downloaded and saved HTML: http://www.chinadiplomacy.org.cn/\n"
          ]
        },
        {
          "output_type": "stream",
          "name": "stderr",
          "text": [
            "/usr/local/lib/python3.10/dist-packages/urllib3/connectionpool.py:1099: InsecureRequestWarning: Unverified HTTPS request is being made to host 'www.gov.cn'. Adding certificate verification is strongly advised. See: https://urllib3.readthedocs.io/en/latest/advanced-usage.html#tls-warnings\n",
            "  warnings.warn(\n"
          ]
        },
        {
          "output_type": "stream",
          "name": "stdout",
          "text": [
            "Downloaded and saved HTML: http://www.gov.cn\n"
          ]
        },
        {
          "output_type": "stream",
          "name": "stderr",
          "text": [
            "/usr/local/lib/python3.10/dist-packages/urllib3/connectionpool.py:1099: InsecureRequestWarning: Unverified HTTPS request is being made to host 'www.fmprc.gov.cn'. Adding certificate verification is strongly advised. See: https://urllib3.readthedocs.io/en/latest/advanced-usage.html#tls-warnings\n",
            "  warnings.warn(\n"
          ]
        },
        {
          "output_type": "stream",
          "name": "stdout",
          "text": [
            "Downloaded and saved HTML: http://www.fmprc.gov.cn\n",
            "Downloaded and saved HTML: http://www.mofcom.gov.cn/\n",
            "An error occurred while downloading http://www.gwytb.gov.cn/zccs/zccs_61195/cjtdwgfz: 'gb2312' codec can't decode byte 0x88 in position 1868: illegal multibyte sequence\n"
          ]
        },
        {
          "output_type": "stream",
          "name": "stderr",
          "text": [
            "/usr/local/lib/python3.10/dist-packages/urllib3/connectionpool.py:1099: InsecureRequestWarning: Unverified HTTPS request is being made to host 'www.most.gov.cn'. Adding certificate verification is strongly advised. See: https://urllib3.readthedocs.io/en/latest/advanced-usage.html#tls-warnings\n",
            "  warnings.warn(\n"
          ]
        },
        {
          "output_type": "stream",
          "name": "stdout",
          "text": [
            "Downloaded and saved HTML: http://www.most.gov.cn/\n",
            "Downloaded and saved HTML: http://www.moe.gov.cn/\n",
            "Failed to download http://www.mct.gov.cn\n",
            "Downloaded and saved HTML: http://www.china-embassy.org/chn/\n",
            "Downloaded and saved HTML: http://cs.mfa.gov.cn\n",
            "An error occurred while downloading http://www.tianshannet.com.cn/: HTTPConnectionPool(host='www.tianshannet.com.cn', port=80): Max retries exceeded with url: / (Caused by NameResolutionError(\"<urllib3.connection.HTTPConnection object at 0x7b3f5503e860>: Failed to resolve 'www.tianshannet.com.cn' ([Errno -2] Name or service not known)\"))\n",
            "Downloaded and saved HTML: http://www.tibet.cn/\n"
          ]
        },
        {
          "output_type": "stream",
          "name": "stderr",
          "text": [
            "/usr/local/lib/python3.10/dist-packages/urllib3/connectionpool.py:1099: InsecureRequestWarning: Unverified HTTPS request is being made to host 'dwz.cn'. Adding certificate verification is strongly advised. See: https://urllib3.readthedocs.io/en/latest/advanced-usage.html#tls-warnings\n",
            "  warnings.warn(\n",
            "/usr/local/lib/python3.10/dist-packages/urllib3/connectionpool.py:1099: InsecureRequestWarning: Unverified HTTPS request is being made to host 'dwz.hm.baidu.com'. Adding certificate verification is strongly advised. See: https://urllib3.readthedocs.io/en/latest/advanced-usage.html#tls-warnings\n",
            "  warnings.warn(\n"
          ]
        },
        {
          "output_type": "stream",
          "name": "stdout",
          "text": [
            "Downloaded and saved HTML: https://dwz.cn/amGTOo9k\n"
          ]
        },
        {
          "output_type": "stream",
          "name": "stderr",
          "text": [
            "/usr/local/lib/python3.10/dist-packages/urllib3/connectionpool.py:1099: InsecureRequestWarning: Unverified HTTPS request is being made to host 'map.baidu.com'. Adding certificate verification is strongly advised. See: https://urllib3.readthedocs.io/en/latest/advanced-usage.html#tls-warnings\n",
            "  warnings.warn(\n"
          ]
        },
        {
          "output_type": "stream",
          "name": "stdout",
          "text": [
            "Downloaded and saved HTML: https://map.baidu.com/poi/%E6%B4%9B%E6%9D%89%E7%9F%B6%E4%B8%AD%E5%9B%BD%E9%A2%86%E4%BA%8B%E9%A6%86%E7%AD%BE%E8%AF%81%E5%A4%84/@-13168064,4013853,15z?uid=218f2c94321db961dcee8b6d&primaryUid=218f2c94321db961dcee8b6d&ugc_type=3&ugc_ver=1&device_ratio=1&compat=1&querytype=detailConInfo&da_src=shareurl\n",
            "Downloaded and saved HTML: http://losangeles.china-consulate.gov.cn/lbqw/lszj/\n",
            "Downloaded and saved HTML: http://losangeles.china-consulate.gov.cn/lbqw/lxwm/lxfs/202312/t20231229_11214645.htm\n",
            "All HTML, DOCX, and PDF files combined into combined_pages_losangeles.china-consulate.gov.cn.html\n",
            "Proximity analysis complete. Results saved in keyword_proximity_results_losangeles.china-consulate.gov.cn.csv\n"
          ]
        }
      ],
      "source": [
        "import requests\n",
        "from bs4 import BeautifulSoup\n",
        "import os\n",
        "import re\n",
        "import csv\n",
        "from docx import Document\n",
        "from PyPDF2 import PdfReader\n",
        "from urllib.parse import urljoin, urlparse\n",
        "from requests.adapters import HTTPAdapter\n",
        "from requests.packages.urllib3.util.retry import Retry\n",
        "import ssl\n",
        "from urllib3.poolmanager import PoolManager\n",
        "import chardet\n",
        "from ftfy import fix_text\n",
        "\n",
        "# Initial setup for the main website URL\n",
        "url = 'http://losangeles.china-consulate.gov.cn/'\n",
        "\n",
        "# Step 1: Fetch the main webpage content\n",
        "response = requests.get(url)\n",
        "\n",
        "if response.status_code == 200:\n",
        "    print(\"Successfully fetched the main page!\")\n",
        "    # Detect encoding using chardet\n",
        "    detected_encoding = chardet.detect(response.content)['encoding']\n",
        "    page_content = response.content.decode(detected_encoding)\n",
        "else:\n",
        "    print(f\"Failed to retrieve the main page. Status code: {response.status_code}\")\n",
        "\n",
        "# Step 2: Parse the main page to find all subpage links\n",
        "soup = BeautifulSoup(page_content, \"html.parser\")\n",
        "links = soup.find_all('a', href=True)\n",
        "\n",
        "# Step 3: Store subpage URLs in a list\n",
        "subpage_urls = []\n",
        "for link in links:\n",
        "    href = link['href']\n",
        "    full_url = urljoin(url, href)\n",
        "    parsed_url = urlparse(full_url)\n",
        "\n",
        "    # Only add URLs with HTTP or HTTPS schemes\n",
        "    if parsed_url.scheme in ['http', 'https']:\n",
        "        subpage_urls.append(full_url)\n",
        "\n",
        "# Step 4: Configure session with retries and SSL/TLS context handling\n",
        "retries = Retry(total=5, backoff_factor=0.3, status_forcelist=[500, 502, 503, 504])\n",
        "\n",
        "class TLSAdapter(HTTPAdapter):\n",
        "    def init_poolmanager(self, *args, **kwargs):\n",
        "        context = ssl.create_default_context(ssl.Purpose.CLIENT_AUTH)\n",
        "        context.options |= ssl.OP_NO_TLSv1 | ssl.OP_NO_TLSv1_1  # Force TLSv1.2 or higher\n",
        "        kwargs['ssl_context'] = context\n",
        "        return super(TLSAdapter, self).init_poolmanager(*args, **kwargs)\n",
        "\n",
        "# Set up session\n",
        "session = requests.Session()\n",
        "session.mount('https://', TLSAdapter())\n",
        "session.mount('https://', HTTPAdapter(max_retries=retries))\n",
        "\n",
        "# Step 5: Download and handle each subpage content\n",
        "downloaded_html_files = []\n",
        "docx_texts = []\n",
        "pdf_texts = []\n",
        "\n",
        "for subpage_url in subpage_urls:\n",
        "    try:\n",
        "        subpage_response = session.get(subpage_url, verify=False)\n",
        "\n",
        "        if subpage_response.status_code == 200:\n",
        "            content_type = subpage_response.headers['Content-Type']\n",
        "\n",
        "            if 'text/html' in content_type:\n",
        "                subpage_name = subpage_url.split(\"/\")[-1] or 'index'\n",
        "                if not subpage_name.endswith('.html'):\n",
        "                    file_name = f\"{subpage_name}.html\"\n",
        "                else:\n",
        "                    file_name = subpage_name\n",
        "\n",
        "                # Detect encoding of subpage content\n",
        "                detected_encoding = chardet.detect(subpage_response.content)['encoding']\n",
        "                subpage_content = subpage_response.content.decode(detected_encoding)\n",
        "                fixed_subpage_content = fix_text(subpage_content)\n",
        "\n",
        "                with open(file_name, \"w\", encoding=\"utf-8\") as f:\n",
        "                    f.write(fixed_subpage_content)\n",
        "                downloaded_html_files.append(file_name)\n",
        "                print(f\"Downloaded and saved HTML: {subpage_url}\")\n",
        "            elif 'application/vnd.openxmlformats-officedocument.wordprocessingml.document' in content_type:\n",
        "                docx_file_name = subpage_url.split(\"/\")[-1]\n",
        "                with open(docx_file_name, \"wb\") as f:\n",
        "                    f.write(subpage_response.content)\n",
        "                doc = Document(docx_file_name)\n",
        "                docx_text = \"\\n\".join([para.text for para in doc.paragraphs])\n",
        "                docx_texts.append(docx_text)\n",
        "                print(f\"Downloaded and extracted DOCX: {subpage_url}\")\n",
        "            elif 'application/pdf' in content_type:\n",
        "                pdf_file_name = subpage_url.split(\"/\")[-1]\n",
        "                with open(pdf_file_name, \"wb\") as f:\n",
        "                    f.write(subpage_response.content)\n",
        "                pdf_reader = PdfReader(pdf_file_name)\n",
        "                pdf_text = \"\"\n",
        "                for page in pdf_reader.pages:\n",
        "                    pdf_text += page.extract_text()\n",
        "                pdf_texts.append(pdf_text)\n",
        "                print(f\"Downloaded and extracted PDF: {subpage_url}\")\n",
        "            else:\n",
        "                print(f\"Skipping non-HTML, non-DOCX, non-PDF content: {subpage_url}\")\n",
        "        else:\n",
        "            print(f\"Failed to download {subpage_url}\")\n",
        "    except requests.exceptions.SSLError as e:\n",
        "        print(f\"SSL error occurred while downloading {subpage_url}: {e}\")\n",
        "    except Exception as e:\n",
        "        print(f\"An error occurred while downloading {subpage_url}: {e}\")\n",
        "\n",
        "# Step 6: Combine all HTML, DOCX, and PDF files into a single file\n",
        "combined_file = \"combined_pages_losangeles.china-consulate.gov.cn.html\"\n",
        "with open(combined_file, \"w\", encoding=\"utf-8\") as outfile:\n",
        "    # Combine HTML files\n",
        "    for file_name in downloaded_html_files:\n",
        "        if os.path.exists(file_name):\n",
        "            with open(file_name, \"r\", encoding=\"utf-8\") as infile:\n",
        "                outfile.write(infile.read())\n",
        "                outfile.write(\"\\n\\n\")\n",
        "    # Combine DOCX text\n",
        "    for docx_text in docx_texts:\n",
        "        outfile.write(docx_text)\n",
        "        outfile.write(\"\\n\\n\")\n",
        "    # Combine PDF text\n",
        "    for pdf_text in pdf_texts:\n",
        "        outfile.write(pdf_text)\n",
        "        outfile.write(\"\\n\\n\")\n",
        "\n",
        "print(f\"All HTML, DOCX, and PDF files combined into {combined_file}\")\n",
        "\n",
        "# Step 7: Extract text and search for specific Chinese strings\n",
        "chinese_strings = [ \"休斯顿和统会\", \"佛罗里达和统会\", \"侨联之友\", \"俄勒冈统促会\", \"全球华人反邪教联盟\",\n",
        "    \"全美中国和平统一促进联合会\", \"全美反独促统联盟\", \"关岛和统会\", \"凤凰城和统会\", \"加州中谷和统会\",\n",
        "    \"加州首府和统会\", \"北京同乡会\", \"北加州和统会\", \"北美统促联合总会\", \"华夏政略研究会\",\n",
        "    \"华盛顿中国和平统一促进会\", \"华盛顿华人社区联盟\", \"华盛顿州中国统一促进会\", \"南加台山联谊会\",\n",
        "    \"南加州中国和平统一促进会联盟\", \"南加州促统论坛\", \"南加华人华侨联合总会\", \"圣地亚戈统促会\",\n",
        "    \"大华府象屿联谊会\", \"大波士顿和统会\", \"大洛杉矶中国统一促进会\", \"大纽约学生学者联谊会\",\n",
        "    \"大纽约统促会\", \"大芝加哥中国和平统一促进会\", \"大费城亚裔狮子会\", \"大费城侨学界华人社团联席会议\",\n",
        "    \"大费城华侨公会\", \"大费城统促会\", \"大费城长乐公会\", \"宾州和统会\", \"宾州福建同乡会\",\n",
        "    \"德州和统会\", \"德拉瓦和统会\", \"拉斯维加斯和统会\", \"新泽西和统会\", \"旧金山湾区统促会\",\n",
        "    \"波士顿和统会\", \"波特兰统促会\", \"洛杉矶华埠大联盟\", \"溫州同乡会\", \"纽约至孝督亲公所\",\n",
        "    \"纽约华人社团联席会\", \"纽约和统会\", \"罗省中华会馆\", \"美东华人社团联合总会\",\n",
        "    \"美东南福建同乡会\", \"美中友好促进会\", \"美中友好協会\", \"美中和平友好促进会\",\n",
        "    \"美中经济文化发展促进会\", \"美京统促会\", \"美华友好促统会\", \"美华总商会\", \"美国香港总商会\",\n",
        "    \"美国中华妇女联合会\", \"美国中国总商会\", \"美国亚洲人商会\", \"美国亚裔社团联合总会\",\n",
        "    \"美国侨学界社团联席会\", \"美国华人华侨联合总会\", \"美华侨\", \"美国华人华侨联谊会\",\n",
        "    \"美国华人社团联会总会\", \"美国华人联盟\", \"美国华州中国统一促进会\", \"美国宾州中国和平统一促进会\",\n",
        "    \"美国广西侨胞联合会\", \"美国福州十邑同乡会\", \"美国福建会馆\", \"美国福建侨联总会\",\n",
        "    \"美国福建同乡会\", \"美國福建同鄉會\", \"美国福建妇女友好联盟总会\", \"美国福建猴屿联谊会\",\n",
        "    \"美国连江同乡会\", \"美国长乐社团联盟总会\", \"美国闽台总商会\", \"美國大唐會館\", \"美国大唐会馆\",\n",
        "    \"美國福建會館\", \"美國廣州同學聯合總會\", \"美国广州同学联合总会\", \"美國美中文化交流促進會\",\n",
        "    \"美国美中文化交流促进会\", \"美洲中国统一促进会联合总会\", \"美洲青年和统会\", \"美西和统会\",\n",
        "    \"芝加哥一中会\", \"芝加哥统促会\", \"西雅图统促会\", \"费城东安公所\", \"费城崇正会\",\n",
        "    \"费城福建同乡会\", \"费城福建同乡联合会\", \"费城鹤山公所\", \"达拉斯和统会\", \"习近平指出\",\n",
        "    \"中国和平统一促进会\", \"中国和平统一促进联合会\", \"中国统一促进会\", \"中国统一促进会联合总会\",\n",
        "    \"会馆\", \"促统会\", \"促统联盟\", \"促统论坛\", \"华人社团联席会议\", \"友好促统会\",\n",
        "    \"同乡会\", \"和统会\", \"大聯盟\", \"总商会\", \"统促会\", \"统促进会联合会\",\n",
        "    \"联总会\", \"联谊会\", \"联合总会\", \"华人华侨联合总会\", \"华人华侨联会\",\n",
        "    \"休斯顿中国和平统一促进会\", \"全美统促进会联合会\", \"华盛顿和统会\", \"华盛顿统促会\",\n",
        "    \"南加统促联盟\", \"南加促统论坛\", \"纽约中国和平统一促进会\", \"芝加哥和统会\",\n",
        "    \"中国和平统一促进会\", \"促统会\", \"促統會\",\n",
        "    \"中华全国归国华侨联合会\", \"侨联\", \"僑聯\",\n",
        "    \"驻芝加哥总领事馆\", \"驻芝加哥总领馆\",\n",
        "    \"驻纽约总领事馆\", \"驻纽约总领馆\",\n",
        "    \"驻洛杉矶总领事馆\", \"驻洛杉矶总领馆\",\n",
        "    \"中国驻美国大使馆\",\n",
        "    \"中国共产党中央委员会统一战线工作部\", \"中央统战部\", \"统一战线工作部\", \"统战部\", \"统战\",\n",
        "    \"中共中央台湾工作办公室\", \"台湾工作办公室\", \"国务院台湾事务办公室\", \"国台办\", \"台湾事务办公室\",\n",
        "    \"国务院侨务办公室\", \"国侨办\", \"国务院侨办\",\n",
        "    \"福建省侨联\",\n",
        "    \"中国共产党中央委员会对外联络部\", \"中央对外联络部\",\n",
        "    \"国家互联网信息办公室\", \"中央网络安全和信息化委员会办公室\", \"中央网信办\",\n",
        "    \"人民政協\", \"中国人民政治协商会议\", \"政协\",\n",
        "    \"全国人民代表大会\", \"全国人大\",\n",
        "    \"全国人大华侨委员会\",\n",
        "    \"中华人民共和国外交部\", \"中国外交部\", \"外交部\",\n",
        "    \"国务院\",\n",
        "    \"国务院新闻办公室\",\n",
        "    \"工业和信息化部\", \"工信部\",\n",
        "    \"台灣自主同盟\", \"台湾自主同盟\",\n",
        "    \"中国国际贸易促进委员会\", \"贸促会\",\n",
        "    \"致公党\",\n",
        "    \"中国侨商联合会\"]\n",
        "def extract_text_from_html(html_content):\n",
        "    soup = BeautifulSoup(html_content, \"html.parser\")\n",
        "    for script_or_style in soup(['script', 'style']):\n",
        "        script_or_style.decompose()\n",
        "    text = soup.get_text(separator=' ', strip=True)\n",
        "    return re.sub(r'\\s+', ' ', text)\n",
        "\n",
        "with open(combined_file, \"r\", encoding=\"utf-8\") as combined:\n",
        "    content = combined.read()\n",
        "\n",
        "readable_text = extract_text_from_html(content)\n",
        "\n",
        "# Step 8: Keyword search and proximity analysis\n",
        "keyword_positions = {}\n",
        "for keyword in chinese_strings:\n",
        "    matches = [m.start() for m in re.finditer(re.escape(keyword), readable_text)]\n",
        "    if matches:\n",
        "        keyword_positions[keyword] = matches\n",
        "\n",
        "def calculate_word_distance(pos1, pos2, text):\n",
        "    between_text = text[min(pos1, pos2):max(pos1, pos2)]\n",
        "    words_between = between_text.split()\n",
        "    return len(words_between)\n",
        "\n",
        "# Count occurrences of each keyword pair\n",
        "proximity_data = []\n",
        "keyword_pair_count = {}\n",
        "\n",
        "for i, keyword1 in enumerate(chinese_strings):\n",
        "    for j, keyword2 in enumerate(chinese_strings):\n",
        "        if i < j and keyword1 in keyword_positions and keyword2 in keyword_positions:\n",
        "            for pos1 in keyword_positions[keyword1]:\n",
        "                for pos2 in keyword_positions[keyword2]:\n",
        "                    distance = calculate_word_distance(pos1, pos2, readable_text)\n",
        "                    if distance <= 1000:\n",
        "                        proximity_data.append([keyword1, keyword2, distance])\n",
        "                        pair_key = (keyword1, keyword2)\n",
        "                        if pair_key in keyword_pair_count:\n",
        "                            keyword_pair_count[pair_key] += 1\n",
        "                        else:\n",
        "                            keyword_pair_count[pair_key] = 1\n",
        "\n",
        "# Save results to CSV\n",
        "csv_file_path = 'keyword_proximity_results_losangeles.china-consulate.gov.cn.csv'\n",
        "with open(csv_file_path, mode='w', newline='', encoding='utf-8') as file:\n",
        "    writer = csv.writer(file)\n",
        "    writer.writerow([\"Keyword 1\", \"Keyword 2\", \"Word Distance\", \"Occurrences\"])\n",
        "    for row in proximity_data:\n",
        "        keyword1, keyword2, distance = row\n",
        "        occurrences = keyword_pair_count.get((keyword1, keyword2), 0)\n",
        "        writer.writerow([keyword1, keyword2, distance, occurrences])\n",
        "\n",
        "print(f\"Proximity analysis complete. Results saved in {csv_file_path}\")\n"
      ]
    },
    {
      "cell_type": "code",
      "execution_count": null,
      "metadata": {
        "id": "24gIs9VbCiOP"
      },
      "outputs": [],
      "source": [
        "import pandas as pd\n",
        "df = pd.read_csv(\"keyword_proximity_results_losangeles.china-consulate.gov.cn.csv\")\n",
        "mdf = df.groupby([\"Keyword 1\", \"Keyword 2\"]).mean()\n",
        "mdf.sort_values(by=\"Word Distance\", ascending=True).tail(100)\n",
        "mdf.sort_values(by=\"Word Distance\", ascending=True).to_csv(\"losangeles.china-consulate.gov.cn.csv\")"
      ]
    },
    {
      "cell_type": "markdown",
      "source": [
        "https://www.chinanews.com/"
      ],
      "metadata": {
        "id": "L4gASJIH6jnN"
      }
    },
    {
      "cell_type": "code",
      "execution_count": null,
      "metadata": {
        "colab": {
          "base_uri": "https://localhost:8080/"
        },
        "id": "M4orfG-JDVqA",
        "outputId": "179433a6-69e7-4d29-a382-f9bb5e3d2d46"
      },
      "outputs": [
        {
          "metadata": {
            "tags": null
          },
          "name": "stdout",
          "output_type": "stream",
          "text": [
            "Successfully fetched the main page!\n"
          ]
        },
        {
          "metadata": {
            "tags": null
          },
          "name": "stderr",
          "output_type": "stream",
          "text": [
            "<ipython-input-3-5d3dbb2049e4>:51: DeprecationWarning: ssl.OP_NO_SSL*/ssl.OP_NO_TLS* options are deprecated\n",
            "  context.options |= ssl.OP_NO_TLSv1 | ssl.OP_NO_TLSv1_1  # Force TLSv1.2 or higher\n",
            "/usr/local/lib/python3.10/dist-packages/urllib3/connectionpool.py:1099: InsecureRequestWarning: Unverified HTTPS request is being made to host 'www.chinanews.com.cn'. Adding certificate verification is strongly advised. See: https://urllib3.readthedocs.io/en/latest/advanced-usage.html#tls-warnings\n",
            "  warnings.warn(\n"
          ]
        },
        {
          "metadata": {
            "tags": null
          },
          "name": "stdout",
          "output_type": "stream",
          "text": [
            "Downloaded and saved HTML: https://www.chinanews.com.cn/gn/2023/03-21/9975606.shtml\n"
          ]
        },
        {
          "metadata": {
            "tags": null
          },
          "name": "stderr",
          "output_type": "stream",
          "text": [
            "/usr/local/lib/python3.10/dist-packages/urllib3/connectionpool.py:1099: InsecureRequestWarning: Unverified HTTPS request is being made to host 'www.chinanews.com'. Adding certificate verification is strongly advised. See: https://urllib3.readthedocs.io/en/latest/advanced-usage.html#tls-warnings\n",
            "  warnings.warn(\n"
          ]
        },
        {
          "metadata": {
            "tags": null
          },
          "name": "stdout",
          "output_type": "stream",
          "text": [
            "Downloaded and saved HTML: https://www.chinanews.com/#tt\n"
          ]
        },
        {
          "metadata": {
            "tags": null
          },
          "name": "stderr",
          "output_type": "stream",
          "text": [
            "/usr/local/lib/python3.10/dist-packages/urllib3/connectionpool.py:1099: InsecureRequestWarning: Unverified HTTPS request is being made to host 'www.chinanews.com'. Adding certificate verification is strongly advised. See: https://urllib3.readthedocs.io/en/latest/advanced-usage.html#tls-warnings\n",
            "  warnings.warn(\n"
          ]
        },
        {
          "metadata": {
            "tags": null
          },
          "name": "stdout",
          "output_type": "stream",
          "text": [
            "Downloaded and saved HTML: https://www.chinanews.com/#yw\n"
          ]
        },
        {
          "metadata": {
            "tags": null
          },
          "name": "stderr",
          "output_type": "stream",
          "text": [
            "/usr/local/lib/python3.10/dist-packages/urllib3/connectionpool.py:1099: InsecureRequestWarning: Unverified HTTPS request is being made to host 'www.chinanews.com'. Adding certificate verification is strongly advised. See: https://urllib3.readthedocs.io/en/latest/advanced-usage.html#tls-warnings\n",
            "  warnings.warn(\n"
          ]
        },
        {
          "metadata": {
            "tags": null
          },
          "name": "stdout",
          "output_type": "stream",
          "text": [
            "Downloaded and saved HTML: https://www.chinanews.com/#zt\n"
          ]
        },
        {
          "metadata": {
            "tags": null
          },
          "name": "stderr",
          "output_type": "stream",
          "text": [
            "/usr/local/lib/python3.10/dist-packages/urllib3/connectionpool.py:1099: InsecureRequestWarning: Unverified HTTPS request is being made to host 'www.chinanews.com'. Adding certificate verification is strongly advised. See: https://urllib3.readthedocs.io/en/latest/advanced-usage.html#tls-warnings\n",
            "  warnings.warn(\n"
          ]
        },
        {
          "metadata": {
            "tags": null
          },
          "name": "stdout",
          "output_type": "stream",
          "text": [
            "Downloaded and saved HTML: https://www.chinanews.com/#sp\n"
          ]
        },
        {
          "metadata": {
            "tags": null
          },
          "name": "stderr",
          "output_type": "stream",
          "text": [
            "/usr/local/lib/python3.10/dist-packages/urllib3/connectionpool.py:1099: InsecureRequestWarning: Unverified HTTPS request is being made to host 'www.chinanews.com'. Adding certificate verification is strongly advised. See: https://urllib3.readthedocs.io/en/latest/advanced-usage.html#tls-warnings\n",
            "  warnings.warn(\n"
          ]
        },
        {
          "metadata": {
            "tags": null
          },
          "name": "stdout",
          "output_type": "stream",
          "text": [
            "Downloaded and saved HTML: https://www.chinanews.com/#pic\n"
          ]
        },
        {
          "metadata": {
            "tags": null
          },
          "name": "stderr",
          "output_type": "stream",
          "text": [
            "/usr/local/lib/python3.10/dist-packages/urllib3/connectionpool.py:1099: InsecureRequestWarning: Unverified HTTPS request is being made to host 'www.chinanews.com'. Adding certificate verification is strongly advised. See: https://urllib3.readthedocs.io/en/latest/advanced-usage.html#tls-warnings\n",
            "  warnings.warn(\n"
          ]
        },
        {
          "metadata": {
            "tags": null
          },
          "name": "stdout",
          "output_type": "stream",
          "text": [
            "Downloaded and saved HTML: https://www.chinanews.com/#sz\n"
          ]
        },
        {
          "metadata": {
            "tags": null
          },
          "name": "stderr",
          "output_type": "stream",
          "text": [
            "/usr/local/lib/python3.10/dist-packages/urllib3/connectionpool.py:1099: InsecureRequestWarning: Unverified HTTPS request is being made to host 'www.chinanews.com'. Adding certificate verification is strongly advised. See: https://urllib3.readthedocs.io/en/latest/advanced-usage.html#tls-warnings\n",
            "  warnings.warn(\n"
          ]
        },
        {
          "metadata": {
            "tags": null
          },
          "name": "stdout",
          "output_type": "stream",
          "text": [
            "Downloaded and saved HTML: https://www.chinanews.com/#sh\n"
          ]
        },
        {
          "metadata": {
            "tags": null
          },
          "name": "stderr",
          "output_type": "stream",
          "text": [
            "/usr/local/lib/python3.10/dist-packages/urllib3/connectionpool.py:1099: InsecureRequestWarning: Unverified HTTPS request is being made to host 'www.chinanews.com'. Adding certificate verification is strongly advised. See: https://urllib3.readthedocs.io/en/latest/advanced-usage.html#tls-warnings\n",
            "  warnings.warn(\n"
          ]
        },
        {
          "metadata": {
            "tags": null
          },
          "name": "stdout",
          "output_type": "stream",
          "text": [
            "Downloaded and saved HTML: https://www.chinanews.com/#gj\n"
          ]
        },
        {
          "metadata": {
            "tags": null
          },
          "name": "stderr",
          "output_type": "stream",
          "text": [
            "/usr/local/lib/python3.10/dist-packages/urllib3/connectionpool.py:1099: InsecureRequestWarning: Unverified HTTPS request is being made to host 'www.chinanews.com'. Adding certificate verification is strongly advised. See: https://urllib3.readthedocs.io/en/latest/advanced-usage.html#tls-warnings\n",
            "  warnings.warn(\n"
          ]
        },
        {
          "metadata": {
            "tags": null
          },
          "name": "stdout",
          "output_type": "stream",
          "text": [
            "Downloaded and saved HTML: https://www.chinanews.com/#cj\n"
          ]
        },
        {
          "metadata": {
            "tags": null
          },
          "name": "stderr",
          "output_type": "stream",
          "text": [
            "/usr/local/lib/python3.10/dist-packages/urllib3/connectionpool.py:1099: InsecureRequestWarning: Unverified HTTPS request is being made to host 'www.chinanews.com'. Adding certificate verification is strongly advised. See: https://urllib3.readthedocs.io/en/latest/advanced-usage.html#tls-warnings\n",
            "  warnings.warn(\n"
          ]
        },
        {
          "metadata": {
            "tags": null
          },
          "name": "stdout",
          "output_type": "stream",
          "text": [
            "Downloaded and saved HTML: https://www.chinanews.com/#jksh\n"
          ]
        },
        {
          "metadata": {
            "tags": null
          },
          "name": "stderr",
          "output_type": "stream",
          "text": [
            "/usr/local/lib/python3.10/dist-packages/urllib3/connectionpool.py:1099: InsecureRequestWarning: Unverified HTTPS request is being made to host 'www.chinanews.com'. Adding certificate verification is strongly advised. See: https://urllib3.readthedocs.io/en/latest/advanced-usage.html#tls-warnings\n",
            "  warnings.warn(\n"
          ]
        },
        {
          "metadata": {
            "tags": null
          },
          "name": "stdout",
          "output_type": "stream",
          "text": [
            "Downloaded and saved HTML: https://www.chinanews.com/#cy\n"
          ]
        },
        {
          "metadata": {
            "tags": null
          },
          "name": "stderr",
          "output_type": "stream",
          "text": [
            "/usr/local/lib/python3.10/dist-packages/urllib3/connectionpool.py:1099: InsecureRequestWarning: Unverified HTTPS request is being made to host 'www.chinanews.com'. Adding certificate verification is strongly advised. See: https://urllib3.readthedocs.io/en/latest/advanced-usage.html#tls-warnings\n",
            "  warnings.warn(\n"
          ]
        },
        {
          "metadata": {
            "tags": null
          },
          "name": "stdout",
          "output_type": "stream",
          "text": [
            "Downloaded and saved HTML: https://www.chinanews.com/#dwq\n"
          ]
        },
        {
          "metadata": {
            "tags": null
          },
          "name": "stderr",
          "output_type": "stream",
          "text": [
            "/usr/local/lib/python3.10/dist-packages/urllib3/connectionpool.py:1099: InsecureRequestWarning: Unverified HTTPS request is being made to host 'www.chinanews.com'. Adding certificate verification is strongly advised. See: https://urllib3.readthedocs.io/en/latest/advanced-usage.html#tls-warnings\n",
            "  warnings.warn(\n"
          ]
        },
        {
          "metadata": {
            "tags": null
          },
          "name": "stdout",
          "output_type": "stream",
          "text": [
            "Downloaded and saved HTML: https://www.chinanews.com/#rmsys\n"
          ]
        },
        {
          "metadata": {
            "tags": null
          },
          "name": "stderr",
          "output_type": "stream",
          "text": [
            "/usr/local/lib/python3.10/dist-packages/urllib3/connectionpool.py:1099: InsecureRequestWarning: Unverified HTTPS request is being made to host 'www.chinanews.com'. Adding certificate verification is strongly advised. See: https://urllib3.readthedocs.io/en/latest/advanced-usage.html#tls-warnings\n",
            "  warnings.warn(\n"
          ]
        },
        {
          "metadata": {
            "tags": null
          },
          "name": "stdout",
          "output_type": "stream",
          "text": [
            "Downloaded and saved HTML: https://www.chinanews.com/#wt\n"
          ]
        },
        {
          "metadata": {
            "tags": null
          },
          "name": "stderr",
          "output_type": "stream",
          "text": [
            "/usr/local/lib/python3.10/dist-packages/urllib3/connectionpool.py:1099: InsecureRequestWarning: Unverified HTTPS request is being made to host 'www.chinanews.com'. Adding certificate verification is strongly advised. See: https://urllib3.readthedocs.io/en/latest/advanced-usage.html#tls-warnings\n",
            "  warnings.warn(\n"
          ]
        },
        {
          "metadata": {
            "tags": null
          },
          "name": "stdout",
          "output_type": "stream",
          "text": [
            "Downloaded and saved HTML: https://www.chinanews.com/#hr\n"
          ]
        },
        {
          "metadata": {
            "tags": null
          },
          "name": "stderr",
          "output_type": "stream",
          "text": [
            "/usr/local/lib/python3.10/dist-packages/urllib3/connectionpool.py:1099: InsecureRequestWarning: Unverified HTTPS request is being made to host 'www.chinanews.com'. Adding certificate verification is strongly advised. See: https://urllib3.readthedocs.io/en/latest/advanced-usage.html#tls-warnings\n",
            "  warnings.warn(\n"
          ]
        },
        {
          "metadata": {
            "tags": null
          },
          "name": "stdout",
          "output_type": "stream",
          "text": [
            "Downloaded and saved HTML: https://www.chinanews.com/#live\n"
          ]
        },
        {
          "metadata": {
            "tags": null
          },
          "name": "stderr",
          "output_type": "stream",
          "text": [
            "/usr/local/lib/python3.10/dist-packages/urllib3/connectionpool.py:1099: InsecureRequestWarning: Unverified HTTPS request is being made to host 'www.chinanews.com'. Adding certificate verification is strongly advised. See: https://urllib3.readthedocs.io/en/latest/advanced-usage.html#tls-warnings\n",
            "  warnings.warn(\n"
          ]
        },
        {
          "metadata": {
            "tags": null
          },
          "name": "stdout",
          "output_type": "stream",
          "text": [
            "Downloaded and saved HTML: https://www.chinanews.com/#english\n"
          ]
        },
        {
          "metadata": {
            "tags": null
          },
          "name": "stderr",
          "output_type": "stream",
          "text": [
            "/usr/local/lib/python3.10/dist-packages/urllib3/connectionpool.py:1099: InsecureRequestWarning: Unverified HTTPS request is being made to host 'www.chinanews.com'. Adding certificate verification is strongly advised. See: https://urllib3.readthedocs.io/en/latest/advanced-usage.html#tls-warnings\n",
            "  warnings.warn(\n"
          ]
        },
        {
          "metadata": {
            "tags": null
          },
          "name": "stdout",
          "output_type": "stream",
          "text": [
            "Downloaded and saved HTML: https://www.chinanews.com/#rmt\n"
          ]
        },
        {
          "metadata": {
            "tags": null
          },
          "name": "stderr",
          "output_type": "stream",
          "text": [
            "/usr/local/lib/python3.10/dist-packages/urllib3/connectionpool.py:1099: InsecureRequestWarning: Unverified HTTPS request is being made to host 'www.chinanews.com'. Adding certificate verification is strongly advised. See: https://urllib3.readthedocs.io/en/latest/advanced-usage.html#tls-warnings\n",
            "  warnings.warn(\n"
          ]
        },
        {
          "metadata": {
            "tags": null
          },
          "name": "stdout",
          "output_type": "stream",
          "text": [
            "Downloaded and saved HTML: https://www.chinanews.com/#pplm\n"
          ]
        },
        {
          "metadata": {
            "tags": null
          },
          "name": "stderr",
          "output_type": "stream",
          "text": [
            "/usr/local/lib/python3.10/dist-packages/urllib3/connectionpool.py:1099: InsecureRequestWarning: Unverified HTTPS request is being made to host 'www.chinanews.com'. Adding certificate verification is strongly advised. See: https://urllib3.readthedocs.io/en/latest/advanced-usage.html#tls-warnings\n",
            "  warnings.warn(\n"
          ]
        },
        {
          "metadata": {
            "tags": null
          },
          "name": "stdout",
          "output_type": "stream",
          "text": [
            "Downloaded and saved HTML: https://www.chinanews.com/#topdiv\n"
          ]
        },
        {
          "metadata": {
            "tags": null
          },
          "name": "stderr",
          "output_type": "stream",
          "text": [
            "/usr/local/lib/python3.10/dist-packages/urllib3/connectionpool.py:1099: InsecureRequestWarning: Unverified HTTPS request is being made to host 'www.chinanews.com.cn'. Adding certificate verification is strongly advised. See: https://urllib3.readthedocs.io/en/latest/advanced-usage.html#tls-warnings\n",
            "  warnings.warn(\n"
          ]
        },
        {
          "metadata": {
            "tags": null
          },
          "name": "stdout",
          "output_type": "stream",
          "text": [
            "Downloaded and saved HTML: https://www.chinanews.com.cn/\n"
          ]
        },
        {
          "metadata": {
            "tags": null
          },
          "name": "stderr",
          "output_type": "stream",
          "text": [
            "/usr/local/lib/python3.10/dist-packages/urllib3/connectionpool.py:1099: InsecureRequestWarning: Unverified HTTPS request is being made to host 'www.chinanews.com.cn'. Adding certificate verification is strongly advised. See: https://urllib3.readthedocs.io/en/latest/advanced-usage.html#tls-warnings\n",
            "  warnings.warn(\n"
          ]
        },
        {
          "metadata": {
            "tags": null
          },
          "name": "stdout",
          "output_type": "stream",
          "text": [
            "Downloaded and saved HTML: https://www.chinanews.com.cn/\n"
          ]
        },
        {
          "metadata": {
            "tags": null
          },
          "name": "stderr",
          "output_type": "stream",
          "text": [
            "/usr/local/lib/python3.10/dist-packages/urllib3/connectionpool.py:1099: InsecureRequestWarning: Unverified HTTPS request is being made to host 'm.chinanews.com'. Adding certificate verification is strongly advised. See: https://urllib3.readthedocs.io/en/latest/advanced-usage.html#tls-warnings\n",
            "  warnings.warn(\n"
          ]
        },
        {
          "metadata": {
            "tags": null
          },
          "name": "stdout",
          "output_type": "stream",
          "text": [
            "Downloaded and saved HTML: https://m.chinanews.com/\n"
          ]
        },
        {
          "metadata": {
            "tags": null
          },
          "name": "stderr",
          "output_type": "stream",
          "text": [
            "/usr/local/lib/python3.10/dist-packages/urllib3/connectionpool.py:1099: InsecureRequestWarning: Unverified HTTPS request is being made to host 'www.chinanews.com.cn'. Adding certificate verification is strongly advised. See: https://urllib3.readthedocs.io/en/latest/advanced-usage.html#tls-warnings\n",
            "  warnings.warn(\n"
          ]
        },
        {
          "metadata": {
            "tags": null
          },
          "name": "stdout",
          "output_type": "stream",
          "text": [
            "Downloaded and saved HTML: https://www.chinanews.com.cn/app/chinanews/index.shtml\n"
          ]
        },
        {
          "metadata": {
            "tags": null
          },
          "name": "stderr",
          "output_type": "stream",
          "text": [
            "/usr/local/lib/python3.10/dist-packages/urllib3/connectionpool.py:1099: InsecureRequestWarning: Unverified HTTPS request is being made to host 'weibo.com'. Adding certificate verification is strongly advised. See: https://urllib3.readthedocs.io/en/latest/advanced-usage.html#tls-warnings\n",
            "  warnings.warn(\n",
            "/usr/local/lib/python3.10/dist-packages/urllib3/connectionpool.py:1099: InsecureRequestWarning: Unverified HTTPS request is being made to host 'passport.weibo.com'. Adding certificate verification is strongly advised. See: https://urllib3.readthedocs.io/en/latest/advanced-usage.html#tls-warnings\n",
            "  warnings.warn(\n"
          ]
        },
        {
          "metadata": {
            "tags": null
          },
          "name": "stdout",
          "output_type": "stream",
          "text": [
            "Downloaded and saved HTML: https://weibo.com/u/3604378011\n"
          ]
        },
        {
          "metadata": {
            "tags": null
          },
          "name": "stderr",
          "output_type": "stream",
          "text": [
            "/usr/local/lib/python3.10/dist-packages/urllib3/connectionpool.py:1099: InsecureRequestWarning: Unverified HTTPS request is being made to host 'weibo.com'. Adding certificate verification is strongly advised. See: https://urllib3.readthedocs.io/en/latest/advanced-usage.html#tls-warnings\n",
            "  warnings.warn(\n",
            "/usr/local/lib/python3.10/dist-packages/urllib3/connectionpool.py:1099: InsecureRequestWarning: Unverified HTTPS request is being made to host 'passport.weibo.com'. Adding certificate verification is strongly advised. See: https://urllib3.readthedocs.io/en/latest/advanced-usage.html#tls-warnings\n",
            "  warnings.warn(\n"
          ]
        },
        {
          "metadata": {
            "tags": null
          },
          "name": "stdout",
          "output_type": "stream",
          "text": [
            "Downloaded and saved HTML: https://weibo.com/chinanewsv\n"
          ]
        },
        {
          "metadata": {
            "tags": null
          },
          "name": "stderr",
          "output_type": "stream",
          "text": [
            "/usr/local/lib/python3.10/dist-packages/urllib3/connectionpool.py:1099: InsecureRequestWarning: Unverified HTTPS request is being made to host 'mail.chinanews.com.cn'. Adding certificate verification is strongly advised. See: https://urllib3.readthedocs.io/en/latest/advanced-usage.html#tls-warnings\n",
            "  warnings.warn(\n"
          ]
        },
        {
          "metadata": {
            "tags": null
          },
          "name": "stdout",
          "output_type": "stream",
          "text": [
            "Downloaded and saved HTML: http://mail.chinanews.com.cn/\n"
          ]
        },
        {
          "metadata": {
            "tags": null
          },
          "name": "stderr",
          "output_type": "stream",
          "text": [
            "/usr/local/lib/python3.10/dist-packages/urllib3/connectionpool.py:1099: InsecureRequestWarning: Unverified HTTPS request is being made to host 'www.ecns.cn'. Adding certificate verification is strongly advised. See: https://urllib3.readthedocs.io/en/latest/advanced-usage.html#tls-warnings\n",
            "  warnings.warn(\n"
          ]
        },
        {
          "metadata": {
            "tags": null
          },
          "name": "stdout",
          "output_type": "stream",
          "text": [
            "Downloaded and saved HTML: https://www.ecns.cn/\n"
          ]
        },
        {
          "metadata": {
            "tags": null
          },
          "name": "stderr",
          "output_type": "stream",
          "text": [
            "/usr/local/lib/python3.10/dist-packages/urllib3/connectionpool.py:1099: InsecureRequestWarning: Unverified HTTPS request is being made to host 'www.chinanews.com'. Adding certificate verification is strongly advised. See: https://urllib3.readthedocs.io/en/latest/advanced-usage.html#tls-warnings\n",
            "  warnings.warn(\n"
          ]
        },
        {
          "metadata": {
            "tags": null
          },
          "name": "stdout",
          "output_type": "stream",
          "text": [
            "Downloaded and saved HTML: https://www.chinanews.com/scroll-news/news1.html\n"
          ]
        },
        {
          "metadata": {
            "tags": null
          },
          "name": "stderr",
          "output_type": "stream",
          "text": [
            "/usr/local/lib/python3.10/dist-packages/urllib3/connectionpool.py:1099: InsecureRequestWarning: Unverified HTTPS request is being made to host 'www.chinanews.com'. Adding certificate verification is strongly advised. See: https://urllib3.readthedocs.io/en/latest/advanced-usage.html#tls-warnings\n",
            "  warnings.warn(\n"
          ]
        },
        {
          "metadata": {
            "tags": null
          },
          "name": "stdout",
          "output_type": "stream",
          "text": [
            "Downloaded and saved HTML: https://www.chinanews.com/china/\n"
          ]
        },
        {
          "metadata": {
            "tags": null
          },
          "name": "stderr",
          "output_type": "stream",
          "text": [
            "/usr/local/lib/python3.10/dist-packages/urllib3/connectionpool.py:1099: InsecureRequestWarning: Unverified HTTPS request is being made to host 'www.chinanews.com'. Adding certificate verification is strongly advised. See: https://urllib3.readthedocs.io/en/latest/advanced-usage.html#tls-warnings\n",
            "  warnings.warn(\n"
          ]
        },
        {
          "metadata": {
            "tags": null
          },
          "name": "stdout",
          "output_type": "stream",
          "text": [
            "Downloaded and saved HTML: https://www.chinanews.com/theory.shtml\n"
          ]
        },
        {
          "metadata": {
            "tags": null
          },
          "name": "stderr",
          "output_type": "stream",
          "text": [
            "/usr/local/lib/python3.10/dist-packages/urllib3/connectionpool.py:1099: InsecureRequestWarning: Unverified HTTPS request is being made to host 'www.chinanews.com'. Adding certificate verification is strongly advised. See: https://urllib3.readthedocs.io/en/latest/advanced-usage.html#tls-warnings\n",
            "  warnings.warn(\n"
          ]
        },
        {
          "metadata": {
            "tags": null
          },
          "name": "stdout",
          "output_type": "stream",
          "text": [
            "Downloaded and saved HTML: https://www.chinanews.com/dxw/\n"
          ]
        },
        {
          "metadata": {
            "tags": null
          },
          "name": "stderr",
          "output_type": "stream",
          "text": [
            "/usr/local/lib/python3.10/dist-packages/urllib3/connectionpool.py:1099: InsecureRequestWarning: Unverified HTTPS request is being made to host 'www.chinanews.com'. Adding certificate verification is strongly advised. See: https://urllib3.readthedocs.io/en/latest/advanced-usage.html#tls-warnings\n",
            "  warnings.warn(\n"
          ]
        },
        {
          "metadata": {
            "tags": null
          },
          "name": "stdout",
          "output_type": "stream",
          "text": [
            "Downloaded and saved HTML: https://www.chinanews.com/finance/\n"
          ]
        },
        {
          "metadata": {
            "tags": null
          },
          "name": "stderr",
          "output_type": "stream",
          "text": [
            "/usr/local/lib/python3.10/dist-packages/urllib3/connectionpool.py:1099: InsecureRequestWarning: Unverified HTTPS request is being made to host 'www.chinanews.com'. Adding certificate verification is strongly advised. See: https://urllib3.readthedocs.io/en/latest/advanced-usage.html#tls-warnings\n",
            "  warnings.warn(\n"
          ]
        },
        {
          "metadata": {
            "tags": null
          },
          "name": "stdout",
          "output_type": "stream",
          "text": [
            "Downloaded and saved HTML: https://www.chinanews.com/world/\n"
          ]
        },
        {
          "metadata": {
            "tags": null
          },
          "name": "stderr",
          "output_type": "stream",
          "text": [
            "/usr/local/lib/python3.10/dist-packages/urllib3/connectionpool.py:1099: InsecureRequestWarning: Unverified HTTPS request is being made to host 'www.chinanews.com'. Adding certificate verification is strongly advised. See: https://urllib3.readthedocs.io/en/latest/advanced-usage.html#tls-warnings\n",
            "  warnings.warn(\n"
          ]
        },
        {
          "metadata": {
            "tags": null
          },
          "name": "stdout",
          "output_type": "stream",
          "text": [
            "Downloaded and saved HTML: https://www.chinanews.com/society/\n"
          ]
        },
        {
          "metadata": {
            "tags": null
          },
          "name": "stderr",
          "output_type": "stream",
          "text": [
            "/usr/local/lib/python3.10/dist-packages/urllib3/connectionpool.py:1099: InsecureRequestWarning: Unverified HTTPS request is being made to host 'www.chinanews.com'. Adding certificate verification is strongly advised. See: https://urllib3.readthedocs.io/en/latest/advanced-usage.html#tls-warnings\n",
            "  warnings.warn(\n"
          ]
        },
        {
          "metadata": {
            "tags": null
          },
          "name": "stdout",
          "output_type": "stream",
          "text": [
            "Downloaded and saved HTML: https://www.chinanews.com/dwq/\n"
          ]
        },
        {
          "metadata": {
            "tags": null
          },
          "name": "stderr",
          "output_type": "stream",
          "text": [
            "/usr/local/lib/python3.10/dist-packages/urllib3/connectionpool.py:1099: InsecureRequestWarning: Unverified HTTPS request is being made to host 'www.chinaqw.com'. Adding certificate verification is strongly advised. See: https://urllib3.readthedocs.io/en/latest/advanced-usage.html#tls-warnings\n",
            "  warnings.warn(\n",
            "/usr/local/lib/python3.10/dist-packages/urllib3/connectionpool.py:1099: InsecureRequestWarning: Unverified HTTPS request is being made to host 'www.chinanews.com'. Adding certificate verification is strongly advised. See: https://urllib3.readthedocs.io/en/latest/advanced-usage.html#tls-warnings\n",
            "  warnings.warn(\n"
          ]
        },
        {
          "metadata": {
            "tags": null
          },
          "name": "stdout",
          "output_type": "stream",
          "text": [
            "Downloaded and saved HTML: https://www.chinaqw.com/\n",
            "Downloaded and saved HTML: https://www.chinanews.com/wy/\n"
          ]
        },
        {
          "metadata": {
            "tags": null
          },
          "name": "stderr",
          "output_type": "stream",
          "text": [
            "/usr/local/lib/python3.10/dist-packages/urllib3/connectionpool.py:1099: InsecureRequestWarning: Unverified HTTPS request is being made to host 'www.chinanews.com'. Adding certificate verification is strongly advised. See: https://urllib3.readthedocs.io/en/latest/advanced-usage.html#tls-warnings\n",
            "  warnings.warn(\n"
          ]
        },
        {
          "metadata": {
            "tags": null
          },
          "name": "stdout",
          "output_type": "stream",
          "text": [
            "Downloaded and saved HTML: https://www.chinanews.com/sports/\n"
          ]
        },
        {
          "metadata": {
            "tags": null
          },
          "name": "stderr",
          "output_type": "stream",
          "text": [
            "/usr/local/lib/python3.10/dist-packages/urllib3/connectionpool.py:1099: InsecureRequestWarning: Unverified HTTPS request is being made to host 'www.chinanews.com'. Adding certificate verification is strongly advised. See: https://urllib3.readthedocs.io/en/latest/advanced-usage.html#tls-warnings\n",
            "  warnings.warn(\n"
          ]
        },
        {
          "metadata": {
            "tags": null
          },
          "name": "stdout",
          "output_type": "stream",
          "text": [
            "Downloaded and saved HTML: https://www.chinanews.com/edu/\n"
          ]
        },
        {
          "metadata": {
            "tags": null
          },
          "name": "stderr",
          "output_type": "stream",
          "text": [
            "/usr/local/lib/python3.10/dist-packages/urllib3/connectionpool.py:1099: InsecureRequestWarning: Unverified HTTPS request is being made to host 'www.chinanews.com'. Adding certificate verification is strongly advised. See: https://urllib3.readthedocs.io/en/latest/advanced-usage.html#tls-warnings\n",
            "  warnings.warn(\n"
          ]
        },
        {
          "metadata": {
            "tags": null
          },
          "name": "stdout",
          "output_type": "stream",
          "text": [
            "Downloaded and saved HTML: https://www.chinanews.com/fazhi/\n"
          ]
        },
        {
          "metadata": {
            "tags": null
          },
          "name": "stderr",
          "output_type": "stream",
          "text": [
            "/usr/local/lib/python3.10/dist-packages/urllib3/connectionpool.py:1099: InsecureRequestWarning: Unverified HTTPS request is being made to host 'www.chinanews.com'. Adding certificate verification is strongly advised. See: https://urllib3.readthedocs.io/en/latest/advanced-usage.html#tls-warnings\n",
            "  warnings.warn(\n"
          ]
        },
        {
          "metadata": {
            "tags": null
          },
          "name": "stdout",
          "output_type": "stream",
          "text": [
            "Downloaded and saved HTML: https://www.chinanews.com/health/\n"
          ]
        },
        {
          "metadata": {
            "tags": null
          },
          "name": "stderr",
          "output_type": "stream",
          "text": [
            "/usr/local/lib/python3.10/dist-packages/urllib3/connectionpool.py:1099: InsecureRequestWarning: Unverified HTTPS request is being made to host 'www.chinanews.com'. Adding certificate verification is strongly advised. See: https://urllib3.readthedocs.io/en/latest/advanced-usage.html#tls-warnings\n",
            "  warnings.warn(\n"
          ]
        },
        {
          "metadata": {
            "tags": null
          },
          "name": "stdout",
          "output_type": "stream",
          "text": [
            "Downloaded and saved HTML: https://www.chinanews.com/life/\n"
          ]
        },
        {
          "metadata": {
            "tags": null
          },
          "name": "stderr",
          "output_type": "stream",
          "text": [
            "/usr/local/lib/python3.10/dist-packages/urllib3/connectionpool.py:1099: InsecureRequestWarning: Unverified HTTPS request is being made to host 'www.chinanews.com'. Adding certificate verification is strongly advised. See: https://urllib3.readthedocs.io/en/latest/advanced-usage.html#tls-warnings\n",
            "  warnings.warn(\n"
          ]
        },
        {
          "metadata": {
            "tags": null
          },
          "name": "stdout",
          "output_type": "stream",
          "text": [
            "Downloaded and saved HTML: https://www.chinanews.com/txy/\n"
          ]
        },
        {
          "metadata": {
            "tags": null
          },
          "name": "stderr",
          "output_type": "stream",
          "text": [
            "/usr/local/lib/python3.10/dist-packages/urllib3/connectionpool.py:1099: InsecureRequestWarning: Unverified HTTPS request is being made to host 'www.chinanews.com'. Adding certificate verification is strongly advised. See: https://urllib3.readthedocs.io/en/latest/advanced-usage.html#tls-warnings\n",
            "  warnings.warn(\n"
          ]
        },
        {
          "metadata": {
            "tags": null
          },
          "name": "stdout",
          "output_type": "stream",
          "text": [
            "Downloaded and saved HTML: https://www.chinanews.com/zlgtt/\n"
          ]
        },
        {
          "metadata": {
            "tags": null
          },
          "name": "stderr",
          "output_type": "stream",
          "text": [
            "/usr/local/lib/python3.10/dist-packages/urllib3/connectionpool.py:1099: InsecureRequestWarning: Unverified HTTPS request is being made to host 'www.chinanews.com'. Adding certificate verification is strongly advised. See: https://urllib3.readthedocs.io/en/latest/advanced-usage.html#tls-warnings\n",
            "  warnings.warn(\n"
          ]
        },
        {
          "metadata": {
            "tags": null
          },
          "name": "stdout",
          "output_type": "stream",
          "text": [
            "Downloaded and saved HTML: https://www.chinanews.com/ydyl/index.shtml\n",
            "Downloaded and saved HTML: https://www.chinaqw.com/\n"
          ]
        },
        {
          "metadata": {
            "tags": null
          },
          "name": "stderr",
          "output_type": "stream",
          "text": [
            "/usr/local/lib/python3.10/dist-packages/urllib3/connectionpool.py:1099: InsecureRequestWarning: Unverified HTTPS request is being made to host 'www.chinaqw.com'. Adding certificate verification is strongly advised. See: https://urllib3.readthedocs.io/en/latest/advanced-usage.html#tls-warnings\n",
            "  warnings.warn(\n",
            "/usr/local/lib/python3.10/dist-packages/urllib3/connectionpool.py:1099: InsecureRequestWarning: Unverified HTTPS request is being made to host 'www.inewsweek.cn'. Adding certificate verification is strongly advised. See: https://urllib3.readthedocs.io/en/latest/advanced-usage.html#tls-warnings\n",
            "  warnings.warn(\n"
          ]
        },
        {
          "metadata": {
            "tags": null
          },
          "name": "stdout",
          "output_type": "stream",
          "text": [
            "Downloaded and saved HTML: https://www.inewsweek.cn/\n",
            "Downloaded and saved HTML: https://www.chinanews.com/gsztc/\n"
          ]
        },
        {
          "metadata": {
            "tags": null
          },
          "name": "stderr",
          "output_type": "stream",
          "text": [
            "/usr/local/lib/python3.10/dist-packages/urllib3/connectionpool.py:1099: InsecureRequestWarning: Unverified HTTPS request is being made to host 'www.chinanews.com'. Adding certificate verification is strongly advised. See: https://urllib3.readthedocs.io/en/latest/advanced-usage.html#tls-warnings\n",
            "  warnings.warn(\n",
            "/usr/local/lib/python3.10/dist-packages/urllib3/connectionpool.py:1099: InsecureRequestWarning: Unverified HTTPS request is being made to host 'www.chinanews.com'. Adding certificate verification is strongly advised. See: https://urllib3.readthedocs.io/en/latest/advanced-usage.html#tls-warnings\n",
            "  warnings.warn(\n"
          ]
        },
        {
          "metadata": {
            "tags": null
          },
          "name": "stdout",
          "output_type": "stream",
          "text": [
            "Downloaded and saved HTML: https://www.chinanews.com/shipin/\n"
          ]
        },
        {
          "metadata": {
            "tags": null
          },
          "name": "stderr",
          "output_type": "stream",
          "text": [
            "/usr/local/lib/python3.10/dist-packages/urllib3/connectionpool.py:1099: InsecureRequestWarning: Unverified HTTPS request is being made to host 'www.chinanews.com'. Adding certificate verification is strongly advised. See: https://urllib3.readthedocs.io/en/latest/advanced-usage.html#tls-warnings\n",
            "  warnings.warn(\n"
          ]
        },
        {
          "metadata": {
            "tags": null
          },
          "name": "stdout",
          "output_type": "stream",
          "text": [
            "Downloaded and saved HTML: https://www.chinanews.com/live.shtml\n"
          ]
        },
        {
          "metadata": {
            "tags": null
          },
          "name": "stderr",
          "output_type": "stream",
          "text": [
            "/usr/local/lib/python3.10/dist-packages/urllib3/connectionpool.py:1099: InsecureRequestWarning: Unverified HTTPS request is being made to host 'www.chinanews.com'. Adding certificate verification is strongly advised. See: https://urllib3.readthedocs.io/en/latest/advanced-usage.html#tls-warnings\n",
            "  warnings.warn(\n"
          ]
        },
        {
          "metadata": {
            "tags": null
          },
          "name": "stdout",
          "output_type": "stream",
          "text": [
            "Downloaded and saved HTML: https://www.chinanews.com/chuangyi/\n"
          ]
        },
        {
          "metadata": {
            "tags": null
          },
          "name": "stderr",
          "output_type": "stream",
          "text": [
            "/usr/local/lib/python3.10/dist-packages/urllib3/connectionpool.py:1099: InsecureRequestWarning: Unverified HTTPS request is being made to host 'www.chinanews.com'. Adding certificate verification is strongly advised. See: https://urllib3.readthedocs.io/en/latest/advanced-usage.html#tls-warnings\n",
            "  warnings.warn(\n"
          ]
        },
        {
          "metadata": {
            "tags": null
          },
          "name": "stdout",
          "output_type": "stream",
          "text": [
            "Downloaded and saved HTML: https://www.chinanews.com/photo/\n"
          ]
        },
        {
          "metadata": {
            "tags": null
          },
          "name": "stderr",
          "output_type": "stream",
          "text": [
            "/usr/local/lib/python3.10/dist-packages/urllib3/connectionpool.py:1099: InsecureRequestWarning: Unverified HTTPS request is being made to host 'www.ah.chinanews.com.cn'. Adding certificate verification is strongly advised. See: https://urllib3.readthedocs.io/en/latest/advanced-usage.html#tls-warnings\n",
            "  warnings.warn(\n"
          ]
        },
        {
          "metadata": {
            "tags": null
          },
          "name": "stdout",
          "output_type": "stream",
          "text": [
            "Downloaded and saved HTML: https://www.ah.chinanews.com.cn/\n"
          ]
        },
        {
          "metadata": {
            "tags": null
          },
          "name": "stderr",
          "output_type": "stream",
          "text": [
            "/usr/local/lib/python3.10/dist-packages/urllib3/connectionpool.py:1099: InsecureRequestWarning: Unverified HTTPS request is being made to host 'www.bj.chinanews.com.cn'. Adding certificate verification is strongly advised. See: https://urllib3.readthedocs.io/en/latest/advanced-usage.html#tls-warnings\n",
            "  warnings.warn(\n"
          ]
        },
        {
          "metadata": {
            "tags": null
          },
          "name": "stdout",
          "output_type": "stream",
          "text": [
            "Downloaded and saved HTML: https://www.bj.chinanews.com.cn/\n"
          ]
        },
        {
          "metadata": {
            "tags": null
          },
          "name": "stderr",
          "output_type": "stream",
          "text": [
            "/usr/local/lib/python3.10/dist-packages/urllib3/connectionpool.py:1099: InsecureRequestWarning: Unverified HTTPS request is being made to host 'www.cq.chinanews.com.cn'. Adding certificate verification is strongly advised. See: https://urllib3.readthedocs.io/en/latest/advanced-usage.html#tls-warnings\n",
            "  warnings.warn(\n"
          ]
        },
        {
          "metadata": {
            "tags": null
          },
          "name": "stdout",
          "output_type": "stream",
          "text": [
            "Downloaded and saved HTML: https://www.cq.chinanews.com.cn/\n"
          ]
        },
        {
          "metadata": {
            "tags": null
          },
          "name": "stderr",
          "output_type": "stream",
          "text": [
            "/usr/local/lib/python3.10/dist-packages/urllib3/connectionpool.py:1099: InsecureRequestWarning: Unverified HTTPS request is being made to host 'www.fj.chinanews.com.cn'. Adding certificate verification is strongly advised. See: https://urllib3.readthedocs.io/en/latest/advanced-usage.html#tls-warnings\n",
            "  warnings.warn(\n"
          ]
        },
        {
          "metadata": {
            "tags": null
          },
          "name": "stdout",
          "output_type": "stream",
          "text": [
            "Downloaded and saved HTML: https://www.fj.chinanews.com.cn/\n"
          ]
        },
        {
          "metadata": {
            "tags": null
          },
          "name": "stderr",
          "output_type": "stream",
          "text": [
            "/usr/local/lib/python3.10/dist-packages/urllib3/connectionpool.py:1099: InsecureRequestWarning: Unverified HTTPS request is being made to host 'www.gs.chinanews.com.cn'. Adding certificate verification is strongly advised. See: https://urllib3.readthedocs.io/en/latest/advanced-usage.html#tls-warnings\n",
            "  warnings.warn(\n"
          ]
        },
        {
          "metadata": {
            "tags": null
          },
          "name": "stdout",
          "output_type": "stream",
          "text": [
            "Downloaded and saved HTML: https://www.gs.chinanews.com.cn/\n"
          ]
        },
        {
          "metadata": {
            "tags": null
          },
          "name": "stderr",
          "output_type": "stream",
          "text": [
            "/usr/local/lib/python3.10/dist-packages/urllib3/connectionpool.py:1099: InsecureRequestWarning: Unverified HTTPS request is being made to host 'www.gz.chinanews.com.cn'. Adding certificate verification is strongly advised. See: https://urllib3.readthedocs.io/en/latest/advanced-usage.html#tls-warnings\n",
            "  warnings.warn(\n"
          ]
        },
        {
          "metadata": {
            "tags": null
          },
          "name": "stdout",
          "output_type": "stream",
          "text": [
            "Downloaded and saved HTML: https://www.gz.chinanews.com.cn/\n"
          ]
        },
        {
          "metadata": {
            "tags": null
          },
          "name": "stderr",
          "output_type": "stream",
          "text": [
            "/usr/local/lib/python3.10/dist-packages/urllib3/connectionpool.py:1099: InsecureRequestWarning: Unverified HTTPS request is being made to host 'www.gd.chinanews.com.cn'. Adding certificate verification is strongly advised. See: https://urllib3.readthedocs.io/en/latest/advanced-usage.html#tls-warnings\n",
            "  warnings.warn(\n"
          ]
        },
        {
          "metadata": {
            "tags": null
          },
          "name": "stdout",
          "output_type": "stream",
          "text": [
            "Downloaded and saved HTML: https://www.gd.chinanews.com.cn/\n"
          ]
        },
        {
          "metadata": {
            "tags": null
          },
          "name": "stderr",
          "output_type": "stream",
          "text": [
            "/usr/local/lib/python3.10/dist-packages/urllib3/connectionpool.py:1099: InsecureRequestWarning: Unverified HTTPS request is being made to host 'www.gx.chinanews.com.cn'. Adding certificate verification is strongly advised. See: https://urllib3.readthedocs.io/en/latest/advanced-usage.html#tls-warnings\n",
            "  warnings.warn(\n"
          ]
        },
        {
          "metadata": {
            "tags": null
          },
          "name": "stdout",
          "output_type": "stream",
          "text": [
            "Downloaded and saved HTML: https://www.gx.chinanews.com.cn/\n"
          ]
        },
        {
          "metadata": {
            "tags": null
          },
          "name": "stderr",
          "output_type": "stream",
          "text": [
            "/usr/local/lib/python3.10/dist-packages/urllib3/connectionpool.py:1099: InsecureRequestWarning: Unverified HTTPS request is being made to host 'www.hi.chinanews.com.cn'. Adding certificate verification is strongly advised. See: https://urllib3.readthedocs.io/en/latest/advanced-usage.html#tls-warnings\n",
            "  warnings.warn(\n"
          ]
        },
        {
          "metadata": {
            "tags": null
          },
          "name": "stdout",
          "output_type": "stream",
          "text": [
            "Downloaded and saved HTML: https://www.hi.chinanews.com.cn/\n"
          ]
        },
        {
          "metadata": {
            "tags": null
          },
          "name": "stderr",
          "output_type": "stream",
          "text": [
            "/usr/local/lib/python3.10/dist-packages/urllib3/connectionpool.py:1099: InsecureRequestWarning: Unverified HTTPS request is being made to host 'www.heb.chinanews.com.cn'. Adding certificate verification is strongly advised. See: https://urllib3.readthedocs.io/en/latest/advanced-usage.html#tls-warnings\n",
            "  warnings.warn(\n"
          ]
        },
        {
          "metadata": {
            "tags": null
          },
          "name": "stdout",
          "output_type": "stream",
          "text": [
            "Downloaded and saved HTML: https://www.heb.chinanews.com.cn/\n"
          ]
        },
        {
          "metadata": {
            "tags": null
          },
          "name": "stderr",
          "output_type": "stream",
          "text": [
            "/usr/local/lib/python3.10/dist-packages/urllib3/connectionpool.py:1099: InsecureRequestWarning: Unverified HTTPS request is being made to host 'www.ha.chinanews.com.cn'. Adding certificate verification is strongly advised. See: https://urllib3.readthedocs.io/en/latest/advanced-usage.html#tls-warnings\n",
            "  warnings.warn(\n"
          ]
        },
        {
          "metadata": {
            "tags": null
          },
          "name": "stdout",
          "output_type": "stream",
          "text": [
            "An error occurred while downloading https://www.ha.chinanews.com.cn/: 'gb2312' codec can't decode byte 0xa9 in position 63020: illegal multibyte sequence\n"
          ]
        },
        {
          "metadata": {
            "tags": null
          },
          "name": "stderr",
          "output_type": "stream",
          "text": [
            "/usr/local/lib/python3.10/dist-packages/urllib3/connectionpool.py:1099: InsecureRequestWarning: Unverified HTTPS request is being made to host 'www.hb.chinanews.com.cn'. Adding certificate verification is strongly advised. See: https://urllib3.readthedocs.io/en/latest/advanced-usage.html#tls-warnings\n",
            "  warnings.warn(\n"
          ]
        },
        {
          "metadata": {
            "tags": null
          },
          "name": "stdout",
          "output_type": "stream",
          "text": [
            "An error occurred while downloading https://www.hb.chinanews.com.cn/: 'gb2312' codec can't decode byte 0x96 in position 20758: illegal multibyte sequence\n"
          ]
        },
        {
          "metadata": {
            "tags": null
          },
          "name": "stderr",
          "output_type": "stream",
          "text": [
            "/usr/local/lib/python3.10/dist-packages/urllib3/connectionpool.py:1099: InsecureRequestWarning: Unverified HTTPS request is being made to host 'www.hn.chinanews.com.cn'. Adding certificate verification is strongly advised. See: https://urllib3.readthedocs.io/en/latest/advanced-usage.html#tls-warnings\n",
            "  warnings.warn(\n"
          ]
        },
        {
          "metadata": {
            "tags": null
          },
          "name": "stdout",
          "output_type": "stream",
          "text": [
            "An error occurred while downloading https://www.hn.chinanews.com.cn/: 'gb2312' codec can't decode byte 0x8d in position 71764: illegal multibyte sequence\n"
          ]
        },
        {
          "metadata": {
            "tags": null
          },
          "name": "stderr",
          "output_type": "stream",
          "text": [
            "/usr/local/lib/python3.10/dist-packages/urllib3/connectionpool.py:1099: InsecureRequestWarning: Unverified HTTPS request is being made to host 'www.hlj.chinanews.com.cn'. Adding certificate verification is strongly advised. See: https://urllib3.readthedocs.io/en/latest/advanced-usage.html#tls-warnings\n",
            "  warnings.warn(\n"
          ]
        },
        {
          "metadata": {
            "tags": null
          },
          "name": "stdout",
          "output_type": "stream",
          "text": [
            "Downloaded and saved HTML: https://www.hlj.chinanews.com.cn/\n"
          ]
        },
        {
          "metadata": {
            "tags": null
          },
          "name": "stderr",
          "output_type": "stream",
          "text": [
            "/usr/local/lib/python3.10/dist-packages/urllib3/connectionpool.py:1099: InsecureRequestWarning: Unverified HTTPS request is being made to host 'www.js.chinanews.com.cn'. Adding certificate verification is strongly advised. See: https://urllib3.readthedocs.io/en/latest/advanced-usage.html#tls-warnings\n",
            "  warnings.warn(\n"
          ]
        },
        {
          "metadata": {
            "tags": null
          },
          "name": "stdout",
          "output_type": "stream",
          "text": [
            "Downloaded and saved HTML: https://www.js.chinanews.com.cn/\n"
          ]
        },
        {
          "metadata": {
            "tags": null
          },
          "name": "stderr",
          "output_type": "stream",
          "text": [
            "/usr/local/lib/python3.10/dist-packages/urllib3/connectionpool.py:1099: InsecureRequestWarning: Unverified HTTPS request is being made to host 'www.jx.chinanews.com.cn'. Adding certificate verification is strongly advised. See: https://urllib3.readthedocs.io/en/latest/advanced-usage.html#tls-warnings\n",
            "  warnings.warn(\n"
          ]
        },
        {
          "metadata": {
            "tags": null
          },
          "name": "stdout",
          "output_type": "stream",
          "text": [
            "Downloaded and saved HTML: https://www.jx.chinanews.com.cn/\n"
          ]
        },
        {
          "metadata": {
            "tags": null
          },
          "name": "stderr",
          "output_type": "stream",
          "text": [
            "/usr/local/lib/python3.10/dist-packages/urllib3/connectionpool.py:1099: InsecureRequestWarning: Unverified HTTPS request is being made to host 'www.jl.chinanews.com.cn'. Adding certificate verification is strongly advised. See: https://urllib3.readthedocs.io/en/latest/advanced-usage.html#tls-warnings\n",
            "  warnings.warn(\n"
          ]
        },
        {
          "metadata": {
            "tags": null
          },
          "name": "stdout",
          "output_type": "stream",
          "text": [
            "Downloaded and saved HTML: https://www.jl.chinanews.com.cn/\n"
          ]
        },
        {
          "metadata": {
            "tags": null
          },
          "name": "stderr",
          "output_type": "stream",
          "text": [
            "/usr/local/lib/python3.10/dist-packages/urllib3/connectionpool.py:1099: InsecureRequestWarning: Unverified HTTPS request is being made to host 'www.ln.chinanews.com.cn'. Adding certificate verification is strongly advised. See: https://urllib3.readthedocs.io/en/latest/advanced-usage.html#tls-warnings\n",
            "  warnings.warn(\n"
          ]
        },
        {
          "metadata": {
            "tags": null
          },
          "name": "stdout",
          "output_type": "stream",
          "text": [
            "An error occurred while downloading https://www.ln.chinanews.com.cn/: 'gb2312' codec can't decode byte 0xb2 in position 44328: illegal multibyte sequence\n"
          ]
        },
        {
          "metadata": {
            "tags": null
          },
          "name": "stderr",
          "output_type": "stream",
          "text": [
            "/usr/local/lib/python3.10/dist-packages/urllib3/connectionpool.py:1099: InsecureRequestWarning: Unverified HTTPS request is being made to host 'www.nmg.chinanews.com.cn'. Adding certificate verification is strongly advised. See: https://urllib3.readthedocs.io/en/latest/advanced-usage.html#tls-warnings\n",
            "  warnings.warn(\n"
          ]
        },
        {
          "metadata": {
            "tags": null
          },
          "name": "stdout",
          "output_type": "stream",
          "text": [
            "Downloaded and saved HTML: https://www.nmg.chinanews.com.cn/\n"
          ]
        },
        {
          "metadata": {
            "tags": null
          },
          "name": "stderr",
          "output_type": "stream",
          "text": [
            "/usr/local/lib/python3.10/dist-packages/urllib3/connectionpool.py:1099: InsecureRequestWarning: Unverified HTTPS request is being made to host 'www.nx.chinanews.com.cn'. Adding certificate verification is strongly advised. See: https://urllib3.readthedocs.io/en/latest/advanced-usage.html#tls-warnings\n",
            "  warnings.warn(\n"
          ]
        },
        {
          "metadata": {
            "tags": null
          },
          "name": "stdout",
          "output_type": "stream",
          "text": [
            "Downloaded and saved HTML: https://www.nx.chinanews.com.cn/\n"
          ]
        },
        {
          "metadata": {
            "tags": null
          },
          "name": "stderr",
          "output_type": "stream",
          "text": [
            "/usr/local/lib/python3.10/dist-packages/urllib3/connectionpool.py:1099: InsecureRequestWarning: Unverified HTTPS request is being made to host 'www.qh.chinanews.com.cn'. Adding certificate verification is strongly advised. See: https://urllib3.readthedocs.io/en/latest/advanced-usage.html#tls-warnings\n",
            "  warnings.warn(\n"
          ]
        },
        {
          "metadata": {
            "tags": null
          },
          "name": "stdout",
          "output_type": "stream",
          "text": [
            "An error occurred while downloading https://www.qh.chinanews.com.cn/: 'gb2312' codec can't decode byte 0xfb in position 42004: illegal multibyte sequence\n"
          ]
        },
        {
          "metadata": {
            "tags": null
          },
          "name": "stderr",
          "output_type": "stream",
          "text": [
            "/usr/local/lib/python3.10/dist-packages/urllib3/connectionpool.py:1099: InsecureRequestWarning: Unverified HTTPS request is being made to host 'www.sd.chinanews.com.cn'. Adding certificate verification is strongly advised. See: https://urllib3.readthedocs.io/en/latest/advanced-usage.html#tls-warnings\n",
            "  warnings.warn(\n"
          ]
        },
        {
          "metadata": {
            "tags": null
          },
          "name": "stdout",
          "output_type": "stream",
          "text": [
            "An error occurred while downloading https://www.sd.chinanews.com.cn/: 'gb2312' codec can't decode byte 0x95 in position 36362: illegal multibyte sequence\n"
          ]
        },
        {
          "metadata": {
            "tags": null
          },
          "name": "stderr",
          "output_type": "stream",
          "text": [
            "/usr/local/lib/python3.10/dist-packages/urllib3/connectionpool.py:1099: InsecureRequestWarning: Unverified HTTPS request is being made to host 'www.sx.chinanews.com.cn'. Adding certificate verification is strongly advised. See: https://urllib3.readthedocs.io/en/latest/advanced-usage.html#tls-warnings\n",
            "  warnings.warn(\n"
          ]
        },
        {
          "metadata": {
            "tags": null
          },
          "name": "stdout",
          "output_type": "stream",
          "text": [
            "An error occurred while downloading https://www.sx.chinanews.com.cn/: 'gb2312' codec can't decode byte 0xeb in position 14225: illegal multibyte sequence\n"
          ]
        },
        {
          "metadata": {
            "tags": null
          },
          "name": "stderr",
          "output_type": "stream",
          "text": [
            "/usr/local/lib/python3.10/dist-packages/urllib3/connectionpool.py:1099: InsecureRequestWarning: Unverified HTTPS request is being made to host 'www.shx.chinanews.com.cn'. Adding certificate verification is strongly advised. See: https://urllib3.readthedocs.io/en/latest/advanced-usage.html#tls-warnings\n",
            "  warnings.warn(\n"
          ]
        },
        {
          "metadata": {
            "tags": null
          },
          "name": "stdout",
          "output_type": "stream",
          "text": [
            "Downloaded and saved HTML: https://www.shx.chinanews.com.cn/\n"
          ]
        },
        {
          "metadata": {
            "tags": null
          },
          "name": "stderr",
          "output_type": "stream",
          "text": [
            "/usr/local/lib/python3.10/dist-packages/urllib3/connectionpool.py:1099: InsecureRequestWarning: Unverified HTTPS request is being made to host 'www.sh.chinanews.com.cn'. Adding certificate verification is strongly advised. See: https://urllib3.readthedocs.io/en/latest/advanced-usage.html#tls-warnings\n",
            "  warnings.warn(\n"
          ]
        },
        {
          "metadata": {
            "tags": null
          },
          "name": "stdout",
          "output_type": "stream",
          "text": [
            "An error occurred while downloading https://www.sh.chinanews.com.cn/: 'gb2312' codec can't decode byte 0x9e in position 15287: illegal multibyte sequence\n"
          ]
        },
        {
          "metadata": {
            "tags": null
          },
          "name": "stderr",
          "output_type": "stream",
          "text": [
            "/usr/local/lib/python3.10/dist-packages/urllib3/connectionpool.py:1099: InsecureRequestWarning: Unverified HTTPS request is being made to host 'www.sc.chinanews.com.cn'. Adding certificate verification is strongly advised. See: https://urllib3.readthedocs.io/en/latest/advanced-usage.html#tls-warnings\n",
            "  warnings.warn(\n"
          ]
        },
        {
          "metadata": {
            "tags": null
          },
          "name": "stdout",
          "output_type": "stream",
          "text": [
            "Downloaded and saved HTML: https://www.sc.chinanews.com.cn/\n"
          ]
        },
        {
          "metadata": {
            "tags": null
          },
          "name": "stderr",
          "output_type": "stream",
          "text": [
            "/usr/local/lib/python3.10/dist-packages/urllib3/connectionpool.py:1099: InsecureRequestWarning: Unverified HTTPS request is being made to host 'www.tj.chinanews.com.cn'. Adding certificate verification is strongly advised. See: https://urllib3.readthedocs.io/en/latest/advanced-usage.html#tls-warnings\n",
            "  warnings.warn(\n"
          ]
        },
        {
          "metadata": {
            "tags": null
          },
          "name": "stdout",
          "output_type": "stream",
          "text": [
            "Downloaded and saved HTML: https://www.tj.chinanews.com.cn/\n"
          ]
        },
        {
          "metadata": {
            "tags": null
          },
          "name": "stderr",
          "output_type": "stream",
          "text": [
            "/usr/local/lib/python3.10/dist-packages/urllib3/connectionpool.py:1099: InsecureRequestWarning: Unverified HTTPS request is being made to host 'www.xj.chinanews.com.cn'. Adding certificate verification is strongly advised. See: https://urllib3.readthedocs.io/en/latest/advanced-usage.html#tls-warnings\n",
            "  warnings.warn(\n"
          ]
        },
        {
          "metadata": {
            "tags": null
          },
          "name": "stdout",
          "output_type": "stream",
          "text": [
            "Downloaded and saved HTML: https://www.xj.chinanews.com.cn/\n"
          ]
        },
        {
          "metadata": {
            "tags": null
          },
          "name": "stderr",
          "output_type": "stream",
          "text": [
            "/usr/local/lib/python3.10/dist-packages/urllib3/connectionpool.py:1099: InsecureRequestWarning: Unverified HTTPS request is being made to host 'www.bt.chinanews.com.cn'. Adding certificate verification is strongly advised. See: https://urllib3.readthedocs.io/en/latest/advanced-usage.html#tls-warnings\n",
            "  warnings.warn(\n"
          ]
        },
        {
          "metadata": {
            "tags": null
          },
          "name": "stdout",
          "output_type": "stream",
          "text": [
            "Downloaded and saved HTML: https://www.bt.chinanews.com.cn/\n"
          ]
        },
        {
          "metadata": {
            "tags": null
          },
          "name": "stderr",
          "output_type": "stream",
          "text": [
            "/usr/local/lib/python3.10/dist-packages/urllib3/connectionpool.py:1099: InsecureRequestWarning: Unverified HTTPS request is being made to host 'www.yn.chinanews.com.cn'. Adding certificate verification is strongly advised. See: https://urllib3.readthedocs.io/en/latest/advanced-usage.html#tls-warnings\n",
            "  warnings.warn(\n"
          ]
        },
        {
          "metadata": {
            "tags": null
          },
          "name": "stdout",
          "output_type": "stream",
          "text": [
            "Downloaded and saved HTML: https://www.yn.chinanews.com.cn/\n"
          ]
        },
        {
          "metadata": {
            "tags": null
          },
          "name": "stderr",
          "output_type": "stream",
          "text": [
            "/usr/local/lib/python3.10/dist-packages/urllib3/connectionpool.py:1099: InsecureRequestWarning: Unverified HTTPS request is being made to host 'www.zj.chinanews.com.cn'. Adding certificate verification is strongly advised. See: https://urllib3.readthedocs.io/en/latest/advanced-usage.html#tls-warnings\n",
            "  warnings.warn(\n"
          ]
        },
        {
          "metadata": {
            "tags": null
          },
          "name": "stdout",
          "output_type": "stream",
          "text": [
            "Downloaded and saved HTML: https://www.zj.chinanews.com.cn/\n"
          ]
        },
        {
          "metadata": {
            "tags": null
          },
          "name": "stderr",
          "output_type": "stream",
          "text": [
            "/usr/local/lib/python3.10/dist-packages/urllib3/connectionpool.py:1099: InsecureRequestWarning: Unverified HTTPS request is being made to host 'www.chinanews.com'. Adding certificate verification is strongly advised. See: https://urllib3.readthedocs.io/en/latest/advanced-usage.html#tls-warnings\n",
            "  warnings.warn(\n"
          ]
        },
        {
          "metadata": {
            "tags": null
          },
          "name": "stdout",
          "output_type": "stream",
          "text": [
            "Downloaded and saved HTML: https://www.chinanews.com/scroll-news/news1.html\n"
          ]
        },
        {
          "metadata": {
            "tags": null
          },
          "name": "stderr",
          "output_type": "stream",
          "text": [
            "/usr/local/lib/python3.10/dist-packages/urllib3/connectionpool.py:1099: InsecureRequestWarning: Unverified HTTPS request is being made to host 'www.chinanews.com'. Adding certificate verification is strongly advised. See: https://urllib3.readthedocs.io/en/latest/advanced-usage.html#tls-warnings\n",
            "  warnings.warn(\n"
          ]
        },
        {
          "metadata": {
            "tags": null
          },
          "name": "stdout",
          "output_type": "stream",
          "text": [
            "Downloaded and saved HTML: https://www.chinanews.com/china/\n"
          ]
        },
        {
          "metadata": {
            "tags": null
          },
          "name": "stderr",
          "output_type": "stream",
          "text": [
            "/usr/local/lib/python3.10/dist-packages/urllib3/connectionpool.py:1099: InsecureRequestWarning: Unverified HTTPS request is being made to host 'channel.chinanews.com.cn'. Adding certificate verification is strongly advised. See: https://urllib3.readthedocs.io/en/latest/advanced-usage.html#tls-warnings\n",
            "  warnings.warn(\n"
          ]
        },
        {
          "metadata": {
            "tags": null
          },
          "name": "stdout",
          "output_type": "stream",
          "text": [
            "Downloaded and saved HTML: https://channel.chinanews.com.cn/cns/cl/gn-gcdt.shtml\n"
          ]
        },
        {
          "metadata": {
            "tags": null
          },
          "name": "stderr",
          "output_type": "stream",
          "text": [
            "/usr/local/lib/python3.10/dist-packages/urllib3/connectionpool.py:1099: InsecureRequestWarning: Unverified HTTPS request is being made to host 'channel.chinanews.com.cn'. Adding certificate verification is strongly advised. See: https://urllib3.readthedocs.io/en/latest/advanced-usage.html#tls-warnings\n",
            "  warnings.warn(\n"
          ]
        },
        {
          "metadata": {
            "tags": null
          },
          "name": "stdout",
          "output_type": "stream",
          "text": [
            "Downloaded and saved HTML: https://channel.chinanews.com.cn/cns/cl/gn-rsbd.shtml\n"
          ]
        },
        {
          "metadata": {
            "tags": null
          },
          "name": "stderr",
          "output_type": "stream",
          "text": [
            "/usr/local/lib/python3.10/dist-packages/urllib3/connectionpool.py:1099: InsecureRequestWarning: Unverified HTTPS request is being made to host 'channel.chinanews.com.cn'. Adding certificate verification is strongly advised. See: https://urllib3.readthedocs.io/en/latest/advanced-usage.html#tls-warnings\n",
            "  warnings.warn(\n"
          ]
        },
        {
          "metadata": {
            "tags": null
          },
          "name": "stdout",
          "output_type": "stream",
          "text": [
            "Downloaded and saved HTML: https://channel.chinanews.com.cn/cns/cl/fz-ffcl.shtml\n"
          ]
        },
        {
          "metadata": {
            "tags": null
          },
          "name": "stderr",
          "output_type": "stream",
          "text": [
            "/usr/local/lib/python3.10/dist-packages/urllib3/connectionpool.py:1099: InsecureRequestWarning: Unverified HTTPS request is being made to host 'channel.chinanews.com.cn'. Adding certificate verification is strongly advised. See: https://urllib3.readthedocs.io/en/latest/advanced-usage.html#tls-warnings\n",
            "  warnings.warn(\n"
          ]
        },
        {
          "metadata": {
            "tags": null
          },
          "name": "stdout",
          "output_type": "stream",
          "text": [
            "Downloaded and saved HTML: https://channel.chinanews.com.cn/u/sdbd.shtml\n"
          ]
        },
        {
          "metadata": {
            "tags": null
          },
          "name": "stderr",
          "output_type": "stream",
          "text": [
            "/usr/local/lib/python3.10/dist-packages/urllib3/connectionpool.py:1099: InsecureRequestWarning: Unverified HTTPS request is being made to host 'channel.chinanews.com.cn'. Adding certificate verification is strongly advised. See: https://urllib3.readthedocs.io/en/latest/advanced-usage.html#tls-warnings\n",
            "  warnings.warn(\n"
          ]
        },
        {
          "metadata": {
            "tags": null
          },
          "name": "stdout",
          "output_type": "stream",
          "text": [
            "Downloaded and saved HTML: https://channel.chinanews.com.cn/u/gn-la.shtml\n"
          ]
        },
        {
          "metadata": {
            "tags": null
          },
          "name": "stderr",
          "output_type": "stream",
          "text": [
            "/usr/local/lib/python3.10/dist-packages/urllib3/connectionpool.py:1099: InsecureRequestWarning: Unverified HTTPS request is being made to host 'channel.chinanews.com.cn'. Adding certificate verification is strongly advised. See: https://urllib3.readthedocs.io/en/latest/advanced-usage.html#tls-warnings\n",
            "  warnings.warn(\n"
          ]
        },
        {
          "metadata": {
            "tags": null
          },
          "name": "stdout",
          "output_type": "stream",
          "text": [
            "Downloaded and saved HTML: https://channel.chinanews.com.cn/cns/cl/gn-kjww.shtml\n"
          ]
        },
        {
          "metadata": {
            "tags": null
          },
          "name": "stderr",
          "output_type": "stream",
          "text": [
            "/usr/local/lib/python3.10/dist-packages/urllib3/connectionpool.py:1099: InsecureRequestWarning: Unverified HTTPS request is being made to host 'channel.chinanews.com.cn'. Adding certificate verification is strongly advised. See: https://urllib3.readthedocs.io/en/latest/advanced-usage.html#tls-warnings\n",
            "  warnings.warn(\n"
          ]
        },
        {
          "metadata": {
            "tags": null
          },
          "name": "stdout",
          "output_type": "stream",
          "text": [
            "Downloaded and saved HTML: https://channel.chinanews.com.cn/cns/cl/gn-js.shtml\n"
          ]
        },
        {
          "metadata": {
            "tags": null
          },
          "name": "stderr",
          "output_type": "stream",
          "text": [
            "/usr/local/lib/python3.10/dist-packages/urllib3/connectionpool.py:1099: InsecureRequestWarning: Unverified HTTPS request is being made to host 'www.chinanews.com'. Adding certificate verification is strongly advised. See: https://urllib3.readthedocs.io/en/latest/advanced-usage.html#tls-warnings\n",
            "  warnings.warn(\n"
          ]
        },
        {
          "metadata": {
            "tags": null
          },
          "name": "stdout",
          "output_type": "stream",
          "text": [
            "Downloaded and saved HTML: https://www.chinanews.com/dxw/\n"
          ]
        },
        {
          "metadata": {
            "tags": null
          },
          "name": "stderr",
          "output_type": "stream",
          "text": [
            "/usr/local/lib/python3.10/dist-packages/urllib3/connectionpool.py:1099: InsecureRequestWarning: Unverified HTTPS request is being made to host 'channel.chinanews.com.cn'. Adding certificate verification is strongly advised. See: https://urllib3.readthedocs.io/en/latest/advanced-usage.html#tls-warnings\n",
            "  warnings.warn(\n"
          ]
        },
        {
          "metadata": {
            "tags": null
          },
          "name": "stdout",
          "output_type": "stream",
          "text": [
            "Downloaded and saved HTML: https://channel.chinanews.com.cn/u/dxw-wetalk.shtml\n"
          ]
        },
        {
          "metadata": {
            "tags": null
          },
          "name": "stderr",
          "output_type": "stream",
          "text": [
            "/usr/local/lib/python3.10/dist-packages/urllib3/connectionpool.py:1099: InsecureRequestWarning: Unverified HTTPS request is being made to host 'channel.chinanews.com.cn'. Adding certificate verification is strongly advised. See: https://urllib3.readthedocs.io/en/latest/advanced-usage.html#tls-warnings\n",
            "  warnings.warn(\n"
          ]
        },
        {
          "metadata": {
            "tags": null
          },
          "name": "stdout",
          "output_type": "stream",
          "text": [
            "Downloaded and saved HTML: https://channel.chinanews.com.cn/u/dxw-sjg.shtml\n"
          ]
        },
        {
          "metadata": {
            "tags": null
          },
          "name": "stderr",
          "output_type": "stream",
          "text": [
            "/usr/local/lib/python3.10/dist-packages/urllib3/connectionpool.py:1099: InsecureRequestWarning: Unverified HTTPS request is being made to host 'channel.chinanews.com.cn'. Adding certificate verification is strongly advised. See: https://urllib3.readthedocs.io/en/latest/advanced-usage.html#tls-warnings\n",
            "  warnings.warn(\n"
          ]
        },
        {
          "metadata": {
            "tags": null
          },
          "name": "stdout",
          "output_type": "stream",
          "text": [
            "Downloaded and saved HTML: https://channel.chinanews.com.cn/u/dxw-gjj.shtml\n"
          ]
        },
        {
          "metadata": {
            "tags": null
          },
          "name": "stderr",
          "output_type": "stream",
          "text": [
            "/usr/local/lib/python3.10/dist-packages/urllib3/connectionpool.py:1099: InsecureRequestWarning: Unverified HTTPS request is being made to host 'channel.chinanews.com.cn'. Adding certificate verification is strongly advised. See: https://urllib3.readthedocs.io/en/latest/advanced-usage.html#tls-warnings\n",
            "  warnings.warn(\n"
          ]
        },
        {
          "metadata": {
            "tags": null
          },
          "name": "stdout",
          "output_type": "stream",
          "text": [
            "Downloaded and saved HTML: https://channel.chinanews.com.cn/u/dxw-wszsd.shtml\n"
          ]
        },
        {
          "metadata": {
            "tags": null
          },
          "name": "stderr",
          "output_type": "stream",
          "text": [
            "/usr/local/lib/python3.10/dist-packages/urllib3/connectionpool.py:1099: InsecureRequestWarning: Unverified HTTPS request is being made to host 'channel.chinanews.com.cn'. Adding certificate verification is strongly advised. See: https://urllib3.readthedocs.io/en/latest/advanced-usage.html#tls-warnings\n",
            "  warnings.warn(\n"
          ]
        },
        {
          "metadata": {
            "tags": null
          },
          "name": "stdout",
          "output_type": "stream",
          "text": [
            "Downloaded and saved HTML: https://channel.chinanews.com.cn/u/dxw-yqd.shtml\n"
          ]
        },
        {
          "metadata": {
            "tags": null
          },
          "name": "stderr",
          "output_type": "stream",
          "text": [
            "/usr/local/lib/python3.10/dist-packages/urllib3/connectionpool.py:1099: InsecureRequestWarning: Unverified HTTPS request is being made to host 'channel.chinanews.com.cn'. Adding certificate verification is strongly advised. See: https://urllib3.readthedocs.io/en/latest/advanced-usage.html#tls-warnings\n",
            "  warnings.warn(\n"
          ]
        },
        {
          "metadata": {
            "tags": null
          },
          "name": "stdout",
          "output_type": "stream",
          "text": [
            "Downloaded and saved HTML: https://channel.chinanews.com.cn/u/dxw-ylc.shtml\n"
          ]
        },
        {
          "metadata": {
            "tags": null
          },
          "name": "stderr",
          "output_type": "stream",
          "text": [
            "/usr/local/lib/python3.10/dist-packages/urllib3/connectionpool.py:1099: InsecureRequestWarning: Unverified HTTPS request is being made to host 'channel.chinanews.com.cn'. Adding certificate verification is strongly advised. See: https://urllib3.readthedocs.io/en/latest/advanced-usage.html#tls-warnings\n",
            "  warnings.warn(\n"
          ]
        },
        {
          "metadata": {
            "tags": null
          },
          "name": "stdout",
          "output_type": "stream",
          "text": [
            "Downloaded and saved HTML: https://channel.chinanews.com.cn/u/dxw-xmp.shtml\n"
          ]
        },
        {
          "metadata": {
            "tags": null
          },
          "name": "stderr",
          "output_type": "stream",
          "text": [
            "/usr/local/lib/python3.10/dist-packages/urllib3/connectionpool.py:1099: InsecureRequestWarning: Unverified HTTPS request is being made to host 'channel.chinanews.com.cn'. Adding certificate verification is strongly advised. See: https://urllib3.readthedocs.io/en/latest/advanced-usage.html#tls-warnings\n",
            "  warnings.warn(\n"
          ]
        },
        {
          "metadata": {
            "tags": null
          },
          "name": "stdout",
          "output_type": "stream",
          "text": [
            "Downloaded and saved HTML: https://channel.chinanews.com.cn/u/dxw-sxj.shtml\n"
          ]
        },
        {
          "metadata": {
            "tags": null
          },
          "name": "stderr",
          "output_type": "stream",
          "text": [
            "/usr/local/lib/python3.10/dist-packages/urllib3/connectionpool.py:1099: InsecureRequestWarning: Unverified HTTPS request is being made to host 'channel.chinanews.com.cn'. Adding certificate verification is strongly advised. See: https://urllib3.readthedocs.io/en/latest/advanced-usage.html#tls-warnings\n",
            "  warnings.warn(\n"
          ]
        },
        {
          "metadata": {
            "tags": null
          },
          "name": "stdout",
          "output_type": "stream",
          "text": [
            "Downloaded and saved HTML: https://channel.chinanews.com.cn/u/dxw-hkt.shtml\n"
          ]
        },
        {
          "metadata": {
            "tags": null
          },
          "name": "stderr",
          "output_type": "stream",
          "text": [
            "/usr/local/lib/python3.10/dist-packages/urllib3/connectionpool.py:1099: InsecureRequestWarning: Unverified HTTPS request is being made to host 'channel.chinanews.com.cn'. Adding certificate verification is strongly advised. See: https://urllib3.readthedocs.io/en/latest/advanced-usage.html#tls-warnings\n",
            "  warnings.warn(\n"
          ]
        },
        {
          "metadata": {
            "tags": null
          },
          "name": "stdout",
          "output_type": "stream",
          "text": [
            "Downloaded and saved HTML: https://channel.chinanews.com.cn/u/dxw-yjy.shtml\n"
          ]
        },
        {
          "metadata": {
            "tags": null
          },
          "name": "stderr",
          "output_type": "stream",
          "text": [
            "/usr/local/lib/python3.10/dist-packages/urllib3/connectionpool.py:1099: InsecureRequestWarning: Unverified HTTPS request is being made to host 'channel.chinanews.com.cn'. Adding certificate verification is strongly advised. See: https://urllib3.readthedocs.io/en/latest/advanced-usage.html#tls-warnings\n",
            "  warnings.warn(\n",
            "/usr/local/lib/python3.10/dist-packages/urllib3/connectionpool.py:1099: InsecureRequestWarning: Unverified HTTPS request is being made to host 'channel.chinanews.com.cn'. Adding certificate verification is strongly advised. See: https://urllib3.readthedocs.io/en/latest/advanced-usage.html#tls-warnings\n",
            "  warnings.warn(\n"
          ]
        },
        {
          "metadata": {
            "tags": null
          },
          "name": "stdout",
          "output_type": "stream",
          "text": [
            "Downloaded and saved HTML: https://channel.chinanews.com.cn/u/dxw-wxd.shtml\n"
          ]
        },
        {
          "metadata": {
            "tags": null
          },
          "name": "stderr",
          "output_type": "stream",
          "text": [
            "/usr/local/lib/python3.10/dist-packages/urllib3/connectionpool.py:1099: InsecureRequestWarning: Unverified HTTPS request is being made to host 'www.chinanews.com'. Adding certificate verification is strongly advised. See: https://urllib3.readthedocs.io/en/latest/advanced-usage.html#tls-warnings\n",
            "  warnings.warn(\n"
          ]
        },
        {
          "metadata": {
            "tags": null
          },
          "name": "stdout",
          "output_type": "stream",
          "text": [
            "Downloaded and saved HTML: https://www.chinanews.com/finance/\n"
          ]
        },
        {
          "metadata": {
            "tags": null
          },
          "name": "stderr",
          "output_type": "stream",
          "text": [
            "/usr/local/lib/python3.10/dist-packages/urllib3/connectionpool.py:1099: InsecureRequestWarning: Unverified HTTPS request is being made to host 'channel.chinanews.com.cn'. Adding certificate verification is strongly advised. See: https://urllib3.readthedocs.io/en/latest/advanced-usage.html#tls-warnings\n",
            "  warnings.warn(\n"
          ]
        },
        {
          "metadata": {
            "tags": null
          },
          "name": "stdout",
          "output_type": "stream",
          "text": [
            "Downloaded and saved HTML: https://channel.chinanews.com.cn/u/cj/cj-hongguan.shtml\n"
          ]
        },
        {
          "metadata": {
            "tags": null
          },
          "name": "stderr",
          "output_type": "stream",
          "text": [
            "/usr/local/lib/python3.10/dist-packages/urllib3/connectionpool.py:1099: InsecureRequestWarning: Unverified HTTPS request is being made to host 'channel.chinanews.com.cn'. Adding certificate verification is strongly advised. See: https://urllib3.readthedocs.io/en/latest/advanced-usage.html#tls-warnings\n",
            "  warnings.warn(\n"
          ]
        },
        {
          "metadata": {
            "tags": null
          },
          "name": "stdout",
          "output_type": "stream",
          "text": [
            "Downloaded and saved HTML: https://channel.chinanews.com.cn/u/cj/cj-chanjing.shtml\n"
          ]
        },
        {
          "metadata": {
            "tags": null
          },
          "name": "stderr",
          "output_type": "stream",
          "text": [
            "/usr/local/lib/python3.10/dist-packages/urllib3/connectionpool.py:1099: InsecureRequestWarning: Unverified HTTPS request is being made to host 'channel.chinanews.com.cn'. Adding certificate verification is strongly advised. See: https://urllib3.readthedocs.io/en/latest/advanced-usage.html#tls-warnings\n",
            "  warnings.warn(\n"
          ]
        },
        {
          "metadata": {
            "tags": null
          },
          "name": "stdout",
          "output_type": "stream",
          "text": [
            "Downloaded and saved HTML: https://channel.chinanews.com.cn/cns/cl/cj-hgds.shtml\n"
          ]
        },
        {
          "metadata": {
            "tags": null
          },
          "name": "stderr",
          "output_type": "stream",
          "text": [
            "/usr/local/lib/python3.10/dist-packages/urllib3/connectionpool.py:1099: InsecureRequestWarning: Unverified HTTPS request is being made to host 'channel.chinanews.com.cn'. Adding certificate verification is strongly advised. See: https://urllib3.readthedocs.io/en/latest/advanced-usage.html#tls-warnings\n",
            "  warnings.warn(\n"
          ]
        },
        {
          "metadata": {
            "tags": null
          },
          "name": "stdout",
          "output_type": "stream",
          "text": [
            "Downloaded and saved HTML: https://channel.chinanews.com.cn/cns/cl/cj-slh.shtml\n"
          ]
        },
        {
          "metadata": {
            "tags": null
          },
          "name": "stderr",
          "output_type": "stream",
          "text": [
            "/usr/local/lib/python3.10/dist-packages/urllib3/connectionpool.py:1099: InsecureRequestWarning: Unverified HTTPS request is being made to host 'channel.chinanews.com.cn'. Adding certificate verification is strongly advised. See: https://urllib3.readthedocs.io/en/latest/advanced-usage.html#tls-warnings\n",
            "  warnings.warn(\n"
          ]
        },
        {
          "metadata": {
            "tags": null
          },
          "name": "stdout",
          "output_type": "stream",
          "text": [
            "Downloaded and saved HTML: https://channel.chinanews.com.cn/cns/cl/cj-msrd.shtml\n"
          ]
        },
        {
          "metadata": {
            "tags": null
          },
          "name": "stderr",
          "output_type": "stream",
          "text": [
            "/usr/local/lib/python3.10/dist-packages/urllib3/connectionpool.py:1099: InsecureRequestWarning: Unverified HTTPS request is being made to host 'channel.chinanews.com.cn'. Adding certificate verification is strongly advised. See: https://urllib3.readthedocs.io/en/latest/advanced-usage.html#tls-warnings\n",
            "  warnings.warn(\n"
          ]
        },
        {
          "metadata": {
            "tags": null
          },
          "name": "stdout",
          "output_type": "stream",
          "text": [
            "Downloaded and saved HTML: https://channel.chinanews.com.cn/cns/cl/cj-zxcp.shtml\n"
          ]
        },
        {
          "metadata": {
            "tags": null
          },
          "name": "stderr",
          "output_type": "stream",
          "text": [
            "/usr/local/lib/python3.10/dist-packages/urllib3/connectionpool.py:1099: InsecureRequestWarning: Unverified HTTPS request is being made to host 'channel.chinanews.com.cn'. Adding certificate verification is strongly advised. See: https://urllib3.readthedocs.io/en/latest/advanced-usage.html#tls-warnings\n",
            "  warnings.warn(\n"
          ]
        },
        {
          "metadata": {
            "tags": null
          },
          "name": "stdout",
          "output_type": "stream",
          "text": [
            "Downloaded and saved HTML: https://channel.chinanews.com.cn/cns/cl/cj-fyrw.shtml\n"
          ]
        },
        {
          "metadata": {
            "tags": null
          },
          "name": "stderr",
          "output_type": "stream",
          "text": [
            "/usr/local/lib/python3.10/dist-packages/urllib3/connectionpool.py:1099: InsecureRequestWarning: Unverified HTTPS request is being made to host 'channel.chinanews.com.cn'. Adding certificate verification is strongly advised. See: https://urllib3.readthedocs.io/en/latest/advanced-usage.html#tls-warnings\n",
            "  warnings.warn(\n"
          ]
        },
        {
          "metadata": {
            "tags": null
          },
          "name": "stdout",
          "output_type": "stream",
          "text": [
            "Downloaded and saved HTML: https://channel.chinanews.com.cn/cns/cl/cj-zk.shtml\n"
          ]
        },
        {
          "metadata": {
            "tags": null
          },
          "name": "stderr",
          "output_type": "stream",
          "text": [
            "/usr/local/lib/python3.10/dist-packages/urllib3/connectionpool.py:1099: InsecureRequestWarning: Unverified HTTPS request is being made to host 'channel.chinanews.com.cn'. Adding certificate verification is strongly advised. See: https://urllib3.readthedocs.io/en/latest/advanced-usage.html#tls-warnings\n",
            "  warnings.warn(\n"
          ]
        },
        {
          "metadata": {
            "tags": null
          },
          "name": "stdout",
          "output_type": "stream",
          "text": [
            "Downloaded and saved HTML: https://channel.chinanews.com.cn/cns/cl/cj-gy.shtml\n"
          ]
        },
        {
          "metadata": {
            "tags": null
          },
          "name": "stderr",
          "output_type": "stream",
          "text": [
            "/usr/local/lib/python3.10/dist-packages/urllib3/connectionpool.py:1099: InsecureRequestWarning: Unverified HTTPS request is being made to host 'www.chinanews.com'. Adding certificate verification is strongly advised. See: https://urllib3.readthedocs.io/en/latest/advanced-usage.html#tls-warnings\n",
            "  warnings.warn(\n"
          ]
        },
        {
          "metadata": {
            "tags": null
          },
          "name": "stdout",
          "output_type": "stream",
          "text": [
            "Downloaded and saved HTML: https://www.chinanews.com/world/\n"
          ]
        },
        {
          "metadata": {
            "tags": null
          },
          "name": "stderr",
          "output_type": "stream",
          "text": [
            "/usr/local/lib/python3.10/dist-packages/urllib3/connectionpool.py:1099: InsecureRequestWarning: Unverified HTTPS request is being made to host 'channel.chinanews.com.cn'. Adding certificate verification is strongly advised. See: https://urllib3.readthedocs.io/en/latest/advanced-usage.html#tls-warnings\n",
            "  warnings.warn(\n"
          ]
        },
        {
          "metadata": {
            "tags": null
          },
          "name": "stdout",
          "output_type": "stream",
          "text": [
            "Downloaded and saved HTML: https://channel.chinanews.com.cn/cns/cl/gj-sjg.shtml\n"
          ]
        },
        {
          "metadata": {
            "tags": null
          },
          "name": "stderr",
          "output_type": "stream",
          "text": [
            "/usr/local/lib/python3.10/dist-packages/urllib3/connectionpool.py:1099: InsecureRequestWarning: Unverified HTTPS request is being made to host 'channel.chinanews.com.cn'. Adding certificate verification is strongly advised. See: https://urllib3.readthedocs.io/en/latest/advanced-usage.html#tls-warnings\n",
            "  warnings.warn(\n"
          ]
        },
        {
          "metadata": {
            "tags": null
          },
          "name": "stdout",
          "output_type": "stream",
          "text": [
            "Downloaded and saved HTML: https://channel.chinanews.com.cn/cns/cl/gj-zxsjg.shtml\n"
          ]
        },
        {
          "metadata": {
            "tags": null
          },
          "name": "stderr",
          "output_type": "stream",
          "text": [
            "/usr/local/lib/python3.10/dist-packages/urllib3/connectionpool.py:1099: InsecureRequestWarning: Unverified HTTPS request is being made to host 'channel.chinanews.com.cn'. Adding certificate verification is strongly advised. See: https://urllib3.readthedocs.io/en/latest/advanced-usage.html#tls-warnings\n",
            "  warnings.warn(\n"
          ]
        },
        {
          "metadata": {
            "tags": null
          },
          "name": "stdout",
          "output_type": "stream",
          "text": [
            "Downloaded and saved HTML: https://channel.chinanews.com.cn/u/gj-rw.shtml\n"
          ]
        },
        {
          "metadata": {
            "tags": null
          },
          "name": "stderr",
          "output_type": "stream",
          "text": [
            "/usr/local/lib/python3.10/dist-packages/urllib3/connectionpool.py:1099: InsecureRequestWarning: Unverified HTTPS request is being made to host 'channel.chinanews.com.cn'. Adding certificate verification is strongly advised. See: https://urllib3.readthedocs.io/en/latest/advanced-usage.html#tls-warnings\n",
            "  warnings.warn(\n"
          ]
        },
        {
          "metadata": {
            "tags": null
          },
          "name": "stdout",
          "output_type": "stream",
          "text": [
            "Downloaded and saved HTML: https://channel.chinanews.com.cn/cns/cl/gj-gjrp.shtml\n"
          ]
        },
        {
          "metadata": {
            "tags": null
          },
          "name": "stderr",
          "output_type": "stream",
          "text": [
            "/usr/local/lib/python3.10/dist-packages/urllib3/connectionpool.py:1099: InsecureRequestWarning: Unverified HTTPS request is being made to host 'channel.chinanews.com.cn'. Adding certificate verification is strongly advised. See: https://urllib3.readthedocs.io/en/latest/advanced-usage.html#tls-warnings\n",
            "  warnings.warn(\n"
          ]
        },
        {
          "metadata": {
            "tags": null
          },
          "name": "stdout",
          "output_type": "stream",
          "text": [
            "Downloaded and saved HTML: https://channel.chinanews.com.cn/cns/cl/gj-xmp.shtml\n"
          ]
        },
        {
          "metadata": {
            "tags": null
          },
          "name": "stderr",
          "output_type": "stream",
          "text": [
            "/usr/local/lib/python3.10/dist-packages/urllib3/connectionpool.py:1099: InsecureRequestWarning: Unverified HTTPS request is being made to host 'www.chinanews.com.cn'. Adding certificate verification is strongly advised. See: https://urllib3.readthedocs.io/en/latest/advanced-usage.html#tls-warnings\n",
            "  warnings.warn(\n"
          ]
        },
        {
          "metadata": {
            "tags": null
          },
          "name": "stdout",
          "output_type": "stream",
          "text": [
            "Downloaded and saved HTML: https://www.chinanews.com.cn/shipin/m/gj/views.shtml\n"
          ]
        },
        {
          "metadata": {
            "tags": null
          },
          "name": "stderr",
          "output_type": "stream",
          "text": [
            "/usr/local/lib/python3.10/dist-packages/urllib3/connectionpool.py:1099: InsecureRequestWarning: Unverified HTTPS request is being made to host 'www.chinanews.com'. Adding certificate verification is strongly advised. See: https://urllib3.readthedocs.io/en/latest/advanced-usage.html#tls-warnings\n",
            "  warnings.warn(\n"
          ]
        },
        {
          "metadata": {
            "tags": null
          },
          "name": "stdout",
          "output_type": "stream",
          "text": [
            "Downloaded and saved HTML: https://www.chinanews.com/society/\n"
          ]
        },
        {
          "metadata": {
            "tags": null
          },
          "name": "stderr",
          "output_type": "stream",
          "text": [
            "/usr/local/lib/python3.10/dist-packages/urllib3/connectionpool.py:1099: InsecureRequestWarning: Unverified HTTPS request is being made to host 'channel.chinanews.com.cn'. Adding certificate verification is strongly advised. See: https://urllib3.readthedocs.io/en/latest/advanced-usage.html#tls-warnings\n",
            "  warnings.warn(\n"
          ]
        },
        {
          "metadata": {
            "tags": null
          },
          "name": "stdout",
          "output_type": "stream",
          "text": [
            "Downloaded and saved HTML: https://channel.chinanews.com.cn/u/rdzz.shtml\n"
          ]
        },
        {
          "metadata": {
            "tags": null
          },
          "name": "stderr",
          "output_type": "stream",
          "text": [
            "/usr/local/lib/python3.10/dist-packages/urllib3/connectionpool.py:1099: InsecureRequestWarning: Unverified HTTPS request is being made to host 'channel.chinanews.com.cn'. Adding certificate verification is strongly advised. See: https://urllib3.readthedocs.io/en/latest/advanced-usage.html#tls-warnings\n",
            "  warnings.warn(\n"
          ]
        },
        {
          "metadata": {
            "tags": null
          },
          "name": "stdout",
          "output_type": "stream",
          "text": [
            "Downloaded and saved HTML: https://channel.chinanews.com.cn/cns/cl/sh-zxzt.shtml\n"
          ]
        },
        {
          "metadata": {
            "tags": null
          },
          "name": "stderr",
          "output_type": "stream",
          "text": [
            "/usr/local/lib/python3.10/dist-packages/urllib3/connectionpool.py:1099: InsecureRequestWarning: Unverified HTTPS request is being made to host 'channel.chinanews.com.cn'. Adding certificate verification is strongly advised. See: https://urllib3.readthedocs.io/en/latest/advanced-usage.html#tls-warnings\n",
            "  warnings.warn(\n"
          ]
        },
        {
          "metadata": {
            "tags": null
          },
          "name": "stdout",
          "output_type": "stream",
          "text": [
            "Downloaded and saved HTML: https://channel.chinanews.com.cn/u/fsh.shtml\n"
          ]
        },
        {
          "metadata": {
            "tags": null
          },
          "name": "stderr",
          "output_type": "stream",
          "text": [
            "/usr/local/lib/python3.10/dist-packages/urllib3/connectionpool.py:1099: InsecureRequestWarning: Unverified HTTPS request is being made to host 'channel.chinanews.com.cn'. Adding certificate verification is strongly advised. See: https://urllib3.readthedocs.io/en/latest/advanced-usage.html#tls-warnings\n",
            "  warnings.warn(\n"
          ]
        },
        {
          "metadata": {
            "tags": null
          },
          "name": "stdout",
          "output_type": "stream",
          "text": [
            "Downloaded and saved HTML: https://channel.chinanews.com.cn/cns/cl/fz-jdrw.shtml\n"
          ]
        },
        {
          "metadata": {
            "tags": null
          },
          "name": "stderr",
          "output_type": "stream",
          "text": [
            "/usr/local/lib/python3.10/dist-packages/urllib3/connectionpool.py:1099: InsecureRequestWarning: Unverified HTTPS request is being made to host 'channel.chinanews.com.cn'. Adding certificate verification is strongly advised. See: https://urllib3.readthedocs.io/en/latest/advanced-usage.html#tls-warnings\n",
            "  warnings.warn(\n"
          ]
        },
        {
          "metadata": {
            "tags": null
          },
          "name": "stdout",
          "output_type": "stream",
          "text": [
            "Downloaded and saved HTML: https://channel.chinanews.com.cn/u/gn-dyxc.shtml\n"
          ]
        },
        {
          "metadata": {
            "tags": null
          },
          "name": "stderr",
          "output_type": "stream",
          "text": [
            "/usr/local/lib/python3.10/dist-packages/urllib3/connectionpool.py:1099: InsecureRequestWarning: Unverified HTTPS request is being made to host 'www.chinanews.com'. Adding certificate verification is strongly advised. See: https://urllib3.readthedocs.io/en/latest/advanced-usage.html#tls-warnings\n",
            "  warnings.warn(\n"
          ]
        },
        {
          "metadata": {
            "tags": null
          },
          "name": "stdout",
          "output_type": "stream",
          "text": [
            "Downloaded and saved HTML: https://www.chinanews.com/dwq/\n"
          ]
        },
        {
          "metadata": {
            "tags": null
          },
          "name": "stderr",
          "output_type": "stream",
          "text": [
            "/usr/local/lib/python3.10/dist-packages/urllib3/connectionpool.py:1099: InsecureRequestWarning: Unverified HTTPS request is being made to host 'channel.chinanews.com.cn'. Adding certificate verification is strongly advised. See: https://urllib3.readthedocs.io/en/latest/advanced-usage.html#tls-warnings\n",
            "  warnings.warn(\n"
          ]
        },
        {
          "metadata": {
            "tags": null
          },
          "name": "stdout",
          "output_type": "stream",
          "text": [
            "Downloaded and saved HTML: https://channel.chinanews.com.cn/u/dwq-ga.shtml\n"
          ]
        },
        {
          "metadata": {
            "tags": null
          },
          "name": "stderr",
          "output_type": "stream",
          "text": [
            "/usr/local/lib/python3.10/dist-packages/urllib3/connectionpool.py:1099: InsecureRequestWarning: Unverified HTTPS request is being made to host 'channel.chinanews.com.cn'. Adding certificate verification is strongly advised. See: https://urllib3.readthedocs.io/en/latest/advanced-usage.html#tls-warnings\n",
            "  warnings.warn(\n"
          ]
        },
        {
          "metadata": {
            "tags": null
          },
          "name": "stdout",
          "output_type": "stream",
          "text": [
            "Downloaded and saved HTML: https://channel.chinanews.com.cn/cns/cl/dwq-fxb.shtml\n"
          ]
        },
        {
          "metadata": {
            "tags": null
          },
          "name": "stderr",
          "output_type": "stream",
          "text": [
            "/usr/local/lib/python3.10/dist-packages/urllib3/connectionpool.py:1099: InsecureRequestWarning: Unverified HTTPS request is being made to host 'channel.chinanews.com.cn'. Adding certificate verification is strongly advised. See: https://urllib3.readthedocs.io/en/latest/advanced-usage.html#tls-warnings\n",
            "  warnings.warn(\n"
          ]
        },
        {
          "metadata": {
            "tags": null
          },
          "name": "stdout",
          "output_type": "stream",
          "text": [
            "Downloaded and saved HTML: https://channel.chinanews.com.cn/cns/cl/dwq-kcd.shtml\n"
          ]
        },
        {
          "metadata": {
            "tags": null
          },
          "name": "stderr",
          "output_type": "stream",
          "text": [
            "/usr/local/lib/python3.10/dist-packages/urllib3/connectionpool.py:1099: InsecureRequestWarning: Unverified HTTPS request is being made to host 'channel.chinanews.com.cn'. Adding certificate verification is strongly advised. See: https://urllib3.readthedocs.io/en/latest/advanced-usage.html#tls-warnings\n",
            "  warnings.warn(\n"
          ]
        },
        {
          "metadata": {
            "tags": null
          },
          "name": "stdout",
          "output_type": "stream",
          "text": [
            "Downloaded and saved HTML: https://channel.chinanews.com.cn/cns/cl/dwq-qns.shtml\n"
          ]
        },
        {
          "metadata": {
            "tags": null
          },
          "name": "stderr",
          "output_type": "stream",
          "text": [
            "/usr/local/lib/python3.10/dist-packages/urllib3/connectionpool.py:1099: InsecureRequestWarning: Unverified HTTPS request is being made to host 'channel.chinanews.com.cn'. Adding certificate verification is strongly advised. See: https://urllib3.readthedocs.io/en/latest/advanced-usage.html#tls-warnings\n",
            "  warnings.warn(\n"
          ]
        },
        {
          "metadata": {
            "tags": null
          },
          "name": "stdout",
          "output_type": "stream",
          "text": [
            "Downloaded and saved HTML: https://channel.chinanews.com.cn/u/dwq-wqzjjy.shtml\n"
          ]
        },
        {
          "metadata": {
            "tags": null
          },
          "name": "stderr",
          "output_type": "stream",
          "text": [
            "/usr/local/lib/python3.10/dist-packages/urllib3/connectionpool.py:1099: InsecureRequestWarning: Unverified HTTPS request is being made to host 'channel.chinanews.com.cn'. Adding certificate verification is strongly advised. See: https://urllib3.readthedocs.io/en/latest/advanced-usage.html#tls-warnings\n",
            "  warnings.warn(\n"
          ]
        },
        {
          "metadata": {
            "tags": null
          },
          "name": "stdout",
          "output_type": "stream",
          "text": [
            "Downloaded and saved HTML: https://channel.chinanews.com.cn/u/dwq-wqwdf.shtml\n"
          ]
        },
        {
          "metadata": {
            "tags": null
          },
          "name": "stderr",
          "output_type": "stream",
          "text": [
            "/usr/local/lib/python3.10/dist-packages/urllib3/connectionpool.py:1099: InsecureRequestWarning: Unverified HTTPS request is being made to host 'channel.chinanews.com.cn'. Adding certificate verification is strongly advised. See: https://urllib3.readthedocs.io/en/latest/advanced-usage.html#tls-warnings\n",
            "  warnings.warn(\n"
          ]
        },
        {
          "metadata": {
            "tags": null
          },
          "name": "stdout",
          "output_type": "stream",
          "text": [
            "Downloaded and saved HTML: https://channel.chinanews.com.cn/cns/cl/dwq-video.shtml\n"
          ]
        },
        {
          "metadata": {
            "tags": null
          },
          "name": "stderr",
          "output_type": "stream",
          "text": [
            "/usr/local/lib/python3.10/dist-packages/urllib3/connectionpool.py:1099: InsecureRequestWarning: Unverified HTTPS request is being made to host 'www.chinanews.com.cn'. Adding certificate verification is strongly advised. See: https://urllib3.readthedocs.io/en/latest/advanced-usage.html#tls-warnings\n",
            "  warnings.warn(\n"
          ]
        },
        {
          "metadata": {
            "tags": null
          },
          "name": "stdout",
          "output_type": "stream",
          "text": [
            "Downloaded and saved HTML: https://www.chinanews.com.cn/dwq/#wqmap\n"
          ]
        },
        {
          "metadata": {
            "tags": null
          },
          "name": "stderr",
          "output_type": "stream",
          "text": [
            "/usr/local/lib/python3.10/dist-packages/urllib3/connectionpool.py:1099: InsecureRequestWarning: Unverified HTTPS request is being made to host 'www.chinanews.com'. Adding certificate verification is strongly advised. See: https://urllib3.readthedocs.io/en/latest/advanced-usage.html#tls-warnings\n",
            "  warnings.warn(\n"
          ]
        },
        {
          "metadata": {
            "tags": null
          },
          "name": "stdout",
          "output_type": "stream",
          "text": [
            "Downloaded and saved HTML: https://www.chinanews.com/health/\n"
          ]
        },
        {
          "metadata": {
            "tags": null
          },
          "name": "stderr",
          "output_type": "stream",
          "text": [
            "/usr/local/lib/python3.10/dist-packages/urllib3/connectionpool.py:1099: InsecureRequestWarning: Unverified HTTPS request is being made to host 'channel.chinanews.com.cn'. Adding certificate verification is strongly advised. See: https://urllib3.readthedocs.io/en/latest/advanced-usage.html#tls-warnings\n",
            "  warnings.warn(\n"
          ]
        },
        {
          "metadata": {
            "tags": null
          },
          "name": "stdout",
          "output_type": "stream",
          "text": [
            "Downloaded and saved HTML: https://channel.chinanews.com.cn/cns/cl/life-doctoriscoming.shtml\n"
          ]
        },
        {
          "metadata": {
            "tags": null
          },
          "name": "stderr",
          "output_type": "stream",
          "text": [
            "/usr/local/lib/python3.10/dist-packages/urllib3/connectionpool.py:1099: InsecureRequestWarning: Unverified HTTPS request is being made to host 'channel.chinanews.com.cn'. Adding certificate verification is strongly advised. See: https://urllib3.readthedocs.io/en/latest/advanced-usage.html#tls-warnings\n",
            "  warnings.warn(\n"
          ]
        },
        {
          "metadata": {
            "tags": null
          },
          "name": "stdout",
          "output_type": "stream",
          "text": [
            "Downloaded and saved HTML: https://channel.chinanews.com.cn/cns/cl/life-temperatureofmedicine.shtml\n"
          ]
        },
        {
          "metadata": {
            "tags": null
          },
          "name": "stderr",
          "output_type": "stream",
          "text": [
            "/usr/local/lib/python3.10/dist-packages/urllib3/connectionpool.py:1099: InsecureRequestWarning: Unverified HTTPS request is being made to host 'channel.chinanews.com.cn'. Adding certificate verification is strongly advised. See: https://urllib3.readthedocs.io/en/latest/advanced-usage.html#tls-warnings\n",
            "  warnings.warn(\n"
          ]
        },
        {
          "metadata": {
            "tags": null
          },
          "name": "stdout",
          "output_type": "stream",
          "text": [
            "Downloaded and saved HTML: https://channel.chinanews.com.cn/cns/cl/life-observationsonmedicine.shtml\n"
          ]
        },
        {
          "metadata": {
            "tags": null
          },
          "name": "stderr",
          "output_type": "stream",
          "text": [
            "/usr/local/lib/python3.10/dist-packages/urllib3/connectionpool.py:1099: InsecureRequestWarning: Unverified HTTPS request is being made to host 'www.chinanews.com'. Adding certificate verification is strongly advised. See: https://urllib3.readthedocs.io/en/latest/advanced-usage.html#tls-warnings\n",
            "  warnings.warn(\n"
          ]
        },
        {
          "metadata": {
            "tags": null
          },
          "name": "stdout",
          "output_type": "stream",
          "text": [
            "Downloaded and saved HTML: https://www.chinanews.com/edu/\n"
          ]
        },
        {
          "metadata": {
            "tags": null
          },
          "name": "stderr",
          "output_type": "stream",
          "text": [
            "/usr/local/lib/python3.10/dist-packages/urllib3/connectionpool.py:1099: InsecureRequestWarning: Unverified HTTPS request is being made to host 'www.chinanews.com'. Adding certificate verification is strongly advised. See: https://urllib3.readthedocs.io/en/latest/advanced-usage.html#tls-warnings\n",
            "  warnings.warn(\n"
          ]
        },
        {
          "metadata": {
            "tags": null
          },
          "name": "stdout",
          "output_type": "stream",
          "text": [
            "Downloaded and saved HTML: https://www.chinanews.com/fazhi/\n"
          ]
        },
        {
          "metadata": {
            "tags": null
          },
          "name": "stderr",
          "output_type": "stream",
          "text": [
            "/usr/local/lib/python3.10/dist-packages/urllib3/connectionpool.py:1099: InsecureRequestWarning: Unverified HTTPS request is being made to host 'www.chinanews.com'. Adding certificate verification is strongly advised. See: https://urllib3.readthedocs.io/en/latest/advanced-usage.html#tls-warnings\n",
            "  warnings.warn(\n"
          ]
        },
        {
          "metadata": {
            "tags": null
          },
          "name": "stdout",
          "output_type": "stream",
          "text": [
            "Downloaded and saved HTML: https://www.chinanews.com/life/\n"
          ]
        },
        {
          "metadata": {
            "tags": null
          },
          "name": "stderr",
          "output_type": "stream",
          "text": [
            "/usr/local/lib/python3.10/dist-packages/urllib3/connectionpool.py:1099: InsecureRequestWarning: Unverified HTTPS request is being made to host 'www.chinaqw.com'. Adding certificate verification is strongly advised. See: https://urllib3.readthedocs.io/en/latest/advanced-usage.html#tls-warnings\n",
            "  warnings.warn(\n",
            "/usr/local/lib/python3.10/dist-packages/urllib3/connectionpool.py:1099: InsecureRequestWarning: Unverified HTTPS request is being made to host 'www.chinanews.com'. Adding certificate verification is strongly advised. See: https://urllib3.readthedocs.io/en/latest/advanced-usage.html#tls-warnings\n",
            "  warnings.warn(\n"
          ]
        },
        {
          "metadata": {
            "tags": null
          },
          "name": "stdout",
          "output_type": "stream",
          "text": [
            "Downloaded and saved HTML: https://www.chinaqw.com/\n",
            "Downloaded and saved HTML: https://www.chinanews.com/txy/\n"
          ]
        },
        {
          "metadata": {
            "tags": null
          },
          "name": "stderr",
          "output_type": "stream",
          "text": [
            "/usr/local/lib/python3.10/dist-packages/urllib3/connectionpool.py:1099: InsecureRequestWarning: Unverified HTTPS request is being made to host 'channel.chinanews.com.cn'. Adding certificate verification is strongly advised. See: https://urllib3.readthedocs.io/en/latest/advanced-usage.html#tls-warnings\n",
            "  warnings.warn(\n"
          ]
        },
        {
          "metadata": {
            "tags": null
          },
          "name": "stdout",
          "output_type": "stream",
          "text": [
            "Downloaded and saved HTML: https://channel.chinanews.com.cn/cns/cl/txy-tzyw.shtml\n"
          ]
        },
        {
          "metadata": {
            "tags": null
          },
          "name": "stderr",
          "output_type": "stream",
          "text": [
            "/usr/local/lib/python3.10/dist-packages/urllib3/connectionpool.py:1099: InsecureRequestWarning: Unverified HTTPS request is being made to host 'channel.chinanews.com.cn'. Adding certificate verification is strongly advised. See: https://urllib3.readthedocs.io/en/latest/advanced-usage.html#tls-warnings\n",
            "  warnings.warn(\n"
          ]
        },
        {
          "metadata": {
            "tags": null
          },
          "name": "stdout",
          "output_type": "stream",
          "text": [
            "Downloaded and saved HTML: https://channel.chinanews.com.cn/cns/cl/txy-tzsx.shtml\n"
          ]
        },
        {
          "metadata": {
            "tags": null
          },
          "name": "stderr",
          "output_type": "stream",
          "text": [
            "/usr/local/lib/python3.10/dist-packages/urllib3/connectionpool.py:1099: InsecureRequestWarning: Unverified HTTPS request is being made to host 'channel.chinanews.com.cn'. Adding certificate verification is strongly advised. See: https://urllib3.readthedocs.io/en/latest/advanced-usage.html#tls-warnings\n",
            "  warnings.warn(\n",
            "/usr/local/lib/python3.10/dist-packages/urllib3/connectionpool.py:1099: InsecureRequestWarning: Unverified HTTPS request is being made to host 'channel.chinanews.com.cn'. Adding certificate verification is strongly advised. See: https://urllib3.readthedocs.io/en/latest/advanced-usage.html#tls-warnings\n",
            "  warnings.warn(\n"
          ]
        },
        {
          "metadata": {
            "tags": null
          },
          "name": "stdout",
          "output_type": "stream",
          "text": [
            "Downloaded and saved HTML: https://channel.chinanews.com.cn/cns/cl/txy-gdtz.shtml\n"
          ]
        },
        {
          "metadata": {
            "tags": null
          },
          "name": "stderr",
          "output_type": "stream",
          "text": [
            "/usr/local/lib/python3.10/dist-packages/urllib3/connectionpool.py:1099: InsecureRequestWarning: Unverified HTTPS request is being made to host 'www.chinanews.com'. Adding certificate verification is strongly advised. See: https://urllib3.readthedocs.io/en/latest/advanced-usage.html#tls-warnings\n",
            "  warnings.warn(\n"
          ]
        },
        {
          "metadata": {
            "tags": null
          },
          "name": "stdout",
          "output_type": "stream",
          "text": [
            "Downloaded and saved HTML: https://www.chinanews.com/zlgtt/\n"
          ]
        },
        {
          "metadata": {
            "tags": null
          },
          "name": "stderr",
          "output_type": "stream",
          "text": [
            "/usr/local/lib/python3.10/dist-packages/urllib3/connectionpool.py:1099: InsecureRequestWarning: Unverified HTTPS request is being made to host 'channel.chinanews.com.cn'. Adding certificate verification is strongly advised. See: https://urllib3.readthedocs.io/en/latest/advanced-usage.html#tls-warnings\n",
            "  warnings.warn(\n"
          ]
        },
        {
          "metadata": {
            "tags": null
          },
          "name": "stdout",
          "output_type": "stream",
          "text": [
            "Downloaded and saved HTML: https://channel.chinanews.com.cn/cns/cl/mz-cc.shtml\n"
          ]
        },
        {
          "metadata": {
            "tags": null
          },
          "name": "stderr",
          "output_type": "stream",
          "text": [
            "/usr/local/lib/python3.10/dist-packages/urllib3/connectionpool.py:1099: InsecureRequestWarning: Unverified HTTPS request is being made to host 'channel.chinanews.com.cn'. Adding certificate verification is strongly advised. See: https://urllib3.readthedocs.io/en/latest/advanced-usage.html#tls-warnings\n",
            "  warnings.warn(\n"
          ]
        },
        {
          "metadata": {
            "tags": null
          },
          "name": "stdout",
          "output_type": "stream",
          "text": [
            "Downloaded and saved HTML: https://channel.chinanews.com.cn/cns/cl/mz-fg.shtml\n"
          ]
        },
        {
          "metadata": {
            "tags": null
          },
          "name": "stderr",
          "output_type": "stream",
          "text": [
            "/usr/local/lib/python3.10/dist-packages/urllib3/connectionpool.py:1099: InsecureRequestWarning: Unverified HTTPS request is being made to host 'channel.chinanews.com.cn'. Adding certificate verification is strongly advised. See: https://urllib3.readthedocs.io/en/latest/advanced-usage.html#tls-warnings\n",
            "  warnings.warn(\n"
          ]
        },
        {
          "metadata": {
            "tags": null
          },
          "name": "stdout",
          "output_type": "stream",
          "text": [
            "Downloaded and saved HTML: https://channel.chinanews.com.cn/cns/cl/mz-xs.shtml\n"
          ]
        },
        {
          "metadata": {
            "tags": null
          },
          "name": "stderr",
          "output_type": "stream",
          "text": [
            "/usr/local/lib/python3.10/dist-packages/urllib3/connectionpool.py:1099: InsecureRequestWarning: Unverified HTTPS request is being made to host 'channel.chinanews.com.cn'. Adding certificate verification is strongly advised. See: https://urllib3.readthedocs.io/en/latest/advanced-usage.html#tls-warnings\n",
            "  warnings.warn(\n"
          ]
        },
        {
          "metadata": {
            "tags": null
          },
          "name": "stdout",
          "output_type": "stream",
          "text": [
            "Downloaded and saved HTML: https://channel.chinanews.com.cn/cns/cl/mz-df.shtml\n"
          ]
        },
        {
          "metadata": {
            "tags": null
          },
          "name": "stderr",
          "output_type": "stream",
          "text": [
            "/usr/local/lib/python3.10/dist-packages/urllib3/connectionpool.py:1099: InsecureRequestWarning: Unverified HTTPS request is being made to host 'channel.chinanews.com.cn'. Adding certificate verification is strongly advised. See: https://urllib3.readthedocs.io/en/latest/advanced-usage.html#tls-warnings\n",
            "  warnings.warn(\n"
          ]
        },
        {
          "metadata": {
            "tags": null
          },
          "name": "stdout",
          "output_type": "stream",
          "text": [
            "Downloaded and saved HTML: https://channel.chinanews.com.cn/cns/cl/mz-gj.shtml\n"
          ]
        },
        {
          "metadata": {
            "tags": null
          },
          "name": "stderr",
          "output_type": "stream",
          "text": [
            "/usr/local/lib/python3.10/dist-packages/urllib3/connectionpool.py:1099: InsecureRequestWarning: Unverified HTTPS request is being made to host 'www.chinanews.com'. Adding certificate verification is strongly advised. See: https://urllib3.readthedocs.io/en/latest/advanced-usage.html#tls-warnings\n",
            "  warnings.warn(\n"
          ]
        },
        {
          "metadata": {
            "tags": null
          },
          "name": "stdout",
          "output_type": "stream",
          "text": [
            "Downloaded and saved HTML: https://www.chinanews.com/ydyl/\n"
          ]
        },
        {
          "metadata": {
            "tags": null
          },
          "name": "stderr",
          "output_type": "stream",
          "text": [
            "/usr/local/lib/python3.10/dist-packages/urllib3/connectionpool.py:1099: InsecureRequestWarning: Unverified HTTPS request is being made to host 'channel.chinanews.com.cn'. Adding certificate verification is strongly advised. See: https://urllib3.readthedocs.io/en/latest/advanced-usage.html#tls-warnings\n",
            "  warnings.warn(\n"
          ]
        },
        {
          "metadata": {
            "tags": null
          },
          "name": "stdout",
          "output_type": "stream",
          "text": [
            "Downloaded and saved HTML: https://channel.chinanews.com.cn/cns/cl/ydyl-rdjj.shtml\n"
          ]
        },
        {
          "metadata": {
            "tags": null
          },
          "name": "stderr",
          "output_type": "stream",
          "text": [
            "/usr/local/lib/python3.10/dist-packages/urllib3/connectionpool.py:1099: InsecureRequestWarning: Unverified HTTPS request is being made to host 'channel.chinanews.com.cn'. Adding certificate verification is strongly advised. See: https://urllib3.readthedocs.io/en/latest/advanced-usage.html#tls-warnings\n",
            "  warnings.warn(\n"
          ]
        },
        {
          "metadata": {
            "tags": null
          },
          "name": "stdout",
          "output_type": "stream",
          "text": [
            "Downloaded and saved HTML: https://channel.chinanews.com.cn/cns/cl/ydyl-sdft.shtml\n"
          ]
        },
        {
          "metadata": {
            "tags": null
          },
          "name": "stderr",
          "output_type": "stream",
          "text": [
            "/usr/local/lib/python3.10/dist-packages/urllib3/connectionpool.py:1099: InsecureRequestWarning: Unverified HTTPS request is being made to host 'channel.chinanews.com.cn'. Adding certificate verification is strongly advised. See: https://urllib3.readthedocs.io/en/latest/advanced-usage.html#tls-warnings\n",
            "  warnings.warn(\n"
          ]
        },
        {
          "metadata": {
            "tags": null
          },
          "name": "stdout",
          "output_type": "stream",
          "text": [
            "Downloaded and saved HTML: https://channel.chinanews.com.cn/cns/cl/ydyl-gfgz.shtml\n"
          ]
        },
        {
          "metadata": {
            "tags": null
          },
          "name": "stderr",
          "output_type": "stream",
          "text": [
            "/usr/local/lib/python3.10/dist-packages/urllib3/connectionpool.py:1099: InsecureRequestWarning: Unverified HTTPS request is being made to host 'channel.chinanews.com.cn'. Adding certificate verification is strongly advised. See: https://urllib3.readthedocs.io/en/latest/advanced-usage.html#tls-warnings\n",
            "  warnings.warn(\n"
          ]
        },
        {
          "metadata": {
            "tags": null
          },
          "name": "stdout",
          "output_type": "stream",
          "text": [
            "Downloaded and saved HTML: https://channel.chinanews.com.cn/u/ydyl-hwsj.shtml\n"
          ]
        },
        {
          "metadata": {
            "tags": null
          },
          "name": "stderr",
          "output_type": "stream",
          "text": [
            "/usr/local/lib/python3.10/dist-packages/urllib3/connectionpool.py:1099: InsecureRequestWarning: Unverified HTTPS request is being made to host 'channel.chinanews.com.cn'. Adding certificate verification is strongly advised. See: https://urllib3.readthedocs.io/en/latest/advanced-usage.html#tls-warnings\n",
            "  warnings.warn(\n"
          ]
        },
        {
          "metadata": {
            "tags": null
          },
          "name": "stdout",
          "output_type": "stream",
          "text": [
            "Downloaded and saved HTML: https://channel.chinanews.com.cn/cns/cl/ydyl-xmdt.shtml\n"
          ]
        },
        {
          "metadata": {
            "tags": null
          },
          "name": "stderr",
          "output_type": "stream",
          "text": [
            "/usr/local/lib/python3.10/dist-packages/urllib3/connectionpool.py:1099: InsecureRequestWarning: Unverified HTTPS request is being made to host 'channel.chinanews.com.cn'. Adding certificate verification is strongly advised. See: https://urllib3.readthedocs.io/en/latest/advanced-usage.html#tls-warnings\n",
            "  warnings.warn(\n"
          ]
        },
        {
          "metadata": {
            "tags": null
          },
          "name": "stdout",
          "output_type": "stream",
          "text": [
            "Downloaded and saved HTML: https://channel.chinanews.com.cn/cns/cl/ydyl-fscg.shtml\n"
          ]
        },
        {
          "metadata": {
            "tags": null
          },
          "name": "stderr",
          "output_type": "stream",
          "text": [
            "/usr/local/lib/python3.10/dist-packages/urllib3/connectionpool.py:1099: InsecureRequestWarning: Unverified HTTPS request is being made to host 'www.chinanews.com'. Adding certificate verification is strongly advised. See: https://urllib3.readthedocs.io/en/latest/advanced-usage.html#tls-warnings\n",
            "  warnings.warn(\n"
          ]
        },
        {
          "metadata": {
            "tags": null
          },
          "name": "stdout",
          "output_type": "stream",
          "text": [
            "Downloaded and saved HTML: https://www.chinanews.com/wy/\n"
          ]
        },
        {
          "metadata": {
            "tags": null
          },
          "name": "stderr",
          "output_type": "stream",
          "text": [
            "/usr/local/lib/python3.10/dist-packages/urllib3/connectionpool.py:1099: InsecureRequestWarning: Unverified HTTPS request is being made to host 'channel.chinanews.com.cn'. Adding certificate verification is strongly advised. See: https://urllib3.readthedocs.io/en/latest/advanced-usage.html#tls-warnings\n",
            "  warnings.warn(\n"
          ]
        },
        {
          "metadata": {
            "tags": null
          },
          "name": "stdout",
          "output_type": "stream",
          "text": [
            "Downloaded and saved HTML: https://channel.chinanews.com.cn/cns/cl/cul-jd.shtml\n"
          ]
        },
        {
          "metadata": {
            "tags": null
          },
          "name": "stderr",
          "output_type": "stream",
          "text": [
            "/usr/local/lib/python3.10/dist-packages/urllib3/connectionpool.py:1099: InsecureRequestWarning: Unverified HTTPS request is being made to host 'channel.chinanews.com.cn'. Adding certificate verification is strongly advised. See: https://urllib3.readthedocs.io/en/latest/advanced-usage.html#tls-warnings\n",
            "  warnings.warn(\n"
          ]
        },
        {
          "metadata": {
            "tags": null
          },
          "name": "stdout",
          "output_type": "stream",
          "text": [
            "Downloaded and saved HTML: https://channel.chinanews.com.cn/cns/cl/cul-xjgw.shtml\n"
          ]
        },
        {
          "metadata": {
            "tags": null
          },
          "name": "stderr",
          "output_type": "stream",
          "text": [
            "/usr/local/lib/python3.10/dist-packages/urllib3/connectionpool.py:1099: InsecureRequestWarning: Unverified HTTPS request is being made to host 'channel.chinanews.com.cn'. Adding certificate verification is strongly advised. See: https://urllib3.readthedocs.io/en/latest/advanced-usage.html#tls-warnings\n",
            "  warnings.warn(\n"
          ]
        },
        {
          "metadata": {
            "tags": null
          },
          "name": "stdout",
          "output_type": "stream",
          "text": [
            "Downloaded and saved HTML: https://channel.chinanews.com.cn/cns/cl/cul-gjqt.shtml\n"
          ]
        },
        {
          "metadata": {
            "tags": null
          },
          "name": "stderr",
          "output_type": "stream",
          "text": [
            "/usr/local/lib/python3.10/dist-packages/urllib3/connectionpool.py:1099: InsecureRequestWarning: Unverified HTTPS request is being made to host 'channel.chinanews.com.cn'. Adding certificate verification is strongly advised. See: https://urllib3.readthedocs.io/en/latest/advanced-usage.html#tls-warnings\n",
            "  warnings.warn(\n"
          ]
        },
        {
          "metadata": {
            "tags": null
          },
          "name": "stdout",
          "output_type": "stream",
          "text": [
            "Downloaded and saved HTML: https://channel.chinanews.com.cn/cns/cl/cul-rwzf.shtml\n"
          ]
        },
        {
          "metadata": {
            "tags": null
          },
          "name": "stderr",
          "output_type": "stream",
          "text": [
            "/usr/local/lib/python3.10/dist-packages/urllib3/connectionpool.py:1099: InsecureRequestWarning: Unverified HTTPS request is being made to host 'channel.chinanews.com.cn'. Adding certificate verification is strongly advised. See: https://urllib3.readthedocs.io/en/latest/advanced-usage.html#tls-warnings\n",
            "  warnings.warn(\n"
          ]
        },
        {
          "metadata": {
            "tags": null
          },
          "name": "stdout",
          "output_type": "stream",
          "text": [
            "Downloaded and saved HTML: https://channel.chinanews.com.cn/cns/cl/cul-sckgd.shtml\n"
          ]
        },
        {
          "metadata": {
            "tags": null
          },
          "name": "stderr",
          "output_type": "stream",
          "text": [
            "/usr/local/lib/python3.10/dist-packages/urllib3/connectionpool.py:1099: InsecureRequestWarning: Unverified HTTPS request is being made to host 'www.chinanews.com.cn'. Adding certificate verification is strongly advised. See: https://urllib3.readthedocs.io/en/latest/advanced-usage.html#tls-warnings\n",
            "  warnings.warn(\n"
          ]
        },
        {
          "metadata": {
            "tags": null
          },
          "name": "stdout",
          "output_type": "stream",
          "text": [
            "Downloaded and saved HTML: https://www.chinanews.com.cn/shipin/m/wy/wy-cul/views.shtml\n"
          ]
        },
        {
          "metadata": {
            "tags": null
          },
          "name": "stderr",
          "output_type": "stream",
          "text": [
            "/usr/local/lib/python3.10/dist-packages/urllib3/connectionpool.py:1099: InsecureRequestWarning: Unverified HTTPS request is being made to host 'channel.chinanews.com.cn'. Adding certificate verification is strongly advised. See: https://urllib3.readthedocs.io/en/latest/advanced-usage.html#tls-warnings\n",
            "  warnings.warn(\n"
          ]
        },
        {
          "metadata": {
            "tags": null
          },
          "name": "stdout",
          "output_type": "stream",
          "text": [
            "Downloaded and saved HTML: https://channel.chinanews.com.cn/u/yl/djzb.shtml\n"
          ]
        },
        {
          "metadata": {
            "tags": null
          },
          "name": "stderr",
          "output_type": "stream",
          "text": [
            "/usr/local/lib/python3.10/dist-packages/urllib3/connectionpool.py:1099: InsecureRequestWarning: Unverified HTTPS request is being made to host 'channel.chinanews.com.cn'. Adding certificate verification is strongly advised. See: https://urllib3.readthedocs.io/en/latest/advanced-usage.html#tls-warnings\n",
            "  warnings.warn(\n"
          ]
        },
        {
          "metadata": {
            "tags": null
          },
          "name": "stdout",
          "output_type": "stream",
          "text": [
            "Downloaded and saved HTML: https://channel.chinanews.com.cn/cns/cl/yl-mxnd.shtml\n"
          ]
        },
        {
          "metadata": {
            "tags": null
          },
          "name": "stderr",
          "output_type": "stream",
          "text": [
            "/usr/local/lib/python3.10/dist-packages/urllib3/connectionpool.py:1099: InsecureRequestWarning: Unverified HTTPS request is being made to host 'www.chinanews.com.cn'. Adding certificate verification is strongly advised. See: https://urllib3.readthedocs.io/en/latest/advanced-usage.html#tls-warnings\n",
            "  warnings.warn(\n"
          ]
        },
        {
          "metadata": {
            "tags": null
          },
          "name": "stdout",
          "output_type": "stream",
          "text": [
            "Downloaded and saved HTML: https://www.chinanews.com.cn/shipin/m/wy/wy-yl/views.shtml\n"
          ]
        },
        {
          "metadata": {
            "tags": null
          },
          "name": "stderr",
          "output_type": "stream",
          "text": [
            "/usr/local/lib/python3.10/dist-packages/urllib3/connectionpool.py:1099: InsecureRequestWarning: Unverified HTTPS request is being made to host 'channel.chinanews.com.cn'. Adding certificate verification is strongly advised. See: https://urllib3.readthedocs.io/en/latest/advanced-usage.html#tls-warnings\n",
            "  warnings.warn(\n"
          ]
        },
        {
          "metadata": {
            "tags": null
          },
          "name": "stdout",
          "output_type": "stream",
          "text": [
            "Downloaded and saved HTML: https://channel.chinanews.com.cn/cns/cl/yl-ypkb.shtml\n"
          ]
        },
        {
          "metadata": {
            "tags": null
          },
          "name": "stderr",
          "output_type": "stream",
          "text": [
            "/usr/local/lib/python3.10/dist-packages/urllib3/connectionpool.py:1099: InsecureRequestWarning: Unverified HTTPS request is being made to host 'channel.chinanews.com.cn'. Adding certificate verification is strongly advised. See: https://urllib3.readthedocs.io/en/latest/advanced-usage.html#tls-warnings\n",
            "  warnings.warn(\n"
          ]
        },
        {
          "metadata": {
            "tags": null
          },
          "name": "stdout",
          "output_type": "stream",
          "text": [
            "Downloaded and saved HTML: https://channel.chinanews.com.cn/cns/cl/yl-zykx.shtml\n"
          ]
        },
        {
          "metadata": {
            "tags": null
          },
          "name": "stderr",
          "output_type": "stream",
          "text": [
            "/usr/local/lib/python3.10/dist-packages/urllib3/connectionpool.py:1099: InsecureRequestWarning: Unverified HTTPS request is being made to host 'www.chinanews.com'. Adding certificate verification is strongly advised. See: https://urllib3.readthedocs.io/en/latest/advanced-usage.html#tls-warnings\n",
            "  warnings.warn(\n"
          ]
        },
        {
          "metadata": {
            "tags": null
          },
          "name": "stdout",
          "output_type": "stream",
          "text": [
            "Downloaded and saved HTML: https://www.chinanews.com/sports/\n"
          ]
        },
        {
          "metadata": {
            "tags": null
          },
          "name": "stderr",
          "output_type": "stream",
          "text": [
            "/usr/local/lib/python3.10/dist-packages/urllib3/connectionpool.py:1099: InsecureRequestWarning: Unverified HTTPS request is being made to host 'channel.chinanews.com.cn'. Adding certificate verification is strongly advised. See: https://urllib3.readthedocs.io/en/latest/advanced-usage.html#tls-warnings\n",
            "  warnings.warn(\n"
          ]
        },
        {
          "metadata": {
            "tags": null
          },
          "name": "stdout",
          "output_type": "stream",
          "text": [
            "Downloaded and saved HTML: https://channel.chinanews.com.cn/cns/cl/ty-bdjj.shtml\n"
          ]
        },
        {
          "metadata": {
            "tags": null
          },
          "name": "stderr",
          "output_type": "stream",
          "text": [
            "/usr/local/lib/python3.10/dist-packages/urllib3/connectionpool.py:1099: InsecureRequestWarning: Unverified HTTPS request is being made to host 'channel.chinanews.com.cn'. Adding certificate verification is strongly advised. See: https://urllib3.readthedocs.io/en/latest/advanced-usage.html#tls-warnings\n",
            "  warnings.warn(\n"
          ]
        },
        {
          "metadata": {
            "tags": null
          },
          "name": "stdout",
          "output_type": "stream",
          "text": [
            "Downloaded and saved HTML: https://channel.chinanews.com.cn/cns/cl/ty-gnzq.shtml\n"
          ]
        },
        {
          "metadata": {
            "tags": null
          },
          "name": "stderr",
          "output_type": "stream",
          "text": [
            "/usr/local/lib/python3.10/dist-packages/urllib3/connectionpool.py:1099: InsecureRequestWarning: Unverified HTTPS request is being made to host 'channel.chinanews.com.cn'. Adding certificate verification is strongly advised. See: https://urllib3.readthedocs.io/en/latest/advanced-usage.html#tls-warnings\n",
            "  warnings.warn(\n"
          ]
        },
        {
          "metadata": {
            "tags": null
          },
          "name": "stdout",
          "output_type": "stream",
          "text": [
            "Downloaded and saved HTML: https://channel.chinanews.com.cn/cns/cl/ty-klsk.shtml\n"
          ]
        },
        {
          "metadata": {
            "tags": null
          },
          "name": "stderr",
          "output_type": "stream",
          "text": [
            "/usr/local/lib/python3.10/dist-packages/urllib3/connectionpool.py:1099: InsecureRequestWarning: Unverified HTTPS request is being made to host 'channel.chinanews.com.cn'. Adding certificate verification is strongly advised. See: https://urllib3.readthedocs.io/en/latest/advanced-usage.html#tls-warnings\n",
            "  warnings.warn(\n"
          ]
        },
        {
          "metadata": {
            "tags": null
          },
          "name": "stdout",
          "output_type": "stream",
          "text": [
            "Downloaded and saved HTML: https://channel.chinanews.com.cn/cns/cl/ty-zhqt.shtml\n"
          ]
        },
        {
          "metadata": {
            "tags": null
          },
          "name": "stderr",
          "output_type": "stream",
          "text": [
            "/usr/local/lib/python3.10/dist-packages/urllib3/connectionpool.py:1099: InsecureRequestWarning: Unverified HTTPS request is being made to host 'www.chinanews.com'. Adding certificate verification is strongly advised. See: https://urllib3.readthedocs.io/en/latest/advanced-usage.html#tls-warnings\n",
            "  warnings.warn(\n"
          ]
        },
        {
          "metadata": {
            "tags": null
          },
          "name": "stdout",
          "output_type": "stream",
          "text": [
            "Downloaded and saved HTML: https://www.chinanews.com/shipin/m/tt/views.shtml\n"
          ]
        },
        {
          "metadata": {
            "tags": null
          },
          "name": "stderr",
          "output_type": "stream",
          "text": [
            "/usr/local/lib/python3.10/dist-packages/urllib3/connectionpool.py:1099: InsecureRequestWarning: Unverified HTTPS request is being made to host 'www.chinanews.com'. Adding certificate verification is strongly advised. See: https://urllib3.readthedocs.io/en/latest/advanced-usage.html#tls-warnings\n",
            "  warnings.warn(\n"
          ]
        },
        {
          "metadata": {
            "tags": null
          },
          "name": "stdout",
          "output_type": "stream",
          "text": [
            "Downloaded and saved HTML: https://www.chinanews.com/shipin/\n"
          ]
        },
        {
          "metadata": {
            "tags": null
          },
          "name": "stderr",
          "output_type": "stream",
          "text": [
            "/usr/local/lib/python3.10/dist-packages/urllib3/connectionpool.py:1099: InsecureRequestWarning: Unverified HTTPS request is being made to host 'www.chinanews.com'. Adding certificate verification is strongly advised. See: https://urllib3.readthedocs.io/en/latest/advanced-usage.html#tls-warnings\n",
            "  warnings.warn(\n"
          ]
        },
        {
          "metadata": {
            "tags": null
          },
          "name": "stdout",
          "output_type": "stream",
          "text": [
            "Downloaded and saved HTML: https://www.chinanews.com/shipin/m/rd/views.shtml\n"
          ]
        },
        {
          "metadata": {
            "tags": null
          },
          "name": "stderr",
          "output_type": "stream",
          "text": [
            "/usr/local/lib/python3.10/dist-packages/urllib3/connectionpool.py:1099: InsecureRequestWarning: Unverified HTTPS request is being made to host 'www.chinanews.com'. Adding certificate verification is strongly advised. See: https://urllib3.readthedocs.io/en/latest/advanced-usage.html#tls-warnings\n",
            "  warnings.warn(\n"
          ]
        },
        {
          "metadata": {
            "tags": null
          },
          "name": "stdout",
          "output_type": "stream",
          "text": [
            "Downloaded and saved HTML: https://www.chinanews.com/shipin/m/gn/views.shtml\n"
          ]
        },
        {
          "metadata": {
            "tags": null
          },
          "name": "stderr",
          "output_type": "stream",
          "text": [
            "/usr/local/lib/python3.10/dist-packages/urllib3/connectionpool.py:1099: InsecureRequestWarning: Unverified HTTPS request is being made to host 'www.chinanews.com'. Adding certificate verification is strongly advised. See: https://urllib3.readthedocs.io/en/latest/advanced-usage.html#tls-warnings\n",
            "  warnings.warn(\n"
          ]
        },
        {
          "metadata": {
            "tags": null
          },
          "name": "stdout",
          "output_type": "stream",
          "text": [
            "Downloaded and saved HTML: https://www.chinanews.com/shipin/m/sh/views.shtml\n"
          ]
        },
        {
          "metadata": {
            "tags": null
          },
          "name": "stderr",
          "output_type": "stream",
          "text": [
            "/usr/local/lib/python3.10/dist-packages/urllib3/connectionpool.py:1099: InsecureRequestWarning: Unverified HTTPS request is being made to host 'www.chinanews.com'. Adding certificate verification is strongly advised. See: https://urllib3.readthedocs.io/en/latest/advanced-usage.html#tls-warnings\n",
            "  warnings.warn(\n"
          ]
        },
        {
          "metadata": {
            "tags": null
          },
          "name": "stdout",
          "output_type": "stream",
          "text": [
            "Downloaded and saved HTML: https://www.chinanews.com/shipin/m/gj/views.shtml\n"
          ]
        },
        {
          "metadata": {
            "tags": null
          },
          "name": "stderr",
          "output_type": "stream",
          "text": [
            "/usr/local/lib/python3.10/dist-packages/urllib3/connectionpool.py:1099: InsecureRequestWarning: Unverified HTTPS request is being made to host 'www.chinanews.com'. Adding certificate verification is strongly advised. See: https://urllib3.readthedocs.io/en/latest/advanced-usage.html#tls-warnings\n",
            "  warnings.warn(\n"
          ]
        },
        {
          "metadata": {
            "tags": null
          },
          "name": "stdout",
          "output_type": "stream",
          "text": [
            "Downloaded and saved HTML: https://www.chinanews.com/shipin/m/jq/views.shtml\n"
          ]
        },
        {
          "metadata": {
            "tags": null
          },
          "name": "stderr",
          "output_type": "stream",
          "text": [
            "/usr/local/lib/python3.10/dist-packages/urllib3/connectionpool.py:1099: InsecureRequestWarning: Unverified HTTPS request is being made to host 'www.chinanews.com'. Adding certificate verification is strongly advised. See: https://urllib3.readthedocs.io/en/latest/advanced-usage.html#tls-warnings\n",
            "  warnings.warn(\n"
          ]
        },
        {
          "metadata": {
            "tags": null
          },
          "name": "stdout",
          "output_type": "stream",
          "text": [
            "Downloaded and saved HTML: https://www.chinanews.com/shipin/m/wy/views.shtml\n",
            "Downloaded and saved HTML: https://www.chinanews.com/shipin/m/tt/views.shtml\n"
          ]
        },
        {
          "metadata": {
            "tags": null
          },
          "name": "stderr",
          "output_type": "stream",
          "text": [
            "/usr/local/lib/python3.10/dist-packages/urllib3/connectionpool.py:1099: InsecureRequestWarning: Unverified HTTPS request is being made to host 'www.chinanews.com'. Adding certificate verification is strongly advised. See: https://urllib3.readthedocs.io/en/latest/advanced-usage.html#tls-warnings\n",
            "  warnings.warn(\n",
            "/usr/local/lib/python3.10/dist-packages/urllib3/connectionpool.py:1099: InsecureRequestWarning: Unverified HTTPS request is being made to host 'www.chinanews.com'. Adding certificate verification is strongly advised. See: https://urllib3.readthedocs.io/en/latest/advanced-usage.html#tls-warnings\n",
            "  warnings.warn(\n"
          ]
        },
        {
          "metadata": {
            "tags": null
          },
          "name": "stdout",
          "output_type": "stream",
          "text": [
            "Downloaded and saved HTML: https://www.chinanews.com/shipin/m/cj/views.shtml\n"
          ]
        },
        {
          "metadata": {
            "tags": null
          },
          "name": "stderr",
          "output_type": "stream",
          "text": [
            "/usr/local/lib/python3.10/dist-packages/urllib3/connectionpool.py:1099: InsecureRequestWarning: Unverified HTTPS request is being made to host 'www.chinanews.com'. Adding certificate verification is strongly advised. See: https://urllib3.readthedocs.io/en/latest/advanced-usage.html#tls-warnings\n",
            "  warnings.warn(\n"
          ]
        },
        {
          "metadata": {
            "tags": null
          },
          "name": "stdout",
          "output_type": "stream",
          "text": [
            "Downloaded and saved HTML: https://www.chinanews.com/shipin/m/ga/views.shtml\n"
          ]
        },
        {
          "metadata": {
            "tags": null
          },
          "name": "stderr",
          "output_type": "stream",
          "text": [
            "/usr/local/lib/python3.10/dist-packages/urllib3/connectionpool.py:1099: InsecureRequestWarning: Unverified HTTPS request is being made to host 'www.chinanews.com'. Adding certificate verification is strongly advised. See: https://urllib3.readthedocs.io/en/latest/advanced-usage.html#tls-warnings\n",
            "  warnings.warn(\n"
          ]
        },
        {
          "metadata": {
            "tags": null
          },
          "name": "stdout",
          "output_type": "stream",
          "text": [
            "An error occurred while downloading https://www.chinanews.com/shipin/minidocu.shtml: decode() argument 'encoding' must be str, not None\n"
          ]
        },
        {
          "metadata": {
            "tags": null
          },
          "name": "stderr",
          "output_type": "stream",
          "text": [
            "/usr/local/lib/python3.10/dist-packages/urllib3/connectionpool.py:1099: InsecureRequestWarning: Unverified HTTPS request is being made to host 'www.chinanews.com'. Adding certificate verification is strongly advised. See: https://urllib3.readthedocs.io/en/latest/advanced-usage.html#tls-warnings\n",
            "  warnings.warn(\n"
          ]
        },
        {
          "metadata": {
            "tags": null
          },
          "name": "stdout",
          "output_type": "stream",
          "text": [
            "An error occurred while downloading https://www.chinanews.com/shipin/yqd.shtml: decode() argument 'encoding' must be str, not None\n"
          ]
        },
        {
          "metadata": {
            "tags": null
          },
          "name": "stderr",
          "output_type": "stream",
          "text": [
            "/usr/local/lib/python3.10/dist-packages/urllib3/connectionpool.py:1099: InsecureRequestWarning: Unverified HTTPS request is being made to host 'www.chinanews.com'. Adding certificate verification is strongly advised. See: https://urllib3.readthedocs.io/en/latest/advanced-usage.html#tls-warnings\n",
            "  warnings.warn(\n"
          ]
        },
        {
          "metadata": {
            "tags": null
          },
          "name": "stdout",
          "output_type": "stream",
          "text": [
            "An error occurred while downloading https://www.chinanews.com/shipin/zsd.shtml: 'charmap' codec can't decode byte 0x8e in position 496: character maps to <undefined>\n"
          ]
        },
        {
          "metadata": {
            "tags": null
          },
          "name": "stderr",
          "output_type": "stream",
          "text": [
            "/usr/local/lib/python3.10/dist-packages/urllib3/connectionpool.py:1099: InsecureRequestWarning: Unverified HTTPS request is being made to host 'www.chinanews.com'. Adding certificate verification is strongly advised. See: https://urllib3.readthedocs.io/en/latest/advanced-usage.html#tls-warnings\n",
            "  warnings.warn(\n"
          ]
        },
        {
          "metadata": {
            "tags": null
          },
          "name": "stdout",
          "output_type": "stream",
          "text": [
            "Downloaded and saved HTML: https://www.chinanews.com/gn/z/lanmeiyinxiang/index.shtml\n"
          ]
        },
        {
          "metadata": {
            "tags": null
          },
          "name": "stderr",
          "output_type": "stream",
          "text": [
            "/usr/local/lib/python3.10/dist-packages/urllib3/connectionpool.py:1099: InsecureRequestWarning: Unverified HTTPS request is being made to host 'www.chinanews.com'. Adding certificate verification is strongly advised. See: https://urllib3.readthedocs.io/en/latest/advanced-usage.html#tls-warnings\n",
            "  warnings.warn(\n"
          ]
        },
        {
          "metadata": {
            "tags": null
          },
          "name": "stdout",
          "output_type": "stream",
          "text": [
            "An error occurred while downloading https://www.chinanews.com/shipin/AuthenticChina.shtml: 'charmap' codec can't decode byte 0x8e in position 264: character maps to <undefined>\n"
          ]
        },
        {
          "metadata": {
            "tags": null
          },
          "name": "stderr",
          "output_type": "stream",
          "text": [
            "/usr/local/lib/python3.10/dist-packages/urllib3/connectionpool.py:1099: InsecureRequestWarning: Unverified HTTPS request is being made to host 'www.chinanews.com'. Adding certificate verification is strongly advised. See: https://urllib3.readthedocs.io/en/latest/advanced-usage.html#tls-warnings\n",
            "  warnings.warn(\n"
          ]
        },
        {
          "metadata": {
            "tags": null
          },
          "name": "stdout",
          "output_type": "stream",
          "text": [
            "An error occurred while downloading https://www.chinanews.com/shipin/chinarevealed.shtml: 'charmap' codec can't decode byte 0x8e in position 264: character maps to <undefined>\n"
          ]
        },
        {
          "metadata": {
            "tags": null
          },
          "name": "stderr",
          "output_type": "stream",
          "text": [
            "/usr/local/lib/python3.10/dist-packages/urllib3/connectionpool.py:1099: InsecureRequestWarning: Unverified HTTPS request is being made to host 'www.chinanews.com'. Adding certificate verification is strongly advised. See: https://urllib3.readthedocs.io/en/latest/advanced-usage.html#tls-warnings\n",
            "  warnings.warn(\n"
          ]
        },
        {
          "metadata": {
            "tags": null
          },
          "name": "stdout",
          "output_type": "stream",
          "text": [
            "Downloaded and saved HTML: https://www.chinanews.com/photo/\n"
          ]
        },
        {
          "metadata": {
            "tags": null
          },
          "name": "stderr",
          "output_type": "stream",
          "text": [
            "/usr/local/lib/python3.10/dist-packages/urllib3/connectionpool.py:1099: InsecureRequestWarning: Unverified HTTPS request is being made to host 'channel.chinanews.com.cn'. Adding certificate verification is strongly advised. See: https://urllib3.readthedocs.io/en/latest/advanced-usage.html#tls-warnings\n",
            "  warnings.warn(\n",
            "/usr/local/lib/python3.10/dist-packages/urllib3/connectionpool.py:1099: InsecureRequestWarning: Unverified HTTPS request is being made to host 'channel.chinanews.com.cn'. Adding certificate verification is strongly advised. See: https://urllib3.readthedocs.io/en/latest/advanced-usage.html#tls-warnings\n",
            "  warnings.warn(\n"
          ]
        },
        {
          "metadata": {
            "tags": null
          },
          "name": "stdout",
          "output_type": "stream",
          "text": [
            "Downloaded and saved HTML: https://channel.chinanews.com.cn/u/zxhb.shtml\n"
          ]
        },
        {
          "metadata": {
            "tags": null
          },
          "name": "stderr",
          "output_type": "stream",
          "text": [
            "/usr/local/lib/python3.10/dist-packages/urllib3/connectionpool.py:1099: InsecureRequestWarning: Unverified HTTPS request is being made to host 'channel.chinanews.com.cn'. Adding certificate verification is strongly advised. See: https://urllib3.readthedocs.io/en/latest/advanced-usage.html#tls-warnings\n",
            "  warnings.warn(\n"
          ]
        },
        {
          "metadata": {
            "tags": null
          },
          "name": "stdout",
          "output_type": "stream",
          "text": [
            "Downloaded and saved HTML: https://channel.chinanews.com.cn/u/pic/gn.shtml\n"
          ]
        },
        {
          "metadata": {
            "tags": null
          },
          "name": "stderr",
          "output_type": "stream",
          "text": [
            "/usr/local/lib/python3.10/dist-packages/urllib3/connectionpool.py:1099: InsecureRequestWarning: Unverified HTTPS request is being made to host 'channel.chinanews.com.cn'. Adding certificate verification is strongly advised. See: https://urllib3.readthedocs.io/en/latest/advanced-usage.html#tls-warnings\n",
            "  warnings.warn(\n"
          ]
        },
        {
          "metadata": {
            "tags": null
          },
          "name": "stdout",
          "output_type": "stream",
          "text": [
            "Downloaded and saved HTML: https://channel.chinanews.com.cn/u/pic/sh.shtml\n"
          ]
        },
        {
          "metadata": {
            "tags": null
          },
          "name": "stderr",
          "output_type": "stream",
          "text": [
            "/usr/local/lib/python3.10/dist-packages/urllib3/connectionpool.py:1099: InsecureRequestWarning: Unverified HTTPS request is being made to host 'channel.chinanews.com.cn'. Adding certificate verification is strongly advised. See: https://urllib3.readthedocs.io/en/latest/advanced-usage.html#tls-warnings\n",
            "  warnings.warn(\n"
          ]
        },
        {
          "metadata": {
            "tags": null
          },
          "name": "stdout",
          "output_type": "stream",
          "text": [
            "Downloaded and saved HTML: https://channel.chinanews.com.cn/u/pic/gj.shtml\n"
          ]
        },
        {
          "metadata": {
            "tags": null
          },
          "name": "stderr",
          "output_type": "stream",
          "text": [
            "/usr/local/lib/python3.10/dist-packages/urllib3/connectionpool.py:1099: InsecureRequestWarning: Unverified HTTPS request is being made to host 'channel.chinanews.com.cn'. Adding certificate verification is strongly advised. See: https://urllib3.readthedocs.io/en/latest/advanced-usage.html#tls-warnings\n",
            "  warnings.warn(\n"
          ]
        },
        {
          "metadata": {
            "tags": null
          },
          "name": "stdout",
          "output_type": "stream",
          "text": [
            "Downloaded and saved HTML: https://channel.chinanews.com.cn/u/pic/yl.shtml\n"
          ]
        },
        {
          "metadata": {
            "tags": null
          },
          "name": "stderr",
          "output_type": "stream",
          "text": [
            "/usr/local/lib/python3.10/dist-packages/urllib3/connectionpool.py:1099: InsecureRequestWarning: Unverified HTTPS request is being made to host 'channel.chinanews.com.cn'. Adding certificate verification is strongly advised. See: https://urllib3.readthedocs.io/en/latest/advanced-usage.html#tls-warnings\n",
            "  warnings.warn(\n"
          ]
        },
        {
          "metadata": {
            "tags": null
          },
          "name": "stdout",
          "output_type": "stream",
          "text": [
            "Downloaded and saved HTML: https://channel.chinanews.com.cn/u/pic/ty.shtml\n"
          ]
        },
        {
          "metadata": {
            "tags": null
          },
          "name": "stderr",
          "output_type": "stream",
          "text": [
            "/usr/local/lib/python3.10/dist-packages/urllib3/connectionpool.py:1099: InsecureRequestWarning: Unverified HTTPS request is being made to host 'channel.chinanews.com.cn'. Adding certificate verification is strongly advised. See: https://urllib3.readthedocs.io/en/latest/advanced-usage.html#tls-warnings\n",
            "  warnings.warn(\n",
            "/usr/local/lib/python3.10/dist-packages/urllib3/connectionpool.py:1099: InsecureRequestWarning: Unverified HTTPS request is being made to host 'channel.chinanews.com.cn'. Adding certificate verification is strongly advised. See: https://urllib3.readthedocs.io/en/latest/advanced-usage.html#tls-warnings\n",
            "  warnings.warn(\n"
          ]
        },
        {
          "metadata": {
            "tags": null
          },
          "name": "stdout",
          "output_type": "stream",
          "text": [
            "Downloaded and saved HTML: https://channel.chinanews.com.cn/u/pic/js.shtml\n"
          ]
        },
        {
          "metadata": {
            "tags": null
          },
          "name": "stderr",
          "output_type": "stream",
          "text": [
            "/usr/local/lib/python3.10/dist-packages/urllib3/connectionpool.py:1099: InsecureRequestWarning: Unverified HTTPS request is being made to host 'channel.chinanews.com.cn'. Adding certificate verification is strongly advised. See: https://urllib3.readthedocs.io/en/latest/advanced-usage.html#tls-warnings\n",
            "  warnings.warn(\n"
          ]
        },
        {
          "metadata": {
            "tags": null
          },
          "name": "stdout",
          "output_type": "stream",
          "text": [
            "Downloaded and saved HTML: https://channel.chinanews.com.cn/u/pic/kj.shtml\n"
          ]
        },
        {
          "metadata": {
            "tags": null
          },
          "name": "stderr",
          "output_type": "stream",
          "text": [
            "/usr/local/lib/python3.10/dist-packages/urllib3/connectionpool.py:1099: InsecureRequestWarning: Unverified HTTPS request is being made to host 'channel.chinanews.com.cn'. Adding certificate verification is strongly advised. See: https://urllib3.readthedocs.io/en/latest/advanced-usage.html#tls-warnings\n",
            "  warnings.warn(\n"
          ]
        },
        {
          "metadata": {
            "tags": null
          },
          "name": "stdout",
          "output_type": "stream",
          "text": [
            "Downloaded and saved HTML: https://channel.chinanews.com.cn/u/pic/gatq.shtml\n"
          ]
        },
        {
          "metadata": {
            "tags": null
          },
          "name": "stderr",
          "output_type": "stream",
          "text": [
            "/usr/local/lib/python3.10/dist-packages/urllib3/connectionpool.py:1099: InsecureRequestWarning: Unverified HTTPS request is being made to host 'channel.chinanews.com.cn'. Adding certificate verification is strongly advised. See: https://urllib3.readthedocs.io/en/latest/advanced-usage.html#tls-warnings\n",
            "  warnings.warn(\n"
          ]
        },
        {
          "metadata": {
            "tags": null
          },
          "name": "stdout",
          "output_type": "stream",
          "text": [
            "Downloaded and saved HTML: https://channel.chinanews.com.cn/u/pic/frg.shtml\n"
          ]
        },
        {
          "metadata": {
            "tags": null
          },
          "name": "stderr",
          "output_type": "stream",
          "text": [
            "/usr/local/lib/python3.10/dist-packages/urllib3/connectionpool.py:1099: InsecureRequestWarning: Unverified HTTPS request is being made to host 'www.chinanews.com'. Adding certificate verification is strongly advised. See: https://urllib3.readthedocs.io/en/latest/advanced-usage.html#tls-warnings\n",
            "  warnings.warn(\n"
          ]
        },
        {
          "metadata": {
            "tags": null
          },
          "name": "stdout",
          "output_type": "stream",
          "text": [
            "Downloaded and saved HTML: https://www.chinanews.com/chuangyi/\n"
          ]
        },
        {
          "metadata": {
            "tags": null
          },
          "name": "stderr",
          "output_type": "stream",
          "text": [
            "/usr/local/lib/python3.10/dist-packages/urllib3/connectionpool.py:1099: InsecureRequestWarning: Unverified HTTPS request is being made to host 'www.chinanews.com'. Adding certificate verification is strongly advised. See: https://urllib3.readthedocs.io/en/latest/advanced-usage.html#tls-warnings\n",
            "  warnings.warn(\n"
          ]
        },
        {
          "metadata": {
            "tags": null
          },
          "name": "stdout",
          "output_type": "stream",
          "text": [
            "Downloaded and saved HTML: https://www.chinanews.com/theory.shtml\n"
          ]
        },
        {
          "metadata": {
            "tags": null
          },
          "name": "stderr",
          "output_type": "stream",
          "text": [
            "/usr/local/lib/python3.10/dist-packages/urllib3/connectionpool.py:1099: InsecureRequestWarning: Unverified HTTPS request is being made to host 'www.chinanews.com'. Adding certificate verification is strongly advised. See: https://urllib3.readthedocs.io/en/latest/advanced-usage.html#tls-warnings\n",
            "  warnings.warn(\n"
          ]
        },
        {
          "metadata": {
            "tags": null
          },
          "name": "stdout",
          "output_type": "stream",
          "text": [
            "Downloaded and saved HTML: https://www.chinanews.com/live.shtml\n"
          ]
        },
        {
          "metadata": {
            "tags": null
          },
          "name": "stderr",
          "output_type": "stream",
          "text": [
            "/usr/local/lib/python3.10/dist-packages/urllib3/connectionpool.py:1099: InsecureRequestWarning: Unverified HTTPS request is being made to host 'www.chinanews.com'. Adding certificate verification is strongly advised. See: https://urllib3.readthedocs.io/en/latest/advanced-usage.html#tls-warnings\n",
            "  warnings.warn(\n"
          ]
        },
        {
          "metadata": {
            "tags": null
          },
          "name": "stdout",
          "output_type": "stream",
          "text": [
            "Downloaded and saved HTML: https://www.chinanews.com/allspecial/\n"
          ]
        },
        {
          "metadata": {
            "tags": null
          },
          "name": "stderr",
          "output_type": "stream",
          "text": [
            "/usr/local/lib/python3.10/dist-packages/urllib3/connectionpool.py:1099: InsecureRequestWarning: Unverified HTTPS request is being made to host 'www.chinaqw.com'. Adding certificate verification is strongly advised. See: https://urllib3.readthedocs.io/en/latest/advanced-usage.html#tls-warnings\n",
            "  warnings.warn(\n"
          ]
        },
        {
          "metadata": {
            "tags": null
          },
          "name": "stdout",
          "output_type": "stream",
          "text": [
            "Downloaded and saved HTML: https://www.chinaqw.com/\n"
          ]
        },
        {
          "metadata": {
            "tags": null
          },
          "name": "stderr",
          "output_type": "stream",
          "text": [
            "/usr/local/lib/python3.10/dist-packages/urllib3/connectionpool.py:1099: InsecureRequestWarning: Unverified HTTPS request is being made to host 'www.jwview.com'. Adding certificate verification is strongly advised. See: https://urllib3.readthedocs.io/en/latest/advanced-usage.html#tls-warnings\n",
            "  warnings.warn(\n"
          ]
        },
        {
          "metadata": {
            "tags": null
          },
          "name": "stdout",
          "output_type": "stream",
          "text": [
            "An error occurred while downloading https://www.jwview.com/: 'gb2312' codec can't decode byte 0xac in position 57883: illegal multibyte sequence\n"
          ]
        },
        {
          "metadata": {
            "tags": null
          },
          "name": "stderr",
          "output_type": "stream",
          "text": [
            "/usr/local/lib/python3.10/dist-packages/urllib3/connectionpool.py:1099: InsecureRequestWarning: Unverified HTTPS request is being made to host 'www.ecns.cn'. Adding certificate verification is strongly advised. See: https://urllib3.readthedocs.io/en/latest/advanced-usage.html#tls-warnings\n",
            "  warnings.warn(\n",
            "/usr/local/lib/python3.10/dist-packages/urllib3/connectionpool.py:1099: InsecureRequestWarning: Unverified HTTPS request is being made to host 'www.chinanews.com'. Adding certificate verification is strongly advised. See: https://urllib3.readthedocs.io/en/latest/advanced-usage.html#tls-warnings\n",
            "  warnings.warn(\n"
          ]
        },
        {
          "metadata": {
            "tags": null
          },
          "name": "stdout",
          "output_type": "stream",
          "text": [
            "Downloaded and saved HTML: https://www.ecns.cn/\n",
            "Downloaded and saved HTML: https://www.chinanews.com/gsztc/\n"
          ]
        },
        {
          "metadata": {
            "tags": null
          },
          "name": "stderr",
          "output_type": "stream",
          "text": [
            "/usr/local/lib/python3.10/dist-packages/urllib3/connectionpool.py:1099: InsecureRequestWarning: Unverified HTTPS request is being made to host 'www.inewsweek.cn'. Adding certificate verification is strongly advised. See: https://urllib3.readthedocs.io/en/latest/advanced-usage.html#tls-warnings\n",
            "  warnings.warn(\n"
          ]
        },
        {
          "metadata": {
            "tags": null
          },
          "name": "stdout",
          "output_type": "stream",
          "text": [
            "Downloaded and saved HTML: https://www.inewsweek.cn/\n",
            "Downloaded and saved HTML: http://epaper.chinanews.com/\n",
            "Downloaded and saved HTML: http://www.cnsphoto.com/\n"
          ]
        },
        {
          "metadata": {
            "tags": null
          },
          "name": "stderr",
          "output_type": "stream",
          "text": [
            "/usr/local/lib/python3.10/dist-packages/urllib3/connectionpool.py:1099: InsecureRequestWarning: Unverified HTTPS request is being made to host 'www.chinanews.com.cn'. Adding certificate verification is strongly advised. See: https://urllib3.readthedocs.io/en/latest/advanced-usage.html#tls-warnings\n",
            "  warnings.warn(\n"
          ]
        },
        {
          "metadata": {
            "tags": null
          },
          "name": "stdout",
          "output_type": "stream",
          "text": [
            "Downloaded and saved HTML: https://www.chinanews.com.cn/gn/2024/10-28/10309514.shtml\n"
          ]
        },
        {
          "metadata": {
            "tags": null
          },
          "name": "stderr",
          "output_type": "stream",
          "text": [
            "/usr/local/lib/python3.10/dist-packages/urllib3/connectionpool.py:1099: InsecureRequestWarning: Unverified HTTPS request is being made to host 'www.chinanews.com.cn'. Adding certificate verification is strongly advised. See: https://urllib3.readthedocs.io/en/latest/advanced-usage.html#tls-warnings\n",
            "  warnings.warn(\n"
          ]
        },
        {
          "metadata": {
            "tags": null
          },
          "name": "stdout",
          "output_type": "stream",
          "text": [
            "Downloaded and saved HTML: https://www.chinanews.com.cn/gn/2024/10-28/10309639.shtml\n"
          ]
        },
        {
          "metadata": {
            "tags": null
          },
          "name": "stderr",
          "output_type": "stream",
          "text": [
            "/usr/local/lib/python3.10/dist-packages/urllib3/connectionpool.py:1099: InsecureRequestWarning: Unverified HTTPS request is being made to host 'www.chinanews.com.cn'. Adding certificate verification is strongly advised. See: https://urllib3.readthedocs.io/en/latest/advanced-usage.html#tls-warnings\n",
            "  warnings.warn(\n"
          ]
        },
        {
          "metadata": {
            "tags": null
          },
          "name": "stdout",
          "output_type": "stream",
          "text": [
            "Downloaded and saved HTML: https://www.chinanews.com.cn/gn/2024/10-28/10309274.shtml\n"
          ]
        },
        {
          "metadata": {
            "tags": null
          },
          "name": "stderr",
          "output_type": "stream",
          "text": [
            "/usr/local/lib/python3.10/dist-packages/urllib3/connectionpool.py:1099: InsecureRequestWarning: Unverified HTTPS request is being made to host 'www.chinanews.com'. Adding certificate verification is strongly advised. See: https://urllib3.readthedocs.io/en/latest/advanced-usage.html#tls-warnings\n",
            "  warnings.warn(\n"
          ]
        },
        {
          "metadata": {
            "tags": null
          },
          "name": "stdout",
          "output_type": "stream",
          "text": [
            "Downloaded and saved HTML: https://www.chinanews.com/\n"
          ]
        },
        {
          "metadata": {
            "tags": null
          },
          "name": "stderr",
          "output_type": "stream",
          "text": [
            "/usr/local/lib/python3.10/dist-packages/urllib3/connectionpool.py:1099: InsecureRequestWarning: Unverified HTTPS request is being made to host 'www.chinanews.com'. Adding certificate verification is strongly advised. See: https://urllib3.readthedocs.io/en/latest/advanced-usage.html#tls-warnings\n",
            "  warnings.warn(\n"
          ]
        },
        {
          "metadata": {
            "tags": null
          },
          "name": "stdout",
          "output_type": "stream",
          "text": [
            "Downloaded and saved HTML: https://www.chinanews.com/\n"
          ]
        },
        {
          "metadata": {
            "tags": null
          },
          "name": "stderr",
          "output_type": "stream",
          "text": [
            "/usr/local/lib/python3.10/dist-packages/urllib3/connectionpool.py:1099: InsecureRequestWarning: Unverified HTTPS request is being made to host 'www.chinanews.com.cn'. Adding certificate verification is strongly advised. See: https://urllib3.readthedocs.io/en/latest/advanced-usage.html#tls-warnings\n",
            "  warnings.warn(\n"
          ]
        },
        {
          "metadata": {
            "tags": null
          },
          "name": "stdout",
          "output_type": "stream",
          "text": [
            "Downloaded and saved HTML: https://www.chinanews.com.cn/tp/hd2011/2024/10-28/1127567.shtml\n"
          ]
        },
        {
          "metadata": {
            "tags": null
          },
          "name": "stderr",
          "output_type": "stream",
          "text": [
            "/usr/local/lib/python3.10/dist-packages/urllib3/connectionpool.py:1099: InsecureRequestWarning: Unverified HTTPS request is being made to host 'www.chinanews.com.cn'. Adding certificate verification is strongly advised. See: https://urllib3.readthedocs.io/en/latest/advanced-usage.html#tls-warnings\n",
            "  warnings.warn(\n"
          ]
        },
        {
          "metadata": {
            "tags": null
          },
          "name": "stdout",
          "output_type": "stream",
          "text": [
            "Downloaded and saved HTML: https://www.chinanews.com.cn/tp/hd2011/2024/10-28/1127607.shtml\n"
          ]
        },
        {
          "metadata": {
            "tags": null
          },
          "name": "stderr",
          "output_type": "stream",
          "text": [
            "/usr/local/lib/python3.10/dist-packages/urllib3/connectionpool.py:1099: InsecureRequestWarning: Unverified HTTPS request is being made to host 'www.chinanews.com.cn'. Adding certificate verification is strongly advised. See: https://urllib3.readthedocs.io/en/latest/advanced-usage.html#tls-warnings\n",
            "  warnings.warn(\n"
          ]
        },
        {
          "metadata": {
            "tags": null
          },
          "name": "stdout",
          "output_type": "stream",
          "text": [
            "Downloaded and saved HTML: https://www.chinanews.com.cn/tp/hd2011/2024/10-28/1127676.shtml\n"
          ]
        },
        {
          "metadata": {
            "tags": null
          },
          "name": "stderr",
          "output_type": "stream",
          "text": [
            "/usr/local/lib/python3.10/dist-packages/urllib3/connectionpool.py:1099: InsecureRequestWarning: Unverified HTTPS request is being made to host 'www.chinanews.com.cn'. Adding certificate verification is strongly advised. See: https://urllib3.readthedocs.io/en/latest/advanced-usage.html#tls-warnings\n",
            "  warnings.warn(\n"
          ]
        },
        {
          "metadata": {
            "tags": null
          },
          "name": "stdout",
          "output_type": "stream",
          "text": [
            "Downloaded and saved HTML: https://www.chinanews.com.cn/tp/hd2011/2024/10-28/1127640.shtml\n"
          ]
        },
        {
          "metadata": {
            "tags": null
          },
          "name": "stderr",
          "output_type": "stream",
          "text": [
            "/usr/local/lib/python3.10/dist-packages/urllib3/connectionpool.py:1099: InsecureRequestWarning: Unverified HTTPS request is being made to host 'www.chinanews.com.cn'. Adding certificate verification is strongly advised. See: https://urllib3.readthedocs.io/en/latest/advanced-usage.html#tls-warnings\n",
            "  warnings.warn(\n"
          ]
        },
        {
          "metadata": {
            "tags": null
          },
          "name": "stdout",
          "output_type": "stream",
          "text": [
            "Downloaded and saved HTML: https://www.chinanews.com.cn/tp/hd2011/2024/10-28/1127567.shtml\n"
          ]
        },
        {
          "metadata": {
            "tags": null
          },
          "name": "stderr",
          "output_type": "stream",
          "text": [
            "/usr/local/lib/python3.10/dist-packages/urllib3/connectionpool.py:1099: InsecureRequestWarning: Unverified HTTPS request is being made to host 'www.chinanews.com.cn'. Adding certificate verification is strongly advised. See: https://urllib3.readthedocs.io/en/latest/advanced-usage.html#tls-warnings\n",
            "  warnings.warn(\n"
          ]
        },
        {
          "metadata": {
            "tags": null
          },
          "name": "stdout",
          "output_type": "stream",
          "text": [
            "Downloaded and saved HTML: https://www.chinanews.com.cn/tp/hd2011/2024/10-28/1127607.shtml\n"
          ]
        },
        {
          "metadata": {
            "tags": null
          },
          "name": "stderr",
          "output_type": "stream",
          "text": [
            "/usr/local/lib/python3.10/dist-packages/urllib3/connectionpool.py:1099: InsecureRequestWarning: Unverified HTTPS request is being made to host 'www.chinanews.com.cn'. Adding certificate verification is strongly advised. See: https://urllib3.readthedocs.io/en/latest/advanced-usage.html#tls-warnings\n",
            "  warnings.warn(\n"
          ]
        },
        {
          "metadata": {
            "tags": null
          },
          "name": "stdout",
          "output_type": "stream",
          "text": [
            "Downloaded and saved HTML: https://www.chinanews.com.cn/tp/hd2011/2024/10-28/1127676.shtml\n",
            "Downloaded and saved HTML: https://www.chinanews.com.cn/tp/hd2011/2024/10-28/1127640.shtml\n"
          ]
        },
        {
          "metadata": {
            "tags": null
          },
          "name": "stderr",
          "output_type": "stream",
          "text": [
            "/usr/local/lib/python3.10/dist-packages/urllib3/connectionpool.py:1099: InsecureRequestWarning: Unverified HTTPS request is being made to host 'www.chinanews.com.cn'. Adding certificate verification is strongly advised. See: https://urllib3.readthedocs.io/en/latest/advanced-usage.html#tls-warnings\n",
            "  warnings.warn(\n",
            "/usr/local/lib/python3.10/dist-packages/urllib3/connectionpool.py:1099: InsecureRequestWarning: Unverified HTTPS request is being made to host 'www.chinanews.com.cn'. Adding certificate verification is strongly advised. See: https://urllib3.readthedocs.io/en/latest/advanced-usage.html#tls-warnings\n",
            "  warnings.warn(\n"
          ]
        },
        {
          "metadata": {
            "tags": null
          },
          "name": "stdout",
          "output_type": "stream",
          "text": [
            "An error occurred while downloading https://www.chinanews.com.cn/sh/shipin/cns/2024/10-28/news1003494.shtml: 'charmap' codec can't decode byte 0x8d in position 321: character maps to <undefined>\n"
          ]
        },
        {
          "metadata": {
            "tags": null
          },
          "name": "stderr",
          "output_type": "stream",
          "text": [
            "/usr/local/lib/python3.10/dist-packages/urllib3/connectionpool.py:1099: InsecureRequestWarning: Unverified HTTPS request is being made to host 'www.chinanews.com.cn'. Adding certificate verification is strongly advised. See: https://urllib3.readthedocs.io/en/latest/advanced-usage.html#tls-warnings\n",
            "  warnings.warn(\n"
          ]
        },
        {
          "metadata": {
            "tags": null
          },
          "name": "stdout",
          "output_type": "stream",
          "text": [
            "Downloaded and saved HTML: https://www.chinanews.com.cn/sh/shipin/cns/2024/10-28/news1003485.shtml\n"
          ]
        },
        {
          "metadata": {
            "tags": null
          },
          "name": "stderr",
          "output_type": "stream",
          "text": [
            "/usr/local/lib/python3.10/dist-packages/urllib3/connectionpool.py:1099: InsecureRequestWarning: Unverified HTTPS request is being made to host 'www.chinanews.com.cn'. Adding certificate verification is strongly advised. See: https://urllib3.readthedocs.io/en/latest/advanced-usage.html#tls-warnings\n",
            "  warnings.warn(\n"
          ]
        },
        {
          "metadata": {
            "tags": null
          },
          "name": "stdout",
          "output_type": "stream",
          "text": [
            "An error occurred while downloading https://www.chinanews.com.cn/sh/shipin/cns-d/2024/10-28/news1003481.shtml: 'charmap' codec can't decode byte 0x8d in position 333: character maps to <undefined>\n"
          ]
        },
        {
          "metadata": {
            "tags": null
          },
          "name": "stderr",
          "output_type": "stream",
          "text": [
            "/usr/local/lib/python3.10/dist-packages/urllib3/connectionpool.py:1099: InsecureRequestWarning: Unverified HTTPS request is being made to host 'www.chinanews.com.cn'. Adding certificate verification is strongly advised. See: https://urllib3.readthedocs.io/en/latest/advanced-usage.html#tls-warnings\n",
            "  warnings.warn(\n"
          ]
        },
        {
          "metadata": {
            "tags": null
          },
          "name": "stdout",
          "output_type": "stream",
          "text": [
            "Downloaded and saved HTML: https://www.chinanews.com.cn/gn/2024/10-28/10309419.shtml\n"
          ]
        },
        {
          "metadata": {
            "tags": null
          },
          "name": "stderr",
          "output_type": "stream",
          "text": [
            "/usr/local/lib/python3.10/dist-packages/urllib3/connectionpool.py:1099: InsecureRequestWarning: Unverified HTTPS request is being made to host 'www.chinanews.com.cn'. Adding certificate verification is strongly advised. See: https://urllib3.readthedocs.io/en/latest/advanced-usage.html#tls-warnings\n",
            "  warnings.warn(\n"
          ]
        },
        {
          "metadata": {
            "tags": null
          },
          "name": "stdout",
          "output_type": "stream",
          "text": [
            "Downloaded and saved HTML: https://www.chinanews.com.cn/cj/2024/10-28/10309414.shtml\n"
          ]
        },
        {
          "metadata": {
            "tags": null
          },
          "name": "stderr",
          "output_type": "stream",
          "text": [
            "/usr/local/lib/python3.10/dist-packages/urllib3/connectionpool.py:1099: InsecureRequestWarning: Unverified HTTPS request is being made to host 'www.chinanews.com.cn'. Adding certificate verification is strongly advised. See: https://urllib3.readthedocs.io/en/latest/advanced-usage.html#tls-warnings\n",
            "  warnings.warn(\n"
          ]
        },
        {
          "metadata": {
            "tags": null
          },
          "name": "stdout",
          "output_type": "stream",
          "text": [
            "Downloaded and saved HTML: https://www.chinanews.com.cn/gj/2024/10-28/10309316.shtml\n"
          ]
        },
        {
          "metadata": {
            "tags": null
          },
          "name": "stderr",
          "output_type": "stream",
          "text": [
            "/usr/local/lib/python3.10/dist-packages/urllib3/connectionpool.py:1099: InsecureRequestWarning: Unverified HTTPS request is being made to host 'www.chinanews.com.cn'. Adding certificate verification is strongly advised. See: https://urllib3.readthedocs.io/en/latest/advanced-usage.html#tls-warnings\n",
            "  warnings.warn(\n"
          ]
        },
        {
          "metadata": {
            "tags": null
          },
          "name": "stdout",
          "output_type": "stream",
          "text": [
            "Downloaded and saved HTML: https://www.chinanews.com.cn/sh/2024/10-28/10309509.shtml\n"
          ]
        },
        {
          "metadata": {
            "tags": null
          },
          "name": "stderr",
          "output_type": "stream",
          "text": [
            "/usr/local/lib/python3.10/dist-packages/urllib3/connectionpool.py:1099: InsecureRequestWarning: Unverified HTTPS request is being made to host 'www.chinanews.com.cn'. Adding certificate verification is strongly advised. See: https://urllib3.readthedocs.io/en/latest/advanced-usage.html#tls-warnings\n",
            "  warnings.warn(\n"
          ]
        },
        {
          "metadata": {
            "tags": null
          },
          "name": "stdout",
          "output_type": "stream",
          "text": [
            "Downloaded and saved HTML: https://www.chinanews.com.cn/cj/2024/10-28/10309280.shtml\n"
          ]
        },
        {
          "metadata": {
            "tags": null
          },
          "name": "stderr",
          "output_type": "stream",
          "text": [
            "/usr/local/lib/python3.10/dist-packages/urllib3/connectionpool.py:1099: InsecureRequestWarning: Unverified HTTPS request is being made to host 'www.chinanews.com.cn'. Adding certificate verification is strongly advised. See: https://urllib3.readthedocs.io/en/latest/advanced-usage.html#tls-warnings\n",
            "  warnings.warn(\n"
          ]
        },
        {
          "metadata": {
            "tags": null
          },
          "name": "stdout",
          "output_type": "stream",
          "text": [
            "Downloaded and saved HTML: https://www.chinanews.com.cn/cj/2024/10-28/10309361.shtml\n"
          ]
        },
        {
          "metadata": {
            "tags": null
          },
          "name": "stderr",
          "output_type": "stream",
          "text": [
            "/usr/local/lib/python3.10/dist-packages/urllib3/connectionpool.py:1099: InsecureRequestWarning: Unverified HTTPS request is being made to host 'www.chinanews.com.cn'. Adding certificate verification is strongly advised. See: https://urllib3.readthedocs.io/en/latest/advanced-usage.html#tls-warnings\n",
            "  warnings.warn(\n"
          ]
        },
        {
          "metadata": {
            "tags": null
          },
          "name": "stdout",
          "output_type": "stream",
          "text": [
            "Downloaded and saved HTML: https://www.chinanews.com.cn/cj/2024/10-28/10309461.shtml\n"
          ]
        },
        {
          "metadata": {
            "tags": null
          },
          "name": "stderr",
          "output_type": "stream",
          "text": [
            "/usr/local/lib/python3.10/dist-packages/urllib3/connectionpool.py:1099: InsecureRequestWarning: Unverified HTTPS request is being made to host 'www.chinanews.com.cn'. Adding certificate verification is strongly advised. See: https://urllib3.readthedocs.io/en/latest/advanced-usage.html#tls-warnings\n",
            "  warnings.warn(\n"
          ]
        },
        {
          "metadata": {
            "tags": null
          },
          "name": "stdout",
          "output_type": "stream",
          "text": [
            "Downloaded and saved HTML: https://www.chinanews.com.cn/gn/2024/10-28/10309581.shtml\n"
          ]
        },
        {
          "metadata": {
            "tags": null
          },
          "name": "stderr",
          "output_type": "stream",
          "text": [
            "/usr/local/lib/python3.10/dist-packages/urllib3/connectionpool.py:1099: InsecureRequestWarning: Unverified HTTPS request is being made to host 'www.chinanews.com.cn'. Adding certificate verification is strongly advised. See: https://urllib3.readthedocs.io/en/latest/advanced-usage.html#tls-warnings\n",
            "  warnings.warn(\n"
          ]
        },
        {
          "metadata": {
            "tags": null
          },
          "name": "stdout",
          "output_type": "stream",
          "text": [
            "Downloaded and saved HTML: https://www.chinanews.com.cn/gj/z/zdzs/index.shtml\n"
          ]
        },
        {
          "metadata": {
            "tags": null
          },
          "name": "stderr",
          "output_type": "stream",
          "text": [
            "/usr/local/lib/python3.10/dist-packages/urllib3/connectionpool.py:1099: InsecureRequestWarning: Unverified HTTPS request is being made to host 'www.chinanews.com.cn'. Adding certificate verification is strongly advised. See: https://urllib3.readthedocs.io/en/latest/advanced-usage.html#tls-warnings\n",
            "  warnings.warn(\n"
          ]
        },
        {
          "metadata": {
            "tags": null
          },
          "name": "stdout",
          "output_type": "stream",
          "text": [
            "Downloaded and saved HTML: https://www.chinanews.com.cn/gj/2024/10-28/10309068.shtml\n"
          ]
        },
        {
          "metadata": {
            "tags": null
          },
          "name": "stderr",
          "output_type": "stream",
          "text": [
            "/usr/local/lib/python3.10/dist-packages/urllib3/connectionpool.py:1099: InsecureRequestWarning: Unverified HTTPS request is being made to host 'www.chinanews.com.cn'. Adding certificate verification is strongly advised. See: https://urllib3.readthedocs.io/en/latest/advanced-usage.html#tls-warnings\n",
            "  warnings.warn(\n"
          ]
        },
        {
          "metadata": {
            "tags": null
          },
          "name": "stdout",
          "output_type": "stream",
          "text": [
            "Downloaded and saved HTML: https://www.chinanews.com.cn/gn/2024/10-28/10309343.shtml\n"
          ]
        },
        {
          "metadata": {
            "tags": null
          },
          "name": "stderr",
          "output_type": "stream",
          "text": [
            "/usr/local/lib/python3.10/dist-packages/urllib3/connectionpool.py:1099: InsecureRequestWarning: Unverified HTTPS request is being made to host 'www.chinanews.com.cn'. Adding certificate verification is strongly advised. See: https://urllib3.readthedocs.io/en/latest/advanced-usage.html#tls-warnings\n",
            "  warnings.warn(\n"
          ]
        },
        {
          "metadata": {
            "tags": null
          },
          "name": "stdout",
          "output_type": "stream",
          "text": [
            "Downloaded and saved HTML: https://www.chinanews.com.cn/gj/2024/10-28/10309086.shtml\n"
          ]
        },
        {
          "metadata": {
            "tags": null
          },
          "name": "stderr",
          "output_type": "stream",
          "text": [
            "/usr/local/lib/python3.10/dist-packages/urllib3/connectionpool.py:1099: InsecureRequestWarning: Unverified HTTPS request is being made to host 'www.chinanews.com.cn'. Adding certificate verification is strongly advised. See: https://urllib3.readthedocs.io/en/latest/advanced-usage.html#tls-warnings\n",
            "  warnings.warn(\n"
          ]
        },
        {
          "metadata": {
            "tags": null
          },
          "name": "stdout",
          "output_type": "stream",
          "text": [
            "Downloaded and saved HTML: https://www.chinanews.com.cn/gj/2024/10-28/10309276.shtml\n"
          ]
        },
        {
          "metadata": {
            "tags": null
          },
          "name": "stderr",
          "output_type": "stream",
          "text": [
            "/usr/local/lib/python3.10/dist-packages/urllib3/connectionpool.py:1099: InsecureRequestWarning: Unverified HTTPS request is being made to host 'www.chinanews.com.cn'. Adding certificate verification is strongly advised. See: https://urllib3.readthedocs.io/en/latest/advanced-usage.html#tls-warnings\n",
            "  warnings.warn(\n"
          ]
        },
        {
          "metadata": {
            "tags": null
          },
          "name": "stdout",
          "output_type": "stream",
          "text": [
            "Downloaded and saved HTML: https://www.chinanews.com.cn/gj/2024/10-28/10309066.shtml\n"
          ]
        },
        {
          "metadata": {
            "tags": null
          },
          "name": "stderr",
          "output_type": "stream",
          "text": [
            "/usr/local/lib/python3.10/dist-packages/urllib3/connectionpool.py:1099: InsecureRequestWarning: Unverified HTTPS request is being made to host 'www.chinanews.com'. Adding certificate verification is strongly advised. See: https://urllib3.readthedocs.io/en/latest/advanced-usage.html#tls-warnings\n",
            "  warnings.warn(\n"
          ]
        },
        {
          "metadata": {
            "tags": null
          },
          "name": "stdout",
          "output_type": "stream",
          "text": [
            "Downloaded and saved HTML: https://www.chinanews.com/scroll-news/news1.html\n"
          ]
        },
        {
          "metadata": {
            "tags": null
          },
          "name": "stderr",
          "output_type": "stream",
          "text": [
            "/usr/local/lib/python3.10/dist-packages/urllib3/connectionpool.py:1099: InsecureRequestWarning: Unverified HTTPS request is being made to host 'www.chinanews.com.cn'. Adding certificate verification is strongly advised. See: https://urllib3.readthedocs.io/en/latest/advanced-usage.html#tls-warnings\n",
            "  warnings.warn(\n"
          ]
        },
        {
          "metadata": {
            "tags": null
          },
          "name": "stdout",
          "output_type": "stream",
          "text": [
            "Downloaded and saved HTML: https://www.chinanews.com.cn/gn/2024/10-28/10309534.shtml\n"
          ]
        },
        {
          "metadata": {
            "tags": null
          },
          "name": "stderr",
          "output_type": "stream",
          "text": [
            "/usr/local/lib/python3.10/dist-packages/urllib3/connectionpool.py:1099: InsecureRequestWarning: Unverified HTTPS request is being made to host 'www.chinanews.com.cn'. Adding certificate verification is strongly advised. See: https://urllib3.readthedocs.io/en/latest/advanced-usage.html#tls-warnings\n",
            "  warnings.warn(\n"
          ]
        },
        {
          "metadata": {
            "tags": null
          },
          "name": "stdout",
          "output_type": "stream",
          "text": [
            "Downloaded and saved HTML: https://www.chinanews.com.cn/hr/2024/10-28/10309527.shtml\n"
          ]
        },
        {
          "metadata": {
            "tags": null
          },
          "name": "stderr",
          "output_type": "stream",
          "text": [
            "/usr/local/lib/python3.10/dist-packages/urllib3/connectionpool.py:1099: InsecureRequestWarning: Unverified HTTPS request is being made to host 'www.chinanews.com.cn'. Adding certificate verification is strongly advised. See: https://urllib3.readthedocs.io/en/latest/advanced-usage.html#tls-warnings\n",
            "  warnings.warn(\n"
          ]
        },
        {
          "metadata": {
            "tags": null
          },
          "name": "stdout",
          "output_type": "stream",
          "text": [
            "Downloaded and saved HTML: https://www.chinanews.com.cn/gn/2024/10-28/10309521.shtml\n"
          ]
        },
        {
          "metadata": {
            "tags": null
          },
          "name": "stderr",
          "output_type": "stream",
          "text": [
            "/usr/local/lib/python3.10/dist-packages/urllib3/connectionpool.py:1099: InsecureRequestWarning: Unverified HTTPS request is being made to host 'www.chinanews.com.cn'. Adding certificate verification is strongly advised. See: https://urllib3.readthedocs.io/en/latest/advanced-usage.html#tls-warnings\n",
            "  warnings.warn(\n"
          ]
        },
        {
          "metadata": {
            "tags": null
          },
          "name": "stdout",
          "output_type": "stream",
          "text": [
            "Downloaded and saved HTML: https://www.chinanews.com.cn/dxw/2024/10-28/10309610.shtml\n"
          ]
        },
        {
          "metadata": {
            "tags": null
          },
          "name": "stderr",
          "output_type": "stream",
          "text": [
            "/usr/local/lib/python3.10/dist-packages/urllib3/connectionpool.py:1099: InsecureRequestWarning: Unverified HTTPS request is being made to host 'www.chinanews.com.cn'. Adding certificate verification is strongly advised. See: https://urllib3.readthedocs.io/en/latest/advanced-usage.html#tls-warnings\n",
            "  warnings.warn(\n"
          ]
        },
        {
          "metadata": {
            "tags": null
          },
          "name": "stdout",
          "output_type": "stream",
          "text": [
            "Downloaded and saved HTML: https://www.chinanews.com.cn/gn/2024/10-28/10309519.shtml\n"
          ]
        },
        {
          "metadata": {
            "tags": null
          },
          "name": "stderr",
          "output_type": "stream",
          "text": [
            "/usr/local/lib/python3.10/dist-packages/urllib3/connectionpool.py:1099: InsecureRequestWarning: Unverified HTTPS request is being made to host 'www.chinanews.com.cn'. Adding certificate verification is strongly advised. See: https://urllib3.readthedocs.io/en/latest/advanced-usage.html#tls-warnings\n",
            "  warnings.warn(\n"
          ]
        },
        {
          "metadata": {
            "tags": null
          },
          "name": "stdout",
          "output_type": "stream",
          "text": [
            "Downloaded and saved HTML: https://www.chinanews.com.cn/dwq/2024/10-28/10309518.shtml\n"
          ]
        },
        {
          "metadata": {
            "tags": null
          },
          "name": "stderr",
          "output_type": "stream",
          "text": [
            "/usr/local/lib/python3.10/dist-packages/urllib3/connectionpool.py:1099: InsecureRequestWarning: Unverified HTTPS request is being made to host 'www.chinanews.com.cn'. Adding certificate verification is strongly advised. See: https://urllib3.readthedocs.io/en/latest/advanced-usage.html#tls-warnings\n",
            "  warnings.warn(\n"
          ]
        },
        {
          "metadata": {
            "tags": null
          },
          "name": "stdout",
          "output_type": "stream",
          "text": [
            "Downloaded and saved HTML: https://www.chinanews.com.cn/dxw/2024/10-28/10309606.shtml\n"
          ]
        },
        {
          "metadata": {
            "tags": null
          },
          "name": "stderr",
          "output_type": "stream",
          "text": [
            "/usr/local/lib/python3.10/dist-packages/urllib3/connectionpool.py:1099: InsecureRequestWarning: Unverified HTTPS request is being made to host 'www.chinanews.com.cn'. Adding certificate verification is strongly advised. See: https://urllib3.readthedocs.io/en/latest/advanced-usage.html#tls-warnings\n",
            "  warnings.warn(\n"
          ]
        },
        {
          "metadata": {
            "tags": null
          },
          "name": "stdout",
          "output_type": "stream",
          "text": [
            "Downloaded and saved HTML: https://www.chinanews.com.cn/dxw/2024/10-28/10309605.shtml\n"
          ]
        },
        {
          "metadata": {
            "tags": null
          },
          "name": "stderr",
          "output_type": "stream",
          "text": [
            "/usr/local/lib/python3.10/dist-packages/urllib3/connectionpool.py:1099: InsecureRequestWarning: Unverified HTTPS request is being made to host 'www.chinanews.com.cn'. Adding certificate verification is strongly advised. See: https://urllib3.readthedocs.io/en/latest/advanced-usage.html#tls-warnings\n",
            "  warnings.warn(\n"
          ]
        },
        {
          "metadata": {
            "tags": null
          },
          "name": "stdout",
          "output_type": "stream",
          "text": [
            "Downloaded and saved HTML: https://www.chinanews.com.cn/sh/2024/10-28/10309509.shtml\n"
          ]
        },
        {
          "metadata": {
            "tags": null
          },
          "name": "stderr",
          "output_type": "stream",
          "text": [
            "/usr/local/lib/python3.10/dist-packages/urllib3/connectionpool.py:1099: InsecureRequestWarning: Unverified HTTPS request is being made to host 'www.chinanews.com.cn'. Adding certificate verification is strongly advised. See: https://urllib3.readthedocs.io/en/latest/advanced-usage.html#tls-warnings\n",
            "  warnings.warn(\n"
          ]
        },
        {
          "metadata": {
            "tags": null
          },
          "name": "stdout",
          "output_type": "stream",
          "text": [
            "Downloaded and saved HTML: https://www.chinanews.com.cn/gn/2024/10-28/10309496.shtml\n"
          ]
        },
        {
          "metadata": {
            "tags": null
          },
          "name": "stderr",
          "output_type": "stream",
          "text": [
            "/usr/local/lib/python3.10/dist-packages/urllib3/connectionpool.py:1099: InsecureRequestWarning: Unverified HTTPS request is being made to host 'www.chinanews.com.cn'. Adding certificate verification is strongly advised. See: https://urllib3.readthedocs.io/en/latest/advanced-usage.html#tls-warnings\n",
            "  warnings.warn(\n"
          ]
        },
        {
          "metadata": {
            "tags": null
          },
          "name": "stdout",
          "output_type": "stream",
          "text": [
            "Downloaded and saved HTML: https://www.chinanews.com.cn/sh/2024/10-28/10309504.shtml\n"
          ]
        },
        {
          "metadata": {
            "tags": null
          },
          "name": "stderr",
          "output_type": "stream",
          "text": [
            "/usr/local/lib/python3.10/dist-packages/urllib3/connectionpool.py:1099: InsecureRequestWarning: Unverified HTTPS request is being made to host 'www.chinanews.com.cn'. Adding certificate verification is strongly advised. See: https://urllib3.readthedocs.io/en/latest/advanced-usage.html#tls-warnings\n",
            "  warnings.warn(\n"
          ]
        },
        {
          "metadata": {
            "tags": null
          },
          "name": "stdout",
          "output_type": "stream",
          "text": [
            "Downloaded and saved HTML: https://www.chinanews.com.cn/sh/2024/10-28/10309462.shtml\n"
          ]
        },
        {
          "metadata": {
            "tags": null
          },
          "name": "stderr",
          "output_type": "stream",
          "text": [
            "/usr/local/lib/python3.10/dist-packages/urllib3/connectionpool.py:1099: InsecureRequestWarning: Unverified HTTPS request is being made to host 'www.chinanews.com.cn'. Adding certificate verification is strongly advised. See: https://urllib3.readthedocs.io/en/latest/advanced-usage.html#tls-warnings\n",
            "  warnings.warn(\n"
          ]
        },
        {
          "metadata": {
            "tags": null
          },
          "name": "stdout",
          "output_type": "stream",
          "text": [
            "Downloaded and saved HTML: https://www.chinanews.com.cn/sh/2024/10-28/10309497.shtml\n"
          ]
        },
        {
          "metadata": {
            "tags": null
          },
          "name": "stderr",
          "output_type": "stream",
          "text": [
            "/usr/local/lib/python3.10/dist-packages/urllib3/connectionpool.py:1099: InsecureRequestWarning: Unverified HTTPS request is being made to host 'www.chinanews.com.cn'. Adding certificate verification is strongly advised. See: https://urllib3.readthedocs.io/en/latest/advanced-usage.html#tls-warnings\n",
            "  warnings.warn(\n"
          ]
        },
        {
          "metadata": {
            "tags": null
          },
          "name": "stdout",
          "output_type": "stream",
          "text": [
            "Downloaded and saved HTML: https://www.chinanews.com.cn/cj/2024/10-28/10309480.shtml\n"
          ]
        },
        {
          "metadata": {
            "tags": null
          },
          "name": "stderr",
          "output_type": "stream",
          "text": [
            "/usr/local/lib/python3.10/dist-packages/urllib3/connectionpool.py:1099: InsecureRequestWarning: Unverified HTTPS request is being made to host 'www.chinanews.com.cn'. Adding certificate verification is strongly advised. See: https://urllib3.readthedocs.io/en/latest/advanced-usage.html#tls-warnings\n",
            "  warnings.warn(\n"
          ]
        },
        {
          "metadata": {
            "tags": null
          },
          "name": "stdout",
          "output_type": "stream",
          "text": [
            "Downloaded and saved HTML: https://www.chinanews.com.cn/gn/2024/10-28/10309430.shtml\n"
          ]
        },
        {
          "metadata": {
            "tags": null
          },
          "name": "stderr",
          "output_type": "stream",
          "text": [
            "/usr/local/lib/python3.10/dist-packages/urllib3/connectionpool.py:1099: InsecureRequestWarning: Unverified HTTPS request is being made to host 'www.chinanews.com.cn'. Adding certificate verification is strongly advised. See: https://urllib3.readthedocs.io/en/latest/advanced-usage.html#tls-warnings\n",
            "  warnings.warn(\n"
          ]
        },
        {
          "metadata": {
            "tags": null
          },
          "name": "stdout",
          "output_type": "stream",
          "text": [
            "Downloaded and saved HTML: https://www.chinanews.com.cn/ty/2024/10-28/10309434.shtml\n"
          ]
        },
        {
          "metadata": {
            "tags": null
          },
          "name": "stderr",
          "output_type": "stream",
          "text": [
            "/usr/local/lib/python3.10/dist-packages/urllib3/connectionpool.py:1099: InsecureRequestWarning: Unverified HTTPS request is being made to host 'www.chinanews.com.cn'. Adding certificate verification is strongly advised. See: https://urllib3.readthedocs.io/en/latest/advanced-usage.html#tls-warnings\n",
            "  warnings.warn(\n"
          ]
        },
        {
          "metadata": {
            "tags": null
          },
          "name": "stdout",
          "output_type": "stream",
          "text": [
            "Downloaded and saved HTML: https://www.chinanews.com.cn/cj/2024/10-28/10309418.shtml\n"
          ]
        },
        {
          "metadata": {
            "tags": null
          },
          "name": "stderr",
          "output_type": "stream",
          "text": [
            "/usr/local/lib/python3.10/dist-packages/urllib3/connectionpool.py:1099: InsecureRequestWarning: Unverified HTTPS request is being made to host 'www.chinanews.com.cn'. Adding certificate verification is strongly advised. See: https://urllib3.readthedocs.io/en/latest/advanced-usage.html#tls-warnings\n",
            "  warnings.warn(\n"
          ]
        },
        {
          "metadata": {
            "tags": null
          },
          "name": "stdout",
          "output_type": "stream",
          "text": [
            "Downloaded and saved HTML: https://www.chinanews.com.cn/gn/2024/10-28/10309404.shtml\n"
          ]
        },
        {
          "metadata": {
            "tags": null
          },
          "name": "stderr",
          "output_type": "stream",
          "text": [
            "/usr/local/lib/python3.10/dist-packages/urllib3/connectionpool.py:1099: InsecureRequestWarning: Unverified HTTPS request is being made to host 'www.chinanews.com.cn'. Adding certificate verification is strongly advised. See: https://urllib3.readthedocs.io/en/latest/advanced-usage.html#tls-warnings\n",
            "  warnings.warn(\n"
          ]
        },
        {
          "metadata": {
            "tags": null
          },
          "name": "stdout",
          "output_type": "stream",
          "text": [
            "Downloaded and saved HTML: https://www.chinanews.com.cn/cj/2024/10-28/10309414.shtml\n"
          ]
        },
        {
          "metadata": {
            "tags": null
          },
          "name": "stderr",
          "output_type": "stream",
          "text": [
            "/usr/local/lib/python3.10/dist-packages/urllib3/connectionpool.py:1099: InsecureRequestWarning: Unverified HTTPS request is being made to host 'www.chinanews.com.cn'. Adding certificate verification is strongly advised. See: https://urllib3.readthedocs.io/en/latest/advanced-usage.html#tls-warnings\n",
            "  warnings.warn(\n"
          ]
        },
        {
          "metadata": {
            "tags": null
          },
          "name": "stdout",
          "output_type": "stream",
          "text": [
            "Downloaded and saved HTML: https://www.chinanews.com.cn/cj/2024/10-28/10309372.shtml\n"
          ]
        },
        {
          "metadata": {
            "tags": null
          },
          "name": "stderr",
          "output_type": "stream",
          "text": [
            "/usr/local/lib/python3.10/dist-packages/urllib3/connectionpool.py:1099: InsecureRequestWarning: Unverified HTTPS request is being made to host 'www.chinanews.com.cn'. Adding certificate verification is strongly advised. See: https://urllib3.readthedocs.io/en/latest/advanced-usage.html#tls-warnings\n",
            "  warnings.warn(\n"
          ]
        },
        {
          "metadata": {
            "tags": null
          },
          "name": "stdout",
          "output_type": "stream",
          "text": [
            "Downloaded and saved HTML: https://www.chinanews.com.cn/kong/z/zhongxinrenwu/index.shtml\n"
          ]
        },
        {
          "metadata": {
            "tags": null
          },
          "name": "stderr",
          "output_type": "stream",
          "text": [
            "/usr/local/lib/python3.10/dist-packages/urllib3/connectionpool.py:1099: InsecureRequestWarning: Unverified HTTPS request is being made to host 'www.chinanews.com'. Adding certificate verification is strongly advised. See: https://urllib3.readthedocs.io/en/latest/advanced-usage.html#tls-warnings\n",
            "  warnings.warn(\n"
          ]
        },
        {
          "metadata": {
            "tags": null
          },
          "name": "stdout",
          "output_type": "stream",
          "text": [
            "Downloaded and saved HTML: https://www.chinanews.com/ai-chinanews/\n",
            "Downloaded and saved HTML: https://www.chinanews.com.cn/kong/z/zhongxinrenwu/index.shtml\n"
          ]
        },
        {
          "metadata": {
            "tags": null
          },
          "name": "stderr",
          "output_type": "stream",
          "text": [
            "/usr/local/lib/python3.10/dist-packages/urllib3/connectionpool.py:1099: InsecureRequestWarning: Unverified HTTPS request is being made to host 'www.chinanews.com.cn'. Adding certificate verification is strongly advised. See: https://urllib3.readthedocs.io/en/latest/advanced-usage.html#tls-warnings\n",
            "  warnings.warn(\n",
            "/usr/local/lib/python3.10/dist-packages/urllib3/connectionpool.py:1099: InsecureRequestWarning: Unverified HTTPS request is being made to host 'www.chinanews.com'. Adding certificate verification is strongly advised. See: https://urllib3.readthedocs.io/en/latest/advanced-usage.html#tls-warnings\n",
            "  warnings.warn(\n"
          ]
        },
        {
          "metadata": {
            "tags": null
          },
          "name": "stdout",
          "output_type": "stream",
          "text": [
            "Downloaded and saved HTML: https://www.chinanews.com/ai-chinanews/\n",
            "Downloaded and saved HTML: https://www.chinanews.com.cn/kong/z/zhongxinrenwu/index.shtml\n"
          ]
        },
        {
          "metadata": {
            "tags": null
          },
          "name": "stderr",
          "output_type": "stream",
          "text": [
            "/usr/local/lib/python3.10/dist-packages/urllib3/connectionpool.py:1099: InsecureRequestWarning: Unverified HTTPS request is being made to host 'www.chinanews.com.cn'. Adding certificate verification is strongly advised. See: https://urllib3.readthedocs.io/en/latest/advanced-usage.html#tls-warnings\n",
            "  warnings.warn(\n",
            "/usr/local/lib/python3.10/dist-packages/urllib3/connectionpool.py:1099: InsecureRequestWarning: Unverified HTTPS request is being made to host 'www.chinanews.com'. Adding certificate verification is strongly advised. See: https://urllib3.readthedocs.io/en/latest/advanced-usage.html#tls-warnings\n",
            "  warnings.warn(\n"
          ]
        },
        {
          "metadata": {
            "tags": null
          },
          "name": "stdout",
          "output_type": "stream",
          "text": [
            "Downloaded and saved HTML: https://www.chinanews.com/ai-chinanews/\n"
          ]
        },
        {
          "metadata": {
            "tags": null
          },
          "name": "stderr",
          "output_type": "stream",
          "text": [
            "/usr/local/lib/python3.10/dist-packages/urllib3/connectionpool.py:1099: InsecureRequestWarning: Unverified HTTPS request is being made to host 'www.chinanews.com'. Adding certificate verification is strongly advised. See: https://urllib3.readthedocs.io/en/latest/advanced-usage.html#tls-warnings\n",
            "  warnings.warn(\n"
          ]
        },
        {
          "metadata": {
            "tags": null
          },
          "name": "stdout",
          "output_type": "stream",
          "text": [
            "Downloaded and saved HTML: https://www.chinanews.com/cnspp/pp-xyd/index.shtml\n"
          ]
        },
        {
          "metadata": {
            "tags": null
          },
          "name": "stderr",
          "output_type": "stream",
          "text": [
            "/usr/local/lib/python3.10/dist-packages/urllib3/connectionpool.py:1099: InsecureRequestWarning: Unverified HTTPS request is being made to host 'www.chinanews.com'. Adding certificate verification is strongly advised. See: https://urllib3.readthedocs.io/en/latest/advanced-usage.html#tls-warnings\n",
            "  warnings.warn(\n"
          ]
        },
        {
          "metadata": {
            "tags": null
          },
          "name": "stdout",
          "output_type": "stream",
          "text": [
            "Downloaded and saved HTML: https://www.chinanews.com/gn/2024/10-28/10309639.shtml\n"
          ]
        },
        {
          "metadata": {
            "tags": null
          },
          "name": "stderr",
          "output_type": "stream",
          "text": [
            "/usr/local/lib/python3.10/dist-packages/urllib3/connectionpool.py:1099: InsecureRequestWarning: Unverified HTTPS request is being made to host 'www.chinanews.com.cn'. Adding certificate verification is strongly advised. See: https://urllib3.readthedocs.io/en/latest/advanced-usage.html#tls-warnings\n",
            "  warnings.warn(\n"
          ]
        },
        {
          "metadata": {
            "tags": null
          },
          "name": "stdout",
          "output_type": "stream",
          "text": [
            "Downloaded and saved HTML: https://www.chinanews.com.cn/gn/shipin/cns/2024/10-28/news1003477.shtml\n"
          ]
        },
        {
          "metadata": {
            "tags": null
          },
          "name": "stderr",
          "output_type": "stream",
          "text": [
            "/usr/local/lib/python3.10/dist-packages/urllib3/connectionpool.py:1099: InsecureRequestWarning: Unverified HTTPS request is being made to host 'www.chinanews.com'. Adding certificate verification is strongly advised. See: https://urllib3.readthedocs.io/en/latest/advanced-usage.html#tls-warnings\n",
            "  warnings.warn(\n"
          ]
        },
        {
          "metadata": {
            "tags": null
          },
          "name": "stdout",
          "output_type": "stream",
          "text": [
            "Downloaded and saved HTML: https://www.chinanews.com/gn/2024/10-25/10307876.shtml\n"
          ]
        },
        {
          "metadata": {
            "tags": null
          },
          "name": "stderr",
          "output_type": "stream",
          "text": [
            "/usr/local/lib/python3.10/dist-packages/urllib3/connectionpool.py:1099: InsecureRequestWarning: Unverified HTTPS request is being made to host 'www.chinanews.com'. Adding certificate verification is strongly advised. See: https://urllib3.readthedocs.io/en/latest/advanced-usage.html#tls-warnings\n",
            "  warnings.warn(\n"
          ]
        },
        {
          "metadata": {
            "tags": null
          },
          "name": "stdout",
          "output_type": "stream",
          "text": [
            "Downloaded and saved HTML: https://www.chinanews.com/gn/2024/10-24/10307301.shtml\n"
          ]
        },
        {
          "metadata": {
            "tags": null
          },
          "name": "stderr",
          "output_type": "stream",
          "text": [
            "/usr/local/lib/python3.10/dist-packages/urllib3/connectionpool.py:1099: InsecureRequestWarning: Unverified HTTPS request is being made to host 'www.chinanews.com'. Adding certificate verification is strongly advised. See: https://urllib3.readthedocs.io/en/latest/advanced-usage.html#tls-warnings\n",
            "  warnings.warn(\n"
          ]
        },
        {
          "metadata": {
            "tags": null
          },
          "name": "stdout",
          "output_type": "stream",
          "text": [
            "Downloaded and saved HTML: https://www.chinanews.com/cnspp/pp-zwdh/index.shtml\n"
          ]
        },
        {
          "metadata": {
            "tags": null
          },
          "name": "stderr",
          "output_type": "stream",
          "text": [
            "/usr/local/lib/python3.10/dist-packages/urllib3/connectionpool.py:1099: InsecureRequestWarning: Unverified HTTPS request is being made to host 'www.chinanews.com'. Adding certificate verification is strongly advised. See: https://urllib3.readthedocs.io/en/latest/advanced-usage.html#tls-warnings\n",
            "  warnings.warn(\n"
          ]
        },
        {
          "metadata": {
            "tags": null
          },
          "name": "stdout",
          "output_type": "stream",
          "text": [
            "Downloaded and saved HTML: https://www.chinanews.com/dxw/2024/10-25/10308160.shtml\n"
          ]
        },
        {
          "metadata": {
            "tags": null
          },
          "name": "stderr",
          "output_type": "stream",
          "text": [
            "/usr/local/lib/python3.10/dist-packages/urllib3/connectionpool.py:1099: InsecureRequestWarning: Unverified HTTPS request is being made to host 'www.chinanews.com'. Adding certificate verification is strongly advised. See: https://urllib3.readthedocs.io/en/latest/advanced-usage.html#tls-warnings\n",
            "  warnings.warn(\n"
          ]
        },
        {
          "metadata": {
            "tags": null
          },
          "name": "stdout",
          "output_type": "stream",
          "text": [
            "Downloaded and saved HTML: https://www.chinanews.com/dxw/2024/09-15/10286901.shtml\n"
          ]
        },
        {
          "metadata": {
            "tags": null
          },
          "name": "stderr",
          "output_type": "stream",
          "text": [
            "/usr/local/lib/python3.10/dist-packages/urllib3/connectionpool.py:1099: InsecureRequestWarning: Unverified HTTPS request is being made to host 'www.chinanews.com'. Adding certificate verification is strongly advised. See: https://urllib3.readthedocs.io/en/latest/advanced-usage.html#tls-warnings\n",
            "  warnings.warn(\n"
          ]
        },
        {
          "metadata": {
            "tags": null
          },
          "name": "stdout",
          "output_type": "stream",
          "text": [
            "Downloaded and saved HTML: https://www.chinanews.com/dxw/2024/09-11/10284394.shtml\n"
          ]
        },
        {
          "metadata": {
            "tags": null
          },
          "name": "stderr",
          "output_type": "stream",
          "text": [
            "/usr/local/lib/python3.10/dist-packages/urllib3/connectionpool.py:1099: InsecureRequestWarning: Unverified HTTPS request is being made to host 'www.chinanews.com'. Adding certificate verification is strongly advised. See: https://urllib3.readthedocs.io/en/latest/advanced-usage.html#tls-warnings\n",
            "  warnings.warn(\n"
          ]
        },
        {
          "metadata": {
            "tags": null
          },
          "name": "stdout",
          "output_type": "stream",
          "text": [
            "Downloaded and saved HTML: https://www.chinanews.com/dxw/2024/09-05/10280873.shtml\n"
          ]
        },
        {
          "metadata": {
            "tags": null
          },
          "name": "stderr",
          "output_type": "stream",
          "text": [
            "/usr/local/lib/python3.10/dist-packages/urllib3/connectionpool.py:1099: InsecureRequestWarning: Unverified HTTPS request is being made to host 'www.chinanews.com'. Adding certificate verification is strongly advised. See: https://urllib3.readthedocs.io/en/latest/advanced-usage.html#tls-warnings\n",
            "  warnings.warn(\n"
          ]
        },
        {
          "metadata": {
            "tags": null
          },
          "name": "stdout",
          "output_type": "stream",
          "text": [
            "Downloaded and saved HTML: https://www.chinanews.com/cnspp/pp-talk/index.shtml\n"
          ]
        },
        {
          "metadata": {
            "tags": null
          },
          "name": "stderr",
          "output_type": "stream",
          "text": [
            "/usr/local/lib/python3.10/dist-packages/urllib3/connectionpool.py:1099: InsecureRequestWarning: Unverified HTTPS request is being made to host 'www.chinanews.com.cn'. Adding certificate verification is strongly advised. See: https://urllib3.readthedocs.io/en/latest/advanced-usage.html#tls-warnings\n",
            "  warnings.warn(\n"
          ]
        },
        {
          "metadata": {
            "tags": null
          },
          "name": "stdout",
          "output_type": "stream",
          "text": [
            "An error occurred while downloading https://www.chinanews.com.cn/sh/shipin/cns/2024/10-25/news1003297.shtml: 'charmap' codec can't decode byte 0x8d in position 333: character maps to <undefined>\n"
          ]
        },
        {
          "metadata": {
            "tags": null
          },
          "name": "stderr",
          "output_type": "stream",
          "text": [
            "/usr/local/lib/python3.10/dist-packages/urllib3/connectionpool.py:1099: InsecureRequestWarning: Unverified HTTPS request is being made to host 'www.chinanews.com.cn'. Adding certificate verification is strongly advised. See: https://urllib3.readthedocs.io/en/latest/advanced-usage.html#tls-warnings\n",
            "  warnings.warn(\n"
          ]
        },
        {
          "metadata": {
            "tags": null
          },
          "name": "stdout",
          "output_type": "stream",
          "text": [
            "An error occurred while downloading https://www.chinanews.com.cn/sh/shipin/cns/2024/09-30/news1001440.shtml: 'charmap' codec can't decode byte 0x8d in position 333: character maps to <undefined>\n"
          ]
        },
        {
          "metadata": {
            "tags": null
          },
          "name": "stderr",
          "output_type": "stream",
          "text": [
            "/usr/local/lib/python3.10/dist-packages/urllib3/connectionpool.py:1099: InsecureRequestWarning: Unverified HTTPS request is being made to host 'www.chinanews.com.cn'. Adding certificate verification is strongly advised. See: https://urllib3.readthedocs.io/en/latest/advanced-usage.html#tls-warnings\n",
            "  warnings.warn(\n"
          ]
        },
        {
          "metadata": {
            "tags": null
          },
          "name": "stdout",
          "output_type": "stream",
          "text": [
            "Downloaded and saved HTML: https://www.chinanews.com.cn/cul/shipin/cns/2024/09-08/news999490.shtml\n"
          ]
        },
        {
          "metadata": {
            "tags": null
          },
          "name": "stderr",
          "output_type": "stream",
          "text": [
            "/usr/local/lib/python3.10/dist-packages/urllib3/connectionpool.py:1099: InsecureRequestWarning: Unverified HTTPS request is being made to host 'www.chinanews.com.cn'. Adding certificate verification is strongly advised. See: https://urllib3.readthedocs.io/en/latest/advanced-usage.html#tls-warnings\n",
            "  warnings.warn(\n"
          ]
        },
        {
          "metadata": {
            "tags": null
          },
          "name": "stdout",
          "output_type": "stream",
          "text": [
            "An error occurred while downloading https://www.chinanews.com.cn/sh/shipin/cns/2024/08-24/news998101.shtml: 'charmap' codec can't decode byte 0x8d in position 321: character maps to <undefined>\n"
          ]
        },
        {
          "metadata": {
            "tags": null
          },
          "name": "stderr",
          "output_type": "stream",
          "text": [
            "/usr/local/lib/python3.10/dist-packages/urllib3/connectionpool.py:1099: InsecureRequestWarning: Unverified HTTPS request is being made to host 'www.chinanews.com'. Adding certificate verification is strongly advised. See: https://urllib3.readthedocs.io/en/latest/advanced-usage.html#tls-warnings\n",
            "  warnings.warn(\n"
          ]
        },
        {
          "metadata": {
            "tags": null
          },
          "name": "stdout",
          "output_type": "stream",
          "text": [
            "Downloaded and saved HTML: https://www.chinanews.com/importnews.html\n"
          ]
        },
        {
          "metadata": {
            "tags": null
          },
          "name": "stderr",
          "output_type": "stream",
          "text": [
            "/usr/local/lib/python3.10/dist-packages/urllib3/connectionpool.py:1099: InsecureRequestWarning: Unverified HTTPS request is being made to host 'www.chinanews.com'. Adding certificate verification is strongly advised. See: https://urllib3.readthedocs.io/en/latest/advanced-usage.html#tls-warnings\n",
            "  warnings.warn(\n"
          ]
        },
        {
          "metadata": {
            "tags": null
          },
          "name": "stdout",
          "output_type": "stream",
          "text": [
            "Downloaded and saved HTML: https://www.chinanews.com/iframe/2024/10-28/10309155.shtml\n"
          ]
        },
        {
          "metadata": {
            "tags": null
          },
          "name": "stderr",
          "output_type": "stream",
          "text": [
            "/usr/local/lib/python3.10/dist-packages/urllib3/connectionpool.py:1099: InsecureRequestWarning: Unverified HTTPS request is being made to host 'www.chinanews.com.cn'. Adding certificate verification is strongly advised. See: https://urllib3.readthedocs.io/en/latest/advanced-usage.html#tls-warnings\n",
            "  warnings.warn(\n"
          ]
        },
        {
          "metadata": {
            "tags": null
          },
          "name": "stdout",
          "output_type": "stream",
          "text": [
            "Downloaded and saved HTML: https://www.chinanews.com.cn/gn/2024/10-28/10309150.shtml\n"
          ]
        },
        {
          "metadata": {
            "tags": null
          },
          "name": "stderr",
          "output_type": "stream",
          "text": [
            "/usr/local/lib/python3.10/dist-packages/urllib3/connectionpool.py:1099: InsecureRequestWarning: Unverified HTTPS request is being made to host 'www.chinanews.com'. Adding certificate verification is strongly advised. See: https://urllib3.readthedocs.io/en/latest/advanced-usage.html#tls-warnings\n",
            "  warnings.warn(\n"
          ]
        },
        {
          "metadata": {
            "tags": null
          },
          "name": "stdout",
          "output_type": "stream",
          "text": [
            "Downloaded and saved HTML: https://www.chinanews.com/iframe/2024/10-28/10309592.shtml\n"
          ]
        },
        {
          "metadata": {
            "tags": null
          },
          "name": "stderr",
          "output_type": "stream",
          "text": [
            "/usr/local/lib/python3.10/dist-packages/urllib3/connectionpool.py:1099: InsecureRequestWarning: Unverified HTTPS request is being made to host 'www.chinanews.com.cn'. Adding certificate verification is strongly advised. See: https://urllib3.readthedocs.io/en/latest/advanced-usage.html#tls-warnings\n",
            "  warnings.warn(\n"
          ]
        },
        {
          "metadata": {
            "tags": null
          },
          "name": "stdout",
          "output_type": "stream",
          "text": [
            "Downloaded and saved HTML: https://www.chinanews.com.cn/gn/2024/10-28/10309453.shtml\n"
          ]
        },
        {
          "metadata": {
            "tags": null
          },
          "name": "stderr",
          "output_type": "stream",
          "text": [
            "/usr/local/lib/python3.10/dist-packages/urllib3/connectionpool.py:1099: InsecureRequestWarning: Unverified HTTPS request is being made to host 'www.chinanews.com'. Adding certificate verification is strongly advised. See: https://urllib3.readthedocs.io/en/latest/advanced-usage.html#tls-warnings\n",
            "  warnings.warn(\n"
          ]
        },
        {
          "metadata": {
            "tags": null
          },
          "name": "stdout",
          "output_type": "stream",
          "text": [
            "Downloaded and saved HTML: https://www.chinanews.com/sh/2024/10-28/10309462.shtml\n"
          ]
        },
        {
          "metadata": {
            "tags": null
          },
          "name": "stderr",
          "output_type": "stream",
          "text": [
            "/usr/local/lib/python3.10/dist-packages/urllib3/connectionpool.py:1099: InsecureRequestWarning: Unverified HTTPS request is being made to host 'www.chinanews.com'. Adding certificate verification is strongly advised. See: https://urllib3.readthedocs.io/en/latest/advanced-usage.html#tls-warnings\n",
            "  warnings.warn(\n"
          ]
        },
        {
          "metadata": {
            "tags": null
          },
          "name": "stdout",
          "output_type": "stream",
          "text": [
            "Downloaded and saved HTML: https://www.chinanews.com/cj/2024/10-28/10309480.shtml\n"
          ]
        },
        {
          "metadata": {
            "tags": null
          },
          "name": "stderr",
          "output_type": "stream",
          "text": [
            "/usr/local/lib/python3.10/dist-packages/urllib3/connectionpool.py:1099: InsecureRequestWarning: Unverified HTTPS request is being made to host 'www.chinanews.com'. Adding certificate verification is strongly advised. See: https://urllib3.readthedocs.io/en/latest/advanced-usage.html#tls-warnings\n",
            "  warnings.warn(\n"
          ]
        },
        {
          "metadata": {
            "tags": null
          },
          "name": "stdout",
          "output_type": "stream",
          "text": [
            "Downloaded and saved HTML: https://www.chinanews.com/sh/2024/10-28/10309246.shtml\n"
          ]
        },
        {
          "metadata": {
            "tags": null
          },
          "name": "stderr",
          "output_type": "stream",
          "text": [
            "/usr/local/lib/python3.10/dist-packages/urllib3/connectionpool.py:1099: InsecureRequestWarning: Unverified HTTPS request is being made to host 'www.chinanews.com'. Adding certificate verification is strongly advised. See: https://urllib3.readthedocs.io/en/latest/advanced-usage.html#tls-warnings\n",
            "  warnings.warn(\n"
          ]
        },
        {
          "metadata": {
            "tags": null
          },
          "name": "stdout",
          "output_type": "stream",
          "text": [
            "Downloaded and saved HTML: https://www.chinanews.com/iframe/2024/10-28/10309157.shtml\n"
          ]
        },
        {
          "metadata": {
            "tags": null
          },
          "name": "stderr",
          "output_type": "stream",
          "text": [
            "/usr/local/lib/python3.10/dist-packages/urllib3/connectionpool.py:1099: InsecureRequestWarning: Unverified HTTPS request is being made to host 'www.chinanews.com.cn'. Adding certificate verification is strongly advised. See: https://urllib3.readthedocs.io/en/latest/advanced-usage.html#tls-warnings\n",
            "  warnings.warn(\n"
          ]
        },
        {
          "metadata": {
            "tags": null
          },
          "name": "stdout",
          "output_type": "stream",
          "text": [
            "Downloaded and saved HTML: https://www.chinanews.com.cn/sh/2024/10-28/10309099.shtml\n"
          ]
        },
        {
          "metadata": {
            "tags": null
          },
          "name": "stderr",
          "output_type": "stream",
          "text": [
            "/usr/local/lib/python3.10/dist-packages/urllib3/connectionpool.py:1099: InsecureRequestWarning: Unverified HTTPS request is being made to host 'www.chinanews.com'. Adding certificate verification is strongly advised. See: https://urllib3.readthedocs.io/en/latest/advanced-usage.html#tls-warnings\n",
            "  warnings.warn(\n"
          ]
        },
        {
          "metadata": {
            "tags": null
          },
          "name": "stdout",
          "output_type": "stream",
          "text": [
            "Downloaded and saved HTML: https://www.chinanews.com/sh/2024/10-28/10309074.shtml\n"
          ]
        },
        {
          "metadata": {
            "tags": null
          },
          "name": "stderr",
          "output_type": "stream",
          "text": [
            "/usr/local/lib/python3.10/dist-packages/urllib3/connectionpool.py:1099: InsecureRequestWarning: Unverified HTTPS request is being made to host 'www.chinanews.com'. Adding certificate verification is strongly advised. See: https://urllib3.readthedocs.io/en/latest/advanced-usage.html#tls-warnings\n",
            "  warnings.warn(\n"
          ]
        },
        {
          "metadata": {
            "tags": null
          },
          "name": "stdout",
          "output_type": "stream",
          "text": [
            "Downloaded and saved HTML: https://www.chinanews.com/iframe/2024/10-28/10309143.shtml\n"
          ]
        },
        {
          "metadata": {
            "tags": null
          },
          "name": "stderr",
          "output_type": "stream",
          "text": [
            "/usr/local/lib/python3.10/dist-packages/urllib3/connectionpool.py:1099: InsecureRequestWarning: Unverified HTTPS request is being made to host 'www.chinanews.com.cn'. Adding certificate verification is strongly advised. See: https://urllib3.readthedocs.io/en/latest/advanced-usage.html#tls-warnings\n",
            "  warnings.warn(\n"
          ]
        },
        {
          "metadata": {
            "tags": null
          },
          "name": "stdout",
          "output_type": "stream",
          "text": [
            "Downloaded and saved HTML: https://www.chinanews.com.cn/cj/2024/10-28/10309129.shtml\n"
          ]
        },
        {
          "metadata": {
            "tags": null
          },
          "name": "stderr",
          "output_type": "stream",
          "text": [
            "/usr/local/lib/python3.10/dist-packages/urllib3/connectionpool.py:1099: InsecureRequestWarning: Unverified HTTPS request is being made to host 'www.chinanews.com'. Adding certificate verification is strongly advised. See: https://urllib3.readthedocs.io/en/latest/advanced-usage.html#tls-warnings\n",
            "  warnings.warn(\n"
          ]
        },
        {
          "metadata": {
            "tags": null
          },
          "name": "stdout",
          "output_type": "stream",
          "text": [
            "Downloaded and saved HTML: https://www.chinanews.com/finance/\n"
          ]
        },
        {
          "metadata": {
            "tags": null
          },
          "name": "stderr",
          "output_type": "stream",
          "text": [
            "/usr/local/lib/python3.10/dist-packages/urllib3/connectionpool.py:1099: InsecureRequestWarning: Unverified HTTPS request is being made to host 'www.chinanews.com'. Adding certificate verification is strongly advised. See: https://urllib3.readthedocs.io/en/latest/advanced-usage.html#tls-warnings\n",
            "  warnings.warn(\n"
          ]
        },
        {
          "metadata": {
            "tags": null
          },
          "name": "stdout",
          "output_type": "stream",
          "text": [
            "Downloaded and saved HTML: https://www.chinanews.com/gj/2024/10-28/10309624.shtml\n"
          ]
        },
        {
          "metadata": {
            "tags": null
          },
          "name": "stderr",
          "output_type": "stream",
          "text": [
            "/usr/local/lib/python3.10/dist-packages/urllib3/connectionpool.py:1099: InsecureRequestWarning: Unverified HTTPS request is being made to host 'www.chinanews.com.cn'. Adding certificate verification is strongly advised. See: https://urllib3.readthedocs.io/en/latest/advanced-usage.html#tls-warnings\n",
            "  warnings.warn(\n"
          ]
        },
        {
          "metadata": {
            "tags": null
          },
          "name": "stdout",
          "output_type": "stream",
          "text": [
            "Downloaded and saved HTML: https://www.chinanews.com.cn/gj/2024/10-28/10309547.shtml\n"
          ]
        },
        {
          "metadata": {
            "tags": null
          },
          "name": "stderr",
          "output_type": "stream",
          "text": [
            "/usr/local/lib/python3.10/dist-packages/urllib3/connectionpool.py:1099: InsecureRequestWarning: Unverified HTTPS request is being made to host 'www.chinanews.com'. Adding certificate verification is strongly advised. See: https://urllib3.readthedocs.io/en/latest/advanced-usage.html#tls-warnings\n",
            "  warnings.warn(\n"
          ]
        },
        {
          "metadata": {
            "tags": null
          },
          "name": "stdout",
          "output_type": "stream",
          "text": [
            "Downloaded and saved HTML: https://www.chinanews.com/gj/2024/10-28/10309620.shtml\n"
          ]
        },
        {
          "metadata": {
            "tags": null
          },
          "name": "stderr",
          "output_type": "stream",
          "text": [
            "/usr/local/lib/python3.10/dist-packages/urllib3/connectionpool.py:1099: InsecureRequestWarning: Unverified HTTPS request is being made to host 'www.chinanews.com'. Adding certificate verification is strongly advised. See: https://urllib3.readthedocs.io/en/latest/advanced-usage.html#tls-warnings\n",
            "  warnings.warn(\n"
          ]
        },
        {
          "metadata": {
            "tags": null
          },
          "name": "stdout",
          "output_type": "stream",
          "text": [
            "Downloaded and saved HTML: https://www.chinanews.com/gj/2024/10-28/10309612.shtml\n"
          ]
        },
        {
          "metadata": {
            "tags": null
          },
          "name": "stderr",
          "output_type": "stream",
          "text": [
            "/usr/local/lib/python3.10/dist-packages/urllib3/connectionpool.py:1099: InsecureRequestWarning: Unverified HTTPS request is being made to host 'www.chinanews.com'. Adding certificate verification is strongly advised. See: https://urllib3.readthedocs.io/en/latest/advanced-usage.html#tls-warnings\n",
            "  warnings.warn(\n"
          ]
        },
        {
          "metadata": {
            "tags": null
          },
          "name": "stdout",
          "output_type": "stream",
          "text": [
            "Downloaded and saved HTML: https://www.chinanews.com/gj/2024/10-28/10309548.shtml\n"
          ]
        },
        {
          "metadata": {
            "tags": null
          },
          "name": "stderr",
          "output_type": "stream",
          "text": [
            "/usr/local/lib/python3.10/dist-packages/urllib3/connectionpool.py:1099: InsecureRequestWarning: Unverified HTTPS request is being made to host 'www.chinanews.com'. Adding certificate verification is strongly advised. See: https://urllib3.readthedocs.io/en/latest/advanced-usage.html#tls-warnings\n",
            "  warnings.warn(\n"
          ]
        },
        {
          "metadata": {
            "tags": null
          },
          "name": "stdout",
          "output_type": "stream",
          "text": [
            "Downloaded and saved HTML: https://www.chinanews.com/gj/2024/10-28/10309510.shtml\n"
          ]
        },
        {
          "metadata": {
            "tags": null
          },
          "name": "stderr",
          "output_type": "stream",
          "text": [
            "/usr/local/lib/python3.10/dist-packages/urllib3/connectionpool.py:1099: InsecureRequestWarning: Unverified HTTPS request is being made to host 'www.chinanews.com'. Adding certificate verification is strongly advised. See: https://urllib3.readthedocs.io/en/latest/advanced-usage.html#tls-warnings\n",
            "  warnings.warn(\n"
          ]
        },
        {
          "metadata": {
            "tags": null
          },
          "name": "stdout",
          "output_type": "stream",
          "text": [
            "Downloaded and saved HTML: https://www.chinanews.com/gj/2024/10-28/10309424.shtml\n"
          ]
        },
        {
          "metadata": {
            "tags": null
          },
          "name": "stderr",
          "output_type": "stream",
          "text": [
            "/usr/local/lib/python3.10/dist-packages/urllib3/connectionpool.py:1099: InsecureRequestWarning: Unverified HTTPS request is being made to host 'www.chinanews.com'. Adding certificate verification is strongly advised. See: https://urllib3.readthedocs.io/en/latest/advanced-usage.html#tls-warnings\n",
            "  warnings.warn(\n"
          ]
        },
        {
          "metadata": {
            "tags": null
          },
          "name": "stdout",
          "output_type": "stream",
          "text": [
            "Downloaded and saved HTML: https://www.chinanews.com/gj/2024/10-28/10309175.shtml\n"
          ]
        },
        {
          "metadata": {
            "tags": null
          },
          "name": "stderr",
          "output_type": "stream",
          "text": [
            "/usr/local/lib/python3.10/dist-packages/urllib3/connectionpool.py:1099: InsecureRequestWarning: Unverified HTTPS request is being made to host 'www.chinanews.com'. Adding certificate verification is strongly advised. See: https://urllib3.readthedocs.io/en/latest/advanced-usage.html#tls-warnings\n",
            "  warnings.warn(\n"
          ]
        },
        {
          "metadata": {
            "tags": null
          },
          "name": "stdout",
          "output_type": "stream",
          "text": [
            "Downloaded and saved HTML: https://www.chinanews.com/business/\n"
          ]
        },
        {
          "metadata": {
            "tags": null
          },
          "name": "stderr",
          "output_type": "stream",
          "text": [
            "/usr/local/lib/python3.10/dist-packages/urllib3/connectionpool.py:1099: InsecureRequestWarning: Unverified HTTPS request is being made to host 'www.chinanews.com'. Adding certificate verification is strongly advised. See: https://urllib3.readthedocs.io/en/latest/advanced-usage.html#tls-warnings\n",
            "  warnings.warn(\n"
          ]
        },
        {
          "metadata": {
            "tags": null
          },
          "name": "stdout",
          "output_type": "stream",
          "text": [
            "Downloaded and saved HTML: https://www.chinanews.com/cj/2024/10-28/10309163.shtml\n"
          ]
        },
        {
          "metadata": {
            "tags": null
          },
          "name": "stderr",
          "output_type": "stream",
          "text": [
            "/usr/local/lib/python3.10/dist-packages/urllib3/connectionpool.py:1099: InsecureRequestWarning: Unverified HTTPS request is being made to host 'www.chinanews.com'. Adding certificate verification is strongly advised. See: https://urllib3.readthedocs.io/en/latest/advanced-usage.html#tls-warnings\n",
            "  warnings.warn(\n"
          ]
        },
        {
          "metadata": {
            "tags": null
          },
          "name": "stdout",
          "output_type": "stream",
          "text": [
            "Downloaded and saved HTML: https://www.chinanews.com/cj/2024/10-28/10309372.shtml\n"
          ]
        },
        {
          "metadata": {
            "tags": null
          },
          "name": "stderr",
          "output_type": "stream",
          "text": [
            "/usr/local/lib/python3.10/dist-packages/urllib3/connectionpool.py:1099: InsecureRequestWarning: Unverified HTTPS request is being made to host 'www.chinanews.com'. Adding certificate verification is strongly advised. See: https://urllib3.readthedocs.io/en/latest/advanced-usage.html#tls-warnings\n",
            "  warnings.warn(\n"
          ]
        },
        {
          "metadata": {
            "tags": null
          },
          "name": "stdout",
          "output_type": "stream",
          "text": [
            "Downloaded and saved HTML: https://www.chinanews.com/cj/2024/10-28/10309330.shtml\n"
          ]
        },
        {
          "metadata": {
            "tags": null
          },
          "name": "stderr",
          "output_type": "stream",
          "text": [
            "/usr/local/lib/python3.10/dist-packages/urllib3/connectionpool.py:1099: InsecureRequestWarning: Unverified HTTPS request is being made to host 'www.chinanews.com'. Adding certificate verification is strongly advised. See: https://urllib3.readthedocs.io/en/latest/advanced-usage.html#tls-warnings\n",
            "  warnings.warn(\n"
          ]
        },
        {
          "metadata": {
            "tags": null
          },
          "name": "stdout",
          "output_type": "stream",
          "text": [
            "Downloaded and saved HTML: https://www.chinanews.com/cj/2024/10-28/10309321.shtml\n"
          ]
        },
        {
          "metadata": {
            "tags": null
          },
          "name": "stderr",
          "output_type": "stream",
          "text": [
            "/usr/local/lib/python3.10/dist-packages/urllib3/connectionpool.py:1099: InsecureRequestWarning: Unverified HTTPS request is being made to host 'www.chinanews.com'. Adding certificate verification is strongly advised. See: https://urllib3.readthedocs.io/en/latest/advanced-usage.html#tls-warnings\n",
            "  warnings.warn(\n"
          ]
        },
        {
          "metadata": {
            "tags": null
          },
          "name": "stdout",
          "output_type": "stream",
          "text": [
            "Downloaded and saved HTML: https://www.chinanews.com/cj/2024/10-28/10309291.shtml\n"
          ]
        },
        {
          "metadata": {
            "tags": null
          },
          "name": "stderr",
          "output_type": "stream",
          "text": [
            "/usr/local/lib/python3.10/dist-packages/urllib3/connectionpool.py:1099: InsecureRequestWarning: Unverified HTTPS request is being made to host 'www.chinanews.com'. Adding certificate verification is strongly advised. See: https://urllib3.readthedocs.io/en/latest/advanced-usage.html#tls-warnings\n",
            "  warnings.warn(\n"
          ]
        },
        {
          "metadata": {
            "tags": null
          },
          "name": "stdout",
          "output_type": "stream",
          "text": [
            "Downloaded and saved HTML: https://www.chinanews.com/iframe/2024/10-28/10309178.shtml\n"
          ]
        },
        {
          "metadata": {
            "tags": null
          },
          "name": "stderr",
          "output_type": "stream",
          "text": [
            "/usr/local/lib/python3.10/dist-packages/urllib3/connectionpool.py:1099: InsecureRequestWarning: Unverified HTTPS request is being made to host 'www.chinanews.com.cn'. Adding certificate verification is strongly advised. See: https://urllib3.readthedocs.io/en/latest/advanced-usage.html#tls-warnings\n",
            "  warnings.warn(\n"
          ]
        },
        {
          "metadata": {
            "tags": null
          },
          "name": "stdout",
          "output_type": "stream",
          "text": [
            "Downloaded and saved HTML: https://www.chinanews.com.cn/cul/2024/10-28/10309176.shtml\n"
          ]
        },
        {
          "metadata": {
            "tags": null
          },
          "name": "stderr",
          "output_type": "stream",
          "text": [
            "/usr/local/lib/python3.10/dist-packages/urllib3/connectionpool.py:1099: InsecureRequestWarning: Unverified HTTPS request is being made to host 'www.chinanews.com'. Adding certificate verification is strongly advised. See: https://urllib3.readthedocs.io/en/latest/advanced-usage.html#tls-warnings\n",
            "  warnings.warn(\n"
          ]
        },
        {
          "metadata": {
            "tags": null
          },
          "name": "stdout",
          "output_type": "stream",
          "text": [
            "Downloaded and saved HTML: https://www.chinanews.com/cj/2024/10-28/10309148.shtml\n"
          ]
        },
        {
          "metadata": {
            "tags": null
          },
          "name": "stderr",
          "output_type": "stream",
          "text": [
            "/usr/local/lib/python3.10/dist-packages/urllib3/connectionpool.py:1099: InsecureRequestWarning: Unverified HTTPS request is being made to host 'www.chinanews.com'. Adding certificate verification is strongly advised. See: https://urllib3.readthedocs.io/en/latest/advanced-usage.html#tls-warnings\n",
            "  warnings.warn(\n"
          ]
        },
        {
          "metadata": {
            "tags": null
          },
          "name": "stdout",
          "output_type": "stream",
          "text": [
            "Downloaded and saved HTML: https://www.chinanews.com/life/\n"
          ]
        },
        {
          "metadata": {
            "tags": null
          },
          "name": "stderr",
          "output_type": "stream",
          "text": [
            "/usr/local/lib/python3.10/dist-packages/urllib3/connectionpool.py:1099: InsecureRequestWarning: Unverified HTTPS request is being made to host 'www.chinanews.com'. Adding certificate verification is strongly advised. See: https://urllib3.readthedocs.io/en/latest/advanced-usage.html#tls-warnings\n",
            "  warnings.warn(\n"
          ]
        },
        {
          "metadata": {
            "tags": null
          },
          "name": "stdout",
          "output_type": "stream",
          "text": [
            "Downloaded and saved HTML: https://www.chinanews.com/iframe/2024/10-28/10309241.shtml\n"
          ]
        },
        {
          "metadata": {
            "tags": null
          },
          "name": "stderr",
          "output_type": "stream",
          "text": [
            "/usr/local/lib/python3.10/dist-packages/urllib3/connectionpool.py:1099: InsecureRequestWarning: Unverified HTTPS request is being made to host 'www.chinanews.com.cn'. Adding certificate verification is strongly advised. See: https://urllib3.readthedocs.io/en/latest/advanced-usage.html#tls-warnings\n",
            "  warnings.warn(\n"
          ]
        },
        {
          "metadata": {
            "tags": null
          },
          "name": "stdout",
          "output_type": "stream",
          "text": [
            "Downloaded and saved HTML: https://www.chinanews.com.cn/sh/2024/10-28/10309230.shtml\n"
          ]
        },
        {
          "metadata": {
            "tags": null
          },
          "name": "stderr",
          "output_type": "stream",
          "text": [
            "/usr/local/lib/python3.10/dist-packages/urllib3/connectionpool.py:1099: InsecureRequestWarning: Unverified HTTPS request is being made to host 'www.chinanews.com.cn'. Adding certificate verification is strongly advised. See: https://urllib3.readthedocs.io/en/latest/advanced-usage.html#tls-warnings\n",
            "  warnings.warn(\n"
          ]
        },
        {
          "metadata": {
            "tags": null
          },
          "name": "stdout",
          "output_type": "stream",
          "text": [
            "Downloaded and saved HTML: https://www.chinanews.com.cn/sh/2024/10-28/10309227.shtml\n"
          ]
        },
        {
          "metadata": {
            "tags": null
          },
          "name": "stderr",
          "output_type": "stream",
          "text": [
            "/usr/local/lib/python3.10/dist-packages/urllib3/connectionpool.py:1099: InsecureRequestWarning: Unverified HTTPS request is being made to host 'www.chinanews.com'. Adding certificate verification is strongly advised. See: https://urllib3.readthedocs.io/en/latest/advanced-usage.html#tls-warnings\n",
            "  warnings.warn(\n"
          ]
        },
        {
          "metadata": {
            "tags": null
          },
          "name": "stdout",
          "output_type": "stream",
          "text": [
            "Downloaded and saved HTML: https://www.chinanews.com/dxw/2024/10-28/10309606.shtml\n"
          ]
        },
        {
          "metadata": {
            "tags": null
          },
          "name": "stderr",
          "output_type": "stream",
          "text": [
            "/usr/local/lib/python3.10/dist-packages/urllib3/connectionpool.py:1099: InsecureRequestWarning: Unverified HTTPS request is being made to host 'www.chinanews.com'. Adding certificate verification is strongly advised. See: https://urllib3.readthedocs.io/en/latest/advanced-usage.html#tls-warnings\n",
            "  warnings.warn(\n"
          ]
        },
        {
          "metadata": {
            "tags": null
          },
          "name": "stdout",
          "output_type": "stream",
          "text": [
            "Downloaded and saved HTML: https://www.chinanews.com/sh/2024/10-28/10309445.shtml\n"
          ]
        },
        {
          "metadata": {
            "tags": null
          },
          "name": "stderr",
          "output_type": "stream",
          "text": [
            "/usr/local/lib/python3.10/dist-packages/urllib3/connectionpool.py:1099: InsecureRequestWarning: Unverified HTTPS request is being made to host 'www.chinanews.com'. Adding certificate verification is strongly advised. See: https://urllib3.readthedocs.io/en/latest/advanced-usage.html#tls-warnings\n",
            "  warnings.warn(\n"
          ]
        },
        {
          "metadata": {
            "tags": null
          },
          "name": "stdout",
          "output_type": "stream",
          "text": [
            "Downloaded and saved HTML: https://www.chinanews.com/iframe/2024/10-28/10309364.shtml\n"
          ]
        },
        {
          "metadata": {
            "tags": null
          },
          "name": "stderr",
          "output_type": "stream",
          "text": [
            "/usr/local/lib/python3.10/dist-packages/urllib3/connectionpool.py:1099: InsecureRequestWarning: Unverified HTTPS request is being made to host 'www.chinanews.com.cn'. Adding certificate verification is strongly advised. See: https://urllib3.readthedocs.io/en/latest/advanced-usage.html#tls-warnings\n",
            "  warnings.warn(\n"
          ]
        },
        {
          "metadata": {
            "tags": null
          },
          "name": "stdout",
          "output_type": "stream",
          "text": [
            "An error occurred while downloading https://www.chinanews.com.cn/shipin/cns/2024/10-28/news1003502.shtml: 'charmap' codec can't decode byte 0x8d in position 321: character maps to <undefined>\n"
          ]
        },
        {
          "metadata": {
            "tags": null
          },
          "name": "stderr",
          "output_type": "stream",
          "text": [
            "/usr/local/lib/python3.10/dist-packages/urllib3/connectionpool.py:1099: InsecureRequestWarning: Unverified HTTPS request is being made to host 'www.chinanews.com'. Adding certificate verification is strongly advised. See: https://urllib3.readthedocs.io/en/latest/advanced-usage.html#tls-warnings\n",
            "  warnings.warn(\n"
          ]
        },
        {
          "metadata": {
            "tags": null
          },
          "name": "stdout",
          "output_type": "stream",
          "text": [
            "Downloaded and saved HTML: https://www.chinanews.com/ty/2024/10-28/10309318.shtml\n"
          ]
        },
        {
          "metadata": {
            "tags": null
          },
          "name": "stderr",
          "output_type": "stream",
          "text": [
            "/usr/local/lib/python3.10/dist-packages/urllib3/connectionpool.py:1099: InsecureRequestWarning: Unverified HTTPS request is being made to host 'www.chinanews.com'. Adding certificate verification is strongly advised. See: https://urllib3.readthedocs.io/en/latest/advanced-usage.html#tls-warnings\n",
            "  warnings.warn(\n"
          ]
        },
        {
          "metadata": {
            "tags": null
          },
          "name": "stdout",
          "output_type": "stream",
          "text": [
            "Downloaded and saved HTML: https://www.chinanews.com/sh/2024/10-28/10309317.shtml\n"
          ]
        },
        {
          "metadata": {
            "tags": null
          },
          "name": "stderr",
          "output_type": "stream",
          "text": [
            "/usr/local/lib/python3.10/dist-packages/urllib3/connectionpool.py:1099: InsecureRequestWarning: Unverified HTTPS request is being made to host 'www.chinanews.com'. Adding certificate verification is strongly advised. See: https://urllib3.readthedocs.io/en/latest/advanced-usage.html#tls-warnings\n",
            "  warnings.warn(\n"
          ]
        },
        {
          "metadata": {
            "tags": null
          },
          "name": "stdout",
          "output_type": "stream",
          "text": [
            "Downloaded and saved HTML: https://www.chinanews.com/gn/2024/10-28/10309259.shtml\n"
          ]
        },
        {
          "metadata": {
            "tags": null
          },
          "name": "stderr",
          "output_type": "stream",
          "text": [
            "/usr/local/lib/python3.10/dist-packages/urllib3/connectionpool.py:1099: InsecureRequestWarning: Unverified HTTPS request is being made to host 'www.neac.gov.cn'. Adding certificate verification is strongly advised. See: https://urllib3.readthedocs.io/en/latest/advanced-usage.html#tls-warnings\n",
            "  warnings.warn(\n"
          ]
        },
        {
          "metadata": {
            "tags": null
          },
          "name": "stdout",
          "output_type": "stream",
          "text": [
            "Failed to download https://www.neac.gov.cn/seac/c103611/wenwugujizhan.shtml\n"
          ]
        },
        {
          "metadata": {
            "tags": null
          },
          "name": "stderr",
          "output_type": "stream",
          "text": [
            "/usr/local/lib/python3.10/dist-packages/urllib3/connectionpool.py:1099: InsecureRequestWarning: Unverified HTTPS request is being made to host 'www.chinanews.com.cn'. Adding certificate verification is strongly advised. See: https://urllib3.readthedocs.io/en/latest/advanced-usage.html#tls-warnings\n",
            "  warnings.warn(\n"
          ]
        },
        {
          "metadata": {
            "tags": null
          },
          "name": "stdout",
          "output_type": "stream",
          "text": [
            "Downloaded and saved HTML: https://www.chinanews.com.cn/gn/2024/10-28/10309259.shtml\n"
          ]
        },
        {
          "metadata": {
            "tags": null
          },
          "name": "stderr",
          "output_type": "stream",
          "text": [
            "/usr/local/lib/python3.10/dist-packages/urllib3/connectionpool.py:1099: InsecureRequestWarning: Unverified HTTPS request is being made to host 'www.chinanews.com.cn'. Adding certificate verification is strongly advised. See: https://urllib3.readthedocs.io/en/latest/advanced-usage.html#tls-warnings\n",
            "  warnings.warn(\n"
          ]
        },
        {
          "metadata": {
            "tags": null
          },
          "name": "stdout",
          "output_type": "stream",
          "text": [
            "Downloaded and saved HTML: https://www.chinanews.com.cn/gn/2024/10-28/10309138.shtml\n"
          ]
        },
        {
          "metadata": {
            "tags": null
          },
          "name": "stderr",
          "output_type": "stream",
          "text": [
            "/usr/local/lib/python3.10/dist-packages/urllib3/connectionpool.py:1099: InsecureRequestWarning: Unverified HTTPS request is being made to host 'www.chinanews.com.cn'. Adding certificate verification is strongly advised. See: https://urllib3.readthedocs.io/en/latest/advanced-usage.html#tls-warnings\n",
            "  warnings.warn(\n"
          ]
        },
        {
          "metadata": {
            "tags": null
          },
          "name": "stdout",
          "output_type": "stream",
          "text": [
            "Downloaded and saved HTML: https://www.chinanews.com.cn/gj/2024/10-28/10309066.shtml\n"
          ]
        },
        {
          "metadata": {
            "tags": null
          },
          "name": "stderr",
          "output_type": "stream",
          "text": [
            "/usr/local/lib/python3.10/dist-packages/urllib3/connectionpool.py:1099: InsecureRequestWarning: Unverified HTTPS request is being made to host 'www.chinanews.com.cn'. Adding certificate verification is strongly advised. See: https://urllib3.readthedocs.io/en/latest/advanced-usage.html#tls-warnings\n",
            "  warnings.warn(\n"
          ]
        },
        {
          "metadata": {
            "tags": null
          },
          "name": "stdout",
          "output_type": "stream",
          "text": [
            "Downloaded and saved HTML: https://www.chinanews.com.cn/cj/2024/10-28/10309163.shtml\n"
          ]
        },
        {
          "metadata": {
            "tags": null
          },
          "name": "stderr",
          "output_type": "stream",
          "text": [
            "/usr/local/lib/python3.10/dist-packages/urllib3/connectionpool.py:1099: InsecureRequestWarning: Unverified HTTPS request is being made to host 'www.chinanews.com.cn'. Adding certificate verification is strongly advised. See: https://urllib3.readthedocs.io/en/latest/advanced-usage.html#tls-warnings\n",
            "  warnings.warn(\n"
          ]
        },
        {
          "metadata": {
            "tags": null
          },
          "name": "stdout",
          "output_type": "stream",
          "text": [
            "Downloaded and saved HTML: https://www.chinanews.com.cn/gn/2024/10-28/10309116.shtml\n"
          ]
        },
        {
          "metadata": {
            "tags": null
          },
          "name": "stderr",
          "output_type": "stream",
          "text": [
            "/usr/local/lib/python3.10/dist-packages/urllib3/connectionpool.py:1099: InsecureRequestWarning: Unverified HTTPS request is being made to host 'www.chinanews.com.cn'. Adding certificate verification is strongly advised. See: https://urllib3.readthedocs.io/en/latest/advanced-usage.html#tls-warnings\n",
            "  warnings.warn(\n"
          ]
        },
        {
          "metadata": {
            "tags": null
          },
          "name": "stdout",
          "output_type": "stream",
          "text": [
            "Downloaded and saved HTML: https://www.chinanews.com.cn/cj/2024/10-28/10309125.shtml\n"
          ]
        },
        {
          "metadata": {
            "tags": null
          },
          "name": "stderr",
          "output_type": "stream",
          "text": [
            "/usr/local/lib/python3.10/dist-packages/urllib3/connectionpool.py:1099: InsecureRequestWarning: Unverified HTTPS request is being made to host 'www.chinanews.com.cn'. Adding certificate verification is strongly advised. See: https://urllib3.readthedocs.io/en/latest/advanced-usage.html#tls-warnings\n",
            "  warnings.warn(\n"
          ]
        },
        {
          "metadata": {
            "tags": null
          },
          "name": "stdout",
          "output_type": "stream",
          "text": [
            "Downloaded and saved HTML: https://www.chinanews.com.cn/gj/2024/10-28/10309046.shtml\n"
          ]
        },
        {
          "metadata": {
            "tags": null
          },
          "name": "stderr",
          "output_type": "stream",
          "text": [
            "/usr/local/lib/python3.10/dist-packages/urllib3/connectionpool.py:1099: InsecureRequestWarning: Unverified HTTPS request is being made to host 'www.chinanews.com.cn'. Adding certificate verification is strongly advised. See: https://urllib3.readthedocs.io/en/latest/advanced-usage.html#tls-warnings\n",
            "  warnings.warn(\n"
          ]
        },
        {
          "metadata": {
            "tags": null
          },
          "name": "stdout",
          "output_type": "stream",
          "text": [
            "Downloaded and saved HTML: https://www.chinanews.com.cn/ty/2024/10-28/10309146.shtml\n"
          ]
        },
        {
          "metadata": {
            "tags": null
          },
          "name": "stderr",
          "output_type": "stream",
          "text": [
            "/usr/local/lib/python3.10/dist-packages/urllib3/connectionpool.py:1099: InsecureRequestWarning: Unverified HTTPS request is being made to host 'www.chinanews.com.cn'. Adding certificate verification is strongly advised. See: https://urllib3.readthedocs.io/en/latest/advanced-usage.html#tls-warnings\n",
            "  warnings.warn(\n"
          ]
        },
        {
          "metadata": {
            "tags": null
          },
          "name": "stdout",
          "output_type": "stream",
          "text": [
            "Downloaded and saved HTML: https://www.chinanews.com.cn/gn/2024/10-28/10309111.shtml\n"
          ]
        },
        {
          "metadata": {
            "tags": null
          },
          "name": "stderr",
          "output_type": "stream",
          "text": [
            "/usr/local/lib/python3.10/dist-packages/urllib3/connectionpool.py:1099: InsecureRequestWarning: Unverified HTTPS request is being made to host 'www.chinanews.com.cn'. Adding certificate verification is strongly advised. See: https://urllib3.readthedocs.io/en/latest/advanced-usage.html#tls-warnings\n",
            "  warnings.warn(\n"
          ]
        },
        {
          "metadata": {
            "tags": null
          },
          "name": "stdout",
          "output_type": "stream",
          "text": [
            "Downloaded and saved HTML: https://www.chinanews.com.cn/gn/2024/10-28/10309150.shtml\n"
          ]
        },
        {
          "metadata": {
            "tags": null
          },
          "name": "stderr",
          "output_type": "stream",
          "text": [
            "/usr/local/lib/python3.10/dist-packages/urllib3/connectionpool.py:1099: InsecureRequestWarning: Unverified HTTPS request is being made to host 'www.chinanews.com'. Adding certificate verification is strongly advised. See: https://urllib3.readthedocs.io/en/latest/advanced-usage.html#tls-warnings\n",
            "  warnings.warn(\n"
          ]
        },
        {
          "metadata": {
            "tags": null
          },
          "name": "stdout",
          "output_type": "stream",
          "text": [
            "Downloaded and saved HTML: https://www.chinanews.com/cj/z/kgqy/index.shtml\n"
          ]
        },
        {
          "metadata": {
            "tags": null
          },
          "name": "stderr",
          "output_type": "stream",
          "text": [
            "/usr/local/lib/python3.10/dist-packages/urllib3/connectionpool.py:1099: InsecureRequestWarning: Unverified HTTPS request is being made to host 'www.chinanews.com.cn'. Adding certificate verification is strongly advised. See: https://urllib3.readthedocs.io/en/latest/advanced-usage.html#tls-warnings\n",
            "  warnings.warn(\n"
          ]
        },
        {
          "metadata": {
            "tags": null
          },
          "name": "stdout",
          "output_type": "stream",
          "text": [
            "Downloaded and saved HTML: https://www.chinanews.com.cn/tp/hd2011/2024/10-28/1127542.shtml\n"
          ]
        },
        {
          "metadata": {
            "tags": null
          },
          "name": "stderr",
          "output_type": "stream",
          "text": [
            "/usr/local/lib/python3.10/dist-packages/urllib3/connectionpool.py:1099: InsecureRequestWarning: Unverified HTTPS request is being made to host 'www.chinanews.com.cn'. Adding certificate verification is strongly advised. See: https://urllib3.readthedocs.io/en/latest/advanced-usage.html#tls-warnings\n",
            "  warnings.warn(\n"
          ]
        },
        {
          "metadata": {
            "tags": null
          },
          "name": "stdout",
          "output_type": "stream",
          "text": [
            "Downloaded and saved HTML: https://www.chinanews.com.cn/tp/hd2011/2024/10-28/1127567.shtml\n"
          ]
        },
        {
          "metadata": {
            "tags": null
          },
          "name": "stderr",
          "output_type": "stream",
          "text": [
            "/usr/local/lib/python3.10/dist-packages/urllib3/connectionpool.py:1099: InsecureRequestWarning: Unverified HTTPS request is being made to host 'www.chinanews.com.cn'. Adding certificate verification is strongly advised. See: https://urllib3.readthedocs.io/en/latest/advanced-usage.html#tls-warnings\n",
            "  warnings.warn(\n"
          ]
        },
        {
          "metadata": {
            "tags": null
          },
          "name": "stdout",
          "output_type": "stream",
          "text": [
            "Downloaded and saved HTML: https://www.chinanews.com.cn/tp/hd2011/2024/10-28/1127550.shtml\n"
          ]
        },
        {
          "metadata": {
            "tags": null
          },
          "name": "stderr",
          "output_type": "stream",
          "text": [
            "/usr/local/lib/python3.10/dist-packages/urllib3/connectionpool.py:1099: InsecureRequestWarning: Unverified HTTPS request is being made to host 'www.chinanews.com.cn'. Adding certificate verification is strongly advised. See: https://urllib3.readthedocs.io/en/latest/advanced-usage.html#tls-warnings\n",
            "  warnings.warn(\n"
          ]
        },
        {
          "metadata": {
            "tags": null
          },
          "name": "stdout",
          "output_type": "stream",
          "text": [
            "Downloaded and saved HTML: https://www.chinanews.com.cn/tp/hd2011/2024/10-28/1127590.shtml\n"
          ]
        },
        {
          "metadata": {
            "tags": null
          },
          "name": "stderr",
          "output_type": "stream",
          "text": [
            "/usr/local/lib/python3.10/dist-packages/urllib3/connectionpool.py:1099: InsecureRequestWarning: Unverified HTTPS request is being made to host 'www.chinanews.com.cn'. Adding certificate verification is strongly advised. See: https://urllib3.readthedocs.io/en/latest/advanced-usage.html#tls-warnings\n",
            "  warnings.warn(\n"
          ]
        },
        {
          "metadata": {
            "tags": null
          },
          "name": "stdout",
          "output_type": "stream",
          "text": [
            "Downloaded and saved HTML: https://www.chinanews.com.cn/tp/hd2011/2024/10-28/1127554.shtml\n"
          ]
        },
        {
          "metadata": {
            "tags": null
          },
          "name": "stderr",
          "output_type": "stream",
          "text": [
            "/usr/local/lib/python3.10/dist-packages/urllib3/connectionpool.py:1099: InsecureRequestWarning: Unverified HTTPS request is being made to host 'www.chinanews.com.cn'. Adding certificate verification is strongly advised. See: https://urllib3.readthedocs.io/en/latest/advanced-usage.html#tls-warnings\n",
            "  warnings.warn(\n"
          ]
        },
        {
          "metadata": {
            "tags": null
          },
          "name": "stdout",
          "output_type": "stream",
          "text": [
            "Downloaded and saved HTML: https://www.chinanews.com.cn/tp/hd2011/2024/10-28/1127546.shtml\n"
          ]
        },
        {
          "metadata": {
            "tags": null
          },
          "name": "stderr",
          "output_type": "stream",
          "text": [
            "/usr/local/lib/python3.10/dist-packages/urllib3/connectionpool.py:1099: InsecureRequestWarning: Unverified HTTPS request is being made to host 'www.chinanews.com.cn'. Adding certificate verification is strongly advised. See: https://urllib3.readthedocs.io/en/latest/advanced-usage.html#tls-warnings\n",
            "  warnings.warn(\n"
          ]
        },
        {
          "metadata": {
            "tags": null
          },
          "name": "stdout",
          "output_type": "stream",
          "text": [
            "Downloaded and saved HTML: https://www.chinanews.com.cn/tp/hd2011/2024/10-28/1127621.shtml\n"
          ]
        },
        {
          "metadata": {
            "tags": null
          },
          "name": "stderr",
          "output_type": "stream",
          "text": [
            "/usr/local/lib/python3.10/dist-packages/urllib3/connectionpool.py:1099: InsecureRequestWarning: Unverified HTTPS request is being made to host 'www.chinanews.com.cn'. Adding certificate verification is strongly advised. See: https://urllib3.readthedocs.io/en/latest/advanced-usage.html#tls-warnings\n",
            "  warnings.warn(\n"
          ]
        },
        {
          "metadata": {
            "tags": null
          },
          "name": "stdout",
          "output_type": "stream",
          "text": [
            "Downloaded and saved HTML: https://www.chinanews.com.cn/tp/hd2011/2024/10-28/1127614.shtml\n"
          ]
        },
        {
          "metadata": {
            "tags": null
          },
          "name": "stderr",
          "output_type": "stream",
          "text": [
            "/usr/local/lib/python3.10/dist-packages/urllib3/connectionpool.py:1099: InsecureRequestWarning: Unverified HTTPS request is being made to host 'www.chinanews.com.cn'. Adding certificate verification is strongly advised. See: https://urllib3.readthedocs.io/en/latest/advanced-usage.html#tls-warnings\n",
            "  warnings.warn(\n"
          ]
        },
        {
          "metadata": {
            "tags": null
          },
          "name": "stdout",
          "output_type": "stream",
          "text": [
            "Downloaded and saved HTML: https://www.chinanews.com.cn/tp/hd2011/2024/10-28/1127659.shtml\n"
          ]
        },
        {
          "metadata": {
            "tags": null
          },
          "name": "stderr",
          "output_type": "stream",
          "text": [
            "/usr/local/lib/python3.10/dist-packages/urllib3/connectionpool.py:1099: InsecureRequestWarning: Unverified HTTPS request is being made to host 'www.chinanews.com.cn'. Adding certificate verification is strongly advised. See: https://urllib3.readthedocs.io/en/latest/advanced-usage.html#tls-warnings\n",
            "  warnings.warn(\n"
          ]
        },
        {
          "metadata": {
            "tags": null
          },
          "name": "stdout",
          "output_type": "stream",
          "text": [
            "Downloaded and saved HTML: https://www.chinanews.com.cn/tp/hd2011/2024/10-28/1127644.shtml\n"
          ]
        },
        {
          "metadata": {
            "tags": null
          },
          "name": "stderr",
          "output_type": "stream",
          "text": [
            "/usr/local/lib/python3.10/dist-packages/urllib3/connectionpool.py:1099: InsecureRequestWarning: Unverified HTTPS request is being made to host 'www.chinanews.com'. Adding certificate verification is strongly advised. See: https://urllib3.readthedocs.io/en/latest/advanced-usage.html#tls-warnings\n",
            "  warnings.warn(\n"
          ]
        },
        {
          "metadata": {
            "tags": null
          },
          "name": "stdout",
          "output_type": "stream",
          "text": [
            "Downloaded and saved HTML: https://www.chinanews.com/live.shtml\n"
          ]
        },
        {
          "metadata": {
            "tags": null
          },
          "name": "stderr",
          "output_type": "stream",
          "text": [
            "/usr/local/lib/python3.10/dist-packages/urllib3/connectionpool.py:1099: InsecureRequestWarning: Unverified HTTPS request is being made to host 'www.chinanews.com.cn'. Adding certificate verification is strongly advised. See: https://urllib3.readthedocs.io/en/latest/advanced-usage.html#tls-warnings\n",
            "  warnings.warn(\n"
          ]
        },
        {
          "metadata": {
            "tags": null
          },
          "name": "stdout",
          "output_type": "stream",
          "text": [
            "Downloaded and saved HTML: https://www.chinanews.com.cn/gn/shipin/cns/2024/10-28/news1003477.shtml\n"
          ]
        },
        {
          "metadata": {
            "tags": null
          },
          "name": "stderr",
          "output_type": "stream",
          "text": [
            "/usr/local/lib/python3.10/dist-packages/urllib3/connectionpool.py:1099: InsecureRequestWarning: Unverified HTTPS request is being made to host 'www.chinanews.com.cn'. Adding certificate verification is strongly advised. See: https://urllib3.readthedocs.io/en/latest/advanced-usage.html#tls-warnings\n",
            "  warnings.warn(\n"
          ]
        },
        {
          "metadata": {
            "tags": null
          },
          "name": "stdout",
          "output_type": "stream",
          "text": [
            "Downloaded and saved HTML: https://www.chinanews.com.cn/sh/shipin/cns-d/2024/10-28/news1003478.shtml\n"
          ]
        },
        {
          "metadata": {
            "tags": null
          },
          "name": "stderr",
          "output_type": "stream",
          "text": [
            "/usr/local/lib/python3.10/dist-packages/urllib3/connectionpool.py:1099: InsecureRequestWarning: Unverified HTTPS request is being made to host 'www.chinanews.com.cn'. Adding certificate verification is strongly advised. See: https://urllib3.readthedocs.io/en/latest/advanced-usage.html#tls-warnings\n",
            "  warnings.warn(\n"
          ]
        },
        {
          "metadata": {
            "tags": null
          },
          "name": "stdout",
          "output_type": "stream",
          "text": [
            "Downloaded and saved HTML: https://www.chinanews.com.cn/sh/shipin/cns/2024/10-28/news1003485.shtml\n"
          ]
        },
        {
          "metadata": {
            "tags": null
          },
          "name": "stderr",
          "output_type": "stream",
          "text": [
            "/usr/local/lib/python3.10/dist-packages/urllib3/connectionpool.py:1099: InsecureRequestWarning: Unverified HTTPS request is being made to host 'www.chinanews.com.cn'. Adding certificate verification is strongly advised. See: https://urllib3.readthedocs.io/en/latest/advanced-usage.html#tls-warnings\n",
            "  warnings.warn(\n"
          ]
        },
        {
          "metadata": {
            "tags": null
          },
          "name": "stdout",
          "output_type": "stream",
          "text": [
            "Downloaded and saved HTML: https://www.chinanews.com.cn/gj/shipin/cns/2024/10-28/news1003484.shtml\n"
          ]
        },
        {
          "metadata": {
            "tags": null
          },
          "name": "stderr",
          "output_type": "stream",
          "text": [
            "/usr/local/lib/python3.10/dist-packages/urllib3/connectionpool.py:1099: InsecureRequestWarning: Unverified HTTPS request is being made to host 'www.chinanews.com.cn'. Adding certificate verification is strongly advised. See: https://urllib3.readthedocs.io/en/latest/advanced-usage.html#tls-warnings\n",
            "  warnings.warn(\n"
          ]
        },
        {
          "metadata": {
            "tags": null
          },
          "name": "stdout",
          "output_type": "stream",
          "text": [
            "An error occurred while downloading https://www.chinanews.com.cn/sh/shipin/cns/2024/10-28/news1003494.shtml: 'charmap' codec can't decode byte 0x8d in position 321: character maps to <undefined>\n"
          ]
        },
        {
          "metadata": {
            "tags": null
          },
          "name": "stderr",
          "output_type": "stream",
          "text": [
            "/usr/local/lib/python3.10/dist-packages/urllib3/connectionpool.py:1099: InsecureRequestWarning: Unverified HTTPS request is being made to host 'www.chinanews.com.cn'. Adding certificate verification is strongly advised. See: https://urllib3.readthedocs.io/en/latest/advanced-usage.html#tls-warnings\n",
            "  warnings.warn(\n"
          ]
        },
        {
          "metadata": {
            "tags": null
          },
          "name": "stdout",
          "output_type": "stream",
          "text": [
            "An error occurred while downloading https://www.chinanews.com.cn/sh/shipin/cns-d/2024/10-28/news1003481.shtml: 'charmap' codec can't decode byte 0x8d in position 333: character maps to <undefined>\n"
          ]
        },
        {
          "metadata": {
            "tags": null
          },
          "name": "stderr",
          "output_type": "stream",
          "text": [
            "/usr/local/lib/python3.10/dist-packages/urllib3/connectionpool.py:1099: InsecureRequestWarning: Unverified HTTPS request is being made to host 'www.chinanews.com.cn'. Adding certificate verification is strongly advised. See: https://urllib3.readthedocs.io/en/latest/advanced-usage.html#tls-warnings\n",
            "  warnings.warn(\n"
          ]
        },
        {
          "metadata": {
            "tags": null
          },
          "name": "stdout",
          "output_type": "stream",
          "text": [
            "Downloaded and saved HTML: https://www.chinanews.com.cn/gj/shipin/cns/2024/10-28/news1003483.shtml\n"
          ]
        },
        {
          "metadata": {
            "tags": null
          },
          "name": "stderr",
          "output_type": "stream",
          "text": [
            "/usr/local/lib/python3.10/dist-packages/urllib3/connectionpool.py:1099: InsecureRequestWarning: Unverified HTTPS request is being made to host 'www.chinanews.com.cn'. Adding certificate verification is strongly advised. See: https://urllib3.readthedocs.io/en/latest/advanced-usage.html#tls-warnings\n",
            "  warnings.warn(\n"
          ]
        },
        {
          "metadata": {
            "tags": null
          },
          "name": "stdout",
          "output_type": "stream",
          "text": [
            "An error occurred while downloading https://www.chinanews.com.cn/shipin/cns-d/2024/10-28/news1003492.shtml: 'charmap' codec can't decode byte 0x8d in position 321: character maps to <undefined>\n"
          ]
        },
        {
          "metadata": {
            "tags": null
          },
          "name": "stderr",
          "output_type": "stream",
          "text": [
            "/usr/local/lib/python3.10/dist-packages/urllib3/connectionpool.py:1099: InsecureRequestWarning: Unverified HTTPS request is being made to host 'www.chinanews.com.cn'. Adding certificate verification is strongly advised. See: https://urllib3.readthedocs.io/en/latest/advanced-usage.html#tls-warnings\n",
            "  warnings.warn(\n"
          ]
        },
        {
          "metadata": {
            "tags": null
          },
          "name": "stdout",
          "output_type": "stream",
          "text": [
            "An error occurred while downloading https://www.chinanews.com.cn/sh/shipin/cns/2024/10-28/news1003495.shtml: 'charmap' codec can't decode byte 0x8d in position 321: character maps to <undefined>\n"
          ]
        },
        {
          "metadata": {
            "tags": null
          },
          "name": "stderr",
          "output_type": "stream",
          "text": [
            "/usr/local/lib/python3.10/dist-packages/urllib3/connectionpool.py:1099: InsecureRequestWarning: Unverified HTTPS request is being made to host 'www.chinanews.com.cn'. Adding certificate verification is strongly advised. See: https://urllib3.readthedocs.io/en/latest/advanced-usage.html#tls-warnings\n",
            "  warnings.warn(\n"
          ]
        },
        {
          "metadata": {
            "tags": null
          },
          "name": "stdout",
          "output_type": "stream",
          "text": [
            "An error occurred while downloading https://www.chinanews.com.cn/sh/shipin/cns-d/2024/10-28/news1003496.shtml: 'charmap' codec can't decode byte 0x8d in position 321: character maps to <undefined>\n"
          ]
        },
        {
          "metadata": {
            "tags": null
          },
          "name": "stderr",
          "output_type": "stream",
          "text": [
            "/usr/local/lib/python3.10/dist-packages/urllib3/connectionpool.py:1099: InsecureRequestWarning: Unverified HTTPS request is being made to host 'www.xuexi.cn'. Adding certificate verification is strongly advised. See: https://urllib3.readthedocs.io/en/latest/advanced-usage.html#tls-warnings\n",
            "  warnings.warn(\n"
          ]
        },
        {
          "metadata": {
            "tags": null
          },
          "name": "stdout",
          "output_type": "stream",
          "text": [
            "Downloaded and saved HTML: https://www.xuexi.cn/\n"
          ]
        },
        {
          "metadata": {
            "tags": null
          },
          "name": "stderr",
          "output_type": "stream",
          "text": [
            "/usr/local/lib/python3.10/dist-packages/urllib3/connectionpool.py:1099: InsecureRequestWarning: Unverified HTTPS request is being made to host 'www.12377.cn'. Adding certificate verification is strongly advised. See: https://urllib3.readthedocs.io/en/latest/advanced-usage.html#tls-warnings\n",
            "  warnings.warn(\n"
          ]
        },
        {
          "metadata": {
            "tags": null
          },
          "name": "stdout",
          "output_type": "stream",
          "text": [
            "Failed to download https://www.12377.cn/\n"
          ]
        },
        {
          "metadata": {
            "tags": null
          },
          "name": "stderr",
          "output_type": "stream",
          "text": [
            "/usr/local/lib/python3.10/dist-packages/urllib3/connectionpool.py:1099: InsecureRequestWarning: Unverified HTTPS request is being made to host 'www.piyao.org.cn'. Adding certificate verification is strongly advised. See: https://urllib3.readthedocs.io/en/latest/advanced-usage.html#tls-warnings\n",
            "  warnings.warn(\n"
          ]
        },
        {
          "metadata": {
            "tags": null
          },
          "name": "stdout",
          "output_type": "stream",
          "text": [
            "Downloaded and saved HTML: https://www.piyao.org.cn/yybgt/index.htm\n"
          ]
        },
        {
          "metadata": {
            "tags": null
          },
          "name": "stderr",
          "output_type": "stream",
          "text": [
            "/usr/local/lib/python3.10/dist-packages/urllib3/connectionpool.py:1099: InsecureRequestWarning: Unverified HTTPS request is being made to host 'www.chinanews.com'. Adding certificate verification is strongly advised. See: https://urllib3.readthedocs.io/en/latest/advanced-usage.html#tls-warnings\n",
            "  warnings.warn(\n"
          ]
        },
        {
          "metadata": {
            "tags": null
          },
          "name": "stdout",
          "output_type": "stream",
          "text": [
            "Downloaded and saved HTML: https://www.chinanews.com/allspecial/index.shtml\n"
          ]
        },
        {
          "metadata": {
            "tags": null
          },
          "name": "stderr",
          "output_type": "stream",
          "text": [
            "/usr/local/lib/python3.10/dist-packages/urllib3/connectionpool.py:1099: InsecureRequestWarning: Unverified HTTPS request is being made to host 'www.chinanews.com.cn'. Adding certificate verification is strongly advised. See: https://urllib3.readthedocs.io/en/latest/advanced-usage.html#tls-warnings\n",
            "  warnings.warn(\n"
          ]
        },
        {
          "metadata": {
            "tags": null
          },
          "name": "stdout",
          "output_type": "stream",
          "text": [
            "Downloaded and saved HTML: https://www.chinanews.com.cn/gn/z/ChinaView/index.shtml\n"
          ]
        },
        {
          "metadata": {
            "tags": null
          },
          "name": "stderr",
          "output_type": "stream",
          "text": [
            "/usr/local/lib/python3.10/dist-packages/urllib3/connectionpool.py:1099: InsecureRequestWarning: Unverified HTTPS request is being made to host 'www.chinanews.com.cn'. Adding certificate verification is strongly advised. See: https://urllib3.readthedocs.io/en/latest/advanced-usage.html#tls-warnings\n",
            "  warnings.warn(\n"
          ]
        },
        {
          "metadata": {
            "tags": null
          },
          "name": "stdout",
          "output_type": "stream",
          "text": [
            "Downloaded and saved HTML: https://www.chinanews.com.cn/gn/z/xiyandao/index.shtml\n"
          ]
        },
        {
          "metadata": {
            "tags": null
          },
          "name": "stderr",
          "output_type": "stream",
          "text": [
            "/usr/local/lib/python3.10/dist-packages/urllib3/connectionpool.py:1099: InsecureRequestWarning: Unverified HTTPS request is being made to host 'www.chinanews.com.cn'. Adding certificate verification is strongly advised. See: https://urllib3.readthedocs.io/en/latest/advanced-usage.html#tls-warnings\n",
            "  warnings.warn(\n"
          ]
        },
        {
          "metadata": {
            "tags": null
          },
          "name": "stdout",
          "output_type": "stream",
          "text": [
            "Downloaded and saved HTML: https://www.chinanews.com.cn/gn/z/esjszqh/index.shtml\n"
          ]
        },
        {
          "metadata": {
            "tags": null
          },
          "name": "stderr",
          "output_type": "stream",
          "text": [
            "/usr/local/lib/python3.10/dist-packages/urllib3/connectionpool.py:1099: InsecureRequestWarning: Unverified HTTPS request is being made to host 'www.chinanews.com.cn'. Adding certificate verification is strongly advised. See: https://urllib3.readthedocs.io/en/latest/advanced-usage.html#tls-warnings\n",
            "  warnings.warn(\n"
          ]
        },
        {
          "metadata": {
            "tags": null
          },
          "name": "stdout",
          "output_type": "stream",
          "text": [
            "Downloaded and saved HTML: https://www.chinanews.com.cn/gn/z/brics2024/index.shtml\n"
          ]
        },
        {
          "metadata": {
            "tags": null
          },
          "name": "stderr",
          "output_type": "stream",
          "text": [
            "/usr/local/lib/python3.10/dist-packages/urllib3/connectionpool.py:1099: InsecureRequestWarning: Unverified HTTPS request is being made to host 'www.chinanews.com.cn'. Adding certificate verification is strongly advised. See: https://urllib3.readthedocs.io/en/latest/advanced-usage.html#tls-warnings\n",
            "  warnings.warn(\n"
          ]
        },
        {
          "metadata": {
            "tags": null
          },
          "name": "stdout",
          "output_type": "stream",
          "text": [
            "Downloaded and saved HTML: https://www.chinanews.com.cn/gn/z/75zn/index.shtml\n"
          ]
        },
        {
          "metadata": {
            "tags": null
          },
          "name": "stderr",
          "output_type": "stream",
          "text": [
            "/usr/local/lib/python3.10/dist-packages/urllib3/connectionpool.py:1099: InsecureRequestWarning: Unverified HTTPS request is being made to host 'www.chinanews.com.cn'. Adding certificate verification is strongly advised. See: https://urllib3.readthedocs.io/en/latest/advanced-usage.html#tls-warnings\n",
            "  warnings.warn(\n",
            "/usr/local/lib/python3.10/dist-packages/urllib3/connectionpool.py:1099: InsecureRequestWarning: Unverified HTTPS request is being made to host 'www.chinanews.com.cn'. Adding certificate verification is strongly advised. See: https://urllib3.readthedocs.io/en/latest/advanced-usage.html#tls-warnings\n",
            "  warnings.warn(\n",
            "/usr/local/lib/python3.10/dist-packages/urllib3/connectionpool.py:1099: InsecureRequestWarning: Unverified HTTPS request is being made to host 'www.chinanews.com.cn'. Adding certificate verification is strongly advised. See: https://urllib3.readthedocs.io/en/latest/advanced-usage.html#tls-warnings\n",
            "  warnings.warn(\n",
            "/usr/local/lib/python3.10/dist-packages/urllib3/connectionpool.py:1099: InsecureRequestWarning: Unverified HTTPS request is being made to host 'www.chinanews.com.cn'. Adding certificate verification is strongly advised. See: https://urllib3.readthedocs.io/en/latest/advanced-usage.html#tls-warnings\n",
            "  warnings.warn(\n",
            "/usr/local/lib/python3.10/dist-packages/urllib3/connectionpool.py:1099: InsecureRequestWarning: Unverified HTTPS request is being made to host 'www.chinanews.com.cn'. Adding certificate verification is strongly advised. See: https://urllib3.readthedocs.io/en/latest/advanced-usage.html#tls-warnings\n",
            "  warnings.warn(\n",
            "/usr/local/lib/python3.10/dist-packages/urllib3/connectionpool.py:1099: InsecureRequestWarning: Unverified HTTPS request is being made to host 'www.chinanews.com.cn'. Adding certificate verification is strongly advised. See: https://urllib3.readthedocs.io/en/latest/advanced-usage.html#tls-warnings\n",
            "  warnings.warn(\n"
          ]
        },
        {
          "metadata": {
            "tags": null
          },
          "name": "stdout",
          "output_type": "stream",
          "text": [
            "An error occurred while downloading https://www.chinanews.com.cn/gn/z/jiaodian/index.shtml : HTTPSConnectionPool(host='www.chinanews.com.cn', port=443): Max retries exceeded with url: /gn/z/jiaodian/index.shtml%20 (Caused by ResponseError('too many 502 error responses'))\n"
          ]
        },
        {
          "metadata": {
            "tags": null
          },
          "name": "stderr",
          "output_type": "stream",
          "text": [
            "/usr/local/lib/python3.10/dist-packages/urllib3/connectionpool.py:1099: InsecureRequestWarning: Unverified HTTPS request is being made to host 'www.chinanews.com.cn'. Adding certificate verification is strongly advised. See: https://urllib3.readthedocs.io/en/latest/advanced-usage.html#tls-warnings\n",
            "  warnings.warn(\n"
          ]
        },
        {
          "metadata": {
            "tags": null
          },
          "name": "stdout",
          "output_type": "stream",
          "text": [
            "Downloaded and saved HTML: https://www.chinanews.com.cn/gn/z/focac/index.shtml\n"
          ]
        },
        {
          "metadata": {
            "tags": null
          },
          "name": "stderr",
          "output_type": "stream",
          "text": [
            "/usr/local/lib/python3.10/dist-packages/urllib3/connectionpool.py:1099: InsecureRequestWarning: Unverified HTTPS request is being made to host 'www.chinanews.com.cn'. Adding certificate verification is strongly advised. See: https://urllib3.readthedocs.io/en/latest/advanced-usage.html#tls-warnings\n",
            "  warnings.warn(\n"
          ]
        },
        {
          "metadata": {
            "tags": null
          },
          "name": "stdout",
          "output_type": "stream",
          "text": [
            "Downloaded and saved HTML: https://www.chinanews.com.cn/gn/z/2024wangluowenming/index.shtml\n"
          ]
        },
        {
          "metadata": {
            "tags": null
          },
          "name": "stderr",
          "output_type": "stream",
          "text": [
            "/usr/local/lib/python3.10/dist-packages/urllib3/connectionpool.py:1099: InsecureRequestWarning: Unverified HTTPS request is being made to host 'www.chinanews.com.cn'. Adding certificate verification is strongly advised. See: https://urllib3.readthedocs.io/en/latest/advanced-usage.html#tls-warnings\n",
            "  warnings.warn(\n"
          ]
        },
        {
          "metadata": {
            "tags": null
          },
          "name": "stdout",
          "output_type": "stream",
          "text": [
            "Downloaded and saved HTML: https://www.chinanews.com.cn/gn/z/sazgtxyw/index.shtml\n"
          ]
        },
        {
          "metadata": {
            "tags": null
          },
          "name": "stderr",
          "output_type": "stream",
          "text": [
            "/usr/local/lib/python3.10/dist-packages/urllib3/connectionpool.py:1099: InsecureRequestWarning: Unverified HTTPS request is being made to host 'www.chinanews.com.cn'. Adding certificate verification is strongly advised. See: https://urllib3.readthedocs.io/en/latest/advanced-usage.html#tls-warnings\n",
            "  warnings.warn(\n"
          ]
        },
        {
          "metadata": {
            "tags": null
          },
          "name": "stdout",
          "output_type": "stream",
          "text": [
            "Downloaded and saved HTML: https://www.chinanews.com.cn/gn/z/jsrh2024/index.shtml\n"
          ]
        },
        {
          "metadata": {
            "tags": null
          },
          "name": "stderr",
          "output_type": "stream",
          "text": [
            "/usr/local/lib/python3.10/dist-packages/urllib3/connectionpool.py:1099: InsecureRequestWarning: Unverified HTTPS request is being made to host 'www.chinanews.com.cn'. Adding certificate verification is strongly advised. See: https://urllib3.readthedocs.io/en/latest/advanced-usage.html#tls-warnings\n",
            "  warnings.warn(\n"
          ]
        },
        {
          "metadata": {
            "tags": null
          },
          "name": "stdout",
          "output_type": "stream",
          "text": [
            "Downloaded and saved HTML: https://www.chinanews.com.cn/gn/z/ForeignersinChina/index.shtml\n"
          ]
        },
        {
          "metadata": {
            "tags": null
          },
          "name": "stderr",
          "output_type": "stream",
          "text": [
            "/usr/local/lib/python3.10/dist-packages/urllib3/connectionpool.py:1099: InsecureRequestWarning: Unverified HTTPS request is being made to host 'www.chinanews.com.cn'. Adding certificate verification is strongly advised. See: https://urllib3.readthedocs.io/en/latest/advanced-usage.html#tls-warnings\n",
            "  warnings.warn(\n"
          ]
        },
        {
          "metadata": {
            "tags": null
          },
          "name": "stdout",
          "output_type": "stream",
          "text": [
            "Downloaded and saved HTML: https://www.chinanews.com.cn/gn/z/ForeignersinJilinChina/index.shtml\n"
          ]
        },
        {
          "metadata": {
            "tags": null
          },
          "name": "stderr",
          "output_type": "stream",
          "text": [
            "/usr/local/lib/python3.10/dist-packages/urllib3/connectionpool.py:1099: InsecureRequestWarning: Unverified HTTPS request is being made to host 'www.chinanews.com'. Adding certificate verification is strongly advised. See: https://urllib3.readthedocs.io/en/latest/advanced-usage.html#tls-warnings\n",
            "  warnings.warn(\n"
          ]
        },
        {
          "metadata": {
            "tags": null
          },
          "name": "stdout",
          "output_type": "stream",
          "text": [
            "Downloaded and saved HTML: https://www.chinanews.com/shipin/\n"
          ]
        },
        {
          "metadata": {
            "tags": null
          },
          "name": "stderr",
          "output_type": "stream",
          "text": [
            "/usr/local/lib/python3.10/dist-packages/urllib3/connectionpool.py:1099: InsecureRequestWarning: Unverified HTTPS request is being made to host 'www.chinanews.com'. Adding certificate verification is strongly advised. See: https://urllib3.readthedocs.io/en/latest/advanced-usage.html#tls-warnings\n",
            "  warnings.warn(\n"
          ]
        },
        {
          "metadata": {
            "tags": null
          },
          "name": "stdout",
          "output_type": "stream",
          "text": [
            "An error occurred while downloading https://www.chinanews.com/shipin/minidocu.shtml: decode() argument 'encoding' must be str, not None\n"
          ]
        },
        {
          "metadata": {
            "tags": null
          },
          "name": "stderr",
          "output_type": "stream",
          "text": [
            "/usr/local/lib/python3.10/dist-packages/urllib3/connectionpool.py:1099: InsecureRequestWarning: Unverified HTTPS request is being made to host 'www.chinanews.com'. Adding certificate verification is strongly advised. See: https://urllib3.readthedocs.io/en/latest/advanced-usage.html#tls-warnings\n",
            "  warnings.warn(\n"
          ]
        },
        {
          "metadata": {
            "tags": null
          },
          "name": "stdout",
          "output_type": "stream",
          "text": [
            "An error occurred while downloading https://www.chinanews.com/shipin/yqd.shtml: decode() argument 'encoding' must be str, not None\n"
          ]
        },
        {
          "metadata": {
            "tags": null
          },
          "name": "stderr",
          "output_type": "stream",
          "text": [
            "/usr/local/lib/python3.10/dist-packages/urllib3/connectionpool.py:1099: InsecureRequestWarning: Unverified HTTPS request is being made to host 'www.chinanews.com'. Adding certificate verification is strongly advised. See: https://urllib3.readthedocs.io/en/latest/advanced-usage.html#tls-warnings\n",
            "  warnings.warn(\n"
          ]
        },
        {
          "metadata": {
            "tags": null
          },
          "name": "stdout",
          "output_type": "stream",
          "text": [
            "An error occurred while downloading https://www.chinanews.com/shipin/zsd.shtml: 'charmap' codec can't decode byte 0x8e in position 496: character maps to <undefined>\n",
            "Downloaded and saved HTML: https://www.chinanews.com/gn/z/lanmeiyinxiang/index.shtml\n"
          ]
        },
        {
          "metadata": {
            "tags": null
          },
          "name": "stderr",
          "output_type": "stream",
          "text": [
            "/usr/local/lib/python3.10/dist-packages/urllib3/connectionpool.py:1099: InsecureRequestWarning: Unverified HTTPS request is being made to host 'www.chinanews.com'. Adding certificate verification is strongly advised. See: https://urllib3.readthedocs.io/en/latest/advanced-usage.html#tls-warnings\n",
            "  warnings.warn(\n",
            "/usr/local/lib/python3.10/dist-packages/urllib3/connectionpool.py:1099: InsecureRequestWarning: Unverified HTTPS request is being made to host 'www.chinanews.com'. Adding certificate verification is strongly advised. See: https://urllib3.readthedocs.io/en/latest/advanced-usage.html#tls-warnings\n",
            "  warnings.warn(\n"
          ]
        },
        {
          "metadata": {
            "tags": null
          },
          "name": "stdout",
          "output_type": "stream",
          "text": [
            "An error occurred while downloading https://www.chinanews.com/shipin/AuthenticChina.shtml: 'charmap' codec can't decode byte 0x8e in position 264: character maps to <undefined>\n"
          ]
        },
        {
          "metadata": {
            "tags": null
          },
          "name": "stderr",
          "output_type": "stream",
          "text": [
            "/usr/local/lib/python3.10/dist-packages/urllib3/connectionpool.py:1099: InsecureRequestWarning: Unverified HTTPS request is being made to host 'www.chinanews.com'. Adding certificate verification is strongly advised. See: https://urllib3.readthedocs.io/en/latest/advanced-usage.html#tls-warnings\n",
            "  warnings.warn(\n"
          ]
        },
        {
          "metadata": {
            "tags": null
          },
          "name": "stdout",
          "output_type": "stream",
          "text": [
            "An error occurred while downloading https://www.chinanews.com/shipin/chinarevealed.shtml: 'charmap' codec can't decode byte 0x8e in position 264: character maps to <undefined>\n"
          ]
        },
        {
          "metadata": {
            "tags": null
          },
          "name": "stderr",
          "output_type": "stream",
          "text": [
            "/usr/local/lib/python3.10/dist-packages/urllib3/connectionpool.py:1099: InsecureRequestWarning: Unverified HTTPS request is being made to host 'www.chinanews.com'. Adding certificate verification is strongly advised. See: https://urllib3.readthedocs.io/en/latest/advanced-usage.html#tls-warnings\n",
            "  warnings.warn(\n"
          ]
        },
        {
          "metadata": {
            "tags": null
          },
          "name": "stdout",
          "output_type": "stream",
          "text": [
            "An error occurred while downloading https://www.chinanews.com/sh/shipin/cns-d/2024/10-28/news1003497.shtml: 'charmap' codec can't decode byte 0x8d in position 333: character maps to <undefined>\n"
          ]
        },
        {
          "metadata": {
            "tags": null
          },
          "name": "stderr",
          "output_type": "stream",
          "text": [
            "/usr/local/lib/python3.10/dist-packages/urllib3/connectionpool.py:1099: InsecureRequestWarning: Unverified HTTPS request is being made to host 'www.chinanews.com'. Adding certificate verification is strongly advised. See: https://urllib3.readthedocs.io/en/latest/advanced-usage.html#tls-warnings\n",
            "  warnings.warn(\n"
          ]
        },
        {
          "metadata": {
            "tags": null
          },
          "name": "stdout",
          "output_type": "stream",
          "text": [
            "An error occurred while downloading https://www.chinanews.com/sh/shipin/cns-d/2024/10-28/news1003496.shtml: 'charmap' codec can't decode byte 0x8d in position 321: character maps to <undefined>\n"
          ]
        },
        {
          "metadata": {
            "tags": null
          },
          "name": "stderr",
          "output_type": "stream",
          "text": [
            "/usr/local/lib/python3.10/dist-packages/urllib3/connectionpool.py:1099: InsecureRequestWarning: Unverified HTTPS request is being made to host 'www.chinanews.com'. Adding certificate verification is strongly advised. See: https://urllib3.readthedocs.io/en/latest/advanced-usage.html#tls-warnings\n",
            "  warnings.warn(\n"
          ]
        },
        {
          "metadata": {
            "tags": null
          },
          "name": "stdout",
          "output_type": "stream",
          "text": [
            "An error occurred while downloading https://www.chinanews.com/shipin/cns-d/2024/10-28/news1003492.shtml: 'charmap' codec can't decode byte 0x8d in position 321: character maps to <undefined>\n"
          ]
        },
        {
          "metadata": {
            "tags": null
          },
          "name": "stderr",
          "output_type": "stream",
          "text": [
            "/usr/local/lib/python3.10/dist-packages/urllib3/connectionpool.py:1099: InsecureRequestWarning: Unverified HTTPS request is being made to host 'www.chinanews.com'. Adding certificate verification is strongly advised. See: https://urllib3.readthedocs.io/en/latest/advanced-usage.html#tls-warnings\n",
            "  warnings.warn(\n"
          ]
        },
        {
          "metadata": {
            "tags": null
          },
          "name": "stdout",
          "output_type": "stream",
          "text": [
            "An error occurred while downloading https://www.chinanews.com/sh/shipin/cns-d/2024/10-28/news1003489.shtml: 'charmap' codec can't decode byte 0x8d in position 321: character maps to <undefined>\n"
          ]
        },
        {
          "metadata": {
            "tags": null
          },
          "name": "stderr",
          "output_type": "stream",
          "text": [
            "/usr/local/lib/python3.10/dist-packages/urllib3/connectionpool.py:1099: InsecureRequestWarning: Unverified HTTPS request is being made to host 'www.chinanews.com'. Adding certificate verification is strongly advised. See: https://urllib3.readthedocs.io/en/latest/advanced-usage.html#tls-warnings\n",
            "  warnings.warn(\n"
          ]
        },
        {
          "metadata": {
            "tags": null
          },
          "name": "stdout",
          "output_type": "stream",
          "text": [
            "Downloaded and saved HTML: https://www.chinanews.com/ty/shipin/cns/2024/10-27/news1003470.shtml\n"
          ]
        },
        {
          "metadata": {
            "tags": null
          },
          "name": "stderr",
          "output_type": "stream",
          "text": [
            "/usr/local/lib/python3.10/dist-packages/urllib3/connectionpool.py:1099: InsecureRequestWarning: Unverified HTTPS request is being made to host 'www.chinanews.com'. Adding certificate verification is strongly advised. See: https://urllib3.readthedocs.io/en/latest/advanced-usage.html#tls-warnings\n",
            "  warnings.warn(\n"
          ]
        },
        {
          "metadata": {
            "tags": null
          },
          "name": "stdout",
          "output_type": "stream",
          "text": [
            "An error occurred while downloading https://www.chinanews.com/sh/shipin/cns-d/2024/10-27/news1003452.shtml: 'charmap' codec can't decode byte 0x8d in position 321: character maps to <undefined>\n"
          ]
        },
        {
          "metadata": {
            "tags": null
          },
          "name": "stderr",
          "output_type": "stream",
          "text": [
            "/usr/local/lib/python3.10/dist-packages/urllib3/connectionpool.py:1099: InsecureRequestWarning: Unverified HTTPS request is being made to host 'www.chinanews.com'. Adding certificate verification is strongly advised. See: https://urllib3.readthedocs.io/en/latest/advanced-usage.html#tls-warnings\n",
            "  warnings.warn(\n"
          ]
        },
        {
          "metadata": {
            "tags": null
          },
          "name": "stdout",
          "output_type": "stream",
          "text": [
            "Downloaded and saved HTML: https://www.chinanews.com/ty/shipin/cns-d/2024/10-27/news1003413.shtml\n"
          ]
        },
        {
          "metadata": {
            "tags": null
          },
          "name": "stderr",
          "output_type": "stream",
          "text": [
            "/usr/local/lib/python3.10/dist-packages/urllib3/connectionpool.py:1099: InsecureRequestWarning: Unverified HTTPS request is being made to host 'www.chinanews.com'. Adding certificate verification is strongly advised. See: https://urllib3.readthedocs.io/en/latest/advanced-usage.html#tls-warnings\n",
            "  warnings.warn(\n"
          ]
        },
        {
          "metadata": {
            "tags": null
          },
          "name": "stdout",
          "output_type": "stream",
          "text": [
            "Downloaded and saved HTML: https://www.chinanews.com/photo/\n"
          ]
        },
        {
          "metadata": {
            "tags": null
          },
          "name": "stderr",
          "output_type": "stream",
          "text": [
            "/usr/local/lib/python3.10/dist-packages/urllib3/connectionpool.py:1099: InsecureRequestWarning: Unverified HTTPS request is being made to host 'www.chinanews.com.cn'. Adding certificate verification is strongly advised. See: https://urllib3.readthedocs.io/en/latest/advanced-usage.html#tls-warnings\n",
            "  warnings.warn(\n"
          ]
        },
        {
          "metadata": {
            "tags": null
          },
          "name": "stdout",
          "output_type": "stream",
          "text": [
            "Downloaded and saved HTML: https://www.chinanews.com.cn/tp/hd2011/2024/10-28/1127601.shtml\n"
          ]
        },
        {
          "metadata": {
            "tags": null
          },
          "name": "stderr",
          "output_type": "stream",
          "text": [
            "/usr/local/lib/python3.10/dist-packages/urllib3/connectionpool.py:1099: InsecureRequestWarning: Unverified HTTPS request is being made to host 'www.chinanews.com.cn'. Adding certificate verification is strongly advised. See: https://urllib3.readthedocs.io/en/latest/advanced-usage.html#tls-warnings\n",
            "  warnings.warn(\n"
          ]
        },
        {
          "metadata": {
            "tags": null
          },
          "name": "stdout",
          "output_type": "stream",
          "text": [
            "Downloaded and saved HTML: https://www.chinanews.com.cn/tp/hd2011/2024/10-28/1127601.shtml\n",
            "Downloaded and saved HTML: https://www.chinanews.com.cn/tp/hd2011/2024/10-28/1127601.shtml\n"
          ]
        },
        {
          "metadata": {
            "tags": null
          },
          "name": "stderr",
          "output_type": "stream",
          "text": [
            "/usr/local/lib/python3.10/dist-packages/urllib3/connectionpool.py:1099: InsecureRequestWarning: Unverified HTTPS request is being made to host 'www.chinanews.com.cn'. Adding certificate verification is strongly advised. See: https://urllib3.readthedocs.io/en/latest/advanced-usage.html#tls-warnings\n",
            "  warnings.warn(\n",
            "/usr/local/lib/python3.10/dist-packages/urllib3/connectionpool.py:1099: InsecureRequestWarning: Unverified HTTPS request is being made to host 'www.chinanews.com.cn'. Adding certificate verification is strongly advised. See: https://urllib3.readthedocs.io/en/latest/advanced-usage.html#tls-warnings\n",
            "  warnings.warn(\n"
          ]
        },
        {
          "metadata": {
            "tags": null
          },
          "name": "stdout",
          "output_type": "stream",
          "text": [
            "Downloaded and saved HTML: https://www.chinanews.com.cn/tp/2024/10-28/10309104.shtml\n"
          ]
        },
        {
          "metadata": {
            "tags": null
          },
          "name": "stderr",
          "output_type": "stream",
          "text": [
            "/usr/local/lib/python3.10/dist-packages/urllib3/connectionpool.py:1099: InsecureRequestWarning: Unverified HTTPS request is being made to host 'www.chinanews.com.cn'. Adding certificate verification is strongly advised. See: https://urllib3.readthedocs.io/en/latest/advanced-usage.html#tls-warnings\n",
            "  warnings.warn(\n"
          ]
        },
        {
          "metadata": {
            "tags": null
          },
          "name": "stdout",
          "output_type": "stream",
          "text": [
            "Downloaded and saved HTML: https://www.chinanews.com.cn/tp/2024/10-28/10309104.shtml\n"
          ]
        },
        {
          "metadata": {
            "tags": null
          },
          "name": "stderr",
          "output_type": "stream",
          "text": [
            "/usr/local/lib/python3.10/dist-packages/urllib3/connectionpool.py:1099: InsecureRequestWarning: Unverified HTTPS request is being made to host 'www.chinanews.com.cn'. Adding certificate verification is strongly advised. See: https://urllib3.readthedocs.io/en/latest/advanced-usage.html#tls-warnings\n",
            "  warnings.warn(\n"
          ]
        },
        {
          "metadata": {
            "tags": null
          },
          "name": "stdout",
          "output_type": "stream",
          "text": [
            "Downloaded and saved HTML: https://www.chinanews.com.cn/tp/2024/10-28/10309104.shtml\n"
          ]
        },
        {
          "metadata": {
            "tags": null
          },
          "name": "stderr",
          "output_type": "stream",
          "text": [
            "/usr/local/lib/python3.10/dist-packages/urllib3/connectionpool.py:1099: InsecureRequestWarning: Unverified HTTPS request is being made to host 'www.chinanews.com.cn'. Adding certificate verification is strongly advised. See: https://urllib3.readthedocs.io/en/latest/advanced-usage.html#tls-warnings\n",
            "  warnings.warn(\n"
          ]
        },
        {
          "metadata": {
            "tags": null
          },
          "name": "stdout",
          "output_type": "stream",
          "text": [
            "Downloaded and saved HTML: https://www.chinanews.com.cn/tp/hd2011/2024/10-28/1127590.shtml\n"
          ]
        },
        {
          "metadata": {
            "tags": null
          },
          "name": "stderr",
          "output_type": "stream",
          "text": [
            "/usr/local/lib/python3.10/dist-packages/urllib3/connectionpool.py:1099: InsecureRequestWarning: Unverified HTTPS request is being made to host 'www.chinanews.com.cn'. Adding certificate verification is strongly advised. See: https://urllib3.readthedocs.io/en/latest/advanced-usage.html#tls-warnings\n",
            "  warnings.warn(\n"
          ]
        },
        {
          "metadata": {
            "tags": null
          },
          "name": "stdout",
          "output_type": "stream",
          "text": [
            "Downloaded and saved HTML: https://www.chinanews.com.cn/tp/hd2011/2024/10-28/1127590.shtml\n"
          ]
        },
        {
          "metadata": {
            "tags": null
          },
          "name": "stderr",
          "output_type": "stream",
          "text": [
            "/usr/local/lib/python3.10/dist-packages/urllib3/connectionpool.py:1099: InsecureRequestWarning: Unverified HTTPS request is being made to host 'www.chinanews.com.cn'. Adding certificate verification is strongly advised. See: https://urllib3.readthedocs.io/en/latest/advanced-usage.html#tls-warnings\n",
            "  warnings.warn(\n"
          ]
        },
        {
          "metadata": {
            "tags": null
          },
          "name": "stdout",
          "output_type": "stream",
          "text": [
            "Downloaded and saved HTML: https://www.chinanews.com.cn/tp/hd2011/2024/10-28/1127590.shtml\n"
          ]
        },
        {
          "metadata": {
            "tags": null
          },
          "name": "stderr",
          "output_type": "stream",
          "text": [
            "/usr/local/lib/python3.10/dist-packages/urllib3/connectionpool.py:1099: InsecureRequestWarning: Unverified HTTPS request is being made to host 'www.chinanews.com.cn'. Adding certificate verification is strongly advised. See: https://urllib3.readthedocs.io/en/latest/advanced-usage.html#tls-warnings\n",
            "  warnings.warn(\n"
          ]
        },
        {
          "metadata": {
            "tags": null
          },
          "name": "stdout",
          "output_type": "stream",
          "text": [
            "Downloaded and saved HTML: https://www.chinanews.com.cn/tp/hd2011/2024/10-28/1127567.shtml\n"
          ]
        },
        {
          "metadata": {
            "tags": null
          },
          "name": "stderr",
          "output_type": "stream",
          "text": [
            "/usr/local/lib/python3.10/dist-packages/urllib3/connectionpool.py:1099: InsecureRequestWarning: Unverified HTTPS request is being made to host 'www.chinanews.com.cn'. Adding certificate verification is strongly advised. See: https://urllib3.readthedocs.io/en/latest/advanced-usage.html#tls-warnings\n",
            "  warnings.warn(\n"
          ]
        },
        {
          "metadata": {
            "tags": null
          },
          "name": "stdout",
          "output_type": "stream",
          "text": [
            "Downloaded and saved HTML: https://www.chinanews.com.cn/tp/hd2011/2024/10-28/1127567.shtml\n"
          ]
        },
        {
          "metadata": {
            "tags": null
          },
          "name": "stderr",
          "output_type": "stream",
          "text": [
            "/usr/local/lib/python3.10/dist-packages/urllib3/connectionpool.py:1099: InsecureRequestWarning: Unverified HTTPS request is being made to host 'www.chinanews.com.cn'. Adding certificate verification is strongly advised. See: https://urllib3.readthedocs.io/en/latest/advanced-usage.html#tls-warnings\n",
            "  warnings.warn(\n"
          ]
        },
        {
          "metadata": {
            "tags": null
          },
          "name": "stdout",
          "output_type": "stream",
          "text": [
            "Downloaded and saved HTML: https://www.chinanews.com.cn/tp/hd2011/2024/10-28/1127567.shtml\n"
          ]
        },
        {
          "metadata": {
            "tags": null
          },
          "name": "stderr",
          "output_type": "stream",
          "text": [
            "/usr/local/lib/python3.10/dist-packages/urllib3/connectionpool.py:1099: InsecureRequestWarning: Unverified HTTPS request is being made to host 'www.chinanews.com.cn'. Adding certificate verification is strongly advised. See: https://urllib3.readthedocs.io/en/latest/advanced-usage.html#tls-warnings\n",
            "  warnings.warn(\n"
          ]
        },
        {
          "metadata": {
            "tags": null
          },
          "name": "stdout",
          "output_type": "stream",
          "text": [
            "Downloaded and saved HTML: https://www.chinanews.com.cn/tp/hd2011/2024/10-28/1127550.shtml\n",
            "Downloaded and saved HTML: https://www.chinanews.com.cn/tp/hd2011/2024/10-28/1127550.shtml\n"
          ]
        },
        {
          "metadata": {
            "tags": null
          },
          "name": "stderr",
          "output_type": "stream",
          "text": [
            "/usr/local/lib/python3.10/dist-packages/urllib3/connectionpool.py:1099: InsecureRequestWarning: Unverified HTTPS request is being made to host 'www.chinanews.com.cn'. Adding certificate verification is strongly advised. See: https://urllib3.readthedocs.io/en/latest/advanced-usage.html#tls-warnings\n",
            "  warnings.warn(\n",
            "/usr/local/lib/python3.10/dist-packages/urllib3/connectionpool.py:1099: InsecureRequestWarning: Unverified HTTPS request is being made to host 'www.chinanews.com.cn'. Adding certificate verification is strongly advised. See: https://urllib3.readthedocs.io/en/latest/advanced-usage.html#tls-warnings\n",
            "  warnings.warn(\n"
          ]
        },
        {
          "metadata": {
            "tags": null
          },
          "name": "stdout",
          "output_type": "stream",
          "text": [
            "Downloaded and saved HTML: https://www.chinanews.com.cn/tp/hd2011/2024/10-28/1127550.shtml\n"
          ]
        },
        {
          "metadata": {
            "tags": null
          },
          "name": "stderr",
          "output_type": "stream",
          "text": [
            "/usr/local/lib/python3.10/dist-packages/urllib3/connectionpool.py:1099: InsecureRequestWarning: Unverified HTTPS request is being made to host 'www.chinanews.com.cn'. Adding certificate verification is strongly advised. See: https://urllib3.readthedocs.io/en/latest/advanced-usage.html#tls-warnings\n",
            "  warnings.warn(\n"
          ]
        },
        {
          "metadata": {
            "tags": null
          },
          "name": "stdout",
          "output_type": "stream",
          "text": [
            "Downloaded and saved HTML: https://www.chinanews.com.cn/tp/2024/10-28/10309106.shtml\n"
          ]
        },
        {
          "metadata": {
            "tags": null
          },
          "name": "stderr",
          "output_type": "stream",
          "text": [
            "/usr/local/lib/python3.10/dist-packages/urllib3/connectionpool.py:1099: InsecureRequestWarning: Unverified HTTPS request is being made to host 'www.chinanews.com.cn'. Adding certificate verification is strongly advised. See: https://urllib3.readthedocs.io/en/latest/advanced-usage.html#tls-warnings\n",
            "  warnings.warn(\n"
          ]
        },
        {
          "metadata": {
            "tags": null
          },
          "name": "stdout",
          "output_type": "stream",
          "text": [
            "Downloaded and saved HTML: https://www.chinanews.com.cn/tp/2024/10-28/10309106.shtml\n"
          ]
        },
        {
          "metadata": {
            "tags": null
          },
          "name": "stderr",
          "output_type": "stream",
          "text": [
            "/usr/local/lib/python3.10/dist-packages/urllib3/connectionpool.py:1099: InsecureRequestWarning: Unverified HTTPS request is being made to host 'www.chinanews.com.cn'. Adding certificate verification is strongly advised. See: https://urllib3.readthedocs.io/en/latest/advanced-usage.html#tls-warnings\n",
            "  warnings.warn(\n"
          ]
        },
        {
          "metadata": {
            "tags": null
          },
          "name": "stdout",
          "output_type": "stream",
          "text": [
            "Downloaded and saved HTML: https://www.chinanews.com.cn/tp/2024/10-28/10309106.shtml\n",
            "Downloaded and saved HTML: https://www.chinanews.com.cn/tp/hd2011/2024/10-28/1127542.shtml\n"
          ]
        },
        {
          "metadata": {
            "tags": null
          },
          "name": "stderr",
          "output_type": "stream",
          "text": [
            "/usr/local/lib/python3.10/dist-packages/urllib3/connectionpool.py:1099: InsecureRequestWarning: Unverified HTTPS request is being made to host 'www.chinanews.com.cn'. Adding certificate verification is strongly advised. See: https://urllib3.readthedocs.io/en/latest/advanced-usage.html#tls-warnings\n",
            "  warnings.warn(\n",
            "/usr/local/lib/python3.10/dist-packages/urllib3/connectionpool.py:1099: InsecureRequestWarning: Unverified HTTPS request is being made to host 'www.chinanews.com.cn'. Adding certificate verification is strongly advised. See: https://urllib3.readthedocs.io/en/latest/advanced-usage.html#tls-warnings\n",
            "  warnings.warn(\n"
          ]
        },
        {
          "metadata": {
            "tags": null
          },
          "name": "stdout",
          "output_type": "stream",
          "text": [
            "Downloaded and saved HTML: https://www.chinanews.com.cn/tp/hd2011/2024/10-28/1127542.shtml\n",
            "Downloaded and saved HTML: https://www.chinanews.com.cn/tp/hd2011/2024/10-28/1127542.shtml\n"
          ]
        },
        {
          "metadata": {
            "tags": null
          },
          "name": "stderr",
          "output_type": "stream",
          "text": [
            "/usr/local/lib/python3.10/dist-packages/urllib3/connectionpool.py:1099: InsecureRequestWarning: Unverified HTTPS request is being made to host 'www.chinanews.com.cn'. Adding certificate verification is strongly advised. See: https://urllib3.readthedocs.io/en/latest/advanced-usage.html#tls-warnings\n",
            "  warnings.warn(\n",
            "/usr/local/lib/python3.10/dist-packages/urllib3/connectionpool.py:1099: InsecureRequestWarning: Unverified HTTPS request is being made to host 'www.chinanews.com'. Adding certificate verification is strongly advised. See: https://urllib3.readthedocs.io/en/latest/advanced-usage.html#tls-warnings\n",
            "  warnings.warn(\n"
          ]
        },
        {
          "metadata": {
            "tags": null
          },
          "name": "stdout",
          "output_type": "stream",
          "text": [
            "Downloaded and saved HTML: https://www.chinanews.com/china/\n"
          ]
        },
        {
          "metadata": {
            "tags": null
          },
          "name": "stderr",
          "output_type": "stream",
          "text": [
            "/usr/local/lib/python3.10/dist-packages/urllib3/connectionpool.py:1099: InsecureRequestWarning: Unverified HTTPS request is being made to host 'www.chinanews.com'. Adding certificate verification is strongly advised. See: https://urllib3.readthedocs.io/en/latest/advanced-usage.html#tls-warnings\n",
            "  warnings.warn(\n"
          ]
        },
        {
          "metadata": {
            "tags": null
          },
          "name": "stdout",
          "output_type": "stream",
          "text": [
            "Downloaded and saved HTML: https://www.chinanews.com/sh/2024/10-28/10309292.shtml\n"
          ]
        },
        {
          "metadata": {
            "tags": null
          },
          "name": "stderr",
          "output_type": "stream",
          "text": [
            "/usr/local/lib/python3.10/dist-packages/urllib3/connectionpool.py:1099: InsecureRequestWarning: Unverified HTTPS request is being made to host 'www.chinanews.com'. Adding certificate verification is strongly advised. See: https://urllib3.readthedocs.io/en/latest/advanced-usage.html#tls-warnings\n",
            "  warnings.warn(\n"
          ]
        },
        {
          "metadata": {
            "tags": null
          },
          "name": "stdout",
          "output_type": "stream",
          "text": [
            "Downloaded and saved HTML: https://www.chinanews.com/sh/2024/10-28/10309292.shtml\n"
          ]
        },
        {
          "metadata": {
            "tags": null
          },
          "name": "stderr",
          "output_type": "stream",
          "text": [
            "/usr/local/lib/python3.10/dist-packages/urllib3/connectionpool.py:1099: InsecureRequestWarning: Unverified HTTPS request is being made to host 'www.chinanews.com'. Adding certificate verification is strongly advised. See: https://urllib3.readthedocs.io/en/latest/advanced-usage.html#tls-warnings\n",
            "  warnings.warn(\n"
          ]
        },
        {
          "metadata": {
            "tags": null
          },
          "name": "stdout",
          "output_type": "stream",
          "text": [
            "Downloaded and saved HTML: https://www.chinanews.com/sh/2024/10-28/10309332.shtml\n"
          ]
        },
        {
          "metadata": {
            "tags": null
          },
          "name": "stderr",
          "output_type": "stream",
          "text": [
            "/usr/local/lib/python3.10/dist-packages/urllib3/connectionpool.py:1099: InsecureRequestWarning: Unverified HTTPS request is being made to host 'www.chinanews.com'. Adding certificate verification is strongly advised. See: https://urllib3.readthedocs.io/en/latest/advanced-usage.html#tls-warnings\n",
            "  warnings.warn(\n"
          ]
        },
        {
          "metadata": {
            "tags": null
          },
          "name": "stdout",
          "output_type": "stream",
          "text": [
            "Downloaded and saved HTML: https://www.chinanews.com/gn/2024/10-28/10309279.shtml\n"
          ]
        },
        {
          "metadata": {
            "tags": null
          },
          "name": "stderr",
          "output_type": "stream",
          "text": [
            "/usr/local/lib/python3.10/dist-packages/urllib3/connectionpool.py:1099: InsecureRequestWarning: Unverified HTTPS request is being made to host 'www.chinanews.com'. Adding certificate verification is strongly advised. See: https://urllib3.readthedocs.io/en/latest/advanced-usage.html#tls-warnings\n",
            "  warnings.warn(\n"
          ]
        },
        {
          "metadata": {
            "tags": null
          },
          "name": "stdout",
          "output_type": "stream",
          "text": [
            "Downloaded and saved HTML: https://www.chinanews.com/gn/2024/10-28/10309117.shtml\n"
          ]
        },
        {
          "metadata": {
            "tags": null
          },
          "name": "stderr",
          "output_type": "stream",
          "text": [
            "/usr/local/lib/python3.10/dist-packages/urllib3/connectionpool.py:1099: InsecureRequestWarning: Unverified HTTPS request is being made to host 'www.chinanews.com'. Adding certificate verification is strongly advised. See: https://urllib3.readthedocs.io/en/latest/advanced-usage.html#tls-warnings\n",
            "  warnings.warn(\n"
          ]
        },
        {
          "metadata": {
            "tags": null
          },
          "name": "stdout",
          "output_type": "stream",
          "text": [
            "Downloaded and saved HTML: https://www.chinanews.com/gn/2024/10-28/10309111.shtml\n"
          ]
        },
        {
          "metadata": {
            "tags": null
          },
          "name": "stderr",
          "output_type": "stream",
          "text": [
            "/usr/local/lib/python3.10/dist-packages/urllib3/connectionpool.py:1099: InsecureRequestWarning: Unverified HTTPS request is being made to host 'www.chinanews.com'. Adding certificate verification is strongly advised. See: https://urllib3.readthedocs.io/en/latest/advanced-usage.html#tls-warnings\n",
            "  warnings.warn(\n"
          ]
        },
        {
          "metadata": {
            "tags": null
          },
          "name": "stdout",
          "output_type": "stream",
          "text": [
            "Downloaded and saved HTML: https://www.chinanews.com/society/\n"
          ]
        },
        {
          "metadata": {
            "tags": null
          },
          "name": "stderr",
          "output_type": "stream",
          "text": [
            "/usr/local/lib/python3.10/dist-packages/urllib3/connectionpool.py:1099: InsecureRequestWarning: Unverified HTTPS request is being made to host 'www.chinanews.com'. Adding certificate verification is strongly advised. See: https://urllib3.readthedocs.io/en/latest/advanced-usage.html#tls-warnings\n",
            "  warnings.warn(\n"
          ]
        },
        {
          "metadata": {
            "tags": null
          },
          "name": "stdout",
          "output_type": "stream",
          "text": [
            "Downloaded and saved HTML: https://www.chinanews.com/sh/2024/10-28/10309288.shtml\n"
          ]
        },
        {
          "metadata": {
            "tags": null
          },
          "name": "stderr",
          "output_type": "stream",
          "text": [
            "/usr/local/lib/python3.10/dist-packages/urllib3/connectionpool.py:1099: InsecureRequestWarning: Unverified HTTPS request is being made to host 'www.chinanews.com'. Adding certificate verification is strongly advised. See: https://urllib3.readthedocs.io/en/latest/advanced-usage.html#tls-warnings\n",
            "  warnings.warn(\n"
          ]
        },
        {
          "metadata": {
            "tags": null
          },
          "name": "stdout",
          "output_type": "stream",
          "text": [
            "Downloaded and saved HTML: https://www.chinanews.com/sh/2024/10-28/10309288.shtml\n"
          ]
        },
        {
          "metadata": {
            "tags": null
          },
          "name": "stderr",
          "output_type": "stream",
          "text": [
            "/usr/local/lib/python3.10/dist-packages/urllib3/connectionpool.py:1099: InsecureRequestWarning: Unverified HTTPS request is being made to host 'www.chinanews.com'. Adding certificate verification is strongly advised. See: https://urllib3.readthedocs.io/en/latest/advanced-usage.html#tls-warnings\n",
            "  warnings.warn(\n"
          ]
        },
        {
          "metadata": {
            "tags": null
          },
          "name": "stdout",
          "output_type": "stream",
          "text": [
            "Downloaded and saved HTML: https://www.chinanews.com/sh/2024/10-28/10309266.shtml\n"
          ]
        },
        {
          "metadata": {
            "tags": null
          },
          "name": "stderr",
          "output_type": "stream",
          "text": [
            "/usr/local/lib/python3.10/dist-packages/urllib3/connectionpool.py:1099: InsecureRequestWarning: Unverified HTTPS request is being made to host 'www.chinanews.com'. Adding certificate verification is strongly advised. See: https://urllib3.readthedocs.io/en/latest/advanced-usage.html#tls-warnings\n",
            "  warnings.warn(\n"
          ]
        },
        {
          "metadata": {
            "tags": null
          },
          "name": "stdout",
          "output_type": "stream",
          "text": [
            "Downloaded and saved HTML: https://www.chinanews.com/sh/2024/10-28/10309159.shtml\n"
          ]
        },
        {
          "metadata": {
            "tags": null
          },
          "name": "stderr",
          "output_type": "stream",
          "text": [
            "/usr/local/lib/python3.10/dist-packages/urllib3/connectionpool.py:1099: InsecureRequestWarning: Unverified HTTPS request is being made to host 'www.chinanews.com'. Adding certificate verification is strongly advised. See: https://urllib3.readthedocs.io/en/latest/advanced-usage.html#tls-warnings\n",
            "  warnings.warn(\n"
          ]
        },
        {
          "metadata": {
            "tags": null
          },
          "name": "stdout",
          "output_type": "stream",
          "text": [
            "Downloaded and saved HTML: https://www.chinanews.com/sh/2024/10-28/10309113.shtml\n"
          ]
        },
        {
          "metadata": {
            "tags": null
          },
          "name": "stderr",
          "output_type": "stream",
          "text": [
            "/usr/local/lib/python3.10/dist-packages/urllib3/connectionpool.py:1099: InsecureRequestWarning: Unverified HTTPS request is being made to host 'www.chinanews.com'. Adding certificate verification is strongly advised. See: https://urllib3.readthedocs.io/en/latest/advanced-usage.html#tls-warnings\n",
            "  warnings.warn(\n"
          ]
        },
        {
          "metadata": {
            "tags": null
          },
          "name": "stdout",
          "output_type": "stream",
          "text": [
            "Downloaded and saved HTML: https://www.chinanews.com/sh/2024/10-28/10309112.shtml\n"
          ]
        },
        {
          "metadata": {
            "tags": null
          },
          "name": "stderr",
          "output_type": "stream",
          "text": [
            "/usr/local/lib/python3.10/dist-packages/urllib3/connectionpool.py:1099: InsecureRequestWarning: Unverified HTTPS request is being made to host 'www.chinanews.com'. Adding certificate verification is strongly advised. See: https://urllib3.readthedocs.io/en/latest/advanced-usage.html#tls-warnings\n",
            "  warnings.warn(\n"
          ]
        },
        {
          "metadata": {
            "tags": null
          },
          "name": "stdout",
          "output_type": "stream",
          "text": [
            "Downloaded and saved HTML: https://www.chinanews.com/world/\n"
          ]
        },
        {
          "metadata": {
            "tags": null
          },
          "name": "stderr",
          "output_type": "stream",
          "text": [
            "/usr/local/lib/python3.10/dist-packages/urllib3/connectionpool.py:1099: InsecureRequestWarning: Unverified HTTPS request is being made to host 'www.chinanews.com'. Adding certificate verification is strongly advised. See: https://urllib3.readthedocs.io/en/latest/advanced-usage.html#tls-warnings\n",
            "  warnings.warn(\n"
          ]
        },
        {
          "metadata": {
            "tags": null
          },
          "name": "stdout",
          "output_type": "stream",
          "text": [
            "Downloaded and saved HTML: https://www.chinanews.com/gj/2024/10-28/10309442.shtml\n"
          ]
        },
        {
          "metadata": {
            "tags": null
          },
          "name": "stderr",
          "output_type": "stream",
          "text": [
            "/usr/local/lib/python3.10/dist-packages/urllib3/connectionpool.py:1099: InsecureRequestWarning: Unverified HTTPS request is being made to host 'www.chinanews.com'. Adding certificate verification is strongly advised. See: https://urllib3.readthedocs.io/en/latest/advanced-usage.html#tls-warnings\n",
            "  warnings.warn(\n"
          ]
        },
        {
          "metadata": {
            "tags": null
          },
          "name": "stdout",
          "output_type": "stream",
          "text": [
            "Downloaded and saved HTML: https://www.chinanews.com/gj/2024/10-28/10309442.shtml\n"
          ]
        },
        {
          "metadata": {
            "tags": null
          },
          "name": "stderr",
          "output_type": "stream",
          "text": [
            "/usr/local/lib/python3.10/dist-packages/urllib3/connectionpool.py:1099: InsecureRequestWarning: Unverified HTTPS request is being made to host 'www.chinanews.com'. Adding certificate verification is strongly advised. See: https://urllib3.readthedocs.io/en/latest/advanced-usage.html#tls-warnings\n",
            "  warnings.warn(\n"
          ]
        },
        {
          "metadata": {
            "tags": null
          },
          "name": "stdout",
          "output_type": "stream",
          "text": [
            "Downloaded and saved HTML: https://www.chinanews.com/gj/2024/10-28/10309307.shtml\n"
          ]
        },
        {
          "metadata": {
            "tags": null
          },
          "name": "stderr",
          "output_type": "stream",
          "text": [
            "/usr/local/lib/python3.10/dist-packages/urllib3/connectionpool.py:1099: InsecureRequestWarning: Unverified HTTPS request is being made to host 'www.chinanews.com'. Adding certificate verification is strongly advised. See: https://urllib3.readthedocs.io/en/latest/advanced-usage.html#tls-warnings\n",
            "  warnings.warn(\n"
          ]
        },
        {
          "metadata": {
            "tags": null
          },
          "name": "stdout",
          "output_type": "stream",
          "text": [
            "Downloaded and saved HTML: https://www.chinanews.com/gj/2024/10-28/10309281.shtml\n"
          ]
        },
        {
          "metadata": {
            "tags": null
          },
          "name": "stderr",
          "output_type": "stream",
          "text": [
            "/usr/local/lib/python3.10/dist-packages/urllib3/connectionpool.py:1099: InsecureRequestWarning: Unverified HTTPS request is being made to host 'www.chinanews.com'. Adding certificate verification is strongly advised. See: https://urllib3.readthedocs.io/en/latest/advanced-usage.html#tls-warnings\n",
            "  warnings.warn(\n"
          ]
        },
        {
          "metadata": {
            "tags": null
          },
          "name": "stdout",
          "output_type": "stream",
          "text": [
            "Downloaded and saved HTML: https://www.chinanews.com/gj/2024/10-28/10309285.shtml\n"
          ]
        },
        {
          "metadata": {
            "tags": null
          },
          "name": "stderr",
          "output_type": "stream",
          "text": [
            "/usr/local/lib/python3.10/dist-packages/urllib3/connectionpool.py:1099: InsecureRequestWarning: Unverified HTTPS request is being made to host 'www.chinanews.com'. Adding certificate verification is strongly advised. See: https://urllib3.readthedocs.io/en/latest/advanced-usage.html#tls-warnings\n",
            "  warnings.warn(\n"
          ]
        },
        {
          "metadata": {
            "tags": null
          },
          "name": "stdout",
          "output_type": "stream",
          "text": [
            "Downloaded and saved HTML: https://www.chinanews.com/gj/2024/10-28/10309276.shtml\n"
          ]
        },
        {
          "metadata": {
            "tags": null
          },
          "name": "stderr",
          "output_type": "stream",
          "text": [
            "/usr/local/lib/python3.10/dist-packages/urllib3/connectionpool.py:1099: InsecureRequestWarning: Unverified HTTPS request is being made to host 'www.chinanews.com'. Adding certificate verification is strongly advised. See: https://urllib3.readthedocs.io/en/latest/advanced-usage.html#tls-warnings\n",
            "  warnings.warn(\n"
          ]
        },
        {
          "metadata": {
            "tags": null
          },
          "name": "stdout",
          "output_type": "stream",
          "text": [
            "Downloaded and saved HTML: https://www.chinanews.com/finance/\n"
          ]
        },
        {
          "metadata": {
            "tags": null
          },
          "name": "stderr",
          "output_type": "stream",
          "text": [
            "/usr/local/lib/python3.10/dist-packages/urllib3/connectionpool.py:1099: InsecureRequestWarning: Unverified HTTPS request is being made to host 'www.chinanews.com'. Adding certificate verification is strongly advised. See: https://urllib3.readthedocs.io/en/latest/advanced-usage.html#tls-warnings\n",
            "  warnings.warn(\n"
          ]
        },
        {
          "metadata": {
            "tags": null
          },
          "name": "stdout",
          "output_type": "stream",
          "text": [
            "Downloaded and saved HTML: https://www.chinanews.com/gsztc/2024/10-28/10309235.shtml\n"
          ]
        },
        {
          "metadata": {
            "tags": null
          },
          "name": "stderr",
          "output_type": "stream",
          "text": [
            "/usr/local/lib/python3.10/dist-packages/urllib3/connectionpool.py:1099: InsecureRequestWarning: Unverified HTTPS request is being made to host 'www.chinanews.com'. Adding certificate verification is strongly advised. See: https://urllib3.readthedocs.io/en/latest/advanced-usage.html#tls-warnings\n",
            "  warnings.warn(\n"
          ]
        },
        {
          "metadata": {
            "tags": null
          },
          "name": "stdout",
          "output_type": "stream",
          "text": [
            "Downloaded and saved HTML: https://www.chinanews.com/cj/2024/10-28/10309601.shtml\n"
          ]
        },
        {
          "metadata": {
            "tags": null
          },
          "name": "stderr",
          "output_type": "stream",
          "text": [
            "/usr/local/lib/python3.10/dist-packages/urllib3/connectionpool.py:1099: InsecureRequestWarning: Unverified HTTPS request is being made to host 'www.chinanews.com'. Adding certificate verification is strongly advised. See: https://urllib3.readthedocs.io/en/latest/advanced-usage.html#tls-warnings\n",
            "  warnings.warn(\n"
          ]
        },
        {
          "metadata": {
            "tags": null
          },
          "name": "stdout",
          "output_type": "stream",
          "text": [
            "Downloaded and saved HTML: https://www.chinanews.com/cj/2024/10-28/10309529.shtml\n"
          ]
        },
        {
          "metadata": {
            "tags": null
          },
          "name": "stderr",
          "output_type": "stream",
          "text": [
            "/usr/local/lib/python3.10/dist-packages/urllib3/connectionpool.py:1099: InsecureRequestWarning: Unverified HTTPS request is being made to host 'www.chinanews.com'. Adding certificate verification is strongly advised. See: https://urllib3.readthedocs.io/en/latest/advanced-usage.html#tls-warnings\n",
            "  warnings.warn(\n"
          ]
        },
        {
          "metadata": {
            "tags": null
          },
          "name": "stdout",
          "output_type": "stream",
          "text": [
            "Downloaded and saved HTML: https://www.chinanews.com/cj/2024/10-28/10309524.shtml\n"
          ]
        },
        {
          "metadata": {
            "tags": null
          },
          "name": "stderr",
          "output_type": "stream",
          "text": [
            "/usr/local/lib/python3.10/dist-packages/urllib3/connectionpool.py:1099: InsecureRequestWarning: Unverified HTTPS request is being made to host 'www.chinanews.com'. Adding certificate verification is strongly advised. See: https://urllib3.readthedocs.io/en/latest/advanced-usage.html#tls-warnings\n",
            "  warnings.warn(\n"
          ]
        },
        {
          "metadata": {
            "tags": null
          },
          "name": "stdout",
          "output_type": "stream",
          "text": [
            "Downloaded and saved HTML: https://www.chinanews.com/cj/2024/10-28/10309513.shtml\n"
          ]
        },
        {
          "metadata": {
            "tags": null
          },
          "name": "stderr",
          "output_type": "stream",
          "text": [
            "/usr/local/lib/python3.10/dist-packages/urllib3/connectionpool.py:1099: InsecureRequestWarning: Unverified HTTPS request is being made to host 'www.chinanews.com'. Adding certificate verification is strongly advised. See: https://urllib3.readthedocs.io/en/latest/advanced-usage.html#tls-warnings\n",
            "  warnings.warn(\n"
          ]
        },
        {
          "metadata": {
            "tags": null
          },
          "name": "stdout",
          "output_type": "stream",
          "text": [
            "Downloaded and saved HTML: https://www.chinanews.com/cj/2024/10-28/10309511.shtml\n"
          ]
        },
        {
          "metadata": {
            "tags": null
          },
          "name": "stderr",
          "output_type": "stream",
          "text": [
            "/usr/local/lib/python3.10/dist-packages/urllib3/connectionpool.py:1099: InsecureRequestWarning: Unverified HTTPS request is being made to host 'www.chinanews.com'. Adding certificate verification is strongly advised. See: https://urllib3.readthedocs.io/en/latest/advanced-usage.html#tls-warnings\n",
            "  warnings.warn(\n"
          ]
        },
        {
          "metadata": {
            "tags": null
          },
          "name": "stdout",
          "output_type": "stream",
          "text": [
            "Downloaded and saved HTML: https://www.chinanews.com/gsztc/2024/10-28/10309225.shtml\n"
          ]
        },
        {
          "metadata": {
            "tags": null
          },
          "name": "stderr",
          "output_type": "stream",
          "text": [
            "/usr/local/lib/python3.10/dist-packages/urllib3/connectionpool.py:1099: InsecureRequestWarning: Unverified HTTPS request is being made to host 'www.chinanews.com'. Adding certificate verification is strongly advised. See: https://urllib3.readthedocs.io/en/latest/advanced-usage.html#tls-warnings\n",
            "  warnings.warn(\n"
          ]
        },
        {
          "metadata": {
            "tags": null
          },
          "name": "stdout",
          "output_type": "stream",
          "text": [
            "Downloaded and saved HTML: https://www.chinanews.com/gsztc/2024/10-28/10309222.shtml\n"
          ]
        },
        {
          "metadata": {
            "tags": null
          },
          "name": "stderr",
          "output_type": "stream",
          "text": [
            "/usr/local/lib/python3.10/dist-packages/urllib3/connectionpool.py:1099: InsecureRequestWarning: Unverified HTTPS request is being made to host 'www.chinanews.com'. Adding certificate verification is strongly advised. See: https://urllib3.readthedocs.io/en/latest/advanced-usage.html#tls-warnings\n",
            "  warnings.warn(\n"
          ]
        },
        {
          "metadata": {
            "tags": null
          },
          "name": "stdout",
          "output_type": "stream",
          "text": [
            "Downloaded and saved HTML: https://www.chinanews.com/gsztc/2024/10-28/10309220.shtml\n"
          ]
        },
        {
          "metadata": {
            "tags": null
          },
          "name": "stderr",
          "output_type": "stream",
          "text": [
            "/usr/local/lib/python3.10/dist-packages/urllib3/connectionpool.py:1099: InsecureRequestWarning: Unverified HTTPS request is being made to host 'www.chinanews.com'. Adding certificate verification is strongly advised. See: https://urllib3.readthedocs.io/en/latest/advanced-usage.html#tls-warnings\n",
            "  warnings.warn(\n"
          ]
        },
        {
          "metadata": {
            "tags": null
          },
          "name": "stdout",
          "output_type": "stream",
          "text": [
            "Downloaded and saved HTML: https://www.chinanews.com/cj/2024/10-28/10309189.shtml\n"
          ]
        },
        {
          "metadata": {
            "tags": null
          },
          "name": "stderr",
          "output_type": "stream",
          "text": [
            "/usr/local/lib/python3.10/dist-packages/urllib3/connectionpool.py:1099: InsecureRequestWarning: Unverified HTTPS request is being made to host 'www.chinanews.com'. Adding certificate verification is strongly advised. See: https://urllib3.readthedocs.io/en/latest/advanced-usage.html#tls-warnings\n",
            "  warnings.warn(\n"
          ]
        },
        {
          "metadata": {
            "tags": null
          },
          "name": "stdout",
          "output_type": "stream",
          "text": [
            "Downloaded and saved HTML: https://www.chinanews.com/cj/2024/10-28/10309181.shtml\n"
          ]
        },
        {
          "metadata": {
            "tags": null
          },
          "name": "stderr",
          "output_type": "stream",
          "text": [
            "/usr/local/lib/python3.10/dist-packages/urllib3/connectionpool.py:1099: InsecureRequestWarning: Unverified HTTPS request is being made to host 'www.chinanews.com'. Adding certificate verification is strongly advised. See: https://urllib3.readthedocs.io/en/latest/advanced-usage.html#tls-warnings\n",
            "  warnings.warn(\n"
          ]
        },
        {
          "metadata": {
            "tags": null
          },
          "name": "stdout",
          "output_type": "stream",
          "text": [
            "Downloaded and saved HTML: https://www.chinanews.com/cj/2024/10-28/10309164.shtml\n"
          ]
        },
        {
          "metadata": {
            "tags": null
          },
          "name": "stderr",
          "output_type": "stream",
          "text": [
            "/usr/local/lib/python3.10/dist-packages/urllib3/connectionpool.py:1099: InsecureRequestWarning: Unverified HTTPS request is being made to host 'www.chinanews.com'. Adding certificate verification is strongly advised. See: https://urllib3.readthedocs.io/en/latest/advanced-usage.html#tls-warnings\n",
            "  warnings.warn(\n"
          ]
        },
        {
          "metadata": {
            "tags": null
          },
          "name": "stdout",
          "output_type": "stream",
          "text": [
            "Downloaded and saved HTML: https://www.chinanews.com/health/\n"
          ]
        },
        {
          "metadata": {
            "tags": null
          },
          "name": "stderr",
          "output_type": "stream",
          "text": [
            "/usr/local/lib/python3.10/dist-packages/urllib3/connectionpool.py:1099: InsecureRequestWarning: Unverified HTTPS request is being made to host 'www.chinanews.com'. Adding certificate verification is strongly advised. See: https://urllib3.readthedocs.io/en/latest/advanced-usage.html#tls-warnings\n",
            "  warnings.warn(\n"
          ]
        },
        {
          "metadata": {
            "tags": null
          },
          "name": "stdout",
          "output_type": "stream",
          "text": [
            "Downloaded and saved HTML: https://www.chinanews.com/life/\n"
          ]
        },
        {
          "metadata": {
            "tags": null
          },
          "name": "stderr",
          "output_type": "stream",
          "text": [
            "/usr/local/lib/python3.10/dist-packages/urllib3/connectionpool.py:1099: InsecureRequestWarning: Unverified HTTPS request is being made to host 'www.chinanews.com'. Adding certificate verification is strongly advised. See: https://urllib3.readthedocs.io/en/latest/advanced-usage.html#tls-warnings\n",
            "  warnings.warn(\n"
          ]
        },
        {
          "metadata": {
            "tags": null
          },
          "name": "stdout",
          "output_type": "stream",
          "text": [
            "Downloaded and saved HTML: https://www.chinanews.com/jk/2024/10-28/10309077.shtml\n"
          ]
        },
        {
          "metadata": {
            "tags": null
          },
          "name": "stderr",
          "output_type": "stream",
          "text": [
            "/usr/local/lib/python3.10/dist-packages/urllib3/connectionpool.py:1099: InsecureRequestWarning: Unverified HTTPS request is being made to host 'www.chinanews.com'. Adding certificate verification is strongly advised. See: https://urllib3.readthedocs.io/en/latest/advanced-usage.html#tls-warnings\n",
            "  warnings.warn(\n"
          ]
        },
        {
          "metadata": {
            "tags": null
          },
          "name": "stdout",
          "output_type": "stream",
          "text": [
            "Downloaded and saved HTML: https://www.chinanews.com/jk/2024/10-28/10309052.shtml\n"
          ]
        },
        {
          "metadata": {
            "tags": null
          },
          "name": "stderr",
          "output_type": "stream",
          "text": [
            "/usr/local/lib/python3.10/dist-packages/urllib3/connectionpool.py:1099: InsecureRequestWarning: Unverified HTTPS request is being made to host 'www.chinanews.com'. Adding certificate verification is strongly advised. See: https://urllib3.readthedocs.io/en/latest/advanced-usage.html#tls-warnings\n",
            "  warnings.warn(\n"
          ]
        },
        {
          "metadata": {
            "tags": null
          },
          "name": "stdout",
          "output_type": "stream",
          "text": [
            "Downloaded and saved HTML: https://www.chinanews.com/jk/2024/10-28/10309057.shtml\n"
          ]
        },
        {
          "metadata": {
            "tags": null
          },
          "name": "stderr",
          "output_type": "stream",
          "text": [
            "/usr/local/lib/python3.10/dist-packages/urllib3/connectionpool.py:1099: InsecureRequestWarning: Unverified HTTPS request is being made to host 'www.chinanews.com'. Adding certificate verification is strongly advised. See: https://urllib3.readthedocs.io/en/latest/advanced-usage.html#tls-warnings\n",
            "  warnings.warn(\n"
          ]
        },
        {
          "metadata": {
            "tags": null
          },
          "name": "stdout",
          "output_type": "stream",
          "text": [
            "Downloaded and saved HTML: https://www.chinanews.com/life/2024/10-28/10309051.shtml\n"
          ]
        },
        {
          "metadata": {
            "tags": null
          },
          "name": "stderr",
          "output_type": "stream",
          "text": [
            "/usr/local/lib/python3.10/dist-packages/urllib3/connectionpool.py:1099: InsecureRequestWarning: Unverified HTTPS request is being made to host 'www.chinanews.com'. Adding certificate verification is strongly advised. See: https://urllib3.readthedocs.io/en/latest/advanced-usage.html#tls-warnings\n",
            "  warnings.warn(\n"
          ]
        },
        {
          "metadata": {
            "tags": null
          },
          "name": "stdout",
          "output_type": "stream",
          "text": [
            "Downloaded and saved HTML: https://www.chinanews.com/chuangyi/\n"
          ]
        },
        {
          "metadata": {
            "tags": null
          },
          "name": "stderr",
          "output_type": "stream",
          "text": [
            "/usr/local/lib/python3.10/dist-packages/urllib3/connectionpool.py:1099: InsecureRequestWarning: Unverified HTTPS request is being made to host 'www.chinanews.com.cn'. Adding certificate verification is strongly advised. See: https://urllib3.readthedocs.io/en/latest/advanced-usage.html#tls-warnings\n",
            "  warnings.warn(\n"
          ]
        },
        {
          "metadata": {
            "tags": null
          },
          "name": "stdout",
          "output_type": "stream",
          "text": [
            "An error occurred while downloading https://www.chinanews.com.cn/sh/shipin/cns/2024/10-23/news1003072.shtml: 'charmap' codec can't decode byte 0x8d in position 321: character maps to <undefined>\n"
          ]
        },
        {
          "metadata": {
            "tags": null
          },
          "name": "stderr",
          "output_type": "stream",
          "text": [
            "/usr/local/lib/python3.10/dist-packages/urllib3/connectionpool.py:1099: InsecureRequestWarning: Unverified HTTPS request is being made to host 'www.chinanews.com.cn'. Adding certificate verification is strongly advised. See: https://urllib3.readthedocs.io/en/latest/advanced-usage.html#tls-warnings\n",
            "  warnings.warn(\n"
          ]
        },
        {
          "metadata": {
            "tags": null
          },
          "name": "stdout",
          "output_type": "stream",
          "text": [
            "Downloaded and saved HTML: https://www.chinanews.com.cn/sh/2024/10-21/10304974.shtml\n"
          ]
        },
        {
          "metadata": {
            "tags": null
          },
          "name": "stderr",
          "output_type": "stream",
          "text": [
            "/usr/local/lib/python3.10/dist-packages/urllib3/connectionpool.py:1099: InsecureRequestWarning: Unverified HTTPS request is being made to host 'www.chinanews.com.cn'. Adding certificate verification is strongly advised. See: https://urllib3.readthedocs.io/en/latest/advanced-usage.html#tls-warnings\n",
            "  warnings.warn(\n"
          ]
        },
        {
          "metadata": {
            "tags": null
          },
          "name": "stdout",
          "output_type": "stream",
          "text": [
            "An error occurred while downloading https://www.chinanews.com.cn/gn/shipin/cns/2024/10-25/news1003247.shtml: 'charmap' codec can't decode byte 0x8d in position 333: character maps to <undefined>\n"
          ]
        },
        {
          "metadata": {
            "tags": null
          },
          "name": "stderr",
          "output_type": "stream",
          "text": [
            "/usr/local/lib/python3.10/dist-packages/urllib3/connectionpool.py:1099: InsecureRequestWarning: Unverified HTTPS request is being made to host 'www.chinanews.com.cn'. Adding certificate verification is strongly advised. See: https://urllib3.readthedocs.io/en/latest/advanced-usage.html#tls-warnings\n",
            "  warnings.warn(\n"
          ]
        },
        {
          "metadata": {
            "tags": null
          },
          "name": "stdout",
          "output_type": "stream",
          "text": [
            "Downloaded and saved HTML: https://www.chinanews.com.cn/aisys/2024/10-17/10302841.shtml\n"
          ]
        },
        {
          "metadata": {
            "tags": null
          },
          "name": "stderr",
          "output_type": "stream",
          "text": [
            "/usr/local/lib/python3.10/dist-packages/urllib3/connectionpool.py:1099: InsecureRequestWarning: Unverified HTTPS request is being made to host 'www.chinanews.com'. Adding certificate verification is strongly advised. See: https://urllib3.readthedocs.io/en/latest/advanced-usage.html#tls-warnings\n",
            "  warnings.warn(\n"
          ]
        },
        {
          "metadata": {
            "tags": null
          },
          "name": "stdout",
          "output_type": "stream",
          "text": [
            "Downloaded and saved HTML: https://www.chinanews.com/chuangyi/2024/10-22/10305563.shtml\n"
          ]
        },
        {
          "metadata": {
            "tags": null
          },
          "name": "stderr",
          "output_type": "stream",
          "text": [
            "/usr/local/lib/python3.10/dist-packages/urllib3/connectionpool.py:1099: InsecureRequestWarning: Unverified HTTPS request is being made to host 'www.chinanews.com'. Adding certificate verification is strongly advised. See: https://urllib3.readthedocs.io/en/latest/advanced-usage.html#tls-warnings\n",
            "  warnings.warn(\n"
          ]
        },
        {
          "metadata": {
            "tags": null
          },
          "name": "stdout",
          "output_type": "stream",
          "text": [
            "Downloaded and saved HTML: https://www.chinanews.com/dwq/\n"
          ]
        },
        {
          "metadata": {
            "tags": null
          },
          "name": "stderr",
          "output_type": "stream",
          "text": [
            "/usr/local/lib/python3.10/dist-packages/urllib3/connectionpool.py:1099: InsecureRequestWarning: Unverified HTTPS request is being made to host 'www.chinanews.com'. Adding certificate verification is strongly advised. See: https://urllib3.readthedocs.io/en/latest/advanced-usage.html#tls-warnings\n",
            "  warnings.warn(\n"
          ]
        },
        {
          "metadata": {
            "tags": null
          },
          "name": "stdout",
          "output_type": "stream",
          "text": [
            "Downloaded and saved HTML: https://www.chinanews.com/dwq/2024/10-28/10309627.shtml\n"
          ]
        },
        {
          "metadata": {
            "tags": null
          },
          "name": "stderr",
          "output_type": "stream",
          "text": [
            "/usr/local/lib/python3.10/dist-packages/urllib3/connectionpool.py:1099: InsecureRequestWarning: Unverified HTTPS request is being made to host 'www.chinanews.com'. Adding certificate verification is strongly advised. See: https://urllib3.readthedocs.io/en/latest/advanced-usage.html#tls-warnings\n",
            "  warnings.warn(\n"
          ]
        },
        {
          "metadata": {
            "tags": null
          },
          "name": "stdout",
          "output_type": "stream",
          "text": [
            "Downloaded and saved HTML: https://www.chinanews.com/dwq/2024/10-28/10309576.shtml\n"
          ]
        },
        {
          "metadata": {
            "tags": null
          },
          "name": "stderr",
          "output_type": "stream",
          "text": [
            "/usr/local/lib/python3.10/dist-packages/urllib3/connectionpool.py:1099: InsecureRequestWarning: Unverified HTTPS request is being made to host 'www.chinanews.com'. Adding certificate verification is strongly advised. See: https://urllib3.readthedocs.io/en/latest/advanced-usage.html#tls-warnings\n",
            "  warnings.warn(\n"
          ]
        },
        {
          "metadata": {
            "tags": null
          },
          "name": "stdout",
          "output_type": "stream",
          "text": [
            "Downloaded and saved HTML: https://www.chinanews.com/dwq/2024/10-28/10309520.shtml\n"
          ]
        },
        {
          "metadata": {
            "tags": null
          },
          "name": "stderr",
          "output_type": "stream",
          "text": [
            "/usr/local/lib/python3.10/dist-packages/urllib3/connectionpool.py:1099: InsecureRequestWarning: Unverified HTTPS request is being made to host 'www.chinanews.com'. Adding certificate verification is strongly advised. See: https://urllib3.readthedocs.io/en/latest/advanced-usage.html#tls-warnings\n",
            "  warnings.warn(\n"
          ]
        },
        {
          "metadata": {
            "tags": null
          },
          "name": "stdout",
          "output_type": "stream",
          "text": [
            "Downloaded and saved HTML: https://www.chinanews.com/dwq/2024/10-28/10309518.shtml\n"
          ]
        },
        {
          "metadata": {
            "tags": null
          },
          "name": "stderr",
          "output_type": "stream",
          "text": [
            "/usr/local/lib/python3.10/dist-packages/urllib3/connectionpool.py:1099: InsecureRequestWarning: Unverified HTTPS request is being made to host 'www.chinanews.com'. Adding certificate verification is strongly advised. See: https://urllib3.readthedocs.io/en/latest/advanced-usage.html#tls-warnings\n",
            "  warnings.warn(\n"
          ]
        },
        {
          "metadata": {
            "tags": null
          },
          "name": "stdout",
          "output_type": "stream",
          "text": [
            "Downloaded and saved HTML: https://www.chinanews.com/dwq/2024/10-28/10309455.shtml\n"
          ]
        },
        {
          "metadata": {
            "tags": null
          },
          "name": "stderr",
          "output_type": "stream",
          "text": [
            "/usr/local/lib/python3.10/dist-packages/urllib3/connectionpool.py:1099: InsecureRequestWarning: Unverified HTTPS request is being made to host 'www.chinanews.com'. Adding certificate verification is strongly advised. See: https://urllib3.readthedocs.io/en/latest/advanced-usage.html#tls-warnings\n",
            "  warnings.warn(\n"
          ]
        },
        {
          "metadata": {
            "tags": null
          },
          "name": "stdout",
          "output_type": "stream",
          "text": [
            "Downloaded and saved HTML: https://www.chinanews.com/dwq/2024/10-28/10309446.shtml\n"
          ]
        },
        {
          "metadata": {
            "tags": null
          },
          "name": "stderr",
          "output_type": "stream",
          "text": [
            "/usr/local/lib/python3.10/dist-packages/urllib3/connectionpool.py:1099: InsecureRequestWarning: Unverified HTTPS request is being made to host 'www.chinanews.com'. Adding certificate verification is strongly advised. See: https://urllib3.readthedocs.io/en/latest/advanced-usage.html#tls-warnings\n",
            "  warnings.warn(\n"
          ]
        },
        {
          "metadata": {
            "tags": null
          },
          "name": "stdout",
          "output_type": "stream",
          "text": [
            "Downloaded and saved HTML: https://www.chinanews.com/dwq/2024/10-28/10309412.shtml\n"
          ]
        },
        {
          "metadata": {
            "tags": null
          },
          "name": "stderr",
          "output_type": "stream",
          "text": [
            "/usr/local/lib/python3.10/dist-packages/urllib3/connectionpool.py:1099: InsecureRequestWarning: Unverified HTTPS request is being made to host 'www.chinanews.com'. Adding certificate verification is strongly advised. See: https://urllib3.readthedocs.io/en/latest/advanced-usage.html#tls-warnings\n",
            "  warnings.warn(\n"
          ]
        },
        {
          "metadata": {
            "tags": null
          },
          "name": "stdout",
          "output_type": "stream",
          "text": [
            "Downloaded and saved HTML: https://www.chinanews.com/dwq/2024/10-28/10309295.shtml\n"
          ]
        },
        {
          "metadata": {
            "tags": null
          },
          "name": "stderr",
          "output_type": "stream",
          "text": [
            "/usr/local/lib/python3.10/dist-packages/urllib3/connectionpool.py:1099: InsecureRequestWarning: Unverified HTTPS request is being made to host 'www.chinanews.com'. Adding certificate verification is strongly advised. See: https://urllib3.readthedocs.io/en/latest/advanced-usage.html#tls-warnings\n",
            "  warnings.warn(\n"
          ]
        },
        {
          "metadata": {
            "tags": null
          },
          "name": "stdout",
          "output_type": "stream",
          "text": [
            "Downloaded and saved HTML: https://www.chinanews.com/dwq/2024/10-28/10309619.shtml\n"
          ]
        },
        {
          "metadata": {
            "tags": null
          },
          "name": "stderr",
          "output_type": "stream",
          "text": [
            "/usr/local/lib/python3.10/dist-packages/urllib3/connectionpool.py:1099: InsecureRequestWarning: Unverified HTTPS request is being made to host 'www.chinanews.com'. Adding certificate verification is strongly advised. See: https://urllib3.readthedocs.io/en/latest/advanced-usage.html#tls-warnings\n",
            "  warnings.warn(\n"
          ]
        },
        {
          "metadata": {
            "tags": null
          },
          "name": "stdout",
          "output_type": "stream",
          "text": [
            "Downloaded and saved HTML: https://www.chinanews.com/dwq/2024/10-28/10309623.shtml\n"
          ]
        },
        {
          "metadata": {
            "tags": null
          },
          "name": "stderr",
          "output_type": "stream",
          "text": [
            "/usr/local/lib/python3.10/dist-packages/urllib3/connectionpool.py:1099: InsecureRequestWarning: Unverified HTTPS request is being made to host 'www.chinanews.com'. Adding certificate verification is strongly advised. See: https://urllib3.readthedocs.io/en/latest/advanced-usage.html#tls-warnings\n",
            "  warnings.warn(\n"
          ]
        },
        {
          "metadata": {
            "tags": null
          },
          "name": "stdout",
          "output_type": "stream",
          "text": [
            "Downloaded and saved HTML: https://www.chinanews.com/cj/2024/10-28/10309308.shtml\n"
          ]
        },
        {
          "metadata": {
            "tags": null
          },
          "name": "stderr",
          "output_type": "stream",
          "text": [
            "/usr/local/lib/python3.10/dist-packages/urllib3/connectionpool.py:1099: InsecureRequestWarning: Unverified HTTPS request is being made to host 'www.chinanews.com'. Adding certificate verification is strongly advised. See: https://urllib3.readthedocs.io/en/latest/advanced-usage.html#tls-warnings\n",
            "  warnings.warn(\n"
          ]
        },
        {
          "metadata": {
            "tags": null
          },
          "name": "stdout",
          "output_type": "stream",
          "text": [
            "Downloaded and saved HTML: https://www.chinanews.com/dwq/2024/10-28/10309248.shtml\n"
          ]
        },
        {
          "metadata": {
            "tags": null
          },
          "name": "stderr",
          "output_type": "stream",
          "text": [
            "/usr/local/lib/python3.10/dist-packages/urllib3/connectionpool.py:1099: InsecureRequestWarning: Unverified HTTPS request is being made to host 'www.chinanews.com'. Adding certificate verification is strongly advised. See: https://urllib3.readthedocs.io/en/latest/advanced-usage.html#tls-warnings\n",
            "  warnings.warn(\n"
          ]
        },
        {
          "metadata": {
            "tags": null
          },
          "name": "stdout",
          "output_type": "stream",
          "text": [
            "Downloaded and saved HTML: https://www.chinanews.com/taiwan.shtml\n"
          ]
        },
        {
          "metadata": {
            "tags": null
          },
          "name": "stderr",
          "output_type": "stream",
          "text": [
            "/usr/local/lib/python3.10/dist-packages/urllib3/connectionpool.py:1099: InsecureRequestWarning: Unverified HTTPS request is being made to host 'www.chinanews.com'. Adding certificate verification is strongly advised. See: https://urllib3.readthedocs.io/en/latest/advanced-usage.html#tls-warnings\n",
            "  warnings.warn(\n"
          ]
        },
        {
          "metadata": {
            "tags": null
          },
          "name": "stdout",
          "output_type": "stream",
          "text": [
            "Downloaded and saved HTML: https://www.chinanews.com/gn/2024/10-28/10309539.shtml\n"
          ]
        },
        {
          "metadata": {
            "tags": null
          },
          "name": "stderr",
          "output_type": "stream",
          "text": [
            "/usr/local/lib/python3.10/dist-packages/urllib3/connectionpool.py:1099: InsecureRequestWarning: Unverified HTTPS request is being made to host 'www.chinanews.com'. Adding certificate verification is strongly advised. See: https://urllib3.readthedocs.io/en/latest/advanced-usage.html#tls-warnings\n",
            "  warnings.warn(\n"
          ]
        },
        {
          "metadata": {
            "tags": null
          },
          "name": "stdout",
          "output_type": "stream",
          "text": [
            "Downloaded and saved HTML: https://www.chinanews.com/gn/2024/10-28/10309521.shtml\n"
          ]
        },
        {
          "metadata": {
            "tags": null
          },
          "name": "stderr",
          "output_type": "stream",
          "text": [
            "/usr/local/lib/python3.10/dist-packages/urllib3/connectionpool.py:1099: InsecureRequestWarning: Unverified HTTPS request is being made to host 'www.chinanews.com'. Adding certificate verification is strongly advised. See: https://urllib3.readthedocs.io/en/latest/advanced-usage.html#tls-warnings\n",
            "  warnings.warn(\n"
          ]
        },
        {
          "metadata": {
            "tags": null
          },
          "name": "stdout",
          "output_type": "stream",
          "text": [
            "Downloaded and saved HTML: https://www.chinanews.com/gn/2024/10-28/10309487.shtml\n"
          ]
        },
        {
          "metadata": {
            "tags": null
          },
          "name": "stderr",
          "output_type": "stream",
          "text": [
            "/usr/local/lib/python3.10/dist-packages/urllib3/connectionpool.py:1099: InsecureRequestWarning: Unverified HTTPS request is being made to host 'www.chinanews.com'. Adding certificate verification is strongly advised. See: https://urllib3.readthedocs.io/en/latest/advanced-usage.html#tls-warnings\n",
            "  warnings.warn(\n"
          ]
        },
        {
          "metadata": {
            "tags": null
          },
          "name": "stdout",
          "output_type": "stream",
          "text": [
            "Downloaded and saved HTML: https://www.chinanews.com/gn/2024/10-28/10309444.shtml\n"
          ]
        },
        {
          "metadata": {
            "tags": null
          },
          "name": "stderr",
          "output_type": "stream",
          "text": [
            "/usr/local/lib/python3.10/dist-packages/urllib3/connectionpool.py:1099: InsecureRequestWarning: Unverified HTTPS request is being made to host 'www.chinanews.com'. Adding certificate verification is strongly advised. See: https://urllib3.readthedocs.io/en/latest/advanced-usage.html#tls-warnings\n",
            "  warnings.warn(\n"
          ]
        },
        {
          "metadata": {
            "tags": null
          },
          "name": "stdout",
          "output_type": "stream",
          "text": [
            "Downloaded and saved HTML: https://www.chinanews.com/rst/\n"
          ]
        },
        {
          "metadata": {
            "tags": null
          },
          "name": "stderr",
          "output_type": "stream",
          "text": [
            "/usr/local/lib/python3.10/dist-packages/urllib3/connectionpool.py:1099: InsecureRequestWarning: Unverified HTTPS request is being made to host 'www.chinanews.com.cn'. Adding certificate verification is strongly advised. See: https://urllib3.readthedocs.io/en/latest/advanced-usage.html#tls-warnings\n",
            "  warnings.warn(\n"
          ]
        },
        {
          "metadata": {
            "tags": null
          },
          "name": "stdout",
          "output_type": "stream",
          "text": [
            "Downloaded and saved HTML: https://www.chinanews.com.cn/cul/shipin/cns/2024/10-24/news1003174.shtml\n"
          ]
        },
        {
          "metadata": {
            "tags": null
          },
          "name": "stderr",
          "output_type": "stream",
          "text": [
            "/usr/local/lib/python3.10/dist-packages/urllib3/connectionpool.py:1099: InsecureRequestWarning: Unverified HTTPS request is being made to host 'www.chinanews.com.cn'. Adding certificate verification is strongly advised. See: https://urllib3.readthedocs.io/en/latest/advanced-usage.html#tls-warnings\n",
            "  warnings.warn(\n"
          ]
        },
        {
          "metadata": {
            "tags": null
          },
          "name": "stdout",
          "output_type": "stream",
          "text": [
            "Downloaded and saved HTML: https://www.chinanews.com.cn/cul/shipin/cns/2024/10-24/news1003174.shtml\n"
          ]
        },
        {
          "metadata": {
            "tags": null
          },
          "name": "stderr",
          "output_type": "stream",
          "text": [
            "/usr/local/lib/python3.10/dist-packages/urllib3/connectionpool.py:1099: InsecureRequestWarning: Unverified HTTPS request is being made to host 'www.chinanews.com.cn'. Adding certificate verification is strongly advised. See: https://urllib3.readthedocs.io/en/latest/advanced-usage.html#tls-warnings\n",
            "  warnings.warn(\n"
          ]
        },
        {
          "metadata": {
            "tags": null
          },
          "name": "stdout",
          "output_type": "stream",
          "text": [
            "An error occurred while downloading https://www.chinanews.com.cn/shipin/cns/2024/10-01/news1001505.shtml: 'charmap' codec can't decode byte 0x8d in position 321: character maps to <undefined>\n"
          ]
        },
        {
          "metadata": {
            "tags": null
          },
          "name": "stderr",
          "output_type": "stream",
          "text": [
            "/usr/local/lib/python3.10/dist-packages/urllib3/connectionpool.py:1099: InsecureRequestWarning: Unverified HTTPS request is being made to host 'www.chinanews.com.cn'. Adding certificate verification is strongly advised. See: https://urllib3.readthedocs.io/en/latest/advanced-usage.html#tls-warnings\n",
            "  warnings.warn(\n"
          ]
        },
        {
          "metadata": {
            "tags": null
          },
          "name": "stdout",
          "output_type": "stream",
          "text": [
            "Downloaded and saved HTML: https://www.chinanews.com.cn/edu/shipin/cns/2024/09-21/news1000560.shtml\n"
          ]
        },
        {
          "metadata": {
            "tags": null
          },
          "name": "stderr",
          "output_type": "stream",
          "text": [
            "/usr/local/lib/python3.10/dist-packages/urllib3/connectionpool.py:1099: InsecureRequestWarning: Unverified HTTPS request is being made to host 'www.chinanews.com.cn'. Adding certificate verification is strongly advised. See: https://urllib3.readthedocs.io/en/latest/advanced-usage.html#tls-warnings\n",
            "  warnings.warn(\n"
          ]
        },
        {
          "metadata": {
            "tags": null
          },
          "name": "stdout",
          "output_type": "stream",
          "text": [
            "An error occurred while downloading https://www.chinanews.com.cn/shipin/cns/2024/09-16/news1000223.shtml: 'charmap' codec can't decode byte 0x8d in position 321: character maps to <undefined>\n"
          ]
        },
        {
          "metadata": {
            "tags": null
          },
          "name": "stderr",
          "output_type": "stream",
          "text": [
            "/usr/local/lib/python3.10/dist-packages/urllib3/connectionpool.py:1099: InsecureRequestWarning: Unverified HTTPS request is being made to host 'www.chinanews.com'. Adding certificate verification is strongly advised. See: https://urllib3.readthedocs.io/en/latest/advanced-usage.html#tls-warnings\n",
            "  warnings.warn(\n"
          ]
        },
        {
          "metadata": {
            "tags": null
          },
          "name": "stdout",
          "output_type": "stream",
          "text": [
            "Downloaded and saved HTML: https://www.chinanews.com/wy/\n"
          ]
        },
        {
          "metadata": {
            "tags": null
          },
          "name": "stderr",
          "output_type": "stream",
          "text": [
            "/usr/local/lib/python3.10/dist-packages/urllib3/connectionpool.py:1099: InsecureRequestWarning: Unverified HTTPS request is being made to host 'www.chinanews.com'. Adding certificate verification is strongly advised. See: https://urllib3.readthedocs.io/en/latest/advanced-usage.html#tls-warnings\n",
            "  warnings.warn(\n"
          ]
        },
        {
          "metadata": {
            "tags": null
          },
          "name": "stdout",
          "output_type": "stream",
          "text": [
            "Downloaded and saved HTML: https://www.chinanews.com/cul/2024/10-28/10309289.shtml\n"
          ]
        },
        {
          "metadata": {
            "tags": null
          },
          "name": "stderr",
          "output_type": "stream",
          "text": [
            "/usr/local/lib/python3.10/dist-packages/urllib3/connectionpool.py:1099: InsecureRequestWarning: Unverified HTTPS request is being made to host 'www.chinanews.com'. Adding certificate verification is strongly advised. See: https://urllib3.readthedocs.io/en/latest/advanced-usage.html#tls-warnings\n",
            "  warnings.warn(\n"
          ]
        },
        {
          "metadata": {
            "tags": null
          },
          "name": "stdout",
          "output_type": "stream",
          "text": [
            "Downloaded and saved HTML: https://www.chinanews.com/cul/2024/10-28/10309289.shtml\n"
          ]
        },
        {
          "metadata": {
            "tags": null
          },
          "name": "stderr",
          "output_type": "stream",
          "text": [
            "/usr/local/lib/python3.10/dist-packages/urllib3/connectionpool.py:1099: InsecureRequestWarning: Unverified HTTPS request is being made to host 'www.chinanews.com'. Adding certificate verification is strongly advised. See: https://urllib3.readthedocs.io/en/latest/advanced-usage.html#tls-warnings\n",
            "  warnings.warn(\n"
          ]
        },
        {
          "metadata": {
            "tags": null
          },
          "name": "stdout",
          "output_type": "stream",
          "text": [
            "Downloaded and saved HTML: https://www.chinanews.com/cul/2024/10-28/10309515.shtml\n"
          ]
        },
        {
          "metadata": {
            "tags": null
          },
          "name": "stderr",
          "output_type": "stream",
          "text": [
            "/usr/local/lib/python3.10/dist-packages/urllib3/connectionpool.py:1099: InsecureRequestWarning: Unverified HTTPS request is being made to host 'www.chinanews.com'. Adding certificate verification is strongly advised. See: https://urllib3.readthedocs.io/en/latest/advanced-usage.html#tls-warnings\n",
            "  warnings.warn(\n"
          ]
        },
        {
          "metadata": {
            "tags": null
          },
          "name": "stdout",
          "output_type": "stream",
          "text": [
            "Downloaded and saved HTML: https://www.chinanews.com/cul/2024/10-28/10309162.shtml\n"
          ]
        },
        {
          "metadata": {
            "tags": null
          },
          "name": "stderr",
          "output_type": "stream",
          "text": [
            "/usr/local/lib/python3.10/dist-packages/urllib3/connectionpool.py:1099: InsecureRequestWarning: Unverified HTTPS request is being made to host 'www.chinanews.com'. Adding certificate verification is strongly advised. See: https://urllib3.readthedocs.io/en/latest/advanced-usage.html#tls-warnings\n",
            "  warnings.warn(\n"
          ]
        },
        {
          "metadata": {
            "tags": null
          },
          "name": "stdout",
          "output_type": "stream",
          "text": [
            "Downloaded and saved HTML: https://www.chinanews.com/cul/2024/10-28/10309130.shtml\n"
          ]
        },
        {
          "metadata": {
            "tags": null
          },
          "name": "stderr",
          "output_type": "stream",
          "text": [
            "/usr/local/lib/python3.10/dist-packages/urllib3/connectionpool.py:1099: InsecureRequestWarning: Unverified HTTPS request is being made to host 'www.chinanews.com'. Adding certificate verification is strongly advised. See: https://urllib3.readthedocs.io/en/latest/advanced-usage.html#tls-warnings\n",
            "  warnings.warn(\n"
          ]
        },
        {
          "metadata": {
            "tags": null
          },
          "name": "stdout",
          "output_type": "stream",
          "text": [
            "Downloaded and saved HTML: https://www.chinanews.com/cul/2024/10-28/10309124.shtml\n"
          ]
        },
        {
          "metadata": {
            "tags": null
          },
          "name": "stderr",
          "output_type": "stream",
          "text": [
            "/usr/local/lib/python3.10/dist-packages/urllib3/connectionpool.py:1099: InsecureRequestWarning: Unverified HTTPS request is being made to host 'www.chinanews.com'. Adding certificate verification is strongly advised. See: https://urllib3.readthedocs.io/en/latest/advanced-usage.html#tls-warnings\n",
            "  warnings.warn(\n"
          ]
        },
        {
          "metadata": {
            "tags": null
          },
          "name": "stdout",
          "output_type": "stream",
          "text": [
            "Downloaded and saved HTML: https://www.chinanews.com/sports/\n"
          ]
        },
        {
          "metadata": {
            "tags": null
          },
          "name": "stderr",
          "output_type": "stream",
          "text": [
            "/usr/local/lib/python3.10/dist-packages/urllib3/connectionpool.py:1099: InsecureRequestWarning: Unverified HTTPS request is being made to host 'www.chinanews.com'. Adding certificate verification is strongly advised. See: https://urllib3.readthedocs.io/en/latest/advanced-usage.html#tls-warnings\n",
            "  warnings.warn(\n"
          ]
        },
        {
          "metadata": {
            "tags": null
          },
          "name": "stdout",
          "output_type": "stream",
          "text": [
            "Downloaded and saved HTML: https://www.chinanews.com/ty/2024/10-28/10309060.shtml\n"
          ]
        },
        {
          "metadata": {
            "tags": null
          },
          "name": "stderr",
          "output_type": "stream",
          "text": [
            "/usr/local/lib/python3.10/dist-packages/urllib3/connectionpool.py:1099: InsecureRequestWarning: Unverified HTTPS request is being made to host 'www.chinanews.com'. Adding certificate verification is strongly advised. See: https://urllib3.readthedocs.io/en/latest/advanced-usage.html#tls-warnings\n",
            "  warnings.warn(\n"
          ]
        },
        {
          "metadata": {
            "tags": null
          },
          "name": "stdout",
          "output_type": "stream",
          "text": [
            "Downloaded and saved HTML: https://www.chinanews.com/ty/2024/10-28/10309060.shtml\n"
          ]
        },
        {
          "metadata": {
            "tags": null
          },
          "name": "stderr",
          "output_type": "stream",
          "text": [
            "/usr/local/lib/python3.10/dist-packages/urllib3/connectionpool.py:1099: InsecureRequestWarning: Unverified HTTPS request is being made to host 'www.chinanews.com'. Adding certificate verification is strongly advised. See: https://urllib3.readthedocs.io/en/latest/advanced-usage.html#tls-warnings\n",
            "  warnings.warn(\n"
          ]
        },
        {
          "metadata": {
            "tags": null
          },
          "name": "stdout",
          "output_type": "stream",
          "text": [
            "Downloaded and saved HTML: https://www.chinanews.com/ty/2024/10-28/10309434.shtml\n"
          ]
        },
        {
          "metadata": {
            "tags": null
          },
          "name": "stderr",
          "output_type": "stream",
          "text": [
            "/usr/local/lib/python3.10/dist-packages/urllib3/connectionpool.py:1099: InsecureRequestWarning: Unverified HTTPS request is being made to host 'www.chinanews.com'. Adding certificate verification is strongly advised. See: https://urllib3.readthedocs.io/en/latest/advanced-usage.html#tls-warnings\n",
            "  warnings.warn(\n"
          ]
        },
        {
          "metadata": {
            "tags": null
          },
          "name": "stdout",
          "output_type": "stream",
          "text": [
            "Downloaded and saved HTML: https://www.chinanews.com/ty/2024/10-28/10309147.shtml\n"
          ]
        },
        {
          "metadata": {
            "tags": null
          },
          "name": "stderr",
          "output_type": "stream",
          "text": [
            "/usr/local/lib/python3.10/dist-packages/urllib3/connectionpool.py:1099: InsecureRequestWarning: Unverified HTTPS request is being made to host 'www.chinanews.com'. Adding certificate verification is strongly advised. See: https://urllib3.readthedocs.io/en/latest/advanced-usage.html#tls-warnings\n",
            "  warnings.warn(\n"
          ]
        },
        {
          "metadata": {
            "tags": null
          },
          "name": "stdout",
          "output_type": "stream",
          "text": [
            "Downloaded and saved HTML: https://www.chinanews.com/ty/2024/10-28/10309137.shtml\n"
          ]
        },
        {
          "metadata": {
            "tags": null
          },
          "name": "stderr",
          "output_type": "stream",
          "text": [
            "/usr/local/lib/python3.10/dist-packages/urllib3/connectionpool.py:1099: InsecureRequestWarning: Unverified HTTPS request is being made to host 'www.chinanews.com'. Adding certificate verification is strongly advised. See: https://urllib3.readthedocs.io/en/latest/advanced-usage.html#tls-warnings\n",
            "  warnings.warn(\n"
          ]
        },
        {
          "metadata": {
            "tags": null
          },
          "name": "stdout",
          "output_type": "stream",
          "text": [
            "Downloaded and saved HTML: https://www.chinanews.com/ty/2024/10-28/10309144.shtml\n"
          ]
        },
        {
          "metadata": {
            "tags": null
          },
          "name": "stderr",
          "output_type": "stream",
          "text": [
            "/usr/local/lib/python3.10/dist-packages/urllib3/connectionpool.py:1099: InsecureRequestWarning: Unverified HTTPS request is being made to host 'www.chinaqw.com'. Adding certificate verification is strongly advised. See: https://urllib3.readthedocs.io/en/latest/advanced-usage.html#tls-warnings\n",
            "  warnings.warn(\n"
          ]
        },
        {
          "metadata": {
            "tags": null
          },
          "name": "stdout",
          "output_type": "stream",
          "text": [
            "Downloaded and saved HTML: https://www.chinaqw.com/\n"
          ]
        },
        {
          "metadata": {
            "tags": null
          },
          "name": "stderr",
          "output_type": "stream",
          "text": [
            "/usr/local/lib/python3.10/dist-packages/urllib3/connectionpool.py:1099: InsecureRequestWarning: Unverified HTTPS request is being made to host 'www.chinaqw.com'. Adding certificate verification is strongly advised. See: https://urllib3.readthedocs.io/en/latest/advanced-usage.html#tls-warnings\n",
            "  warnings.warn(\n"
          ]
        },
        {
          "metadata": {
            "tags": null
          },
          "name": "stdout",
          "output_type": "stream",
          "text": [
            "Downloaded and saved HTML: https://www.chinaqw.com/hqhr/2024/10-28/385687.shtml\n",
            "Downloaded and saved HTML: https://www.chinaqw.com/hqhr/2024/10-28/385687.shtml\n"
          ]
        },
        {
          "metadata": {
            "tags": null
          },
          "name": "stderr",
          "output_type": "stream",
          "text": [
            "/usr/local/lib/python3.10/dist-packages/urllib3/connectionpool.py:1099: InsecureRequestWarning: Unverified HTTPS request is being made to host 'www.chinaqw.com'. Adding certificate verification is strongly advised. See: https://urllib3.readthedocs.io/en/latest/advanced-usage.html#tls-warnings\n",
            "  warnings.warn(\n",
            "/usr/local/lib/python3.10/dist-packages/urllib3/connectionpool.py:1099: InsecureRequestWarning: Unverified HTTPS request is being made to host 'www.chinaqw.com'. Adding certificate verification is strongly advised. See: https://urllib3.readthedocs.io/en/latest/advanced-usage.html#tls-warnings\n",
            "  warnings.warn(\n"
          ]
        },
        {
          "metadata": {
            "tags": null
          },
          "name": "stdout",
          "output_type": "stream",
          "text": [
            "Downloaded and saved HTML: https://www.chinaqw.com/hqhr/2024/10-28/385684.shtml\n"
          ]
        },
        {
          "metadata": {
            "tags": null
          },
          "name": "stderr",
          "output_type": "stream",
          "text": [
            "/usr/local/lib/python3.10/dist-packages/urllib3/connectionpool.py:1099: InsecureRequestWarning: Unverified HTTPS request is being made to host 'www.chinaqw.com'. Adding certificate verification is strongly advised. See: https://urllib3.readthedocs.io/en/latest/advanced-usage.html#tls-warnings\n",
            "  warnings.warn(\n"
          ]
        },
        {
          "metadata": {
            "tags": null
          },
          "name": "stdout",
          "output_type": "stream",
          "text": [
            "Downloaded and saved HTML: https://www.chinaqw.com/qwxs/2024/10-28/385679.shtml\n"
          ]
        },
        {
          "metadata": {
            "tags": null
          },
          "name": "stderr",
          "output_type": "stream",
          "text": [
            "/usr/local/lib/python3.10/dist-packages/urllib3/connectionpool.py:1099: InsecureRequestWarning: Unverified HTTPS request is being made to host 'www.chinaqw.com'. Adding certificate verification is strongly advised. See: https://urllib3.readthedocs.io/en/latest/advanced-usage.html#tls-warnings\n",
            "  warnings.warn(\n"
          ]
        },
        {
          "metadata": {
            "tags": null
          },
          "name": "stdout",
          "output_type": "stream",
          "text": [
            "Downloaded and saved HTML: https://www.chinaqw.com/hwjy/2024/10-28/385665.shtml\n"
          ]
        },
        {
          "metadata": {
            "tags": null
          },
          "name": "stderr",
          "output_type": "stream",
          "text": [
            "/usr/local/lib/python3.10/dist-packages/urllib3/connectionpool.py:1099: InsecureRequestWarning: Unverified HTTPS request is being made to host 'www.chinaqw.com'. Adding certificate verification is strongly advised. See: https://urllib3.readthedocs.io/en/latest/advanced-usage.html#tls-warnings\n",
            "  warnings.warn(\n"
          ]
        },
        {
          "metadata": {
            "tags": null
          },
          "name": "stdout",
          "output_type": "stream",
          "text": [
            "Downloaded and saved HTML: https://www.chinaqw.com/hdfw/2024/10-26/385649.shtml\n"
          ]
        },
        {
          "metadata": {
            "tags": null
          },
          "name": "stderr",
          "output_type": "stream",
          "text": [
            "/usr/local/lib/python3.10/dist-packages/urllib3/connectionpool.py:1099: InsecureRequestWarning: Unverified HTTPS request is being made to host 'www.chinanews.com'. Adding certificate verification is strongly advised. See: https://urllib3.readthedocs.io/en/latest/advanced-usage.html#tls-warnings\n",
            "  warnings.warn(\n"
          ]
        },
        {
          "metadata": {
            "tags": null
          },
          "name": "stdout",
          "output_type": "stream",
          "text": [
            "Downloaded and saved HTML: https://www.chinanews.com/live.shtml\n"
          ]
        },
        {
          "metadata": {
            "tags": null
          },
          "name": "stderr",
          "output_type": "stream",
          "text": [
            "/usr/local/lib/python3.10/dist-packages/urllib3/connectionpool.py:1099: InsecureRequestWarning: Unverified HTTPS request is being made to host 'www.chinanews.com'. Adding certificate verification is strongly advised. See: https://urllib3.readthedocs.io/en/latest/advanced-usage.html#tls-warnings\n",
            "  warnings.warn(\n"
          ]
        },
        {
          "metadata": {
            "tags": null
          },
          "name": "stdout",
          "output_type": "stream",
          "text": [
            "An error occurred while downloading https://www.chinanews.com/shipin/spfts/20241026/5628.shtml: 'charmap' codec can't decode byte 0x9d in position 97: character maps to <undefined>\n"
          ]
        },
        {
          "metadata": {
            "tags": null
          },
          "name": "stderr",
          "output_type": "stream",
          "text": [
            "/usr/local/lib/python3.10/dist-packages/urllib3/connectionpool.py:1099: InsecureRequestWarning: Unverified HTTPS request is being made to host 'www.chinanews.com'. Adding certificate verification is strongly advised. See: https://urllib3.readthedocs.io/en/latest/advanced-usage.html#tls-warnings\n",
            "  warnings.warn(\n"
          ]
        },
        {
          "metadata": {
            "tags": null
          },
          "name": "stdout",
          "output_type": "stream",
          "text": [
            "An error occurred while downloading https://www.chinanews.com/shipin/spfts/20241026/5628.shtml: 'charmap' codec can't decode byte 0x9d in position 97: character maps to <undefined>\n"
          ]
        },
        {
          "metadata": {
            "tags": null
          },
          "name": "stderr",
          "output_type": "stream",
          "text": [
            "/usr/local/lib/python3.10/dist-packages/urllib3/connectionpool.py:1099: InsecureRequestWarning: Unverified HTTPS request is being made to host 'www.chinanews.com'. Adding certificate verification is strongly advised. See: https://urllib3.readthedocs.io/en/latest/advanced-usage.html#tls-warnings\n",
            "  warnings.warn(\n"
          ]
        },
        {
          "metadata": {
            "tags": null
          },
          "name": "stdout",
          "output_type": "stream",
          "text": [
            "An error occurred while downloading https://www.chinanews.com/shipin/spfts/20241025/5627.shtml: 'charmap' codec can't decode byte 0x9d in position 304: character maps to <undefined>\n"
          ]
        },
        {
          "metadata": {
            "tags": null
          },
          "name": "stderr",
          "output_type": "stream",
          "text": [
            "/usr/local/lib/python3.10/dist-packages/urllib3/connectionpool.py:1099: InsecureRequestWarning: Unverified HTTPS request is being made to host 'www.chinanews.com'. Adding certificate verification is strongly advised. See: https://urllib3.readthedocs.io/en/latest/advanced-usage.html#tls-warnings\n",
            "  warnings.warn(\n"
          ]
        },
        {
          "metadata": {
            "tags": null
          },
          "name": "stdout",
          "output_type": "stream",
          "text": [
            "An error occurred while downloading https://www.chinanews.com/shipin/spfts/20241025/5627.shtml: 'charmap' codec can't decode byte 0x9d in position 304: character maps to <undefined>\n"
          ]
        },
        {
          "metadata": {
            "tags": null
          },
          "name": "stderr",
          "output_type": "stream",
          "text": [
            "/usr/local/lib/python3.10/dist-packages/urllib3/connectionpool.py:1099: InsecureRequestWarning: Unverified HTTPS request is being made to host 'www.chinanews.com'. Adding certificate verification is strongly advised. See: https://urllib3.readthedocs.io/en/latest/advanced-usage.html#tls-warnings\n",
            "  warnings.warn(\n"
          ]
        },
        {
          "metadata": {
            "tags": null
          },
          "name": "stdout",
          "output_type": "stream",
          "text": [
            "An error occurred while downloading https://www.chinanews.com/shipin/spfts/20241024/5625.shtml: 'charmap' codec can't decode byte 0x9d in position 301: character maps to <undefined>\n"
          ]
        },
        {
          "metadata": {
            "tags": null
          },
          "name": "stderr",
          "output_type": "stream",
          "text": [
            "/usr/local/lib/python3.10/dist-packages/urllib3/connectionpool.py:1099: InsecureRequestWarning: Unverified HTTPS request is being made to host 'www.chinanews.com'. Adding certificate verification is strongly advised. See: https://urllib3.readthedocs.io/en/latest/advanced-usage.html#tls-warnings\n",
            "  warnings.warn(\n"
          ]
        },
        {
          "metadata": {
            "tags": null
          },
          "name": "stdout",
          "output_type": "stream",
          "text": [
            "An error occurred while downloading https://www.chinanews.com/shipin/spfts/20241024/5625.shtml: 'charmap' codec can't decode byte 0x9d in position 301: character maps to <undefined>\n"
          ]
        },
        {
          "metadata": {
            "tags": null
          },
          "name": "stderr",
          "output_type": "stream",
          "text": [
            "/usr/local/lib/python3.10/dist-packages/urllib3/connectionpool.py:1099: InsecureRequestWarning: Unverified HTTPS request is being made to host 'www.chinanews.com'. Adding certificate verification is strongly advised. See: https://urllib3.readthedocs.io/en/latest/advanced-usage.html#tls-warnings\n",
            "  warnings.warn(\n"
          ]
        },
        {
          "metadata": {
            "tags": null
          },
          "name": "stdout",
          "output_type": "stream",
          "text": [
            "An error occurred while downloading https://www.chinanews.com/shipin/spfts/20241024/5626.shtml: 'charmap' codec can't decode byte 0x9d in position 301: character maps to <undefined>\n"
          ]
        },
        {
          "metadata": {
            "tags": null
          },
          "name": "stderr",
          "output_type": "stream",
          "text": [
            "/usr/local/lib/python3.10/dist-packages/urllib3/connectionpool.py:1099: InsecureRequestWarning: Unverified HTTPS request is being made to host 'www.chinanews.com'. Adding certificate verification is strongly advised. See: https://urllib3.readthedocs.io/en/latest/advanced-usage.html#tls-warnings\n",
            "  warnings.warn(\n"
          ]
        },
        {
          "metadata": {
            "tags": null
          },
          "name": "stdout",
          "output_type": "stream",
          "text": [
            "An error occurred while downloading https://www.chinanews.com/shipin/spfts/20241024/5626.shtml: 'charmap' codec can't decode byte 0x9d in position 301: character maps to <undefined>\n"
          ]
        },
        {
          "metadata": {
            "tags": null
          },
          "name": "stderr",
          "output_type": "stream",
          "text": [
            "/usr/local/lib/python3.10/dist-packages/urllib3/connectionpool.py:1099: InsecureRequestWarning: Unverified HTTPS request is being made to host 'www.chinanews.com'. Adding certificate verification is strongly advised. See: https://urllib3.readthedocs.io/en/latest/advanced-usage.html#tls-warnings\n",
            "  warnings.warn(\n"
          ]
        },
        {
          "metadata": {
            "tags": null
          },
          "name": "stdout",
          "output_type": "stream",
          "text": [
            "An error occurred while downloading https://www.chinanews.com/shipin/spfts/20241024/5624.shtml: 'charmap' codec can't decode byte 0x9d in position 301: character maps to <undefined>\n"
          ]
        },
        {
          "metadata": {
            "tags": null
          },
          "name": "stderr",
          "output_type": "stream",
          "text": [
            "/usr/local/lib/python3.10/dist-packages/urllib3/connectionpool.py:1099: InsecureRequestWarning: Unverified HTTPS request is being made to host 'www.chinanews.com'. Adding certificate verification is strongly advised. See: https://urllib3.readthedocs.io/en/latest/advanced-usage.html#tls-warnings\n",
            "  warnings.warn(\n"
          ]
        },
        {
          "metadata": {
            "tags": null
          },
          "name": "stdout",
          "output_type": "stream",
          "text": [
            "An error occurred while downloading https://www.chinanews.com/shipin/spfts/20241024/5624.shtml: 'charmap' codec can't decode byte 0x9d in position 301: character maps to <undefined>\n"
          ]
        },
        {
          "metadata": {
            "tags": null
          },
          "name": "stderr",
          "output_type": "stream",
          "text": [
            "/usr/local/lib/python3.10/dist-packages/urllib3/connectionpool.py:1099: InsecureRequestWarning: Unverified HTTPS request is being made to host 'www.chinanews.com'. Adding certificate verification is strongly advised. See: https://urllib3.readthedocs.io/en/latest/advanced-usage.html#tls-warnings\n",
            "  warnings.warn(\n"
          ]
        },
        {
          "metadata": {
            "tags": null
          },
          "name": "stdout",
          "output_type": "stream",
          "text": [
            "An error occurred while downloading https://www.chinanews.com/shipin/spfts/20241010/5607.shtml: 'charmap' codec can't decode byte 0x9d in position 304: character maps to <undefined>\n"
          ]
        },
        {
          "metadata": {
            "tags": null
          },
          "name": "stderr",
          "output_type": "stream",
          "text": [
            "/usr/local/lib/python3.10/dist-packages/urllib3/connectionpool.py:1099: InsecureRequestWarning: Unverified HTTPS request is being made to host 'www.chinanews.com'. Adding certificate verification is strongly advised. See: https://urllib3.readthedocs.io/en/latest/advanced-usage.html#tls-warnings\n",
            "  warnings.warn(\n"
          ]
        },
        {
          "metadata": {
            "tags": null
          },
          "name": "stdout",
          "output_type": "stream",
          "text": [
            "An error occurred while downloading https://www.chinanews.com/shipin/spfts/20241010/5607.shtml: 'charmap' codec can't decode byte 0x9d in position 304: character maps to <undefined>\n"
          ]
        },
        {
          "metadata": {
            "tags": null
          },
          "name": "stderr",
          "output_type": "stream",
          "text": [
            "/usr/local/lib/python3.10/dist-packages/urllib3/connectionpool.py:1099: InsecureRequestWarning: Unverified HTTPS request is being made to host 'www.ecns.cn'. Adding certificate verification is strongly advised. See: https://urllib3.readthedocs.io/en/latest/advanced-usage.html#tls-warnings\n",
            "  warnings.warn(\n"
          ]
        },
        {
          "metadata": {
            "tags": null
          },
          "name": "stdout",
          "output_type": "stream",
          "text": [
            "Downloaded and saved HTML: https://www.ecns.cn/\n",
            "Downloaded and saved HTML: https://www.ecns.cn/photo/\n"
          ]
        },
        {
          "metadata": {
            "tags": null
          },
          "name": "stderr",
          "output_type": "stream",
          "text": [
            "/usr/local/lib/python3.10/dist-packages/urllib3/connectionpool.py:1099: InsecureRequestWarning: Unverified HTTPS request is being made to host 'www.ecns.cn'. Adding certificate verification is strongly advised. See: https://urllib3.readthedocs.io/en/latest/advanced-usage.html#tls-warnings\n",
            "  warnings.warn(\n",
            "/usr/local/lib/python3.10/dist-packages/urllib3/connectionpool.py:1099: InsecureRequestWarning: Unverified HTTPS request is being made to host 'www.ecns.cn'. Adding certificate verification is strongly advised. See: https://urllib3.readthedocs.io/en/latest/advanced-usage.html#tls-warnings\n",
            "  warnings.warn(\n"
          ]
        },
        {
          "metadata": {
            "tags": null
          },
          "name": "stdout",
          "output_type": "stream",
          "text": [
            "Downloaded and saved HTML: https://www.ecns.cn/hd/2024-10-28/detail-iheipmiy5761841.shtml\n",
            "Downloaded and saved HTML: https://www.ecns.cn/hd/2024-10-28/detail-iheipmiy5761841.shtml\n"
          ]
        },
        {
          "metadata": {
            "tags": null
          },
          "name": "stderr",
          "output_type": "stream",
          "text": [
            "/usr/local/lib/python3.10/dist-packages/urllib3/connectionpool.py:1099: InsecureRequestWarning: Unverified HTTPS request is being made to host 'www.ecns.cn'. Adding certificate verification is strongly advised. See: https://urllib3.readthedocs.io/en/latest/advanced-usage.html#tls-warnings\n",
            "  warnings.warn(\n",
            "/usr/local/lib/python3.10/dist-packages/urllib3/connectionpool.py:1099: InsecureRequestWarning: Unverified HTTPS request is being made to host 'www.ecns.cn'. Adding certificate verification is strongly advised. See: https://urllib3.readthedocs.io/en/latest/advanced-usage.html#tls-warnings\n",
            "  warnings.warn(\n"
          ]
        },
        {
          "metadata": {
            "tags": null
          },
          "name": "stdout",
          "output_type": "stream",
          "text": [
            "Downloaded and saved HTML: https://www.ecns.cn/hd/2024-10-28/detail-iheipmiy5761870.shtml\n"
          ]
        },
        {
          "metadata": {
            "tags": null
          },
          "name": "stderr",
          "output_type": "stream",
          "text": [
            "/usr/local/lib/python3.10/dist-packages/urllib3/connectionpool.py:1099: InsecureRequestWarning: Unverified HTTPS request is being made to host 'www.ecns.cn'. Adding certificate verification is strongly advised. See: https://urllib3.readthedocs.io/en/latest/advanced-usage.html#tls-warnings\n",
            "  warnings.warn(\n"
          ]
        },
        {
          "metadata": {
            "tags": null
          },
          "name": "stdout",
          "output_type": "stream",
          "text": [
            "Downloaded and saved HTML: https://www.ecns.cn/hd/2024-10-28/detail-iheipmiy5761946.shtml\n",
            "Downloaded and saved HTML: https://www.ecns.cn/cns-wire/\n"
          ]
        },
        {
          "metadata": {
            "tags": null
          },
          "name": "stderr",
          "output_type": "stream",
          "text": [
            "/usr/local/lib/python3.10/dist-packages/urllib3/connectionpool.py:1099: InsecureRequestWarning: Unverified HTTPS request is being made to host 'www.ecns.cn'. Adding certificate verification is strongly advised. See: https://urllib3.readthedocs.io/en/latest/advanced-usage.html#tls-warnings\n",
            "  warnings.warn(\n",
            "/usr/local/lib/python3.10/dist-packages/urllib3/connectionpool.py:1099: InsecureRequestWarning: Unverified HTTPS request is being made to host 'www.ecns.cn'. Adding certificate verification is strongly advised. See: https://urllib3.readthedocs.io/en/latest/advanced-usage.html#tls-warnings\n",
            "  warnings.warn(\n"
          ]
        },
        {
          "metadata": {
            "tags": null
          },
          "name": "stdout",
          "output_type": "stream",
          "text": [
            "Downloaded and saved HTML: https://www.ecns.cn/cns-wire/2024-10-28/detail-iheipmiy5762293.shtml\n"
          ]
        },
        {
          "metadata": {
            "tags": null
          },
          "name": "stderr",
          "output_type": "stream",
          "text": [
            "/usr/local/lib/python3.10/dist-packages/urllib3/connectionpool.py:1099: InsecureRequestWarning: Unverified HTTPS request is being made to host 'www.ecns.cn'. Adding certificate verification is strongly advised. See: https://urllib3.readthedocs.io/en/latest/advanced-usage.html#tls-warnings\n",
            "  warnings.warn(\n"
          ]
        },
        {
          "metadata": {
            "tags": null
          },
          "name": "stdout",
          "output_type": "stream",
          "text": [
            "Downloaded and saved HTML: https://www.ecns.cn/cns-wire/2024-10-25/detail-iheiierq2783595.shtml\n"
          ]
        },
        {
          "metadata": {
            "tags": null
          },
          "name": "stderr",
          "output_type": "stream",
          "text": [
            "/usr/local/lib/python3.10/dist-packages/urllib3/connectionpool.py:1099: InsecureRequestWarning: Unverified HTTPS request is being made to host 'www.ecns.cn'. Adding certificate verification is strongly advised. See: https://urllib3.readthedocs.io/en/latest/advanced-usage.html#tls-warnings\n",
            "  warnings.warn(\n"
          ]
        },
        {
          "metadata": {
            "tags": null
          },
          "name": "stdout",
          "output_type": "stream",
          "text": [
            "Downloaded and saved HTML: https://www.ecns.cn/cns-wire/2024-10-25/detail-iheiierq2783463.shtml\n"
          ]
        },
        {
          "metadata": {
            "tags": null
          },
          "name": "stderr",
          "output_type": "stream",
          "text": [
            "/usr/local/lib/python3.10/dist-packages/urllib3/connectionpool.py:1099: InsecureRequestWarning: Unverified HTTPS request is being made to host 'www.ecns.cn'. Adding certificate verification is strongly advised. See: https://urllib3.readthedocs.io/en/latest/advanced-usage.html#tls-warnings\n",
            "  warnings.warn(\n"
          ]
        },
        {
          "metadata": {
            "tags": null
          },
          "name": "stdout",
          "output_type": "stream",
          "text": [
            "Downloaded and saved HTML: https://www.ecns.cn/news/cns-wire/2024-10-25/detail-iheiierq2783454.shtml\n"
          ]
        },
        {
          "metadata": {
            "tags": null
          },
          "name": "stderr",
          "output_type": "stream",
          "text": [
            "/usr/local/lib/python3.10/dist-packages/urllib3/connectionpool.py:1099: InsecureRequestWarning: Unverified HTTPS request is being made to host 'www.ecns.cn'. Adding certificate verification is strongly advised. See: https://urllib3.readthedocs.io/en/latest/advanced-usage.html#tls-warnings\n",
            "  warnings.warn(\n"
          ]
        },
        {
          "metadata": {
            "tags": null
          },
          "name": "stdout",
          "output_type": "stream",
          "text": [
            "Downloaded and saved HTML: https://www.ecns.cn/cns-wire/2024-10-25/detail-iheiierq2783418.shtml\n"
          ]
        },
        {
          "metadata": {
            "tags": null
          },
          "name": "stderr",
          "output_type": "stream",
          "text": [
            "/usr/local/lib/python3.10/dist-packages/urllib3/connectionpool.py:1099: InsecureRequestWarning: Unverified HTTPS request is being made to host 'www.ecns.cn'. Adding certificate verification is strongly advised. See: https://urllib3.readthedocs.io/en/latest/advanced-usage.html#tls-warnings\n",
            "  warnings.warn(\n"
          ]
        },
        {
          "metadata": {
            "tags": null
          },
          "name": "stdout",
          "output_type": "stream",
          "text": [
            "Downloaded and saved HTML: https://www.ecns.cn/scroll/\n"
          ]
        },
        {
          "metadata": {
            "tags": null
          },
          "name": "stderr",
          "output_type": "stream",
          "text": [
            "/usr/local/lib/python3.10/dist-packages/urllib3/connectionpool.py:1099: InsecureRequestWarning: Unverified HTTPS request is being made to host 'www.ecns.cn'. Adding certificate verification is strongly advised. See: https://urllib3.readthedocs.io/en/latest/advanced-usage.html#tls-warnings\n",
            "  warnings.warn(\n"
          ]
        },
        {
          "metadata": {
            "tags": null
          },
          "name": "stdout",
          "output_type": "stream",
          "text": [
            "Downloaded and saved HTML: https://www.ecns.cn/news/sci-tech/2024-10-28/detail-iheipmiy5763333.shtml\n"
          ]
        },
        {
          "metadata": {
            "tags": null
          },
          "name": "stderr",
          "output_type": "stream",
          "text": [
            "/usr/local/lib/python3.10/dist-packages/urllib3/connectionpool.py:1099: InsecureRequestWarning: Unverified HTTPS request is being made to host 'www.ecns.cn'. Adding certificate verification is strongly advised. See: https://urllib3.readthedocs.io/en/latest/advanced-usage.html#tls-warnings\n",
            "  warnings.warn(\n"
          ]
        },
        {
          "metadata": {
            "tags": null
          },
          "name": "stdout",
          "output_type": "stream",
          "text": [
            "Downloaded and saved HTML: https://www.ecns.cn/news/economy/2024-10-28/detail-iheipmiy5763144.shtml\n"
          ]
        },
        {
          "metadata": {
            "tags": null
          },
          "name": "stderr",
          "output_type": "stream",
          "text": [
            "/usr/local/lib/python3.10/dist-packages/urllib3/connectionpool.py:1099: InsecureRequestWarning: Unverified HTTPS request is being made to host 'www.ecns.cn'. Adding certificate verification is strongly advised. See: https://urllib3.readthedocs.io/en/latest/advanced-usage.html#tls-warnings\n",
            "  warnings.warn(\n"
          ]
        },
        {
          "metadata": {
            "tags": null
          },
          "name": "stdout",
          "output_type": "stream",
          "text": [
            "Downloaded and saved HTML: https://www.ecns.cn/news/economy/2024-10-28/detail-iheipmiy5763106.shtml\n"
          ]
        },
        {
          "metadata": {
            "tags": null
          },
          "name": "stderr",
          "output_type": "stream",
          "text": [
            "/usr/local/lib/python3.10/dist-packages/urllib3/connectionpool.py:1099: InsecureRequestWarning: Unverified HTTPS request is being made to host 'www.ecns.cn'. Adding certificate verification is strongly advised. See: https://urllib3.readthedocs.io/en/latest/advanced-usage.html#tls-warnings\n",
            "  warnings.warn(\n"
          ]
        },
        {
          "metadata": {
            "tags": null
          },
          "name": "stdout",
          "output_type": "stream",
          "text": [
            "Downloaded and saved HTML: https://www.ecns.cn/news/society/2024-10-28/detail-iheipmiy5761691.shtml\n"
          ]
        },
        {
          "metadata": {
            "tags": null
          },
          "name": "stderr",
          "output_type": "stream",
          "text": [
            "/usr/local/lib/python3.10/dist-packages/urllib3/connectionpool.py:1099: InsecureRequestWarning: Unverified HTTPS request is being made to host 'www.ecns.cn'. Adding certificate verification is strongly advised. See: https://urllib3.readthedocs.io/en/latest/advanced-usage.html#tls-warnings\n",
            "  warnings.warn(\n"
          ]
        },
        {
          "metadata": {
            "tags": null
          },
          "name": "stdout",
          "output_type": "stream",
          "text": [
            "Downloaded and saved HTML: https://www.ecns.cn/news/economy/2024-10-28/detail-iheipmiy5761414.shtml\n",
            "Downloaded and saved HTML: https://www.ecns.cn/video/\n"
          ]
        },
        {
          "metadata": {
            "tags": null
          },
          "name": "stderr",
          "output_type": "stream",
          "text": [
            "/usr/local/lib/python3.10/dist-packages/urllib3/connectionpool.py:1099: InsecureRequestWarning: Unverified HTTPS request is being made to host 'www.ecns.cn'. Adding certificate verification is strongly advised. See: https://urllib3.readthedocs.io/en/latest/advanced-usage.html#tls-warnings\n",
            "  warnings.warn(\n",
            "/usr/local/lib/python3.10/dist-packages/urllib3/connectionpool.py:1099: InsecureRequestWarning: Unverified HTTPS request is being made to host 'www.ecns.cn'. Adding certificate verification is strongly advised. See: https://urllib3.readthedocs.io/en/latest/advanced-usage.html#tls-warnings\n",
            "  warnings.warn(\n"
          ]
        },
        {
          "metadata": {
            "tags": null
          },
          "name": "stdout",
          "output_type": "stream",
          "text": [
            "Downloaded and saved HTML: https://www.ecns.cn/video/2024-10-27/detail-iheiierq2785659.shtml\n"
          ]
        },
        {
          "metadata": {
            "tags": null
          },
          "name": "stderr",
          "output_type": "stream",
          "text": [
            "/usr/local/lib/python3.10/dist-packages/urllib3/connectionpool.py:1099: InsecureRequestWarning: Unverified HTTPS request is being made to host 'www.ecns.cn'. Adding certificate verification is strongly advised. See: https://urllib3.readthedocs.io/en/latest/advanced-usage.html#tls-warnings\n",
            "  warnings.warn(\n"
          ]
        },
        {
          "metadata": {
            "tags": null
          },
          "name": "stdout",
          "output_type": "stream",
          "text": [
            "Downloaded and saved HTML: https://www.ecns.cn/video/2024-10-26/detail-iheiierq2785457.shtml\n"
          ]
        },
        {
          "metadata": {
            "tags": null
          },
          "name": "stderr",
          "output_type": "stream",
          "text": [
            "/usr/local/lib/python3.10/dist-packages/urllib3/connectionpool.py:1099: InsecureRequestWarning: Unverified HTTPS request is being made to host 'www.ecns.cn'. Adding certificate verification is strongly advised. See: https://urllib3.readthedocs.io/en/latest/advanced-usage.html#tls-warnings\n",
            "  warnings.warn(\n"
          ]
        },
        {
          "metadata": {
            "tags": null
          },
          "name": "stdout",
          "output_type": "stream",
          "text": [
            "Downloaded and saved HTML: https://www.ecns.cn/video/2024-10-25/detail-iheiierq2783794.shtml\n"
          ]
        },
        {
          "metadata": {
            "tags": null
          },
          "name": "stderr",
          "output_type": "stream",
          "text": [
            "/usr/local/lib/python3.10/dist-packages/urllib3/connectionpool.py:1099: InsecureRequestWarning: Unverified HTTPS request is being made to host 'www.ecns.cn'. Adding certificate verification is strongly advised. See: https://urllib3.readthedocs.io/en/latest/advanced-usage.html#tls-warnings\n",
            "  warnings.warn(\n"
          ]
        },
        {
          "metadata": {
            "tags": null
          },
          "name": "stdout",
          "output_type": "stream",
          "text": [
            "Downloaded and saved HTML: https://www.ecns.cn/video/2024-10-25/detail-iheiierq2783792.shtml\n"
          ]
        },
        {
          "metadata": {
            "tags": null
          },
          "name": "stderr",
          "output_type": "stream",
          "text": [
            "/usr/local/lib/python3.10/dist-packages/urllib3/connectionpool.py:1099: InsecureRequestWarning: Unverified HTTPS request is being made to host 'mp.weixin.qq.com'. Adding certificate verification is strongly advised. See: https://urllib3.readthedocs.io/en/latest/advanced-usage.html#tls-warnings\n",
            "  warnings.warn(\n",
            "/usr/local/lib/python3.10/dist-packages/urllib3/connectionpool.py:1099: InsecureRequestWarning: Unverified HTTPS request is being made to host 'mp.weixin.qq.com'. Adding certificate verification is strongly advised. See: https://urllib3.readthedocs.io/en/latest/advanced-usage.html#tls-warnings\n",
            "  warnings.warn(\n"
          ]
        },
        {
          "metadata": {
            "tags": null
          },
          "name": "stdout",
          "output_type": "stream",
          "text": [
            "Downloaded and saved HTML: https://mp.weixin.qq.com/s?__biz=MjM5NDI2MDc5NA==&mid=2659524553&idx=1&sn=568cf182e4537454070661228b236690&chksm=bdfbcd9c8a8c448aef105a31c7b8e66697dd1e42883e7a9f874f3e601fdda3887ca34baa4d1b&token=720609995&lang=zh_CN#rd\n"
          ]
        },
        {
          "metadata": {
            "tags": null
          },
          "name": "stderr",
          "output_type": "stream",
          "text": [
            "/usr/local/lib/python3.10/dist-packages/urllib3/connectionpool.py:1099: InsecureRequestWarning: Unverified HTTPS request is being made to host 'mp.weixin.qq.com'. Adding certificate verification is strongly advised. See: https://urllib3.readthedocs.io/en/latest/advanced-usage.html#tls-warnings\n",
            "  warnings.warn(\n"
          ]
        },
        {
          "metadata": {
            "tags": null
          },
          "name": "stdout",
          "output_type": "stream",
          "text": [
            "Downloaded and saved HTML: https://mp.weixin.qq.com/s?__biz=MjM5NDI2MDc5NA==&mid=2659524523&idx=1&sn=6e1a6ae460177340b0c78dd899fb1ed0&chksm=bdfbcdfe8a8c44e88a1aaa800f0ea17c880a4afda43d3c96268db8641b75e9a334b111a1f891&token=720609995&lang=zh_CN#rd\n"
          ]
        },
        {
          "metadata": {
            "tags": null
          },
          "name": "stderr",
          "output_type": "stream",
          "text": [
            "/usr/local/lib/python3.10/dist-packages/urllib3/connectionpool.py:1099: InsecureRequestWarning: Unverified HTTPS request is being made to host 'weibo.com'. Adding certificate verification is strongly advised. See: https://urllib3.readthedocs.io/en/latest/advanced-usage.html#tls-warnings\n",
            "  warnings.warn(\n",
            "/usr/local/lib/python3.10/dist-packages/urllib3/connectionpool.py:1099: InsecureRequestWarning: Unverified HTTPS request is being made to host 'passport.weibo.com'. Adding certificate verification is strongly advised. See: https://urllib3.readthedocs.io/en/latest/advanced-usage.html#tls-warnings\n",
            "  warnings.warn(\n"
          ]
        },
        {
          "metadata": {
            "tags": null
          },
          "name": "stdout",
          "output_type": "stream",
          "text": [
            "Downloaded and saved HTML: https://weibo.com/3604378011/ODAVCAfwC\n"
          ]
        },
        {
          "metadata": {
            "tags": null
          },
          "name": "stderr",
          "output_type": "stream",
          "text": [
            "/usr/local/lib/python3.10/dist-packages/urllib3/connectionpool.py:1099: InsecureRequestWarning: Unverified HTTPS request is being made to host 'weibo.com'. Adding certificate verification is strongly advised. See: https://urllib3.readthedocs.io/en/latest/advanced-usage.html#tls-warnings\n",
            "  warnings.warn(\n",
            "/usr/local/lib/python3.10/dist-packages/urllib3/connectionpool.py:1099: InsecureRequestWarning: Unverified HTTPS request is being made to host 'passport.weibo.com'. Adding certificate verification is strongly advised. See: https://urllib3.readthedocs.io/en/latest/advanced-usage.html#tls-warnings\n",
            "  warnings.warn(\n"
          ]
        },
        {
          "metadata": {
            "tags": null
          },
          "name": "stdout",
          "output_type": "stream",
          "text": [
            "Downloaded and saved HTML: https://weibo.com/3604378011/ODAVCAfwC\n"
          ]
        },
        {
          "metadata": {
            "tags": null
          },
          "name": "stderr",
          "output_type": "stream",
          "text": [
            "/usr/local/lib/python3.10/dist-packages/urllib3/connectionpool.py:1099: InsecureRequestWarning: Unverified HTTPS request is being made to host 'weibo.com'. Adding certificate verification is strongly advised. See: https://urllib3.readthedocs.io/en/latest/advanced-usage.html#tls-warnings\n",
            "  warnings.warn(\n",
            "/usr/local/lib/python3.10/dist-packages/urllib3/connectionpool.py:1099: InsecureRequestWarning: Unverified HTTPS request is being made to host 'passport.weibo.com'. Adding certificate verification is strongly advised. See: https://urllib3.readthedocs.io/en/latest/advanced-usage.html#tls-warnings\n",
            "  warnings.warn(\n"
          ]
        },
        {
          "metadata": {
            "tags": null
          },
          "name": "stdout",
          "output_type": "stream",
          "text": [
            "Downloaded and saved HTML: https://weibo.com/3604378011/ODCPbcQPg\n"
          ]
        },
        {
          "metadata": {
            "tags": null
          },
          "name": "stderr",
          "output_type": "stream",
          "text": [
            "/usr/local/lib/python3.10/dist-packages/urllib3/connectionpool.py:1099: InsecureRequestWarning: Unverified HTTPS request is being made to host 'weibo.com'. Adding certificate verification is strongly advised. See: https://urllib3.readthedocs.io/en/latest/advanced-usage.html#tls-warnings\n",
            "  warnings.warn(\n",
            "/usr/local/lib/python3.10/dist-packages/urllib3/connectionpool.py:1099: InsecureRequestWarning: Unverified HTTPS request is being made to host 'passport.weibo.com'. Adding certificate verification is strongly advised. See: https://urllib3.readthedocs.io/en/latest/advanced-usage.html#tls-warnings\n",
            "  warnings.warn(\n"
          ]
        },
        {
          "metadata": {
            "tags": null
          },
          "name": "stdout",
          "output_type": "stream",
          "text": [
            "Downloaded and saved HTML: https://weibo.com/3604378011/ODCPbcQPg\n"
          ]
        },
        {
          "metadata": {
            "tags": null
          },
          "name": "stderr",
          "output_type": "stream",
          "text": [
            "/usr/local/lib/python3.10/dist-packages/urllib3/connectionpool.py:1099: InsecureRequestWarning: Unverified HTTPS request is being made to host 'mp.weixin.qq.com'. Adding certificate verification is strongly advised. See: https://urllib3.readthedocs.io/en/latest/advanced-usage.html#tls-warnings\n",
            "  warnings.warn(\n"
          ]
        },
        {
          "metadata": {
            "tags": null
          },
          "name": "stdout",
          "output_type": "stream",
          "text": [
            "Downloaded and saved HTML: https://mp.weixin.qq.com/s?__biz=MjM5ODA4OTIyMA==&mid=2652619231&idx=1&sn=7b8f441e4bed97669467a33c6f8c8d10&chksm=bd3f66b48a48efa24a50448b8e15bcb961ab8df4fd4132cc650d8fbce641f57ea86ba5f26499&token=1181693529&lang=zh_CN#rd\n"
          ]
        },
        {
          "metadata": {
            "tags": null
          },
          "name": "stderr",
          "output_type": "stream",
          "text": [
            "/usr/local/lib/python3.10/dist-packages/urllib3/connectionpool.py:1099: InsecureRequestWarning: Unverified HTTPS request is being made to host 'mp.weixin.qq.com'. Adding certificate verification is strongly advised. See: https://urllib3.readthedocs.io/en/latest/advanced-usage.html#tls-warnings\n",
            "  warnings.warn(\n"
          ]
        },
        {
          "metadata": {
            "tags": null
          },
          "name": "stdout",
          "output_type": "stream",
          "text": [
            "Downloaded and saved HTML: https://mp.weixin.qq.com/s?__biz=MjM5ODA4OTIyMA==&mid=2652619292&idx=3&sn=68f6a804c0ae2bd0903327042376b0ab&chksm=bd3f65778a48ec617b3b15bbc6da995ee79b877ad74c6c5bcb58079ffc273909029704805d29&token=1181693529&lang=zh_CN#rd\n"
          ]
        },
        {
          "metadata": {
            "tags": null
          },
          "name": "stderr",
          "output_type": "stream",
          "text": [
            "/usr/local/lib/python3.10/dist-packages/urllib3/connectionpool.py:1099: InsecureRequestWarning: Unverified HTTPS request is being made to host 'weibo.com'. Adding certificate verification is strongly advised. See: https://urllib3.readthedocs.io/en/latest/advanced-usage.html#tls-warnings\n",
            "  warnings.warn(\n",
            "/usr/local/lib/python3.10/dist-packages/urllib3/connectionpool.py:1099: InsecureRequestWarning: Unverified HTTPS request is being made to host 'passport.weibo.com'. Adding certificate verification is strongly advised. See: https://urllib3.readthedocs.io/en/latest/advanced-usage.html#tls-warnings\n",
            "  warnings.warn(\n"
          ]
        },
        {
          "metadata": {
            "tags": null
          },
          "name": "stdout",
          "output_type": "stream",
          "text": [
            "Downloaded and saved HTML: https://weibo.com/1784473157/ODBTBljim\n"
          ]
        },
        {
          "metadata": {
            "tags": null
          },
          "name": "stderr",
          "output_type": "stream",
          "text": [
            "/usr/local/lib/python3.10/dist-packages/urllib3/connectionpool.py:1099: InsecureRequestWarning: Unverified HTTPS request is being made to host 'weibo.com'. Adding certificate verification is strongly advised. See: https://urllib3.readthedocs.io/en/latest/advanced-usage.html#tls-warnings\n",
            "  warnings.warn(\n",
            "/usr/local/lib/python3.10/dist-packages/urllib3/connectionpool.py:1099: InsecureRequestWarning: Unverified HTTPS request is being made to host 'passport.weibo.com'. Adding certificate verification is strongly advised. See: https://urllib3.readthedocs.io/en/latest/advanced-usage.html#tls-warnings\n",
            "  warnings.warn(\n"
          ]
        },
        {
          "metadata": {
            "tags": null
          },
          "name": "stdout",
          "output_type": "stream",
          "text": [
            "Downloaded and saved HTML: https://weibo.com/1784473157/ODBTBljim\n"
          ]
        },
        {
          "metadata": {
            "tags": null
          },
          "name": "stderr",
          "output_type": "stream",
          "text": [
            "/usr/local/lib/python3.10/dist-packages/urllib3/connectionpool.py:1099: InsecureRequestWarning: Unverified HTTPS request is being made to host 'weibo.com'. Adding certificate verification is strongly advised. See: https://urllib3.readthedocs.io/en/latest/advanced-usage.html#tls-warnings\n",
            "  warnings.warn(\n",
            "/usr/local/lib/python3.10/dist-packages/urllib3/connectionpool.py:1099: InsecureRequestWarning: Unverified HTTPS request is being made to host 'passport.weibo.com'. Adding certificate verification is strongly advised. See: https://urllib3.readthedocs.io/en/latest/advanced-usage.html#tls-warnings\n",
            "  warnings.warn(\n"
          ]
        },
        {
          "metadata": {
            "tags": null
          },
          "name": "stdout",
          "output_type": "stream",
          "text": [
            "Downloaded and saved HTML: https://weibo.com/1784473157/ODDx86Nva\n"
          ]
        },
        {
          "metadata": {
            "tags": null
          },
          "name": "stderr",
          "output_type": "stream",
          "text": [
            "/usr/local/lib/python3.10/dist-packages/urllib3/connectionpool.py:1099: InsecureRequestWarning: Unverified HTTPS request is being made to host 'weibo.com'. Adding certificate verification is strongly advised. See: https://urllib3.readthedocs.io/en/latest/advanced-usage.html#tls-warnings\n",
            "  warnings.warn(\n",
            "/usr/local/lib/python3.10/dist-packages/urllib3/connectionpool.py:1099: InsecureRequestWarning: Unverified HTTPS request is being made to host 'passport.weibo.com'. Adding certificate verification is strongly advised. See: https://urllib3.readthedocs.io/en/latest/advanced-usage.html#tls-warnings\n",
            "  warnings.warn(\n"
          ]
        },
        {
          "metadata": {
            "tags": null
          },
          "name": "stdout",
          "output_type": "stream",
          "text": [
            "Downloaded and saved HTML: https://weibo.com/1784473157/ODDx86Nva\n"
          ]
        },
        {
          "metadata": {
            "tags": null
          },
          "name": "stderr",
          "output_type": "stream",
          "text": [
            "/usr/local/lib/python3.10/dist-packages/urllib3/connectionpool.py:1099: InsecureRequestWarning: Unverified HTTPS request is being made to host 'www.chinanews.com.cn'. Adding certificate verification is strongly advised. See: https://urllib3.readthedocs.io/en/latest/advanced-usage.html#tls-warnings\n",
            "  warnings.warn(\n"
          ]
        },
        {
          "metadata": {
            "tags": null
          },
          "name": "stdout",
          "output_type": "stream",
          "text": [
            "Downloaded and saved HTML: https://www.chinanews.com.cn/gn/z/ChinaView/index.shtml\n"
          ]
        },
        {
          "metadata": {
            "tags": null
          },
          "name": "stderr",
          "output_type": "stream",
          "text": [
            "/usr/local/lib/python3.10/dist-packages/urllib3/connectionpool.py:1099: InsecureRequestWarning: Unverified HTTPS request is being made to host 'www.chinanews.com.cn'. Adding certificate verification is strongly advised. See: https://urllib3.readthedocs.io/en/latest/advanced-usage.html#tls-warnings\n",
            "  warnings.warn(\n"
          ]
        },
        {
          "metadata": {
            "tags": null
          },
          "name": "stdout",
          "output_type": "stream",
          "text": [
            "Downloaded and saved HTML: https://www.chinanews.com.cn/cnspp/pp-jdmdm/index.shtml\n"
          ]
        },
        {
          "metadata": {
            "tags": null
          },
          "name": "stderr",
          "output_type": "stream",
          "text": [
            "/usr/local/lib/python3.10/dist-packages/urllib3/connectionpool.py:1099: InsecureRequestWarning: Unverified HTTPS request is being made to host 'www.chinanews.com.cn'. Adding certificate verification is strongly advised. See: https://urllib3.readthedocs.io/en/latest/advanced-usage.html#tls-warnings\n",
            "  warnings.warn(\n"
          ]
        },
        {
          "metadata": {
            "tags": null
          },
          "name": "stdout",
          "output_type": "stream",
          "text": [
            "Downloaded and saved HTML: https://www.chinanews.com.cn/cnspp/pp-xyd/index.shtml\n"
          ]
        },
        {
          "metadata": {
            "tags": null
          },
          "name": "stderr",
          "output_type": "stream",
          "text": [
            "/usr/local/lib/python3.10/dist-packages/urllib3/connectionpool.py:1099: InsecureRequestWarning: Unverified HTTPS request is being made to host 'www.chinanews.com.cn'. Adding certificate verification is strongly advised. See: https://urllib3.readthedocs.io/en/latest/advanced-usage.html#tls-warnings\n",
            "  warnings.warn(\n"
          ]
        },
        {
          "metadata": {
            "tags": null
          },
          "name": "stdout",
          "output_type": "stream",
          "text": [
            "Downloaded and saved HTML: https://www.chinanews.com.cn/cnspp/pp-talk/index.shtml\n"
          ]
        },
        {
          "metadata": {
            "tags": null
          },
          "name": "stderr",
          "output_type": "stream",
          "text": [
            "/usr/local/lib/python3.10/dist-packages/urllib3/connectionpool.py:1099: InsecureRequestWarning: Unverified HTTPS request is being made to host 'www.chinanews.com'. Adding certificate verification is strongly advised. See: https://urllib3.readthedocs.io/en/latest/advanced-usage.html#tls-warnings\n",
            "  warnings.warn(\n"
          ]
        },
        {
          "metadata": {
            "tags": null
          },
          "name": "stdout",
          "output_type": "stream",
          "text": [
            "Downloaded and saved HTML: https://www.chinanews.com/dxw/\n"
          ]
        },
        {
          "metadata": {
            "tags": null
          },
          "name": "stderr",
          "output_type": "stream",
          "text": [
            "/usr/local/lib/python3.10/dist-packages/urllib3/connectionpool.py:1099: InsecureRequestWarning: Unverified HTTPS request is being made to host 'www.chinanews.com'. Adding certificate verification is strongly advised. See: https://urllib3.readthedocs.io/en/latest/advanced-usage.html#tls-warnings\n",
            "  warnings.warn(\n"
          ]
        },
        {
          "metadata": {
            "tags": null
          },
          "name": "stdout",
          "output_type": "stream",
          "text": [
            "Downloaded and saved HTML: https://www.chinanews.com/ai-chinanews/\n"
          ]
        },
        {
          "metadata": {
            "tags": null
          },
          "name": "stderr",
          "output_type": "stream",
          "text": [
            "/usr/local/lib/python3.10/dist-packages/urllib3/connectionpool.py:1099: InsecureRequestWarning: Unverified HTTPS request is being made to host 'www.chinanews.com.cn'. Adding certificate verification is strongly advised. See: https://urllib3.readthedocs.io/en/latest/advanced-usage.html#tls-warnings\n",
            "  warnings.warn(\n"
          ]
        },
        {
          "metadata": {
            "tags": null
          },
          "name": "stdout",
          "output_type": "stream",
          "text": [
            "Downloaded and saved HTML: https://www.chinanews.com.cn/cnspp/pp-sjg/index.shtml\n"
          ]
        },
        {
          "metadata": {
            "tags": null
          },
          "name": "stderr",
          "output_type": "stream",
          "text": [
            "/usr/local/lib/python3.10/dist-packages/urllib3/connectionpool.py:1099: InsecureRequestWarning: Unverified HTTPS request is being made to host 'www.chinanews.com.cn'. Adding certificate verification is strongly advised. See: https://urllib3.readthedocs.io/en/latest/advanced-usage.html#tls-warnings\n",
            "  warnings.warn(\n"
          ]
        },
        {
          "metadata": {
            "tags": null
          },
          "name": "stdout",
          "output_type": "stream",
          "text": [
            "Downloaded and saved HTML: https://www.chinanews.com.cn/cnspp/pp-dh/index.shtml\n"
          ]
        },
        {
          "metadata": {
            "tags": null
          },
          "name": "stderr",
          "output_type": "stream",
          "text": [
            "/usr/local/lib/python3.10/dist-packages/urllib3/connectionpool.py:1099: InsecureRequestWarning: Unverified HTTPS request is being made to host 'www.chinanews.com.cn'. Adding certificate verification is strongly advised. See: https://urllib3.readthedocs.io/en/latest/advanced-usage.html#tls-warnings\n",
            "  warnings.warn(\n"
          ]
        },
        {
          "metadata": {
            "tags": null
          },
          "name": "stdout",
          "output_type": "stream",
          "text": [
            "Downloaded and saved HTML: https://www.chinanews.com.cn/cnspp/pp-visit/index.shtml\n"
          ]
        },
        {
          "metadata": {
            "tags": null
          },
          "name": "stderr",
          "output_type": "stream",
          "text": [
            "/usr/local/lib/python3.10/dist-packages/urllib3/connectionpool.py:1099: InsecureRequestWarning: Unverified HTTPS request is being made to host 'www.chinanews.com.cn'. Adding certificate verification is strongly advised. See: https://urllib3.readthedocs.io/en/latest/advanced-usage.html#tls-warnings\n",
            "  warnings.warn(\n"
          ]
        },
        {
          "metadata": {
            "tags": null
          },
          "name": "stdout",
          "output_type": "stream",
          "text": [
            "Downloaded and saved HTML: https://www.chinanews.com.cn/cnspp/pp-zwdh/index.shtml\n"
          ]
        },
        {
          "metadata": {
            "tags": null
          },
          "name": "stderr",
          "output_type": "stream",
          "text": [
            "/usr/local/lib/python3.10/dist-packages/urllib3/connectionpool.py:1099: InsecureRequestWarning: Unverified HTTPS request is being made to host 'www.chinanews.com.cn'. Adding certificate verification is strongly advised. See: https://urllib3.readthedocs.io/en/latest/advanced-usage.html#tls-warnings\n",
            "  warnings.warn(\n"
          ]
        },
        {
          "metadata": {
            "tags": null
          },
          "name": "stdout",
          "output_type": "stream",
          "text": [
            "Downloaded and saved HTML: https://www.chinanews.com.cn/cnspp/pp-zgxgc/index.shtml\n"
          ]
        },
        {
          "metadata": {
            "tags": null
          },
          "name": "stderr",
          "output_type": "stream",
          "text": [
            "/usr/local/lib/python3.10/dist-packages/urllib3/connectionpool.py:1099: InsecureRequestWarning: Unverified HTTPS request is being made to host 'www.chinanews.com.cn'. Adding certificate verification is strongly advised. See: https://urllib3.readthedocs.io/en/latest/advanced-usage.html#tls-warnings\n",
            "  warnings.warn(\n"
          ]
        },
        {
          "metadata": {
            "tags": null
          },
          "name": "stdout",
          "output_type": "stream",
          "text": [
            "Downloaded and saved HTML: https://www.chinanews.com.cn/cnspp/pp-yxgc/index.shtml\n",
            "Failed to download http://www.ccdi.gov.cn/\n"
          ]
        },
        {
          "metadata": {
            "tags": null
          },
          "name": "stderr",
          "output_type": "stream",
          "text": [
            "/usr/local/lib/python3.10/dist-packages/urllib3/connectionpool.py:1099: InsecureRequestWarning: Unverified HTTPS request is being made to host 'www.zytzb.gov.cn'. Adding certificate verification is strongly advised. See: https://urllib3.readthedocs.io/en/latest/advanced-usage.html#tls-warnings\n",
            "  warnings.warn(\n"
          ]
        },
        {
          "metadata": {
            "tags": null
          },
          "name": "stdout",
          "output_type": "stream",
          "text": [
            "Downloaded and saved HTML: http://www.zytzb.gov.cn/\n"
          ]
        },
        {
          "metadata": {
            "tags": null
          },
          "name": "stderr",
          "output_type": "stream",
          "text": [
            "/usr/local/lib/python3.10/dist-packages/urllib3/connectionpool.py:1099: InsecureRequestWarning: Unverified HTTPS request is being made to host 'www.fmprc.gov.cn'. Adding certificate verification is strongly advised. See: https://urllib3.readthedocs.io/en/latest/advanced-usage.html#tls-warnings\n",
            "  warnings.warn(\n"
          ]
        },
        {
          "metadata": {
            "tags": null
          },
          "name": "stdout",
          "output_type": "stream",
          "text": [
            "Downloaded and saved HTML: http://www.fmprc.gov.cn/\n"
          ]
        },
        {
          "metadata": {
            "tags": null
          },
          "name": "stderr",
          "output_type": "stream",
          "text": [
            "/usr/local/lib/python3.10/dist-packages/urllib3/connectionpool.py:1099: InsecureRequestWarning: Unverified HTTPS request is being made to host 'www.gqb.gov.cn'. Adding certificate verification is strongly advised. See: https://urllib3.readthedocs.io/en/latest/advanced-usage.html#tls-warnings\n",
            "  warnings.warn(\n"
          ]
        },
        {
          "metadata": {
            "tags": null
          },
          "name": "stdout",
          "output_type": "stream",
          "text": [
            "Downloaded and saved HTML: http://www.gqb.gov.cn/\n",
            "Downloaded and saved HTML: http://www.gwytb.gov.cn/\n",
            "An error occurred while downloading http://www.people.com.cn/: 'gb2312' codec can't decode byte 0x88 in position 88411: illegal multibyte sequence\n",
            "Downloaded and saved HTML: http://www.xinhuanet.com/\n",
            "Downloaded and saved HTML: http://www.china.com.cn/\n"
          ]
        },
        {
          "metadata": {
            "tags": null
          },
          "name": "stderr",
          "output_type": "stream",
          "text": [
            "/usr/local/lib/python3.10/dist-packages/urllib3/connectionpool.py:1099: InsecureRequestWarning: Unverified HTTPS request is being made to host 'www.cri.cn'. Adding certificate verification is strongly advised. See: https://urllib3.readthedocs.io/en/latest/advanced-usage.html#tls-warnings\n",
            "  warnings.warn(\n"
          ]
        },
        {
          "metadata": {
            "tags": null
          },
          "name": "stdout",
          "output_type": "stream",
          "text": [
            "Downloaded and saved HTML: http://www.cri.cn/\n",
            "Downloaded and saved HTML: http://cn.chinadaily.com.cn/\n"
          ]
        },
        {
          "metadata": {
            "tags": null
          },
          "name": "stderr",
          "output_type": "stream",
          "text": [
            "/usr/local/lib/python3.10/dist-packages/urllib3/connectionpool.py:1099: InsecureRequestWarning: Unverified HTTPS request is being made to host 'www.cctv.com'. Adding certificate verification is strongly advised. See: https://urllib3.readthedocs.io/en/latest/advanced-usage.html#tls-warnings\n",
            "  warnings.warn(\n"
          ]
        },
        {
          "metadata": {
            "tags": null
          },
          "name": "stdout",
          "output_type": "stream",
          "text": [
            "Downloaded and saved HTML: http://www.cctv.com/\n"
          ]
        },
        {
          "metadata": {
            "tags": null
          },
          "name": "stderr",
          "output_type": "stream",
          "text": [
            "/usr/local/lib/python3.10/dist-packages/urllib3/connectionpool.py:1099: InsecureRequestWarning: Unverified HTTPS request is being made to host 'www.youth.cn'. Adding certificate verification is strongly advised. See: https://urllib3.readthedocs.io/en/latest/advanced-usage.html#tls-warnings\n",
            "  warnings.warn(\n"
          ]
        },
        {
          "metadata": {
            "tags": null
          },
          "name": "stdout",
          "output_type": "stream",
          "text": [
            "Downloaded and saved HTML: http://www.youth.cn/\n",
            "Downloaded and saved HTML: http://www.ce.cn/\n",
            "Downloaded and saved HTML: http://www.taiwan.cn/\n",
            "Downloaded and saved HTML: http://www.tibet.cn/\n",
            "Downloaded and saved HTML: http://www.cnr.cn/\n"
          ]
        },
        {
          "metadata": {
            "tags": null
          },
          "name": "stderr",
          "output_type": "stream",
          "text": [
            "/usr/local/lib/python3.10/dist-packages/urllib3/connectionpool.py:1099: InsecureRequestWarning: Unverified HTTPS request is being made to host 'www.gmw.cn'. Adding certificate verification is strongly advised. See: https://urllib3.readthedocs.io/en/latest/advanced-usage.html#tls-warnings\n",
            "  warnings.warn(\n"
          ]
        },
        {
          "metadata": {
            "tags": null
          },
          "name": "stdout",
          "output_type": "stream",
          "text": [
            "Downloaded and saved HTML: http://www.gmw.cn/\n",
            "Downloaded and saved HTML: http://www.chinamil.com.cn/\n",
            "Downloaded and saved HTML: http://www.rmzxb.com.cn/index.shtml\n",
            "Downloaded and saved HTML: http://www.legaldaily.com.cn/\n"
          ]
        },
        {
          "metadata": {
            "tags": null
          },
          "name": "stderr",
          "output_type": "stream",
          "text": [
            "/usr/local/lib/python3.10/dist-packages/urllib3/connectionpool.py:1099: InsecureRequestWarning: Unverified HTTPS request is being made to host 'www.globalpeople.com.cn'. Adding certificate verification is strongly advised. See: https://urllib3.readthedocs.io/en/latest/advanced-usage.html#tls-warnings\n",
            "  warnings.warn(\n"
          ]
        },
        {
          "metadata": {
            "tags": null
          },
          "name": "stdout",
          "output_type": "stream",
          "text": [
            "Downloaded and saved HTML: https://www.globalpeople.com.cn/\n",
            "Failed to download http://www.cyol.com/\n"
          ]
        },
        {
          "metadata": {
            "tags": null
          },
          "name": "stderr",
          "output_type": "stream",
          "text": [
            "/usr/local/lib/python3.10/dist-packages/urllib3/connectionpool.py:1099: InsecureRequestWarning: Unverified HTTPS request is being made to host 'www.chinaqw.com'. Adding certificate verification is strongly advised. See: https://urllib3.readthedocs.io/en/latest/advanced-usage.html#tls-warnings\n",
            "  warnings.warn(\n"
          ]
        },
        {
          "metadata": {
            "tags": null
          },
          "name": "stdout",
          "output_type": "stream",
          "text": [
            "Downloaded and saved HTML: http://www.chinaqw.com/\n"
          ]
        },
        {
          "metadata": {
            "tags": null
          },
          "name": "stderr",
          "output_type": "stream",
          "text": [
            "/usr/local/lib/python3.10/dist-packages/urllib3/connectionpool.py:1099: InsecureRequestWarning: Unverified HTTPS request is being made to host 'www.jwview.com'. Adding certificate verification is strongly advised. See: https://urllib3.readthedocs.io/en/latest/advanced-usage.html#tls-warnings\n",
            "  warnings.warn(\n"
          ]
        },
        {
          "metadata": {
            "tags": null
          },
          "name": "stdout",
          "output_type": "stream",
          "text": [
            "An error occurred while downloading https://www.jwview.com/: 'gb2312' codec can't decode byte 0xac in position 57883: illegal multibyte sequence\n"
          ]
        },
        {
          "metadata": {
            "tags": null
          },
          "name": "stderr",
          "output_type": "stream",
          "text": [
            "/usr/local/lib/python3.10/dist-packages/urllib3/connectionpool.py:1099: InsecureRequestWarning: Unverified HTTPS request is being made to host 'www.inewsweek.cn'. Adding certificate verification is strongly advised. See: https://urllib3.readthedocs.io/en/latest/advanced-usage.html#tls-warnings\n",
            "  warnings.warn(\n"
          ]
        },
        {
          "metadata": {
            "tags": null
          },
          "name": "stdout",
          "output_type": "stream",
          "text": [
            "Downloaded and saved HTML: https://www.inewsweek.cn/\n"
          ]
        },
        {
          "metadata": {
            "tags": null
          },
          "name": "stderr",
          "output_type": "stream",
          "text": [
            "/usr/local/lib/python3.10/dist-packages/urllib3/connectionpool.py:1099: InsecureRequestWarning: Unverified HTTPS request is being made to host 'www.chinanews.com'. Adding certificate verification is strongly advised. See: https://urllib3.readthedocs.io/en/latest/advanced-usage.html#tls-warnings\n",
            "  warnings.warn(\n"
          ]
        },
        {
          "metadata": {
            "tags": null
          },
          "name": "stdout",
          "output_type": "stream",
          "text": [
            "Downloaded and saved HTML: https://www.chinanews.com/gsztc/\n",
            "Downloaded and saved HTML: http://epaper.chinanews.com/\n",
            "Downloaded and saved HTML: http://www.cnsphoto.com/\n"
          ]
        },
        {
          "metadata": {
            "tags": null
          },
          "name": "stderr",
          "output_type": "stream",
          "text": [
            "/usr/local/lib/python3.10/dist-packages/urllib3/connectionpool.py:1099: InsecureRequestWarning: Unverified HTTPS request is being made to host 'www.hwjyw.com'. Adding certificate verification is strongly advised. See: https://urllib3.readthedocs.io/en/latest/advanced-usage.html#tls-warnings\n",
            "  warnings.warn(\n"
          ]
        },
        {
          "metadata": {
            "tags": null
          },
          "name": "stdout",
          "output_type": "stream",
          "text": [
            "Downloaded and saved HTML: http://www.hwjyw.com/\n"
          ]
        },
        {
          "metadata": {
            "tags": null
          },
          "name": "stderr",
          "output_type": "stream",
          "text": [
            "/usr/local/lib/python3.10/dist-packages/urllib3/connectionpool.py:1099: InsecureRequestWarning: Unverified HTTPS request is being made to host 'www.chinacourt.org'. Adding certificate verification is strongly advised. See: https://urllib3.readthedocs.io/en/latest/advanced-usage.html#tls-warnings\n",
            "  warnings.warn(\n"
          ]
        },
        {
          "metadata": {
            "tags": null
          },
          "name": "stdout",
          "output_type": "stream",
          "text": [
            "Failed to download http://www.chinacourt.org/\n",
            "Downloaded and saved HTML: http://www.thebeijingnews.com/\n"
          ]
        },
        {
          "metadata": {
            "tags": null
          },
          "name": "stderr",
          "output_type": "stream",
          "text": [
            "/usr/local/lib/python3.10/dist-packages/urllib3/connectionpool.py:1099: InsecureRequestWarning: Unverified HTTPS request is being made to host 'www.qianlong.com'. Adding certificate verification is strongly advised. See: https://urllib3.readthedocs.io/en/latest/advanced-usage.html#tls-warnings\n",
            "  warnings.warn(\n"
          ]
        },
        {
          "metadata": {
            "tags": null
          },
          "name": "stdout",
          "output_type": "stream",
          "text": [
            "Downloaded and saved HTML: http://www.qianlong.com/\n",
            "An error occurred while downloading http://www.enorth.com.cn/: ('Connection aborted.', ConnectionResetError(104, 'Connection reset by peer'))\n",
            "Downloaded and saved HTML: http://www.hebei.com.cn/\n",
            "Failed to download http://www.nen.com.cn/\n"
          ]
        },
        {
          "metadata": {
            "tags": null
          },
          "name": "stderr",
          "output_type": "stream",
          "text": [
            "/usr/local/lib/python3.10/dist-packages/urllib3/connectionpool.py:1099: InsecureRequestWarning: Unverified HTTPS request is being made to host 'www.dbw.cn'. Adding certificate verification is strongly advised. See: https://urllib3.readthedocs.io/en/latest/advanced-usage.html#tls-warnings\n",
            "  warnings.warn(\n"
          ]
        },
        {
          "metadata": {
            "tags": null
          },
          "name": "stdout",
          "output_type": "stream",
          "text": [
            "Failed to download https://www.dbw.cn/\n",
            "An error occurred while downloading http://www.jiaodong.net/: ('Connection aborted.', RemoteDisconnected('Remote end closed connection without response'))\n"
          ]
        },
        {
          "metadata": {
            "tags": null
          },
          "name": "stderr",
          "output_type": "stream",
          "text": [
            "/usr/local/lib/python3.10/dist-packages/urllib3/connectionpool.py:1099: InsecureRequestWarning: Unverified HTTPS request is being made to host 'www.rednet.cn'. Adding certificate verification is strongly advised. See: https://urllib3.readthedocs.io/en/latest/advanced-usage.html#tls-warnings\n",
            "  warnings.warn(\n"
          ]
        },
        {
          "metadata": {
            "tags": null
          },
          "name": "stdout",
          "output_type": "stream",
          "text": [
            "Downloaded and saved HTML: http://www.rednet.cn/\n"
          ]
        },
        {
          "metadata": {
            "tags": null
          },
          "name": "stderr",
          "output_type": "stream",
          "text": [
            "/usr/local/lib/python3.10/dist-packages/urllib3/connectionpool.py:1099: InsecureRequestWarning: Unverified HTTPS request is being made to host 'www.southcn.com'. Adding certificate verification is strongly advised. See: https://urllib3.readthedocs.io/en/latest/advanced-usage.html#tls-warnings\n",
            "  warnings.warn(\n"
          ]
        },
        {
          "metadata": {
            "tags": null
          },
          "name": "stdout",
          "output_type": "stream",
          "text": [
            "Downloaded and saved HTML: http://www.southcn.com/\n",
            "Downloaded and saved HTML: http://www.cqnews.net/\n",
            "An error occurred while downloading http://www.newssc.org/: HTTPConnectionPool(host='www.newssc.org', port=80): Max retries exceeded with url: / (Caused by NameResolutionError(\"<urllib3.connection.HTTPConnection object at 0x7bbd531896f0>: Failed to resolve 'www.newssc.org' ([Errno -2] Name or service not known)\"))\n",
            "Failed to download http://www.sctv.com/\n"
          ]
        },
        {
          "metadata": {
            "tags": null
          },
          "name": "stderr",
          "output_type": "stream",
          "text": [
            "/usr/local/lib/python3.10/dist-packages/urllib3/connectionpool.py:1099: InsecureRequestWarning: Unverified HTTPS request is being made to host 'news.sina.com.cn'. Adding certificate verification is strongly advised. See: https://urllib3.readthedocs.io/en/latest/advanced-usage.html#tls-warnings\n",
            "  warnings.warn(\n"
          ]
        },
        {
          "metadata": {
            "tags": null
          },
          "name": "stdout",
          "output_type": "stream",
          "text": [
            "An error occurred while downloading https://news.sina.com.cn/: 'charmap' codec can't decode byte 0x81 in position 271: character maps to <undefined>\n",
            "Failed to download http://news.sohu.com/\n"
          ]
        },
        {
          "metadata": {
            "tags": null
          },
          "name": "stderr",
          "output_type": "stream",
          "text": [
            "/usr/local/lib/python3.10/dist-packages/urllib3/connectionpool.py:1099: InsecureRequestWarning: Unverified HTTPS request is being made to host 'news.163.com'. Adding certificate verification is strongly advised. See: https://urllib3.readthedocs.io/en/latest/advanced-usage.html#tls-warnings\n",
            "  warnings.warn(\n"
          ]
        },
        {
          "metadata": {
            "tags": null
          },
          "name": "stdout",
          "output_type": "stream",
          "text": [
            "Downloaded and saved HTML: https://news.163.com/\n"
          ]
        },
        {
          "metadata": {
            "tags": null
          },
          "name": "stderr",
          "output_type": "stream",
          "text": [
            "/usr/local/lib/python3.10/dist-packages/urllib3/connectionpool.py:1099: InsecureRequestWarning: Unverified HTTPS request is being made to host 'news.qq.com'. Adding certificate verification is strongly advised. See: https://urllib3.readthedocs.io/en/latest/advanced-usage.html#tls-warnings\n",
            "  warnings.warn(\n"
          ]
        },
        {
          "metadata": {
            "tags": null
          },
          "name": "stdout",
          "output_type": "stream",
          "text": [
            "Downloaded and saved HTML: https://news.qq.com/\n"
          ]
        },
        {
          "metadata": {
            "tags": null
          },
          "name": "stderr",
          "output_type": "stream",
          "text": [
            "/usr/local/lib/python3.10/dist-packages/urllib3/connectionpool.py:1099: InsecureRequestWarning: Unverified HTTPS request is being made to host 'www.chinanews.com'. Adding certificate verification is strongly advised. See: https://urllib3.readthedocs.io/en/latest/advanced-usage.html#tls-warnings\n",
            "  warnings.warn(\n"
          ]
        },
        {
          "metadata": {
            "tags": null
          },
          "name": "stdout",
          "output_type": "stream",
          "text": [
            "Downloaded and saved HTML: https://www.chinanews.com/common/footer/intro.shtml\n"
          ]
        },
        {
          "metadata": {
            "tags": null
          },
          "name": "stderr",
          "output_type": "stream",
          "text": [
            "/usr/local/lib/python3.10/dist-packages/urllib3/connectionpool.py:1099: InsecureRequestWarning: Unverified HTTPS request is being made to host 'www.chinanews.com'. Adding certificate verification is strongly advised. See: https://urllib3.readthedocs.io/en/latest/advanced-usage.html#tls-warnings\n",
            "  warnings.warn(\n"
          ]
        },
        {
          "metadata": {
            "tags": null
          },
          "name": "stdout",
          "output_type": "stream",
          "text": [
            "Downloaded and saved HTML: https://www.chinanews.com/common/footer/aboutus.shtml\n"
          ]
        },
        {
          "metadata": {
            "tags": null
          },
          "name": "stderr",
          "output_type": "stream",
          "text": [
            "/usr/local/lib/python3.10/dist-packages/urllib3/connectionpool.py:1099: InsecureRequestWarning: Unverified HTTPS request is being made to host 'www.chinanews.com'. Adding certificate verification is strongly advised. See: https://urllib3.readthedocs.io/en/latest/advanced-usage.html#tls-warnings\n",
            "  warnings.warn(\n"
          ]
        },
        {
          "metadata": {
            "tags": null
          },
          "name": "stdout",
          "output_type": "stream",
          "text": [
            "Downloaded and saved HTML: https://www.chinanews.com/common/footer/contact.shtml\n"
          ]
        },
        {
          "metadata": {
            "tags": null
          },
          "name": "stderr",
          "output_type": "stream",
          "text": [
            "/usr/local/lib/python3.10/dist-packages/urllib3/connectionpool.py:1099: InsecureRequestWarning: Unverified HTTPS request is being made to host 'ad.chinanews.com.cn'. Adding certificate verification is strongly advised. See: https://urllib3.readthedocs.io/en/latest/advanced-usage.html#tls-warnings\n",
            "  warnings.warn(\n",
            "/usr/local/lib/python3.10/dist-packages/urllib3/connectionpool.py:1099: InsecureRequestWarning: Unverified HTTPS request is being made to host 'ad.chinanews.com'. Adding certificate verification is strongly advised. See: https://urllib3.readthedocs.io/en/latest/advanced-usage.html#tls-warnings\n",
            "  warnings.warn(\n"
          ]
        },
        {
          "metadata": {
            "tags": null
          },
          "name": "stdout",
          "output_type": "stream",
          "text": [
            "Downloaded and saved HTML: https://ad.chinanews.com.cn/\n"
          ]
        },
        {
          "metadata": {
            "tags": null
          },
          "name": "stderr",
          "output_type": "stream",
          "text": [
            "/usr/local/lib/python3.10/dist-packages/urllib3/connectionpool.py:1099: InsecureRequestWarning: Unverified HTTPS request is being made to host 'www.chinanews.com'. Adding certificate verification is strongly advised. See: https://urllib3.readthedocs.io/en/latest/advanced-usage.html#tls-warnings\n",
            "  warnings.warn(\n"
          ]
        },
        {
          "metadata": {
            "tags": null
          },
          "name": "stdout",
          "output_type": "stream",
          "text": [
            "Downloaded and saved HTML: https://www.chinanews.com/common/footer/news-service.shtml\n"
          ]
        },
        {
          "metadata": {
            "tags": null
          },
          "name": "stderr",
          "output_type": "stream",
          "text": [
            "/usr/local/lib/python3.10/dist-packages/urllib3/connectionpool.py:1099: InsecureRequestWarning: Unverified HTTPS request is being made to host 'www.chinanews.com'. Adding certificate verification is strongly advised. See: https://urllib3.readthedocs.io/en/latest/advanced-usage.html#tls-warnings\n",
            "  warnings.warn(\n"
          ]
        },
        {
          "metadata": {
            "tags": null
          },
          "name": "stdout",
          "output_type": "stream",
          "text": [
            "Downloaded and saved HTML: https://www.chinanews.com/common/footer/law.shtml\n"
          ]
        },
        {
          "metadata": {
            "tags": null
          },
          "name": "stderr",
          "output_type": "stream",
          "text": [
            "/usr/local/lib/python3.10/dist-packages/urllib3/connectionpool.py:1099: InsecureRequestWarning: Unverified HTTPS request is being made to host 'www.chinanews.com'. Adding certificate verification is strongly advised. See: https://urllib3.readthedocs.io/en/latest/advanced-usage.html#tls-warnings\n",
            "  warnings.warn(\n"
          ]
        },
        {
          "metadata": {
            "tags": null
          },
          "name": "stdout",
          "output_type": "stream",
          "text": [
            "Downloaded and saved HTML: https://www.chinanews.com/hr/\n",
            "Downloaded and saved HTML: https://www.chinanews.com/common/footer/sitemap.shtml\n",
            "Downloaded and saved HTML: https://www.chinanews.com/news/xuke.html\n"
          ]
        },
        {
          "metadata": {
            "tags": null
          },
          "name": "stderr",
          "output_type": "stream",
          "text": [
            "/usr/local/lib/python3.10/dist-packages/urllib3/connectionpool.py:1099: InsecureRequestWarning: Unverified HTTPS request is being made to host 'www.chinanews.com'. Adding certificate verification is strongly advised. See: https://urllib3.readthedocs.io/en/latest/advanced-usage.html#tls-warnings\n",
            "  warnings.warn(\n",
            "/usr/local/lib/python3.10/dist-packages/urllib3/connectionpool.py:1099: InsecureRequestWarning: Unverified HTTPS request is being made to host 'www.chinanews.com'. Adding certificate verification is strongly advised. See: https://urllib3.readthedocs.io/en/latest/advanced-usage.html#tls-warnings\n",
            "  warnings.warn(\n",
            "/usr/local/lib/python3.10/dist-packages/urllib3/connectionpool.py:1099: InsecureRequestWarning: Unverified HTTPS request is being made to host 'beian.miit.gov.cn'. Adding certificate verification is strongly advised. See: https://urllib3.readthedocs.io/en/latest/advanced-usage.html#tls-warnings\n",
            "  warnings.warn(\n"
          ]
        },
        {
          "metadata": {
            "tags": null
          },
          "name": "stdout",
          "output_type": "stream",
          "text": [
            "Failed to download https://beian.miit.gov.cn\n",
            "An error occurred while downloading http://www.beian.gov.cn/portal/registerSystemInfo?recordcode=11010202009201: HTTPConnectionPool(host='www.beian.gov.cn', port=80): Max retries exceeded with url: /portal/registerSystemInfo?recordcode=11010202009201 (Caused by NewConnectionError('<urllib3.connection.HTTPConnection object at 0x7bbd53188d00>: Failed to establish a new connection: [Errno 111] Connection refused'))\n"
          ]
        },
        {
          "metadata": {
            "tags": null
          },
          "name": "stderr",
          "output_type": "stream",
          "text": [
            "/usr/local/lib/python3.10/dist-packages/urllib3/connectionpool.py:1099: InsecureRequestWarning: Unverified HTTPS request is being made to host 'beian.miit.gov.cn'. Adding certificate verification is strongly advised. See: https://urllib3.readthedocs.io/en/latest/advanced-usage.html#tls-warnings\n",
            "  warnings.warn(\n"
          ]
        },
        {
          "metadata": {
            "tags": null
          },
          "name": "stdout",
          "output_type": "stream",
          "text": [
            "Failed to download https://beian.miit.gov.cn\n"
          ]
        },
        {
          "metadata": {
            "tags": null
          },
          "name": "stderr",
          "output_type": "stream",
          "text": [
            "/usr/local/lib/python3.10/dist-packages/urllib3/connectionpool.py:1099: InsecureRequestWarning: Unverified HTTPS request is being made to host 'www.chinanews.com'. Adding certificate verification is strongly advised. See: https://urllib3.readthedocs.io/en/latest/advanced-usage.html#tls-warnings\n",
            "  warnings.warn(\n"
          ]
        },
        {
          "metadata": {
            "tags": null
          },
          "name": "stdout",
          "output_type": "stream",
          "text": [
            "Downloaded and saved HTML: https://www.chinanews.com/news/zjxuke.html\n"
          ]
        },
        {
          "metadata": {
            "tags": null
          },
          "name": "stderr",
          "output_type": "stream",
          "text": [
            "/usr/local/lib/python3.10/dist-packages/urllib3/connectionpool.py:1099: InsecureRequestWarning: Unverified HTTPS request is being made to host 'image.cns.com.cn'. Adding certificate verification is strongly advised. See: https://urllib3.readthedocs.io/en/latest/advanced-usage.html#tls-warnings\n",
            "  warnings.warn(\n",
            "/usr/local/lib/python3.10/dist-packages/urllib3/connectionpool.py:1099: InsecureRequestWarning: Unverified HTTPS request is being made to host 'www.chinanews.com'. Adding certificate verification is strongly advised. See: https://urllib3.readthedocs.io/en/latest/advanced-usage.html#tls-warnings\n",
            "  warnings.warn(\n"
          ]
        },
        {
          "output_type": "stream",
          "name": "stdout",
          "text": [
            "Skipping non-HTML, non-DOCX, non-PDF content: https://image.cns.com.cn/default/113c4582/20240924/certificate01.jpg\n",
            "An error occurred while downloading https://www.chinanews.com/kong/2018/01-17/8426100.shtml: 'charmap' codec can't decode byte 0x8e in position 17065: character maps to <undefined>\n",
            "All HTML, DOCX, and PDF files combined into combined_pages_www.chinanews.com.html\n",
            "Proximity analysis complete. Results saved in keyword_proximity_results_www.chinanews.com.csv\n"
          ]
        }
      ],
      "source": [
        "import requests\n",
        "from bs4 import BeautifulSoup\n",
        "import os\n",
        "import re\n",
        "import csv\n",
        "from docx import Document\n",
        "from PyPDF2 import PdfReader\n",
        "from urllib.parse import urljoin, urlparse\n",
        "from requests.adapters import HTTPAdapter\n",
        "from requests.packages.urllib3.util.retry import Retry\n",
        "import ssl\n",
        "from urllib3.poolmanager import PoolManager\n",
        "import chardet\n",
        "from ftfy import fix_text\n",
        "\n",
        "# Initial setup for the main website URL\n",
        "url = 'https://www.chinanews.com/'\n",
        "\n",
        "# Step 1: Fetch the main webpage content\n",
        "response = requests.get(url)\n",
        "\n",
        "if response.status_code == 200:\n",
        "    print(\"Successfully fetched the main page!\")\n",
        "    # Detect encoding using chardet\n",
        "    detected_encoding = chardet.detect(response.content)['encoding']\n",
        "    page_content = response.content.decode(detected_encoding)\n",
        "else:\n",
        "    print(f\"Failed to retrieve the main page. Status code: {response.status_code}\")\n",
        "\n",
        "# Step 2: Parse the main page to find all subpage links\n",
        "soup = BeautifulSoup(page_content, \"html.parser\")\n",
        "links = soup.find_all('a', href=True)\n",
        "\n",
        "# Step 3: Store subpage URLs in a list\n",
        "subpage_urls = []\n",
        "for link in links:\n",
        "    href = link['href']\n",
        "    full_url = urljoin(url, href)\n",
        "    parsed_url = urlparse(full_url)\n",
        "\n",
        "    # Only add URLs with HTTP or HTTPS schemes\n",
        "    if parsed_url.scheme in ['http', 'https']:\n",
        "        subpage_urls.append(full_url)\n",
        "\n",
        "# Step 4: Configure session with retries and SSL/TLS context handling\n",
        "retries = Retry(total=5, backoff_factor=0.3, status_forcelist=[500, 502, 503, 504])\n",
        "\n",
        "class TLSAdapter(HTTPAdapter):\n",
        "    def init_poolmanager(self, *args, **kwargs):\n",
        "        context = ssl.create_default_context(ssl.Purpose.CLIENT_AUTH)\n",
        "        context.options |= ssl.OP_NO_TLSv1 | ssl.OP_NO_TLSv1_1  # Force TLSv1.2 or higher\n",
        "        kwargs['ssl_context'] = context\n",
        "        return super(TLSAdapter, self).init_poolmanager(*args, **kwargs)\n",
        "\n",
        "# Set up session\n",
        "session = requests.Session()\n",
        "session.mount('https://', TLSAdapter())\n",
        "session.mount('https://', HTTPAdapter(max_retries=retries))\n",
        "\n",
        "# Step 5: Download and handle each subpage content\n",
        "downloaded_html_files = []\n",
        "docx_texts = []\n",
        "pdf_texts = []\n",
        "\n",
        "for subpage_url in subpage_urls:\n",
        "    try:\n",
        "        subpage_response = session.get(subpage_url, verify=False)\n",
        "\n",
        "        if subpage_response.status_code == 200:\n",
        "            content_type = subpage_response.headers['Content-Type']\n",
        "\n",
        "            if 'text/html' in content_type:\n",
        "                subpage_name = subpage_url.split(\"/\")[-1] or 'index'\n",
        "                if not subpage_name.endswith('.html'):\n",
        "                    file_name = f\"{subpage_name}.html\"\n",
        "                else:\n",
        "                    file_name = subpage_name\n",
        "\n",
        "                # Detect encoding of subpage content\n",
        "                detected_encoding = chardet.detect(subpage_response.content)['encoding']\n",
        "                subpage_content = subpage_response.content.decode(detected_encoding)\n",
        "                fixed_subpage_content = fix_text(subpage_content)\n",
        "\n",
        "                with open(file_name, \"w\", encoding=\"utf-8\") as f:\n",
        "                    f.write(fixed_subpage_content)\n",
        "                downloaded_html_files.append(file_name)\n",
        "                print(f\"Downloaded and saved HTML: {subpage_url}\")\n",
        "            elif 'application/vnd.openxmlformats-officedocument.wordprocessingml.document' in content_type:\n",
        "                docx_file_name = subpage_url.split(\"/\")[-1]\n",
        "                with open(docx_file_name, \"wb\") as f:\n",
        "                    f.write(subpage_response.content)\n",
        "                doc = Document(docx_file_name)\n",
        "                docx_text = \"\\n\".join([para.text for para in doc.paragraphs])\n",
        "                docx_texts.append(docx_text)\n",
        "                print(f\"Downloaded and extracted DOCX: {subpage_url}\")\n",
        "            elif 'application/pdf' in content_type:\n",
        "                pdf_file_name = subpage_url.split(\"/\")[-1]\n",
        "                with open(pdf_file_name, \"wb\") as f:\n",
        "                    f.write(subpage_response.content)\n",
        "                pdf_reader = PdfReader(pdf_file_name)\n",
        "                pdf_text = \"\"\n",
        "                for page in pdf_reader.pages:\n",
        "                    pdf_text += page.extract_text()\n",
        "                pdf_texts.append(pdf_text)\n",
        "                print(f\"Downloaded and extracted PDF: {subpage_url}\")\n",
        "            else:\n",
        "                print(f\"Skipping non-HTML, non-DOCX, non-PDF content: {subpage_url}\")\n",
        "        else:\n",
        "            print(f\"Failed to download {subpage_url}\")\n",
        "    except requests.exceptions.SSLError as e:\n",
        "        print(f\"SSL error occurred while downloading {subpage_url}: {e}\")\n",
        "    except Exception as e:\n",
        "        print(f\"An error occurred while downloading {subpage_url}: {e}\")\n",
        "\n",
        "# Step 6: Combine all HTML, DOCX, and PDF files into a single file\n",
        "combined_file = \"combined_pages_www.chinanews.com.html\"\n",
        "with open(combined_file, \"w\", encoding=\"utf-8\") as outfile:\n",
        "    # Combine HTML files\n",
        "    for file_name in downloaded_html_files:\n",
        "        if os.path.exists(file_name):\n",
        "            with open(file_name, \"r\", encoding=\"utf-8\") as infile:\n",
        "                outfile.write(infile.read())\n",
        "                outfile.write(\"\\n\\n\")\n",
        "    # Combine DOCX text\n",
        "    for docx_text in docx_texts:\n",
        "        outfile.write(docx_text)\n",
        "        outfile.write(\"\\n\\n\")\n",
        "    # Combine PDF text\n",
        "    for pdf_text in pdf_texts:\n",
        "        outfile.write(pdf_text)\n",
        "        outfile.write(\"\\n\\n\")\n",
        "\n",
        "print(f\"All HTML, DOCX, and PDF files combined into {combined_file}\")\n",
        "\n",
        "# Step 7: Extract text and search for specific Chinese strings\n",
        "chinese_strings = [ \"休斯顿和统会\", \"佛罗里达和统会\", \"侨联之友\", \"俄勒冈统促会\", \"全球华人反邪教联盟\",\n",
        "    \"全美中国和平统一促进联合会\", \"全美反独促统联盟\", \"关岛和统会\", \"凤凰城和统会\", \"加州中谷和统会\",\n",
        "    \"加州首府和统会\", \"北京同乡会\", \"北加州和统会\", \"北美统促联合总会\", \"华夏政略研究会\",\n",
        "    \"华盛顿中国和平统一促进会\", \"华盛顿华人社区联盟\", \"华盛顿州中国统一促进会\", \"南加台山联谊会\",\n",
        "    \"南加州中国和平统一促进会联盟\", \"南加州促统论坛\", \"南加华人华侨联合总会\", \"圣地亚戈统促会\",\n",
        "    \"大华府象屿联谊会\", \"大波士顿和统会\", \"大洛杉矶中国统一促进会\", \"大纽约学生学者联谊会\",\n",
        "    \"大纽约统促会\", \"大芝加哥中国和平统一促进会\", \"大费城亚裔狮子会\", \"大费城侨学界华人社团联席会议\",\n",
        "    \"大费城华侨公会\", \"大费城统促会\", \"大费城长乐公会\", \"宾州和统会\", \"宾州福建同乡会\",\n",
        "    \"德州和统会\", \"德拉瓦和统会\", \"拉斯维加斯和统会\", \"新泽西和统会\", \"旧金山湾区统促会\",\n",
        "    \"波士顿和统会\", \"波特兰统促会\", \"洛杉矶华埠大联盟\", \"溫州同乡会\", \"纽约至孝督亲公所\",\n",
        "    \"纽约华人社团联席会\", \"纽约和统会\", \"罗省中华会馆\", \"美东华人社团联合总会\",\n",
        "    \"美东南福建同乡会\", \"美中友好促进会\", \"美中友好協会\", \"美中和平友好促进会\",\n",
        "    \"美中经济文化发展促进会\", \"美京统促会\", \"美华友好促统会\", \"美华总商会\", \"美国香港总商会\",\n",
        "    \"美国中华妇女联合会\", \"美国中国总商会\", \"美国亚洲人商会\", \"美国亚裔社团联合总会\",\n",
        "    \"美国侨学界社团联席会\", \"美国华人华侨联合总会\", \"美华侨\", \"美国华人华侨联谊会\",\n",
        "    \"美国华人社团联会总会\", \"美国华人联盟\", \"美国华州中国统一促进会\", \"美国宾州中国和平统一促进会\",\n",
        "    \"美国广西侨胞联合会\", \"美国福州十邑同乡会\", \"美国福建会馆\", \"美国福建侨联总会\",\n",
        "    \"美国福建同乡会\", \"美國福建同鄉會\", \"美国福建妇女友好联盟总会\", \"美国福建猴屿联谊会\",\n",
        "    \"美国连江同乡会\", \"美国长乐社团联盟总会\", \"美国闽台总商会\", \"美國大唐會館\", \"美国大唐会馆\",\n",
        "    \"美國福建會館\", \"美國廣州同學聯合總會\", \"美国广州同学联合总会\", \"美國美中文化交流促進會\",\n",
        "    \"美国美中文化交流促进会\", \"美洲中国统一促进会联合总会\", \"美洲青年和统会\", \"美西和统会\",\n",
        "    \"芝加哥一中会\", \"芝加哥统促会\", \"西雅图统促会\", \"费城东安公所\", \"费城崇正会\",\n",
        "    \"费城福建同乡会\", \"费城福建同乡联合会\", \"费城鹤山公所\", \"达拉斯和统会\", \"习近平指出\",\n",
        "    \"中国和平统一促进会\", \"中国和平统一促进联合会\", \"中国统一促进会\", \"中国统一促进会联合总会\",\n",
        "    \"会馆\", \"促统会\", \"促统联盟\", \"促统论坛\", \"华人社团联席会议\", \"友好促统会\",\n",
        "    \"同乡会\", \"和统会\", \"大聯盟\", \"总商会\", \"统促会\", \"统促进会联合会\",\n",
        "    \"联总会\", \"联谊会\", \"联合总会\", \"华人华侨联合总会\", \"华人华侨联会\",\n",
        "    \"休斯顿中国和平统一促进会\", \"全美统促进会联合会\", \"华盛顿和统会\", \"华盛顿统促会\",\n",
        "    \"南加统促联盟\", \"南加促统论坛\", \"纽约中国和平统一促进会\", \"芝加哥和统会\",\n",
        "    \"中国和平统一促进会\", \"促统会\", \"促統會\",\n",
        "    \"中华全国归国华侨联合会\", \"侨联\", \"僑聯\",\n",
        "    \"驻芝加哥总领事馆\", \"驻芝加哥总领馆\",\n",
        "    \"驻纽约总领事馆\", \"驻纽约总领馆\",\n",
        "    \"驻洛杉矶总领事馆\", \"驻洛杉矶总领馆\",\n",
        "    \"中国驻美国大使馆\",\n",
        "    \"中国共产党中央委员会统一战线工作部\", \"中央统战部\", \"统一战线工作部\", \"统战部\", \"统战\",\n",
        "    \"中共中央台湾工作办公室\", \"台湾工作办公室\", \"国务院台湾事务办公室\", \"国台办\", \"台湾事务办公室\",\n",
        "    \"国务院侨务办公室\", \"国侨办\", \"国务院侨办\",\n",
        "    \"福建省侨联\",\n",
        "    \"中国共产党中央委员会对外联络部\", \"中央对外联络部\",\n",
        "    \"国家互联网信息办公室\", \"中央网络安全和信息化委员会办公室\", \"中央网信办\",\n",
        "    \"人民政協\", \"中国人民政治协商会议\", \"政协\",\n",
        "    \"全国人民代表大会\", \"全国人大\",\n",
        "    \"全国人大华侨委员会\",\n",
        "    \"中华人民共和国外交部\", \"中国外交部\", \"外交部\",\n",
        "    \"国务院\",\n",
        "    \"国务院新闻办公室\",\n",
        "    \"工业和信息化部\", \"工信部\",\n",
        "    \"台灣自主同盟\", \"台湾自主同盟\",\n",
        "    \"中国国际贸易促进委员会\", \"贸促会\",\n",
        "    \"致公党\",\n",
        "    \"中国侨商联合会\"]\n",
        "def extract_text_from_html(html_content):\n",
        "    soup = BeautifulSoup(html_content, \"html.parser\")\n",
        "    for script_or_style in soup(['script', 'style']):\n",
        "        script_or_style.decompose()\n",
        "    text = soup.get_text(separator=' ', strip=True)\n",
        "    return re.sub(r'\\s+', ' ', text)\n",
        "\n",
        "with open(combined_file, \"r\", encoding=\"utf-8\") as combined:\n",
        "    content = combined.read()\n",
        "\n",
        "readable_text = extract_text_from_html(content)\n",
        "\n",
        "# Step 8: Keyword search and proximity analysis\n",
        "keyword_positions = {}\n",
        "for keyword in chinese_strings:\n",
        "    matches = [m.start() for m in re.finditer(re.escape(keyword), readable_text)]\n",
        "    if matches:\n",
        "        keyword_positions[keyword] = matches\n",
        "\n",
        "def calculate_word_distance(pos1, pos2, text):\n",
        "    between_text = text[min(pos1, pos2):max(pos1, pos2)]\n",
        "    words_between = between_text.split()\n",
        "    return len(words_between)\n",
        "\n",
        "# Count occurrences of each keyword pair\n",
        "proximity_data = []\n",
        "keyword_pair_count = {}\n",
        "\n",
        "for i, keyword1 in enumerate(chinese_strings):\n",
        "    for j, keyword2 in enumerate(chinese_strings):\n",
        "        if i < j and keyword1 in keyword_positions and keyword2 in keyword_positions:\n",
        "            for pos1 in keyword_positions[keyword1]:\n",
        "                for pos2 in keyword_positions[keyword2]:\n",
        "                    distance = calculate_word_distance(pos1, pos2, readable_text)\n",
        "                    if distance <= 1000:\n",
        "                        proximity_data.append([keyword1, keyword2, distance])\n",
        "                        pair_key = (keyword1, keyword2)\n",
        "                        if pair_key in keyword_pair_count:\n",
        "                            keyword_pair_count[pair_key] += 1\n",
        "                        else:\n",
        "                            keyword_pair_count[pair_key] = 1\n",
        "\n",
        "# Save results to CSV\n",
        "csv_file_path = 'keyword_proximity_results_www.chinanews.com.csv'\n",
        "with open(csv_file_path, mode='w', newline='', encoding='utf-8') as file:\n",
        "    writer = csv.writer(file)\n",
        "    writer.writerow([\"Keyword 1\", \"Keyword 2\", \"Word Distance\", \"Occurrences\"])\n",
        "    for row in proximity_data:\n",
        "        keyword1, keyword2, distance = row\n",
        "        occurrences = keyword_pair_count.get((keyword1, keyword2), 0)\n",
        "        writer.writerow([keyword1, keyword2, distance, occurrences])\n",
        "\n",
        "print(f\"Proximity analysis complete. Results saved in {csv_file_path}\")\n"
      ]
    },
    {
      "cell_type": "code",
      "execution_count": null,
      "metadata": {
        "id": "_wlPO5g7D_E1"
      },
      "outputs": [],
      "source": [
        ".import pandas as pd\n",
        "df = pd.read_csv(\"keyword_proximity_results_www.chinanews.com.csv\")\n",
        "mdf = df.groupby([\"Keyword 1\", \"Keyword 2\"]).mean()\n",
        "mdf.sort_values(by=\"Word Distance\", ascending=True).tail(100)\n",
        "mdf.sort_values(by=\"Word Distance\", ascending=True).to_csv(\"www.chinanews.com.csv\")"
      ]
    }
  ],
  "metadata": {
    "colab": {
      "provenance": []
    },
    "kernelspec": {
      "display_name": "Python 3",
      "name": "python3"
    },
    "language_info": {
      "name": "python"
    }
  },
  "nbformat": 4,
  "nbformat_minor": 0
}